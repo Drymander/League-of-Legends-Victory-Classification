{
 "cells": [
  {
   "cell_type": "markdown",
   "metadata": {},
   "source": [
    "# Final Project Submission"
   ]
  },
  {
   "cell_type": "markdown",
   "metadata": {},
   "source": [
    "Please fill out:\n",
    "* Student name: \n",
    "* Student pace: self paced / part time / full time:\n",
    "* Scheduled project review date/time: \n",
    "* Instructor name: \n",
    "* Blog post URL:\n",
    "* Video of 5-min Non-Technical Presentation:"
   ]
  },
  {
   "cell_type": "markdown",
   "metadata": {},
   "source": [
    "## TABLE OF CONTENTS "
   ]
  },
  {
   "cell_type": "markdown",
   "metadata": {},
   "source": [
    "*Click to jump to matching Markdown Header.*<br><br>\n",
    " \n",
    "- **[Introduction](#INTRODUCTION)<br>**\n",
    "- **[OBTAIN](#OBTAIN)**<br>\n",
    "- **[SCRUB](#SCRUB)**<br>\n",
    "- **[EXPLORE](#EXPLORE)**<br>\n",
    "- **[MODEL](#MODEL)**<br>\n",
    "- **[iNTERPRET](#iNTERPRET)**<br>\n",
    "- **[Conclusions/Recommendations](#CONCLUSIONS-&-RECOMMENDATIONS)<br>**\n",
    "___"
   ]
  },
  {
   "cell_type": "markdown",
   "metadata": {},
   "source": [
    "# INTRODUCTION"
   ]
  },
  {
   "cell_type": "markdown",
   "metadata": {},
   "source": [
    "> Explain the point of your project and what question you are trying to answer with your modeling.\n",
    "\n",
    "## Business Problem\n",
    "\n",
    "Summary of the business problem you are trying to solve, and the data questions that you plan to answer to solve them.\n",
    "\n",
    "***\n",
    "Questions to consider:\n",
    "* What are the business's pain points related to this project?\n",
    "* How did you pick the data analysis question(s) that you did?\n",
    "* Why are these questions important from a business perspective?\n",
    "***\n",
    "\n"
   ]
  },
  {
   "cell_type": "markdown",
   "metadata": {},
   "source": [
    "# OBTAIN"
   ]
  },
  {
   "cell_type": "markdown",
   "metadata": {},
   "source": [
    "## Data Understanding\n",
    "\n",
    "Describe the data being used for this project.\n",
    "***\n",
    "Questions to consider:\n",
    "* Where did the data come from, and how do they relate to the data analysis questions?\n",
    "* What do the data represent? Who is in the sample and what variables are included?\n",
    "* What is the target variable?\n",
    "* What are the properties of the variables you intend to use?\n",
    "***\n"
   ]
  },
  {
   "cell_type": "markdown",
   "metadata": {},
   "source": [
    "Importing packages for importing data and exploratory visual analysis."
   ]
  },
  {
   "cell_type": "code",
   "execution_count": 500,
   "metadata": {
    "ExecuteTime": {
     "end_time": "2021-05-21T18:48:37.362965Z",
     "start_time": "2021-05-21T18:48:37.336936Z"
    }
   },
   "outputs": [],
   "source": [
    "import pandas as pd\n",
    "import seaborn as sns\n",
    "# sns.set_theme(color_codes=True)\n",
    "import matplotlib.pyplot as plt\n",
    "import numpy as np\n",
    "\n",
    "## Preprocessing tools\n",
    "from sklearn.model_selection import train_test_split,cross_val_predict,cross_validate\n",
    "from sklearn.preprocessing import MinMaxScaler,StandardScaler,OneHotEncoder\n",
    "scaler = StandardScaler()\n",
    "from sklearn.impute import SimpleImputer\n",
    "from sklearn.pipeline import Pipeline\n",
    "from sklearn.compose import ColumnTransformer\n",
    "from imblearn.over_sampling import SMOTE,SMOTENC\n",
    "from sklearn import metrics\n",
    "\n",
    "## Models & Utils\n",
    "from sklearn.dummy import DummyClassifier\n",
    "from sklearn.linear_model import LogisticRegression,LogisticRegressionCV\n",
    "from sklearn.ensemble import RandomForestClassifier\n",
    "from sklearn.svm import SVC\n",
    "\n",
    "from time import time\n",
    "\n",
    "import pandas as pd\n",
    "import numpy as np\n",
    "import matplotlib.pyplot as plt\n",
    "import seaborn as sns\n",
    "from sklearn.preprocessing import StandardScaler\n",
    "from sklearn.model_selection import train_test_split\n",
    "from sklearn.linear_model import LogisticRegression\n",
    "from sklearn.metrics import classification_report\n",
    "from sklearn.model_selection import cross_val_score\n",
    "from xgboost import XGBClassifier\n",
    "import warnings\n",
    "warnings.filterwarnings(action='ignore') \n",
    "from sklearn.neighbors import KNeighborsClassifier\n",
    "from sklearn.tree import DecisionTreeClassifier\n",
    "from sklearn.svm import SVC\n",
    "from sklearn.ensemble import RandomForestClassifier,AdaBoostClassifier,BaggingClassifier,ExtraTreesClassifier\n",
    "from sklearn.decomposition import PCA\n",
    "from sklearn.model_selection import GridSearchCV\n",
    "\n",
    "from sklearn.metrics import plot_confusion_matrix\n",
    "\n",
    "from sklearn.metrics import accuracy_score, confusion_matrix, classification_report, precision_score, recall_score, f1_score"
   ]
  },
  {
   "cell_type": "code",
   "execution_count": 501,
   "metadata": {
    "ExecuteTime": {
     "end_time": "2021-05-21T18:52:23.968699Z",
     "start_time": "2021-05-21T18:52:23.933677Z"
    }
   },
   "outputs": [],
   "source": [
    "# Visualize the impact of a few key metrics on Hall of Fame inclusivity \n",
    "def comparative_graph(s):\n",
    "    cat, num = 'inducted', s\n",
    "    fig, ax = plt.subplots(nrows=1, ncols=3,  sharex=False, sharey=False, figsize=(20, 7))\n",
    "    fig.suptitle(s + ' vs Inducted', fontsize=20)\n",
    "\n",
    "    # Create a distribution graph to compare HOF inducted players against those not inducted by a certain metric.\n",
    "    ax[0].title.set_text('density')\n",
    "    for i in df[cat].unique():\n",
    "        sns.distplot(df[df[cat]==i][num], hist=False, label=i, ax=ax[0])\n",
    "    ax[0].grid(True)\n",
    "    \n",
    "    # Create a stacked bar graph containing 10 bins to help visualize the divide between the two classes of players.\n",
    "    ax[1].title.set_text('bins')\n",
    "    breaks = np.quantile(df[num], q=np.linspace(0,1,11))\n",
    "    tmp = df.groupby([cat, pd.cut(df[num], breaks, duplicates='drop')]).size().unstack().T\n",
    "    tmp = tmp[df[cat].unique()]\n",
    "    tmp[\"tot\"] = tmp.sum(axis=1)\n",
    "    for col in tmp.drop(\"tot\", axis=1).columns:\n",
    "         tmp[col] = tmp[col] / tmp[\"tot\"]\n",
    "    tmp.drop(\"tot\", axis=1).plot(kind='bar', stacked=True, ax=ax[1], legend=False, grid=True)\n",
    "    \n",
    "    # Create a boxplot to compare HOF inducted players against those not inducted and to visualize outliers.   \n",
    "    ax[2].title.set_text('outliers')\n",
    "    sns.boxplot(x=cat, y=num, data=df, ax=ax[2])\n",
    "    ax[2].grid(True)\n",
    "    plt.savefig(s)\n",
    "    plt.show();\n",
    "\n",
    "    \n",
    "# Create a new correlated dataframe with absolute value of a number,\n",
    "def high_corr(df):\n",
    "    df_highcorr = df.corr().abs().stack().reset_index().sort_values(0, ascending=False)\n",
    "    df_highcorr['Highly Correlated Pairs'] = list(zip(df_highcorr.level_0, df_highcorr.level_1))\n",
    "    df_highcorr.set_index(['Highly Correlated Pairs'], inplace = True)\n",
    "    df_highcorr.drop(columns=['level_1', 'level_0'], inplace = True)\n",
    "    df_highcorr.columns = ['Correlation']\n",
    "    df_highcorr.drop_duplicates(inplace=True)\n",
    "    return df_highcorr[(df_highcorr.Correlation>.7) & (df_highcorr.Correlation<1)]\n",
    "    \n",
    "# Create function used to find Precision, Recall, Accuracy, and F1 Scores.\n",
    "def print_metrics(labels, preds):\n",
    "    print(\"Precision Score: {}\".format(precision_score(labels, preds)))\n",
    "    print(\"Recall Score: {}\".format(recall_score(labels, preds)))\n",
    "    print(\"Accuracy Score: {}\".format(accuracy_score(labels, preds)))\n",
    "    print(\"F1 Score: {}\".format(f1_score(labels, preds)))\n",
    "    \n",
    "# Find the optimal K value for KNN models.\n",
    "def find_best_k(X_train, y_train, X_test, y_test, min_k=1, max_k=25):\n",
    "    best_k = 0\n",
    "    best_score = 0.0\n",
    "    for k in range(min_k, max_k+1, 2):\n",
    "        knn = KNeighborsClassifier(n_neighbors=k)\n",
    "        knn.fit(X_train, y_train)\n",
    "        preds = knn.predict(X_test)\n",
    "        f1 = f1_score(y_test, preds)\n",
    "        if f1 > best_score:\n",
    "            best_k = k \n",
    "            best_score = f1\n",
    "            \n",
    "    print(\"Best Value for k: {}\".format(best_k))\n",
    "    print(\"F1-Score: {}\".format(best_score))\n",
    "\n",
    "# Create a function that visualizes the confusion matrix for the model.    \n",
    "def plot_cm(model, normalize='true'):\n",
    "    fig, ax = plt.subplots(figsize=(8, 8))\n",
    "    plt.grid(False)\n",
    "    plot_confusion_matrix(model, X_test, y_test, cmap='Blues', ax=ax, normalize=normalize)\n",
    "    \n",
    "# Create function for performing log transformations.\n",
    "def log_transform(df,features):\n",
    "    '''Runs a log transformation on a feature\n",
    "    \n",
    "        @params\n",
    "        df is a pd.Dataframe\n",
    "        features is a list of columns to be considered\n",
    "        \n",
    "        @output\n",
    "        new log-transformed column\n",
    "    \n",
    "    '''\n",
    "    for feature in features:\n",
    "        df[feature + '_log'] = np.log(df[feature]+1)\n",
    "    return df "
   ]
  },
  {
   "cell_type": "code",
   "execution_count": 502,
   "metadata": {
    "ExecuteTime": {
     "end_time": "2021-05-21T18:48:38.061857Z",
     "start_time": "2021-05-21T18:48:37.896910Z"
    }
   },
   "outputs": [
    {
     "data": {
      "text/plain": [
       "Index(['gameId', 'blueWins', 'blueWardsPlaced', 'blueWardsDestroyed',\n",
       "       'blueFirstBlood', 'blueKills', 'blueDeaths', 'blueAssists',\n",
       "       'blueEliteMonsters', 'blueDragons', 'blueHeralds',\n",
       "       'blueTowersDestroyed', 'blueTotalGold', 'blueAvgLevel',\n",
       "       'blueTotalExperience', 'blueTotalMinionsKilled',\n",
       "       'blueTotalJungleMinionsKilled', 'blueGoldDiff', 'blueExperienceDiff',\n",
       "       'blueCSPerMin', 'blueGoldPerMin', 'redWardsPlaced', 'redWardsDestroyed',\n",
       "       'redFirstBlood', 'redKills', 'redDeaths', 'redAssists',\n",
       "       'redEliteMonsters', 'redDragons', 'redHeralds', 'redTowersDestroyed',\n",
       "       'redTotalGold', 'redAvgLevel', 'redTotalExperience',\n",
       "       'redTotalMinionsKilled', 'redTotalJungleMinionsKilled', 'redGoldDiff',\n",
       "       'redExperienceDiff', 'redCSPerMin', 'redGoldPerMin'],\n",
       "      dtype='object')"
      ]
     },
     "execution_count": 502,
     "metadata": {},
     "output_type": "execute_result"
    }
   ],
   "source": [
    "df = pd.read_csv('data/high_diamond_ranked_10min.csv')\n",
    "\n",
    "df.columns"
   ]
  },
  {
   "cell_type": "code",
   "execution_count": 503,
   "metadata": {
    "ExecuteTime": {
     "end_time": "2021-05-21T18:48:38.139831Z",
     "start_time": "2021-05-21T18:48:38.065855Z"
    }
   },
   "outputs": [
    {
     "data": {
      "text/html": [
       "<div>\n",
       "<style scoped>\n",
       "    .dataframe tbody tr th:only-of-type {\n",
       "        vertical-align: middle;\n",
       "    }\n",
       "\n",
       "    .dataframe tbody tr th {\n",
       "        vertical-align: top;\n",
       "    }\n",
       "\n",
       "    .dataframe thead th {\n",
       "        text-align: right;\n",
       "    }\n",
       "</style>\n",
       "<table border=\"1\" class=\"dataframe\">\n",
       "  <thead>\n",
       "    <tr style=\"text-align: right;\">\n",
       "      <th></th>\n",
       "      <th>gameId</th>\n",
       "      <th>blueWins</th>\n",
       "      <th>blueWardsPlaced</th>\n",
       "      <th>blueWardsDestroyed</th>\n",
       "      <th>blueFirstBlood</th>\n",
       "      <th>blueKills</th>\n",
       "      <th>blueDeaths</th>\n",
       "      <th>blueAssists</th>\n",
       "      <th>blueEliteMonsters</th>\n",
       "      <th>blueDragons</th>\n",
       "      <th>...</th>\n",
       "      <th>redTowersDestroyed</th>\n",
       "      <th>redTotalGold</th>\n",
       "      <th>redAvgLevel</th>\n",
       "      <th>redTotalExperience</th>\n",
       "      <th>redTotalMinionsKilled</th>\n",
       "      <th>redTotalJungleMinionsKilled</th>\n",
       "      <th>redGoldDiff</th>\n",
       "      <th>redExperienceDiff</th>\n",
       "      <th>redCSPerMin</th>\n",
       "      <th>redGoldPerMin</th>\n",
       "    </tr>\n",
       "  </thead>\n",
       "  <tbody>\n",
       "    <tr>\n",
       "      <th>0</th>\n",
       "      <td>4519157822</td>\n",
       "      <td>0</td>\n",
       "      <td>28</td>\n",
       "      <td>2</td>\n",
       "      <td>1</td>\n",
       "      <td>9</td>\n",
       "      <td>6</td>\n",
       "      <td>11</td>\n",
       "      <td>0</td>\n",
       "      <td>0</td>\n",
       "      <td>...</td>\n",
       "      <td>0</td>\n",
       "      <td>16567</td>\n",
       "      <td>6.8</td>\n",
       "      <td>17047</td>\n",
       "      <td>197</td>\n",
       "      <td>55</td>\n",
       "      <td>-643</td>\n",
       "      <td>8</td>\n",
       "      <td>19.7</td>\n",
       "      <td>1656.7</td>\n",
       "    </tr>\n",
       "    <tr>\n",
       "      <th>1</th>\n",
       "      <td>4523371949</td>\n",
       "      <td>0</td>\n",
       "      <td>12</td>\n",
       "      <td>1</td>\n",
       "      <td>0</td>\n",
       "      <td>5</td>\n",
       "      <td>5</td>\n",
       "      <td>5</td>\n",
       "      <td>0</td>\n",
       "      <td>0</td>\n",
       "      <td>...</td>\n",
       "      <td>1</td>\n",
       "      <td>17620</td>\n",
       "      <td>6.8</td>\n",
       "      <td>17438</td>\n",
       "      <td>240</td>\n",
       "      <td>52</td>\n",
       "      <td>2908</td>\n",
       "      <td>1173</td>\n",
       "      <td>24.0</td>\n",
       "      <td>1762.0</td>\n",
       "    </tr>\n",
       "    <tr>\n",
       "      <th>2</th>\n",
       "      <td>4521474530</td>\n",
       "      <td>0</td>\n",
       "      <td>15</td>\n",
       "      <td>0</td>\n",
       "      <td>0</td>\n",
       "      <td>7</td>\n",
       "      <td>11</td>\n",
       "      <td>4</td>\n",
       "      <td>1</td>\n",
       "      <td>1</td>\n",
       "      <td>...</td>\n",
       "      <td>0</td>\n",
       "      <td>17285</td>\n",
       "      <td>6.8</td>\n",
       "      <td>17254</td>\n",
       "      <td>203</td>\n",
       "      <td>28</td>\n",
       "      <td>1172</td>\n",
       "      <td>1033</td>\n",
       "      <td>20.3</td>\n",
       "      <td>1728.5</td>\n",
       "    </tr>\n",
       "    <tr>\n",
       "      <th>3</th>\n",
       "      <td>4524384067</td>\n",
       "      <td>0</td>\n",
       "      <td>43</td>\n",
       "      <td>1</td>\n",
       "      <td>0</td>\n",
       "      <td>4</td>\n",
       "      <td>5</td>\n",
       "      <td>5</td>\n",
       "      <td>1</td>\n",
       "      <td>0</td>\n",
       "      <td>...</td>\n",
       "      <td>0</td>\n",
       "      <td>16478</td>\n",
       "      <td>7.0</td>\n",
       "      <td>17961</td>\n",
       "      <td>235</td>\n",
       "      <td>47</td>\n",
       "      <td>1321</td>\n",
       "      <td>7</td>\n",
       "      <td>23.5</td>\n",
       "      <td>1647.8</td>\n",
       "    </tr>\n",
       "    <tr>\n",
       "      <th>4</th>\n",
       "      <td>4436033771</td>\n",
       "      <td>0</td>\n",
       "      <td>75</td>\n",
       "      <td>4</td>\n",
       "      <td>0</td>\n",
       "      <td>6</td>\n",
       "      <td>6</td>\n",
       "      <td>6</td>\n",
       "      <td>0</td>\n",
       "      <td>0</td>\n",
       "      <td>...</td>\n",
       "      <td>0</td>\n",
       "      <td>17404</td>\n",
       "      <td>7.0</td>\n",
       "      <td>18313</td>\n",
       "      <td>225</td>\n",
       "      <td>67</td>\n",
       "      <td>1004</td>\n",
       "      <td>-230</td>\n",
       "      <td>22.5</td>\n",
       "      <td>1740.4</td>\n",
       "    </tr>\n",
       "  </tbody>\n",
       "</table>\n",
       "<p>5 rows × 40 columns</p>\n",
       "</div>"
      ],
      "text/plain": [
       "       gameId  blueWins  blueWardsPlaced  blueWardsDestroyed  blueFirstBlood  \\\n",
       "0  4519157822         0               28                   2               1   \n",
       "1  4523371949         0               12                   1               0   \n",
       "2  4521474530         0               15                   0               0   \n",
       "3  4524384067         0               43                   1               0   \n",
       "4  4436033771         0               75                   4               0   \n",
       "\n",
       "   blueKills  blueDeaths  blueAssists  blueEliteMonsters  blueDragons  ...  \\\n",
       "0          9           6           11                  0            0  ...   \n",
       "1          5           5            5                  0            0  ...   \n",
       "2          7          11            4                  1            1  ...   \n",
       "3          4           5            5                  1            0  ...   \n",
       "4          6           6            6                  0            0  ...   \n",
       "\n",
       "   redTowersDestroyed  redTotalGold  redAvgLevel  redTotalExperience  \\\n",
       "0                   0         16567          6.8               17047   \n",
       "1                   1         17620          6.8               17438   \n",
       "2                   0         17285          6.8               17254   \n",
       "3                   0         16478          7.0               17961   \n",
       "4                   0         17404          7.0               18313   \n",
       "\n",
       "   redTotalMinionsKilled  redTotalJungleMinionsKilled  redGoldDiff  \\\n",
       "0                    197                           55         -643   \n",
       "1                    240                           52         2908   \n",
       "2                    203                           28         1172   \n",
       "3                    235                           47         1321   \n",
       "4                    225                           67         1004   \n",
       "\n",
       "   redExperienceDiff  redCSPerMin  redGoldPerMin  \n",
       "0                  8         19.7         1656.7  \n",
       "1               1173         24.0         1762.0  \n",
       "2               1033         20.3         1728.5  \n",
       "3                  7         23.5         1647.8  \n",
       "4               -230         22.5         1740.4  \n",
       "\n",
       "[5 rows x 40 columns]"
      ]
     },
     "execution_count": 503,
     "metadata": {},
     "output_type": "execute_result"
    }
   ],
   "source": [
    "df.head()"
   ]
  },
  {
   "cell_type": "code",
   "execution_count": 504,
   "metadata": {
    "ExecuteTime": {
     "end_time": "2021-05-21T18:48:38.201812Z",
     "start_time": "2021-05-21T18:48:38.160825Z"
    }
   },
   "outputs": [
    {
     "name": "stdout",
     "output_type": "stream",
     "text": [
      "<class 'pandas.core.frame.DataFrame'>\n",
      "RangeIndex: 9879 entries, 0 to 9878\n",
      "Data columns (total 40 columns):\n",
      " #   Column                        Non-Null Count  Dtype  \n",
      "---  ------                        --------------  -----  \n",
      " 0   gameId                        9879 non-null   int64  \n",
      " 1   blueWins                      9879 non-null   int64  \n",
      " 2   blueWardsPlaced               9879 non-null   int64  \n",
      " 3   blueWardsDestroyed            9879 non-null   int64  \n",
      " 4   blueFirstBlood                9879 non-null   int64  \n",
      " 5   blueKills                     9879 non-null   int64  \n",
      " 6   blueDeaths                    9879 non-null   int64  \n",
      " 7   blueAssists                   9879 non-null   int64  \n",
      " 8   blueEliteMonsters             9879 non-null   int64  \n",
      " 9   blueDragons                   9879 non-null   int64  \n",
      " 10  blueHeralds                   9879 non-null   int64  \n",
      " 11  blueTowersDestroyed           9879 non-null   int64  \n",
      " 12  blueTotalGold                 9879 non-null   int64  \n",
      " 13  blueAvgLevel                  9879 non-null   float64\n",
      " 14  blueTotalExperience           9879 non-null   int64  \n",
      " 15  blueTotalMinionsKilled        9879 non-null   int64  \n",
      " 16  blueTotalJungleMinionsKilled  9879 non-null   int64  \n",
      " 17  blueGoldDiff                  9879 non-null   int64  \n",
      " 18  blueExperienceDiff            9879 non-null   int64  \n",
      " 19  blueCSPerMin                  9879 non-null   float64\n",
      " 20  blueGoldPerMin                9879 non-null   float64\n",
      " 21  redWardsPlaced                9879 non-null   int64  \n",
      " 22  redWardsDestroyed             9879 non-null   int64  \n",
      " 23  redFirstBlood                 9879 non-null   int64  \n",
      " 24  redKills                      9879 non-null   int64  \n",
      " 25  redDeaths                     9879 non-null   int64  \n",
      " 26  redAssists                    9879 non-null   int64  \n",
      " 27  redEliteMonsters              9879 non-null   int64  \n",
      " 28  redDragons                    9879 non-null   int64  \n",
      " 29  redHeralds                    9879 non-null   int64  \n",
      " 30  redTowersDestroyed            9879 non-null   int64  \n",
      " 31  redTotalGold                  9879 non-null   int64  \n",
      " 32  redAvgLevel                   9879 non-null   float64\n",
      " 33  redTotalExperience            9879 non-null   int64  \n",
      " 34  redTotalMinionsKilled         9879 non-null   int64  \n",
      " 35  redTotalJungleMinionsKilled   9879 non-null   int64  \n",
      " 36  redGoldDiff                   9879 non-null   int64  \n",
      " 37  redExperienceDiff             9879 non-null   int64  \n",
      " 38  redCSPerMin                   9879 non-null   float64\n",
      " 39  redGoldPerMin                 9879 non-null   float64\n",
      "dtypes: float64(6), int64(34)\n",
      "memory usage: 3.0 MB\n"
     ]
    }
   ],
   "source": [
    "df.info()"
   ]
  },
  {
   "cell_type": "code",
   "execution_count": 505,
   "metadata": {
    "ExecuteTime": {
     "end_time": "2021-05-21T18:48:38.736339Z",
     "start_time": "2021-05-21T18:48:38.204812Z"
    }
   },
   "outputs": [
    {
     "data": {
      "text/html": [
       "<div>\n",
       "<style scoped>\n",
       "    .dataframe tbody tr th:only-of-type {\n",
       "        vertical-align: middle;\n",
       "    }\n",
       "\n",
       "    .dataframe tbody tr th {\n",
       "        vertical-align: top;\n",
       "    }\n",
       "\n",
       "    .dataframe thead th {\n",
       "        text-align: right;\n",
       "    }\n",
       "</style>\n",
       "<table border=\"1\" class=\"dataframe\">\n",
       "  <thead>\n",
       "    <tr style=\"text-align: right;\">\n",
       "      <th></th>\n",
       "      <th>gameId</th>\n",
       "      <th>blueWins</th>\n",
       "      <th>blueWardsPlaced</th>\n",
       "      <th>blueWardsDestroyed</th>\n",
       "      <th>blueFirstBlood</th>\n",
       "      <th>blueKills</th>\n",
       "      <th>blueDeaths</th>\n",
       "      <th>blueAssists</th>\n",
       "      <th>blueEliteMonsters</th>\n",
       "      <th>blueDragons</th>\n",
       "      <th>...</th>\n",
       "      <th>redTowersDestroyed</th>\n",
       "      <th>redTotalGold</th>\n",
       "      <th>redAvgLevel</th>\n",
       "      <th>redTotalExperience</th>\n",
       "      <th>redTotalMinionsKilled</th>\n",
       "      <th>redTotalJungleMinionsKilled</th>\n",
       "      <th>redGoldDiff</th>\n",
       "      <th>redExperienceDiff</th>\n",
       "      <th>redCSPerMin</th>\n",
       "      <th>redGoldPerMin</th>\n",
       "    </tr>\n",
       "  </thead>\n",
       "  <tbody>\n",
       "    <tr>\n",
       "      <th>count</th>\n",
       "      <td>9.879000e+03</td>\n",
       "      <td>9879.000000</td>\n",
       "      <td>9879.000000</td>\n",
       "      <td>9879.000000</td>\n",
       "      <td>9879.000000</td>\n",
       "      <td>9879.000000</td>\n",
       "      <td>9879.000000</td>\n",
       "      <td>9879.000000</td>\n",
       "      <td>9879.000000</td>\n",
       "      <td>9879.000000</td>\n",
       "      <td>...</td>\n",
       "      <td>9879.000000</td>\n",
       "      <td>9879.000000</td>\n",
       "      <td>9879.000000</td>\n",
       "      <td>9879.000000</td>\n",
       "      <td>9879.000000</td>\n",
       "      <td>9879.000000</td>\n",
       "      <td>9879.000000</td>\n",
       "      <td>9879.000000</td>\n",
       "      <td>9879.000000</td>\n",
       "      <td>9879.000000</td>\n",
       "    </tr>\n",
       "    <tr>\n",
       "      <th>mean</th>\n",
       "      <td>4.500084e+09</td>\n",
       "      <td>0.499038</td>\n",
       "      <td>22.288288</td>\n",
       "      <td>2.824881</td>\n",
       "      <td>0.504808</td>\n",
       "      <td>6.183925</td>\n",
       "      <td>6.137666</td>\n",
       "      <td>6.645106</td>\n",
       "      <td>0.549954</td>\n",
       "      <td>0.361980</td>\n",
       "      <td>...</td>\n",
       "      <td>0.043021</td>\n",
       "      <td>16489.041401</td>\n",
       "      <td>6.925316</td>\n",
       "      <td>17961.730438</td>\n",
       "      <td>217.349226</td>\n",
       "      <td>51.313088</td>\n",
       "      <td>-14.414111</td>\n",
       "      <td>33.620306</td>\n",
       "      <td>21.734923</td>\n",
       "      <td>1648.904140</td>\n",
       "    </tr>\n",
       "    <tr>\n",
       "      <th>std</th>\n",
       "      <td>2.757328e+07</td>\n",
       "      <td>0.500024</td>\n",
       "      <td>18.019177</td>\n",
       "      <td>2.174998</td>\n",
       "      <td>0.500002</td>\n",
       "      <td>3.011028</td>\n",
       "      <td>2.933818</td>\n",
       "      <td>4.064520</td>\n",
       "      <td>0.625527</td>\n",
       "      <td>0.480597</td>\n",
       "      <td>...</td>\n",
       "      <td>0.216900</td>\n",
       "      <td>1490.888406</td>\n",
       "      <td>0.305311</td>\n",
       "      <td>1198.583912</td>\n",
       "      <td>21.911668</td>\n",
       "      <td>10.027885</td>\n",
       "      <td>2453.349179</td>\n",
       "      <td>1920.370438</td>\n",
       "      <td>2.191167</td>\n",
       "      <td>149.088841</td>\n",
       "    </tr>\n",
       "    <tr>\n",
       "      <th>min</th>\n",
       "      <td>4.295358e+09</td>\n",
       "      <td>0.000000</td>\n",
       "      <td>5.000000</td>\n",
       "      <td>0.000000</td>\n",
       "      <td>0.000000</td>\n",
       "      <td>0.000000</td>\n",
       "      <td>0.000000</td>\n",
       "      <td>0.000000</td>\n",
       "      <td>0.000000</td>\n",
       "      <td>0.000000</td>\n",
       "      <td>...</td>\n",
       "      <td>0.000000</td>\n",
       "      <td>11212.000000</td>\n",
       "      <td>4.800000</td>\n",
       "      <td>10465.000000</td>\n",
       "      <td>107.000000</td>\n",
       "      <td>4.000000</td>\n",
       "      <td>-11467.000000</td>\n",
       "      <td>-8348.000000</td>\n",
       "      <td>10.700000</td>\n",
       "      <td>1121.200000</td>\n",
       "    </tr>\n",
       "    <tr>\n",
       "      <th>25%</th>\n",
       "      <td>4.483301e+09</td>\n",
       "      <td>0.000000</td>\n",
       "      <td>14.000000</td>\n",
       "      <td>1.000000</td>\n",
       "      <td>0.000000</td>\n",
       "      <td>4.000000</td>\n",
       "      <td>4.000000</td>\n",
       "      <td>4.000000</td>\n",
       "      <td>0.000000</td>\n",
       "      <td>0.000000</td>\n",
       "      <td>...</td>\n",
       "      <td>0.000000</td>\n",
       "      <td>15427.500000</td>\n",
       "      <td>6.800000</td>\n",
       "      <td>17209.500000</td>\n",
       "      <td>203.000000</td>\n",
       "      <td>44.000000</td>\n",
       "      <td>-1596.000000</td>\n",
       "      <td>-1212.000000</td>\n",
       "      <td>20.300000</td>\n",
       "      <td>1542.750000</td>\n",
       "    </tr>\n",
       "    <tr>\n",
       "      <th>50%</th>\n",
       "      <td>4.510920e+09</td>\n",
       "      <td>0.000000</td>\n",
       "      <td>16.000000</td>\n",
       "      <td>3.000000</td>\n",
       "      <td>1.000000</td>\n",
       "      <td>6.000000</td>\n",
       "      <td>6.000000</td>\n",
       "      <td>6.000000</td>\n",
       "      <td>0.000000</td>\n",
       "      <td>0.000000</td>\n",
       "      <td>...</td>\n",
       "      <td>0.000000</td>\n",
       "      <td>16378.000000</td>\n",
       "      <td>7.000000</td>\n",
       "      <td>17974.000000</td>\n",
       "      <td>218.000000</td>\n",
       "      <td>51.000000</td>\n",
       "      <td>-14.000000</td>\n",
       "      <td>28.000000</td>\n",
       "      <td>21.800000</td>\n",
       "      <td>1637.800000</td>\n",
       "    </tr>\n",
       "    <tr>\n",
       "      <th>75%</th>\n",
       "      <td>4.521733e+09</td>\n",
       "      <td>1.000000</td>\n",
       "      <td>20.000000</td>\n",
       "      <td>4.000000</td>\n",
       "      <td>1.000000</td>\n",
       "      <td>8.000000</td>\n",
       "      <td>8.000000</td>\n",
       "      <td>9.000000</td>\n",
       "      <td>1.000000</td>\n",
       "      <td>1.000000</td>\n",
       "      <td>...</td>\n",
       "      <td>0.000000</td>\n",
       "      <td>17418.500000</td>\n",
       "      <td>7.200000</td>\n",
       "      <td>18764.500000</td>\n",
       "      <td>233.000000</td>\n",
       "      <td>57.000000</td>\n",
       "      <td>1585.500000</td>\n",
       "      <td>1290.500000</td>\n",
       "      <td>23.300000</td>\n",
       "      <td>1741.850000</td>\n",
       "    </tr>\n",
       "    <tr>\n",
       "      <th>max</th>\n",
       "      <td>4.527991e+09</td>\n",
       "      <td>1.000000</td>\n",
       "      <td>250.000000</td>\n",
       "      <td>27.000000</td>\n",
       "      <td>1.000000</td>\n",
       "      <td>22.000000</td>\n",
       "      <td>22.000000</td>\n",
       "      <td>29.000000</td>\n",
       "      <td>2.000000</td>\n",
       "      <td>1.000000</td>\n",
       "      <td>...</td>\n",
       "      <td>2.000000</td>\n",
       "      <td>22732.000000</td>\n",
       "      <td>8.200000</td>\n",
       "      <td>22269.000000</td>\n",
       "      <td>289.000000</td>\n",
       "      <td>92.000000</td>\n",
       "      <td>10830.000000</td>\n",
       "      <td>9333.000000</td>\n",
       "      <td>28.900000</td>\n",
       "      <td>2273.200000</td>\n",
       "    </tr>\n",
       "  </tbody>\n",
       "</table>\n",
       "<p>8 rows × 40 columns</p>\n",
       "</div>"
      ],
      "text/plain": [
       "             gameId     blueWins  blueWardsPlaced  blueWardsDestroyed  \\\n",
       "count  9.879000e+03  9879.000000      9879.000000         9879.000000   \n",
       "mean   4.500084e+09     0.499038        22.288288            2.824881   \n",
       "std    2.757328e+07     0.500024        18.019177            2.174998   \n",
       "min    4.295358e+09     0.000000         5.000000            0.000000   \n",
       "25%    4.483301e+09     0.000000        14.000000            1.000000   \n",
       "50%    4.510920e+09     0.000000        16.000000            3.000000   \n",
       "75%    4.521733e+09     1.000000        20.000000            4.000000   \n",
       "max    4.527991e+09     1.000000       250.000000           27.000000   \n",
       "\n",
       "       blueFirstBlood    blueKills   blueDeaths  blueAssists  \\\n",
       "count     9879.000000  9879.000000  9879.000000  9879.000000   \n",
       "mean         0.504808     6.183925     6.137666     6.645106   \n",
       "std          0.500002     3.011028     2.933818     4.064520   \n",
       "min          0.000000     0.000000     0.000000     0.000000   \n",
       "25%          0.000000     4.000000     4.000000     4.000000   \n",
       "50%          1.000000     6.000000     6.000000     6.000000   \n",
       "75%          1.000000     8.000000     8.000000     9.000000   \n",
       "max          1.000000    22.000000    22.000000    29.000000   \n",
       "\n",
       "       blueEliteMonsters  blueDragons  ...  redTowersDestroyed  redTotalGold  \\\n",
       "count        9879.000000  9879.000000  ...         9879.000000   9879.000000   \n",
       "mean            0.549954     0.361980  ...            0.043021  16489.041401   \n",
       "std             0.625527     0.480597  ...            0.216900   1490.888406   \n",
       "min             0.000000     0.000000  ...            0.000000  11212.000000   \n",
       "25%             0.000000     0.000000  ...            0.000000  15427.500000   \n",
       "50%             0.000000     0.000000  ...            0.000000  16378.000000   \n",
       "75%             1.000000     1.000000  ...            0.000000  17418.500000   \n",
       "max             2.000000     1.000000  ...            2.000000  22732.000000   \n",
       "\n",
       "       redAvgLevel  redTotalExperience  redTotalMinionsKilled  \\\n",
       "count  9879.000000         9879.000000            9879.000000   \n",
       "mean      6.925316        17961.730438             217.349226   \n",
       "std       0.305311         1198.583912              21.911668   \n",
       "min       4.800000        10465.000000             107.000000   \n",
       "25%       6.800000        17209.500000             203.000000   \n",
       "50%       7.000000        17974.000000             218.000000   \n",
       "75%       7.200000        18764.500000             233.000000   \n",
       "max       8.200000        22269.000000             289.000000   \n",
       "\n",
       "       redTotalJungleMinionsKilled   redGoldDiff  redExperienceDiff  \\\n",
       "count                  9879.000000   9879.000000        9879.000000   \n",
       "mean                     51.313088    -14.414111          33.620306   \n",
       "std                      10.027885   2453.349179        1920.370438   \n",
       "min                       4.000000 -11467.000000       -8348.000000   \n",
       "25%                      44.000000  -1596.000000       -1212.000000   \n",
       "50%                      51.000000    -14.000000          28.000000   \n",
       "75%                      57.000000   1585.500000        1290.500000   \n",
       "max                      92.000000  10830.000000        9333.000000   \n",
       "\n",
       "       redCSPerMin  redGoldPerMin  \n",
       "count  9879.000000    9879.000000  \n",
       "mean     21.734923    1648.904140  \n",
       "std       2.191167     149.088841  \n",
       "min      10.700000    1121.200000  \n",
       "25%      20.300000    1542.750000  \n",
       "50%      21.800000    1637.800000  \n",
       "75%      23.300000    1741.850000  \n",
       "max      28.900000    2273.200000  \n",
       "\n",
       "[8 rows x 40 columns]"
      ]
     },
     "execution_count": 505,
     "metadata": {},
     "output_type": "execute_result"
    }
   ],
   "source": [
    "df.describe()"
   ]
  },
  {
   "cell_type": "code",
   "execution_count": 506,
   "metadata": {
    "ExecuteTime": {
     "end_time": "2021-05-21T18:48:41.104314Z",
     "start_time": "2021-05-21T18:48:38.743332Z"
    }
   },
   "outputs": [
    {
     "data": {
      "text/plain": [
       "<AxesSubplot:>"
      ]
     },
     "execution_count": 506,
     "metadata": {},
     "output_type": "execute_result"
    },
    {
     "data": {
      "image/png": "[encoded data removed]",
      "text/plain": [
       "<Figure size 288x720 with 2 Axes>"
      ]
     },
     "metadata": {
      "needs_background": "light"
     },
     "output_type": "display_data"
    }
   ],
   "source": [
    "fig = plt.figure(figsize=(4, 10))\n",
    "sns.heatmap(df.corr()[['blueWins']], annot=True)"
   ]
  },
  {
   "cell_type": "code",
   "execution_count": 507,
   "metadata": {
    "ExecuteTime": {
     "end_time": "2021-05-21T18:48:42.246671Z",
     "start_time": "2021-05-21T18:48:41.112052Z"
    }
   },
   "outputs": [
    {
     "data": {
      "text/plain": [
       "<AxesSubplot:xlabel='blueGoldDiff', ylabel='Count'>"
      ]
     },
     "execution_count": 507,
     "metadata": {},
     "output_type": "execute_result"
    },
    {
     "data": {
      "image/png": "[encoded data removed]",
      "text/plain": [
       "<Figure size 432x288 with 1 Axes>"
      ]
     },
     "metadata": {
      "needs_background": "light"
     },
     "output_type": "display_data"
    }
   ],
   "source": [
    "sns.histplot(x='blueGoldDiff', data=df, hue='blueWins', palette='RdBu', kde=True)"
   ]
  },
  {
   "cell_type": "code",
   "execution_count": 508,
   "metadata": {
    "ExecuteTime": {
     "end_time": "2021-05-21T18:48:42.922996Z",
     "start_time": "2021-05-21T18:48:42.250016Z"
    }
   },
   "outputs": [
    {
     "data": {
      "text/plain": [
       "<AxesSubplot:xlabel='blueKills', ylabel='Count'>"
      ]
     },
     "execution_count": 508,
     "metadata": {},
     "output_type": "execute_result"
    },
    {
     "data": {
      "image/png": "[encoded data removed]",
      "text/plain": [
       "<Figure size 432x288 with 1 Axes>"
      ]
     },
     "metadata": {
      "needs_background": "light"
     },
     "output_type": "display_data"
    }
   ],
   "source": [
    "sns.histplot(x='blueKills', data=df, hue='blueWins', palette='RdBu', kde=True, bins=8)"
   ]
  },
  {
   "cell_type": "code",
   "execution_count": null,
   "metadata": {},
   "outputs": [],
   "source": []
  },
  {
   "cell_type": "code",
   "execution_count": null,
   "metadata": {},
   "outputs": [],
   "source": []
  },
  {
   "cell_type": "markdown",
   "metadata": {},
   "source": [
    "# SCRUB"
   ]
  },
  {
   "cell_type": "markdown",
   "metadata": {},
   "source": [
    "## Data Preparation\n",
    "\n",
    "Describe and justify the process for preparing the data for analysis.\n",
    "\n",
    "***\n",
    "Questions to consider:\n",
    "* Were there variables you dropped or created?\n",
    "* How did you address missing values or outliers?\n",
    "* Why are these choices appropriate given the data and the business problem?\n",
    "***"
   ]
  },
  {
   "cell_type": "markdown",
   "metadata": {},
   "source": [
    "After initial data understanding, we are confident that the data we're using is sound.  No NA or missing values were discovered.\n",
    "\n",
    "Let's take a look at the columns:"
   ]
  },
  {
   "cell_type": "code",
   "execution_count": 509,
   "metadata": {
    "ExecuteTime": {
     "end_time": "2021-05-21T18:48:42.938175Z",
     "start_time": "2021-05-21T18:48:42.925995Z"
    }
   },
   "outputs": [
    {
     "data": {
      "text/plain": [
       "Index(['gameId', 'blueWins', 'blueWardsPlaced', 'blueWardsDestroyed',\n",
       "       'blueFirstBlood', 'blueKills', 'blueDeaths', 'blueAssists',\n",
       "       'blueEliteMonsters', 'blueDragons', 'blueHeralds',\n",
       "       'blueTowersDestroyed', 'blueTotalGold', 'blueAvgLevel',\n",
       "       'blueTotalExperience', 'blueTotalMinionsKilled',\n",
       "       'blueTotalJungleMinionsKilled', 'blueGoldDiff', 'blueExperienceDiff',\n",
       "       'blueCSPerMin', 'blueGoldPerMin', 'redWardsPlaced', 'redWardsDestroyed',\n",
       "       'redFirstBlood', 'redKills', 'redDeaths', 'redAssists',\n",
       "       'redEliteMonsters', 'redDragons', 'redHeralds', 'redTowersDestroyed',\n",
       "       'redTotalGold', 'redAvgLevel', 'redTotalExperience',\n",
       "       'redTotalMinionsKilled', 'redTotalJungleMinionsKilled', 'redGoldDiff',\n",
       "       'redExperienceDiff', 'redCSPerMin', 'redGoldPerMin'],\n",
       "      dtype='object')"
      ]
     },
     "execution_count": 509,
     "metadata": {},
     "output_type": "execute_result"
    }
   ],
   "source": [
    "df.columns"
   ]
  },
  {
   "cell_type": "markdown",
   "metadata": {},
   "source": [
    "There are a few columns that can be removed entirely and a few that can be combined into categorical variables."
   ]
  },
  {
   "cell_type": "markdown",
   "metadata": {
    "ExecuteTime": {
     "end_time": "2021-05-18T20:25:07.767383Z",
     "start_time": "2021-05-18T20:25:07.757387Z"
    }
   },
   "source": [
    "### First Blood\n",
    "\n",
    "'First Blood' is awarded to the team who gets the first kill in the game.  Both blueFirstBlood and redFirstBlood are binary and inversely related.  If Blue wins First Blood, blueFirstBlood will be recorded as 1 and redFirstBlood will be recorded as 0.  \n",
    "\n",
    "We can merge these columns into one."
   ]
  },
  {
   "cell_type": "code",
   "execution_count": 510,
   "metadata": {
    "ExecuteTime": {
     "end_time": "2021-05-21T18:48:42.953497Z",
     "start_time": "2021-05-21T18:48:42.941991Z"
    }
   },
   "outputs": [
    {
     "data": {
      "text/plain": [
       "0       1\n",
       "1       0\n",
       "2       0\n",
       "3       0\n",
       "4       0\n",
       "       ..\n",
       "9874    1\n",
       "9875    0\n",
       "9876    0\n",
       "9877    1\n",
       "9878    1\n",
       "Name: blueFirstBlood, Length: 9879, dtype: int64"
      ]
     },
     "execution_count": 510,
     "metadata": {},
     "output_type": "execute_result"
    }
   ],
   "source": [
    "df['blueFirstBlood']"
   ]
  },
  {
   "cell_type": "code",
   "execution_count": 511,
   "metadata": {
    "ExecuteTime": {
     "end_time": "2021-05-21T18:48:42.984984Z",
     "start_time": "2021-05-21T18:48:42.956496Z"
    }
   },
   "outputs": [
    {
     "data": {
      "text/plain": [
       "0       Blue\n",
       "1        Red\n",
       "2        Red\n",
       "3        Red\n",
       "4        Red\n",
       "        ... \n",
       "9874    Blue\n",
       "9875     Red\n",
       "9876     Red\n",
       "9877    Blue\n",
       "9878    Blue\n",
       "Name: firstBlood, Length: 9879, dtype: object"
      ]
     },
     "execution_count": 511,
     "metadata": {},
     "output_type": "execute_result"
    }
   ],
   "source": [
    "firstBlood = []\n",
    "\n",
    "for item in df['blueFirstBlood']:\n",
    "    if item == 1:\n",
    "        firstBlood.append('Blue')\n",
    "    else:\n",
    "        firstBlood.append('Red')\n",
    "        \n",
    "df['firstBlood'] = firstBlood\n",
    "\n",
    "df['firstBlood']"
   ]
  },
  {
   "cell_type": "markdown",
   "metadata": {},
   "source": [
    "We can discard blueFirstBlood and redFirstBlood"
   ]
  },
  {
   "cell_type": "code",
   "execution_count": 512,
   "metadata": {
    "ExecuteTime": {
     "end_time": "2021-05-21T18:48:43.000974Z",
     "start_time": "2021-05-21T18:48:42.991986Z"
    }
   },
   "outputs": [],
   "source": [
    "del df['blueFirstBlood']\n",
    "del df['redFirstBlood']"
   ]
  },
  {
   "cell_type": "markdown",
   "metadata": {},
   "source": [
    "### Kills & Deaths\n",
    "\n",
    "blueKills is inversely related with redDeaths, and redKills is inversely related with blueDeaths since the Blue team can only kill Red players and vice versa.  blueDeaths and redDeaths can both be removed, leaving kills intact will preserve this information."
   ]
  },
  {
   "cell_type": "code",
   "execution_count": 513,
   "metadata": {
    "ExecuteTime": {
     "end_time": "2021-05-21T18:48:43.016969Z",
     "start_time": "2021-05-21T18:48:43.003973Z"
    }
   },
   "outputs": [],
   "source": [
    "del df['blueDeaths']\n",
    "del df['redDeaths']"
   ]
  },
  {
   "cell_type": "markdown",
   "metadata": {},
   "source": [
    "### Dragon & Herald\n",
    "\n",
    "While this wouldn't hold true for LoL data spanning the entire length of each game, we know that there is only one opportunity to kill both the Dragon and the Harold in the first 10 minutes of each match.  Unlike firstBlood where the action always occurs in the first 10 minutes (at least for the matches in our dataset), each dragon or herald can be killed only once or not at all.\n",
    "\n",
    "Therefore, dragon and herald can be categorized as 'Blue,' 'Red,' or 'None.'"
   ]
  },
  {
   "cell_type": "code",
   "execution_count": 514,
   "metadata": {
    "ExecuteTime": {
     "end_time": "2021-05-21T18:48:43.051967Z",
     "start_time": "2021-05-21T18:48:43.020968Z"
    }
   },
   "outputs": [],
   "source": [
    "dragon_list = []\n",
    "\n",
    "dragon_kill = df['blueDragons'] - df['redDragons']\n",
    "\n",
    "for item in dragon_kill:\n",
    "    if item == 1:\n",
    "        dragon_list.append('Blue')\n",
    "    elif item == -1:\n",
    "        dragon_list.append('Red')\n",
    "    else:\n",
    "        dragon_list.append('No Dragon')\n",
    "        \n",
    "df['dragon'] = dragon_list"
   ]
  },
  {
   "cell_type": "markdown",
   "metadata": {},
   "source": [
    "blueDragons and redDragons can be removed:"
   ]
  },
  {
   "cell_type": "code",
   "execution_count": 515,
   "metadata": {
    "ExecuteTime": {
     "end_time": "2021-05-21T18:48:43.093945Z",
     "start_time": "2021-05-21T18:48:43.066955Z"
    }
   },
   "outputs": [],
   "source": [
    "del df['blueDragons']\n",
    "del df['redDragons']"
   ]
  },
  {
   "cell_type": "markdown",
   "metadata": {},
   "source": [
    "We can reuse this code for the herald feature:"
   ]
  },
  {
   "cell_type": "code",
   "execution_count": 516,
   "metadata": {
    "ExecuteTime": {
     "end_time": "2021-05-21T18:48:43.124936Z",
     "start_time": "2021-05-21T18:48:43.097967Z"
    }
   },
   "outputs": [],
   "source": [
    "herald_list = []\n",
    "\n",
    "herald_kill = df['blueHeralds'] - df['redHeralds']\n",
    "\n",
    "for item in herald_kill:\n",
    "    if item == 1:\n",
    "        herald_list.append('Blue')\n",
    "    elif item == -1:\n",
    "        herald_list.append('Red')\n",
    "    else:\n",
    "        herald_list.append('No Herald')\n",
    "        \n",
    "df['herald'] = herald_list"
   ]
  },
  {
   "cell_type": "code",
   "execution_count": 517,
   "metadata": {
    "ExecuteTime": {
     "end_time": "2021-05-21T18:48:43.140932Z",
     "start_time": "2021-05-21T18:48:43.128024Z"
    }
   },
   "outputs": [],
   "source": [
    "del df['blueHeralds']\n",
    "del df['redHeralds']"
   ]
  },
  {
   "cell_type": "markdown",
   "metadata": {},
   "source": [
    "### Elite Monsters"
   ]
  },
  {
   "cell_type": "code",
   "execution_count": 518,
   "metadata": {
    "ExecuteTime": {
     "end_time": "2021-05-21T18:48:43.156927Z",
     "start_time": "2021-05-21T18:48:43.143929Z"
    }
   },
   "outputs": [],
   "source": [
    "del df['blueEliteMonsters']\n",
    "del df['redEliteMonsters']"
   ]
  },
  {
   "cell_type": "markdown",
   "metadata": {},
   "source": [
    "### GoldDiff, ExperienceDiff, CSPerMin, and GoldPerMin\n",
    "\n",
    "Both blue and red teams have these four metrics.  While they are useful metrics for other types of analyses, they are essentially duplicative, since they are all calculated in a similar fashion from features already included in our data.  \n",
    "\n",
    "- GoldDiff represents the difference between blueTotalGold and redTotalGold\n",
    "- ExperienceDiff represents the difference between blueTotalExperience and redTotalExperience\n",
    "- blue and red CSPerMin represents the minute rate of blue and red TotalMinionsKilled.  For our 10 minute data, CSPerMin for each team will always be TotalMinionsKilled divided by 10\n",
    "- similarly, blue and red GoldPerMin represents blue and red TotalGold divided by 10\n",
    "\n",
    "These four features from both teams (totaling 8 features) can be removed without losing any information.\n"
   ]
  },
  {
   "cell_type": "code",
   "execution_count": 519,
   "metadata": {
    "ExecuteTime": {
     "end_time": "2021-05-21T18:48:43.202910Z",
     "start_time": "2021-05-21T18:48:43.169923Z"
    }
   },
   "outputs": [],
   "source": [
    "del df['blueGoldDiff']\n",
    "del df['blueExperienceDiff']\n",
    "del df['blueCSPerMin']\n",
    "del df['blueGoldPerMin']\n",
    "del df['redGoldDiff']\n",
    "del df['redExperienceDiff']\n",
    "del df['redCSPerMin']\n",
    "del df['redGoldPerMin']"
   ]
  },
  {
   "cell_type": "markdown",
   "metadata": {},
   "source": [
    "### gameId\n",
    "\n",
    "gameId represents a unique identifier for every LoL game, no two gameId's will ever be the same, so this column can be removed."
   ]
  },
  {
   "cell_type": "code",
   "execution_count": 520,
   "metadata": {
    "ExecuteTime": {
     "end_time": "2021-05-21T18:48:43.218905Z",
     "start_time": "2021-05-21T18:48:43.204909Z"
    }
   },
   "outputs": [],
   "source": [
    "del df['gameId']"
   ]
  },
  {
   "cell_type": "markdown",
   "metadata": {},
   "source": [
    "### Reviewing cleaned data"
   ]
  },
  {
   "cell_type": "code",
   "execution_count": 521,
   "metadata": {
    "ExecuteTime": {
     "end_time": "2021-05-21T18:48:43.234898Z",
     "start_time": "2021-05-21T18:48:43.220903Z"
    }
   },
   "outputs": [
    {
     "name": "stdout",
     "output_type": "stream",
     "text": [
      "Index(['blueWins', 'blueWardsPlaced', 'blueWardsDestroyed', 'blueKills',\n",
      "       'blueAssists', 'blueTowersDestroyed', 'blueTotalGold', 'blueAvgLevel',\n",
      "       'blueTotalExperience', 'blueTotalMinionsKilled',\n",
      "       'blueTotalJungleMinionsKilled', 'redWardsPlaced', 'redWardsDestroyed',\n",
      "       'redKills', 'redAssists', 'redTowersDestroyed', 'redTotalGold',\n",
      "       'redAvgLevel', 'redTotalExperience', 'redTotalMinionsKilled',\n",
      "       'redTotalJungleMinionsKilled', 'firstBlood', 'dragon', 'herald'],\n",
      "      dtype='object')\n",
      "(9879, 24)\n"
     ]
    }
   ],
   "source": [
    "print(df.columns)\n",
    "\n",
    "print(df.shape)"
   ]
  },
  {
   "cell_type": "markdown",
   "metadata": {},
   "source": [
    "We were able to remove 14 columns through this process without losing any information."
   ]
  },
  {
   "cell_type": "markdown",
   "metadata": {},
   "source": [
    "### Alternative Dataset - Differences"
   ]
  },
  {
   "cell_type": "code",
   "execution_count": 522,
   "metadata": {
    "ExecuteTime": {
     "end_time": "2021-05-21T18:48:43.312523Z",
     "start_time": "2021-05-21T18:48:43.242896Z"
    }
   },
   "outputs": [
    {
     "data": {
      "text/html": [
       "<div>\n",
       "<style scoped>\n",
       "    .dataframe tbody tr th:only-of-type {\n",
       "        vertical-align: middle;\n",
       "    }\n",
       "\n",
       "    .dataframe tbody tr th {\n",
       "        vertical-align: top;\n",
       "    }\n",
       "\n",
       "    .dataframe thead th {\n",
       "        text-align: right;\n",
       "    }\n",
       "</style>\n",
       "<table border=\"1\" class=\"dataframe\">\n",
       "  <thead>\n",
       "    <tr style=\"text-align: right;\">\n",
       "      <th></th>\n",
       "      <th>blueWins</th>\n",
       "      <th>blueWardsPlaced</th>\n",
       "      <th>blueWardsDestroyed</th>\n",
       "      <th>blueKills</th>\n",
       "      <th>blueAssists</th>\n",
       "      <th>blueTowersDestroyed</th>\n",
       "      <th>blueTotalGold</th>\n",
       "      <th>blueAvgLevel</th>\n",
       "      <th>blueTotalExperience</th>\n",
       "      <th>blueTotalMinionsKilled</th>\n",
       "      <th>...</th>\n",
       "      <th>redAssists</th>\n",
       "      <th>redTowersDestroyed</th>\n",
       "      <th>redTotalGold</th>\n",
       "      <th>redAvgLevel</th>\n",
       "      <th>redTotalExperience</th>\n",
       "      <th>redTotalMinionsKilled</th>\n",
       "      <th>redTotalJungleMinionsKilled</th>\n",
       "      <th>firstBlood</th>\n",
       "      <th>dragon</th>\n",
       "      <th>herald</th>\n",
       "    </tr>\n",
       "  </thead>\n",
       "  <tbody>\n",
       "    <tr>\n",
       "      <th>0</th>\n",
       "      <td>0</td>\n",
       "      <td>28</td>\n",
       "      <td>2</td>\n",
       "      <td>9</td>\n",
       "      <td>11</td>\n",
       "      <td>0</td>\n",
       "      <td>17210</td>\n",
       "      <td>6.6</td>\n",
       "      <td>17039</td>\n",
       "      <td>195</td>\n",
       "      <td>...</td>\n",
       "      <td>8</td>\n",
       "      <td>0</td>\n",
       "      <td>16567</td>\n",
       "      <td>6.8</td>\n",
       "      <td>17047</td>\n",
       "      <td>197</td>\n",
       "      <td>55</td>\n",
       "      <td>Blue</td>\n",
       "      <td>No Dragon</td>\n",
       "      <td>No Herald</td>\n",
       "    </tr>\n",
       "    <tr>\n",
       "      <th>1</th>\n",
       "      <td>0</td>\n",
       "      <td>12</td>\n",
       "      <td>1</td>\n",
       "      <td>5</td>\n",
       "      <td>5</td>\n",
       "      <td>0</td>\n",
       "      <td>14712</td>\n",
       "      <td>6.6</td>\n",
       "      <td>16265</td>\n",
       "      <td>174</td>\n",
       "      <td>...</td>\n",
       "      <td>2</td>\n",
       "      <td>1</td>\n",
       "      <td>17620</td>\n",
       "      <td>6.8</td>\n",
       "      <td>17438</td>\n",
       "      <td>240</td>\n",
       "      <td>52</td>\n",
       "      <td>Red</td>\n",
       "      <td>Red</td>\n",
       "      <td>Red</td>\n",
       "    </tr>\n",
       "    <tr>\n",
       "      <th>2</th>\n",
       "      <td>0</td>\n",
       "      <td>15</td>\n",
       "      <td>0</td>\n",
       "      <td>7</td>\n",
       "      <td>4</td>\n",
       "      <td>0</td>\n",
       "      <td>16113</td>\n",
       "      <td>6.4</td>\n",
       "      <td>16221</td>\n",
       "      <td>186</td>\n",
       "      <td>...</td>\n",
       "      <td>14</td>\n",
       "      <td>0</td>\n",
       "      <td>17285</td>\n",
       "      <td>6.8</td>\n",
       "      <td>17254</td>\n",
       "      <td>203</td>\n",
       "      <td>28</td>\n",
       "      <td>Red</td>\n",
       "      <td>Blue</td>\n",
       "      <td>No Herald</td>\n",
       "    </tr>\n",
       "    <tr>\n",
       "      <th>3</th>\n",
       "      <td>0</td>\n",
       "      <td>43</td>\n",
       "      <td>1</td>\n",
       "      <td>4</td>\n",
       "      <td>5</td>\n",
       "      <td>0</td>\n",
       "      <td>15157</td>\n",
       "      <td>7.0</td>\n",
       "      <td>17954</td>\n",
       "      <td>201</td>\n",
       "      <td>...</td>\n",
       "      <td>10</td>\n",
       "      <td>0</td>\n",
       "      <td>16478</td>\n",
       "      <td>7.0</td>\n",
       "      <td>17961</td>\n",
       "      <td>235</td>\n",
       "      <td>47</td>\n",
       "      <td>Red</td>\n",
       "      <td>No Dragon</td>\n",
       "      <td>Blue</td>\n",
       "    </tr>\n",
       "    <tr>\n",
       "      <th>4</th>\n",
       "      <td>0</td>\n",
       "      <td>75</td>\n",
       "      <td>4</td>\n",
       "      <td>6</td>\n",
       "      <td>6</td>\n",
       "      <td>0</td>\n",
       "      <td>16400</td>\n",
       "      <td>7.0</td>\n",
       "      <td>18543</td>\n",
       "      <td>210</td>\n",
       "      <td>...</td>\n",
       "      <td>7</td>\n",
       "      <td>0</td>\n",
       "      <td>17404</td>\n",
       "      <td>7.0</td>\n",
       "      <td>18313</td>\n",
       "      <td>225</td>\n",
       "      <td>67</td>\n",
       "      <td>Red</td>\n",
       "      <td>Red</td>\n",
       "      <td>No Herald</td>\n",
       "    </tr>\n",
       "    <tr>\n",
       "      <th>...</th>\n",
       "      <td>...</td>\n",
       "      <td>...</td>\n",
       "      <td>...</td>\n",
       "      <td>...</td>\n",
       "      <td>...</td>\n",
       "      <td>...</td>\n",
       "      <td>...</td>\n",
       "      <td>...</td>\n",
       "      <td>...</td>\n",
       "      <td>...</td>\n",
       "      <td>...</td>\n",
       "      <td>...</td>\n",
       "      <td>...</td>\n",
       "      <td>...</td>\n",
       "      <td>...</td>\n",
       "      <td>...</td>\n",
       "      <td>...</td>\n",
       "      <td>...</td>\n",
       "      <td>...</td>\n",
       "      <td>...</td>\n",
       "      <td>...</td>\n",
       "    </tr>\n",
       "    <tr>\n",
       "      <th>9874</th>\n",
       "      <td>1</td>\n",
       "      <td>17</td>\n",
       "      <td>2</td>\n",
       "      <td>7</td>\n",
       "      <td>5</td>\n",
       "      <td>0</td>\n",
       "      <td>17765</td>\n",
       "      <td>7.2</td>\n",
       "      <td>18967</td>\n",
       "      <td>211</td>\n",
       "      <td>...</td>\n",
       "      <td>7</td>\n",
       "      <td>0</td>\n",
       "      <td>15246</td>\n",
       "      <td>6.8</td>\n",
       "      <td>16498</td>\n",
       "      <td>229</td>\n",
       "      <td>34</td>\n",
       "      <td>Blue</td>\n",
       "      <td>Blue</td>\n",
       "      <td>No Herald</td>\n",
       "    </tr>\n",
       "    <tr>\n",
       "      <th>9875</th>\n",
       "      <td>1</td>\n",
       "      <td>54</td>\n",
       "      <td>0</td>\n",
       "      <td>6</td>\n",
       "      <td>8</td>\n",
       "      <td>0</td>\n",
       "      <td>16238</td>\n",
       "      <td>7.2</td>\n",
       "      <td>19255</td>\n",
       "      <td>233</td>\n",
       "      <td>...</td>\n",
       "      <td>3</td>\n",
       "      <td>0</td>\n",
       "      <td>15456</td>\n",
       "      <td>7.0</td>\n",
       "      <td>18367</td>\n",
       "      <td>206</td>\n",
       "      <td>56</td>\n",
       "      <td>Red</td>\n",
       "      <td>Blue</td>\n",
       "      <td>No Herald</td>\n",
       "    </tr>\n",
       "    <tr>\n",
       "      <th>9876</th>\n",
       "      <td>0</td>\n",
       "      <td>23</td>\n",
       "      <td>1</td>\n",
       "      <td>6</td>\n",
       "      <td>5</td>\n",
       "      <td>0</td>\n",
       "      <td>15903</td>\n",
       "      <td>7.0</td>\n",
       "      <td>18032</td>\n",
       "      <td>210</td>\n",
       "      <td>...</td>\n",
       "      <td>11</td>\n",
       "      <td>0</td>\n",
       "      <td>18319</td>\n",
       "      <td>7.4</td>\n",
       "      <td>19909</td>\n",
       "      <td>261</td>\n",
       "      <td>60</td>\n",
       "      <td>Red</td>\n",
       "      <td>Red</td>\n",
       "      <td>No Herald</td>\n",
       "    </tr>\n",
       "    <tr>\n",
       "      <th>9877</th>\n",
       "      <td>0</td>\n",
       "      <td>14</td>\n",
       "      <td>4</td>\n",
       "      <td>2</td>\n",
       "      <td>3</td>\n",
       "      <td>0</td>\n",
       "      <td>14459</td>\n",
       "      <td>6.6</td>\n",
       "      <td>17229</td>\n",
       "      <td>224</td>\n",
       "      <td>...</td>\n",
       "      <td>1</td>\n",
       "      <td>0</td>\n",
       "      <td>15298</td>\n",
       "      <td>7.2</td>\n",
       "      <td>18314</td>\n",
       "      <td>247</td>\n",
       "      <td>40</td>\n",
       "      <td>Blue</td>\n",
       "      <td>Blue</td>\n",
       "      <td>No Herald</td>\n",
       "    </tr>\n",
       "    <tr>\n",
       "      <th>9878</th>\n",
       "      <td>1</td>\n",
       "      <td>18</td>\n",
       "      <td>0</td>\n",
       "      <td>6</td>\n",
       "      <td>5</td>\n",
       "      <td>0</td>\n",
       "      <td>16266</td>\n",
       "      <td>7.0</td>\n",
       "      <td>17321</td>\n",
       "      <td>207</td>\n",
       "      <td>...</td>\n",
       "      <td>4</td>\n",
       "      <td>0</td>\n",
       "      <td>15339</td>\n",
       "      <td>6.8</td>\n",
       "      <td>17379</td>\n",
       "      <td>201</td>\n",
       "      <td>46</td>\n",
       "      <td>Blue</td>\n",
       "      <td>Red</td>\n",
       "      <td>No Herald</td>\n",
       "    </tr>\n",
       "  </tbody>\n",
       "</table>\n",
       "<p>9879 rows × 24 columns</p>\n",
       "</div>"
      ],
      "text/plain": [
       "      blueWins  blueWardsPlaced  blueWardsDestroyed  blueKills  blueAssists  \\\n",
       "0            0               28                   2          9           11   \n",
       "1            0               12                   1          5            5   \n",
       "2            0               15                   0          7            4   \n",
       "3            0               43                   1          4            5   \n",
       "4            0               75                   4          6            6   \n",
       "...        ...              ...                 ...        ...          ...   \n",
       "9874         1               17                   2          7            5   \n",
       "9875         1               54                   0          6            8   \n",
       "9876         0               23                   1          6            5   \n",
       "9877         0               14                   4          2            3   \n",
       "9878         1               18                   0          6            5   \n",
       "\n",
       "      blueTowersDestroyed  blueTotalGold  blueAvgLevel  blueTotalExperience  \\\n",
       "0                       0          17210           6.6                17039   \n",
       "1                       0          14712           6.6                16265   \n",
       "2                       0          16113           6.4                16221   \n",
       "3                       0          15157           7.0                17954   \n",
       "4                       0          16400           7.0                18543   \n",
       "...                   ...            ...           ...                  ...   \n",
       "9874                    0          17765           7.2                18967   \n",
       "9875                    0          16238           7.2                19255   \n",
       "9876                    0          15903           7.0                18032   \n",
       "9877                    0          14459           6.6                17229   \n",
       "9878                    0          16266           7.0                17321   \n",
       "\n",
       "      blueTotalMinionsKilled  ...  redAssists  redTowersDestroyed  \\\n",
       "0                        195  ...           8                   0   \n",
       "1                        174  ...           2                   1   \n",
       "2                        186  ...          14                   0   \n",
       "3                        201  ...          10                   0   \n",
       "4                        210  ...           7                   0   \n",
       "...                      ...  ...         ...                 ...   \n",
       "9874                     211  ...           7                   0   \n",
       "9875                     233  ...           3                   0   \n",
       "9876                     210  ...          11                   0   \n",
       "9877                     224  ...           1                   0   \n",
       "9878                     207  ...           4                   0   \n",
       "\n",
       "      redTotalGold  redAvgLevel  redTotalExperience  redTotalMinionsKilled  \\\n",
       "0            16567          6.8               17047                    197   \n",
       "1            17620          6.8               17438                    240   \n",
       "2            17285          6.8               17254                    203   \n",
       "3            16478          7.0               17961                    235   \n",
       "4            17404          7.0               18313                    225   \n",
       "...            ...          ...                 ...                    ...   \n",
       "9874         15246          6.8               16498                    229   \n",
       "9875         15456          7.0               18367                    206   \n",
       "9876         18319          7.4               19909                    261   \n",
       "9877         15298          7.2               18314                    247   \n",
       "9878         15339          6.8               17379                    201   \n",
       "\n",
       "      redTotalJungleMinionsKilled  firstBlood     dragon     herald  \n",
       "0                              55        Blue  No Dragon  No Herald  \n",
       "1                              52         Red        Red        Red  \n",
       "2                              28         Red       Blue  No Herald  \n",
       "3                              47         Red  No Dragon       Blue  \n",
       "4                              67         Red        Red  No Herald  \n",
       "...                           ...         ...        ...        ...  \n",
       "9874                           34        Blue       Blue  No Herald  \n",
       "9875                           56         Red       Blue  No Herald  \n",
       "9876                           60         Red        Red  No Herald  \n",
       "9877                           40        Blue       Blue  No Herald  \n",
       "9878                           46        Blue        Red  No Herald  \n",
       "\n",
       "[9879 rows x 24 columns]"
      ]
     },
     "execution_count": 522,
     "metadata": {},
     "output_type": "execute_result"
    }
   ],
   "source": [
    "df"
   ]
  },
  {
   "cell_type": "code",
   "execution_count": 523,
   "metadata": {
    "ExecuteTime": {
     "end_time": "2021-05-21T18:48:43.423891Z",
     "start_time": "2021-05-21T18:48:43.318523Z"
    }
   },
   "outputs": [
    {
     "data": {
      "text/html": [
       "<div>\n",
       "<style scoped>\n",
       "    .dataframe tbody tr th:only-of-type {\n",
       "        vertical-align: middle;\n",
       "    }\n",
       "\n",
       "    .dataframe tbody tr th {\n",
       "        vertical-align: top;\n",
       "    }\n",
       "\n",
       "    .dataframe thead th {\n",
       "        text-align: right;\n",
       "    }\n",
       "</style>\n",
       "<table border=\"1\" class=\"dataframe\">\n",
       "  <thead>\n",
       "    <tr style=\"text-align: right;\">\n",
       "      <th></th>\n",
       "      <th>WardsPlaced</th>\n",
       "      <th>WardsDestroyed</th>\n",
       "      <th>Kills</th>\n",
       "      <th>Assists</th>\n",
       "      <th>TowersDestroyed</th>\n",
       "      <th>TotalGold</th>\n",
       "      <th>AvgLevel</th>\n",
       "      <th>TotalExperience</th>\n",
       "      <th>TotalMinionsKilled</th>\n",
       "      <th>TotalJungleMinionsKilled</th>\n",
       "      <th>firstBlood</th>\n",
       "      <th>dragon</th>\n",
       "      <th>herald</th>\n",
       "      <th>blueWins</th>\n",
       "    </tr>\n",
       "  </thead>\n",
       "  <tbody>\n",
       "    <tr>\n",
       "      <th>0</th>\n",
       "      <td>13</td>\n",
       "      <td>-4</td>\n",
       "      <td>3</td>\n",
       "      <td>3</td>\n",
       "      <td>0</td>\n",
       "      <td>643</td>\n",
       "      <td>-0.2</td>\n",
       "      <td>-8</td>\n",
       "      <td>-2</td>\n",
       "      <td>-19</td>\n",
       "      <td>Blue</td>\n",
       "      <td>No Dragon</td>\n",
       "      <td>No Herald</td>\n",
       "      <td>0</td>\n",
       "    </tr>\n",
       "    <tr>\n",
       "      <th>1</th>\n",
       "      <td>0</td>\n",
       "      <td>0</td>\n",
       "      <td>0</td>\n",
       "      <td>3</td>\n",
       "      <td>-1</td>\n",
       "      <td>-2908</td>\n",
       "      <td>-0.2</td>\n",
       "      <td>-1173</td>\n",
       "      <td>-66</td>\n",
       "      <td>-9</td>\n",
       "      <td>Red</td>\n",
       "      <td>Red</td>\n",
       "      <td>Red</td>\n",
       "      <td>0</td>\n",
       "    </tr>\n",
       "    <tr>\n",
       "      <th>2</th>\n",
       "      <td>0</td>\n",
       "      <td>-3</td>\n",
       "      <td>-4</td>\n",
       "      <td>-10</td>\n",
       "      <td>0</td>\n",
       "      <td>-1172</td>\n",
       "      <td>-0.4</td>\n",
       "      <td>-1033</td>\n",
       "      <td>-17</td>\n",
       "      <td>18</td>\n",
       "      <td>Red</td>\n",
       "      <td>Blue</td>\n",
       "      <td>No Herald</td>\n",
       "      <td>0</td>\n",
       "    </tr>\n",
       "    <tr>\n",
       "      <th>3</th>\n",
       "      <td>28</td>\n",
       "      <td>-1</td>\n",
       "      <td>-1</td>\n",
       "      <td>-5</td>\n",
       "      <td>0</td>\n",
       "      <td>-1321</td>\n",
       "      <td>0.0</td>\n",
       "      <td>-7</td>\n",
       "      <td>-34</td>\n",
       "      <td>8</td>\n",
       "      <td>Red</td>\n",
       "      <td>No Dragon</td>\n",
       "      <td>Blue</td>\n",
       "      <td>0</td>\n",
       "    </tr>\n",
       "    <tr>\n",
       "      <th>4</th>\n",
       "      <td>58</td>\n",
       "      <td>2</td>\n",
       "      <td>0</td>\n",
       "      <td>-1</td>\n",
       "      <td>0</td>\n",
       "      <td>-1004</td>\n",
       "      <td>0.0</td>\n",
       "      <td>230</td>\n",
       "      <td>-15</td>\n",
       "      <td>-10</td>\n",
       "      <td>Red</td>\n",
       "      <td>Red</td>\n",
       "      <td>No Herald</td>\n",
       "      <td>0</td>\n",
       "    </tr>\n",
       "  </tbody>\n",
       "</table>\n",
       "</div>"
      ],
      "text/plain": [
       "   WardsPlaced  WardsDestroyed  Kills  Assists  TowersDestroyed  TotalGold  \\\n",
       "0           13              -4      3        3                0        643   \n",
       "1            0               0      0        3               -1      -2908   \n",
       "2            0              -3     -4      -10                0      -1172   \n",
       "3           28              -1     -1       -5                0      -1321   \n",
       "4           58               2      0       -1                0      -1004   \n",
       "\n",
       "   AvgLevel  TotalExperience  TotalMinionsKilled  TotalJungleMinionsKilled  \\\n",
       "0      -0.2               -8                  -2                       -19   \n",
       "1      -0.2            -1173                 -66                        -9   \n",
       "2      -0.4            -1033                 -17                        18   \n",
       "3       0.0               -7                 -34                         8   \n",
       "4       0.0              230                 -15                       -10   \n",
       "\n",
       "  firstBlood     dragon     herald  blueWins  \n",
       "0       Blue  No Dragon  No Herald         0  \n",
       "1        Red        Red        Red         0  \n",
       "2        Red       Blue  No Herald         0  \n",
       "3        Red  No Dragon       Blue         0  \n",
       "4        Red        Red  No Herald         0  "
      ]
     },
     "execution_count": 523,
     "metadata": {},
     "output_type": "execute_result"
    }
   ],
   "source": [
    "diff_df = pd.DataFrame()\n",
    "\n",
    "diff_df['WardsPlaced'] = df['blueWardsPlaced'] - df['redWardsPlaced']\n",
    "diff_df['WardsDestroyed'] = df['blueWardsDestroyed'] - df['redWardsDestroyed']\n",
    "diff_df['Kills'] = df['blueKills'] - df['redKills']\n",
    "diff_df['Assists'] = df['blueAssists'] - df['redAssists']\n",
    "diff_df['TowersDestroyed'] = df['blueTowersDestroyed'] - df['redTowersDestroyed']\n",
    "diff_df['TotalGold'] = df['blueTotalGold'] - df['redTotalGold']\n",
    "diff_df['AvgLevel'] = df['blueAvgLevel'] - df['redAvgLevel']\n",
    "diff_df['TotalExperience'] = df['blueTotalExperience'] - df['redTotalExperience']\n",
    "diff_df['TotalMinionsKilled'] = df['blueTotalMinionsKilled'] - df['redTotalMinionsKilled']\n",
    "diff_df['TotalJungleMinionsKilled'] = df['blueTotalJungleMinionsKilled'] - df['redTotalJungleMinionsKilled']\n",
    "\n",
    "diff_df = pd.concat([diff_df, df[['firstBlood', 'dragon', 'herald', 'blueWins']]], axis=1)\n",
    "\n",
    "diff_df.head()"
   ]
  },
  {
   "cell_type": "code",
   "execution_count": 524,
   "metadata": {
    "ExecuteTime": {
     "end_time": "2021-05-20T21:37:04.035381Z",
     "start_time": "2021-05-20T21:37:04.005390Z"
    }
   },
   "outputs": [],
   "source": [
    "df = diff_df.copy()"
   ]
  },
  {
   "cell_type": "code",
   "execution_count": null,
   "metadata": {},
   "outputs": [],
   "source": []
  },
  {
   "cell_type": "code",
   "execution_count": null,
   "metadata": {},
   "outputs": [],
   "source": []
  },
  {
   "cell_type": "markdown",
   "metadata": {},
   "source": [
    "# EXPLORE"
   ]
  },
  {
   "cell_type": "code",
   "execution_count": 525,
   "metadata": {
    "ExecuteTime": {
     "end_time": "2021-05-21T18:48:46.973840Z",
     "start_time": "2021-05-21T18:48:43.426892Z"
    }
   },
   "outputs": [
    {
     "data": {
      "text/plain": [
       "(<Figure size 1080x720 with 2 Axes>, <AxesSubplot:>)"
      ]
     },
     "execution_count": 525,
     "metadata": {},
     "output_type": "execute_result"
    },
    {
     "data": {
      "image/png": "[encoded data removed]",
      "text/plain": [
       "<Figure size 1080x720 with 2 Axes>"
      ]
     },
     "metadata": {
      "needs_background": "light"
     },
     "output_type": "display_data"
    }
   ],
   "source": [
    "def heatmap(df_name, figsize=(15,10), cmap='Reds'):\n",
    "    corr = df_name.drop('blueWins',axis=1).corr()\n",
    "    mask = np.zeros_like(corr)\n",
    "    mask[np.triu_indices_from(mask)] = True\n",
    "    fig, ax = plt.subplots(figsize=figsize)\n",
    "    sns.heatmap(corr, annot=True, cmap=cmap, mask=mask)\n",
    "    return fig, ax\n",
    "\n",
    "heatmap(df)"
   ]
  },
  {
   "cell_type": "code",
   "execution_count": 526,
   "metadata": {
    "ExecuteTime": {
     "end_time": "2021-05-21T18:48:46.988922Z",
     "start_time": "2021-05-21T18:48:46.978825Z"
    }
   },
   "outputs": [],
   "source": [
    "# pd.set_option('display.max_rows', df.shape[0]+1)\n",
    "\n",
    "# corr = df.drop('blueWins',axis=1).corr().abs()\n",
    "\n",
    "# sort = corr.unstack()\n",
    "# sort_order = sort.sort_values(kind=\"quicksort\")\n",
    "\n",
    "# corr_df = sort_order.to_frame()\n",
    "\n",
    "# corr_features_df = corr_df[(corr_df[0] > 0.6) & (corr_df[0] < 1) ]\n",
    "\n",
    "# corr_features_df.sort_values(by=0, ascending=False)"
   ]
  },
  {
   "cell_type": "code",
   "execution_count": 527,
   "metadata": {
    "ExecuteTime": {
     "end_time": "2021-05-21T18:48:47.052687Z",
     "start_time": "2021-05-21T18:48:46.991821Z"
    }
   },
   "outputs": [
    {
     "data": {
      "text/html": [
       "<div>\n",
       "<style scoped>\n",
       "    .dataframe tbody tr th:only-of-type {\n",
       "        vertical-align: middle;\n",
       "    }\n",
       "\n",
       "    .dataframe tbody tr th {\n",
       "        vertical-align: top;\n",
       "    }\n",
       "\n",
       "    .dataframe thead th {\n",
       "        text-align: right;\n",
       "    }\n",
       "</style>\n",
       "<table border=\"1\" class=\"dataframe\">\n",
       "  <thead>\n",
       "    <tr style=\"text-align: right;\">\n",
       "      <th></th>\n",
       "      <th>level_0</th>\n",
       "      <th>level_1</th>\n",
       "      <th>0</th>\n",
       "    </tr>\n",
       "  </thead>\n",
       "  <tbody>\n",
       "    <tr>\n",
       "      <th>64</th>\n",
       "      <td>AvgLevel</td>\n",
       "      <td>TotalExperience</td>\n",
       "      <td>0.919161</td>\n",
       "    </tr>\n",
       "    <tr>\n",
       "      <th>23</th>\n",
       "      <td>Kills</td>\n",
       "      <td>TotalGold</td>\n",
       "      <td>0.917008</td>\n",
       "    </tr>\n",
       "    <tr>\n",
       "      <th>54</th>\n",
       "      <td>TotalGold</td>\n",
       "      <td>TotalExperience</td>\n",
       "      <td>0.894729</td>\n",
       "    </tr>\n",
       "    <tr>\n",
       "      <th>53</th>\n",
       "      <td>TotalGold</td>\n",
       "      <td>AvgLevel</td>\n",
       "      <td>0.833493</td>\n",
       "    </tr>\n",
       "    <tr>\n",
       "      <th>21</th>\n",
       "      <td>Kills</td>\n",
       "      <td>Assists</td>\n",
       "      <td>0.830751</td>\n",
       "    </tr>\n",
       "    <tr>\n",
       "      <th>25</th>\n",
       "      <td>Kills</td>\n",
       "      <td>TotalExperience</td>\n",
       "      <td>0.822845</td>\n",
       "    </tr>\n",
       "    <tr>\n",
       "      <th>24</th>\n",
       "      <td>Kills</td>\n",
       "      <td>AvgLevel</td>\n",
       "      <td>0.766222</td>\n",
       "    </tr>\n",
       "    <tr>\n",
       "      <th>33</th>\n",
       "      <td>Assists</td>\n",
       "      <td>TotalGold</td>\n",
       "      <td>0.759321</td>\n",
       "    </tr>\n",
       "    <tr>\n",
       "      <th>55</th>\n",
       "      <td>TotalGold</td>\n",
       "      <td>TotalMinionsKilled</td>\n",
       "      <td>0.638765</td>\n",
       "    </tr>\n",
       "    <tr>\n",
       "      <th>75</th>\n",
       "      <td>TotalExperience</td>\n",
       "      <td>TotalMinionsKilled</td>\n",
       "      <td>0.625556</td>\n",
       "    </tr>\n",
       "  </tbody>\n",
       "</table>\n",
       "</div>"
      ],
      "text/plain": [
       "            level_0             level_1         0\n",
       "64         AvgLevel     TotalExperience  0.919161\n",
       "23            Kills           TotalGold  0.917008\n",
       "54        TotalGold     TotalExperience  0.894729\n",
       "53        TotalGold            AvgLevel  0.833493\n",
       "21            Kills             Assists  0.830751\n",
       "25            Kills     TotalExperience  0.822845\n",
       "24            Kills            AvgLevel  0.766222\n",
       "33          Assists           TotalGold  0.759321\n",
       "55        TotalGold  TotalMinionsKilled  0.638765\n",
       "75  TotalExperience  TotalMinionsKilled  0.625556"
      ]
     },
     "execution_count": 527,
     "metadata": {},
     "output_type": "execute_result"
    }
   ],
   "source": [
    "# https://pydatascience.org/2019/07/23/remove-duplicates-from-correlation-matrix-python/\n",
    "def corr_list(df):\n",
    "    dataCorr = df.drop('blueWins',axis=1).corr()\n",
    "\n",
    "    dataCorr = dataCorr[abs(dataCorr) >= 0.01].stack().reset_index()\n",
    "    dataCorr = dataCorr[dataCorr['level_0'].astype(str)!=dataCorr['level_1'].astype(str)]\n",
    "\n",
    "    # filtering out lower/upper triangular duplicates \n",
    "    dataCorr['ordered-cols'] = dataCorr.apply(lambda x: '-'.join(sorted([x['level_0'],x['level_1']])),axis=1)\n",
    "    dataCorr = dataCorr.drop_duplicates(['ordered-cols'])\n",
    "    dataCorr.drop(['ordered-cols'], axis=1, inplace=True)\n",
    "\n",
    "    return dataCorr.sort_values(by=[0], ascending=False).head(10) #Get 10 highest correlation of pairwaise attributes\n",
    "\n",
    "corr_list(df)\n"
   ]
  },
  {
   "cell_type": "markdown",
   "metadata": {},
   "source": [
    "Our multicollinearity analysis has presented a few variable relationships that need additional consideration.\n",
    "\n",
    "- avgLevel and TotalExperience are highly correlated, which is not surprising.  For now, we will stick with TotalExperience for blue and red teams since it's a bit more precise than AvgLevel.  However, we might want to run our baseline model with AvgLevel instead of TotalExperience to see if AvgLevel is more predictive.\n",
    "- blue and red TotalGold appear consistently in our list.  This is also not surprising since kills and assists award gold.  We will remove gold for now."
   ]
  },
  {
   "cell_type": "code",
   "execution_count": 528,
   "metadata": {
    "ExecuteTime": {
     "end_time": "2021-05-21T18:48:47.143720Z",
     "start_time": "2021-05-21T18:48:47.063680Z"
    }
   },
   "outputs": [
    {
     "data": {
      "text/html": [
       "<div>\n",
       "<style scoped>\n",
       "    .dataframe tbody tr th:only-of-type {\n",
       "        vertical-align: middle;\n",
       "    }\n",
       "\n",
       "    .dataframe tbody tr th {\n",
       "        vertical-align: top;\n",
       "    }\n",
       "\n",
       "    .dataframe thead th {\n",
       "        text-align: right;\n",
       "    }\n",
       "</style>\n",
       "<table border=\"1\" class=\"dataframe\">\n",
       "  <thead>\n",
       "    <tr style=\"text-align: right;\">\n",
       "      <th></th>\n",
       "      <th>level_0</th>\n",
       "      <th>level_1</th>\n",
       "      <th>0</th>\n",
       "    </tr>\n",
       "  </thead>\n",
       "  <tbody>\n",
       "    <tr>\n",
       "      <th>64</th>\n",
       "      <td>AvgLevel</td>\n",
       "      <td>TotalExperience</td>\n",
       "      <td>0.919161</td>\n",
       "    </tr>\n",
       "    <tr>\n",
       "      <th>23</th>\n",
       "      <td>Kills</td>\n",
       "      <td>TotalGold</td>\n",
       "      <td>0.917008</td>\n",
       "    </tr>\n",
       "    <tr>\n",
       "      <th>54</th>\n",
       "      <td>TotalGold</td>\n",
       "      <td>TotalExperience</td>\n",
       "      <td>0.894729</td>\n",
       "    </tr>\n",
       "    <tr>\n",
       "      <th>53</th>\n",
       "      <td>TotalGold</td>\n",
       "      <td>AvgLevel</td>\n",
       "      <td>0.833493</td>\n",
       "    </tr>\n",
       "    <tr>\n",
       "      <th>21</th>\n",
       "      <td>Kills</td>\n",
       "      <td>Assists</td>\n",
       "      <td>0.830751</td>\n",
       "    </tr>\n",
       "    <tr>\n",
       "      <th>25</th>\n",
       "      <td>Kills</td>\n",
       "      <td>TotalExperience</td>\n",
       "      <td>0.822845</td>\n",
       "    </tr>\n",
       "    <tr>\n",
       "      <th>24</th>\n",
       "      <td>Kills</td>\n",
       "      <td>AvgLevel</td>\n",
       "      <td>0.766222</td>\n",
       "    </tr>\n",
       "    <tr>\n",
       "      <th>33</th>\n",
       "      <td>Assists</td>\n",
       "      <td>TotalGold</td>\n",
       "      <td>0.759321</td>\n",
       "    </tr>\n",
       "    <tr>\n",
       "      <th>55</th>\n",
       "      <td>TotalGold</td>\n",
       "      <td>TotalMinionsKilled</td>\n",
       "      <td>0.638765</td>\n",
       "    </tr>\n",
       "    <tr>\n",
       "      <th>75</th>\n",
       "      <td>TotalExperience</td>\n",
       "      <td>TotalMinionsKilled</td>\n",
       "      <td>0.625556</td>\n",
       "    </tr>\n",
       "  </tbody>\n",
       "</table>\n",
       "</div>"
      ],
      "text/plain": [
       "            level_0             level_1         0\n",
       "64         AvgLevel     TotalExperience  0.919161\n",
       "23            Kills           TotalGold  0.917008\n",
       "54        TotalGold     TotalExperience  0.894729\n",
       "53        TotalGold            AvgLevel  0.833493\n",
       "21            Kills             Assists  0.830751\n",
       "25            Kills     TotalExperience  0.822845\n",
       "24            Kills            AvgLevel  0.766222\n",
       "33          Assists           TotalGold  0.759321\n",
       "55        TotalGold  TotalMinionsKilled  0.638765\n",
       "75  TotalExperience  TotalMinionsKilled  0.625556"
      ]
     },
     "execution_count": 528,
     "metadata": {},
     "output_type": "execute_result"
    }
   ],
   "source": [
    "corr_list(diff_df)"
   ]
  },
  {
   "cell_type": "code",
   "execution_count": 529,
   "metadata": {
    "ExecuteTime": {
     "end_time": "2021-05-21T18:48:47.205003Z",
     "start_time": "2021-05-21T18:48:47.147725Z"
    }
   },
   "outputs": [
    {
     "data": {
      "text/html": [
       "<div>\n",
       "<style scoped>\n",
       "    .dataframe tbody tr th:only-of-type {\n",
       "        vertical-align: middle;\n",
       "    }\n",
       "\n",
       "    .dataframe tbody tr th {\n",
       "        vertical-align: top;\n",
       "    }\n",
       "\n",
       "    .dataframe thead th {\n",
       "        text-align: right;\n",
       "    }\n",
       "</style>\n",
       "<table border=\"1\" class=\"dataframe\">\n",
       "  <thead>\n",
       "    <tr style=\"text-align: right;\">\n",
       "      <th></th>\n",
       "      <th>WardsPlaced</th>\n",
       "      <th>WardsDestroyed</th>\n",
       "      <th>Kills</th>\n",
       "      <th>Assists</th>\n",
       "      <th>TowersDestroyed</th>\n",
       "      <th>TotalGold</th>\n",
       "      <th>AvgLevel</th>\n",
       "      <th>TotalExperience</th>\n",
       "      <th>TotalMinionsKilled</th>\n",
       "      <th>TotalJungleMinionsKilled</th>\n",
       "      <th>firstBlood</th>\n",
       "      <th>dragon</th>\n",
       "      <th>herald</th>\n",
       "      <th>blueWins</th>\n",
       "    </tr>\n",
       "  </thead>\n",
       "  <tbody>\n",
       "    <tr>\n",
       "      <th>0</th>\n",
       "      <td>13</td>\n",
       "      <td>-4</td>\n",
       "      <td>3</td>\n",
       "      <td>3</td>\n",
       "      <td>0</td>\n",
       "      <td>643</td>\n",
       "      <td>-0.2</td>\n",
       "      <td>-8</td>\n",
       "      <td>-2</td>\n",
       "      <td>-19</td>\n",
       "      <td>Blue</td>\n",
       "      <td>No Dragon</td>\n",
       "      <td>No Herald</td>\n",
       "      <td>0</td>\n",
       "    </tr>\n",
       "    <tr>\n",
       "      <th>1</th>\n",
       "      <td>0</td>\n",
       "      <td>0</td>\n",
       "      <td>0</td>\n",
       "      <td>3</td>\n",
       "      <td>-1</td>\n",
       "      <td>-2908</td>\n",
       "      <td>-0.2</td>\n",
       "      <td>-1173</td>\n",
       "      <td>-66</td>\n",
       "      <td>-9</td>\n",
       "      <td>Red</td>\n",
       "      <td>Red</td>\n",
       "      <td>Red</td>\n",
       "      <td>0</td>\n",
       "    </tr>\n",
       "    <tr>\n",
       "      <th>2</th>\n",
       "      <td>0</td>\n",
       "      <td>-3</td>\n",
       "      <td>-4</td>\n",
       "      <td>-10</td>\n",
       "      <td>0</td>\n",
       "      <td>-1172</td>\n",
       "      <td>-0.4</td>\n",
       "      <td>-1033</td>\n",
       "      <td>-17</td>\n",
       "      <td>18</td>\n",
       "      <td>Red</td>\n",
       "      <td>Blue</td>\n",
       "      <td>No Herald</td>\n",
       "      <td>0</td>\n",
       "    </tr>\n",
       "    <tr>\n",
       "      <th>3</th>\n",
       "      <td>28</td>\n",
       "      <td>-1</td>\n",
       "      <td>-1</td>\n",
       "      <td>-5</td>\n",
       "      <td>0</td>\n",
       "      <td>-1321</td>\n",
       "      <td>0.0</td>\n",
       "      <td>-7</td>\n",
       "      <td>-34</td>\n",
       "      <td>8</td>\n",
       "      <td>Red</td>\n",
       "      <td>No Dragon</td>\n",
       "      <td>Blue</td>\n",
       "      <td>0</td>\n",
       "    </tr>\n",
       "    <tr>\n",
       "      <th>4</th>\n",
       "      <td>58</td>\n",
       "      <td>2</td>\n",
       "      <td>0</td>\n",
       "      <td>-1</td>\n",
       "      <td>0</td>\n",
       "      <td>-1004</td>\n",
       "      <td>0.0</td>\n",
       "      <td>230</td>\n",
       "      <td>-15</td>\n",
       "      <td>-10</td>\n",
       "      <td>Red</td>\n",
       "      <td>Red</td>\n",
       "      <td>No Herald</td>\n",
       "      <td>0</td>\n",
       "    </tr>\n",
       "    <tr>\n",
       "      <th>...</th>\n",
       "      <td>...</td>\n",
       "      <td>...</td>\n",
       "      <td>...</td>\n",
       "      <td>...</td>\n",
       "      <td>...</td>\n",
       "      <td>...</td>\n",
       "      <td>...</td>\n",
       "      <td>...</td>\n",
       "      <td>...</td>\n",
       "      <td>...</td>\n",
       "      <td>...</td>\n",
       "      <td>...</td>\n",
       "      <td>...</td>\n",
       "      <td>...</td>\n",
       "    </tr>\n",
       "    <tr>\n",
       "      <th>9874</th>\n",
       "      <td>-29</td>\n",
       "      <td>-1</td>\n",
       "      <td>3</td>\n",
       "      <td>-2</td>\n",
       "      <td>0</td>\n",
       "      <td>2519</td>\n",
       "      <td>0.4</td>\n",
       "      <td>2469</td>\n",
       "      <td>-18</td>\n",
       "      <td>35</td>\n",
       "      <td>Blue</td>\n",
       "      <td>Blue</td>\n",
       "      <td>No Herald</td>\n",
       "      <td>1</td>\n",
       "    </tr>\n",
       "    <tr>\n",
       "      <th>9875</th>\n",
       "      <td>42</td>\n",
       "      <td>-21</td>\n",
       "      <td>2</td>\n",
       "      <td>5</td>\n",
       "      <td>0</td>\n",
       "      <td>782</td>\n",
       "      <td>0.2</td>\n",
       "      <td>888</td>\n",
       "      <td>27</td>\n",
       "      <td>-8</td>\n",
       "      <td>Red</td>\n",
       "      <td>Blue</td>\n",
       "      <td>No Herald</td>\n",
       "      <td>1</td>\n",
       "    </tr>\n",
       "    <tr>\n",
       "      <th>9876</th>\n",
       "      <td>9</td>\n",
       "      <td>1</td>\n",
       "      <td>-1</td>\n",
       "      <td>-6</td>\n",
       "      <td>0</td>\n",
       "      <td>-2416</td>\n",
       "      <td>-0.4</td>\n",
       "      <td>-1877</td>\n",
       "      <td>-51</td>\n",
       "      <td>-15</td>\n",
       "      <td>Red</td>\n",
       "      <td>Red</td>\n",
       "      <td>No Herald</td>\n",
       "      <td>0</td>\n",
       "    </tr>\n",
       "    <tr>\n",
       "      <th>9877</th>\n",
       "      <td>-52</td>\n",
       "      <td>0</td>\n",
       "      <td>-1</td>\n",
       "      <td>2</td>\n",
       "      <td>0</td>\n",
       "      <td>-839</td>\n",
       "      <td>-0.6</td>\n",
       "      <td>-1085</td>\n",
       "      <td>-23</td>\n",
       "      <td>8</td>\n",
       "      <td>Blue</td>\n",
       "      <td>Blue</td>\n",
       "      <td>No Herald</td>\n",
       "      <td>0</td>\n",
       "    </tr>\n",
       "    <tr>\n",
       "      <th>9878</th>\n",
       "      <td>9</td>\n",
       "      <td>-2</td>\n",
       "      <td>0</td>\n",
       "      <td>1</td>\n",
       "      <td>0</td>\n",
       "      <td>927</td>\n",
       "      <td>0.2</td>\n",
       "      <td>-58</td>\n",
       "      <td>6</td>\n",
       "      <td>-2</td>\n",
       "      <td>Blue</td>\n",
       "      <td>Red</td>\n",
       "      <td>No Herald</td>\n",
       "      <td>1</td>\n",
       "    </tr>\n",
       "  </tbody>\n",
       "</table>\n",
       "<p>9879 rows × 14 columns</p>\n",
       "</div>"
      ],
      "text/plain": [
       "      WardsPlaced  WardsDestroyed  Kills  Assists  TowersDestroyed  TotalGold  \\\n",
       "0              13              -4      3        3                0        643   \n",
       "1               0               0      0        3               -1      -2908   \n",
       "2               0              -3     -4      -10                0      -1172   \n",
       "3              28              -1     -1       -5                0      -1321   \n",
       "4              58               2      0       -1                0      -1004   \n",
       "...           ...             ...    ...      ...              ...        ...   \n",
       "9874          -29              -1      3       -2                0       2519   \n",
       "9875           42             -21      2        5                0        782   \n",
       "9876            9               1     -1       -6                0      -2416   \n",
       "9877          -52               0     -1        2                0       -839   \n",
       "9878            9              -2      0        1                0        927   \n",
       "\n",
       "      AvgLevel  TotalExperience  TotalMinionsKilled  TotalJungleMinionsKilled  \\\n",
       "0         -0.2               -8                  -2                       -19   \n",
       "1         -0.2            -1173                 -66                        -9   \n",
       "2         -0.4            -1033                 -17                        18   \n",
       "3          0.0               -7                 -34                         8   \n",
       "4          0.0              230                 -15                       -10   \n",
       "...        ...              ...                 ...                       ...   \n",
       "9874       0.4             2469                 -18                        35   \n",
       "9875       0.2              888                  27                        -8   \n",
       "9876      -0.4            -1877                 -51                       -15   \n",
       "9877      -0.6            -1085                 -23                         8   \n",
       "9878       0.2              -58                   6                        -2   \n",
       "\n",
       "     firstBlood     dragon     herald  blueWins  \n",
       "0          Blue  No Dragon  No Herald         0  \n",
       "1           Red        Red        Red         0  \n",
       "2           Red       Blue  No Herald         0  \n",
       "3           Red  No Dragon       Blue         0  \n",
       "4           Red        Red  No Herald         0  \n",
       "...         ...        ...        ...       ...  \n",
       "9874       Blue       Blue  No Herald         1  \n",
       "9875        Red       Blue  No Herald         1  \n",
       "9876        Red        Red  No Herald         0  \n",
       "9877       Blue       Blue  No Herald         0  \n",
       "9878       Blue        Red  No Herald         1  \n",
       "\n",
       "[9879 rows x 14 columns]"
      ]
     },
     "execution_count": 529,
     "metadata": {},
     "output_type": "execute_result"
    }
   ],
   "source": [
    "df"
   ]
  },
  {
   "cell_type": "code",
   "execution_count": 530,
   "metadata": {
    "ExecuteTime": {
     "end_time": "2021-05-21T18:48:47.300566Z",
     "start_time": "2021-05-21T18:48:47.208003Z"
    }
   },
   "outputs": [
    {
     "data": {
      "text/html": [
       "<div>\n",
       "<style scoped>\n",
       "    .dataframe tbody tr th:only-of-type {\n",
       "        vertical-align: middle;\n",
       "    }\n",
       "\n",
       "    .dataframe tbody tr th {\n",
       "        vertical-align: top;\n",
       "    }\n",
       "\n",
       "    .dataframe thead th {\n",
       "        text-align: right;\n",
       "    }\n",
       "</style>\n",
       "<table border=\"1\" class=\"dataframe\">\n",
       "  <thead>\n",
       "    <tr style=\"text-align: right;\">\n",
       "      <th></th>\n",
       "      <th>WardsPlaced</th>\n",
       "      <th>WardsDestroyed</th>\n",
       "      <th>Kills</th>\n",
       "      <th>Assists</th>\n",
       "      <th>TowersDestroyed</th>\n",
       "      <th>TotalGold</th>\n",
       "      <th>AvgLevel</th>\n",
       "      <th>TotalExperience</th>\n",
       "      <th>TotalMinionsKilled</th>\n",
       "      <th>TotalJungleMinionsKilled</th>\n",
       "      <th>firstBlood</th>\n",
       "      <th>dragon</th>\n",
       "      <th>herald</th>\n",
       "      <th>blueWins</th>\n",
       "    </tr>\n",
       "  </thead>\n",
       "  <tbody>\n",
       "    <tr>\n",
       "      <th>0</th>\n",
       "      <td>13</td>\n",
       "      <td>-4</td>\n",
       "      <td>3</td>\n",
       "      <td>3</td>\n",
       "      <td>0</td>\n",
       "      <td>643</td>\n",
       "      <td>-0.2</td>\n",
       "      <td>-8</td>\n",
       "      <td>-2</td>\n",
       "      <td>-19</td>\n",
       "      <td>Blue</td>\n",
       "      <td>No Dragon</td>\n",
       "      <td>No Herald</td>\n",
       "      <td>0</td>\n",
       "    </tr>\n",
       "    <tr>\n",
       "      <th>1</th>\n",
       "      <td>0</td>\n",
       "      <td>0</td>\n",
       "      <td>0</td>\n",
       "      <td>3</td>\n",
       "      <td>-1</td>\n",
       "      <td>-2908</td>\n",
       "      <td>-0.2</td>\n",
       "      <td>-1173</td>\n",
       "      <td>-66</td>\n",
       "      <td>-9</td>\n",
       "      <td>Red</td>\n",
       "      <td>Red</td>\n",
       "      <td>Red</td>\n",
       "      <td>0</td>\n",
       "    </tr>\n",
       "    <tr>\n",
       "      <th>2</th>\n",
       "      <td>0</td>\n",
       "      <td>-3</td>\n",
       "      <td>-4</td>\n",
       "      <td>-10</td>\n",
       "      <td>0</td>\n",
       "      <td>-1172</td>\n",
       "      <td>-0.4</td>\n",
       "      <td>-1033</td>\n",
       "      <td>-17</td>\n",
       "      <td>18</td>\n",
       "      <td>Red</td>\n",
       "      <td>Blue</td>\n",
       "      <td>No Herald</td>\n",
       "      <td>0</td>\n",
       "    </tr>\n",
       "    <tr>\n",
       "      <th>3</th>\n",
       "      <td>28</td>\n",
       "      <td>-1</td>\n",
       "      <td>-1</td>\n",
       "      <td>-5</td>\n",
       "      <td>0</td>\n",
       "      <td>-1321</td>\n",
       "      <td>0.0</td>\n",
       "      <td>-7</td>\n",
       "      <td>-34</td>\n",
       "      <td>8</td>\n",
       "      <td>Red</td>\n",
       "      <td>No Dragon</td>\n",
       "      <td>Blue</td>\n",
       "      <td>0</td>\n",
       "    </tr>\n",
       "    <tr>\n",
       "      <th>4</th>\n",
       "      <td>58</td>\n",
       "      <td>2</td>\n",
       "      <td>0</td>\n",
       "      <td>-1</td>\n",
       "      <td>0</td>\n",
       "      <td>-1004</td>\n",
       "      <td>0.0</td>\n",
       "      <td>230</td>\n",
       "      <td>-15</td>\n",
       "      <td>-10</td>\n",
       "      <td>Red</td>\n",
       "      <td>Red</td>\n",
       "      <td>No Herald</td>\n",
       "      <td>0</td>\n",
       "    </tr>\n",
       "    <tr>\n",
       "      <th>...</th>\n",
       "      <td>...</td>\n",
       "      <td>...</td>\n",
       "      <td>...</td>\n",
       "      <td>...</td>\n",
       "      <td>...</td>\n",
       "      <td>...</td>\n",
       "      <td>...</td>\n",
       "      <td>...</td>\n",
       "      <td>...</td>\n",
       "      <td>...</td>\n",
       "      <td>...</td>\n",
       "      <td>...</td>\n",
       "      <td>...</td>\n",
       "      <td>...</td>\n",
       "    </tr>\n",
       "    <tr>\n",
       "      <th>9874</th>\n",
       "      <td>-29</td>\n",
       "      <td>-1</td>\n",
       "      <td>3</td>\n",
       "      <td>-2</td>\n",
       "      <td>0</td>\n",
       "      <td>2519</td>\n",
       "      <td>0.4</td>\n",
       "      <td>2469</td>\n",
       "      <td>-18</td>\n",
       "      <td>35</td>\n",
       "      <td>Blue</td>\n",
       "      <td>Blue</td>\n",
       "      <td>No Herald</td>\n",
       "      <td>1</td>\n",
       "    </tr>\n",
       "    <tr>\n",
       "      <th>9875</th>\n",
       "      <td>42</td>\n",
       "      <td>-21</td>\n",
       "      <td>2</td>\n",
       "      <td>5</td>\n",
       "      <td>0</td>\n",
       "      <td>782</td>\n",
       "      <td>0.2</td>\n",
       "      <td>888</td>\n",
       "      <td>27</td>\n",
       "      <td>-8</td>\n",
       "      <td>Red</td>\n",
       "      <td>Blue</td>\n",
       "      <td>No Herald</td>\n",
       "      <td>1</td>\n",
       "    </tr>\n",
       "    <tr>\n",
       "      <th>9876</th>\n",
       "      <td>9</td>\n",
       "      <td>1</td>\n",
       "      <td>-1</td>\n",
       "      <td>-6</td>\n",
       "      <td>0</td>\n",
       "      <td>-2416</td>\n",
       "      <td>-0.4</td>\n",
       "      <td>-1877</td>\n",
       "      <td>-51</td>\n",
       "      <td>-15</td>\n",
       "      <td>Red</td>\n",
       "      <td>Red</td>\n",
       "      <td>No Herald</td>\n",
       "      <td>0</td>\n",
       "    </tr>\n",
       "    <tr>\n",
       "      <th>9877</th>\n",
       "      <td>-52</td>\n",
       "      <td>0</td>\n",
       "      <td>-1</td>\n",
       "      <td>2</td>\n",
       "      <td>0</td>\n",
       "      <td>-839</td>\n",
       "      <td>-0.6</td>\n",
       "      <td>-1085</td>\n",
       "      <td>-23</td>\n",
       "      <td>8</td>\n",
       "      <td>Blue</td>\n",
       "      <td>Blue</td>\n",
       "      <td>No Herald</td>\n",
       "      <td>0</td>\n",
       "    </tr>\n",
       "    <tr>\n",
       "      <th>9878</th>\n",
       "      <td>9</td>\n",
       "      <td>-2</td>\n",
       "      <td>0</td>\n",
       "      <td>1</td>\n",
       "      <td>0</td>\n",
       "      <td>927</td>\n",
       "      <td>0.2</td>\n",
       "      <td>-58</td>\n",
       "      <td>6</td>\n",
       "      <td>-2</td>\n",
       "      <td>Blue</td>\n",
       "      <td>Red</td>\n",
       "      <td>No Herald</td>\n",
       "      <td>1</td>\n",
       "    </tr>\n",
       "  </tbody>\n",
       "</table>\n",
       "<p>9879 rows × 14 columns</p>\n",
       "</div>"
      ],
      "text/plain": [
       "      WardsPlaced  WardsDestroyed  Kills  Assists  TowersDestroyed  TotalGold  \\\n",
       "0              13              -4      3        3                0        643   \n",
       "1               0               0      0        3               -1      -2908   \n",
       "2               0              -3     -4      -10                0      -1172   \n",
       "3              28              -1     -1       -5                0      -1321   \n",
       "4              58               2      0       -1                0      -1004   \n",
       "...           ...             ...    ...      ...              ...        ...   \n",
       "9874          -29              -1      3       -2                0       2519   \n",
       "9875           42             -21      2        5                0        782   \n",
       "9876            9               1     -1       -6                0      -2416   \n",
       "9877          -52               0     -1        2                0       -839   \n",
       "9878            9              -2      0        1                0        927   \n",
       "\n",
       "      AvgLevel  TotalExperience  TotalMinionsKilled  TotalJungleMinionsKilled  \\\n",
       "0         -0.2               -8                  -2                       -19   \n",
       "1         -0.2            -1173                 -66                        -9   \n",
       "2         -0.4            -1033                 -17                        18   \n",
       "3          0.0               -7                 -34                         8   \n",
       "4          0.0              230                 -15                       -10   \n",
       "...        ...              ...                 ...                       ...   \n",
       "9874       0.4             2469                 -18                        35   \n",
       "9875       0.2              888                  27                        -8   \n",
       "9876      -0.4            -1877                 -51                       -15   \n",
       "9877      -0.6            -1085                 -23                         8   \n",
       "9878       0.2              -58                   6                        -2   \n",
       "\n",
       "     firstBlood     dragon     herald  blueWins  \n",
       "0          Blue  No Dragon  No Herald         0  \n",
       "1           Red        Red        Red         0  \n",
       "2           Red       Blue  No Herald         0  \n",
       "3           Red  No Dragon       Blue         0  \n",
       "4           Red        Red  No Herald         0  \n",
       "...         ...        ...        ...       ...  \n",
       "9874       Blue       Blue  No Herald         1  \n",
       "9875        Red       Blue  No Herald         1  \n",
       "9876        Red        Red  No Herald         0  \n",
       "9877       Blue       Blue  No Herald         0  \n",
       "9878       Blue        Red  No Herald         1  \n",
       "\n",
       "[9879 rows x 14 columns]"
      ]
     },
     "execution_count": 530,
     "metadata": {},
     "output_type": "execute_result"
    }
   ],
   "source": [
    "df"
   ]
  },
  {
   "cell_type": "code",
   "execution_count": null,
   "metadata": {},
   "outputs": [],
   "source": []
  },
  {
   "cell_type": "code",
   "execution_count": null,
   "metadata": {},
   "outputs": [],
   "source": []
  },
  {
   "cell_type": "code",
   "execution_count": null,
   "metadata": {},
   "outputs": [],
   "source": []
  },
  {
   "cell_type": "markdown",
   "metadata": {},
   "source": [
    "# MODEL"
   ]
  },
  {
   "cell_type": "code",
   "execution_count": null,
   "metadata": {},
   "outputs": [],
   "source": []
  },
  {
   "cell_type": "markdown",
   "metadata": {},
   "source": [
    "## Data Modeling\n",
    "Describe and justify the process for analyzing or modeling the data.\n",
    "\n",
    "***\n",
    "Questions to consider:\n",
    "* How did you analyze or model the data?\n",
    "* How did you iterate on your initial approach to make it better?\n",
    "* Why are these choices appropriate given the data and the business problem?\n",
    "***"
   ]
  },
  {
   "cell_type": "markdown",
   "metadata": {},
   "source": [
    "## Train Test Split"
   ]
  },
  {
   "cell_type": "code",
   "execution_count": 531,
   "metadata": {
    "ExecuteTime": {
     "end_time": "2021-05-21T19:04:39.308540Z",
     "start_time": "2021-05-21T19:04:39.098664Z"
    }
   },
   "outputs": [],
   "source": [
    "def tt_split_df(df):\n",
    "    \n",
    "    y = df['blueWins']\n",
    "    X = df.drop(columns=['blueWins'], axis=1)\n",
    "    \n",
    "    X_train, X_test, y_train, y_test = train_test_split(X, y, test_size=0.3)\n",
    "    \n",
    "    X_train_tf = X_train.copy()\n",
    "    X_test_tf = X_test.copy()\n",
    "    \n",
    "    categoricals = X.select_dtypes('O').columns\n",
    "    numericals = X.select_dtypes('number').columns\n",
    "    \n",
    "    encoder = OneHotEncoder(sparse=False,drop='if_binary')\n",
    "    train_categoricals = encoder.fit_transform(X_train_tf[categoricals])\n",
    "    test_categoricals = encoder.transform(X_test_tf[categoricals])\n",
    "    \n",
    "    train_categoricals_df = pd.DataFrame(train_categoricals,\n",
    "                                     columns=encoder.get_feature_names(categoricals))\n",
    "\n",
    "    test_categoricals_df =  pd.DataFrame(test_categoricals,\n",
    "                                     columns=encoder.get_feature_names(categoricals))\n",
    "    train_numericals_df = pd.DataFrame(scaler.fit_transform(X_train_tf[numericals]),\n",
    "                              columns=numericals)\n",
    "\n",
    "    test_numericals_df = pd.DataFrame(scaler.transform(X_test_tf[numericals]),\n",
    "                              columns=numericals)\n",
    "    \n",
    "    X_train_tf = pd.concat([train_numericals_df, train_categoricals_df], axis=1)\n",
    "    X_test_tf = pd.concat([test_numericals_df, test_categoricals_df], axis=1)\n",
    "    \n",
    "    return X_train_tf, X_test_tf, y_train, y_test\n",
    "\n",
    "# tt_split_df(diff_df)\n",
    "\n",
    "X_train, X_test, y_train, y_test = tt_split_df(diff_df)\n",
    "\n",
    "X_train_tf, X_test_tf, y_train, y_test = tt_split_df(df)\n"
   ]
  },
  {
   "cell_type": "code",
   "execution_count": 532,
   "metadata": {
    "ExecuteTime": {
     "end_time": "2021-05-21T19:05:35.180000Z",
     "start_time": "2021-05-21T19:05:35.121659Z"
    }
   },
   "outputs": [
    {
     "data": {
      "text/html": [
       "<div>\n",
       "<style scoped>\n",
       "    .dataframe tbody tr th:only-of-type {\n",
       "        vertical-align: middle;\n",
       "    }\n",
       "\n",
       "    .dataframe tbody tr th {\n",
       "        vertical-align: top;\n",
       "    }\n",
       "\n",
       "    .dataframe thead th {\n",
       "        text-align: right;\n",
       "    }\n",
       "</style>\n",
       "<table border=\"1\" class=\"dataframe\">\n",
       "  <thead>\n",
       "    <tr style=\"text-align: right;\">\n",
       "      <th></th>\n",
       "      <th>WardsPlaced</th>\n",
       "      <th>WardsDestroyed</th>\n",
       "      <th>Kills</th>\n",
       "      <th>Assists</th>\n",
       "      <th>TowersDestroyed</th>\n",
       "      <th>TotalGold</th>\n",
       "      <th>AvgLevel</th>\n",
       "      <th>TotalExperience</th>\n",
       "      <th>TotalMinionsKilled</th>\n",
       "      <th>TotalJungleMinionsKilled</th>\n",
       "      <th>firstBlood_Red</th>\n",
       "      <th>dragon_Blue</th>\n",
       "      <th>dragon_No Dragon</th>\n",
       "      <th>dragon_Red</th>\n",
       "      <th>herald_Blue</th>\n",
       "      <th>herald_No Herald</th>\n",
       "      <th>herald_Red</th>\n",
       "    </tr>\n",
       "  </thead>\n",
       "  <tbody>\n",
       "    <tr>\n",
       "      <th>0</th>\n",
       "      <td>-0.791231</td>\n",
       "      <td>-0.380079</td>\n",
       "      <td>-0.245136</td>\n",
       "      <td>-0.337819</td>\n",
       "      <td>-0.019208</td>\n",
       "      <td>-0.163406</td>\n",
       "      <td>-0.398722</td>\n",
       "      <td>-0.549987</td>\n",
       "      <td>0.839683</td>\n",
       "      <td>-0.432750</td>\n",
       "      <td>0.0</td>\n",
       "      <td>1.0</td>\n",
       "      <td>0.0</td>\n",
       "      <td>0.0</td>\n",
       "      <td>0.0</td>\n",
       "      <td>1.0</td>\n",
       "      <td>0.0</td>\n",
       "    </tr>\n",
       "    <tr>\n",
       "      <th>1</th>\n",
       "      <td>0.003580</td>\n",
       "      <td>1.043867</td>\n",
       "      <td>0.471110</td>\n",
       "      <td>0.183071</td>\n",
       "      <td>-0.019208</td>\n",
       "      <td>0.306376</td>\n",
       "      <td>1.698298</td>\n",
       "      <td>1.090415</td>\n",
       "      <td>-0.198102</td>\n",
       "      <td>0.829628</td>\n",
       "      <td>1.0</td>\n",
       "      <td>0.0</td>\n",
       "      <td>0.0</td>\n",
       "      <td>1.0</td>\n",
       "      <td>0.0</td>\n",
       "      <td>1.0</td>\n",
       "      <td>0.0</td>\n",
       "    </tr>\n",
       "    <tr>\n",
       "      <th>2</th>\n",
       "      <td>0.154972</td>\n",
       "      <td>-0.024093</td>\n",
       "      <td>0.709858</td>\n",
       "      <td>-0.337819</td>\n",
       "      <td>3.069716</td>\n",
       "      <td>1.276605</td>\n",
       "      <td>1.698298</td>\n",
       "      <td>2.001750</td>\n",
       "      <td>1.553160</td>\n",
       "      <td>0.899760</td>\n",
       "      <td>0.0</td>\n",
       "      <td>1.0</td>\n",
       "      <td>0.0</td>\n",
       "      <td>0.0</td>\n",
       "      <td>0.0</td>\n",
       "      <td>1.0</td>\n",
       "      <td>0.0</td>\n",
       "    </tr>\n",
       "    <tr>\n",
       "      <th>3</th>\n",
       "      <td>-0.980472</td>\n",
       "      <td>-1.804026</td>\n",
       "      <td>-0.961381</td>\n",
       "      <td>-0.858708</td>\n",
       "      <td>-0.019208</td>\n",
       "      <td>-0.876870</td>\n",
       "      <td>0.020682</td>\n",
       "      <td>-0.007364</td>\n",
       "      <td>-0.489979</td>\n",
       "      <td>1.811477</td>\n",
       "      <td>0.0</td>\n",
       "      <td>1.0</td>\n",
       "      <td>0.0</td>\n",
       "      <td>0.0</td>\n",
       "      <td>0.0</td>\n",
       "      <td>0.0</td>\n",
       "      <td>1.0</td>\n",
       "    </tr>\n",
       "    <tr>\n",
       "      <th>4</th>\n",
       "      <td>-0.034269</td>\n",
       "      <td>-1.448039</td>\n",
       "      <td>-0.961381</td>\n",
       "      <td>-0.511449</td>\n",
       "      <td>-0.019208</td>\n",
       "      <td>-0.721911</td>\n",
       "      <td>-0.818126</td>\n",
       "      <td>-0.811636</td>\n",
       "      <td>0.255929</td>\n",
       "      <td>0.058175</td>\n",
       "      <td>1.0</td>\n",
       "      <td>0.0</td>\n",
       "      <td>0.0</td>\n",
       "      <td>1.0</td>\n",
       "      <td>0.0</td>\n",
       "      <td>0.0</td>\n",
       "      <td>1.0</td>\n",
       "    </tr>\n",
       "    <tr>\n",
       "      <th>...</th>\n",
       "      <td>...</td>\n",
       "      <td>...</td>\n",
       "      <td>...</td>\n",
       "      <td>...</td>\n",
       "      <td>...</td>\n",
       "      <td>...</td>\n",
       "      <td>...</td>\n",
       "      <td>...</td>\n",
       "      <td>...</td>\n",
       "      <td>...</td>\n",
       "      <td>...</td>\n",
       "      <td>...</td>\n",
       "      <td>...</td>\n",
       "      <td>...</td>\n",
       "      <td>...</td>\n",
       "      <td>...</td>\n",
       "      <td>...</td>\n",
       "    </tr>\n",
       "    <tr>\n",
       "      <th>6910</th>\n",
       "      <td>0.003580</td>\n",
       "      <td>-0.736066</td>\n",
       "      <td>-0.722633</td>\n",
       "      <td>-1.032338</td>\n",
       "      <td>-0.019208</td>\n",
       "      <td>-1.157349</td>\n",
       "      <td>-0.818126</td>\n",
       "      <td>-1.377238</td>\n",
       "      <td>-0.360256</td>\n",
       "      <td>0.058175</td>\n",
       "      <td>0.0</td>\n",
       "      <td>0.0</td>\n",
       "      <td>0.0</td>\n",
       "      <td>1.0</td>\n",
       "      <td>0.0</td>\n",
       "      <td>1.0</td>\n",
       "      <td>0.0</td>\n",
       "    </tr>\n",
       "    <tr>\n",
       "      <th>6911</th>\n",
       "      <td>0.041428</td>\n",
       "      <td>0.331894</td>\n",
       "      <td>0.471110</td>\n",
       "      <td>0.356701</td>\n",
       "      <td>-0.019208</td>\n",
       "      <td>0.727912</td>\n",
       "      <td>0.859490</td>\n",
       "      <td>0.642843</td>\n",
       "      <td>1.066698</td>\n",
       "      <td>-1.414599</td>\n",
       "      <td>1.0</td>\n",
       "      <td>0.0</td>\n",
       "      <td>0.0</td>\n",
       "      <td>1.0</td>\n",
       "      <td>1.0</td>\n",
       "      <td>0.0</td>\n",
       "      <td>0.0</td>\n",
       "    </tr>\n",
       "    <tr>\n",
       "      <th>6912</th>\n",
       "      <td>-0.450598</td>\n",
       "      <td>1.043867</td>\n",
       "      <td>-1.200130</td>\n",
       "      <td>-1.205968</td>\n",
       "      <td>-0.019208</td>\n",
       "      <td>-1.100926</td>\n",
       "      <td>-0.818126</td>\n",
       "      <td>-0.798058</td>\n",
       "      <td>-1.722348</td>\n",
       "      <td>0.128307</td>\n",
       "      <td>1.0</td>\n",
       "      <td>0.0</td>\n",
       "      <td>0.0</td>\n",
       "      <td>1.0</td>\n",
       "      <td>0.0</td>\n",
       "      <td>1.0</td>\n",
       "      <td>0.0</td>\n",
       "    </tr>\n",
       "    <tr>\n",
       "      <th>6913</th>\n",
       "      <td>-0.450598</td>\n",
       "      <td>-0.024093</td>\n",
       "      <td>-1.916375</td>\n",
       "      <td>-0.858708</td>\n",
       "      <td>-0.019208</td>\n",
       "      <td>-1.756331</td>\n",
       "      <td>-2.495742</td>\n",
       "      <td>-2.138686</td>\n",
       "      <td>-1.949364</td>\n",
       "      <td>-0.011957</td>\n",
       "      <td>0.0</td>\n",
       "      <td>0.0</td>\n",
       "      <td>1.0</td>\n",
       "      <td>0.0</td>\n",
       "      <td>0.0</td>\n",
       "      <td>1.0</td>\n",
       "      <td>0.0</td>\n",
       "    </tr>\n",
       "    <tr>\n",
       "      <th>6914</th>\n",
       "      <td>-0.677687</td>\n",
       "      <td>-0.736066</td>\n",
       "      <td>0.471110</td>\n",
       "      <td>0.530331</td>\n",
       "      <td>-0.019208</td>\n",
       "      <td>0.149782</td>\n",
       "      <td>0.020682</td>\n",
       "      <td>0.067840</td>\n",
       "      <td>0.482944</td>\n",
       "      <td>-1.063939</td>\n",
       "      <td>1.0</td>\n",
       "      <td>0.0</td>\n",
       "      <td>0.0</td>\n",
       "      <td>1.0</td>\n",
       "      <td>0.0</td>\n",
       "      <td>1.0</td>\n",
       "      <td>0.0</td>\n",
       "    </tr>\n",
       "  </tbody>\n",
       "</table>\n",
       "<p>6915 rows × 17 columns</p>\n",
       "</div>"
      ],
      "text/plain": [
       "      WardsPlaced  WardsDestroyed     Kills   Assists  TowersDestroyed  \\\n",
       "0       -0.791231       -0.380079 -0.245136 -0.337819        -0.019208   \n",
       "1        0.003580        1.043867  0.471110  0.183071        -0.019208   \n",
       "2        0.154972       -0.024093  0.709858 -0.337819         3.069716   \n",
       "3       -0.980472       -1.804026 -0.961381 -0.858708        -0.019208   \n",
       "4       -0.034269       -1.448039 -0.961381 -0.511449        -0.019208   \n",
       "...           ...             ...       ...       ...              ...   \n",
       "6910     0.003580       -0.736066 -0.722633 -1.032338        -0.019208   \n",
       "6911     0.041428        0.331894  0.471110  0.356701        -0.019208   \n",
       "6912    -0.450598        1.043867 -1.200130 -1.205968        -0.019208   \n",
       "6913    -0.450598       -0.024093 -1.916375 -0.858708        -0.019208   \n",
       "6914    -0.677687       -0.736066  0.471110  0.530331        -0.019208   \n",
       "\n",
       "      TotalGold  AvgLevel  TotalExperience  TotalMinionsKilled  \\\n",
       "0     -0.163406 -0.398722        -0.549987            0.839683   \n",
       "1      0.306376  1.698298         1.090415           -0.198102   \n",
       "2      1.276605  1.698298         2.001750            1.553160   \n",
       "3     -0.876870  0.020682        -0.007364           -0.489979   \n",
       "4     -0.721911 -0.818126        -0.811636            0.255929   \n",
       "...         ...       ...              ...                 ...   \n",
       "6910  -1.157349 -0.818126        -1.377238           -0.360256   \n",
       "6911   0.727912  0.859490         0.642843            1.066698   \n",
       "6912  -1.100926 -0.818126        -0.798058           -1.722348   \n",
       "6913  -1.756331 -2.495742        -2.138686           -1.949364   \n",
       "6914   0.149782  0.020682         0.067840            0.482944   \n",
       "\n",
       "      TotalJungleMinionsKilled  firstBlood_Red  dragon_Blue  dragon_No Dragon  \\\n",
       "0                    -0.432750             0.0          1.0               0.0   \n",
       "1                     0.829628             1.0          0.0               0.0   \n",
       "2                     0.899760             0.0          1.0               0.0   \n",
       "3                     1.811477             0.0          1.0               0.0   \n",
       "4                     0.058175             1.0          0.0               0.0   \n",
       "...                        ...             ...          ...               ...   \n",
       "6910                  0.058175             0.0          0.0               0.0   \n",
       "6911                 -1.414599             1.0          0.0               0.0   \n",
       "6912                  0.128307             1.0          0.0               0.0   \n",
       "6913                 -0.011957             0.0          0.0               1.0   \n",
       "6914                 -1.063939             1.0          0.0               0.0   \n",
       "\n",
       "      dragon_Red  herald_Blue  herald_No Herald  herald_Red  \n",
       "0            0.0          0.0               1.0         0.0  \n",
       "1            1.0          0.0               1.0         0.0  \n",
       "2            0.0          0.0               1.0         0.0  \n",
       "3            0.0          0.0               0.0         1.0  \n",
       "4            1.0          0.0               0.0         1.0  \n",
       "...          ...          ...               ...         ...  \n",
       "6910         1.0          0.0               1.0         0.0  \n",
       "6911         1.0          1.0               0.0         0.0  \n",
       "6912         1.0          0.0               1.0         0.0  \n",
       "6913         0.0          0.0               1.0         0.0  \n",
       "6914         1.0          0.0               1.0         0.0  \n",
       "\n",
       "[6915 rows x 17 columns]"
      ]
     },
     "execution_count": 532,
     "metadata": {},
     "output_type": "execute_result"
    }
   ],
   "source": [
    "X_train_tf\n"
   ]
  },
  {
   "cell_type": "code",
   "execution_count": null,
   "metadata": {},
   "outputs": [],
   "source": []
  },
  {
   "cell_type": "code",
   "execution_count": null,
   "metadata": {},
   "outputs": [],
   "source": []
  },
  {
   "cell_type": "code",
   "execution_count": null,
   "metadata": {},
   "outputs": [],
   "source": []
  },
  {
   "cell_type": "code",
   "execution_count": null,
   "metadata": {},
   "outputs": [],
   "source": []
  },
  {
   "cell_type": "code",
   "execution_count": null,
   "metadata": {},
   "outputs": [],
   "source": []
  },
  {
   "cell_type": "code",
   "execution_count": null,
   "metadata": {},
   "outputs": [],
   "source": []
  },
  {
   "cell_type": "code",
   "execution_count": null,
   "metadata": {},
   "outputs": [],
   "source": []
  },
  {
   "cell_type": "code",
   "execution_count": 533,
   "metadata": {},
   "outputs": [],
   "source": [
    "# >>> X_train, X_test, _, _ = train_test_split(X,y, test_size=0.33, random_state=42)"
   ]
  },
  {
   "cell_type": "code",
   "execution_count": 534,
   "metadata": {
    "ExecuteTime": {
     "end_time": "2021-05-21T18:48:47.580791Z",
     "start_time": "2021-05-21T18:48:47.553804Z"
    }
   },
   "outputs": [
    {
     "name": "stdout",
     "output_type": "stream",
     "text": [
      "X_train shape: (6915, 13)\n",
      "X_test shape: (2964, 13)\n"
     ]
    }
   ],
   "source": [
    "# Identify features and target\n",
    "\n",
    "y = df['blueWins']\n",
    "X = df.drop(columns=['blueWins'], axis=1)\n",
    "\n",
    "# Assign train / test split\n",
    "\n",
    "X_train, X_test, y_train, y_test = train_test_split(X, y, test_size=0.3, random_state=8)\n",
    "\n",
    "# Confirm split\n",
    "\n",
    "print(\"X_train shape:\", X_train.shape)\n",
    "print(\"X_test shape:\", X_test.shape)"
   ]
  },
  {
   "cell_type": "code",
   "execution_count": null,
   "metadata": {},
   "outputs": [],
   "source": []
  },
  {
   "cell_type": "code",
   "execution_count": null,
   "metadata": {},
   "outputs": [],
   "source": []
  },
  {
   "cell_type": "code",
   "execution_count": null,
   "metadata": {
    "ExecuteTime": {
     "end_time": "2021-05-20T19:20:44.829660Z",
     "start_time": "2021-05-20T19:20:44.786806Z"
    }
   },
   "outputs": [],
   "source": []
  },
  {
   "cell_type": "markdown",
   "metadata": {},
   "source": [
    "## Transforming X Train and Test"
   ]
  },
  {
   "cell_type": "code",
   "execution_count": 535,
   "metadata": {
    "ExecuteTime": {
     "end_time": "2021-05-21T18:48:47.596786Z",
     "start_time": "2021-05-21T18:48:47.582790Z"
    }
   },
   "outputs": [],
   "source": [
    "# X_train_tf = X_train.copy()\n",
    "# X_test_tf = X_test.copy()"
   ]
  },
  {
   "cell_type": "markdown",
   "metadata": {},
   "source": [
    "## Categorical Columns"
   ]
  },
  {
   "cell_type": "code",
   "execution_count": 536,
   "metadata": {
    "ExecuteTime": {
     "end_time": "2021-05-21T18:48:47.627808Z",
     "start_time": "2021-05-21T18:48:47.599785Z"
    }
   },
   "outputs": [
    {
     "data": {
      "text/plain": [
       "(Index(['firstBlood', 'dragon', 'herald'], dtype='object'),\n",
       " Index(['WardsPlaced', 'WardsDestroyed', 'Kills', 'Assists', 'TowersDestroyed',\n",
       "        'TotalGold', 'AvgLevel', 'TotalExperience', 'TotalMinionsKilled',\n",
       "        'TotalJungleMinionsKilled'],\n",
       "       dtype='object'))"
      ]
     },
     "execution_count": 536,
     "metadata": {},
     "output_type": "execute_result"
    }
   ],
   "source": [
    "categoricals = X.select_dtypes('O').columns\n",
    "numericals = X.select_dtypes('number').columns\n",
    "categoricals, numericals"
   ]
  },
  {
   "cell_type": "code",
   "execution_count": 537,
   "metadata": {
    "ExecuteTime": {
     "end_time": "2021-05-21T18:48:47.658948Z",
     "start_time": "2021-05-21T18:48:47.630956Z"
    }
   },
   "outputs": [
    {
     "data": {
      "text/plain": [
       "array([[0., 0., 1., ..., 0., 1., 0.],\n",
       "       [0., 0., 0., ..., 0., 1., 0.],\n",
       "       [1., 0., 0., ..., 1., 0., 0.],\n",
       "       ...,\n",
       "       [1., 0., 0., ..., 0., 1., 0.],\n",
       "       [1., 1., 0., ..., 0., 1., 0.],\n",
       "       [1., 0., 0., ..., 1., 0., 0.]])"
      ]
     },
     "execution_count": 537,
     "metadata": {},
     "output_type": "execute_result"
    }
   ],
   "source": [
    "## Encode categorical columns, only drop if binary\n",
    "encoder = OneHotEncoder(sparse=False,drop='if_binary')\n",
    "train_categoricals = encoder.fit_transform(X_train[categoricals])\n",
    "test_categoricals = encoder.transform(X_test[categoricals])\n",
    "train_categoricals"
   ]
  },
  {
   "cell_type": "code",
   "execution_count": 538,
   "metadata": {
    "ExecuteTime": {
     "end_time": "2021-05-21T18:48:47.706120Z",
     "start_time": "2021-05-21T18:48:47.660947Z"
    }
   },
   "outputs": [
    {
     "data": {
      "text/html": [
       "<div>\n",
       "<style scoped>\n",
       "    .dataframe tbody tr th:only-of-type {\n",
       "        vertical-align: middle;\n",
       "    }\n",
       "\n",
       "    .dataframe tbody tr th {\n",
       "        vertical-align: top;\n",
       "    }\n",
       "\n",
       "    .dataframe thead th {\n",
       "        text-align: right;\n",
       "    }\n",
       "</style>\n",
       "<table border=\"1\" class=\"dataframe\">\n",
       "  <thead>\n",
       "    <tr style=\"text-align: right;\">\n",
       "      <th></th>\n",
       "      <th>firstBlood_Red</th>\n",
       "      <th>dragon_Blue</th>\n",
       "      <th>dragon_No Dragon</th>\n",
       "      <th>dragon_Red</th>\n",
       "      <th>herald_Blue</th>\n",
       "      <th>herald_No Herald</th>\n",
       "      <th>herald_Red</th>\n",
       "    </tr>\n",
       "  </thead>\n",
       "  <tbody>\n",
       "    <tr>\n",
       "      <th>0</th>\n",
       "      <td>0.0</td>\n",
       "      <td>0.0</td>\n",
       "      <td>1.0</td>\n",
       "      <td>0.0</td>\n",
       "      <td>0.0</td>\n",
       "      <td>1.0</td>\n",
       "      <td>0.0</td>\n",
       "    </tr>\n",
       "    <tr>\n",
       "      <th>1</th>\n",
       "      <td>0.0</td>\n",
       "      <td>0.0</td>\n",
       "      <td>0.0</td>\n",
       "      <td>1.0</td>\n",
       "      <td>0.0</td>\n",
       "      <td>1.0</td>\n",
       "      <td>0.0</td>\n",
       "    </tr>\n",
       "    <tr>\n",
       "      <th>2</th>\n",
       "      <td>1.0</td>\n",
       "      <td>0.0</td>\n",
       "      <td>0.0</td>\n",
       "      <td>1.0</td>\n",
       "      <td>1.0</td>\n",
       "      <td>0.0</td>\n",
       "      <td>0.0</td>\n",
       "    </tr>\n",
       "    <tr>\n",
       "      <th>3</th>\n",
       "      <td>0.0</td>\n",
       "      <td>0.0</td>\n",
       "      <td>0.0</td>\n",
       "      <td>1.0</td>\n",
       "      <td>0.0</td>\n",
       "      <td>0.0</td>\n",
       "      <td>1.0</td>\n",
       "    </tr>\n",
       "    <tr>\n",
       "      <th>4</th>\n",
       "      <td>1.0</td>\n",
       "      <td>1.0</td>\n",
       "      <td>0.0</td>\n",
       "      <td>0.0</td>\n",
       "      <td>0.0</td>\n",
       "      <td>1.0</td>\n",
       "      <td>0.0</td>\n",
       "    </tr>\n",
       "  </tbody>\n",
       "</table>\n",
       "</div>"
      ],
      "text/plain": [
       "   firstBlood_Red  dragon_Blue  dragon_No Dragon  dragon_Red  herald_Blue  \\\n",
       "0             0.0          0.0               1.0         0.0          0.0   \n",
       "1             0.0          0.0               0.0         1.0          0.0   \n",
       "2             1.0          0.0               0.0         1.0          1.0   \n",
       "3             0.0          0.0               0.0         1.0          0.0   \n",
       "4             1.0          1.0               0.0         0.0          0.0   \n",
       "\n",
       "   herald_No Herald  herald_Red  \n",
       "0               1.0         0.0  \n",
       "1               1.0         0.0  \n",
       "2               0.0         0.0  \n",
       "3               0.0         1.0  \n",
       "4               1.0         0.0  "
      ]
     },
     "execution_count": 538,
     "metadata": {},
     "output_type": "execute_result"
    }
   ],
   "source": [
    "train_categoricals_df = pd.DataFrame(train_categoricals,\n",
    "                                     columns=encoder.get_feature_names(categoricals))\n",
    "\n",
    "test_categoricals_df =  pd.DataFrame(test_categoricals,\n",
    "                                     columns=encoder.get_feature_names(categoricals))\n",
    "\n",
    "train_categoricals_df.head()"
   ]
  },
  {
   "cell_type": "markdown",
   "metadata": {},
   "source": [
    "## Numerical Columns"
   ]
  },
  {
   "cell_type": "code",
   "execution_count": 539,
   "metadata": {
    "ExecuteTime": {
     "end_time": "2021-05-21T18:48:47.799511Z",
     "start_time": "2021-05-21T18:48:47.720117Z"
    }
   },
   "outputs": [
    {
     "data": {
      "text/html": [
       "<div>\n",
       "<style scoped>\n",
       "    .dataframe tbody tr th:only-of-type {\n",
       "        vertical-align: middle;\n",
       "    }\n",
       "\n",
       "    .dataframe tbody tr th {\n",
       "        vertical-align: top;\n",
       "    }\n",
       "\n",
       "    .dataframe thead th {\n",
       "        text-align: right;\n",
       "    }\n",
       "</style>\n",
       "<table border=\"1\" class=\"dataframe\">\n",
       "  <thead>\n",
       "    <tr style=\"text-align: right;\">\n",
       "      <th></th>\n",
       "      <th>WardsPlaced</th>\n",
       "      <th>WardsDestroyed</th>\n",
       "      <th>Kills</th>\n",
       "      <th>Assists</th>\n",
       "      <th>TowersDestroyed</th>\n",
       "      <th>TotalGold</th>\n",
       "      <th>AvgLevel</th>\n",
       "      <th>TotalExperience</th>\n",
       "      <th>TotalMinionsKilled</th>\n",
       "      <th>TotalJungleMinionsKilled</th>\n",
       "    </tr>\n",
       "  </thead>\n",
       "  <tbody>\n",
       "    <tr>\n",
       "      <th>0</th>\n",
       "      <td>-0.312890</td>\n",
       "      <td>1.373334</td>\n",
       "      <td>0.220704</td>\n",
       "      <td>-0.349942</td>\n",
       "      <td>-0.04164</td>\n",
       "      <td>-0.001092</td>\n",
       "      <td>-0.821423</td>\n",
       "      <td>-0.486820</td>\n",
       "      <td>-1.461816</td>\n",
       "      <td>1.449220</td>\n",
       "    </tr>\n",
       "    <tr>\n",
       "      <th>1</th>\n",
       "      <td>0.156072</td>\n",
       "      <td>-0.741644</td>\n",
       "      <td>0.220704</td>\n",
       "      <td>-0.003060</td>\n",
       "      <td>-0.04164</td>\n",
       "      <td>-0.440888</td>\n",
       "      <td>-0.821423</td>\n",
       "      <td>-0.545091</td>\n",
       "      <td>-0.784545</td>\n",
       "      <td>-1.143374</td>\n",
       "    </tr>\n",
       "    <tr>\n",
       "      <th>2</th>\n",
       "      <td>-0.000249</td>\n",
       "      <td>-0.389148</td>\n",
       "      <td>-0.733301</td>\n",
       "      <td>-0.349942</td>\n",
       "      <td>-0.04164</td>\n",
       "      <td>-0.276167</td>\n",
       "      <td>-0.405661</td>\n",
       "      <td>-0.490982</td>\n",
       "      <td>-0.816796</td>\n",
       "      <td>2.079851</td>\n",
       "    </tr>\n",
       "    <tr>\n",
       "      <th>3</th>\n",
       "      <td>0.156072</td>\n",
       "      <td>1.373334</td>\n",
       "      <td>2.128716</td>\n",
       "      <td>2.425111</td>\n",
       "      <td>-0.04164</td>\n",
       "      <td>2.063192</td>\n",
       "      <td>1.673149</td>\n",
       "      <td>1.640596</td>\n",
       "      <td>1.344019</td>\n",
       "      <td>-1.073304</td>\n",
       "    </tr>\n",
       "    <tr>\n",
       "      <th>4</th>\n",
       "      <td>-0.039329</td>\n",
       "      <td>-0.036651</td>\n",
       "      <td>0.697707</td>\n",
       "      <td>0.343822</td>\n",
       "      <td>-0.04164</td>\n",
       "      <td>0.381093</td>\n",
       "      <td>0.010101</td>\n",
       "      <td>0.397652</td>\n",
       "      <td>0.795753</td>\n",
       "      <td>-1.143374</td>\n",
       "    </tr>\n",
       "  </tbody>\n",
       "</table>\n",
       "</div>"
      ],
      "text/plain": [
       "   WardsPlaced  WardsDestroyed     Kills   Assists  TowersDestroyed  \\\n",
       "0    -0.312890        1.373334  0.220704 -0.349942         -0.04164   \n",
       "1     0.156072       -0.741644  0.220704 -0.003060         -0.04164   \n",
       "2    -0.000249       -0.389148 -0.733301 -0.349942         -0.04164   \n",
       "3     0.156072        1.373334  2.128716  2.425111         -0.04164   \n",
       "4    -0.039329       -0.036651  0.697707  0.343822         -0.04164   \n",
       "\n",
       "   TotalGold  AvgLevel  TotalExperience  TotalMinionsKilled  \\\n",
       "0  -0.001092 -0.821423        -0.486820           -1.461816   \n",
       "1  -0.440888 -0.821423        -0.545091           -0.784545   \n",
       "2  -0.276167 -0.405661        -0.490982           -0.816796   \n",
       "3   2.063192  1.673149         1.640596            1.344019   \n",
       "4   0.381093  0.010101         0.397652            0.795753   \n",
       "\n",
       "   TotalJungleMinionsKilled  \n",
       "0                  1.449220  \n",
       "1                 -1.143374  \n",
       "2                  2.079851  \n",
       "3                 -1.073304  \n",
       "4                 -1.143374  "
      ]
     },
     "execution_count": 539,
     "metadata": {},
     "output_type": "execute_result"
    }
   ],
   "source": [
    "from sklearn.preprocessing import StandardScaler\n",
    "\n",
    "scaler = scaler = StandardScaler()\n",
    "\n",
    "train_numericals_df = pd.DataFrame(scaler.fit_transform(X_train[numericals]),\n",
    "                              columns=numericals)\n",
    "\n",
    "test_numericals_df = pd.DataFrame(scaler.transform(X_test[numericals]),\n",
    "                              columns=numericals)\n",
    "\n",
    "train_numericals_df.head()"
   ]
  },
  {
   "cell_type": "code",
   "execution_count": 540,
   "metadata": {
    "ExecuteTime": {
     "end_time": "2021-05-21T18:48:47.860873Z",
     "start_time": "2021-05-21T18:48:47.802510Z"
    }
   },
   "outputs": [
    {
     "data": {
      "text/html": [
       "<div>\n",
       "<style scoped>\n",
       "    .dataframe tbody tr th:only-of-type {\n",
       "        vertical-align: middle;\n",
       "    }\n",
       "\n",
       "    .dataframe tbody tr th {\n",
       "        vertical-align: top;\n",
       "    }\n",
       "\n",
       "    .dataframe thead th {\n",
       "        text-align: right;\n",
       "    }\n",
       "</style>\n",
       "<table border=\"1\" class=\"dataframe\">\n",
       "  <thead>\n",
       "    <tr style=\"text-align: right;\">\n",
       "      <th></th>\n",
       "      <th>WardsPlaced</th>\n",
       "      <th>WardsDestroyed</th>\n",
       "      <th>Kills</th>\n",
       "      <th>Assists</th>\n",
       "      <th>TowersDestroyed</th>\n",
       "      <th>TotalGold</th>\n",
       "      <th>AvgLevel</th>\n",
       "      <th>TotalExperience</th>\n",
       "      <th>TotalMinionsKilled</th>\n",
       "      <th>TotalJungleMinionsKilled</th>\n",
       "      <th>firstBlood_Red</th>\n",
       "      <th>dragon_Blue</th>\n",
       "      <th>dragon_No Dragon</th>\n",
       "      <th>dragon_Red</th>\n",
       "      <th>herald_Blue</th>\n",
       "      <th>herald_No Herald</th>\n",
       "      <th>herald_Red</th>\n",
       "    </tr>\n",
       "  </thead>\n",
       "  <tbody>\n",
       "    <tr>\n",
       "      <th>0</th>\n",
       "      <td>-0.312890</td>\n",
       "      <td>1.373334</td>\n",
       "      <td>0.220704</td>\n",
       "      <td>-0.349942</td>\n",
       "      <td>-0.04164</td>\n",
       "      <td>-0.001092</td>\n",
       "      <td>-0.821423</td>\n",
       "      <td>-0.486820</td>\n",
       "      <td>-1.461816</td>\n",
       "      <td>1.449220</td>\n",
       "      <td>0.0</td>\n",
       "      <td>0.0</td>\n",
       "      <td>1.0</td>\n",
       "      <td>0.0</td>\n",
       "      <td>0.0</td>\n",
       "      <td>1.0</td>\n",
       "      <td>0.0</td>\n",
       "    </tr>\n",
       "    <tr>\n",
       "      <th>1</th>\n",
       "      <td>0.156072</td>\n",
       "      <td>-0.741644</td>\n",
       "      <td>0.220704</td>\n",
       "      <td>-0.003060</td>\n",
       "      <td>-0.04164</td>\n",
       "      <td>-0.440888</td>\n",
       "      <td>-0.821423</td>\n",
       "      <td>-0.545091</td>\n",
       "      <td>-0.784545</td>\n",
       "      <td>-1.143374</td>\n",
       "      <td>0.0</td>\n",
       "      <td>0.0</td>\n",
       "      <td>0.0</td>\n",
       "      <td>1.0</td>\n",
       "      <td>0.0</td>\n",
       "      <td>1.0</td>\n",
       "      <td>0.0</td>\n",
       "    </tr>\n",
       "    <tr>\n",
       "      <th>2</th>\n",
       "      <td>-0.000249</td>\n",
       "      <td>-0.389148</td>\n",
       "      <td>-0.733301</td>\n",
       "      <td>-0.349942</td>\n",
       "      <td>-0.04164</td>\n",
       "      <td>-0.276167</td>\n",
       "      <td>-0.405661</td>\n",
       "      <td>-0.490982</td>\n",
       "      <td>-0.816796</td>\n",
       "      <td>2.079851</td>\n",
       "      <td>1.0</td>\n",
       "      <td>0.0</td>\n",
       "      <td>0.0</td>\n",
       "      <td>1.0</td>\n",
       "      <td>1.0</td>\n",
       "      <td>0.0</td>\n",
       "      <td>0.0</td>\n",
       "    </tr>\n",
       "    <tr>\n",
       "      <th>3</th>\n",
       "      <td>0.156072</td>\n",
       "      <td>1.373334</td>\n",
       "      <td>2.128716</td>\n",
       "      <td>2.425111</td>\n",
       "      <td>-0.04164</td>\n",
       "      <td>2.063192</td>\n",
       "      <td>1.673149</td>\n",
       "      <td>1.640596</td>\n",
       "      <td>1.344019</td>\n",
       "      <td>-1.073304</td>\n",
       "      <td>0.0</td>\n",
       "      <td>0.0</td>\n",
       "      <td>0.0</td>\n",
       "      <td>1.0</td>\n",
       "      <td>0.0</td>\n",
       "      <td>0.0</td>\n",
       "      <td>1.0</td>\n",
       "    </tr>\n",
       "    <tr>\n",
       "      <th>4</th>\n",
       "      <td>-0.039329</td>\n",
       "      <td>-0.036651</td>\n",
       "      <td>0.697707</td>\n",
       "      <td>0.343822</td>\n",
       "      <td>-0.04164</td>\n",
       "      <td>0.381093</td>\n",
       "      <td>0.010101</td>\n",
       "      <td>0.397652</td>\n",
       "      <td>0.795753</td>\n",
       "      <td>-1.143374</td>\n",
       "      <td>1.0</td>\n",
       "      <td>1.0</td>\n",
       "      <td>0.0</td>\n",
       "      <td>0.0</td>\n",
       "      <td>0.0</td>\n",
       "      <td>1.0</td>\n",
       "      <td>0.0</td>\n",
       "    </tr>\n",
       "  </tbody>\n",
       "</table>\n",
       "</div>"
      ],
      "text/plain": [
       "   WardsPlaced  WardsDestroyed     Kills   Assists  TowersDestroyed  \\\n",
       "0    -0.312890        1.373334  0.220704 -0.349942         -0.04164   \n",
       "1     0.156072       -0.741644  0.220704 -0.003060         -0.04164   \n",
       "2    -0.000249       -0.389148 -0.733301 -0.349942         -0.04164   \n",
       "3     0.156072        1.373334  2.128716  2.425111         -0.04164   \n",
       "4    -0.039329       -0.036651  0.697707  0.343822         -0.04164   \n",
       "\n",
       "   TotalGold  AvgLevel  TotalExperience  TotalMinionsKilled  \\\n",
       "0  -0.001092 -0.821423        -0.486820           -1.461816   \n",
       "1  -0.440888 -0.821423        -0.545091           -0.784545   \n",
       "2  -0.276167 -0.405661        -0.490982           -0.816796   \n",
       "3   2.063192  1.673149         1.640596            1.344019   \n",
       "4   0.381093  0.010101         0.397652            0.795753   \n",
       "\n",
       "   TotalJungleMinionsKilled  firstBlood_Red  dragon_Blue  dragon_No Dragon  \\\n",
       "0                  1.449220             0.0          0.0               1.0   \n",
       "1                 -1.143374             0.0          0.0               0.0   \n",
       "2                  2.079851             1.0          0.0               0.0   \n",
       "3                 -1.073304             0.0          0.0               0.0   \n",
       "4                 -1.143374             1.0          1.0               0.0   \n",
       "\n",
       "   dragon_Red  herald_Blue  herald_No Herald  herald_Red  \n",
       "0         0.0          0.0               1.0         0.0  \n",
       "1         1.0          0.0               1.0         0.0  \n",
       "2         1.0          1.0               0.0         0.0  \n",
       "3         1.0          0.0               0.0         1.0  \n",
       "4         0.0          0.0               1.0         0.0  "
      ]
     },
     "execution_count": 540,
     "metadata": {},
     "output_type": "execute_result"
    }
   ],
   "source": [
    "X_train = pd.concat([train_numericals_df, train_categoricals_df], axis=1)\n",
    "X_test = pd.concat([test_numericals_df, test_categoricals_df], axis=1)\n",
    "\n",
    "X_train.head()"
   ]
  },
  {
   "cell_type": "markdown",
   "metadata": {},
   "source": [
    "## Logistic Regression"
   ]
  },
  {
   "cell_type": "code",
   "execution_count": 541,
   "metadata": {
    "ExecuteTime": {
     "end_time": "2021-05-21T18:49:35.152882Z",
     "start_time": "2021-05-21T18:49:35.035911Z"
    }
   },
   "outputs": [
    {
     "data": {
      "text/plain": [
       "LogisticRegression()"
      ]
     },
     "execution_count": 541,
     "metadata": {},
     "output_type": "execute_result"
    }
   ],
   "source": [
    "model_log = LogisticRegression()\n",
    "\n",
    "model_log.fit(X_train, y_train)\n",
    "\n",
    "# scores = cross_val_score(model_lr, X_train,y_train, cv=10) # model, train, target, cross validation\n",
    "\n"
   ]
  },
  {
   "cell_type": "code",
   "execution_count": 542,
   "metadata": {
    "ExecuteTime": {
     "end_time": "2021-05-21T18:49:42.310351Z",
     "start_time": "2021-05-21T18:49:42.293065Z"
    }
   },
   "outputs": [
    {
     "data": {
      "text/plain": [
       "1    0.500217\n",
       "0    0.499783\n",
       "Name: blueWins, dtype: float64"
      ]
     },
     "execution_count": 542,
     "metadata": {},
     "output_type": "execute_result"
    }
   ],
   "source": [
    "y_train.value_counts(1)"
   ]
  },
  {
   "cell_type": "code",
   "execution_count": 543,
   "metadata": {
    "ExecuteTime": {
     "end_time": "2021-05-21T18:50:01.490419Z",
     "start_time": "2021-05-21T18:50:01.468639Z"
    }
   },
   "outputs": [
    {
     "data": {
      "text/plain": [
       "0    0.503711\n",
       "1    0.496289\n",
       "Name: blueWins, dtype: float64"
      ]
     },
     "execution_count": 543,
     "metadata": {},
     "output_type": "execute_result"
    }
   ],
   "source": [
    "y_test.value_counts(1)"
   ]
  },
  {
   "cell_type": "code",
   "execution_count": 544,
   "metadata": {},
   "outputs": [],
   "source": [
    "## Get Predictions for training and test data to check metrics functions\n",
    "y_hat_train = model_log.predict(X_train)\n",
    "y_hat_test = model_log.predict(X_test)"
   ]
  },
  {
   "cell_type": "markdown",
   "metadata": {},
   "source": [
    "### Model Accuracy"
   ]
  },
  {
   "cell_type": "code",
   "execution_count": 545,
   "metadata": {
    "ExecuteTime": {
     "end_time": "2021-05-21T18:37:41.943963Z",
     "start_time": "2021-05-21T18:37:41.913974Z"
    }
   },
   "outputs": [
    {
     "name": "stdout",
     "output_type": "stream",
     "text": [
      "Logistic Regression accuracy score:\n",
      "Training Score:\t0.74\n",
      "Test Score:\t0.72\n"
     ]
    }
   ],
   "source": [
    "def model_accuracy(model_string_name, model, X_train=X_train, y_train=y_train, X_test=X_test, y_test=y_test):    \n",
    "    print(f'{model_string_name} accuracy score:')\n",
    "    print(f'Training Score:\\t{model_log.score(X_train,y_train):.2f}')\n",
    "    print(f'Test Score:\\t{model_log.score(X_test,y_test):.2f}')\n",
    "\n",
    "model_accuracy('Logistic Regression', model_log)"
   ]
  },
  {
   "cell_type": "markdown",
   "metadata": {},
   "source": [
    "### Cross Validation Check"
   ]
  },
  {
   "cell_type": "code",
   "execution_count": 546,
   "metadata": {},
   "outputs": [
    {
     "name": "stdout",
     "output_type": "stream",
     "text": [
      "Logistic Regression Cross Validation Scores:\n",
      "\n",
      "[0.72976879 0.73265896 0.75867052 0.73410405 0.73988439 0.74384949\n",
      " 0.72503618 0.75253256 0.72648336 0.73950796]\n",
      "\n",
      "Cross validation mean: \t0.738\n"
     ]
    }
   ],
   "source": [
    "def cross_val_check(model_string_name, model, X_train=X_train, y_train=y_train, X_test=X_test, y_test=y_test):\n",
    "    scores = cross_val_score(model, X_train, y_train, cv=10) # model, train, target, cross validation\n",
    "    print(f'{model_string_name} Cross Validation Scores:\\n')\n",
    "    print(scores)\n",
    "    print(f'\\nCross validation mean: \\t{scores.mean():.3f}')\n",
    "    \n",
    "cross_val_check('Logistic Regression', model_log)"
   ]
  },
  {
   "cell_type": "markdown",
   "metadata": {},
   "source": [
    "### Confusion Matrix"
   ]
  },
  {
   "cell_type": "code",
   "execution_count": null,
   "metadata": {},
   "outputs": [],
   "source": []
  },
  {
   "cell_type": "code",
   "execution_count": 547,
   "metadata": {
    "scrolled": true
   },
   "outputs": [],
   "source": [
    "## Modified version of our simple eval function from Topic 25 Part 2 Study Group\n",
    "# - Added X_train and y_train for if we want scores for both train and test\n",
    "def evaluate_classification(model, X_test_tf,y_test,cmap='Blues',\n",
    "                            normalize='true',classes=None,figsize=(10,4),\n",
    "                            X_train = None, y_train = None,):\n",
    "    \"\"\"Evaluates a scikit-learn binary classification model.\n",
    "\n",
    "    Args:\n",
    "        model ([type]): [description]\n",
    "        X_test_tf ([type]): [description]\n",
    "        y_test ([type]): [description]\n",
    "        cmap (str, optional): [description]. Defaults to 'Reds'.\n",
    "        normalize (str, optional): [description]. Defaults to 'true'.\n",
    "        classes ([type], optional): [description]. Defaults to None.\n",
    "        figsize (tuple, optional): [description]. Defaults to (8,4).\n",
    "        X_train ([type], optional): [description]. Defaults to None.\n",
    "        y_train ([type], optional): [description]. Defaults to None.\n",
    "    \"\"\"\n",
    "    \n",
    "\n",
    "    y_hat_test = model.predict(X_test_tf)\n",
    "    print(metrics.classification_report(y_test, y_hat_test,target_names=classes))\n",
    "    \n",
    "    fig,ax = plt.subplots(ncols=2,figsize=figsize)\n",
    "    metrics.plot_confusion_matrix(model, X_test_tf,y_test,cmap=cmap, \n",
    "                                  normalize=normalize,display_labels=classes,\n",
    "                                 ax=ax[0])\n",
    "    \n",
    "    curve = metrics.plot_roc_curve(model,X_test_tf,y_test,ax=ax[1])\n",
    "    curve.ax_.grid()\n",
    "    curve.ax_.plot([0,1],[0,1],ls=':')\n",
    "    fig.tight_layout()\n",
    "    plt.show()\n",
    "    \n",
    "    ## Add comparing Scores if X_train and y_train provided.\n",
    "    if (X_train is not None) & (y_train is not None):\n",
    "        print(f\"Training Score = {model.score(X_train,y_train):.2f}\")\n",
    "        print(f\"Test Score = {model.score(X_test_tf,y_test):.2f}\")\n",
    "        \n",
    "        \n",
    "        \n",
    "def evaluate_grid(grid,X_test,y_test,X_train=None,y_train=None):\n",
    "    print('The best parameters were:')\n",
    "    print(\"\\t\",grid.best_params_)\n",
    "    \n",
    "    model = grid.best_estimator_    \n",
    "\n",
    "    print('\\n[i] Classification Report')\n",
    "    evaluate_classification(model, X_test,y_test,X_train=X_train,y_train=y_train)"
   ]
  },
  {
   "cell_type": "code",
   "execution_count": 548,
   "metadata": {},
   "outputs": [
    {
     "name": "stdout",
     "output_type": "stream",
     "text": [
      "              precision    recall  f1-score   support\n",
      "\n",
      "           0       0.72      0.71      0.72      1493\n",
      "           1       0.71      0.72      0.72      1471\n",
      "\n",
      "    accuracy                           0.72      2964\n",
      "   macro avg       0.72      0.72      0.72      2964\n",
      "weighted avg       0.72      0.72      0.72      2964\n",
      "\n"
     ]
    },
    {
     "data": {
      "image/png": "[encoded data removed]",
      "text/plain": [
       "<Figure size 720x288 with 3 Axes>"
      ]
     },
     "metadata": {
      "needs_background": "light"
     },
     "output_type": "display_data"
    }
   ],
   "source": [
    "evaluate_classification(model_log, X_test, y_test)"
   ]
  },
  {
   "cell_type": "markdown",
   "metadata": {},
   "source": [
    "### Dummy Check"
   ]
  },
  {
   "cell_type": "code",
   "execution_count": 549,
   "metadata": {
    "scrolled": true
   },
   "outputs": [
    {
     "name": "stdout",
     "output_type": "stream",
     "text": [
      "0.5064102564102564\n",
      "              precision    recall  f1-score   support\n",
      "\n",
      "           0       0.51      0.51      0.51      1493\n",
      "           1       0.50      0.50      0.50      1471\n",
      "\n",
      "    accuracy                           0.50      2964\n",
      "   macro avg       0.50      0.50      0.50      2964\n",
      "weighted avg       0.50      0.50      0.50      2964\n",
      "\n"
     ]
    },
    {
     "data": {
      "image/png": "[encoded data removed]",
      "text/plain": [
       "<Figure size 720x288 with 3 Axes>"
      ]
     },
     "metadata": {
      "needs_background": "light"
     },
     "output_type": "display_data"
    }
   ],
   "source": [
    "from sklearn.dummy import DummyClassifier\n",
    "\n",
    "dummy = DummyClassifier(strategy='stratified')#,constant=0)\n",
    "\n",
    "preds = dummy.fit(X_train,y_train).predict(X_test)\n",
    "\n",
    "## How did we do?\n",
    "print(dummy.score(X_test,y_test))\n",
    "\n",
    "evaluate_classification(dummy,X_test, y_test, cmap='Reds')#,label='Dummy');"
   ]
  },
  {
   "cell_type": "markdown",
   "metadata": {},
   "source": [
    "### Hypertuning Logistic Regression"
   ]
  },
  {
   "cell_type": "code",
   "execution_count": 550,
   "metadata": {},
   "outputs": [],
   "source": [
    "import warnings\n",
    "warnings.filterwarnings('ignore')"
   ]
  },
  {
   "cell_type": "code",
   "execution_count": 551,
   "metadata": {},
   "outputs": [],
   "source": [
    "from sklearn.model_selection import GridSearchCV, RandomizedSearchCV"
   ]
  },
  {
   "cell_type": "code",
   "execution_count": 552,
   "metadata": {},
   "outputs": [
    {
     "data": {
      "text/plain": [
       "GridSearchCV(estimator=LogisticRegression(),\n",
       "             param_grid={'C': [0.001, 0.01, 0.1, 1, 10, 100, 1000],\n",
       "                         'penalty': ['l1', 'l2', 'elastic_net'],\n",
       "                         'solver': ['liblinear', 'newton-cg', 'lbfgs', 'sag',\n",
       "                                    'saga']},\n",
       "             scoring='accuracy')"
      ]
     },
     "execution_count": 552,
     "metadata": {},
     "output_type": "execute_result"
    }
   ],
   "source": [
    "\n",
    "## make gridseach\n",
    "log_reg = LogisticRegression()\n",
    "params = {'C':[0.001,0.01,0.1,1,10,100,1000],\n",
    "        'penalty':['l1','l2','elastic_net'],\n",
    "        'solver':[\"liblinear\", \"newton-cg\", \"lbfgs\", \"sag\",\"saga\"]\n",
    "         }\n",
    "gridsearch = GridSearchCV(log_reg,params,scoring='accuracy')\n",
    "gridsearch"
   ]
  },
  {
   "cell_type": "code",
   "execution_count": 553,
   "metadata": {},
   "outputs": [
    {
     "data": {
      "text/plain": [
       "{'C': 0.1, 'penalty': 'l1', 'solver': 'liblinear'}"
      ]
     },
     "execution_count": 553,
     "metadata": {},
     "output_type": "execute_result"
    }
   ],
   "source": [
    "\n",
    "## fit grid and show best_params\n",
    "gridsearch.fit(X_train, y_train)\n",
    "gridsearch.best_params_"
   ]
  },
  {
   "cell_type": "code",
   "execution_count": 554,
   "metadata": {},
   "outputs": [
    {
     "data": {
      "text/plain": [
       "LogisticRegression(C=0.1, penalty='l1', solver='liblinear')"
      ]
     },
     "execution_count": 554,
     "metadata": {},
     "output_type": "execute_result"
    }
   ],
   "source": [
    "## get best_esinmtaor_\n",
    "gridsearch.best_estimator_"
   ]
  },
  {
   "cell_type": "code",
   "execution_count": 555,
   "metadata": {},
   "outputs": [
    {
     "name": "stdout",
     "output_type": "stream",
     "text": [
      "              precision    recall  f1-score   support\n",
      "\n",
      "           0       0.72      0.71      0.72      1493\n",
      "           1       0.71      0.72      0.72      1471\n",
      "\n",
      "    accuracy                           0.72      2964\n",
      "   macro avg       0.72      0.72      0.72      2964\n",
      "weighted avg       0.72      0.72      0.72      2964\n",
      "\n"
     ]
    },
    {
     "data": {
      "image/png": "[encoded data removed]",
      "text/plain": [
       "<Figure size 720x288 with 3 Axes>"
      ]
     },
     "metadata": {
      "needs_background": "light"
     },
     "output_type": "display_data"
    }
   ],
   "source": [
    "\n",
    "## use our evaluate function with the best model\n",
    "evaluate_classification(gridsearch.best_estimator_,X_test,y_test)"
   ]
  },
  {
   "cell_type": "code",
   "execution_count": 556,
   "metadata": {},
   "outputs": [
    {
     "data": {
      "text/plain": [
       "0.7408532176428055"
      ]
     },
     "execution_count": 556,
     "metadata": {},
     "output_type": "execute_result"
    }
   ],
   "source": [
    "gridsearch.best_estimator_.score(X_train, y_train)"
   ]
  },
  {
   "cell_type": "code",
   "execution_count": 557,
   "metadata": {},
   "outputs": [
    {
     "name": "stdout",
     "output_type": "stream",
     "text": [
      "              precision    recall  f1-score   support\n",
      "\n",
      "           0       0.72      0.71      0.72      1493\n",
      "           1       0.71      0.72      0.72      1471\n",
      "\n",
      "    accuracy                           0.72      2964\n",
      "   macro avg       0.72      0.72      0.72      2964\n",
      "weighted avg       0.72      0.72      0.72      2964\n",
      "\n"
     ]
    },
    {
     "data": {
      "image/png": "[encoded data removed]",
      "text/plain": [
       "<Figure size 720x288 with 3 Axes>"
      ]
     },
     "metadata": {
      "needs_background": "light"
     },
     "output_type": "display_data"
    }
   ],
   "source": [
    "\n",
    "# params  = dict(C=1e5, solver='liblinear')\n",
    "log_reg = LogisticRegression(C=1e12)#**params)\n",
    "log_reg.fit(X_train, y_train)\n",
    "evaluate_classification(log_reg,X_test,y_test);#,label=str(params));"
   ]
  },
  {
   "cell_type": "code",
   "execution_count": 558,
   "metadata": {},
   "outputs": [
    {
     "name": "stdout",
     "output_type": "stream",
     "text": [
      "0.7169365721997301\n",
      "0.7182860998650472\n"
     ]
    }
   ],
   "source": [
    "print(log_reg.score(X_test, y_test))\n",
    "print(gridsearch.best_estimator_.score(X_test, y_test))\n"
   ]
  },
  {
   "cell_type": "code",
   "execution_count": null,
   "metadata": {},
   "outputs": [],
   "source": []
  },
  {
   "cell_type": "code",
   "execution_count": null,
   "metadata": {},
   "outputs": [],
   "source": []
  },
  {
   "cell_type": "code",
   "execution_count": null,
   "metadata": {},
   "outputs": [],
   "source": []
  },
  {
   "cell_type": "code",
   "execution_count": null,
   "metadata": {},
   "outputs": [],
   "source": []
  },
  {
   "cell_type": "markdown",
   "metadata": {
    "ExecuteTime": {
     "end_time": "2021-05-20T17:57:17.162369Z",
     "start_time": "2021-05-20T17:57:17.102408Z"
    }
   },
   "source": [
    "### Coefficients"
   ]
  },
  {
   "cell_type": "code",
   "execution_count": 559,
   "metadata": {
    "ExecuteTime": {
     "end_time": "2021-05-20T18:28:56.954281Z",
     "start_time": "2021-05-20T18:28:56.931288Z"
    }
   },
   "outputs": [],
   "source": [
    "def tt_split_df(df):\n",
    "    \n",
    "    y = df['blueWins']\n",
    "    X = df.drop(columns=['blueWins'], axis=1)\n",
    "    \n",
    "    X_train, X_test, y_train, y_test = train_test_split(X, y, test_size=0.3)\n",
    "    \n",
    "    X_train_tf = X_train.copy()\n",
    "    X_test_tf = X_test.copy()\n",
    "    \n",
    "    categoricals = X.select_dtypes('O').columns\n",
    "    numericals = X.select_dtypes('number').columns\n",
    "    \n",
    "    encoder = OneHotEncoder(sparse=False,drop='if_binary')\n",
    "    train_categoricals = encoder.fit_transform(X_train_tf[categoricals])\n",
    "    test_categoricals = encoder.transform(X_test_tf[categoricals])\n",
    "    \n",
    "    train_categoricals_df = pd.DataFrame(train_categoricals,\n",
    "                                     columns=encoder.get_feature_names(categoricals))\n",
    "\n",
    "    test_categoricals_df =  pd.DataFrame(test_categoricals,\n",
    "                                     columns=encoder.get_feature_names(categoricals))\n",
    "    train_numericals_df = pd.DataFrame(scaler.fit_transform(X_train_tf[numericals]),\n",
    "                              columns=numericals)\n",
    "\n",
    "    test_numericals_df = pd.DataFrame(scaler.transform(X_test_tf[numericals]),\n",
    "                              columns=numericals)\n",
    "    \n",
    "    X_train_tf = pd.concat([train_numericals_df, train_categoricals_df], axis=1)\n",
    "    X_test_tf = pd.concat([test_numericals_df, test_categoricals_df], axis=1)\n",
    "    \n",
    "    return X_train_tf, X_test_tf, y_train, y_test\n",
    "\n",
    "# tt_split_df(diff_df)\n",
    "\n",
    "X_train_coeff, X_test_coeff, y_train_coeff, y_test_coeff = tt_split_df(df)"
   ]
  },
  {
   "cell_type": "code",
   "execution_count": 560,
   "metadata": {
    "ExecuteTime": {
     "end_time": "2021-05-20T18:33:25.206145Z",
     "start_time": "2021-05-20T18:33:25.194153Z"
    }
   },
   "outputs": [],
   "source": [
    "# X_train, X_test, y_train, y_test "
   ]
  },
  {
   "cell_type": "code",
   "execution_count": null,
   "metadata": {
    "ExecuteTime": {
     "end_time": "2021-05-20T18:33:36.492276Z",
     "start_time": "2021-05-20T18:33:36.483279Z"
    }
   },
   "outputs": [],
   "source": []
  },
  {
   "cell_type": "code",
   "execution_count": 561,
   "metadata": {
    "ExecuteTime": {
     "end_time": "2021-05-21T19:09:19.768957Z",
     "start_time": "2021-05-21T19:09:19.072389Z"
    },
    "scrolled": true
   },
   "outputs": [
    {
     "data": {
      "image/png": "[encoded data removed]",
      "text/plain": [
       "<Figure size 576x432 with 1 Axes>"
      ]
     },
     "metadata": {
      "needs_background": "light"
     },
     "output_type": "display_data"
    }
   ],
   "source": [
    "# diff_nogold_df = diff_df.drop(['TotalGold'],axis=1)\n",
    "\n",
    "# X_train_tf, X_test_tf, y_train, y_test = tt_split_df(diff_df)\n",
    "\n",
    "\n",
    "coef_lr = pd.Series(model_log.coef_.flatten(), index=X_train_coeff.columns).sort_values(ascending=True)\n",
    "\n",
    "ax = coef_lr.plot(kind='barh', figsize=(8,6))"
   ]
  },
  {
   "cell_type": "code",
   "execution_count": null,
   "metadata": {},
   "outputs": [],
   "source": []
  },
  {
   "cell_type": "code",
   "execution_count": 562,
   "metadata": {
    "ExecuteTime": {
     "end_time": "2021-05-21T19:09:47.641196Z",
     "start_time": "2021-05-21T19:09:47.572496Z"
    }
   },
   "outputs": [],
   "source": [
    "nogold_df = df.drop(['TotalGold'],axis=1)\n",
    "\n",
    "X_train_coeff, X_test_coeff, y_train_coeff, y_test_coeff = tt_split_df(nogold_df)"
   ]
  },
  {
   "cell_type": "code",
   "execution_count": 563,
   "metadata": {
    "ExecuteTime": {
     "end_time": "2021-05-21T19:09:49.371707Z",
     "start_time": "2021-05-21T19:09:48.848351Z"
    }
   },
   "outputs": [
    {
     "data": {
      "image/png": "[encoded data removed]",
      "text/plain": [
       "<Figure size 576x432 with 1 Axes>"
      ]
     },
     "metadata": {
      "needs_background": "light"
     },
     "output_type": "display_data"
    }
   ],
   "source": [
    "model_log = LogisticRegression()\n",
    "\n",
    "model_log.fit(X_train_coeff, y_train_coeff)\n",
    "\n",
    "coef_lr = pd.Series(model_log.coef_.flatten(), index=X_train_coeff.columns).sort_values(ascending=True)\n",
    "\n",
    "ax = coef_lr.plot(kind='barh', figsize=(8,6))"
   ]
  },
  {
   "cell_type": "code",
   "execution_count": 564,
   "metadata": {
    "ExecuteTime": {
     "end_time": "2021-05-21T19:09:50.586027Z",
     "start_time": "2021-05-21T19:09:50.510039Z"
    }
   },
   "outputs": [],
   "source": [
    "nogold_noexp_df = df.drop(['TotalGold', 'TotalExperience'],axis=1)\n",
    "\n",
    "X_train_coeff, X_test_coeff, y_train_coeff, y_test_coeff = tt_split_df(nogold_noexp_df)"
   ]
  },
  {
   "cell_type": "code",
   "execution_count": 565,
   "metadata": {
    "ExecuteTime": {
     "end_time": "2021-05-21T19:09:52.754621Z",
     "start_time": "2021-05-21T19:09:52.228445Z"
    }
   },
   "outputs": [
    {
     "data": {
      "image/png": "[encoded data removed]",
      "text/plain": [
       "<Figure size 576x432 with 1 Axes>"
      ]
     },
     "metadata": {
      "needs_background": "light"
     },
     "output_type": "display_data"
    }
   ],
   "source": [
    "model_log = LogisticRegression()\n",
    "\n",
    "model_log.fit(X_train_coeff, y_train_coeff)\n",
    "\n",
    "coef_lr = pd.Series(model_log.coef_.flatten(), index=X_train_coeff.columns).sort_values(ascending=True)\n",
    "\n",
    "ax = coef_lr.plot(kind='barh', figsize=(8,6))"
   ]
  },
  {
   "cell_type": "code",
   "execution_count": 566,
   "metadata": {
    "ExecuteTime": {
     "end_time": "2021-05-21T19:36:15.429115Z",
     "start_time": "2021-05-21T19:36:15.380614Z"
    }
   },
   "outputs": [],
   "source": [
    "nogold_noexp_no_avglvl_df = df.drop(['TotalGold', 'TotalExperience', 'AvgLevel'],axis=1)\n",
    "\n",
    "X_train_coeff, X_test_coeff, y_train_coeff, y_test_coeff = tt_split_df(nogold_noexp_no_avglvl_df)"
   ]
  },
  {
   "cell_type": "code",
   "execution_count": null,
   "metadata": {},
   "outputs": [],
   "source": []
  },
  {
   "cell_type": "code",
   "execution_count": 567,
   "metadata": {
    "ExecuteTime": {
     "end_time": "2021-05-21T19:36:17.312006Z",
     "start_time": "2021-05-21T19:36:16.786521Z"
    }
   },
   "outputs": [
    {
     "data": {
      "image/png": "[encoded data removed]",
      "text/plain": [
       "<Figure size 576x432 with 1 Axes>"
      ]
     },
     "metadata": {
      "needs_background": "light"
     },
     "output_type": "display_data"
    }
   ],
   "source": [
    "\n",
    "model_log = LogisticRegression()\n",
    "\n",
    "model_log.fit(X_train_coeff, y_train_coeff)\n",
    "\n",
    "coef_lr = pd.Series(model_log.coef_.flatten(), index=X_train_coeff.columns).sort_values(ascending=True)\n",
    "\n",
    "ax = coef_lr.plot(kind='barh', figsize=(8,6))"
   ]
  },
  {
   "cell_type": "markdown",
   "metadata": {},
   "source": [
    "### 100 times"
   ]
  },
  {
   "cell_type": "code",
   "execution_count": null,
   "metadata": {},
   "outputs": [],
   "source": []
  },
  {
   "cell_type": "code",
   "execution_count": 568,
   "metadata": {},
   "outputs": [],
   "source": [
    "run = False\n",
    "\n",
    "iterations = 1000\n",
    "\n",
    "coef_1000 = (pd.Series(model_log.coef_.flatten(), index=X_train_coeff.columns).sort_values(ascending=True)) * 0\n",
    "\n",
    "while iterations != 0 and run == True:\n",
    "    X_train_tf, X_test_tf, y_train, y_test = tt_split_df(nogold_noexp_no_avglvl_df)\n",
    "    model_log = LogisticRegression()\n",
    "    model_log.fit(X_train_tf, y_train)\n",
    "    coef_lr = pd.Series(model_log.coef_.flatten(), index=X_train_tf.columns).sort_values(ascending=True)\n",
    "    coef_1000 += coef_lr\n",
    "    iterations = iterations - 1\n",
    "\n",
    "if run == False: \n",
    "    coef_1000 = pd.Series([-0.22775933, -0.10250555, -0.07621391, -0.03145217,  0.00834943,\n",
    "        0.01678342,  0.02172336,  0.03152094,  0.09352357,  0.11534489,\n",
    "        0.27156569,  0.28040027,  0.33411204,  1.01165377])\n",
    "    coef_1000.index = ['dragon_Red', 'herald_Red', 'firstBlood_Red', 'dragon_No Dragon',\n",
    "       'herald_No Herald', 'WardsPlaced', 'WardsDestroyed', 'Assists',\n",
    "       'TowersDestroyed', 'herald_Blue', 'TotalJungleMinionsKilled',\n",
    "       'dragon_Blue', 'TotalMinionsKilled', 'Kills']"
   ]
  },
  {
   "cell_type": "code",
   "execution_count": 569,
   "metadata": {},
   "outputs": [
    {
     "data": {
      "text/plain": [
       "dragon_Red                 -0.227759\n",
       "herald_Red                 -0.102506\n",
       "firstBlood_Red             -0.076214\n",
       "dragon_No Dragon           -0.031452\n",
       "herald_No Herald            0.008349\n",
       "WardsPlaced                 0.016783\n",
       "WardsDestroyed              0.021723\n",
       "Assists                     0.031521\n",
       "TowersDestroyed             0.093524\n",
       "herald_Blue                 0.115345\n",
       "TotalJungleMinionsKilled    0.271566\n",
       "dragon_Blue                 0.280400\n",
       "TotalMinionsKilled          0.334112\n",
       "Kills                       1.011654\n",
       "dtype: float64"
      ]
     },
     "execution_count": 569,
     "metadata": {},
     "output_type": "execute_result"
    }
   ],
   "source": [
    "coef_1000"
   ]
  },
  {
   "cell_type": "code",
   "execution_count": 570,
   "metadata": {},
   "outputs": [
    {
     "data": {
      "image/png": "[encoded data removed]",
      "text/plain": [
       "<Figure size 576x432 with 1 Axes>"
      ]
     },
     "metadata": {
      "needs_background": "light"
     },
     "output_type": "display_data"
    }
   ],
   "source": [
    "coef_1000 = coef_1000.sort_values(ascending=True)\n",
    "\n",
    "ax = coef_1000.plot(kind='barh', figsize=(8,6))"
   ]
  },
  {
   "cell_type": "code",
   "execution_count": 571,
   "metadata": {
    "ExecuteTime": {
     "end_time": "2021-05-21T19:09:35.275831Z",
     "start_time": "2021-05-21T19:09:34.726538Z"
    }
   },
   "outputs": [
    {
     "data": {
      "text/plain": [
       "<matplotlib.lines.Line2D at 0x2e1992984c0>"
      ]
     },
     "execution_count": 571,
     "metadata": {},
     "output_type": "execute_result"
    },
    {
     "data": {
      "image/png": "[encoded data removed]",
      "text/plain": [
       "<Figure size 576x432 with 1 Axes>"
      ]
     },
     "metadata": {
      "needs_background": "light"
     },
     "output_type": "display_data"
    }
   ],
   "source": [
    "odds = np.exp(coef_1000)\n",
    "ax = odds.plot(kind='barh', figsize=(8,6))\n",
    "ax.axvline(1)\n",
    "# np.exp(coef_lr)"
   ]
  },
  {
   "cell_type": "markdown",
   "metadata": {},
   "source": [
    "For every 1 sd increase in Kills, the odds that blue wins is are 3.0 x as large as the odds that they lost"
   ]
  },
  {
   "cell_type": "code",
   "execution_count": 572,
   "metadata": {
    "ExecuteTime": {
     "end_time": "2021-05-21T19:09:38.191978Z",
     "start_time": "2021-05-21T19:09:37.691470Z"
    },
    "scrolled": false
   },
   "outputs": [
    {
     "data": {
      "image/png": "[encoded data removed]",
      "text/plain": [
       "<Figure size 576x432 with 1 Axes>"
      ]
     },
     "metadata": {
      "needs_background": "light"
     },
     "output_type": "display_data"
    }
   ],
   "source": [
    "prob = odds/(1+odds)\n",
    "prob\n",
    "\n",
    "ax = prob.plot(kind='barh', figsize=(8,6))"
   ]
  },
  {
   "cell_type": "markdown",
   "metadata": {},
   "source": [
    "## Just X and y"
   ]
  },
  {
   "cell_type": "code",
   "execution_count": null,
   "metadata": {},
   "outputs": [],
   "source": []
  },
  {
   "cell_type": "code",
   "execution_count": 573,
   "metadata": {
    "ExecuteTime": {
     "end_time": "2021-05-20T18:33:25.206145Z",
     "start_time": "2021-05-20T18:33:25.194153Z"
    }
   },
   "outputs": [],
   "source": [
    "# X_train, X_test, y_train, y_test "
   ]
  },
  {
   "cell_type": "code",
   "execution_count": 581,
   "metadata": {
    "ExecuteTime": {
     "end_time": "2021-05-20T18:33:36.492276Z",
     "start_time": "2021-05-20T18:33:36.483279Z"
    }
   },
   "outputs": [
    {
     "data": {
      "text/html": [
       "<div>\n",
       "<style scoped>\n",
       "    .dataframe tbody tr th:only-of-type {\n",
       "        vertical-align: middle;\n",
       "    }\n",
       "\n",
       "    .dataframe tbody tr th {\n",
       "        vertical-align: top;\n",
       "    }\n",
       "\n",
       "    .dataframe thead th {\n",
       "        text-align: right;\n",
       "    }\n",
       "</style>\n",
       "<table border=\"1\" class=\"dataframe\">\n",
       "  <thead>\n",
       "    <tr style=\"text-align: right;\">\n",
       "      <th></th>\n",
       "      <th>WardsPlaced</th>\n",
       "      <th>WardsDestroyed</th>\n",
       "      <th>Kills</th>\n",
       "      <th>Assists</th>\n",
       "      <th>TowersDestroyed</th>\n",
       "      <th>TotalGold</th>\n",
       "      <th>AvgLevel</th>\n",
       "      <th>TotalExperience</th>\n",
       "      <th>TotalMinionsKilled</th>\n",
       "      <th>TotalJungleMinionsKilled</th>\n",
       "      <th>firstBlood_Red</th>\n",
       "      <th>dragon_Blue</th>\n",
       "      <th>dragon_No Dragon</th>\n",
       "      <th>dragon_Red</th>\n",
       "      <th>herald_Blue</th>\n",
       "      <th>herald_No Herald</th>\n",
       "      <th>herald_Red</th>\n",
       "    </tr>\n",
       "  </thead>\n",
       "  <tbody>\n",
       "    <tr>\n",
       "      <th>0</th>\n",
       "      <td>0.010348</td>\n",
       "      <td>0.689443</td>\n",
       "      <td>-0.242927</td>\n",
       "      <td>-0.339203</td>\n",
       "      <td>-0.031090</td>\n",
       "      <td>0.265121</td>\n",
       "      <td>0.028832</td>\n",
       "      <td>0.414429</td>\n",
       "      <td>0.738435</td>\n",
       "      <td>1.106627</td>\n",
       "      <td>0.0</td>\n",
       "      <td>1.0</td>\n",
       "      <td>0.0</td>\n",
       "      <td>0.0</td>\n",
       "      <td>1.0</td>\n",
       "      <td>0.0</td>\n",
       "      <td>0.0</td>\n",
       "    </tr>\n",
       "    <tr>\n",
       "      <th>1</th>\n",
       "      <td>-0.068415</td>\n",
       "      <td>0.332461</td>\n",
       "      <td>0.234843</td>\n",
       "      <td>0.006729</td>\n",
       "      <td>-0.031090</td>\n",
       "      <td>-0.005142</td>\n",
       "      <td>-1.222448</td>\n",
       "      <td>-0.066534</td>\n",
       "      <td>-0.064520</td>\n",
       "      <td>0.125119</td>\n",
       "      <td>0.0</td>\n",
       "      <td>1.0</td>\n",
       "      <td>0.0</td>\n",
       "      <td>0.0</td>\n",
       "      <td>1.0</td>\n",
       "      <td>0.0</td>\n",
       "      <td>0.0</td>\n",
       "    </tr>\n",
       "    <tr>\n",
       "      <th>2</th>\n",
       "      <td>-1.407379</td>\n",
       "      <td>-0.738486</td>\n",
       "      <td>0.473729</td>\n",
       "      <td>-0.166237</td>\n",
       "      <td>-0.031090</td>\n",
       "      <td>0.610094</td>\n",
       "      <td>0.028832</td>\n",
       "      <td>-0.354904</td>\n",
       "      <td>1.348681</td>\n",
       "      <td>-0.085204</td>\n",
       "      <td>0.0</td>\n",
       "      <td>0.0</td>\n",
       "      <td>0.0</td>\n",
       "      <td>1.0</td>\n",
       "      <td>1.0</td>\n",
       "      <td>0.0</td>\n",
       "      <td>0.0</td>\n",
       "    </tr>\n",
       "    <tr>\n",
       "      <th>3</th>\n",
       "      <td>0.167873</td>\n",
       "      <td>-0.381504</td>\n",
       "      <td>0.712614</td>\n",
       "      <td>0.525626</td>\n",
       "      <td>-0.031090</td>\n",
       "      <td>0.502724</td>\n",
       "      <td>0.445925</td>\n",
       "      <td>0.155729</td>\n",
       "      <td>1.412917</td>\n",
       "      <td>-1.066712</td>\n",
       "      <td>1.0</td>\n",
       "      <td>1.0</td>\n",
       "      <td>0.0</td>\n",
       "      <td>0.0</td>\n",
       "      <td>0.0</td>\n",
       "      <td>1.0</td>\n",
       "      <td>0.0</td>\n",
       "    </tr>\n",
       "    <tr>\n",
       "      <th>4</th>\n",
       "      <td>-0.029033</td>\n",
       "      <td>-0.024522</td>\n",
       "      <td>0.234843</td>\n",
       "      <td>0.006729</td>\n",
       "      <td>-0.031090</td>\n",
       "      <td>-0.173342</td>\n",
       "      <td>0.028832</td>\n",
       "      <td>-0.604755</td>\n",
       "      <td>-1.285011</td>\n",
       "      <td>-0.225419</td>\n",
       "      <td>1.0</td>\n",
       "      <td>0.0</td>\n",
       "      <td>0.0</td>\n",
       "      <td>1.0</td>\n",
       "      <td>1.0</td>\n",
       "      <td>0.0</td>\n",
       "      <td>0.0</td>\n",
       "    </tr>\n",
       "    <tr>\n",
       "      <th>...</th>\n",
       "      <td>...</td>\n",
       "      <td>...</td>\n",
       "      <td>...</td>\n",
       "      <td>...</td>\n",
       "      <td>...</td>\n",
       "      <td>...</td>\n",
       "      <td>...</td>\n",
       "      <td>...</td>\n",
       "      <td>...</td>\n",
       "      <td>...</td>\n",
       "      <td>...</td>\n",
       "      <td>...</td>\n",
       "      <td>...</td>\n",
       "      <td>...</td>\n",
       "      <td>...</td>\n",
       "      <td>...</td>\n",
       "      <td>...</td>\n",
       "    </tr>\n",
       "    <tr>\n",
       "      <th>2959</th>\n",
       "      <td>0.167873</td>\n",
       "      <td>0.689443</td>\n",
       "      <td>1.429270</td>\n",
       "      <td>0.525626</td>\n",
       "      <td>-0.031090</td>\n",
       "      <td>1.908743</td>\n",
       "      <td>1.280112</td>\n",
       "      <td>2.413236</td>\n",
       "      <td>0.931144</td>\n",
       "      <td>1.597381</td>\n",
       "      <td>0.0</td>\n",
       "      <td>1.0</td>\n",
       "      <td>0.0</td>\n",
       "      <td>0.0</td>\n",
       "      <td>0.0</td>\n",
       "      <td>1.0</td>\n",
       "      <td>0.0</td>\n",
       "    </tr>\n",
       "    <tr>\n",
       "      <th>2960</th>\n",
       "      <td>-0.186559</td>\n",
       "      <td>0.332461</td>\n",
       "      <td>-0.004042</td>\n",
       "      <td>0.179694</td>\n",
       "      <td>-3.146829</td>\n",
       "      <td>-0.042701</td>\n",
       "      <td>0.445925</td>\n",
       "      <td>0.472207</td>\n",
       "      <td>1.477154</td>\n",
       "      <td>0.405550</td>\n",
       "      <td>1.0</td>\n",
       "      <td>0.0</td>\n",
       "      <td>0.0</td>\n",
       "      <td>1.0</td>\n",
       "      <td>0.0</td>\n",
       "      <td>0.0</td>\n",
       "      <td>1.0</td>\n",
       "    </tr>\n",
       "    <tr>\n",
       "      <th>2961</th>\n",
       "      <td>2.255083</td>\n",
       "      <td>-0.024522</td>\n",
       "      <td>0.712614</td>\n",
       "      <td>0.179694</td>\n",
       "      <td>-0.031090</td>\n",
       "      <td>0.955883</td>\n",
       "      <td>1.697205</td>\n",
       "      <td>1.523142</td>\n",
       "      <td>1.284444</td>\n",
       "      <td>-0.225419</td>\n",
       "      <td>1.0</td>\n",
       "      <td>0.0</td>\n",
       "      <td>0.0</td>\n",
       "      <td>1.0</td>\n",
       "      <td>1.0</td>\n",
       "      <td>0.0</td>\n",
       "      <td>0.0</td>\n",
       "    </tr>\n",
       "    <tr>\n",
       "      <th>2962</th>\n",
       "      <td>-0.698516</td>\n",
       "      <td>-0.024522</td>\n",
       "      <td>0.473729</td>\n",
       "      <td>0.871557</td>\n",
       "      <td>-0.031090</td>\n",
       "      <td>0.456999</td>\n",
       "      <td>0.863018</td>\n",
       "      <td>0.510725</td>\n",
       "      <td>0.256662</td>\n",
       "      <td>-0.716173</td>\n",
       "      <td>0.0</td>\n",
       "      <td>0.0</td>\n",
       "      <td>0.0</td>\n",
       "      <td>1.0</td>\n",
       "      <td>0.0</td>\n",
       "      <td>1.0</td>\n",
       "      <td>0.0</td>\n",
       "    </tr>\n",
       "    <tr>\n",
       "      <th>2963</th>\n",
       "      <td>-0.068415</td>\n",
       "      <td>0.689443</td>\n",
       "      <td>-0.242927</td>\n",
       "      <td>0.006729</td>\n",
       "      <td>-0.031090</td>\n",
       "      <td>-0.379917</td>\n",
       "      <td>-0.805355</td>\n",
       "      <td>-0.921753</td>\n",
       "      <td>0.224544</td>\n",
       "      <td>-1.487358</td>\n",
       "      <td>0.0</td>\n",
       "      <td>0.0</td>\n",
       "      <td>0.0</td>\n",
       "      <td>1.0</td>\n",
       "      <td>1.0</td>\n",
       "      <td>0.0</td>\n",
       "      <td>0.0</td>\n",
       "    </tr>\n",
       "  </tbody>\n",
       "</table>\n",
       "<p>9879 rows × 17 columns</p>\n",
       "</div>"
      ],
      "text/plain": [
       "      WardsPlaced  WardsDestroyed     Kills   Assists  TowersDestroyed  \\\n",
       "0        0.010348        0.689443 -0.242927 -0.339203        -0.031090   \n",
       "1       -0.068415        0.332461  0.234843  0.006729        -0.031090   \n",
       "2       -1.407379       -0.738486  0.473729 -0.166237        -0.031090   \n",
       "3        0.167873       -0.381504  0.712614  0.525626        -0.031090   \n",
       "4       -0.029033       -0.024522  0.234843  0.006729        -0.031090   \n",
       "...           ...             ...       ...       ...              ...   \n",
       "2959     0.167873        0.689443  1.429270  0.525626        -0.031090   \n",
       "2960    -0.186559        0.332461 -0.004042  0.179694        -3.146829   \n",
       "2961     2.255083       -0.024522  0.712614  0.179694        -0.031090   \n",
       "2962    -0.698516       -0.024522  0.473729  0.871557        -0.031090   \n",
       "2963    -0.068415        0.689443 -0.242927  0.006729        -0.031090   \n",
       "\n",
       "      TotalGold  AvgLevel  TotalExperience  TotalMinionsKilled  \\\n",
       "0      0.265121  0.028832         0.414429            0.738435   \n",
       "1     -0.005142 -1.222448        -0.066534           -0.064520   \n",
       "2      0.610094  0.028832        -0.354904            1.348681   \n",
       "3      0.502724  0.445925         0.155729            1.412917   \n",
       "4     -0.173342  0.028832        -0.604755           -1.285011   \n",
       "...         ...       ...              ...                 ...   \n",
       "2959   1.908743  1.280112         2.413236            0.931144   \n",
       "2960  -0.042701  0.445925         0.472207            1.477154   \n",
       "2961   0.955883  1.697205         1.523142            1.284444   \n",
       "2962   0.456999  0.863018         0.510725            0.256662   \n",
       "2963  -0.379917 -0.805355        -0.921753            0.224544   \n",
       "\n",
       "      TotalJungleMinionsKilled  firstBlood_Red  dragon_Blue  dragon_No Dragon  \\\n",
       "0                     1.106627             0.0          1.0               0.0   \n",
       "1                     0.125119             0.0          1.0               0.0   \n",
       "2                    -0.085204             0.0          0.0               0.0   \n",
       "3                    -1.066712             1.0          1.0               0.0   \n",
       "4                    -0.225419             1.0          0.0               0.0   \n",
       "...                        ...             ...          ...               ...   \n",
       "2959                  1.597381             0.0          1.0               0.0   \n",
       "2960                  0.405550             1.0          0.0               0.0   \n",
       "2961                 -0.225419             1.0          0.0               0.0   \n",
       "2962                 -0.716173             0.0          0.0               0.0   \n",
       "2963                 -1.487358             0.0          0.0               0.0   \n",
       "\n",
       "      dragon_Red  herald_Blue  herald_No Herald  herald_Red  \n",
       "0            0.0          1.0               0.0         0.0  \n",
       "1            0.0          1.0               0.0         0.0  \n",
       "2            1.0          1.0               0.0         0.0  \n",
       "3            0.0          0.0               1.0         0.0  \n",
       "4            1.0          1.0               0.0         0.0  \n",
       "...          ...          ...               ...         ...  \n",
       "2959         0.0          0.0               1.0         0.0  \n",
       "2960         1.0          0.0               0.0         1.0  \n",
       "2961         1.0          1.0               0.0         0.0  \n",
       "2962         1.0          0.0               1.0         0.0  \n",
       "2963         1.0          1.0               0.0         0.0  \n",
       "\n",
       "[9879 rows x 17 columns]"
      ]
     },
     "execution_count": 581,
     "metadata": {},
     "output_type": "execute_result"
    }
   ],
   "source": [
    "X_train, X_test, y_train, y_test = tt_split_df(df)\n",
    "\n",
    "X = X_train.append(X_test)\n",
    "y = y_train.append(y_test)\n",
    "\n",
    "X"
   ]
  },
  {
   "cell_type": "code",
   "execution_count": 588,
   "metadata": {
    "ExecuteTime": {
     "end_time": "2021-05-21T19:09:19.768957Z",
     "start_time": "2021-05-21T19:09:19.072389Z"
    },
    "scrolled": true
   },
   "outputs": [
    {
     "data": {
      "image/png": "[encoded data removed]",
      "text/plain": [
       "<Figure size 576x432 with 1 Axes>"
      ]
     },
     "metadata": {
      "needs_background": "light"
     },
     "output_type": "display_data"
    }
   ],
   "source": [
    "# diff_nogold_df = diff_df.drop(['TotalGold'],axis=1)\n",
    "\n",
    "# X_train_tf, X_test_tf, y_train, y_test = tt_split_df(diff_df)\n",
    "\n",
    "def coef_graph(X,y=y):\n",
    "    \n",
    "    model = LogisticRegression()\n",
    "\n",
    "    model.fit(X, y)\n",
    "\n",
    "    coef_lr = pd.Series(model.coef_.flatten(), index=X.columns).sort_values(ascending=True)\n",
    "\n",
    "    ax = coef_lr.plot(kind='barh', figsize=(8,6))\n",
    "    \n",
    "coef_graph(X)"
   ]
  },
  {
   "cell_type": "code",
   "execution_count": null,
   "metadata": {},
   "outputs": [],
   "source": []
  },
  {
   "cell_type": "code",
   "execution_count": 585,
   "metadata": {
    "ExecuteTime": {
     "end_time": "2021-05-21T19:09:47.641196Z",
     "start_time": "2021-05-21T19:09:47.572496Z"
    }
   },
   "outputs": [],
   "source": [
    "X_nogold = X.drop(['TotalGold'],axis=1)"
   ]
  },
  {
   "cell_type": "code",
   "execution_count": 589,
   "metadata": {
    "ExecuteTime": {
     "end_time": "2021-05-21T19:09:49.371707Z",
     "start_time": "2021-05-21T19:09:48.848351Z"
    }
   },
   "outputs": [
    {
     "data": {
      "image/png": "[encoded data removed]",
      "text/plain": [
       "<Figure size 576x432 with 1 Axes>"
      ]
     },
     "metadata": {
      "needs_background": "light"
     },
     "output_type": "display_data"
    }
   ],
   "source": [
    "coef_graph(X_nogold)"
   ]
  },
  {
   "cell_type": "code",
   "execution_count": 590,
   "metadata": {
    "ExecuteTime": {
     "end_time": "2021-05-21T19:09:50.586027Z",
     "start_time": "2021-05-21T19:09:50.510039Z"
    }
   },
   "outputs": [
    {
     "data": {
      "image/png": "[encoded data removed]",
      "text/plain": [
       "<Figure size 576x432 with 1 Axes>"
      ]
     },
     "metadata": {
      "needs_background": "light"
     },
     "output_type": "display_data"
    }
   ],
   "source": [
    "X_nogold_noexp = X.drop(['TotalGold', 'TotalExperience'],axis=1)\n",
    "\n",
    "coef_graph(X_nogold_noexp)"
   ]
  },
  {
   "cell_type": "code",
   "execution_count": 591,
   "metadata": {
    "ExecuteTime": {
     "end_time": "2021-05-21T19:36:15.429115Z",
     "start_time": "2021-05-21T19:36:15.380614Z"
    }
   },
   "outputs": [
    {
     "data": {
      "image/png": "[encoded data removed]",
      "text/plain": [
       "<Figure size 576x432 with 1 Axes>"
      ]
     },
     "metadata": {
      "needs_background": "light"
     },
     "output_type": "display_data"
    }
   ],
   "source": [
    "X_nogold_noexp_no_avglvl = X.drop(['TotalGold', 'TotalExperience', 'AvgLevel'],axis=1)\n",
    "\n",
    "coef_graph(X_nogold_noexp_no_avglvl)"
   ]
  },
  {
   "cell_type": "code",
   "execution_count": null,
   "metadata": {},
   "outputs": [],
   "source": []
  },
  {
   "cell_type": "markdown",
   "metadata": {},
   "source": [
    "TO DO\n",
    "\n",
    "https://github.com/flatiron-school/Online-DS-FT-022221-Cohort-Notes/blob/master/Phase_3/topic_25_logistic_regression/topic_25_pt2_LogisticRegression_titanic-v2-SG.ipynb\n",
    "\n",
    "Ctrl+F 'odds' to interpret coefficients\n",
    "\n",
    "ALSO\n",
    "\n",
    "Confusion Matrix\n",
    "\n"
   ]
  },
  {
   "cell_type": "markdown",
   "metadata": {},
   "source": [
    "## Random Forest"
   ]
  },
  {
   "cell_type": "code",
   "execution_count": 349,
   "metadata": {},
   "outputs": [
    {
     "name": "stdout",
     "output_type": "stream",
     "text": [
      "X_train shape: (6915, 13)\n",
      "X_test shape: (2964, 13)\n"
     ]
    }
   ],
   "source": [
    "y = df['blueWins']\n",
    "X = df.drop(columns=['blueWins'], axis=1)\n",
    "\n",
    "# Assign train / test split\n",
    "\n",
    "X_train, X_test, y_train, y_test = train_test_split(X, y, test_size=0.3, random_state=8)\n",
    "\n",
    "# Confirm split\n",
    "\n",
    "print(\"X_train shape:\", X_train.shape)\n",
    "print(\"X_test shape:\", X_test.shape)"
   ]
  },
  {
   "cell_type": "code",
   "execution_count": 350,
   "metadata": {},
   "outputs": [
    {
     "data": {
      "text/html": [
       "<div>\n",
       "<style scoped>\n",
       "    .dataframe tbody tr th:only-of-type {\n",
       "        vertical-align: middle;\n",
       "    }\n",
       "\n",
       "    .dataframe tbody tr th {\n",
       "        vertical-align: top;\n",
       "    }\n",
       "\n",
       "    .dataframe thead th {\n",
       "        text-align: right;\n",
       "    }\n",
       "</style>\n",
       "<table border=\"1\" class=\"dataframe\">\n",
       "  <thead>\n",
       "    <tr style=\"text-align: right;\">\n",
       "      <th></th>\n",
       "      <th>WardsPlaced</th>\n",
       "      <th>WardsDestroyed</th>\n",
       "      <th>Kills</th>\n",
       "      <th>Assists</th>\n",
       "      <th>TowersDestroyed</th>\n",
       "      <th>TotalGold</th>\n",
       "      <th>AvgLevel</th>\n",
       "      <th>TotalExperience</th>\n",
       "      <th>TotalMinionsKilled</th>\n",
       "      <th>TotalJungleMinionsKilled</th>\n",
       "      <th>firstBlood</th>\n",
       "      <th>dragon</th>\n",
       "      <th>herald</th>\n",
       "    </tr>\n",
       "  </thead>\n",
       "  <tbody>\n",
       "    <tr>\n",
       "      <th>8818</th>\n",
       "      <td>-8</td>\n",
       "      <td>4</td>\n",
       "      <td>1</td>\n",
       "      <td>-2</td>\n",
       "      <td>0</td>\n",
       "      <td>32</td>\n",
       "      <td>-0.4</td>\n",
       "      <td>-952</td>\n",
       "      <td>-46</td>\n",
       "      <td>20</td>\n",
       "      <td>Blue</td>\n",
       "      <td>No Dragon</td>\n",
       "      <td>No Herald</td>\n",
       "    </tr>\n",
       "    <tr>\n",
       "      <th>7883</th>\n",
       "      <td>4</td>\n",
       "      <td>-2</td>\n",
       "      <td>1</td>\n",
       "      <td>0</td>\n",
       "      <td>0</td>\n",
       "      <td>-1052</td>\n",
       "      <td>-0.4</td>\n",
       "      <td>-1064</td>\n",
       "      <td>-25</td>\n",
       "      <td>-17</td>\n",
       "      <td>Blue</td>\n",
       "      <td>Red</td>\n",
       "      <td>No Herald</td>\n",
       "    </tr>\n",
       "    <tr>\n",
       "      <th>9446</th>\n",
       "      <td>0</td>\n",
       "      <td>-1</td>\n",
       "      <td>-3</td>\n",
       "      <td>-2</td>\n",
       "      <td>0</td>\n",
       "      <td>-646</td>\n",
       "      <td>-0.2</td>\n",
       "      <td>-960</td>\n",
       "      <td>-26</td>\n",
       "      <td>29</td>\n",
       "      <td>Red</td>\n",
       "      <td>Red</td>\n",
       "      <td>Blue</td>\n",
       "    </tr>\n",
       "    <tr>\n",
       "      <th>9092</th>\n",
       "      <td>4</td>\n",
       "      <td>4</td>\n",
       "      <td>9</td>\n",
       "      <td>14</td>\n",
       "      <td>0</td>\n",
       "      <td>5120</td>\n",
       "      <td>0.8</td>\n",
       "      <td>3137</td>\n",
       "      <td>41</td>\n",
       "      <td>-16</td>\n",
       "      <td>Blue</td>\n",
       "      <td>Red</td>\n",
       "      <td>Red</td>\n",
       "    </tr>\n",
       "    <tr>\n",
       "      <th>8318</th>\n",
       "      <td>-1</td>\n",
       "      <td>0</td>\n",
       "      <td>3</td>\n",
       "      <td>2</td>\n",
       "      <td>0</td>\n",
       "      <td>974</td>\n",
       "      <td>0.0</td>\n",
       "      <td>748</td>\n",
       "      <td>24</td>\n",
       "      <td>-17</td>\n",
       "      <td>Red</td>\n",
       "      <td>Blue</td>\n",
       "      <td>No Herald</td>\n",
       "    </tr>\n",
       "    <tr>\n",
       "      <th>...</th>\n",
       "      <td>...</td>\n",
       "      <td>...</td>\n",
       "      <td>...</td>\n",
       "      <td>...</td>\n",
       "      <td>...</td>\n",
       "      <td>...</td>\n",
       "      <td>...</td>\n",
       "      <td>...</td>\n",
       "      <td>...</td>\n",
       "      <td>...</td>\n",
       "      <td>...</td>\n",
       "      <td>...</td>\n",
       "      <td>...</td>\n",
       "    </tr>\n",
       "    <tr>\n",
       "      <th>6995</th>\n",
       "      <td>-2</td>\n",
       "      <td>2</td>\n",
       "      <td>0</td>\n",
       "      <td>3</td>\n",
       "      <td>0</td>\n",
       "      <td>-271</td>\n",
       "      <td>0.0</td>\n",
       "      <td>99</td>\n",
       "      <td>-3</td>\n",
       "      <td>0</td>\n",
       "      <td>Blue</td>\n",
       "      <td>Blue</td>\n",
       "      <td>No Herald</td>\n",
       "    </tr>\n",
       "    <tr>\n",
       "      <th>2181</th>\n",
       "      <td>37</td>\n",
       "      <td>1</td>\n",
       "      <td>1</td>\n",
       "      <td>2</td>\n",
       "      <td>0</td>\n",
       "      <td>938</td>\n",
       "      <td>1.0</td>\n",
       "      <td>2052</td>\n",
       "      <td>40</td>\n",
       "      <td>2</td>\n",
       "      <td>Red</td>\n",
       "      <td>Blue</td>\n",
       "      <td>No Herald</td>\n",
       "    </tr>\n",
       "    <tr>\n",
       "      <th>2033</th>\n",
       "      <td>-10</td>\n",
       "      <td>2</td>\n",
       "      <td>1</td>\n",
       "      <td>0</td>\n",
       "      <td>0</td>\n",
       "      <td>752</td>\n",
       "      <td>0.4</td>\n",
       "      <td>1388</td>\n",
       "      <td>-2</td>\n",
       "      <td>2</td>\n",
       "      <td>Red</td>\n",
       "      <td>Red</td>\n",
       "      <td>No Herald</td>\n",
       "    </tr>\n",
       "    <tr>\n",
       "      <th>9556</th>\n",
       "      <td>-3</td>\n",
       "      <td>-2</td>\n",
       "      <td>-3</td>\n",
       "      <td>-3</td>\n",
       "      <td>-1</td>\n",
       "      <td>-3572</td>\n",
       "      <td>-0.4</td>\n",
       "      <td>-1330</td>\n",
       "      <td>-9</td>\n",
       "      <td>-1</td>\n",
       "      <td>Red</td>\n",
       "      <td>Blue</td>\n",
       "      <td>No Herald</td>\n",
       "    </tr>\n",
       "    <tr>\n",
       "      <th>4547</th>\n",
       "      <td>-6</td>\n",
       "      <td>2</td>\n",
       "      <td>0</td>\n",
       "      <td>-2</td>\n",
       "      <td>1</td>\n",
       "      <td>1814</td>\n",
       "      <td>0.0</td>\n",
       "      <td>619</td>\n",
       "      <td>57</td>\n",
       "      <td>-2</td>\n",
       "      <td>Red</td>\n",
       "      <td>Red</td>\n",
       "      <td>Blue</td>\n",
       "    </tr>\n",
       "  </tbody>\n",
       "</table>\n",
       "<p>6915 rows × 13 columns</p>\n",
       "</div>"
      ],
      "text/plain": [
       "      WardsPlaced  WardsDestroyed  Kills  Assists  TowersDestroyed  TotalGold  \\\n",
       "8818           -8               4      1       -2                0         32   \n",
       "7883            4              -2      1        0                0      -1052   \n",
       "9446            0              -1     -3       -2                0       -646   \n",
       "9092            4               4      9       14                0       5120   \n",
       "8318           -1               0      3        2                0        974   \n",
       "...           ...             ...    ...      ...              ...        ...   \n",
       "6995           -2               2      0        3                0       -271   \n",
       "2181           37               1      1        2                0        938   \n",
       "2033          -10               2      1        0                0        752   \n",
       "9556           -3              -2     -3       -3               -1      -3572   \n",
       "4547           -6               2      0       -2                1       1814   \n",
       "\n",
       "      AvgLevel  TotalExperience  TotalMinionsKilled  TotalJungleMinionsKilled  \\\n",
       "8818      -0.4             -952                 -46                        20   \n",
       "7883      -0.4            -1064                 -25                       -17   \n",
       "9446      -0.2             -960                 -26                        29   \n",
       "9092       0.8             3137                  41                       -16   \n",
       "8318       0.0              748                  24                       -17   \n",
       "...        ...              ...                 ...                       ...   \n",
       "6995       0.0               99                  -3                         0   \n",
       "2181       1.0             2052                  40                         2   \n",
       "2033       0.4             1388                  -2                         2   \n",
       "9556      -0.4            -1330                  -9                        -1   \n",
       "4547       0.0              619                  57                        -2   \n",
       "\n",
       "     firstBlood     dragon     herald  \n",
       "8818       Blue  No Dragon  No Herald  \n",
       "7883       Blue        Red  No Herald  \n",
       "9446        Red        Red       Blue  \n",
       "9092       Blue        Red        Red  \n",
       "8318        Red       Blue  No Herald  \n",
       "...         ...        ...        ...  \n",
       "6995       Blue       Blue  No Herald  \n",
       "2181        Red       Blue  No Herald  \n",
       "2033        Red        Red  No Herald  \n",
       "9556        Red       Blue  No Herald  \n",
       "4547        Red        Red       Blue  \n",
       "\n",
       "[6915 rows x 13 columns]"
      ]
     },
     "execution_count": 350,
     "metadata": {},
     "output_type": "execute_result"
    }
   ],
   "source": [
    "X_train"
   ]
  },
  {
   "cell_type": "code",
   "execution_count": null,
   "metadata": {
    "ExecuteTime": {
     "end_time": "2021-05-21T18:37:48.812930Z",
     "start_time": "2021-05-21T18:37:32.361Z"
    }
   },
   "outputs": [],
   "source": [
    "\n",
    "# Instantiate and fit a RandomForestClassifier\n",
    "forest = RandomForestClassifier(n_estimators=100, max_depth=5, random_state=1)\n",
    "forest.fit(X_train, y_train)\n",
    "\n",
    "# scores = cross_val_score(model_xgb, X_train,y_train, cv=10) # model, train, target, cross validation\n",
    "\n",
    "# Predict on training and test sets\n",
    "training_preds = forest.predict(X_train)\n",
    "test_preds = forest.predict(X_test)\n",
    "\n",
    "# Accuracy of training and test sets\n",
    "training_accuracy = accuracy_score(y_train, training_preds)\n",
    "test_accuracy = accuracy_score(y_test, test_preds)\n",
    "\n",
    "# print('cross-val-score \\n{}'.format(scores))\n",
    "# print('cross-val-score.mean \\n{:.3f}'.format(scores.mean()))\n",
    "\n",
    "print('Training Accuracy: {:.4}%'.format(training_accuracy * 100))\n",
    "print('Testing Accuracy: {:.4}%'.format(test_accuracy * 100))"
   ]
  },
  {
   "cell_type": "code",
   "execution_count": null,
   "metadata": {
    "ExecuteTime": {
     "end_time": "2021-05-21T18:37:48.814930Z",
     "start_time": "2021-05-21T18:37:32.372Z"
    }
   },
   "outputs": [],
   "source": [
    "# Training accuracy score\n",
    "forest.score(X_train, y_train)"
   ]
  },
  {
   "cell_type": "code",
   "execution_count": null,
   "metadata": {
    "ExecuteTime": {
     "end_time": "2021-05-21T18:37:48.816930Z",
     "start_time": "2021-05-21T18:37:32.395Z"
    }
   },
   "outputs": [],
   "source": [
    "# Test accuracy score\n",
    "forest.score(X_test, y_test)"
   ]
  },
  {
   "cell_type": "code",
   "execution_count": null,
   "metadata": {},
   "outputs": [],
   "source": [
    "rf_grid_search.score(X_train, y_train)"
   ]
  },
  {
   "cell_type": "code",
   "execution_count": null,
   "metadata": {},
   "outputs": [],
   "source": [
    "rf_grid_search.score(X_test, y_test)"
   ]
  },
  {
   "cell_type": "code",
   "execution_count": null,
   "metadata": {
    "ExecuteTime": {
     "end_time": "2021-05-21T18:37:48.820098Z",
     "start_time": "2021-05-21T18:37:32.405Z"
    }
   },
   "outputs": [],
   "source": [
    "# Test set predictions\n",
    "rf_pred = forest.predict(X_test)\n",
    "\n",
    "# Confusion matrix and classification report\n",
    "print(confusion_matrix(y_test, rf_pred))\n",
    "print(classification_report(y_test, rf_pred))"
   ]
  },
  {
   "cell_type": "code",
   "execution_count": null,
   "metadata": {
    "ExecuteTime": {
     "end_time": "2021-05-21T18:37:48.822095Z",
     "start_time": "2021-05-21T18:37:32.413Z"
    }
   },
   "outputs": [],
   "source": [
    "plot_cm(forest)"
   ]
  },
  {
   "cell_type": "code",
   "execution_count": null,
   "metadata": {},
   "outputs": [],
   "source": [
    "plot_cm(rf_grid_search)"
   ]
  },
  {
   "cell_type": "code",
   "execution_count": null,
   "metadata": {},
   "outputs": [],
   "source": [
    "fig = plt.figure(figsize=(10, 10))\n",
    "plt.barh(X_train.columns, rf_grid_search.best_estimator_.feature_importances_)"
   ]
  },
  {
   "cell_type": "code",
   "execution_count": null,
   "metadata": {
    "ExecuteTime": {
     "end_time": "2021-05-21T18:37:48.824096Z",
     "start_time": "2021-05-21T18:37:32.420Z"
    }
   },
   "outputs": [],
   "source": [
    "print_metrics(y_test, rf_pred)"
   ]
  },
  {
   "cell_type": "code",
   "execution_count": null,
   "metadata": {
    "ExecuteTime": {
     "end_time": "2021-05-21T18:37:48.826095Z",
     "start_time": "2021-05-21T18:37:32.431Z"
    }
   },
   "outputs": [],
   "source": [
    "fig = plt.figure(figsize=(10, 10))\n",
    "plt.barh(X_train.columns, forest.feature_importances_)"
   ]
  },
  {
   "cell_type": "markdown",
   "metadata": {},
   "source": [
    "### RF Hyperparameter"
   ]
  },
  {
   "cell_type": "code",
   "execution_count": null,
   "metadata": {},
   "outputs": [],
   "source": [
    "from sklearn.model_selection import RandomizedSearchCV"
   ]
  },
  {
   "cell_type": "code",
   "execution_count": null,
   "metadata": {},
   "outputs": [],
   "source": [
    "rf_clf = RandomForestClassifier()\n",
    "mean_rf_cv_score = np.mean(cross_val_score(rf_clf, X_train, y_train, cv=3))\n",
    "\n",
    "print(f\"Mean Cross Validation Score for Random Forest Classifier: {mean_rf_cv_score :.2%}\")"
   ]
  },
  {
   "cell_type": "code",
   "execution_count": null,
   "metadata": {},
   "outputs": [],
   "source": [
    "rf_param_grid = {\n",
    "    'n_estimators': [10, 30, 100],\n",
    "    'criterion': ['gini', 'entropy'],\n",
    "    'max_depth': [None, 2, 6, 10],\n",
    "    'min_samples_split': [5, 10],\n",
    "    'min_samples_leaf': [3, 6]\n",
    "}"
   ]
  },
  {
   "cell_type": "code",
   "execution_count": null,
   "metadata": {},
   "outputs": [],
   "source": [
    "rf_grid_search = GridSearchCV(rf_clf, rf_param_grid, cv=5)\n",
    "rf_grid_search.fit(X_train, y_train)\n",
    "\n",
    "print(f\"Training Accuracy: {rf_grid_search.best_score_ :.2%}\")\n",
    "print(\"\")\n",
    "print(f\"Optimal Parameters: {rf_grid_search.best_params_}\")"
   ]
  },
  {
   "cell_type": "code",
   "execution_count": null,
   "metadata": {},
   "outputs": [],
   "source": [
    "rf_score = rf_grid_search.score(X_test, y_test)\n",
    "print('Random forest grid search: {:.4}%'.format(rf_score * 100))"
   ]
  },
  {
   "cell_type": "code",
   "execution_count": null,
   "metadata": {},
   "outputs": [],
   "source": [
    "rf_grid_search"
   ]
  },
  {
   "cell_type": "code",
   "execution_count": null,
   "metadata": {},
   "outputs": [],
   "source": [
    "rf_clf = rf_clf.fit(X_train, y_train)\n",
    "y_pred = rf_clf.predict(X_test)"
   ]
  },
  {
   "cell_type": "code",
   "execution_count": null,
   "metadata": {},
   "outputs": [],
   "source": [
    "print(\"Testing Accuracy for GridSearch CV Tree: {:.4}%\".format(accuracy_score(y_test, y_pred) * 100))"
   ]
  },
  {
   "cell_type": "code",
   "execution_count": null,
   "metadata": {},
   "outputs": [],
   "source": [
    "print(classification_report(y_test, y_pred))"
   ]
  },
  {
   "cell_type": "code",
   "execution_count": null,
   "metadata": {},
   "outputs": [],
   "source": [
    "print('-'*40)\n",
    "print('Accuracy Score:')\n",
    "print(accuracy_score(y_test, y_pred))\n",
    "\n",
    "print('-'*40)\n",
    "print('Confusion Matrix:')\n",
    "print(confusion_matrix(y_test, y_pred))\n",
    "\n",
    "print('-'*40)\n",
    "print('Classification Matrix:')\n",
    "print(classification_report(y_test, y_pred))"
   ]
  },
  {
   "cell_type": "code",
   "execution_count": null,
   "metadata": {},
   "outputs": [],
   "source": []
  },
  {
   "cell_type": "code",
   "execution_count": null,
   "metadata": {},
   "outputs": [],
   "source": []
  },
  {
   "cell_type": "code",
   "execution_count": null,
   "metadata": {},
   "outputs": [],
   "source": []
  },
  {
   "cell_type": "code",
   "execution_count": null,
   "metadata": {},
   "outputs": [],
   "source": []
  },
  {
   "cell_type": "code",
   "execution_count": null,
   "metadata": {},
   "outputs": [],
   "source": []
  },
  {
   "cell_type": "code",
   "execution_count": null,
   "metadata": {},
   "outputs": [],
   "source": [
    "# rf_clf = RandomForestClassifier()\n",
    "# mean_rf_cv_score = np.mean(cross_val_score(rf_clf, X_train, y_train, cv=3))\n",
    "\n",
    "# print(f\"Mean Cross Validation Score for Random Forest Classifier: {mean_rf_cv_score :.2%}\")"
   ]
  },
  {
   "cell_type": "code",
   "execution_count": null,
   "metadata": {},
   "outputs": [],
   "source": [
    "from sklearn.ensemble import RandomForestRegressor\n",
    "rf = RandomForestRegressor(random_state = 42)\n",
    "from pprint import pprint\n",
    "# Look at parameters used by our current forest\n",
    "print('Parameters currently in use:\\n')\n",
    "pprint(rf.get_params())"
   ]
  },
  {
   "cell_type": "code",
   "execution_count": null,
   "metadata": {},
   "outputs": [],
   "source": [
    "from sklearn.model_selection import RandomizedSearchCV\n",
    "# Number of trees in random forest\n",
    "n_estimators = [int(x) for x in np.linspace(start = 200, stop = 2000, num = 10)]\n",
    "# Number of features to consider at every split\n",
    "max_features = ['auto', 'sqrt']\n",
    "# Maximum number of levels in tree\n",
    "max_depth = [int(x) for x in np.linspace(10, 110, num = 11)]\n",
    "max_depth.append(None)\n",
    "# Minimum number of samples required to split a node\n",
    "min_samples_split = [2, 5, 10]\n",
    "# Minimum number of samples required at each leaf node\n",
    "min_samples_leaf = [1, 2, 4]\n",
    "# Method of selecting samples for training each tree\n",
    "bootstrap = [True, False]\n",
    "# Create the random grid\n",
    "# random_grid = {'n_estimators': n_estimators,\n",
    "#                'max_features': max_features,\n",
    "#                'max_depth': max_depth,\n",
    "#                'min_samples_split': min_samples_split,\n",
    "#                'min_samples_leaf': min_samples_leaf,\n",
    "#                'bootstrap': bootstrap}\n",
    "random_grid = {'n_estimators': [50, 200, 400],\n",
    "               'max_features': ['auto', 'sqrt'],\n",
    "               'max_depth': [4, 7, 10, 13],\n",
    "               'min_samples_split': [4, 5, 20, 50],\n",
    "               'min_samples_leaf': [2, 5, 10, 20],\n",
    "               'bootstrap': [False]}\n",
    "\n",
    "pprint(random_grid)"
   ]
  },
  {
   "cell_type": "code",
   "execution_count": null,
   "metadata": {},
   "outputs": [],
   "source": [
    "train_features = X_train\n",
    "train_labels = y_train\n",
    "test_features = X_test\n",
    "test_labels = y_test\n",
    "\n",
    "# Use the random grid to search for best hyperparameters\n",
    "# First create the base model to tune\n",
    "rf = RandomForestRegressor()\n",
    "# Random search of parameters, using 3 fold cross validation, \n",
    "# search across 100 different combinations, and use all available cores\n",
    "rf_random = RandomizedSearchCV(estimator = rf, param_distributions = random_grid, n_iter = 20, cv = 3, verbose=2, random_state=42, n_jobs = -1)\n",
    "# Fit the random search model\n",
    "rf_random.fit(train_features, train_labels)"
   ]
  },
  {
   "cell_type": "code",
   "execution_count": null,
   "metadata": {},
   "outputs": [],
   "source": [
    "rf_random.score(X_test,y_test)"
   ]
  },
  {
   "cell_type": "code",
   "execution_count": null,
   "metadata": {},
   "outputs": [],
   "source": [
    "evaluate_grid(rf_random.best_estimator_, X_train, y_train, X_test, y_test)"
   ]
  },
  {
   "cell_type": "code",
   "execution_count": null,
   "metadata": {},
   "outputs": [],
   "source": [
    "def evaluate(model, test_features, test_labels):\n",
    "    predictions = model.predict(test_features)\n",
    "    errors = abs(predictions - test_labels)\n",
    "    mape = 100 * np.mean(errors / test_labels)\n",
    "    accuracy = 100 - mape\n",
    "    print('Model Performance')\n",
    "    print('Average Error: {:0.4f} degrees.'.format(np.mean(errors)))\n",
    "    print('Accuracy = {:0.2f}%.'.format(accuracy))\n",
    "    \n",
    "    return accuracy\n",
    "base_model = RandomForestRegressor(n_estimators = 10, random_state = 42)\n",
    "base_model.fit(train_features, train_labels)\n",
    "base_accuracy = evaluate(base_model, test_features, test_labels)"
   ]
  },
  {
   "cell_type": "code",
   "execution_count": null,
   "metadata": {},
   "outputs": [],
   "source": [
    "best_random = rf_random.best_estimator_\n",
    "random_accuracy = evaluate(best_random, test_features, test_labels)"
   ]
  },
  {
   "cell_type": "code",
   "execution_count": null,
   "metadata": {},
   "outputs": [],
   "source": [
    "rf_random.best_score_"
   ]
  },
  {
   "cell_type": "code",
   "execution_count": null,
   "metadata": {},
   "outputs": [],
   "source": [
    "# rf_param_grid = {\n",
    "#     'n_estimators': [10, 30, 100],\n",
    "#     'criterion': ['gini', 'entropy'],\n",
    "#     'max_depth': [None, 2, 6, 10],\n",
    "#     'min_samples_split': [5, 10],\n",
    "#     'min_samples_leaf': [3, 6]\n",
    "# }\n",
    "\n",
    "random_grid = {'n_estimators': [50, 200, 400],\n",
    "               'max_features': ['auto', 'sqrt'],\n",
    "               'max_depth': [4, 7, 10, 13],\n",
    "               'min_samples_split': [4, 5, 20, 50],\n",
    "               'min_samples_leaf': [2, 5, 10, 20],\n",
    "               'bootstrap': [False]}"
   ]
  },
  {
   "cell_type": "code",
   "execution_count": null,
   "metadata": {},
   "outputs": [],
   "source": [
    "rf_grid_search = GridSearchCV(rf_clf, rf_param_grid, cv=3)\n",
    "rf_grid_search.fit(X_train, y_train)\n",
    "\n",
    "print(f\"Training Accuracy: {rf_grid_search.best_score_ :.2%}\")\n",
    "print(\"\")\n",
    "print(f\"Optimal Parameters: {rf_grid_search.best_params_}\")"
   ]
  },
  {
   "cell_type": "code",
   "execution_count": null,
   "metadata": {},
   "outputs": [],
   "source": [
    "rf_score = rf_grid_search.score(X_test, y_test)\n",
    "print('Random forest grid search: {:.4}%'.format(rf_score * 100))"
   ]
  },
  {
   "cell_type": "code",
   "execution_count": null,
   "metadata": {},
   "outputs": [],
   "source": []
  },
  {
   "cell_type": "code",
   "execution_count": null,
   "metadata": {},
   "outputs": [],
   "source": []
  },
  {
   "cell_type": "code",
   "execution_count": null,
   "metadata": {},
   "outputs": [],
   "source": []
  },
  {
   "cell_type": "code",
   "execution_count": null,
   "metadata": {},
   "outputs": [],
   "source": []
  },
  {
   "cell_type": "code",
   "execution_count": null,
   "metadata": {},
   "outputs": [],
   "source": []
  },
  {
   "cell_type": "code",
   "execution_count": null,
   "metadata": {},
   "outputs": [],
   "source": []
  },
  {
   "cell_type": "code",
   "execution_count": null,
   "metadata": {},
   "outputs": [],
   "source": []
  },
  {
   "cell_type": "code",
   "execution_count": null,
   "metadata": {},
   "outputs": [],
   "source": []
  },
  {
   "cell_type": "code",
   "execution_count": null,
   "metadata": {},
   "outputs": [],
   "source": []
  },
  {
   "cell_type": "code",
   "execution_count": null,
   "metadata": {},
   "outputs": [],
   "source": []
  },
  {
   "cell_type": "code",
   "execution_count": null,
   "metadata": {},
   "outputs": [],
   "source": []
  },
  {
   "cell_type": "code",
   "execution_count": null,
   "metadata": {
    "ExecuteTime": {
     "end_time": "2021-05-21T15:58:42.517508Z",
     "start_time": "2021-05-21T15:58:35.504063Z"
    }
   },
   "outputs": [],
   "source": [
    "from sklearn.ensemble import RandomForestRegressor\n",
    "rf = RandomForestRegressor(random_state = 8)\n",
    "from pprint import pprint\n",
    "# Look at parameters used by our current forest\n",
    "print('Parameters currently in use:\\n')\n",
    "pprint(rf.get_params())\n",
    "# Parameters currently in use:\n",
    "\n",
    "# {'bootstrap': True,\n",
    "#  'criterion': 'mse',\n",
    "#  'max_depth': None,\n",
    "#  'max_features': 'auto',\n",
    "#  'max_leaf_nodes': None,\n",
    "#  'min_impurity_decrease': 0.0,\n",
    "#  'min_impurity_split': None,\n",
    "#  'min_samples_leaf': 1,\n",
    "#  'min_samples_split': 2,\n",
    "#  'min_weight_fraction_leaf': 0.0,\n",
    "#  'n_estimators': 10,\n",
    "#  'n_jobs': 1,\n",
    "#  'oob_score': False,\n",
    "#  'random_state': 42,\n",
    "#  'verbose': 0,\n",
    "#  'warm_start': False}"
   ]
  },
  {
   "cell_type": "code",
   "execution_count": null,
   "metadata": {},
   "outputs": [],
   "source": [
    "\n",
    "# Number of trees in random forest\n",
    "n_estimators = [50, 200, 400]\n",
    "# Number of features to consider at every split\n",
    "max_features = ['auto', 'sqrt']\n",
    "# Maximum number of levels in tree\n",
    "max_depth = [4, 7, 10, 13]\n",
    "max_depth.append(None)\n",
    "# Minimum number of samples required to split a node\n",
    "min_samples_split = [2, 5, 10]\n",
    "# Minimum number of samples required at each leaf node\n",
    "min_samples_leaf = [1, 2, 4]\n",
    "# Method of selecting samples for training each tree\n",
    "bootstrap = [False]\n",
    "# Create the random grid\n",
    "random_grid = {'n_estimators': n_estimators,\n",
    "               'max_features': max_features,\n",
    "               'max_depth': max_depth,\n",
    "               'min_samples_split': min_samples_split,\n",
    "               'min_samples_leaf': min_samples_leaf,\n",
    "               'bootstrap': bootstrap}\n",
    "pprint(random_grid)\n",
    "# {'bootstrap': [True, False],\n",
    "#  'max_depth': [10, 20, 30, 40, 50, 60, 70, 80, 90, 100],\n",
    "#  'max_features': ['auto', 'sqrt'],\n",
    "#  'min_samples_leaf': [1, 2, 4],\n",
    "#  'min_samples_split': [2, 5, 10],\n",
    "#  'n_estimators': [200, 400, 600, 800, 1000, 1200, 1400, 1600, 1800, 2000]}"
   ]
  },
  {
   "cell_type": "code",
   "execution_count": null,
   "metadata": {},
   "outputs": [],
   "source": [
    "# {'n_estimators' : 600,\n",
    "# 'min_samples_split' : 2,\n",
    "# 'min_samples_leaf' : 2,\n",
    "# 'max_features' : 'sqrt',\n",
    "# 'max_depth' : 10,\n",
    "# 'criterion' : 'entroy',\n",
    "# 'bootstrap' : False}"
   ]
  },
  {
   "cell_type": "code",
   "execution_count": null,
   "metadata": {
    "scrolled": true
   },
   "outputs": [],
   "source": [
    "import joblib\n",
    "\n",
    "random_grid = {'n_estimators': [50, 200, 400],\n",
    "               'max_features': ['auto', 'sqrt'],\n",
    "               'max_depth': [4, 7, 10, 13],\n",
    "               'min_samples_split': [4, 5, 20, 50],\n",
    "               'min_samples_leaf': [2, 5, 10, 20],\n",
    "               'bootstrap': [False]}\n",
    "\n",
    "# Use the random grid to search for best hyperparameters\n",
    "# First create the base model to tune\n",
    "rf_reg = RandomForestRegressor()\n",
    "# Random search of parameters, using 3 fold cross validation, \n",
    "# search across 100 different combinations, and use all available cores\n",
    "rf_search = RandomizedSearchCV(estimator = rf, param_distributions = random_grid, n_iter = 10, cv = 3, verbose=2, random_state=42, n_jobs = -1)\n",
    "# Fit the random search model\n",
    "# with parallel_backend('threading'):\n",
    "#     rf_random.fit(X_train, y_train)\n",
    "    \n",
    "\n",
    "rf_search.fit(X_train, y_train)\n",
    "\n"
   ]
  },
  {
   "cell_type": "code",
   "execution_count": null,
   "metadata": {},
   "outputs": [],
   "source": [
    "rf_search.best_estimator_"
   ]
  },
  {
   "cell_type": "code",
   "execution_count": null,
   "metadata": {},
   "outputs": [],
   "source": [
    "base_model"
   ]
  },
  {
   "cell_type": "code",
   "execution_count": null,
   "metadata": {},
   "outputs": [],
   "source": [
    "def evaluate(model, test_features, test_labels):\n",
    "    predictions = model.predict(test_features)\n",
    "    errors = abs(predictions - test_labels)\n",
    "    mape = 100 * np.mean(errors / test_labels)\n",
    "    accuracy = 100 - mape\n",
    "    print('Model Performance')\n",
    "    print('Average Error: {:0.4f} degrees.'.format(np.mean(errors)))\n",
    "    print('Accuracy = {:0.2f}%.'.format(accuracy))\n",
    "    print('MAPE = {}.'.format(mape))\n",
    "    print('Errors = {}.'.format(errors))\n",
    "    \n",
    "    return accuracy\n",
    "\n",
    "base_model = RandomForestRegressor(n_estimators = 10, random_state = 42)\n",
    "base_model.fit(X_train, y_train)\n",
    "base_accuracy = evaluate(base_model, X_test, y_test)"
   ]
  },
  {
   "cell_type": "code",
   "execution_count": null,
   "metadata": {},
   "outputs": [],
   "source": [
    "def evaluate(model, test_features, test_labels):\n",
    "    predictions = model.predict(test_features)\n",
    "    errors = abs(predictions - test_labels)\n",
    "    mape = 100 * np.mean(errors / test_labels)\n",
    "    accuracy = 100 - mape\n",
    "    print('Model Performance')\n",
    "    print('Average Error: {:0.4f} degrees.'.format(np.mean(errors)))\n",
    "    print('Accuracy = {:0.2f}%.'.format(accuracy))\n",
    "    print('MAPE = {}.'.format(mape))\n",
    "    print('Errors = {}.'.format(errors))\n",
    "    \n",
    "    return accuracy\n",
    "\n",
    "base_model = RandomForestRegressor(n_estimators = 10, random_state = 42)\n",
    "base_model.fit(X_train, y_train)\n",
    "base_accuracy = evaluate(base_model, X_test, y_test)\n",
    "\n",
    "training_preds_rf = grid_rf.predict(X_train)\n",
    "test_preds_rf = grid_rf.predict(X_test)\n",
    "training_accuracy_rf = accuracy_score(y_train, training_preds_rf)\n",
    "test_accuracy_rf = accuracy_score(y_test, test_preds_rf)\n",
    "\n",
    "print('')\n",
    "print('Training Accuracy: {:.4}%'.format(training_accuracy_rf * 100))\n",
    "print('Testing Accuracy: {:.4}%'.format(test_accuracy_rf * 100))"
   ]
  },
  {
   "cell_type": "code",
   "execution_count": null,
   "metadata": {},
   "outputs": [],
   "source": [
    "base_model = RandomForestRegressor(n_estimators = 10, random_state = 42)\n",
    "base_model.fit(X_train, y_train)\n",
    "base_accuracy = evaluate(base_model, X_test, y_test)"
   ]
  },
  {
   "cell_type": "code",
   "execution_count": null,
   "metadata": {},
   "outputs": [],
   "source": [
    "classification_report(forest, X_train, y_train, X_test, y_test)"
   ]
  },
  {
   "cell_type": "code",
   "execution_count": null,
   "metadata": {},
   "outputs": [],
   "source": []
  },
  {
   "cell_type": "code",
   "execution_count": null,
   "metadata": {},
   "outputs": [],
   "source": []
  },
  {
   "cell_type": "code",
   "execution_count": null,
   "metadata": {},
   "outputs": [],
   "source": []
  },
  {
   "cell_type": "code",
   "execution_count": null,
   "metadata": {
    "ExecuteTime": {
     "end_time": "2021-05-21T18:37:48.828127Z",
     "start_time": "2021-05-21T18:37:32.478Z"
    },
    "scrolled": true
   },
   "outputs": [],
   "source": [
    "model = RandomForestClassifier()\n",
    "\n",
    "random_grid = {'n_estimators': [50, 200, 400],\n",
    "               'max_features': ['auto', 'sqrt'],\n",
    "               'max_depth': [4, 7, 10, 13],\n",
    "               'min_samples_split': [4, 5, 20, 50],\n",
    "               'min_samples_leaf': [2, 5, 10, 20],\n",
    "               'bootstrap': [False]}\n",
    "\n",
    "\n",
    "\n",
    "# define grid search\n",
    "grid_rf = GridSearchCV(model, rf_param_grid, scoring='accuracy', cv=5, n_jobs=-1)\n",
    "grid_rf.fit(X_train, y_train)\n",
    "\n",
    "best_parameters = grid_rf.best_params_\n",
    "\n",
    "print('Grid Search found the following optimal parameters: ')\n",
    "for param_name in sorted(best_parameters.keys()):\n",
    "    print('%s: %r' % (param_name, best_parameters[param_name]))\n",
    "\n",
    "training_preds_rf = grid_rf.predict(X_train)\n",
    "test_preds_rf = grid_rf.predict(X_test)\n",
    "training_accuracy_rf = accuracy_score(y_train, training_preds_rf)\n",
    "test_accuracy_rf = accuracy_score(y_test, test_preds_rf)\n",
    "\n",
    "print('')\n",
    "print('Training Accuracy: {:.4}%'.format(training_accuracy_rf * 100))\n",
    "print('Testing Accuracy: {:.4}%'.format(test_accuracy_rf * 100))"
   ]
  },
  {
   "cell_type": "code",
   "execution_count": null,
   "metadata": {},
   "outputs": [],
   "source": []
  },
  {
   "cell_type": "code",
   "execution_count": null,
   "metadata": {},
   "outputs": [],
   "source": []
  },
  {
   "cell_type": "code",
   "execution_count": null,
   "metadata": {},
   "outputs": [],
   "source": []
  },
  {
   "cell_type": "code",
   "execution_count": null,
   "metadata": {},
   "outputs": [],
   "source": []
  },
  {
   "cell_type": "code",
   "execution_count": null,
   "metadata": {},
   "outputs": [],
   "source": []
  },
  {
   "cell_type": "markdown",
   "metadata": {},
   "source": [
    "## AdaBoost Classifier"
   ]
  },
  {
   "cell_type": "code",
   "execution_count": null,
   "metadata": {
    "ExecuteTime": {
     "end_time": "2021-05-21T18:37:48.830093Z",
     "start_time": "2021-05-21T18:37:32.514Z"
    }
   },
   "outputs": [],
   "source": [
    "ada=AdaBoostClassifier()\n",
    "ada.fit(X_train, y_train)\n",
    "scores = cross_val_score(ada, X_train,y_train, cv=10) \n",
    "print('cross-val-score \\n{}'.format(scores))\n",
    "print('cross-val-score.mean \\n{:.3f}'.format(scores.mean()))"
   ]
  },
  {
   "cell_type": "code",
   "execution_count": null,
   "metadata": {
    "ExecuteTime": {
     "end_time": "2021-05-21T18:37:48.832093Z",
     "start_time": "2021-05-21T18:37:32.532Z"
    }
   },
   "outputs": [],
   "source": [
    "ypred = ada.predict(X_test)\n",
    "print(\"Test Accuracy: {}%\".format(round(ada.score(X_test, y_test)*100, 2)))\n",
    "print(\"Random Forest Classifier report: \\n\\n\", classification_report(y_test, ypred))"
   ]
  },
  {
   "cell_type": "code",
   "execution_count": null,
   "metadata": {
    "ExecuteTime": {
     "end_time": "2021-05-21T18:37:48.835093Z",
     "start_time": "2021-05-21T18:37:32.540Z"
    }
   },
   "outputs": [],
   "source": [
    "fig = plt.figure(figsize=(10, 10))\n",
    "plt.barh(X_train.columns, ada.feature_importances_)"
   ]
  },
  {
   "cell_type": "markdown",
   "metadata": {},
   "source": [
    "## XGBoost"
   ]
  },
  {
   "cell_type": "code",
   "execution_count": null,
   "metadata": {
    "ExecuteTime": {
     "end_time": "2021-05-21T18:37:48.837090Z",
     "start_time": "2021-05-21T18:37:32.553Z"
    }
   },
   "outputs": [],
   "source": [
    "model_xgb = XGBClassifier()\n",
    "model_xgb.fit(X_train, y_train)\n",
    "# scores = cross_val_score(model_xgb, X_train,y_train, cv=10) # model, train, target, cross validation\n",
    "\n",
    "# Predict on training and test sets\n",
    "training_preds = model_xgb.predict(X_train)\n",
    "test_preds = model_xgb.predict(X_test)\n",
    "\n",
    "# Accuracy of training and test sets\n",
    "training_accuracy = accuracy_score(y_train, training_preds)\n",
    "test_accuracy = accuracy_score(y_test, test_preds)\n",
    "\n",
    "# print('cross-val-score \\n{}'.format(scores))\n",
    "# print('cross-val-score.mean \\n{:.3f}'.format(scores.mean()))\n",
    "\n",
    "print('Training Accuracy: {:.4}%'.format(training_accuracy * 100))\n",
    "print('Testing Accuracy: {:.4}%'.format(test_accuracy * 100))"
   ]
  },
  {
   "cell_type": "code",
   "execution_count": null,
   "metadata": {
    "ExecuteTime": {
     "end_time": "2021-05-21T18:37:48.840090Z",
     "start_time": "2021-05-21T18:37:32.563Z"
    }
   },
   "outputs": [],
   "source": [
    "pred = model_xgb.predict(X_test)\n",
    "print(\"Test Accuracy: {}%\".format(round(model_xgb.score(X_test, y_test)*100, 2)))\n",
    "\n",
    "print(classification_report(y_test, pred))"
   ]
  },
  {
   "cell_type": "code",
   "execution_count": null,
   "metadata": {
    "ExecuteTime": {
     "end_time": "2021-05-21T18:37:48.843089Z",
     "start_time": "2021-05-21T18:37:32.570Z"
    }
   },
   "outputs": [],
   "source": [
    "fig = plt.figure(figsize=(10, 10))\n",
    "plt.barh(X_train.columns, model_xgb.feature_importances_)"
   ]
  },
  {
   "cell_type": "code",
   "execution_count": null,
   "metadata": {
    "ExecuteTime": {
     "end_time": "2021-05-21T18:37:48.848232Z",
     "start_time": "2021-05-21T18:37:32.577Z"
    }
   },
   "outputs": [],
   "source": [
    "plot_cm(model_xgb)"
   ]
  },
  {
   "cell_type": "code",
   "execution_count": null,
   "metadata": {
    "ExecuteTime": {
     "end_time": "2021-05-21T18:37:48.851086Z",
     "start_time": "2021-05-21T18:37:32.587Z"
    }
   },
   "outputs": [],
   "source": [
    "param_grid = {\n",
    "    'learning_rate': [0.001, 0.01, 0.1],\n",
    "    'max_depth': [3, 5, 7, 9],\n",
    "    'min_child_weight': [1, 2],\n",
    "    'subsample': [0.5, 0.7, 1],\n",
    "    'n_estimators': [10, 100, 1000],\n",
    "}"
   ]
  },
  {
   "cell_type": "code",
   "execution_count": null,
   "metadata": {
    "ExecuteTime": {
     "end_time": "2021-05-21T18:37:48.854085Z",
     "start_time": "2021-05-21T18:37:32.596Z"
    }
   },
   "outputs": [],
   "source": [
    "model_xgb = GridSearchCV(clf, param_grid, scoring='accuracy', cv=None, n_jobs=1)\n",
    "model_xgb.fit(X_train, y_train)\n",
    "\n",
    "best_parameters = grid_clf.best_params_\n",
    "\n",
    "print('Grid Search found the following optimal parameters: ')\n",
    "for param_name in sorted(best_parameters.keys()):\n",
    "    print('%s: %r' % (param_name, best_parameters[param_name]))\n",
    "\n",
    "training_preds = grid_clf.predict(X_train)\n",
    "test_preds = grid_clf.predict(X_test)\n",
    "training_accuracy = accuracy_score(y_train, training_preds)\n",
    "test_accuracy = accuracy_score(y_test, test_preds)\n",
    "\n",
    "print('')\n",
    "print('Training Accuracy: {:.4}%'.format(training_accuracy * 100))\n",
    "print('Testing Accuracy: {:.4}%'.format(test_accuracy * 100))"
   ]
  },
  {
   "cell_type": "code",
   "execution_count": null,
   "metadata": {
    "ExecuteTime": {
     "end_time": "2021-05-21T18:37:48.859084Z",
     "start_time": "2021-05-21T18:37:32.607Z"
    }
   },
   "outputs": [],
   "source": [
    "# Instantiate XGBClassifier\n",
    "clf = XGBClassifier()\n",
    "\n",
    "# Fit XGBClassifier\n",
    "clf.fit(X_train, y_train)\n",
    "\n",
    "# Predict on training and test sets\n",
    "training_preds = clf.predict(X_train)\n",
    "test_preds = clf.predict(X_test)\n",
    "\n",
    "# Accuracy of training and test sets\n",
    "training_accuracy = accuracy_score(y_train, training_preds)\n",
    "test_accuracy = accuracy_score(y_test, test_preds)\n",
    "\n",
    "print('Training Accuracy: {:.4}%'.format(training_accuracy * 100))\n",
    "print('Testing Accuracy: {:.4}%'.format(test_accuracy * 100))"
   ]
  },
  {
   "cell_type": "code",
   "execution_count": null,
   "metadata": {},
   "outputs": [],
   "source": []
  },
  {
   "cell_type": "code",
   "execution_count": null,
   "metadata": {},
   "outputs": [],
   "source": []
  },
  {
   "cell_type": "code",
   "execution_count": null,
   "metadata": {},
   "outputs": [],
   "source": []
  },
  {
   "cell_type": "code",
   "execution_count": null,
   "metadata": {},
   "outputs": [],
   "source": []
  },
  {
   "cell_type": "code",
   "execution_count": null,
   "metadata": {},
   "outputs": [],
   "source": []
  },
  {
   "cell_type": "code",
   "execution_count": null,
   "metadata": {},
   "outputs": [],
   "source": []
  },
  {
   "cell_type": "code",
   "execution_count": null,
   "metadata": {},
   "outputs": [],
   "source": []
  },
  {
   "cell_type": "code",
   "execution_count": null,
   "metadata": {},
   "outputs": [],
   "source": []
  },
  {
   "cell_type": "code",
   "execution_count": null,
   "metadata": {},
   "outputs": [],
   "source": []
  },
  {
   "cell_type": "markdown",
   "metadata": {},
   "source": [
    "# iNTERPRET"
   ]
  },
  {
   "cell_type": "markdown",
   "metadata": {},
   "source": [
    "Evaluate how well your work solves the stated business problem.\n",
    "\n",
    "***\n",
    "Questions to consider:\n",
    "* How do you interpret the results?\n",
    "* How well does your model fit your data? How much better is this than your baseline model?\n",
    "* How confident are you that your results would generalize beyond the data you have?\n",
    "* How confident are you that this model would benefit the business if put into use?\n",
    "***"
   ]
  },
  {
   "cell_type": "code",
   "execution_count": null,
   "metadata": {},
   "outputs": [],
   "source": []
  },
  {
   "cell_type": "markdown",
   "metadata": {},
   "source": [
    "# CONCLUSIONS & RECOMMENDATIONS"
   ]
  },
  {
   "cell_type": "markdown",
   "metadata": {},
   "source": [
    "Provide your conclusions about the work you've done, including any limitations or next steps.\n",
    "\n",
    "***\n",
    "Questions to consider:\n",
    "* What would you recommend the business do as a result of this work?\n",
    "* What are some reasons why your analysis might not fully solve the business problem?\n",
    "* What else could you do in the future to improve this project?\n",
    "***"
   ]
  },
  {
   "cell_type": "markdown",
   "metadata": {},
   "source": [
    "# SCRATCH"
   ]
  },
  {
   "cell_type": "code",
   "execution_count": null,
   "metadata": {},
   "outputs": [],
   "source": []
  },
  {
   "cell_type": "markdown",
   "metadata": {},
   "source": [
    "## Grid Search Logistic Regression"
   ]
  },
  {
   "cell_type": "code",
   "execution_count": null,
   "metadata": {
    "ExecuteTime": {
     "end_time": "2021-05-21T18:37:48.861083Z",
     "start_time": "2021-05-21T18:37:32.659Z"
    }
   },
   "outputs": [],
   "source": [
    "def print_metrics(labels, preds):\n",
    "    print(\"Precision Score: {}\".format(precision_score(labels, preds)))\n",
    "    print(\"Recall Score: {}\".format(recall_score(labels, preds)))\n",
    "    print(\"Accuracy Score: {}\".format(accuracy_score(labels, preds)))\n",
    "    print(\"F1 Score: {}\".format(f1_score(labels, preds)))"
   ]
  },
  {
   "cell_type": "code",
   "execution_count": null,
   "metadata": {
    "ExecuteTime": {
     "end_time": "2021-05-21T18:37:48.863082Z",
     "start_time": "2021-05-21T18:37:32.667Z"
    }
   },
   "outputs": [],
   "source": [
    "from sklearn.metrics import accuracy_score, confusion_matrix, classification_report, precision_score, recall_score, f1_score\n",
    "\n",
    "model = LogisticRegression()\n",
    "\n",
    "log_param_grid = {\n",
    "    'solver': ['newton-cg', 'lbfgs', 'liblinear'],\n",
    "    'penalty': ['l2'],\n",
    "    'C': [100, 10, 1.0, 0.1, 0.01, 1e12],\n",
    "    'class_weight': [None, 'balanced'],\n",
    "    'max_iter': [10000],\n",
    "    'fit_intercept': [False] }\n",
    "\n",
    "# define grid search\n",
    "grid_log = GridSearchCV(model, log_param_grid, scoring='accuracy', cv=5, n_jobs=-1)\n",
    "grid_log.fit(X_train_tf, y_train)\n",
    "\n",
    "best_parameters = grid_log.best_params_\n",
    "\n",
    "print('Grid Search found the following optimal parameters: ')\n",
    "for param_name in sorted(best_parameters.keys()):\n",
    "    print('%s: %r' % (param_name, best_parameters[param_name]))\n",
    "\n",
    "training_preds_log = grid_log.predict(X_train_tf)\n",
    "test_preds_log = grid_log.predict(X_test_tf)\n",
    "training_accuracy_log = accuracy_score(y_train, training_preds_log)\n",
    "test_accuracy_log = accuracy_score(y_test, test_preds_log)\n",
    "\n",
    "print('')\n",
    "print('Training Accuracy: {:.4}%'.format(training_accuracy_log * 100))\n",
    "print('Testing Accuracy: {:.4}%'.format(test_accuracy_log * 100))"
   ]
  },
  {
   "cell_type": "code",
   "execution_count": null,
   "metadata": {
    "ExecuteTime": {
     "end_time": "2021-05-21T18:37:48.865082Z",
     "start_time": "2021-05-21T18:37:32.675Z"
    }
   },
   "outputs": [],
   "source": [
    "# print_metrics(y_test, test_preds_log)"
   ]
  },
  {
   "cell_type": "code",
   "execution_count": null,
   "metadata": {
    "ExecuteTime": {
     "end_time": "2021-05-21T18:37:48.867080Z",
     "start_time": "2021-05-21T18:37:32.681Z"
    }
   },
   "outputs": [],
   "source": [
    "# test_preds_log"
   ]
  },
  {
   "cell_type": "code",
   "execution_count": null,
   "metadata": {
    "ExecuteTime": {
     "end_time": "2021-05-21T18:37:48.868081Z",
     "start_time": "2021-05-21T18:37:32.688Z"
    }
   },
   "outputs": [],
   "source": [
    "# import warnings\n",
    "# warnings.filterwarnings('ignore')\n",
    "\n",
    "# from sklearn.model_selection import GridSearchCV, RandomizedSearchCV"
   ]
  },
  {
   "cell_type": "code",
   "execution_count": null,
   "metadata": {
    "ExecuteTime": {
     "end_time": "2021-05-21T18:37:48.870080Z",
     "start_time": "2021-05-21T18:37:32.694Z"
    }
   },
   "outputs": [],
   "source": [
    "\n",
    "# ## make gridseach\n",
    "# log_reg = LogisticRegression()\n",
    "# params = {'C':[0.001, 0.01, 0.1, 1, 10, 100,1e6,1e12],\n",
    "#         'penalty':['l1','l2','elastic_net'],\n",
    "#         'solver':[\"liblinear\", \"newton-cg\", \"lbfgs\", \"sag\",\"saga\"],}\n",
    "# gridsearch = GridSearchCV(log_reg,params,)\n",
    "# gridsearch"
   ]
  },
  {
   "cell_type": "code",
   "execution_count": null,
   "metadata": {
    "ExecuteTime": {
     "end_time": "2021-05-21T18:37:48.872080Z",
     "start_time": "2021-05-21T18:37:32.702Z"
    }
   },
   "outputs": [],
   "source": [
    "# ## fit grid and show best_params\n",
    "# gridsearch.fit(X_train_tf, y_train)\n",
    "# gridsearch.best_params_"
   ]
  },
  {
   "cell_type": "code",
   "execution_count": null,
   "metadata": {
    "ExecuteTime": {
     "end_time": "2021-05-21T18:37:48.874079Z",
     "start_time": "2021-05-21T18:37:32.710Z"
    }
   },
   "outputs": [],
   "source": [
    "# ## get best_esinmtaor_\n",
    "# gridsearch.best_estimator_"
   ]
  },
  {
   "cell_type": "code",
   "execution_count": null,
   "metadata": {},
   "outputs": [],
   "source": []
  },
  {
   "cell_type": "code",
   "execution_count": 62,
   "metadata": {},
   "outputs": [],
   "source": [
    "from sklearn.metrics import roc_curve, auc\n",
    "\n",
    "# Calculate the probability scores of each point in the training set\n",
    "y_train_score = model_log.decision_function(X_train)\n",
    "\n",
    "# Calculate the fpr, tpr, and thresholds for the training set\n",
    "train_fpr, train_tpr, thresholds = roc_curve(y_train, y_train_score)\n",
    "\n",
    "# Calculate the probability scores of each point in the test set\n",
    "y_score = model_log.decision_function(X_test)\n",
    "\n",
    "# Calculate the fpr, tpr, and thresholds for the test set\n",
    "fpr, tpr, thresholds = roc_curve(y_test, y_score)"
   ]
  },
  {
   "cell_type": "markdown",
   "metadata": {},
   "source": [
    "TO DO\n",
    "\n",
    "get a better understanding of above\n",
    "change graph below, add AUC to legend and show which line is which\n",
    "make axes less numbers"
   ]
  },
  {
   "cell_type": "code",
   "execution_count": 63,
   "metadata": {
    "ExecuteTime": {
     "end_time": "2021-05-21T18:37:42.862820Z",
     "start_time": "2021-05-21T18:37:41.993948Z"
    }
   },
   "outputs": [
    {
     "name": "stdout",
     "output_type": "stream",
     "text": [
      "AUC: 0.8127954659528192\n"
     ]
    },
    {
     "data": {
      "image/png": "[encoded data removed]",
      "text/plain": [
       "<Figure size 576x432 with 1 Axes>"
      ]
     },
     "metadata": {
      "needs_background": "light"
     },
     "output_type": "display_data"
    }
   ],
   "source": [
    "# Seaborn's beautiful styling\n",
    "# sns.set_style('darkgrid', {'axes.facecolor': '0.9'})\n",
    "\n",
    "# ROC curve for training set\n",
    "plt.figure(figsize=(8, 6))\n",
    "lw = 2\n",
    "plt.plot(train_fpr, train_tpr, color='darkorange',\n",
    "         lw=lw, label='ROC curve')\n",
    "plt.plot(fpr, tpr, color='darkorange',\n",
    "         lw=lw, label='ROC curve')\n",
    "plt.plot([0, 1], [0, 1], color='navy', lw=lw, linestyle='--')\n",
    "plt.xlim([0.0, 1.0])\n",
    "plt.ylim([0.0, 1.05])\n",
    "plt.yticks([i/20.0 for i in range(21)])\n",
    "plt.xticks([i/20.0 for i in range(21)])\n",
    "plt.xlabel('False Positive Rate')\n",
    "plt.ylabel('True Positive Rate')\n",
    "plt.title('Receiver operating characteristic (ROC) Curve for Training Set')\n",
    "plt.legend(loc='lower right')\n",
    "print('AUC: {}'.format(auc(train_fpr, train_tpr)))\n",
    "plt.show()"
   ]
  },
  {
   "cell_type": "code",
   "execution_count": 64,
   "metadata": {
    "ExecuteTime": {
     "end_time": "2021-05-21T18:37:43.677635Z",
     "start_time": "2021-05-21T18:37:42.866805Z"
    },
    "scrolled": true
   },
   "outputs": [
    {
     "name": "stdout",
     "output_type": "stream",
     "text": [
      "Test AUC: 0.8088973983043902\n",
      "\n"
     ]
    },
    {
     "data": {
      "image/png": "[encoded data removed]",
      "text/plain": [
       "<Figure size 720x576 with 1 Axes>"
      ]
     },
     "metadata": {
      "needs_background": "light"
     },
     "output_type": "display_data"
    }
   ],
   "source": [
    "# ROC curve for test set\n",
    "plt.figure(figsize=(10, 8))\n",
    "lw = 2\n",
    "plt.plot(fpr, tpr, color='darkorange',\n",
    "         lw=lw, label='ROC curve')\n",
    "plt.plot([0, 1], [0, 1], color='navy', lw=lw, linestyle='--')\n",
    "plt.xlim([0.0, 1.0])\n",
    "plt.ylim([0.0, 1.05])\n",
    "plt.yticks([i/20.0 for i in range(21)])\n",
    "plt.xticks([i/20.0 for i in range(21)])\n",
    "plt.xlabel('False Positive Rate')\n",
    "plt.ylabel('True Positive Rate')\n",
    "plt.title('Receiver operating characteristic (ROC) Curve for Test Set')\n",
    "plt.legend(loc='lower right')\n",
    "print('Test AUC: {}'.format(auc(fpr, tpr)))\n",
    "print('')\n",
    "plt.show()"
   ]
  },
  {
   "cell_type": "markdown",
   "metadata": {},
   "source": [
    "### 100 times"
   ]
  },
  {
   "cell_type": "code",
   "execution_count": null,
   "metadata": {},
   "outputs": [],
   "source": []
  },
  {
   "cell_type": "code",
   "execution_count": 487,
   "metadata": {},
   "outputs": [],
   "source": [
    "run = False\n",
    "\n",
    "iterations = 1000\n",
    "\n",
    "coef_1000 = (pd.Series(model_log.coef_.flatten(), index=X_train_coeff.columns).sort_values(ascending=True)) * 0\n",
    "\n",
    "while iterations != 0 and run == True:\n",
    "    X_train_tf, X_test_tf, y_train, y_test = tt_split_df(nogold_noexp_no_avglvl_df)\n",
    "    model_log = LogisticRegression()\n",
    "    model_log.fit(X_train_tf, y_train)\n",
    "    coef_lr = pd.Series(model_log.coef_.flatten(), index=X_train_tf.columns).sort_values(ascending=True)\n",
    "    coef_1000 += coef_lr\n",
    "    iterations = iterations - 1\n",
    "\n",
    "if run == False: \n",
    "    coef_1000 = pd.Series([-0.22775933, -0.10250555, -0.07621391, -0.03145217,  0.00834943,\n",
    "        0.01678342,  0.02172336,  0.03152094,  0.09352357,  0.11534489,\n",
    "        0.27156569,  0.28040027,  0.33411204,  1.01165377])\n",
    "    coef_1000.index = ['dragon_Red', 'herald_Red', 'firstBlood_Red', 'dragon_No Dragon',\n",
    "       'herald_No Herald', 'WardsPlaced', 'WardsDestroyed', 'Assists',\n",
    "       'TowersDestroyed', 'herald_Blue', 'TotalJungleMinionsKilled',\n",
    "       'dragon_Blue', 'TotalMinionsKilled', 'Kills']"
   ]
  },
  {
   "cell_type": "code",
   "execution_count": 488,
   "metadata": {},
   "outputs": [
    {
     "data": {
      "text/plain": [
       "dragon_Red                 -0.227759\n",
       "herald_Red                 -0.102506\n",
       "firstBlood_Red             -0.076214\n",
       "dragon_No Dragon           -0.031452\n",
       "herald_No Herald            0.008349\n",
       "WardsPlaced                 0.016783\n",
       "WardsDestroyed              0.021723\n",
       "Assists                     0.031521\n",
       "TowersDestroyed             0.093524\n",
       "herald_Blue                 0.115345\n",
       "TotalJungleMinionsKilled    0.271566\n",
       "dragon_Blue                 0.280400\n",
       "TotalMinionsKilled          0.334112\n",
       "Kills                       1.011654\n",
       "dtype: float64"
      ]
     },
     "execution_count": 488,
     "metadata": {},
     "output_type": "execute_result"
    }
   ],
   "source": [
    "coef_1000"
   ]
  },
  {
   "cell_type": "code",
   "execution_count": 489,
   "metadata": {},
   "outputs": [
    {
     "data": {
      "image/png": "[encoded data removed]",
      "text/plain": [
       "<Figure size 576x432 with 1 Axes>"
      ]
     },
     "metadata": {
      "needs_background": "light"
     },
     "output_type": "display_data"
    }
   ],
   "source": [
    "coef_1000 = coef_1000.sort_values(ascending=True)\n",
    "\n",
    "ax = coef_1000.plot(kind='barh', figsize=(8,6))"
   ]
  },
  {
   "cell_type": "code",
   "execution_count": 490,
   "metadata": {
    "ExecuteTime": {
     "end_time": "2021-05-21T19:09:35.275831Z",
     "start_time": "2021-05-21T19:09:34.726538Z"
    }
   },
   "outputs": [
    {
     "data": {
      "text/plain": [
       "<matplotlib.lines.Line2D at 0x2e196c1e4f0>"
      ]
     },
     "execution_count": 490,
     "metadata": {},
     "output_type": "execute_result"
    },
    {
     "data": {
      "image/png": "[encoded data removed]",
      "text/plain": [
       "<Figure size 576x432 with 1 Axes>"
      ]
     },
     "metadata": {
      "needs_background": "light"
     },
     "output_type": "display_data"
    }
   ],
   "source": [
    "odds = np.exp(coef_1000)\n",
    "ax = odds.plot(kind='barh', figsize=(8,6))\n",
    "ax.axvline(1)\n",
    "# np.exp(coef_lr)"
   ]
  },
  {
   "cell_type": "markdown",
   "metadata": {},
   "source": [
    "For every 1 sd increase in Kills, the odds that blue wins is are 3.0 x as large as the odds that they lost"
   ]
  },
  {
   "cell_type": "code",
   "execution_count": 348,
   "metadata": {
    "ExecuteTime": {
     "end_time": "2021-05-21T19:09:38.191978Z",
     "start_time": "2021-05-21T19:09:37.691470Z"
    },
    "scrolled": false
   },
   "outputs": [
    {
     "data": {
      "image/png": "[encoded data removed]",
      "text/plain": [
       "<Figure size 576x432 with 1 Axes>"
      ]
     },
     "metadata": {
      "needs_background": "light"
     },
     "output_type": "display_data"
    }
   ],
   "source": [
    "prob = odds/(1+odds)\n",
    "prob\n",
    "\n",
    "ax = prob.plot(kind='barh', figsize=(8,6))"
   ]
  },
  {
   "cell_type": "code",
   "execution_count": null,
   "metadata": {},
   "outputs": [],
   "source": []
  },
  {
   "cell_type": "code",
   "execution_count": null,
   "metadata": {},
   "outputs": [],
   "source": []
  },
  {
   "cell_type": "code",
   "execution_count": null,
   "metadata": {},
   "outputs": [],
   "source": []
  },
  {
   "cell_type": "code",
   "execution_count": null,
   "metadata": {},
   "outputs": [],
   "source": []
  },
  {
   "cell_type": "code",
   "execution_count": null,
   "metadata": {},
   "outputs": [],
   "source": []
  },
  {
   "cell_type": "code",
   "execution_count": null,
   "metadata": {},
   "outputs": [],
   "source": []
  }
 ],
 "metadata": {
  "kernelspec": {
   "display_name": "learn-env",
   "language": "python",
   "name": "learn-env"
  },
  "language_info": {
   "codemirror_mode": {
    "name": "ipython",
    "version": 3
   },
   "file_extension": ".py",
   "mimetype": "text/x-python",
   "name": "python",
   "nbconvert_exporter": "python",
   "pygments_lexer": "ipython3",
   "version": "3.8.5"
  },
  "toc": {
   "base_numbering": 1,
   "nav_menu": {},
   "number_sections": false,
   "sideBar": true,
   "skip_h1_title": false,
   "title_cell": "Table of Contents",
   "title_sidebar": "Contents",
   "toc_cell": false,
   "toc_position": {
    "height": "calc(100% - 180px)",
    "left": "10px",
    "top": "150px",
    "width": "303.825px"
   },
   "toc_section_display": true,
   "toc_window_display": true
  },
  "varInspector": {
   "cols": {
    "lenName": 16,
    "lenType": 16,
    "lenVar": 40
   },
   "kernels_config": {
    "python": {
     "delete_cmd_postfix": "",
     "delete_cmd_prefix": "del ",
     "library": "var_list.py",
     "varRefreshCmd": "print(var_dic_list())"
    },
    "r": {
     "delete_cmd_postfix": ") ",
     "delete_cmd_prefix": "rm(",
     "library": "var_list.r",
     "varRefreshCmd": "cat(var_dic_list()) "
    }
   },
   "types_to_exclude": [
    "module",
    "function",
    "builtin_function_or_method",
    "instance",
    "_Feature"
   ],
   "window_display": false
  }
 },
 "nbformat": 4,
 "nbformat_minor": 2
}
