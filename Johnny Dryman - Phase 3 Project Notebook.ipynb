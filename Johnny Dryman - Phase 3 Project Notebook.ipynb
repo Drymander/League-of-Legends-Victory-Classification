{
 "cells": [
  {
   "cell_type": "markdown",
   "metadata": {},
   "source": [
    "# League of Legends Early Game Classification Analysis"
   ]
  },
  {
   "cell_type": "markdown",
   "metadata": {},
   "source": [
    "* Student name: Johnny Dryman\n",
    "* Student pace: full time\n",
    "* Scheduled project review date/time: 5/27/2021\n",
    "* Instructor name: James Irving"
   ]
  },
  {
   "cell_type": "markdown",
   "metadata": {},
   "source": [
    "## Business Problem\n",
    "\n",
    "League of Legends (LoL) is an intensely competitive game designed for 'core' gamers, or gamers who care deeply about winning the game.  Naturally, these players hate losing.  When I first started playing, I noticed that one of my teammates might \"rage quit\" a game within the first 10-20 minutes, leaving my teammates and I to an inevitable failure.  This made my experience suffer, and I could see my teammates lamenting in the chat as well.  Considering a single game of LoL can last for 45 minutes, the remaining 35 minutes was not an enjoyable experience.\n",
    "\n",
    "When I discovered the dataset for League of Legends matches with only the first 10 minutes of data, I was inspired to try and find out whether or not my angry teammates were justified in rage quitting.  Was too much of the 45 minute game decided within the first 10 minutes?  Can I use machine learning to predict the winner with only 10 minutes of data?  What factors in the early game were most likely to lead to a victory?\n",
    "\n",
    "The goal of this project is to take a look at how well a winner can be predicted based on early game information, and it also seeks to understand what specific factors can predict a victory."
   ]
  },
  {
   "cell_type": "markdown",
   "metadata": {},
   "source": [
    "# Data Import and Processing"
   ]
  },
  {
   "cell_type": "markdown",
   "metadata": {},
   "source": [
    "Importing packages for importing data and exploratory visual analysis."
   ]
  },
  {
   "cell_type": "code",
   "execution_count": 33,
   "metadata": {
    "ExecuteTime": {
     "end_time": "2021-05-24T22:07:17.016158Z",
     "start_time": "2021-05-24T22:07:17.004161Z"
    }
   },
   "outputs": [],
   "source": [
    "#Standard python libraries\n",
    "import pandas as pd\n",
    "import seaborn as sns\n",
    "import matplotlib.pyplot as plt\n",
    "import numpy as np\n",
    "import warnings\n",
    "warnings.filterwarnings(action='ignore') \n",
    "\n",
    "# Preprocessing tools\n",
    "from sklearn.model_selection import train_test_split,cross_val_predict,cross_validate\n",
    "from sklearn.preprocessing import MinMaxScaler,StandardScaler,OneHotEncoder\n",
    "scaler = StandardScaler()\n",
    "from sklearn import metrics\n",
    "\n",
    "# Models & Utilities\n",
    "from sklearn.dummy import DummyClassifier\n",
    "from sklearn.linear_model import LogisticRegression,LogisticRegressionCV\n",
    "from sklearn.ensemble import RandomForestClassifier\n",
    "from sklearn.model_selection import train_test_split\n",
    "from sklearn.linear_model import LogisticRegression\n",
    "from sklearn.metrics import classification_report\n",
    "from sklearn.model_selection import cross_val_score\n",
    "from xgboost import XGBClassifier\n",
    "from sklearn.model_selection import GridSearchCV\n",
    "from sklearn.metrics import plot_confusion_matrix\n",
    "\n",
    "import warnings\n",
    "warnings.filterwarnings(action='ignore') \n",
    "\n",
    "from sklearn.metrics import accuracy_score, confusion_matrix, classification_report, precision_score, recall_score, f1_score"
   ]
  },
  {
   "cell_type": "markdown",
   "metadata": {},
   "source": [
    "This data was found on Kaggle: https://www.kaggle.com/bobbyscience/league-of-legends-diamond-ranked-games-10-min"
   ]
  },
  {
   "cell_type": "code",
   "execution_count": 34,
   "metadata": {
    "ExecuteTime": {
     "end_time": "2021-05-24T22:07:17.095131Z",
     "start_time": "2021-05-24T22:07:17.035152Z"
    }
   },
   "outputs": [
    {
     "data": {
      "text/html": [
       "<div>\n",
       "<style scoped>\n",
       "    .dataframe tbody tr th:only-of-type {\n",
       "        vertical-align: middle;\n",
       "    }\n",
       "\n",
       "    .dataframe tbody tr th {\n",
       "        vertical-align: top;\n",
       "    }\n",
       "\n",
       "    .dataframe thead th {\n",
       "        text-align: right;\n",
       "    }\n",
       "</style>\n",
       "<table border=\"1\" class=\"dataframe\">\n",
       "  <thead>\n",
       "    <tr style=\"text-align: right;\">\n",
       "      <th></th>\n",
       "      <th>gameId</th>\n",
       "      <th>blueWins</th>\n",
       "      <th>blueWardsPlaced</th>\n",
       "      <th>blueWardsDestroyed</th>\n",
       "      <th>blueFirstBlood</th>\n",
       "      <th>blueKills</th>\n",
       "      <th>blueDeaths</th>\n",
       "      <th>blueAssists</th>\n",
       "      <th>blueEliteMonsters</th>\n",
       "      <th>blueDragons</th>\n",
       "      <th>...</th>\n",
       "      <th>redTowersDestroyed</th>\n",
       "      <th>redTotalGold</th>\n",
       "      <th>redAvgLevel</th>\n",
       "      <th>redTotalExperience</th>\n",
       "      <th>redTotalMinionsKilled</th>\n",
       "      <th>redTotalJungleMinionsKilled</th>\n",
       "      <th>redGoldDiff</th>\n",
       "      <th>redExperienceDiff</th>\n",
       "      <th>redCSPerMin</th>\n",
       "      <th>redGoldPerMin</th>\n",
       "    </tr>\n",
       "  </thead>\n",
       "  <tbody>\n",
       "    <tr>\n",
       "      <th>0</th>\n",
       "      <td>4519157822</td>\n",
       "      <td>0</td>\n",
       "      <td>28</td>\n",
       "      <td>2</td>\n",
       "      <td>1</td>\n",
       "      <td>9</td>\n",
       "      <td>6</td>\n",
       "      <td>11</td>\n",
       "      <td>0</td>\n",
       "      <td>0</td>\n",
       "      <td>...</td>\n",
       "      <td>0</td>\n",
       "      <td>16567</td>\n",
       "      <td>6.8</td>\n",
       "      <td>17047</td>\n",
       "      <td>197</td>\n",
       "      <td>55</td>\n",
       "      <td>-643</td>\n",
       "      <td>8</td>\n",
       "      <td>19.7</td>\n",
       "      <td>1656.7</td>\n",
       "    </tr>\n",
       "    <tr>\n",
       "      <th>1</th>\n",
       "      <td>4523371949</td>\n",
       "      <td>0</td>\n",
       "      <td>12</td>\n",
       "      <td>1</td>\n",
       "      <td>0</td>\n",
       "      <td>5</td>\n",
       "      <td>5</td>\n",
       "      <td>5</td>\n",
       "      <td>0</td>\n",
       "      <td>0</td>\n",
       "      <td>...</td>\n",
       "      <td>1</td>\n",
       "      <td>17620</td>\n",
       "      <td>6.8</td>\n",
       "      <td>17438</td>\n",
       "      <td>240</td>\n",
       "      <td>52</td>\n",
       "      <td>2908</td>\n",
       "      <td>1173</td>\n",
       "      <td>24.0</td>\n",
       "      <td>1762.0</td>\n",
       "    </tr>\n",
       "    <tr>\n",
       "      <th>2</th>\n",
       "      <td>4521474530</td>\n",
       "      <td>0</td>\n",
       "      <td>15</td>\n",
       "      <td>0</td>\n",
       "      <td>0</td>\n",
       "      <td>7</td>\n",
       "      <td>11</td>\n",
       "      <td>4</td>\n",
       "      <td>1</td>\n",
       "      <td>1</td>\n",
       "      <td>...</td>\n",
       "      <td>0</td>\n",
       "      <td>17285</td>\n",
       "      <td>6.8</td>\n",
       "      <td>17254</td>\n",
       "      <td>203</td>\n",
       "      <td>28</td>\n",
       "      <td>1172</td>\n",
       "      <td>1033</td>\n",
       "      <td>20.3</td>\n",
       "      <td>1728.5</td>\n",
       "    </tr>\n",
       "    <tr>\n",
       "      <th>3</th>\n",
       "      <td>4524384067</td>\n",
       "      <td>0</td>\n",
       "      <td>43</td>\n",
       "      <td>1</td>\n",
       "      <td>0</td>\n",
       "      <td>4</td>\n",
       "      <td>5</td>\n",
       "      <td>5</td>\n",
       "      <td>1</td>\n",
       "      <td>0</td>\n",
       "      <td>...</td>\n",
       "      <td>0</td>\n",
       "      <td>16478</td>\n",
       "      <td>7.0</td>\n",
       "      <td>17961</td>\n",
       "      <td>235</td>\n",
       "      <td>47</td>\n",
       "      <td>1321</td>\n",
       "      <td>7</td>\n",
       "      <td>23.5</td>\n",
       "      <td>1647.8</td>\n",
       "    </tr>\n",
       "    <tr>\n",
       "      <th>4</th>\n",
       "      <td>4436033771</td>\n",
       "      <td>0</td>\n",
       "      <td>75</td>\n",
       "      <td>4</td>\n",
       "      <td>0</td>\n",
       "      <td>6</td>\n",
       "      <td>6</td>\n",
       "      <td>6</td>\n",
       "      <td>0</td>\n",
       "      <td>0</td>\n",
       "      <td>...</td>\n",
       "      <td>0</td>\n",
       "      <td>17404</td>\n",
       "      <td>7.0</td>\n",
       "      <td>18313</td>\n",
       "      <td>225</td>\n",
       "      <td>67</td>\n",
       "      <td>1004</td>\n",
       "      <td>-230</td>\n",
       "      <td>22.5</td>\n",
       "      <td>1740.4</td>\n",
       "    </tr>\n",
       "  </tbody>\n",
       "</table>\n",
       "<p>5 rows × 40 columns</p>\n",
       "</div>"
      ],
      "text/plain": [
       "       gameId  blueWins  blueWardsPlaced  blueWardsDestroyed  blueFirstBlood  \\\n",
       "0  4519157822         0               28                   2               1   \n",
       "1  4523371949         0               12                   1               0   \n",
       "2  4521474530         0               15                   0               0   \n",
       "3  4524384067         0               43                   1               0   \n",
       "4  4436033771         0               75                   4               0   \n",
       "\n",
       "   blueKills  blueDeaths  blueAssists  blueEliteMonsters  blueDragons  ...  \\\n",
       "0          9           6           11                  0            0  ...   \n",
       "1          5           5            5                  0            0  ...   \n",
       "2          7          11            4                  1            1  ...   \n",
       "3          4           5            5                  1            0  ...   \n",
       "4          6           6            6                  0            0  ...   \n",
       "\n",
       "   redTowersDestroyed  redTotalGold  redAvgLevel  redTotalExperience  \\\n",
       "0                   0         16567          6.8               17047   \n",
       "1                   1         17620          6.8               17438   \n",
       "2                   0         17285          6.8               17254   \n",
       "3                   0         16478          7.0               17961   \n",
       "4                   0         17404          7.0               18313   \n",
       "\n",
       "   redTotalMinionsKilled  redTotalJungleMinionsKilled  redGoldDiff  \\\n",
       "0                    197                           55         -643   \n",
       "1                    240                           52         2908   \n",
       "2                    203                           28         1172   \n",
       "3                    235                           47         1321   \n",
       "4                    225                           67         1004   \n",
       "\n",
       "   redExperienceDiff  redCSPerMin  redGoldPerMin  \n",
       "0                  8         19.7         1656.7  \n",
       "1               1173         24.0         1762.0  \n",
       "2               1033         20.3         1728.5  \n",
       "3                  7         23.5         1647.8  \n",
       "4               -230         22.5         1740.4  \n",
       "\n",
       "[5 rows x 40 columns]"
      ]
     },
     "execution_count": 34,
     "metadata": {},
     "output_type": "execute_result"
    }
   ],
   "source": [
    "# Importing data\n",
    "df = pd.read_csv('data/high_diamond_ranked_10min.csv')\n",
    "\n",
    "df.head()"
   ]
  },
  {
   "cell_type": "code",
   "execution_count": 35,
   "metadata": {
    "ExecuteTime": {
     "end_time": "2021-05-24T22:07:17.126122Z",
     "start_time": "2021-05-24T22:07:17.098134Z"
    }
   },
   "outputs": [
    {
     "name": "stdout",
     "output_type": "stream",
     "text": [
      "<class 'pandas.core.frame.DataFrame'>\n",
      "RangeIndex: 9879 entries, 0 to 9878\n",
      "Data columns (total 40 columns):\n",
      " #   Column                        Non-Null Count  Dtype  \n",
      "---  ------                        --------------  -----  \n",
      " 0   gameId                        9879 non-null   int64  \n",
      " 1   blueWins                      9879 non-null   int64  \n",
      " 2   blueWardsPlaced               9879 non-null   int64  \n",
      " 3   blueWardsDestroyed            9879 non-null   int64  \n",
      " 4   blueFirstBlood                9879 non-null   int64  \n",
      " 5   blueKills                     9879 non-null   int64  \n",
      " 6   blueDeaths                    9879 non-null   int64  \n",
      " 7   blueAssists                   9879 non-null   int64  \n",
      " 8   blueEliteMonsters             9879 non-null   int64  \n",
      " 9   blueDragons                   9879 non-null   int64  \n",
      " 10  blueHeralds                   9879 non-null   int64  \n",
      " 11  blueTowersDestroyed           9879 non-null   int64  \n",
      " 12  blueTotalGold                 9879 non-null   int64  \n",
      " 13  blueAvgLevel                  9879 non-null   float64\n",
      " 14  blueTotalExperience           9879 non-null   int64  \n",
      " 15  blueTotalMinionsKilled        9879 non-null   int64  \n",
      " 16  blueTotalJungleMinionsKilled  9879 non-null   int64  \n",
      " 17  blueGoldDiff                  9879 non-null   int64  \n",
      " 18  blueExperienceDiff            9879 non-null   int64  \n",
      " 19  blueCSPerMin                  9879 non-null   float64\n",
      " 20  blueGoldPerMin                9879 non-null   float64\n",
      " 21  redWardsPlaced                9879 non-null   int64  \n",
      " 22  redWardsDestroyed             9879 non-null   int64  \n",
      " 23  redFirstBlood                 9879 non-null   int64  \n",
      " 24  redKills                      9879 non-null   int64  \n",
      " 25  redDeaths                     9879 non-null   int64  \n",
      " 26  redAssists                    9879 non-null   int64  \n",
      " 27  redEliteMonsters              9879 non-null   int64  \n",
      " 28  redDragons                    9879 non-null   int64  \n",
      " 29  redHeralds                    9879 non-null   int64  \n",
      " 30  redTowersDestroyed            9879 non-null   int64  \n",
      " 31  redTotalGold                  9879 non-null   int64  \n",
      " 32  redAvgLevel                   9879 non-null   float64\n",
      " 33  redTotalExperience            9879 non-null   int64  \n",
      " 34  redTotalMinionsKilled         9879 non-null   int64  \n",
      " 35  redTotalJungleMinionsKilled   9879 non-null   int64  \n",
      " 36  redGoldDiff                   9879 non-null   int64  \n",
      " 37  redExperienceDiff             9879 non-null   int64  \n",
      " 38  redCSPerMin                   9879 non-null   float64\n",
      " 39  redGoldPerMin                 9879 non-null   float64\n",
      "dtypes: float64(6), int64(34)\n",
      "memory usage: 3.0 MB\n",
      "None\n",
      "gameId                          0\n",
      "blueWins                        0\n",
      "blueWardsPlaced                 0\n",
      "blueWardsDestroyed              0\n",
      "blueFirstBlood                  0\n",
      "blueKills                       0\n",
      "blueDeaths                      0\n",
      "blueAssists                     0\n",
      "blueEliteMonsters               0\n",
      "blueDragons                     0\n",
      "blueHeralds                     0\n",
      "blueTowersDestroyed             0\n",
      "blueTotalGold                   0\n",
      "blueAvgLevel                    0\n",
      "blueTotalExperience             0\n",
      "blueTotalMinionsKilled          0\n",
      "blueTotalJungleMinionsKilled    0\n",
      "blueGoldDiff                    0\n",
      "blueExperienceDiff              0\n",
      "blueCSPerMin                    0\n",
      "blueGoldPerMin                  0\n",
      "redWardsPlaced                  0\n",
      "redWardsDestroyed               0\n",
      "redFirstBlood                   0\n",
      "redKills                        0\n",
      "redDeaths                       0\n",
      "redAssists                      0\n",
      "redEliteMonsters                0\n",
      "redDragons                      0\n",
      "redHeralds                      0\n",
      "redTowersDestroyed              0\n",
      "redTotalGold                    0\n",
      "redAvgLevel                     0\n",
      "redTotalExperience              0\n",
      "redTotalMinionsKilled           0\n",
      "redTotalJungleMinionsKilled     0\n",
      "redGoldDiff                     0\n",
      "redExperienceDiff               0\n",
      "redCSPerMin                     0\n",
      "redGoldPerMin                   0\n",
      "dtype: int64\n"
     ]
    }
   ],
   "source": [
    "# Taking a look at our columns\n",
    "print(df.info())\n",
    "\n",
    "# Checking for NA data\n",
    "print(df.isna().sum())"
   ]
  },
  {
   "cell_type": "markdown",
   "metadata": {
    "ExecuteTime": {
     "end_time": "2021-05-24T22:07:17.405034Z",
     "start_time": "2021-05-24T22:07:17.176106Z"
    },
    "scrolled": true
   },
   "source": [
    "Fortunately there are no null values in our dataset."
   ]
  },
  {
   "cell_type": "markdown",
   "metadata": {},
   "source": [
    "There are a few columns that can be removed entirely and a few that can be combined into categorical variables."
   ]
  },
  {
   "cell_type": "markdown",
   "metadata": {
    "ExecuteTime": {
     "end_time": "2021-05-18T20:25:07.767383Z",
     "start_time": "2021-05-18T20:25:07.757387Z"
    }
   },
   "source": [
    "### First Blood\n",
    "\n",
    "'First Blood' is awarded to the team who gets the first kill in the game.  Both blueFirstBlood and redFirstBlood are binary and inversely related.  If Blue wins First Blood, blueFirstBlood will be recorded as 1 and redFirstBlood will be recorded as 0.  \n",
    "\n",
    "We can merge these columns into one."
   ]
  },
  {
   "cell_type": "code",
   "execution_count": 36,
   "metadata": {
    "ExecuteTime": {
     "end_time": "2021-05-24T22:07:17.436025Z",
     "start_time": "2021-05-24T22:07:17.423027Z"
    }
   },
   "outputs": [
    {
     "data": {
      "text/plain": [
       "0       1\n",
       "1       0\n",
       "2       0\n",
       "3       0\n",
       "4       0\n",
       "       ..\n",
       "9874    1\n",
       "9875    0\n",
       "9876    0\n",
       "9877    1\n",
       "9878    1\n",
       "Name: blueFirstBlood, Length: 9879, dtype: int64"
      ]
     },
     "execution_count": 36,
     "metadata": {},
     "output_type": "execute_result"
    }
   ],
   "source": [
    "df['blueFirstBlood']"
   ]
  },
  {
   "cell_type": "code",
   "execution_count": 37,
   "metadata": {
    "ExecuteTime": {
     "end_time": "2021-05-24T22:07:17.467014Z",
     "start_time": "2021-05-24T22:07:17.439023Z"
    }
   },
   "outputs": [
    {
     "data": {
      "text/plain": [
       "0       Blue\n",
       "1        Red\n",
       "2        Red\n",
       "3        Red\n",
       "4        Red\n",
       "        ... \n",
       "9874    Blue\n",
       "9875     Red\n",
       "9876     Red\n",
       "9877    Blue\n",
       "9878    Blue\n",
       "Name: firstBlood, Length: 9879, dtype: object"
      ]
     },
     "execution_count": 37,
     "metadata": {},
     "output_type": "execute_result"
    }
   ],
   "source": [
    "firstBlood = []\n",
    "\n",
    "for item in df['blueFirstBlood']:\n",
    "    if item == 1:\n",
    "        firstBlood.append('Blue')\n",
    "    else:\n",
    "        firstBlood.append('Red')\n",
    "        \n",
    "df['firstBlood'] = firstBlood\n",
    "\n",
    "df['firstBlood']"
   ]
  },
  {
   "cell_type": "markdown",
   "metadata": {},
   "source": [
    "We can discard blueFirstBlood and redFirstBlood"
   ]
  },
  {
   "cell_type": "code",
   "execution_count": 38,
   "metadata": {
    "ExecuteTime": {
     "end_time": "2021-05-24T22:07:17.482008Z",
     "start_time": "2021-05-24T22:07:17.470013Z"
    }
   },
   "outputs": [],
   "source": [
    "df = df.drop(['blueFirstBlood','redFirstBlood'], axis=1)"
   ]
  },
  {
   "cell_type": "markdown",
   "metadata": {},
   "source": [
    "### Kills & Deaths\n",
    "\n",
    "blueKills is inversely related with redDeaths, and redKills is inversely related with blueDeaths since the Blue team can only kill Red players and vice versa.  blueDeaths and redDeaths can both be removed, leaving kills intact will preserve this information."
   ]
  },
  {
   "cell_type": "code",
   "execution_count": 39,
   "metadata": {
    "ExecuteTime": {
     "end_time": "2021-05-24T22:07:17.498002Z",
     "start_time": "2021-05-24T22:07:17.485008Z"
    }
   },
   "outputs": [],
   "source": [
    "df = df.drop(['blueDeaths','redDeaths'], axis=1)"
   ]
  },
  {
   "cell_type": "markdown",
   "metadata": {},
   "source": [
    "### Dragon & Herald\n",
    "\n",
    "While this wouldn't hold true for LoL data spanning the entire length of each game, we know that there is only one opportunity to kill both the Dragon and the Harold in the first 10 minutes of each match.  Unlike firstBlood where the action always occurs in the first 10 minutes (at least for the matches in our dataset), each dragon or herald can be killed only once or not at all.\n",
    "\n",
    "Therefore, dragon and herald can be categorized as 'Blue,' 'Red,' or 'None.'"
   ]
  },
  {
   "cell_type": "code",
   "execution_count": 40,
   "metadata": {
    "ExecuteTime": {
     "end_time": "2021-05-24T22:07:17.528994Z",
     "start_time": "2021-05-24T22:07:17.501003Z"
    }
   },
   "outputs": [],
   "source": [
    "dragon_list = []\n",
    "\n",
    "dragon_kill = df['blueDragons'] - df['redDragons']\n",
    "\n",
    "for item in dragon_kill:\n",
    "    if item == 1:\n",
    "        dragon_list.append('Blue')\n",
    "    elif item == -1:\n",
    "        dragon_list.append('Red')\n",
    "    else:\n",
    "        dragon_list.append('No Dragon')\n",
    "        \n",
    "df['dragon'] = dragon_list"
   ]
  },
  {
   "cell_type": "markdown",
   "metadata": {},
   "source": [
    "blueDragons and redDragons can be removed:"
   ]
  },
  {
   "cell_type": "code",
   "execution_count": 41,
   "metadata": {
    "ExecuteTime": {
     "end_time": "2021-05-24T22:07:17.543989Z",
     "start_time": "2021-05-24T22:07:17.531993Z"
    }
   },
   "outputs": [],
   "source": [
    "df = df.drop(['blueDragons','redDragons'], axis=1)"
   ]
  },
  {
   "cell_type": "markdown",
   "metadata": {},
   "source": [
    "We can reuse this code for the herald feature:"
   ]
  },
  {
   "cell_type": "code",
   "execution_count": 42,
   "metadata": {
    "ExecuteTime": {
     "end_time": "2021-05-24T22:07:17.559983Z",
     "start_time": "2021-05-24T22:07:17.545988Z"
    }
   },
   "outputs": [],
   "source": [
    "herald_list = []\n",
    "\n",
    "herald_kill = df['blueHeralds'] - df['redHeralds']\n",
    "\n",
    "for item in herald_kill:\n",
    "    if item == 1:\n",
    "        herald_list.append('Blue')\n",
    "    elif item == -1:\n",
    "        herald_list.append('Red')\n",
    "    else:\n",
    "        herald_list.append('No Herald')\n",
    "        \n",
    "df['herald'] = herald_list"
   ]
  },
  {
   "cell_type": "code",
   "execution_count": 43,
   "metadata": {
    "ExecuteTime": {
     "end_time": "2021-05-24T22:07:17.574978Z",
     "start_time": "2021-05-24T22:07:17.562983Z"
    }
   },
   "outputs": [],
   "source": [
    "df = df.drop(['blueHeralds','redHeralds'], axis=1)"
   ]
  },
  {
   "cell_type": "markdown",
   "metadata": {},
   "source": [
    "### Elite Monsters"
   ]
  },
  {
   "cell_type": "markdown",
   "metadata": {},
   "source": [
    "In the first 10 minutes of a match, Elite Monsters will receive +1 if a team kills the Dragon and another +1 if the same team kills the Herald.  It is redundant information from what we already have with the Dragon and Harold features.  "
   ]
  },
  {
   "cell_type": "code",
   "execution_count": 44,
   "metadata": {
    "ExecuteTime": {
     "end_time": "2021-05-24T22:07:17.590973Z",
     "start_time": "2021-05-24T22:07:17.577979Z"
    }
   },
   "outputs": [],
   "source": [
    "df = df.drop(['blueEliteMonsters','redEliteMonsters'], axis=1)"
   ]
  },
  {
   "cell_type": "markdown",
   "metadata": {},
   "source": [
    "### GoldDiff, ExperienceDiff, CSPerMin, and GoldPerMin\n",
    "\n",
    "Both blue and red teams have these four metrics.  While they are useful metrics for other types of analyses, they are essentially duplicative, since they are all calculated in a similar fashion from features already included in our data.  \n",
    "\n",
    "- GoldDiff represents the difference between blueTotalGold and redTotalGold\n",
    "- ExperienceDiff represents the difference between blueTotalExperience and redTotalExperience\n",
    "- blue and red CSPerMin represents the minute rate of blue and red TotalMinionsKilled.  For our 10 minute data, CSPerMin for each team will always be TotalMinionsKilled divided by 10\n",
    "- similarly, blue and red GoldPerMin represents blue and red TotalGold divided by 10\n",
    "\n",
    "These four features from both teams (totaling 8 features) can be removed without losing any information.\n"
   ]
  },
  {
   "cell_type": "code",
   "execution_count": 45,
   "metadata": {
    "ExecuteTime": {
     "end_time": "2021-05-24T22:07:17.621964Z",
     "start_time": "2021-05-24T22:07:17.593973Z"
    }
   },
   "outputs": [],
   "source": [
    "df = df.drop(['blueGoldDiff',\n",
    "            'blueExperienceDiff',\n",
    "            'blueCSPerMin',\n",
    "            'blueGoldPerMin',\n",
    "            'redGoldDiff',\n",
    "            'redExperienceDiff',\n",
    "            'redCSPerMin',\n",
    "            'redGoldPerMin'], axis=1)"
   ]
  },
  {
   "cell_type": "markdown",
   "metadata": {},
   "source": [
    "### gameId\n",
    "\n",
    "gameId represents a unique identifier for every LoL game, no two gameId's will ever be the same, so this column can be removed."
   ]
  },
  {
   "cell_type": "code",
   "execution_count": 46,
   "metadata": {
    "ExecuteTime": {
     "end_time": "2021-05-24T22:07:17.636958Z",
     "start_time": "2021-05-24T22:07:17.624965Z"
    }
   },
   "outputs": [],
   "source": [
    "df = df.drop(['gameId'], axis=1)"
   ]
  },
  {
   "cell_type": "markdown",
   "metadata": {},
   "source": [
    "### Merging Continuous Features"
   ]
  },
  {
   "cell_type": "markdown",
   "metadata": {
    "ExecuteTime": {
     "end_time": "2021-05-24T22:07:17.713935Z",
     "start_time": "2021-05-24T22:07:17.655952Z"
    }
   },
   "source": [
    "For this analysis, we will combine all blue and red continuous features into single features that will represent that +/- ratio of blue compared to red.  If a continuous value is positive, that means blue had that much more than red.  If a feature is negative, the absolute value of that negative number represents red's greater value.  "
   ]
  },
  {
   "cell_type": "code",
   "execution_count": 47,
   "metadata": {
    "ExecuteTime": {
     "end_time": "2021-05-24T22:07:17.776912Z",
     "start_time": "2021-05-24T22:07:17.716933Z"
    }
   },
   "outputs": [
    {
     "data": {
      "text/html": [
       "<div>\n",
       "<style scoped>\n",
       "    .dataframe tbody tr th:only-of-type {\n",
       "        vertical-align: middle;\n",
       "    }\n",
       "\n",
       "    .dataframe tbody tr th {\n",
       "        vertical-align: top;\n",
       "    }\n",
       "\n",
       "    .dataframe thead th {\n",
       "        text-align: right;\n",
       "    }\n",
       "</style>\n",
       "<table border=\"1\" class=\"dataframe\">\n",
       "  <thead>\n",
       "    <tr style=\"text-align: right;\">\n",
       "      <th></th>\n",
       "      <th>WardsPlaced</th>\n",
       "      <th>WardsDestroyed</th>\n",
       "      <th>Kills</th>\n",
       "      <th>Assists</th>\n",
       "      <th>TowersDestroyed</th>\n",
       "      <th>TotalGold</th>\n",
       "      <th>AvgLevel</th>\n",
       "      <th>TotalExperience</th>\n",
       "      <th>TotalMinionsKilled</th>\n",
       "      <th>TotalJungleMinionsKilled</th>\n",
       "      <th>firstBlood</th>\n",
       "      <th>dragon</th>\n",
       "      <th>herald</th>\n",
       "      <th>blueWins</th>\n",
       "    </tr>\n",
       "  </thead>\n",
       "  <tbody>\n",
       "    <tr>\n",
       "      <th>0</th>\n",
       "      <td>13</td>\n",
       "      <td>-4</td>\n",
       "      <td>3</td>\n",
       "      <td>3</td>\n",
       "      <td>0</td>\n",
       "      <td>643</td>\n",
       "      <td>-0.2</td>\n",
       "      <td>-8</td>\n",
       "      <td>-2</td>\n",
       "      <td>-19</td>\n",
       "      <td>Blue</td>\n",
       "      <td>No Dragon</td>\n",
       "      <td>No Herald</td>\n",
       "      <td>0</td>\n",
       "    </tr>\n",
       "    <tr>\n",
       "      <th>1</th>\n",
       "      <td>0</td>\n",
       "      <td>0</td>\n",
       "      <td>0</td>\n",
       "      <td>3</td>\n",
       "      <td>-1</td>\n",
       "      <td>-2908</td>\n",
       "      <td>-0.2</td>\n",
       "      <td>-1173</td>\n",
       "      <td>-66</td>\n",
       "      <td>-9</td>\n",
       "      <td>Red</td>\n",
       "      <td>Red</td>\n",
       "      <td>Red</td>\n",
       "      <td>0</td>\n",
       "    </tr>\n",
       "    <tr>\n",
       "      <th>2</th>\n",
       "      <td>0</td>\n",
       "      <td>-3</td>\n",
       "      <td>-4</td>\n",
       "      <td>-10</td>\n",
       "      <td>0</td>\n",
       "      <td>-1172</td>\n",
       "      <td>-0.4</td>\n",
       "      <td>-1033</td>\n",
       "      <td>-17</td>\n",
       "      <td>18</td>\n",
       "      <td>Red</td>\n",
       "      <td>Blue</td>\n",
       "      <td>No Herald</td>\n",
       "      <td>0</td>\n",
       "    </tr>\n",
       "    <tr>\n",
       "      <th>3</th>\n",
       "      <td>28</td>\n",
       "      <td>-1</td>\n",
       "      <td>-1</td>\n",
       "      <td>-5</td>\n",
       "      <td>0</td>\n",
       "      <td>-1321</td>\n",
       "      <td>0.0</td>\n",
       "      <td>-7</td>\n",
       "      <td>-34</td>\n",
       "      <td>8</td>\n",
       "      <td>Red</td>\n",
       "      <td>No Dragon</td>\n",
       "      <td>Blue</td>\n",
       "      <td>0</td>\n",
       "    </tr>\n",
       "    <tr>\n",
       "      <th>4</th>\n",
       "      <td>58</td>\n",
       "      <td>2</td>\n",
       "      <td>0</td>\n",
       "      <td>-1</td>\n",
       "      <td>0</td>\n",
       "      <td>-1004</td>\n",
       "      <td>0.0</td>\n",
       "      <td>230</td>\n",
       "      <td>-15</td>\n",
       "      <td>-10</td>\n",
       "      <td>Red</td>\n",
       "      <td>Red</td>\n",
       "      <td>No Herald</td>\n",
       "      <td>0</td>\n",
       "    </tr>\n",
       "  </tbody>\n",
       "</table>\n",
       "</div>"
      ],
      "text/plain": [
       "   WardsPlaced  WardsDestroyed  Kills  Assists  TowersDestroyed  TotalGold  \\\n",
       "0           13              -4      3        3                0        643   \n",
       "1            0               0      0        3               -1      -2908   \n",
       "2            0              -3     -4      -10                0      -1172   \n",
       "3           28              -1     -1       -5                0      -1321   \n",
       "4           58               2      0       -1                0      -1004   \n",
       "\n",
       "   AvgLevel  TotalExperience  TotalMinionsKilled  TotalJungleMinionsKilled  \\\n",
       "0      -0.2               -8                  -2                       -19   \n",
       "1      -0.2            -1173                 -66                        -9   \n",
       "2      -0.4            -1033                 -17                        18   \n",
       "3       0.0               -7                 -34                         8   \n",
       "4       0.0              230                 -15                       -10   \n",
       "\n",
       "  firstBlood     dragon     herald  blueWins  \n",
       "0       Blue  No Dragon  No Herald         0  \n",
       "1        Red        Red        Red         0  \n",
       "2        Red       Blue  No Herald         0  \n",
       "3        Red  No Dragon       Blue         0  \n",
       "4        Red        Red  No Herald         0  "
      ]
     },
     "execution_count": 47,
     "metadata": {},
     "output_type": "execute_result"
    }
   ],
   "source": [
    "# Saving copy of dataframe so far before merging continuous features\n",
    "df_blue_red = df.copy()\n",
    "\n",
    "# Instantiating empty dataframe\n",
    "diff_df = pd.DataFrame()\n",
    "\n",
    "# Building diff_df by calculating differences between blue and red stats\n",
    "diff_df['WardsPlaced'] = df['blueWardsPlaced'] - df['redWardsPlaced']\n",
    "diff_df['WardsDestroyed'] = df['blueWardsDestroyed'] - df['redWardsDestroyed']\n",
    "diff_df['Kills'] = df['blueKills'] - df['redKills']\n",
    "diff_df['Assists'] = df['blueAssists'] - df['redAssists']\n",
    "diff_df['TowersDestroyed'] = df['blueTowersDestroyed'] - df['redTowersDestroyed']\n",
    "diff_df['TotalGold'] = df['blueTotalGold'] - df['redTotalGold']\n",
    "diff_df['AvgLevel'] = df['blueAvgLevel'] - df['redAvgLevel']\n",
    "diff_df['TotalExperience'] = df['blueTotalExperience'] - df['redTotalExperience']\n",
    "diff_df['TotalMinionsKilled'] = df['blueTotalMinionsKilled'] - df['redTotalMinionsKilled']\n",
    "diff_df['TotalJungleMinionsKilled'] = df['blueTotalJungleMinionsKilled'] - df['redTotalJungleMinionsKilled']\n",
    "\n",
    "# Merging with categorical features\n",
    "diff_df = pd.concat([diff_df, df[['firstBlood', 'dragon', 'herald', 'blueWins']]], axis=1)\n",
    "\n",
    "df = diff_df\n",
    "\n",
    "df.head()"
   ]
  },
  {
   "cell_type": "markdown",
   "metadata": {},
   "source": [
    "# Exploratory Analysis"
   ]
  },
  {
   "cell_type": "markdown",
   "metadata": {},
   "source": [
    "## Visualizations"
   ]
  },
  {
   "cell_type": "code",
   "execution_count": 49,
   "metadata": {
    "ExecuteTime": {
     "end_time": "2021-05-24T22:07:18.243763Z",
     "start_time": "2021-05-24T22:07:17.809902Z"
    }
   },
   "outputs": [
    {
     "data": {
      "text/plain": [
       "<AxesSubplot:xlabel='blueWins', ylabel='Count'>"
      ]
     },
     "execution_count": 49,
     "metadata": {},
     "output_type": "execute_result"
    },
    {
     "data": {
      "image/png": "[encoded data removed]",
      "text/plain": [
       "<Figure size 432x288 with 1 Axes>"
      ]
     },
     "metadata": {
      "needs_background": "light"
     },
     "output_type": "display_data"
    }
   ],
   "source": [
    "sns.histplot(x='blueWins', data=df, hue='blueWins', palette='Set1', kde=True)"
   ]
  },
  {
   "cell_type": "markdown",
   "metadata": {
    "ExecuteTime": {
     "end_time": "2021-05-24T19:15:06.575924Z",
     "start_time": "2021-05-24T19:15:05.811471Z"
    }
   },
   "source": [
    "The win split seems pretty even, so it seems there is no overt advantage to being either blue or red."
   ]
  },
  {
   "cell_type": "code",
   "execution_count": 50,
   "metadata": {
    "ExecuteTime": {
     "end_time": "2021-05-24T22:07:18.956534Z",
     "start_time": "2021-05-24T22:07:18.252762Z"
    },
    "scrolled": true
   },
   "outputs": [
    {
     "data": {
      "text/plain": [
       "<AxesSubplot:xlabel='Kills', ylabel='Count'>"
      ]
     },
     "execution_count": 50,
     "metadata": {},
     "output_type": "execute_result"
    },
    {
     "data": {
      "image/png": "[encoded data removed]",
      "text/plain": [
       "<Figure size 432x288 with 1 Axes>"
      ]
     },
     "metadata": {
      "needs_background": "light"
     },
     "output_type": "display_data"
    }
   ],
   "source": [
    "sns.histplot(x='Kills', data=df, hue='blueWins', palette='Set1', kde=True)"
   ]
  },
  {
   "cell_type": "markdown",
   "metadata": {},
   "source": [
    "It seems clear that outperforming in kills has an influence on winning."
   ]
  },
  {
   "cell_type": "code",
   "execution_count": 51,
   "metadata": {
    "ExecuteTime": {
     "end_time": "2021-05-24T22:07:19.722304Z",
     "start_time": "2021-05-24T22:07:18.960535Z"
    }
   },
   "outputs": [
    {
     "data": {
      "text/plain": [
       "<AxesSubplot:xlabel='Assists', ylabel='Count'>"
      ]
     },
     "execution_count": 51,
     "metadata": {},
     "output_type": "execute_result"
    },
    {
     "data": {
      "image/png": "[encoded data removed]",
      "text/plain": [
       "<Figure size 432x288 with 1 Axes>"
      ]
     },
     "metadata": {
      "needs_background": "light"
     },
     "output_type": "display_data"
    }
   ],
   "source": [
    "sns.histplot(x='Assists', data=df, hue='blueWins', palette='Set1', kde=True)"
   ]
  },
  {
   "cell_type": "markdown",
   "metadata": {},
   "source": [
    "Assists still seem relevant and are also somewhat incidental to kills, but the disparity with assists is less clear."
   ]
  },
  {
   "cell_type": "code",
   "execution_count": 52,
   "metadata": {
    "ExecuteTime": {
     "end_time": "2021-05-24T22:07:20.111165Z",
     "start_time": "2021-05-24T22:07:19.725289Z"
    }
   },
   "outputs": [
    {
     "data": {
      "text/plain": [
       "<AxesSubplot:xlabel='dragon', ylabel='count'>"
      ]
     },
     "execution_count": 52,
     "metadata": {},
     "output_type": "execute_result"
    },
    {
     "data": {
      "image/png": "[encoded data removed]",
      "text/plain": [
       "<Figure size 432x288 with 1 Axes>"
      ]
     },
     "metadata": {
      "needs_background": "light"
     },
     "output_type": "display_data"
    }
   ],
   "source": [
    "sns.countplot(x='dragon', data=df, hue='blueWins', palette='Set1')\n"
   ]
  },
  {
   "cell_type": "markdown",
   "metadata": {},
   "source": [
    "Killing the dragon in the first 10 minutes seems to have a positive influence on winning.  While it might be telling of a win, there are plenty of instances where blue kills the dragon, but red kills the game.  \n",
    "\n",
    "It's interesting that in the event of no dragon being killed, the victory split for blue and red are nearly identical."
   ]
  },
  {
   "cell_type": "code",
   "execution_count": 53,
   "metadata": {
    "ExecuteTime": {
     "end_time": "2021-05-24T22:07:20.377080Z",
     "start_time": "2021-05-24T22:07:20.114164Z"
    }
   },
   "outputs": [
    {
     "data": {
      "text/plain": [
       "<AxesSubplot:xlabel='herald', ylabel='count'>"
      ]
     },
     "execution_count": 53,
     "metadata": {},
     "output_type": "execute_result"
    },
    {
     "data": {
      "image/png": "[encoded data removed]",
      "text/plain": [
       "<Figure size 432x288 with 1 Axes>"
      ]
     },
     "metadata": {
      "needs_background": "light"
     },
     "output_type": "display_data"
    }
   ],
   "source": [
    "sns.countplot(x='herald', data=df, hue='blueWins', palette='Set1')\n"
   ]
  },
  {
   "cell_type": "markdown",
   "metadata": {},
   "source": [
    "There's still an impact for killing the Herald, but it isnt' nearly as significant.  It's also not incredibly common within the first 10 minutes."
   ]
  },
  {
   "cell_type": "code",
   "execution_count": 54,
   "metadata": {
    "ExecuteTime": {
     "end_time": "2021-05-24T22:07:20.642009Z",
     "start_time": "2021-05-24T22:07:20.379078Z"
    }
   },
   "outputs": [
    {
     "data": {
      "text/plain": [
       "<AxesSubplot:xlabel='firstBlood', ylabel='count'>"
      ]
     },
     "execution_count": 54,
     "metadata": {},
     "output_type": "execute_result"
    },
    {
     "data": {
      "image/png": "[encoded data removed]",
      "text/plain": [
       "<Figure size 432x288 with 1 Axes>"
      ]
     },
     "metadata": {
      "needs_background": "light"
     },
     "output_type": "display_data"
    }
   ],
   "source": [
    "sns.countplot(x='firstBlood', data=df, hue='blueWins', palette='Set1')\n"
   ]
  },
  {
   "cell_type": "markdown",
   "metadata": {},
   "source": [
    "First blood is also a notable influencer on victory, but it isn't quite as strong as killing the dragon"
   ]
  },
  {
   "cell_type": "code",
   "execution_count": 55,
   "metadata": {
    "ExecuteTime": {
     "end_time": "2021-05-24T22:07:21.421746Z",
     "start_time": "2021-05-24T22:07:20.643993Z"
    }
   },
   "outputs": [
    {
     "data": {
      "text/plain": [
       "<AxesSubplot:xlabel='TotalGold', ylabel='Count'>"
      ]
     },
     "execution_count": 55,
     "metadata": {},
     "output_type": "execute_result"
    },
    {
     "data": {
      "image/png": "[encoded data removed]",
      "text/plain": [
       "<Figure size 432x288 with 1 Axes>"
      ]
     },
     "metadata": {
      "needs_background": "light"
     },
     "output_type": "display_data"
    }
   ],
   "source": [
    "sns.histplot(x='TotalGold', data=df, hue='blueWins', palette='Set1', kde=True)"
   ]
  },
  {
   "cell_type": "markdown",
   "metadata": {},
   "source": [
    "Gold is also an indicator of victory.  Based on just the graph, it doesn't appear to influnce victory more than kills or assists."
   ]
  },
  {
   "cell_type": "code",
   "execution_count": 99,
   "metadata": {
    "scrolled": true
   },
   "outputs": [
    {
     "data": {
      "text/plain": [
       "<AxesSubplot:xlabel='WardsPlaced', ylabel='Count'>"
      ]
     },
     "execution_count": 99,
     "metadata": {},
     "output_type": "execute_result"
    },
    {
     "data": {
      "image/png": "[encoded data removed]",
      "text/plain": [
       "<Figure size 432x288 with 1 Axes>"
      ]
     },
     "metadata": {
      "needs_background": "light"
     },
     "output_type": "display_data"
    }
   ],
   "source": [
    "sns.histplot(x='WardsPlaced', data=df, hue='blueWins', palette='Set1', kde=True)"
   ]
  },
  {
   "cell_type": "markdown",
   "metadata": {},
   "source": [
    "The spread on Wards doesn't seem too telling of a victory.  There's also a significant amount of outliers."
   ]
  },
  {
   "cell_type": "markdown",
   "metadata": {},
   "source": [
    "## Multicollinearity"
   ]
  },
  {
   "cell_type": "code",
   "execution_count": 101,
   "metadata": {
    "ExecuteTime": {
     "end_time": "2021-05-24T22:07:22.530391Z",
     "start_time": "2021-05-24T22:07:21.423744Z"
    }
   },
   "outputs": [
    {
     "data": {
      "text/plain": [
       "(<Figure size 1080x720 with 2 Axes>, <AxesSubplot:>)"
      ]
     },
     "execution_count": 101,
     "metadata": {},
     "output_type": "execute_result"
    },
    {
     "data": {
      "image/png": "[encoded data removed]",
      "text/plain": [
       "<Figure size 1080x720 with 2 Axes>"
      ]
     },
     "metadata": {
      "needs_background": "light"
     },
     "output_type": "display_data"
    }
   ],
   "source": [
    "def heatmap(df_name, figsize=(15,10), cmap='Reds'):\n",
    "    corr = df_name.drop('blueWins',axis=1).corr()\n",
    "    mask = np.zeros_like(corr)\n",
    "    mask[np.triu_indices_from(mask)] = True\n",
    "    fig, ax = plt.subplots(figsize=figsize)\n",
    "    sns.heatmap(corr, annot=True, cmap=cmap, mask=mask)\n",
    "    return fig, ax\n",
    "\n",
    "heatmap(df)"
   ]
  },
  {
   "cell_type": "code",
   "execution_count": 58,
   "metadata": {
    "ExecuteTime": {
     "end_time": "2021-05-24T22:07:22.592384Z",
     "start_time": "2021-05-24T22:07:22.547383Z"
    }
   },
   "outputs": [
    {
     "data": {
      "text/html": [
       "<div>\n",
       "<style scoped>\n",
       "    .dataframe tbody tr th:only-of-type {\n",
       "        vertical-align: middle;\n",
       "    }\n",
       "\n",
       "    .dataframe tbody tr th {\n",
       "        vertical-align: top;\n",
       "    }\n",
       "\n",
       "    .dataframe thead th {\n",
       "        text-align: right;\n",
       "    }\n",
       "</style>\n",
       "<table border=\"1\" class=\"dataframe\">\n",
       "  <thead>\n",
       "    <tr style=\"text-align: right;\">\n",
       "      <th></th>\n",
       "      <th>level_0</th>\n",
       "      <th>level_1</th>\n",
       "      <th>0</th>\n",
       "    </tr>\n",
       "  </thead>\n",
       "  <tbody>\n",
       "    <tr>\n",
       "      <th>64</th>\n",
       "      <td>AvgLevel</td>\n",
       "      <td>TotalExperience</td>\n",
       "      <td>0.919161</td>\n",
       "    </tr>\n",
       "    <tr>\n",
       "      <th>23</th>\n",
       "      <td>Kills</td>\n",
       "      <td>TotalGold</td>\n",
       "      <td>0.917008</td>\n",
       "    </tr>\n",
       "    <tr>\n",
       "      <th>54</th>\n",
       "      <td>TotalGold</td>\n",
       "      <td>TotalExperience</td>\n",
       "      <td>0.894729</td>\n",
       "    </tr>\n",
       "    <tr>\n",
       "      <th>53</th>\n",
       "      <td>TotalGold</td>\n",
       "      <td>AvgLevel</td>\n",
       "      <td>0.833493</td>\n",
       "    </tr>\n",
       "    <tr>\n",
       "      <th>21</th>\n",
       "      <td>Kills</td>\n",
       "      <td>Assists</td>\n",
       "      <td>0.830751</td>\n",
       "    </tr>\n",
       "    <tr>\n",
       "      <th>25</th>\n",
       "      <td>Kills</td>\n",
       "      <td>TotalExperience</td>\n",
       "      <td>0.822845</td>\n",
       "    </tr>\n",
       "    <tr>\n",
       "      <th>24</th>\n",
       "      <td>Kills</td>\n",
       "      <td>AvgLevel</td>\n",
       "      <td>0.766222</td>\n",
       "    </tr>\n",
       "    <tr>\n",
       "      <th>33</th>\n",
       "      <td>Assists</td>\n",
       "      <td>TotalGold</td>\n",
       "      <td>0.759321</td>\n",
       "    </tr>\n",
       "    <tr>\n",
       "      <th>55</th>\n",
       "      <td>TotalGold</td>\n",
       "      <td>TotalMinionsKilled</td>\n",
       "      <td>0.638765</td>\n",
       "    </tr>\n",
       "    <tr>\n",
       "      <th>75</th>\n",
       "      <td>TotalExperience</td>\n",
       "      <td>TotalMinionsKilled</td>\n",
       "      <td>0.625556</td>\n",
       "    </tr>\n",
       "  </tbody>\n",
       "</table>\n",
       "</div>"
      ],
      "text/plain": [
       "            level_0             level_1         0\n",
       "64         AvgLevel     TotalExperience  0.919161\n",
       "23            Kills           TotalGold  0.917008\n",
       "54        TotalGold     TotalExperience  0.894729\n",
       "53        TotalGold            AvgLevel  0.833493\n",
       "21            Kills             Assists  0.830751\n",
       "25            Kills     TotalExperience  0.822845\n",
       "24            Kills            AvgLevel  0.766222\n",
       "33          Assists           TotalGold  0.759321\n",
       "55        TotalGold  TotalMinionsKilled  0.638765\n",
       "75  TotalExperience  TotalMinionsKilled  0.625556"
      ]
     },
     "execution_count": 58,
     "metadata": {},
     "output_type": "execute_result"
    }
   ],
   "source": [
    "# https://pydatascience.org/2019/07/23/remove-duplicates-from-correlation-matrix-python/\n",
    "def corr_list(df):\n",
    "    dataCorr = df.drop('blueWins',axis=1).corr()\n",
    "\n",
    "    dataCorr = dataCorr[abs(dataCorr) >= 0.01].stack().reset_index()\n",
    "    dataCorr = dataCorr[dataCorr['level_0'].astype(str)!=dataCorr['level_1'].astype(str)]\n",
    "\n",
    "    # filtering out lower/upper triangular duplicates \n",
    "    dataCorr['ordered-cols'] = dataCorr.apply(lambda x: '-'.join(sorted([x['level_0'],x['level_1']])),axis=1)\n",
    "    dataCorr = dataCorr.drop_duplicates(['ordered-cols'])\n",
    "    dataCorr.drop(['ordered-cols'], axis=1, inplace=True)\n",
    "\n",
    "    return dataCorr.sort_values(by=[0], ascending=False).head(10) #Get 10 highest correlation of pairwaise attributes\n",
    "\n",
    "corr_list(df)\n"
   ]
  },
  {
   "cell_type": "markdown",
   "metadata": {},
   "source": [
    "Our multicollinearity analysis has presented a few variable relationships that need additional consideration.\n",
    "\n",
    "- avgLevel and TotalExperience are highly correlated, which is not surprising.  For now, we will stick with TotalExperience since it's a bit more precise than AvgLevel.  \n",
    "- TotalGold appears consistently in our list.  This is also not surprising since kills and assists award gold.  We will experiment with removing TotalGold for feature analysis."
   ]
  },
  {
   "cell_type": "code",
   "execution_count": 59,
   "metadata": {
    "ExecuteTime": {
     "end_time": "2021-05-24T22:07:22.623358Z",
     "start_time": "2021-05-24T22:07:22.595369Z"
    }
   },
   "outputs": [
    {
     "data": {
      "text/html": [
       "<div>\n",
       "<style scoped>\n",
       "    .dataframe tbody tr th:only-of-type {\n",
       "        vertical-align: middle;\n",
       "    }\n",
       "\n",
       "    .dataframe tbody tr th {\n",
       "        vertical-align: top;\n",
       "    }\n",
       "\n",
       "    .dataframe thead th {\n",
       "        text-align: right;\n",
       "    }\n",
       "</style>\n",
       "<table border=\"1\" class=\"dataframe\">\n",
       "  <thead>\n",
       "    <tr style=\"text-align: right;\">\n",
       "      <th></th>\n",
       "      <th>level_0</th>\n",
       "      <th>level_1</th>\n",
       "      <th>0</th>\n",
       "    </tr>\n",
       "  </thead>\n",
       "  <tbody>\n",
       "    <tr>\n",
       "      <th>64</th>\n",
       "      <td>AvgLevel</td>\n",
       "      <td>TotalExperience</td>\n",
       "      <td>0.919161</td>\n",
       "    </tr>\n",
       "    <tr>\n",
       "      <th>23</th>\n",
       "      <td>Kills</td>\n",
       "      <td>TotalGold</td>\n",
       "      <td>0.917008</td>\n",
       "    </tr>\n",
       "    <tr>\n",
       "      <th>54</th>\n",
       "      <td>TotalGold</td>\n",
       "      <td>TotalExperience</td>\n",
       "      <td>0.894729</td>\n",
       "    </tr>\n",
       "    <tr>\n",
       "      <th>53</th>\n",
       "      <td>TotalGold</td>\n",
       "      <td>AvgLevel</td>\n",
       "      <td>0.833493</td>\n",
       "    </tr>\n",
       "    <tr>\n",
       "      <th>21</th>\n",
       "      <td>Kills</td>\n",
       "      <td>Assists</td>\n",
       "      <td>0.830751</td>\n",
       "    </tr>\n",
       "    <tr>\n",
       "      <th>25</th>\n",
       "      <td>Kills</td>\n",
       "      <td>TotalExperience</td>\n",
       "      <td>0.822845</td>\n",
       "    </tr>\n",
       "    <tr>\n",
       "      <th>24</th>\n",
       "      <td>Kills</td>\n",
       "      <td>AvgLevel</td>\n",
       "      <td>0.766222</td>\n",
       "    </tr>\n",
       "    <tr>\n",
       "      <th>33</th>\n",
       "      <td>Assists</td>\n",
       "      <td>TotalGold</td>\n",
       "      <td>0.759321</td>\n",
       "    </tr>\n",
       "    <tr>\n",
       "      <th>55</th>\n",
       "      <td>TotalGold</td>\n",
       "      <td>TotalMinionsKilled</td>\n",
       "      <td>0.638765</td>\n",
       "    </tr>\n",
       "    <tr>\n",
       "      <th>75</th>\n",
       "      <td>TotalExperience</td>\n",
       "      <td>TotalMinionsKilled</td>\n",
       "      <td>0.625556</td>\n",
       "    </tr>\n",
       "  </tbody>\n",
       "</table>\n",
       "</div>"
      ],
      "text/plain": [
       "            level_0             level_1         0\n",
       "64         AvgLevel     TotalExperience  0.919161\n",
       "23            Kills           TotalGold  0.917008\n",
       "54        TotalGold     TotalExperience  0.894729\n",
       "53        TotalGold            AvgLevel  0.833493\n",
       "21            Kills             Assists  0.830751\n",
       "25            Kills     TotalExperience  0.822845\n",
       "24            Kills            AvgLevel  0.766222\n",
       "33          Assists           TotalGold  0.759321\n",
       "55        TotalGold  TotalMinionsKilled  0.638765\n",
       "75  TotalExperience  TotalMinionsKilled  0.625556"
      ]
     },
     "execution_count": 59,
     "metadata": {},
     "output_type": "execute_result"
    }
   ],
   "source": [
    "corr_list(diff_df)"
   ]
  },
  {
   "cell_type": "code",
   "execution_count": null,
   "metadata": {},
   "outputs": [],
   "source": []
  },
  {
   "cell_type": "code",
   "execution_count": null,
   "metadata": {},
   "outputs": [],
   "source": []
  },
  {
   "cell_type": "code",
   "execution_count": null,
   "metadata": {},
   "outputs": [],
   "source": []
  },
  {
   "cell_type": "markdown",
   "metadata": {},
   "source": [
    "# MODEL"
   ]
  },
  {
   "cell_type": "markdown",
   "metadata": {},
   "source": [
    "## Train Test Split"
   ]
  },
  {
   "cell_type": "code",
   "execution_count": 60,
   "metadata": {
    "ExecuteTime": {
     "end_time": "2021-05-24T22:07:22.654364Z",
     "start_time": "2021-05-24T22:07:22.626358Z"
    }
   },
   "outputs": [
    {
     "name": "stdout",
     "output_type": "stream",
     "text": [
      "X_train shape: (6915, 13)\n",
      "X_test shape: (2964, 13)\n"
     ]
    }
   ],
   "source": [
    "# Isolate target and features\n",
    "\n",
    "y = df['blueWins']\n",
    "X = df.drop(columns=['blueWins'], axis=1)\n",
    "\n",
    "# Create train / test split\n",
    "\n",
    "X_train, X_test, y_train, y_test = train_test_split(X, y, test_size=0.3, random_state=8)\n",
    "\n",
    "# Confirm split\n",
    "\n",
    "print(\"X_train shape:\", X_train.shape)\n",
    "print(\"X_test shape:\", X_test.shape)"
   ]
  },
  {
   "cell_type": "markdown",
   "metadata": {},
   "source": [
    "### Categorical Columns"
   ]
  },
  {
   "cell_type": "code",
   "execution_count": 61,
   "metadata": {
    "ExecuteTime": {
     "end_time": "2021-05-24T22:07:22.670343Z",
     "start_time": "2021-05-24T22:07:22.656348Z"
    }
   },
   "outputs": [
    {
     "data": {
      "text/plain": [
       "(Index(['firstBlood', 'dragon', 'herald'], dtype='object'),\n",
       " Index(['WardsPlaced', 'WardsDestroyed', 'Kills', 'Assists', 'TowersDestroyed',\n",
       "        'TotalGold', 'AvgLevel', 'TotalExperience', 'TotalMinionsKilled',\n",
       "        'TotalJungleMinionsKilled'],\n",
       "       dtype='object'))"
      ]
     },
     "execution_count": 61,
     "metadata": {},
     "output_type": "execute_result"
    }
   ],
   "source": [
    "# Separate feautures into continuous and categorical\n",
    "\n",
    "categoricals = X.select_dtypes('O').columns\n",
    "numericals = X.select_dtypes('number').columns\n",
    "categoricals, numericals"
   ]
  },
  {
   "cell_type": "code",
   "execution_count": 62,
   "metadata": {
    "ExecuteTime": {
     "end_time": "2021-05-24T22:07:22.702334Z",
     "start_time": "2021-05-24T22:07:22.673344Z"
    }
   },
   "outputs": [
    {
     "data": {
      "text/plain": [
       "array([[0., 0., 1., ..., 0., 1., 0.],\n",
       "       [0., 0., 0., ..., 0., 1., 0.],\n",
       "       [1., 0., 0., ..., 1., 0., 0.],\n",
       "       ...,\n",
       "       [1., 0., 0., ..., 0., 1., 0.],\n",
       "       [1., 1., 0., ..., 0., 1., 0.],\n",
       "       [1., 0., 0., ..., 1., 0., 0.]])"
      ]
     },
     "execution_count": 62,
     "metadata": {},
     "output_type": "execute_result"
    }
   ],
   "source": [
    "# Encode categorical columns, only drop if binary\n",
    "\n",
    "encoder = OneHotEncoder(sparse=False,drop='if_binary')\n",
    "train_categoricals = encoder.fit_transform(X_train[categoricals])\n",
    "test_categoricals = encoder.transform(X_test[categoricals])\n",
    "train_categoricals"
   ]
  },
  {
   "cell_type": "code",
   "execution_count": 63,
   "metadata": {
    "ExecuteTime": {
     "end_time": "2021-05-24T22:07:22.733324Z",
     "start_time": "2021-05-24T22:07:22.704333Z"
    }
   },
   "outputs": [
    {
     "data": {
      "text/html": [
       "<div>\n",
       "<style scoped>\n",
       "    .dataframe tbody tr th:only-of-type {\n",
       "        vertical-align: middle;\n",
       "    }\n",
       "\n",
       "    .dataframe tbody tr th {\n",
       "        vertical-align: top;\n",
       "    }\n",
       "\n",
       "    .dataframe thead th {\n",
       "        text-align: right;\n",
       "    }\n",
       "</style>\n",
       "<table border=\"1\" class=\"dataframe\">\n",
       "  <thead>\n",
       "    <tr style=\"text-align: right;\">\n",
       "      <th></th>\n",
       "      <th>firstBlood_Red</th>\n",
       "      <th>dragon_Blue</th>\n",
       "      <th>dragon_No Dragon</th>\n",
       "      <th>dragon_Red</th>\n",
       "      <th>herald_Blue</th>\n",
       "      <th>herald_No Herald</th>\n",
       "      <th>herald_Red</th>\n",
       "    </tr>\n",
       "  </thead>\n",
       "  <tbody>\n",
       "    <tr>\n",
       "      <th>0</th>\n",
       "      <td>0.0</td>\n",
       "      <td>0.0</td>\n",
       "      <td>1.0</td>\n",
       "      <td>0.0</td>\n",
       "      <td>0.0</td>\n",
       "      <td>1.0</td>\n",
       "      <td>0.0</td>\n",
       "    </tr>\n",
       "    <tr>\n",
       "      <th>1</th>\n",
       "      <td>0.0</td>\n",
       "      <td>0.0</td>\n",
       "      <td>0.0</td>\n",
       "      <td>1.0</td>\n",
       "      <td>0.0</td>\n",
       "      <td>1.0</td>\n",
       "      <td>0.0</td>\n",
       "    </tr>\n",
       "    <tr>\n",
       "      <th>2</th>\n",
       "      <td>1.0</td>\n",
       "      <td>0.0</td>\n",
       "      <td>0.0</td>\n",
       "      <td>1.0</td>\n",
       "      <td>1.0</td>\n",
       "      <td>0.0</td>\n",
       "      <td>0.0</td>\n",
       "    </tr>\n",
       "    <tr>\n",
       "      <th>3</th>\n",
       "      <td>0.0</td>\n",
       "      <td>0.0</td>\n",
       "      <td>0.0</td>\n",
       "      <td>1.0</td>\n",
       "      <td>0.0</td>\n",
       "      <td>0.0</td>\n",
       "      <td>1.0</td>\n",
       "    </tr>\n",
       "    <tr>\n",
       "      <th>4</th>\n",
       "      <td>1.0</td>\n",
       "      <td>1.0</td>\n",
       "      <td>0.0</td>\n",
       "      <td>0.0</td>\n",
       "      <td>0.0</td>\n",
       "      <td>1.0</td>\n",
       "      <td>0.0</td>\n",
       "    </tr>\n",
       "  </tbody>\n",
       "</table>\n",
       "</div>"
      ],
      "text/plain": [
       "   firstBlood_Red  dragon_Blue  dragon_No Dragon  dragon_Red  herald_Blue  \\\n",
       "0             0.0          0.0               1.0         0.0          0.0   \n",
       "1             0.0          0.0               0.0         1.0          0.0   \n",
       "2             1.0          0.0               0.0         1.0          1.0   \n",
       "3             0.0          0.0               0.0         1.0          0.0   \n",
       "4             1.0          1.0               0.0         0.0          0.0   \n",
       "\n",
       "   herald_No Herald  herald_Red  \n",
       "0               1.0         0.0  \n",
       "1               1.0         0.0  \n",
       "2               0.0         0.0  \n",
       "3               0.0         1.0  \n",
       "4               1.0         0.0  "
      ]
     },
     "execution_count": 63,
     "metadata": {},
     "output_type": "execute_result"
    }
   ],
   "source": [
    "# Convert train and test categoricals into dataframes for merge\n",
    "\n",
    "train_categoricals_df = pd.DataFrame(train_categoricals,\n",
    "                                     columns=encoder.get_feature_names(categoricals))\n",
    "\n",
    "test_categoricals_df =  pd.DataFrame(test_categoricals,\n",
    "                                     columns=encoder.get_feature_names(categoricals))\n",
    "\n",
    "train_categoricals_df.head()"
   ]
  },
  {
   "cell_type": "markdown",
   "metadata": {},
   "source": [
    "### Numerical Columns"
   ]
  },
  {
   "cell_type": "code",
   "execution_count": 64,
   "metadata": {
    "ExecuteTime": {
     "end_time": "2021-05-24T22:07:22.779309Z",
     "start_time": "2021-05-24T22:07:22.736323Z"
    }
   },
   "outputs": [
    {
     "data": {
      "text/html": [
       "<div>\n",
       "<style scoped>\n",
       "    .dataframe tbody tr th:only-of-type {\n",
       "        vertical-align: middle;\n",
       "    }\n",
       "\n",
       "    .dataframe tbody tr th {\n",
       "        vertical-align: top;\n",
       "    }\n",
       "\n",
       "    .dataframe thead th {\n",
       "        text-align: right;\n",
       "    }\n",
       "</style>\n",
       "<table border=\"1\" class=\"dataframe\">\n",
       "  <thead>\n",
       "    <tr style=\"text-align: right;\">\n",
       "      <th></th>\n",
       "      <th>WardsPlaced</th>\n",
       "      <th>WardsDestroyed</th>\n",
       "      <th>Kills</th>\n",
       "      <th>Assists</th>\n",
       "      <th>TowersDestroyed</th>\n",
       "      <th>TotalGold</th>\n",
       "      <th>AvgLevel</th>\n",
       "      <th>TotalExperience</th>\n",
       "      <th>TotalMinionsKilled</th>\n",
       "      <th>TotalJungleMinionsKilled</th>\n",
       "    </tr>\n",
       "  </thead>\n",
       "  <tbody>\n",
       "    <tr>\n",
       "      <th>0</th>\n",
       "      <td>-0.312890</td>\n",
       "      <td>1.373334</td>\n",
       "      <td>0.220704</td>\n",
       "      <td>-0.349942</td>\n",
       "      <td>-0.04164</td>\n",
       "      <td>-0.001092</td>\n",
       "      <td>-0.821423</td>\n",
       "      <td>-0.486820</td>\n",
       "      <td>-1.461816</td>\n",
       "      <td>1.449220</td>\n",
       "    </tr>\n",
       "    <tr>\n",
       "      <th>1</th>\n",
       "      <td>0.156072</td>\n",
       "      <td>-0.741644</td>\n",
       "      <td>0.220704</td>\n",
       "      <td>-0.003060</td>\n",
       "      <td>-0.04164</td>\n",
       "      <td>-0.440888</td>\n",
       "      <td>-0.821423</td>\n",
       "      <td>-0.545091</td>\n",
       "      <td>-0.784545</td>\n",
       "      <td>-1.143374</td>\n",
       "    </tr>\n",
       "    <tr>\n",
       "      <th>2</th>\n",
       "      <td>-0.000249</td>\n",
       "      <td>-0.389148</td>\n",
       "      <td>-0.733301</td>\n",
       "      <td>-0.349942</td>\n",
       "      <td>-0.04164</td>\n",
       "      <td>-0.276167</td>\n",
       "      <td>-0.405661</td>\n",
       "      <td>-0.490982</td>\n",
       "      <td>-0.816796</td>\n",
       "      <td>2.079851</td>\n",
       "    </tr>\n",
       "    <tr>\n",
       "      <th>3</th>\n",
       "      <td>0.156072</td>\n",
       "      <td>1.373334</td>\n",
       "      <td>2.128716</td>\n",
       "      <td>2.425111</td>\n",
       "      <td>-0.04164</td>\n",
       "      <td>2.063192</td>\n",
       "      <td>1.673149</td>\n",
       "      <td>1.640596</td>\n",
       "      <td>1.344019</td>\n",
       "      <td>-1.073304</td>\n",
       "    </tr>\n",
       "    <tr>\n",
       "      <th>4</th>\n",
       "      <td>-0.039329</td>\n",
       "      <td>-0.036651</td>\n",
       "      <td>0.697707</td>\n",
       "      <td>0.343822</td>\n",
       "      <td>-0.04164</td>\n",
       "      <td>0.381093</td>\n",
       "      <td>0.010101</td>\n",
       "      <td>0.397652</td>\n",
       "      <td>0.795753</td>\n",
       "      <td>-1.143374</td>\n",
       "    </tr>\n",
       "  </tbody>\n",
       "</table>\n",
       "</div>"
      ],
      "text/plain": [
       "   WardsPlaced  WardsDestroyed     Kills   Assists  TowersDestroyed  \\\n",
       "0    -0.312890        1.373334  0.220704 -0.349942         -0.04164   \n",
       "1     0.156072       -0.741644  0.220704 -0.003060         -0.04164   \n",
       "2    -0.000249       -0.389148 -0.733301 -0.349942         -0.04164   \n",
       "3     0.156072        1.373334  2.128716  2.425111         -0.04164   \n",
       "4    -0.039329       -0.036651  0.697707  0.343822         -0.04164   \n",
       "\n",
       "   TotalGold  AvgLevel  TotalExperience  TotalMinionsKilled  \\\n",
       "0  -0.001092 -0.821423        -0.486820           -1.461816   \n",
       "1  -0.440888 -0.821423        -0.545091           -0.784545   \n",
       "2  -0.276167 -0.405661        -0.490982           -0.816796   \n",
       "3   2.063192  1.673149         1.640596            1.344019   \n",
       "4   0.381093  0.010101         0.397652            0.795753   \n",
       "\n",
       "   TotalJungleMinionsKilled  \n",
       "0                  1.449220  \n",
       "1                 -1.143374  \n",
       "2                  2.079851  \n",
       "3                 -1.073304  \n",
       "4                 -1.143374  "
      ]
     },
     "execution_count": 64,
     "metadata": {},
     "output_type": "execute_result"
    }
   ],
   "source": [
    "# Scale continuous features and combine into dataframe for merge\n",
    "\n",
    "scaler = scaler = StandardScaler()\n",
    "\n",
    "train_numericals_df = pd.DataFrame(scaler.fit_transform(X_train[numericals]),\n",
    "                              columns=numericals)\n",
    "\n",
    "test_numericals_df = pd.DataFrame(scaler.transform(X_test[numericals]),\n",
    "                              columns=numericals)\n",
    "\n",
    "train_numericals_df.head()"
   ]
  },
  {
   "cell_type": "code",
   "execution_count": 65,
   "metadata": {
    "ExecuteTime": {
     "end_time": "2021-05-24T22:07:22.795307Z",
     "start_time": "2021-05-24T22:07:22.782308Z"
    }
   },
   "outputs": [
    {
     "name": "stdout",
     "output_type": "stream",
     "text": [
      "(6915, 17)\n",
      "(2964, 17)\n"
     ]
    }
   ],
   "source": [
    "# Recombine transformed categorical and continuous features, print shape\n",
    "\n",
    "X_train = pd.concat([train_numericals_df, train_categoricals_df], axis=1)\n",
    "X_test = pd.concat([test_numericals_df, test_categoricals_df], axis=1)\n",
    "\n",
    "print(X_train.shape)\n",
    "print(X_test.shape)"
   ]
  },
  {
   "cell_type": "markdown",
   "metadata": {},
   "source": [
    "## Logistic Regression"
   ]
  },
  {
   "cell_type": "code",
   "execution_count": 66,
   "metadata": {
    "ExecuteTime": {
     "end_time": "2021-05-24T22:07:22.857284Z",
     "start_time": "2021-05-24T22:07:22.797305Z"
    }
   },
   "outputs": [
    {
     "data": {
      "text/plain": [
       "LogisticRegression()"
      ]
     },
     "execution_count": 66,
     "metadata": {},
     "output_type": "execute_result"
    }
   ],
   "source": [
    "# Initiate and train model\n",
    "\n",
    "model_log = LogisticRegression()\n",
    "\n",
    "model_log.fit(X_train, y_train)"
   ]
  },
  {
   "cell_type": "code",
   "execution_count": 67,
   "metadata": {
    "ExecuteTime": {
     "end_time": "2021-05-24T22:07:22.872281Z",
     "start_time": "2021-05-24T22:07:22.860285Z"
    }
   },
   "outputs": [
    {
     "data": {
      "text/plain": [
       "1    0.500217\n",
       "0    0.499783\n",
       "Name: blueWins, dtype: float64"
      ]
     },
     "execution_count": 67,
     "metadata": {},
     "output_type": "execute_result"
    }
   ],
   "source": [
    "# Test for class imbalance\n",
    "\n",
    "print(y_train.value_counts(1))\n",
    "print(y_test.value_counts(1))"
   ]
  },
  {
   "cell_type": "markdown",
   "metadata": {},
   "source": [
    "### Accuracy"
   ]
  },
  {
   "cell_type": "code",
   "execution_count": 70,
   "metadata": {
    "ExecuteTime": {
     "end_time": "2021-05-24T22:07:22.935259Z",
     "start_time": "2021-05-24T22:07:22.906270Z"
    }
   },
   "outputs": [
    {
     "name": "stdout",
     "output_type": "stream",
     "text": [
      "Training Accuracy: 74.04%\n",
      "Test Accuracy: 71.69%\n"
     ]
    }
   ],
   "source": [
    "# Create function for efficient accuracy checks\n",
    "\n",
    "def model_accuracy(model, X_train=X_train, y_train=y_train, X_test=X_test, y_test=y_test):\n",
    "    print(f'Training Accuracy: {model.score(X_train,y_train):.2%}')\n",
    "    print(f'Test Accuracy: {model.score(X_test,y_test):.2%}')\n",
    "\n",
    "model_accuracy(model_log)"
   ]
  },
  {
   "cell_type": "markdown",
   "metadata": {},
   "source": [
    "### Cross Validation Check"
   ]
  },
  {
   "cell_type": "code",
   "execution_count": 71,
   "metadata": {
    "ExecuteTime": {
     "end_time": "2021-05-24T22:07:23.370119Z",
     "start_time": "2021-05-24T22:07:22.938258Z"
    }
   },
   "outputs": [
    {
     "name": "stdout",
     "output_type": "stream",
     "text": [
      "Logistic Regression Cross Validation Scores:\n",
      "\n",
      "[0.72976879 0.73265896 0.75867052 0.73410405 0.73988439 0.74384949\n",
      " 0.72503618 0.75253256 0.72648336 0.73950796]\n",
      "\n",
      "Cross validation mean: \t73.82%\n"
     ]
    }
   ],
   "source": [
    "# Create cross validation function \n",
    "\n",
    "def cross_val_check(model_string_name, model, X_train=X_train, y_train=y_train, X_test=X_test, y_test=y_test):\n",
    "    scores = cross_val_score(model, X_train, y_train, cv=10) # model, train, target, cross validation\n",
    "    print(f'{model_string_name} Cross Validation Scores:\\n')\n",
    "    print(scores)\n",
    "    print(f'\\nCross validation mean: \\t{scores.mean():.2%}')\n",
    "    \n",
    "cross_val_check('Logistic Regression', model_log)"
   ]
  },
  {
   "cell_type": "markdown",
   "metadata": {},
   "source": [
    "### Confusion Matrix & Classification Report"
   ]
  },
  {
   "cell_type": "code",
   "execution_count": 72,
   "metadata": {
    "ExecuteTime": {
     "end_time": "2021-05-24T22:07:23.651029Z",
     "start_time": "2021-05-24T22:07:23.372119Z"
    }
   },
   "outputs": [
    {
     "data": {
      "image/png": "[encoded data removed]",
      "text/plain": [
       "<Figure size 288x288 with 1 Axes>"
      ]
     },
     "metadata": {
      "needs_background": "light"
     },
     "output_type": "display_data"
    }
   ],
   "source": [
    "# # https://vitalflux.com/accuracy-precision-recall-f1-score-python-example/\n",
    "\n",
    "y_pred = model_log.predict(X_test)\n",
    "#\n",
    "# Calculate the confusion matrix\n",
    "#\n",
    "conf_matrix = confusion_matrix(y_true=y_test, y_pred=y_pred)\n",
    "#\n",
    "# Print the confusion matrix using Matplotlib\n",
    "#\n",
    "fig, ax = plt.subplots(figsize=(4, 4))\n",
    "ax.matshow(conf_matrix, cmap=plt.cm.Oranges, alpha=0.3)\n",
    "for i in range(conf_matrix.shape[0]):\n",
    "    for j in range(conf_matrix.shape[1]):\n",
    "        ax.text(x=j, y=i,s=conf_matrix[i, j], va='center', ha='center', size='xx-large')\n",
    " \n",
    "plt.xlabel('Predictions', fontsize=18)\n",
    "plt.ylabel('Actuals', fontsize=18)\n",
    "plt.title('Confusion Matrix', fontsize=18)\n",
    "plt.show()"
   ]
  },
  {
   "cell_type": "code",
   "execution_count": 73,
   "metadata": {
    "ExecuteTime": {
     "end_time": "2021-05-24T22:07:23.666025Z",
     "start_time": "2021-05-24T22:07:23.653029Z"
    },
    "scrolled": true
   },
   "outputs": [],
   "source": [
    "## Modified version of our simple eval function from Topic 25 Part 2 Study Group\n",
    "# - Added X_train and y_train for if we want scores for both train and test\n",
    "def evaluate_classification(model, X_test_tf,y_test,cmap='Blues',\n",
    "                            normalize='true',classes=None,figsize=(10,4),\n",
    "                            X_train = None, y_train = None,):\n",
    "\n",
    "    y_hat_test = model.predict(X_test_tf)\n",
    "    print(metrics.classification_report(y_test, y_hat_test,target_names=classes))\n",
    "    \n",
    "    fig,ax = plt.subplots(ncols=2,figsize=figsize)\n",
    "    metrics.plot_confusion_matrix(model, X_test_tf,y_test,cmap=cmap, \n",
    "                                  normalize=normalize,display_labels=classes,\n",
    "                                 ax=ax[0])\n",
    "    \n",
    "    curve = metrics.plot_roc_curve(model,X_test_tf,y_test,ax=ax[1])\n",
    "    curve.ax_.grid()\n",
    "    curve.ax_.plot([0,1],[0,1],ls=':')\n",
    "    fig.tight_layout()\n",
    "    plt.show()\n",
    "    \n",
    "    ## Add comparing Scores if X_train and y_train provided.\n",
    "    if (X_train is not None) & (y_train is not None):\n",
    "        print(f\"Training Score = {model.score(X_train,y_train):.2f}\")\n",
    "        print(f\"Test Score = {model.score(X_test_tf,y_test):.2f}\")\n",
    "        \n",
    "        \n",
    "        \n",
    "def evaluate_grid(grid,X_test,y_test,X_train=None,y_train=None):\n",
    "    print('The best parameters were:')\n",
    "    print(\"\\t\",grid.best_params_)\n",
    "    \n",
    "    model = grid.best_estimator_    \n",
    "\n",
    "    print('\\n[i] Classification Report')\n",
    "    evaluate_classification(model, X_test,y_test,X_train=X_train,y_train=y_train)"
   ]
  },
  {
   "cell_type": "code",
   "execution_count": 74,
   "metadata": {
    "ExecuteTime": {
     "end_time": "2021-05-24T22:07:24.305834Z",
     "start_time": "2021-05-24T22:07:23.669025Z"
    }
   },
   "outputs": [
    {
     "name": "stdout",
     "output_type": "stream",
     "text": [
      "              precision    recall  f1-score   support\n",
      "\n",
      "           0       0.72      0.71      0.72      1493\n",
      "           1       0.71      0.72      0.72      1471\n",
      "\n",
      "    accuracy                           0.72      2964\n",
      "   macro avg       0.72      0.72      0.72      2964\n",
      "weighted avg       0.72      0.72      0.72      2964\n",
      "\n"
     ]
    },
    {
     "data": {
      "image/png": "[encoded data removed]",
      "text/plain": [
       "<Figure size 720x288 with 3 Axes>"
      ]
     },
     "metadata": {
      "needs_background": "light"
     },
     "output_type": "display_data"
    }
   ],
   "source": [
    "evaluate_classification(model_log, X_test, y_test)"
   ]
  },
  {
   "cell_type": "markdown",
   "metadata": {},
   "source": [
    "### Dummy Check"
   ]
  },
  {
   "cell_type": "code",
   "execution_count": 75,
   "metadata": {
    "ExecuteTime": {
     "end_time": "2021-05-24T22:07:24.944616Z",
     "start_time": "2021-05-24T22:07:24.308819Z"
    },
    "scrolled": true
   },
   "outputs": [
    {
     "name": "stdout",
     "output_type": "stream",
     "text": [
      "0.4848178137651822\n",
      "              precision    recall  f1-score   support\n",
      "\n",
      "           0       0.50      0.50      0.50      1493\n",
      "           1       0.49      0.50      0.49      1471\n",
      "\n",
      "    accuracy                           0.50      2964\n",
      "   macro avg       0.50      0.50      0.50      2964\n",
      "weighted avg       0.50      0.50      0.50      2964\n",
      "\n"
     ]
    },
    {
     "data": {
      "image/png": "[encoded data removed]",
      "text/plain": [
       "<Figure size 720x288 with 3 Axes>"
      ]
     },
     "metadata": {
      "needs_background": "light"
     },
     "output_type": "display_data"
    }
   ],
   "source": [
    "from sklearn.dummy import DummyClassifier\n",
    "\n",
    "dummy = DummyClassifier(strategy='stratified')#,constant=0)\n",
    "\n",
    "preds = dummy.fit(X_train,y_train).predict(X_test)\n",
    "\n",
    "## How did we do?\n",
    "print(dummy.score(X_test,y_test))\n",
    "\n",
    "evaluate_classification(dummy,X_test, y_test, cmap='Reds')#,label='Dummy');"
   ]
  },
  {
   "cell_type": "markdown",
   "metadata": {},
   "source": [
    "### Hypertuning Logistic Regression"
   ]
  },
  {
   "cell_type": "code",
   "execution_count": 76,
   "metadata": {
    "ExecuteTime": {
     "end_time": "2021-05-24T22:07:24.960611Z",
     "start_time": "2021-05-24T22:07:24.947614Z"
    }
   },
   "outputs": [],
   "source": [
    "# Initiate new model and perform grid search\n",
    "\n",
    "model_log_hp = LogisticRegression()\n",
    "\n",
    "params = {'C':[0.001,0.01,0.1,1,10,100,1000],\n",
    "        'penalty':['l1','l2','elastic_net'],\n",
    "        'solver':[\"liblinear\", \"newton-cg\", \"lbfgs\", \"sag\",\"saga\"]\n",
    "         }\n",
    "\n",
    "log_grid_search = GridSearchCV(model_log_hp,params,scoring='accuracy')"
   ]
  },
  {
   "cell_type": "code",
   "execution_count": 77,
   "metadata": {
    "ExecuteTime": {
     "end_time": "2021-05-24T22:07:36.685518Z",
     "start_time": "2021-05-24T22:07:24.962610Z"
    }
   },
   "outputs": [
    {
     "data": {
      "text/plain": [
       "{'C': 0.1, 'penalty': 'l1', 'solver': 'liblinear'}"
      ]
     },
     "execution_count": 77,
     "metadata": {},
     "output_type": "execute_result"
    }
   ],
   "source": [
    "# Fit grid search to training data and display best parameters\n",
    "\n",
    "log_grid_search.fit(X_train, y_train)\n",
    "\n",
    "log_grid_search.best_params_"
   ]
  },
  {
   "cell_type": "code",
   "execution_count": 78,
   "metadata": {
    "ExecuteTime": {
     "end_time": "2021-05-24T22:07:36.716507Z",
     "start_time": "2021-05-24T22:07:36.688518Z"
    }
   },
   "outputs": [
    {
     "name": "stdout",
     "output_type": "stream",
     "text": [
      "Base Model:\n",
      "Training Accuracy: 74.04%\n",
      "Test Accuracy: 71.69%\n",
      "\n",
      "\n",
      "Grid Search Model:\n",
      "Training Accuracy: 74.09%\n",
      "Test Accuracy: 71.83%\n"
     ]
    }
   ],
   "source": [
    "# Compare performance between base model and grid search model\n",
    "\n",
    "print(\"Base Model:\")\n",
    "model_accuracy(model_log)\n",
    "print(\"\\n\")\n",
    "print(\"Grid Search Model:\")\n",
    "model_accuracy(log_grid_search)"
   ]
  },
  {
   "cell_type": "code",
   "execution_count": 79,
   "metadata": {
    "ExecuteTime": {
     "end_time": "2021-05-24T22:07:37.336311Z",
     "start_time": "2021-05-24T22:07:36.718507Z"
    }
   },
   "outputs": [
    {
     "name": "stdout",
     "output_type": "stream",
     "text": [
      "              precision    recall  f1-score   support\n",
      "\n",
      "           0       0.72      0.71      0.72      1493\n",
      "           1       0.71      0.72      0.72      1471\n",
      "\n",
      "    accuracy                           0.72      2964\n",
      "   macro avg       0.72      0.72      0.72      2964\n",
      "weighted avg       0.72      0.72      0.72      2964\n",
      "\n"
     ]
    },
    {
     "data": {
      "image/png": "[encoded data removed]",
      "text/plain": [
       "<Figure size 720x288 with 3 Axes>"
      ]
     },
     "metadata": {
      "needs_background": "light"
     },
     "output_type": "display_data"
    }
   ],
   "source": [
    "# Evaluate best model found with grid search\n",
    "\n",
    "evaluate_classification(log_grid_search.best_estimator_,X_test,y_test)"
   ]
  },
  {
   "cell_type": "markdown",
   "metadata": {
    "ExecuteTime": {
     "end_time": "2021-05-20T17:57:17.162369Z",
     "start_time": "2021-05-20T17:57:17.102408Z"
    }
   },
   "source": [
    "### Coefficients"
   ]
  },
  {
   "cell_type": "code",
   "execution_count": null,
   "metadata": {
    "ExecuteTime": {
     "end_time": "2021-05-24T22:07:37.817154Z",
     "start_time": "2021-05-24T22:07:37.340308Z"
    }
   },
   "outputs": [],
   "source": [
    "# Create coefficient graph function\n",
    "\n",
    "def coef_graph(X_train, X_test, y_train=y_train, y_test=y_test):    \n",
    "    model = LogisticRegression()\n",
    "    model.fit(X_train, y_train)\n",
    "    coeffs = pd.Series(model.coef_.flatten(), index=X_train.columns).sort_values(ascending=True)\n",
    "    model_accuracy(model, X_train=X_train, y_train=y_train, X_test=X_test, y_test=y_test)\n",
    "    ax = coeffs.plot(kind='barh', figsize=(8,6))\n",
    "    "
   ]
  },
  {
   "cell_type": "markdown",
   "metadata": {},
   "source": [
    "Let's first take a look at feature importances using all of our features."
   ]
  },
  {
   "cell_type": "code",
   "execution_count": 80,
   "metadata": {
    "ExecuteTime": {
     "end_time": "2021-05-24T22:07:37.817154Z",
     "start_time": "2021-05-24T22:07:37.340308Z"
    },
    "scrolled": true
   },
   "outputs": [
    {
     "name": "stdout",
     "output_type": "stream",
     "text": [
      "Training Accuracy: 74.04%\n",
      "Test Accuracy: 71.69%\n"
     ]
    },
    {
     "data": {
      "image/png": "[encoded data removed]",
      "text/plain": [
       "<Figure size 576x432 with 1 Axes>"
      ]
     },
     "metadata": {
      "needs_background": "light"
     },
     "output_type": "display_data"
    }
   ],
   "source": [
    "coef_graph(X_train, X_test)"
   ]
  },
  {
   "cell_type": "markdown",
   "metadata": {
    "ExecuteTime": {
     "end_time": "2021-05-24T15:53:06.925509Z",
     "start_time": "2021-05-24T15:53:06.912511Z"
    }
   },
   "source": [
    "TotalGold is clearly the most predictive feature for victory.  \n",
    "\n",
    "Earlier, we noticed TotalGold has very high multicollinearity with multiple features.  This isn't surprising, since gold is a resource won from actions taken in the game.  Killing opponents, elite monsters, and creeps all award gold.  "
   ]
  },
  {
   "cell_type": "code",
   "execution_count": 81,
   "metadata": {
    "ExecuteTime": {
     "end_time": "2021-05-24T22:07:38.329991Z",
     "start_time": "2021-05-24T22:07:37.819154Z"
    }
   },
   "outputs": [
    {
     "name": "stdout",
     "output_type": "stream",
     "text": [
      "Training Accuracy: 73.25%\n",
      "Test Accuracy: 71.29%\n"
     ]
    },
    {
     "data": {
      "image/png": "[encoded data removed]",
      "text/plain": [
       "<Figure size 576x432 with 1 Axes>"
      ]
     },
     "metadata": {
      "needs_background": "light"
     },
     "output_type": "display_data"
    }
   ],
   "source": [
    "X_train_coeff = X_train.drop(['TotalGold'],axis=1)\n",
    "X_test_coeff = X_test.drop(['TotalGold'],axis=1)\n",
    "\n",
    "coef_graph(X_train_coeff, X_test_coeff)"
   ]
  },
  {
   "cell_type": "code",
   "execution_count": 82,
   "metadata": {
    "ExecuteTime": {
     "end_time": "2021-05-24T22:07:38.689876Z",
     "start_time": "2021-05-24T22:07:38.331991Z"
    }
   },
   "outputs": [
    {
     "name": "stdout",
     "output_type": "stream",
     "text": [
      "Training Accuracy: 73.03%\n",
      "Test Accuracy: 70.75%\n"
     ]
    },
    {
     "data": {
      "image/png": "[encoded data removed]",
      "text/plain": [
       "<Figure size 576x432 with 1 Axes>"
      ]
     },
     "metadata": {
      "needs_background": "light"
     },
     "output_type": "display_data"
    }
   ],
   "source": [
    "X_train_coeff = X_train.drop(['TotalGold', 'TotalExperience'],axis=1)\n",
    "X_test_coeff = X_test.drop(['TotalGold', 'TotalExperience'],axis=1)\n",
    "\n",
    "coef_graph(X_train_coeff, X_test_coeff)"
   ]
  },
  {
   "cell_type": "code",
   "execution_count": 83,
   "metadata": {
    "ExecuteTime": {
     "end_time": "2021-05-24T22:07:39.060756Z",
     "start_time": "2021-05-24T22:07:38.692876Z"
    }
   },
   "outputs": [
    {
     "name": "stdout",
     "output_type": "stream",
     "text": [
      "Training Accuracy: 73.04%\n",
      "Test Accuracy: 70.48%\n"
     ]
    },
    {
     "data": {
      "image/png": "[encoded data removed]",
      "text/plain": [
       "<Figure size 576x432 with 1 Axes>"
      ]
     },
     "metadata": {
      "needs_background": "light"
     },
     "output_type": "display_data"
    }
   ],
   "source": [
    "X_train_coeff = X_train.drop(['TotalGold', 'TotalExperience', 'AvgLevel'],axis=1)\n",
    "X_test_coeff = X_test.drop(['TotalGold', 'TotalExperience', 'AvgLevel'],axis=1)\n",
    "\n",
    "coef_graph(X_train_coeff, X_test_coeff)"
   ]
  },
  {
   "cell_type": "code",
   "execution_count": 84,
   "metadata": {
    "ExecuteTime": {
     "end_time": "2021-05-24T22:14:27.608264Z",
     "start_time": "2021-05-24T22:14:27.259377Z"
    }
   },
   "outputs": [
    {
     "name": "stdout",
     "output_type": "stream",
     "text": [
      "Training Accuracy: 71.27%\n",
      "Test Accuracy: 69.84%\n"
     ]
    },
    {
     "data": {
      "image/png": "[encoded data removed]",
      "text/plain": [
       "<Figure size 576x432 with 1 Axes>"
      ]
     },
     "metadata": {
      "needs_background": "light"
     },
     "output_type": "display_data"
    }
   ],
   "source": [
    "X_train_coeff_nokills = X_train.drop(['TotalGold', 'TotalExperience', 'AvgLevel', 'Kills'],axis=1)\n",
    "X_test_coeff_nokills = X_test.drop(['TotalGold', 'TotalExperience', 'AvgLevel', 'Kills'],axis=1)\n",
    "\n",
    "coef_graph(X_train_coeff_nokills, X_test_coeff_nokills)"
   ]
  },
  {
   "cell_type": "code",
   "execution_count": 85,
   "metadata": {
    "ExecuteTime": {
     "end_time": "2021-05-24T22:14:36.219312Z",
     "start_time": "2021-05-24T22:14:35.861445Z"
    }
   },
   "outputs": [
    {
     "data": {
      "text/plain": [
       "<matplotlib.lines.Line2D at 0x2168e9b3f10>"
      ]
     },
     "execution_count": 85,
     "metadata": {},
     "output_type": "execute_result"
    },
    {
     "data": {
      "image/png": "[encoded data removed]",
      "text/plain": [
       "<Figure size 576x432 with 1 Axes>"
      ]
     },
     "metadata": {
      "needs_background": "light"
     },
     "output_type": "display_data"
    }
   ],
   "source": [
    "model = LogisticRegression()\n",
    "\n",
    "model.fit(X_train_coeff, y_train)\n",
    "\n",
    "coef = pd.Series(model.coef_.flatten(), index=X_train_coeff.columns).sort_values(ascending=True)\n",
    "\n",
    "odds = np.exp(coef)\n",
    "ax = odds.plot(kind='barh', figsize=(8,6))\n",
    "ax.axvline(1)\n"
   ]
  },
  {
   "cell_type": "markdown",
   "metadata": {},
   "source": [
    "For every 1 sd increase in Kills, the odds that blue wins is are 3.0 x as large as the odds that they lost"
   ]
  },
  {
   "cell_type": "markdown",
   "metadata": {},
   "source": [
    "## Random Forest"
   ]
  },
  {
   "cell_type": "code",
   "execution_count": 86,
   "metadata": {
    "ExecuteTime": {
     "end_time": "2021-05-24T22:18:45.139017Z",
     "start_time": "2021-05-24T22:18:43.670478Z"
    }
   },
   "outputs": [
    {
     "name": "stdout",
     "output_type": "stream",
     "text": [
      "Training Accuracy: 99.99%\n",
      "Test Accuracy: 70.85%\n"
     ]
    }
   ],
   "source": [
    "# Initiate a random forest model\n",
    "model_rf = RandomForestClassifier(random_state=8)\n",
    "model_rf.fit(X_train, y_train)\n",
    "\n",
    "# Check accuracy\n",
    "model_accuracy(model_rf)"
   ]
  },
  {
   "cell_type": "code",
   "execution_count": 87,
   "metadata": {
    "ExecuteTime": {
     "end_time": "2021-05-24T22:08:11.767147Z",
     "start_time": "2021-05-24T22:08:11.755150Z"
    }
   },
   "outputs": [],
   "source": [
    "# # Training accuracy score\n",
    "# model_rf.score(X_train, y_train)"
   ]
  },
  {
   "cell_type": "code",
   "execution_count": 88,
   "metadata": {
    "ExecuteTime": {
     "end_time": "2021-05-24T22:08:17.932301Z",
     "start_time": "2021-05-24T22:08:11.771143Z"
    }
   },
   "outputs": [
    {
     "name": "stdout",
     "output_type": "stream",
     "text": [
      "Random Forest Cross Validation Scores:\n",
      "\n",
      "[0.69508671 0.71387283 0.75867052 0.72543353 0.73699422 0.73516643\n",
      " 0.71635311 0.73082489 0.71490593 0.70622287]\n",
      "\n",
      "Cross validation mean: \t72.34%\n"
     ]
    }
   ],
   "source": [
    "cross_val_check('Random Forest', model_rf)"
   ]
  },
  {
   "cell_type": "code",
   "execution_count": 89,
   "metadata": {
    "ExecuteTime": {
     "end_time": "2021-05-24T22:08:18.679047Z",
     "start_time": "2021-05-24T22:08:17.934286Z"
    }
   },
   "outputs": [
    {
     "name": "stdout",
     "output_type": "stream",
     "text": [
      "              precision    recall  f1-score   support\n",
      "\n",
      "           0       0.72      0.71      0.72      1493\n",
      "           1       0.71      0.72      0.72      1471\n",
      "\n",
      "    accuracy                           0.72      2964\n",
      "   macro avg       0.72      0.72      0.72      2964\n",
      "weighted avg       0.72      0.72      0.72      2964\n",
      "\n"
     ]
    },
    {
     "data": {
      "image/png": "[encoded data removed]",
      "text/plain": [
       "<Figure size 720x288 with 3 Axes>"
      ]
     },
     "metadata": {
      "needs_background": "light"
     },
     "output_type": "display_data"
    }
   ],
   "source": [
    "evaluate_classification(model_log, X_test, y_test)"
   ]
  },
  {
   "cell_type": "markdown",
   "metadata": {},
   "source": [
    "RF tends to shift away from our categoricals."
   ]
  },
  {
   "cell_type": "code",
   "execution_count": null,
   "metadata": {},
   "outputs": [],
   "source": []
  },
  {
   "cell_type": "code",
   "execution_count": null,
   "metadata": {},
   "outputs": [],
   "source": []
  },
  {
   "cell_type": "markdown",
   "metadata": {},
   "source": [
    "### RF Hyperparameter"
   ]
  },
  {
   "cell_type": "code",
   "execution_count": 90,
   "metadata": {
    "ExecuteTime": {
     "end_time": "2021-05-24T22:09:06.367810Z",
     "start_time": "2021-05-24T22:08:21.805045Z"
    }
   },
   "outputs": [
    {
     "name": "stdout",
     "output_type": "stream",
     "text": [
      "---Random Forest Base Model---\n",
      "Training Accuracy: 99.99%\n",
      "Test Accuracy: 70.85%\n",
      "\n",
      "---Grid Search Model---\n",
      "Training Accuracy: 74.77%\n",
      "Test Accuracy: 71.36%\n",
      "\n",
      "Cross Validated Score: 73.43%\n",
      "\n",
      "Optimal Parameters: {'criterion': 'entropy', 'max_depth': 6, 'min_samples_leaf': 6, 'min_samples_split': 5, 'n_estimators': 30}\n"
     ]
    }
   ],
   "source": [
    "run = False\n",
    "\n",
    "# Initiate new random forest model\n",
    "model_rf_hp = RandomForestClassifier()\n",
    "\n",
    "# Define grid search parameters\n",
    "\n",
    "if run == True:\n",
    "    rf_param_grid = {\n",
    "        'n_estimators': [10, 30, 100],\n",
    "        'criterion': ['gini', 'entropy'],\n",
    "        'max_depth': [None, 2, 6, 10],\n",
    "        'min_samples_split': [5, 10],\n",
    "        'min_samples_leaf': [3, 6]}\n",
    "else:\n",
    "    rf_param_grid = {\n",
    "        'n_estimators': [30],\n",
    "        'criterion': ['entropy'],\n",
    "        'max_depth': [6],\n",
    "        'min_samples_split': [5],\n",
    "        'min_samples_leaf': [6]}\n",
    "\n",
    "# Run grid search and fit to train data\n",
    "rf_grid_search = GridSearchCV(model_rf_hp, rf_param_grid, cv=2)\n",
    "rf_grid_search.fit(X_train, y_train)\n",
    "\n",
    "# Print metrics\n",
    "print(\"---Random Forest Base Model---\")\n",
    "model_accuracy(model_rf)\n",
    "print(\"\")\n",
    "print(\"---Grid Search Model---\")\n",
    "model_accuracy(rf_grid_search)\n",
    "print(\"\")\n",
    "print(f\"Cross Validated Score: {rf_grid_search.best_score_ :.2%}\")\n",
    "print(\"\")\n",
    "print(f\"Optimal Parameters: {rf_grid_search.best_params_}\")"
   ]
  },
  {
   "cell_type": "code",
   "execution_count": 91,
   "metadata": {
    "ExecuteTime": {
     "end_time": "2021-05-24T22:09:06.740638Z",
     "start_time": "2021-05-24T22:09:06.369756Z"
    }
   },
   "outputs": [
    {
     "name": "stdout",
     "output_type": "stream",
     "text": [
      "---Random Forest Base Model---\n",
      "Training Accuracy: 99.99%\n",
      "Test Accuracy: 70.85%\n",
      "\n",
      "---Grid Search Model---\n",
      "Training Accuracy: 74.77%\n",
      "Test Accuracy: 71.36%\n",
      "\n",
      "Cross Validated Score: 73.43%\n",
      "\n",
      "Optimal Parameters: {'criterion': 'entropy', 'max_depth': 6, 'min_samples_leaf': 6, 'min_samples_split': 5, 'n_estimators': 30}\n"
     ]
    }
   ],
   "source": [
    "# Print metrics\n",
    "\n",
    "print(\"---Random Forest Base Model---\")\n",
    "model_accuracy(model_rf)\n",
    "print(\"\")\n",
    "print(\"---Grid Search Model---\")\n",
    "model_accuracy(rf_grid_search)\n",
    "print(\"\")\n",
    "print(f\"Cross Validated Score: {rf_grid_search.best_score_ :.2%}\")\n",
    "print(\"\")\n",
    "print(f\"Optimal Parameters: {rf_grid_search.best_params_}\")"
   ]
  },
  {
   "cell_type": "code",
   "execution_count": 92,
   "metadata": {},
   "outputs": [
    {
     "data": {
      "text/plain": [
       "{'criterion': 'entropy',\n",
       " 'max_depth': 6,\n",
       " 'min_samples_leaf': 6,\n",
       " 'min_samples_split': 5,\n",
       " 'n_estimators': 30}"
      ]
     },
     "execution_count": 92,
     "metadata": {},
     "output_type": "execute_result"
    }
   ],
   "source": [
    "rf_grid_search.best_params_"
   ]
  },
  {
   "cell_type": "code",
   "execution_count": 93,
   "metadata": {},
   "outputs": [
    {
     "name": "stdout",
     "output_type": "stream",
     "text": [
      "Training Accuracy: 75.07%\n",
      "Test Accuracy: 71.66%\n"
     ]
    }
   ],
   "source": [
    "model = RandomForestClassifier(**rf_grid_search.best_params_)\n",
    "\n",
    "model.fit(X_train, y_train)\n",
    "\n",
    "model_accuracy(model)"
   ]
  },
  {
   "cell_type": "code",
   "execution_count": 94,
   "metadata": {
    "ExecuteTime": {
     "end_time": "2021-05-24T22:09:07.455422Z",
     "start_time": "2021-05-24T22:09:06.743638Z"
    }
   },
   "outputs": [
    {
     "name": "stdout",
     "output_type": "stream",
     "text": [
      "              precision    recall  f1-score   support\n",
      "\n",
      "           0       0.71      0.72      0.72      1493\n",
      "           1       0.71      0.70      0.71      1471\n",
      "\n",
      "    accuracy                           0.71      2964\n",
      "   macro avg       0.71      0.71      0.71      2964\n",
      "weighted avg       0.71      0.71      0.71      2964\n",
      "\n"
     ]
    },
    {
     "data": {
      "image/png": "[encoded data removed]",
      "text/plain": [
       "<Figure size 720x288 with 3 Axes>"
      ]
     },
     "metadata": {
      "needs_background": "light"
     },
     "output_type": "display_data"
    }
   ],
   "source": [
    "evaluate_classification(rf_grid_search, X_test, y_test)"
   ]
  },
  {
   "cell_type": "markdown",
   "metadata": {},
   "source": [
    "### Feature Importances"
   ]
  },
  {
   "cell_type": "code",
   "execution_count": 95,
   "metadata": {
    "ExecuteTime": {
     "end_time": "2021-05-24T22:18:09.226816Z",
     "start_time": "2021-05-24T22:18:07.323938Z"
    }
   },
   "outputs": [
    {
     "name": "stdout",
     "output_type": "stream",
     "text": [
      "Training Accuracy: 75.39%\n",
      "Test Accuracy: 71.83%\n"
     ]
    },
    {
     "data": {
      "image/png": "[encoded data removed]",
      "text/plain": [
       "<Figure size 576x432 with 1 Axes>"
      ]
     },
     "metadata": {
      "needs_background": "light"
     },
     "output_type": "display_data"
    }
   ],
   "source": [
    "def feature_graph(model, X_train, X_test, y_train=y_train, y_test=y_test):    \n",
    "    model = model\n",
    "    model.fit(X_train, y_train)\n",
    "    feature_importance = pd.Series(model.feature_importances_, index=X_train.columns).sort_values(ascending=True)\n",
    "    model_accuracy(model, X_train=X_train, y_train=y_train, X_test=X_test, y_test=y_test)\n",
    "    ax = feature_importance.plot(kind='barh', figsize=(8,6))\n",
    "\n",
    "rf_model = RandomForestClassifier(**rf_grid_search.best_params_)\n",
    "    \n",
    "feature_graph(rf_model, X_train, X_test)\n"
   ]
  },
  {
   "cell_type": "code",
   "execution_count": 96,
   "metadata": {
    "ExecuteTime": {
     "end_time": "2021-05-24T22:08:21.787054Z",
     "start_time": "2021-05-24T22:08:20.469476Z"
    },
    "scrolled": false
   },
   "outputs": [
    {
     "name": "stdout",
     "output_type": "stream",
     "text": [
      "Training Accuracy: 74.19%\n",
      "Test Accuracy: 69.94%\n"
     ]
    },
    {
     "data": {
      "image/png": "[encoded data removed]",
      "text/plain": [
       "<Figure size 576x432 with 1 Axes>"
      ]
     },
     "metadata": {
      "needs_background": "light"
     },
     "output_type": "display_data"
    }
   ],
   "source": [
    "X_train_coeff = X_train.drop(['TotalGold', 'TotalExperience', 'AvgLevel'],axis=1)\n",
    "X_test_coeff = X_test.drop(['TotalGold', 'TotalExperience', 'AvgLevel'],axis=1)\n",
    "\n",
    "feature_graph(rf_model, X_train_coeff, X_test_coeff)"
   ]
  },
  {
   "cell_type": "markdown",
   "metadata": {},
   "source": [
    "## XGBoost"
   ]
  },
  {
   "cell_type": "code",
   "execution_count": 97,
   "metadata": {
    "ExecuteTime": {
     "end_time": "2021-05-24T22:09:08.075209Z",
     "start_time": "2021-05-24T22:09:07.458407Z"
    }
   },
   "outputs": [
    {
     "ename": "ValueError",
     "evalue": "feature_names mismatch: ['blueWardsPlaced', 'blueWardsDestroyed', 'blueKills', 'blueAssists', 'blueTowersDestroyed', 'blueTotalGold', 'blueAvgLevel', 'blueTotalExperience', 'blueTotalMinionsKilled', 'blueTotalJungleMinionsKilled', 'redWardsPlaced', 'redWardsDestroyed', 'redKills', 'redAssists', 'redTowersDestroyed', 'redTotalGold', 'redAvgLevel', 'redTotalExperience', 'redTotalMinionsKilled', 'redTotalJungleMinionsKilled', 'firstBlood_Red', 'dragon_Blue', 'dragon_No Dragon', 'dragon_Red', 'herald_Blue', 'herald_No Herald', 'herald_Red'] ['WardsPlaced', 'WardsDestroyed', 'Kills', 'Assists', 'TowersDestroyed', 'TotalGold', 'AvgLevel', 'TotalExperience', 'TotalMinionsKilled', 'TotalJungleMinionsKilled', 'firstBlood_Red', 'dragon_Blue', 'dragon_No Dragon', 'dragon_Red', 'herald_Blue', 'herald_No Herald', 'herald_Red']\nexpected blueTotalJungleMinionsKilled, blueWardsPlaced, blueWardsDestroyed, blueTotalExperience, redWardsDestroyed, redTotalJungleMinionsKilled, redTotalGold, blueAssists, blueTotalGold, blueAvgLevel, redTowersDestroyed, blueTowersDestroyed, redWardsPlaced, blueTotalMinionsKilled, redKills, blueKills, redAssists, redTotalExperience, redAvgLevel, redTotalMinionsKilled in input data\ntraining data did not have the following fields: WardsDestroyed, Assists, TotalJungleMinionsKilled, AvgLevel, TotalMinionsKilled, TotalExperience, Kills, WardsPlaced, TotalGold, TowersDestroyed",
     "output_type": "error",
     "traceback": [
      "\u001b[1;31m---------------------------------------------------------------------------\u001b[0m",
      "\u001b[1;31mValueError\u001b[0m                                Traceback (most recent call last)",
      "\u001b[1;32m<ipython-input-97-e06d7f014ff8>\u001b[0m in \u001b[0;36m<module>\u001b[1;34m\u001b[0m\n\u001b[0;32m      3\u001b[0m \u001b[0mmodel_xgb\u001b[0m\u001b[1;33m.\u001b[0m\u001b[0mfit\u001b[0m\u001b[1;33m(\u001b[0m\u001b[0mX_train_br\u001b[0m\u001b[1;33m,\u001b[0m \u001b[0my_train\u001b[0m\u001b[1;33m)\u001b[0m\u001b[1;33m\u001b[0m\u001b[1;33m\u001b[0m\u001b[0m\n\u001b[0;32m      4\u001b[0m \u001b[1;33m\u001b[0m\u001b[0m\n\u001b[1;32m----> 5\u001b[1;33m \u001b[0mmodel_accuracy\u001b[0m\u001b[1;33m(\u001b[0m\u001b[0mmodel_xgb\u001b[0m\u001b[1;33m)\u001b[0m\u001b[1;33m\u001b[0m\u001b[1;33m\u001b[0m\u001b[0m\n\u001b[0m",
      "\u001b[1;32m<ipython-input-70-7e4d75e8d02b>\u001b[0m in \u001b[0;36mmodel_accuracy\u001b[1;34m(model, X_train, y_train, X_test, y_test)\u001b[0m\n\u001b[0;32m      1\u001b[0m \u001b[1;32mdef\u001b[0m \u001b[0mmodel_accuracy\u001b[0m\u001b[1;33m(\u001b[0m\u001b[0mmodel\u001b[0m\u001b[1;33m,\u001b[0m \u001b[0mX_train\u001b[0m\u001b[1;33m=\u001b[0m\u001b[0mX_train\u001b[0m\u001b[1;33m,\u001b[0m \u001b[0my_train\u001b[0m\u001b[1;33m=\u001b[0m\u001b[0my_train\u001b[0m\u001b[1;33m,\u001b[0m \u001b[0mX_test\u001b[0m\u001b[1;33m=\u001b[0m\u001b[0mX_test\u001b[0m\u001b[1;33m,\u001b[0m \u001b[0my_test\u001b[0m\u001b[1;33m=\u001b[0m\u001b[0my_test\u001b[0m\u001b[1;33m)\u001b[0m\u001b[1;33m:\u001b[0m\u001b[1;33m\u001b[0m\u001b[1;33m\u001b[0m\u001b[0m\n\u001b[1;32m----> 2\u001b[1;33m     \u001b[0mprint\u001b[0m\u001b[1;33m(\u001b[0m\u001b[1;34mf'Training Accuracy: {model.score(X_train,y_train):.2%}'\u001b[0m\u001b[1;33m)\u001b[0m\u001b[1;33m\u001b[0m\u001b[1;33m\u001b[0m\u001b[0m\n\u001b[0m\u001b[0;32m      3\u001b[0m     \u001b[0mprint\u001b[0m\u001b[1;33m(\u001b[0m\u001b[1;34mf'Test Accuracy: {model.score(X_test,y_test):.2%}'\u001b[0m\u001b[1;33m)\u001b[0m\u001b[1;33m\u001b[0m\u001b[1;33m\u001b[0m\u001b[0m\n\u001b[0;32m      4\u001b[0m \u001b[1;33m\u001b[0m\u001b[0m\n\u001b[0;32m      5\u001b[0m \u001b[0mmodel_accuracy\u001b[0m\u001b[1;33m(\u001b[0m\u001b[0mmodel_log\u001b[0m\u001b[1;33m)\u001b[0m\u001b[1;33m\u001b[0m\u001b[1;33m\u001b[0m\u001b[0m\n",
      "\u001b[1;32m~\\anaconda3\\envs\\learn-env\\lib\\site-packages\\sklearn\\base.py\u001b[0m in \u001b[0;36mscore\u001b[1;34m(self, X, y, sample_weight)\u001b[0m\n\u001b[0;32m    497\u001b[0m         \"\"\"\n\u001b[0;32m    498\u001b[0m         \u001b[1;32mfrom\u001b[0m \u001b[1;33m.\u001b[0m\u001b[0mmetrics\u001b[0m \u001b[1;32mimport\u001b[0m \u001b[0maccuracy_score\u001b[0m\u001b[1;33m\u001b[0m\u001b[1;33m\u001b[0m\u001b[0m\n\u001b[1;32m--> 499\u001b[1;33m         \u001b[1;32mreturn\u001b[0m \u001b[0maccuracy_score\u001b[0m\u001b[1;33m(\u001b[0m\u001b[0my\u001b[0m\u001b[1;33m,\u001b[0m \u001b[0mself\u001b[0m\u001b[1;33m.\u001b[0m\u001b[0mpredict\u001b[0m\u001b[1;33m(\u001b[0m\u001b[0mX\u001b[0m\u001b[1;33m)\u001b[0m\u001b[1;33m,\u001b[0m \u001b[0msample_weight\u001b[0m\u001b[1;33m=\u001b[0m\u001b[0msample_weight\u001b[0m\u001b[1;33m)\u001b[0m\u001b[1;33m\u001b[0m\u001b[1;33m\u001b[0m\u001b[0m\n\u001b[0m\u001b[0;32m    500\u001b[0m \u001b[1;33m\u001b[0m\u001b[0m\n\u001b[0;32m    501\u001b[0m     \u001b[1;32mdef\u001b[0m \u001b[0m_more_tags\u001b[0m\u001b[1;33m(\u001b[0m\u001b[0mself\u001b[0m\u001b[1;33m)\u001b[0m\u001b[1;33m:\u001b[0m\u001b[1;33m\u001b[0m\u001b[1;33m\u001b[0m\u001b[0m\n",
      "\u001b[1;32m~\\anaconda3\\envs\\learn-env\\lib\\site-packages\\xgboost\\sklearn.py\u001b[0m in \u001b[0;36mpredict\u001b[1;34m(self, data, output_margin, ntree_limit, validate_features, base_margin)\u001b[0m\n\u001b[0;32m    892\u001b[0m         \u001b[1;32mif\u001b[0m \u001b[0mntree_limit\u001b[0m \u001b[1;32mis\u001b[0m \u001b[1;32mNone\u001b[0m\u001b[1;33m:\u001b[0m\u001b[1;33m\u001b[0m\u001b[1;33m\u001b[0m\u001b[0m\n\u001b[0;32m    893\u001b[0m             \u001b[0mntree_limit\u001b[0m \u001b[1;33m=\u001b[0m \u001b[0mgetattr\u001b[0m\u001b[1;33m(\u001b[0m\u001b[0mself\u001b[0m\u001b[1;33m,\u001b[0m \u001b[1;34m\"best_ntree_limit\"\u001b[0m\u001b[1;33m,\u001b[0m \u001b[1;36m0\u001b[0m\u001b[1;33m)\u001b[0m\u001b[1;33m\u001b[0m\u001b[1;33m\u001b[0m\u001b[0m\n\u001b[1;32m--> 894\u001b[1;33m         class_probs = self.get_booster().predict(\n\u001b[0m\u001b[0;32m    895\u001b[0m             \u001b[0mtest_dmatrix\u001b[0m\u001b[1;33m,\u001b[0m\u001b[1;33m\u001b[0m\u001b[1;33m\u001b[0m\u001b[0m\n\u001b[0;32m    896\u001b[0m             \u001b[0moutput_margin\u001b[0m\u001b[1;33m=\u001b[0m\u001b[0moutput_margin\u001b[0m\u001b[1;33m,\u001b[0m\u001b[1;33m\u001b[0m\u001b[1;33m\u001b[0m\u001b[0m\n",
      "\u001b[1;32m~\\anaconda3\\envs\\learn-env\\lib\\site-packages\\xgboost\\core.py\u001b[0m in \u001b[0;36mpredict\u001b[1;34m(self, data, output_margin, ntree_limit, pred_leaf, pred_contribs, approx_contribs, pred_interactions, validate_features, training)\u001b[0m\n\u001b[0;32m   1362\u001b[0m \u001b[1;33m\u001b[0m\u001b[0m\n\u001b[0;32m   1363\u001b[0m         \u001b[1;32mif\u001b[0m \u001b[0mvalidate_features\u001b[0m\u001b[1;33m:\u001b[0m\u001b[1;33m\u001b[0m\u001b[1;33m\u001b[0m\u001b[0m\n\u001b[1;32m-> 1364\u001b[1;33m             \u001b[0mself\u001b[0m\u001b[1;33m.\u001b[0m\u001b[0m_validate_features\u001b[0m\u001b[1;33m(\u001b[0m\u001b[0mdata\u001b[0m\u001b[1;33m)\u001b[0m\u001b[1;33m\u001b[0m\u001b[1;33m\u001b[0m\u001b[0m\n\u001b[0m\u001b[0;32m   1365\u001b[0m \u001b[1;33m\u001b[0m\u001b[0m\n\u001b[0;32m   1366\u001b[0m         \u001b[0mlength\u001b[0m \u001b[1;33m=\u001b[0m \u001b[0mc_bst_ulong\u001b[0m\u001b[1;33m(\u001b[0m\u001b[1;33m)\u001b[0m\u001b[1;33m\u001b[0m\u001b[1;33m\u001b[0m\u001b[0m\n",
      "\u001b[1;32m~\\anaconda3\\envs\\learn-env\\lib\\site-packages\\xgboost\\core.py\u001b[0m in \u001b[0;36m_validate_features\u001b[1;34m(self, data)\u001b[0m\n\u001b[0;32m   1933\u001b[0m                             ', '.join(str(s) for s in my_missing))\n\u001b[0;32m   1934\u001b[0m \u001b[1;33m\u001b[0m\u001b[0m\n\u001b[1;32m-> 1935\u001b[1;33m                 raise ValueError(msg.format(self.feature_names,\n\u001b[0m\u001b[0;32m   1936\u001b[0m                                             data.feature_names))\n\u001b[0;32m   1937\u001b[0m \u001b[1;33m\u001b[0m\u001b[0m\n",
      "\u001b[1;31mValueError\u001b[0m: feature_names mismatch: ['blueWardsPlaced', 'blueWardsDestroyed', 'blueKills', 'blueAssists', 'blueTowersDestroyed', 'blueTotalGold', 'blueAvgLevel', 'blueTotalExperience', 'blueTotalMinionsKilled', 'blueTotalJungleMinionsKilled', 'redWardsPlaced', 'redWardsDestroyed', 'redKills', 'redAssists', 'redTowersDestroyed', 'redTotalGold', 'redAvgLevel', 'redTotalExperience', 'redTotalMinionsKilled', 'redTotalJungleMinionsKilled', 'firstBlood_Red', 'dragon_Blue', 'dragon_No Dragon', 'dragon_Red', 'herald_Blue', 'herald_No Herald', 'herald_Red'] ['WardsPlaced', 'WardsDestroyed', 'Kills', 'Assists', 'TowersDestroyed', 'TotalGold', 'AvgLevel', 'TotalExperience', 'TotalMinionsKilled', 'TotalJungleMinionsKilled', 'firstBlood_Red', 'dragon_Blue', 'dragon_No Dragon', 'dragon_Red', 'herald_Blue', 'herald_No Herald', 'herald_Red']\nexpected blueTotalJungleMinionsKilled, blueWardsPlaced, blueWardsDestroyed, blueTotalExperience, redWardsDestroyed, redTotalJungleMinionsKilled, redTotalGold, blueAssists, blueTotalGold, blueAvgLevel, redTowersDestroyed, blueTowersDestroyed, redWardsPlaced, blueTotalMinionsKilled, redKills, blueKills, redAssists, redTotalExperience, redAvgLevel, redTotalMinionsKilled in input data\ntraining data did not have the following fields: WardsDestroyed, Assists, TotalJungleMinionsKilled, AvgLevel, TotalMinionsKilled, TotalExperience, Kills, WardsPlaced, TotalGold, TowersDestroyed"
     ]
    }
   ],
   "source": [
    "# Initiate and train XGB model\n",
    "model_xgb = XGBClassifier()\n",
    "model_xgb.fit(X_train_br, y_train)\n",
    "\n",
    "model_accuracy(model_xgb)"
   ]
  },
  {
   "cell_type": "code",
   "execution_count": null,
   "metadata": {
    "ExecuteTime": {
     "end_time": "2021-05-24T22:09:12.710722Z",
     "start_time": "2021-05-24T22:09:08.078208Z"
    }
   },
   "outputs": [],
   "source": [
    "cross_val_check('XGBoost', model_xgb)"
   ]
  },
  {
   "cell_type": "code",
   "execution_count": null,
   "metadata": {
    "ExecuteTime": {
     "end_time": "2021-05-24T22:09:12.725718Z",
     "start_time": "2021-05-24T22:09:12.713724Z"
    }
   },
   "outputs": [],
   "source": [
    "param_grid = {\n",
    "    'learning_rate': [0.0001, 0.001, 0.01, 0.1],\n",
    "    'max_depth': [3, 5, 7, 9],\n",
    "    'min_child_weight': [1, 2],\n",
    "    'subsample': [0.5, 0.7, 1],\n",
    "    'n_estimators': [10, 100, 1000]}\n"
   ]
  },
  {
   "cell_type": "code",
   "execution_count": null,
   "metadata": {
    "ExecuteTime": {
     "end_time": "2021-05-24T22:09:38.849341Z",
     "start_time": "2021-05-24T22:09:12.728717Z"
    }
   },
   "outputs": [],
   "source": [
    "run = False\n",
    "\n",
    "if run == True:\n",
    "\n",
    "    model_xgb_hp = XGBClassifier()\n",
    "\n",
    "    xgb_grid_search = GridSearchCV(model_xgb_hp, param_grid, scoring='accuracy', cv=None, n_jobs=-1, verbose=100)\n",
    "    xgb_grid_search.fit(X_train, y_train)\n",
    "\n",
    "    model_accuracy(xgb_grid_search)\n",
    "    \n",
    "    xgb_best_parameters = xgb_grid_search.best_params_\n",
    "\n",
    "    print(f\"Cross Validated Score: {xgb_grid_search.best_score_ :.2%}\")\n",
    "    print(\"\")\n",
    "    print(f\"Optimal Parameters: {xgb_grid_search.best_params_}\")\n",
    "    \n",
    "else:\n",
    "    xgb_best_parameters = {\n",
    "    'learning_rate': 0.01,\n",
    "    'max_depth': 3,\n",
    "    'min_child_weight': 1,\n",
    "    'subsample': 0.5,\n",
    "    'n_estimators': 100\n",
    "    }\n",
    "\n",
    "    model_xgb_hp = XGBClassifier(**xgb_best_parameters)\n",
    "    model_xgb_hp.fit(X_train, y_train)\n",
    "    model_accuracy(model_xgb_hp)"
   ]
  },
  {
   "cell_type": "code",
   "execution_count": null,
   "metadata": {
    "ExecuteTime": {
     "end_time": "2021-05-24T22:09:45.003374Z",
     "start_time": "2021-05-24T22:09:44.186633Z"
    }
   },
   "outputs": [],
   "source": [
    "evaluate_classification(model_xgb_hp, X_test, y_test)"
   ]
  },
  {
   "cell_type": "code",
   "execution_count": null,
   "metadata": {
    "ExecuteTime": {
     "end_time": "2021-05-24T22:09:52.045953Z",
     "start_time": "2021-05-24T22:09:45.861951Z"
    }
   },
   "outputs": [],
   "source": [
    "feature_graph(model_xgb_hp, X_train, X_test)"
   ]
  },
  {
   "cell_type": "code",
   "execution_count": null,
   "metadata": {
    "ExecuteTime": {
     "end_time": "2021-05-24T22:09:57.743997Z",
     "start_time": "2021-05-24T22:09:52.048951Z"
    }
   },
   "outputs": [],
   "source": [
    "X_train_feat_xgb = X_train.drop(['TotalGold', 'TotalExperience', 'AvgLevel'],axis=1)\n",
    "X_test_feat_xgb = X_test.drop(['TotalGold', 'TotalExperience', 'AvgLevel'],axis=1)\n",
    "\n",
    "feature_graph(model_xgb_hp, X_train_feat_xgb, X_test_feat_xgb)"
   ]
  },
  {
   "cell_type": "code",
   "execution_count": null,
   "metadata": {},
   "outputs": [],
   "source": []
  },
  {
   "cell_type": "code",
   "execution_count": null,
   "metadata": {},
   "outputs": [],
   "source": []
  },
  {
   "cell_type": "code",
   "execution_count": null,
   "metadata": {},
   "outputs": [],
   "source": []
  },
  {
   "cell_type": "code",
   "execution_count": null,
   "metadata": {},
   "outputs": [],
   "source": []
  },
  {
   "cell_type": "code",
   "execution_count": null,
   "metadata": {},
   "outputs": [],
   "source": []
  },
  {
   "cell_type": "markdown",
   "metadata": {},
   "source": [
    "# iNTERPRET"
   ]
  },
  {
   "cell_type": "markdown",
   "metadata": {},
   "source": [
    "Evaluate how well your work solves the stated business problem.\n",
    "\n",
    "***\n",
    "Questions to consider:\n",
    "* How do you interpret the results?\n",
    "* How well does your model fit your data? How much better is this than your baseline model?\n",
    "* How confident are you that your results would generalize beyond the data you have?\n",
    "* How confident are you that this model would benefit the business if put into use?\n",
    "***"
   ]
  },
  {
   "cell_type": "code",
   "execution_count": null,
   "metadata": {},
   "outputs": [],
   "source": []
  },
  {
   "cell_type": "markdown",
   "metadata": {},
   "source": [
    "# CONCLUSIONS & RECOMMENDATIONS"
   ]
  },
  {
   "cell_type": "markdown",
   "metadata": {},
   "source": [
    "Provide your conclusions about the work you've done, including any limitations or next steps.\n",
    "\n",
    "***\n",
    "Questions to consider:\n",
    "* What would you recommend the business do as a result of this work?\n",
    "* What are some reasons why your analysis might not fully solve the business problem?\n",
    "* What else could you do in the future to improve this project?\n",
    "***"
   ]
  },
  {
   "cell_type": "code",
   "execution_count": null,
   "metadata": {
    "ExecuteTime": {
     "end_time": "2021-05-24T22:07:17.032151Z",
     "start_time": "2021-05-24T22:07:17.020156Z"
    }
   },
   "outputs": [],
   "source": [
    "\n",
    "# Create function used to find Precision, Recall, Accuracy, and F1 Scores.\n",
    "def print_metrics(labels, preds):\n",
    "    print(\"Precision Score: {}\".format(precision_score(labels, preds)))\n",
    "    print(\"Recall Score: {}\".format(recall_score(labels, preds)))\n",
    "    print(\"Accuracy Score: {}\".format(accuracy_score(labels, preds)))\n",
    "    print(\"F1 Score: {}\".format(f1_score(labels, preds)))\n",
    "    \n",
    "\n",
    "            \n",
    "    print(\"Best Value for k: {}\".format(best_k))\n",
    "    print(\"F1-Score: {}\".format(best_score))\n",
    "\n",
    "# Create a function that visualizes the confusion matrix for the model.    \n",
    "def plot_cm(model, normalize='true'):\n",
    "    fig, ax = plt.subplots(figsize=(8, 8))\n",
    "    plt.grid(False)\n",
    "    plot_confusion_matrix(model, X_test, y_test, cmap='Blues', ax=ax, normalize=normalize)\n"
   ]
  },
  {
   "cell_type": "code",
   "execution_count": 27,
   "metadata": {},
   "outputs": [],
   "source": [
    "def tt_split_df(df):\n",
    "    \n",
    "    y = df['blueWins']\n",
    "    X = df.drop(columns=['blueWins'], axis=1)\n",
    "    \n",
    "    X_train, X_test, y_train, y_test = train_test_split(X, y, test_size=0.3)\n",
    "    \n",
    "    X_train_tf = X_train.copy()\n",
    "    X_test_tf = X_test.copy()\n",
    "    \n",
    "    categoricals = X.select_dtypes('O').columns\n",
    "    numericals = X.select_dtypes('number').columns\n",
    "    \n",
    "    encoder = OneHotEncoder(sparse=False,drop='if_binary')\n",
    "    train_categoricals = encoder.fit_transform(X_train_tf[categoricals])\n",
    "    test_categoricals = encoder.transform(X_test_tf[categoricals])\n",
    "    \n",
    "    train_categoricals_df = pd.DataFrame(train_categoricals,\n",
    "                                     columns=encoder.get_feature_names(categoricals))\n",
    "\n",
    "    test_categoricals_df =  pd.DataFrame(test_categoricals,\n",
    "                                     columns=encoder.get_feature_names(categoricals))\n",
    "    train_numericals_df = pd.DataFrame(scaler.fit_transform(X_train_tf[numericals]),\n",
    "                              columns=numericals)\n",
    "\n",
    "    test_numericals_df = pd.DataFrame(scaler.transform(X_test_tf[numericals]),\n",
    "                              columns=numericals)\n",
    "    \n",
    "    X_train_tf = pd.concat([train_numericals_df, train_categoricals_df], axis=1)\n",
    "    X_test_tf = pd.concat([test_numericals_df, test_categoricals_df], axis=1)\n",
    "    \n",
    "    return X_train_tf, X_test_tf, y_train, y_test\n",
    "\n",
    "# tt_split_df(diff_df)\n",
    "\n",
    "X_train, X_test, y_train, y_test = tt_split_df(df)"
   ]
  },
  {
   "cell_type": "code",
   "execution_count": 28,
   "metadata": {
    "ExecuteTime": {
     "end_time": "2021-05-24T22:07:22.857284Z",
     "start_time": "2021-05-24T22:07:22.797305Z"
    }
   },
   "outputs": [
    {
     "name": "stdout",
     "output_type": "stream",
     "text": [
      "Training Accuracy: 73.28%\n",
      "Test Accuracy: 73.28%\n"
     ]
    }
   ],
   "source": [
    "# Initiate and train model\n",
    "def model_accuracy(model, X_train=X_train, y_train=y_train, X_test=X_test, y_test=y_test):\n",
    "    print(f'Training Accuracy: {model.score(X_train,y_train):.2%}')\n",
    "    print(f'Test Accuracy: {model.score(X_test,y_test):.2%}')\n",
    "\n",
    "# model_accuracy(model_log)\n",
    "\n",
    "\n",
    "model_log = LogisticRegression()\n",
    "\n",
    "model_log.fit(X_train, y_train)\n",
    "\n",
    "model_accuracy(model_log, X_train=X_train, X_test=X_test)"
   ]
  },
  {
   "cell_type": "code",
   "execution_count": null,
   "metadata": {},
   "outputs": [],
   "source": [
    "X_train_br"
   ]
  },
  {
   "cell_type": "code",
   "execution_count": null,
   "metadata": {},
   "outputs": [],
   "source": [
    "X_train_br, X_test_br, y_train, y_test = tt_split_df(df_blue_red)\n",
    "\n",
    "mod = LogisticRegression()\n",
    "\n",
    "mod.fit(X_train_br, y_train)\n",
    "\n",
    "model_accuracy(mod, X_train=X_train_br, X_test=X_test_br)\n",
    "# model_accuracy(mod)"
   ]
  },
  {
   "cell_type": "code",
   "execution_count": 29,
   "metadata": {
    "ExecuteTime": {
     "end_time": "2021-05-24T22:09:12.725718Z",
     "start_time": "2021-05-24T22:09:12.713724Z"
    }
   },
   "outputs": [],
   "source": [
    "param_grid = {\n",
    "    'learning_rate': [0.0001, 0.001, 0.01, 0.1],\n",
    "    'max_depth': [3, 5, 7, 9],\n",
    "    'min_child_weight': [1, 2],\n",
    "    'subsample': [0.5, 0.7, 1],\n",
    "    'n_estimators': [10, 100, 1000]}\n"
   ]
  },
  {
   "cell_type": "code",
   "execution_count": 32,
   "metadata": {
    "ExecuteTime": {
     "end_time": "2021-05-24T22:09:38.849341Z",
     "start_time": "2021-05-24T22:09:12.728717Z"
    }
   },
   "outputs": [
    {
     "name": "stdout",
     "output_type": "stream",
     "text": [
      "Fitting 5 folds for each of 288 candidates, totalling 1440 fits\n",
      "[Parallel(n_jobs=-1)]: Using backend LokyBackend with 16 concurrent workers.\n",
      "[Parallel(n_jobs=-1)]: Done   1 tasks      | elapsed:    0.0s\n",
      "[Parallel(n_jobs=-1)]: Batch computation too fast (0.1170s.) Setting batch_size=2.\n",
      "[Parallel(n_jobs=-1)]: Done   2 tasks      | elapsed:    0.1s\n",
      "[Parallel(n_jobs=-1)]: Done   3 tasks      | elapsed:    0.1s\n",
      "[Parallel(n_jobs=-1)]: Done   4 tasks      | elapsed:    0.1s\n",
      "[Parallel(n_jobs=-1)]: Done   5 tasks      | elapsed:    0.1s\n",
      "[Parallel(n_jobs=-1)]: Done   6 tasks      | elapsed:    0.1s\n",
      "[Parallel(n_jobs=-1)]: Done   7 tasks      | elapsed:    0.1s\n",
      "[Parallel(n_jobs=-1)]: Done   8 tasks      | elapsed:    0.1s\n",
      "[Parallel(n_jobs=-1)]: Done   9 tasks      | elapsed:    0.1s\n",
      "[Parallel(n_jobs=-1)]: Done  10 tasks      | elapsed:    0.1s\n",
      "[Parallel(n_jobs=-1)]: Done  11 tasks      | elapsed:    0.1s\n",
      "[Parallel(n_jobs=-1)]: Done  12 tasks      | elapsed:    0.1s\n",
      "[Parallel(n_jobs=-1)]: Done  13 tasks      | elapsed:    0.1s\n",
      "[Parallel(n_jobs=-1)]: Done  14 tasks      | elapsed:    0.1s\n",
      "[Parallel(n_jobs=-1)]: Done  15 tasks      | elapsed:    0.1s\n",
      "[Parallel(n_jobs=-1)]: Done  16 tasks      | elapsed:    0.7s\n",
      "[Parallel(n_jobs=-1)]: Done  17 tasks      | elapsed:    0.7s\n",
      "[Parallel(n_jobs=-1)]: Done  18 tasks      | elapsed:    0.7s\n",
      "[Parallel(n_jobs=-1)]: Done  19 tasks      | elapsed:    0.7s\n",
      "[Parallel(n_jobs=-1)]: Done  20 tasks      | elapsed:    0.7s\n",
      "[Parallel(n_jobs=-1)]: Done  21 tasks      | elapsed:    0.7s\n",
      "[Parallel(n_jobs=-1)]: Done  22 tasks      | elapsed:    0.7s\n",
      "[Parallel(n_jobs=-1)]: Done  23 tasks      | elapsed:    0.8s\n",
      "[Parallel(n_jobs=-1)]: Done  24 tasks      | elapsed:    0.8s\n",
      "[Parallel(n_jobs=-1)]: Done  25 tasks      | elapsed:    0.8s\n",
      "[Parallel(n_jobs=-1)]: Done  26 tasks      | elapsed:    0.8s\n",
      "[Parallel(n_jobs=-1)]: Done  27 tasks      | elapsed:    0.8s\n",
      "[Parallel(n_jobs=-1)]: Done  28 tasks      | elapsed:    0.8s\n",
      "[Parallel(n_jobs=-1)]: Done  29 tasks      | elapsed:    0.8s\n",
      "[Parallel(n_jobs=-1)]: Done  30 tasks      | elapsed:    0.8s\n",
      "[Parallel(n_jobs=-1)]: Done  32 tasks      | elapsed:    0.9s\n",
      "[Parallel(n_jobs=-1)]: Done  34 tasks      | elapsed:    1.0s\n",
      "[Parallel(n_jobs=-1)]: Done  36 tasks      | elapsed:    1.0s\n",
      "[Parallel(n_jobs=-1)]: Done  38 tasks      | elapsed:    1.0s\n",
      "[Parallel(n_jobs=-1)]: Done  40 tasks      | elapsed:    1.0s\n",
      "[Parallel(n_jobs=-1)]: Done  42 tasks      | elapsed:    1.0s\n",
      "[Parallel(n_jobs=-1)]: Done  44 tasks      | elapsed:    1.0s\n",
      "[Parallel(n_jobs=-1)]: Done  46 tasks      | elapsed:    2.2s\n",
      "[Parallel(n_jobs=-1)]: Done  48 tasks      | elapsed:    2.2s\n",
      "[Parallel(n_jobs=-1)]: Done  50 tasks      | elapsed:    2.3s\n",
      "[Parallel(n_jobs=-1)]: Done  52 tasks      | elapsed:    2.3s\n",
      "[Parallel(n_jobs=-1)]: Done  54 tasks      | elapsed:    2.3s\n",
      "[Parallel(n_jobs=-1)]: Done  56 tasks      | elapsed:    2.4s\n",
      "[Parallel(n_jobs=-1)]: Done  58 tasks      | elapsed:    2.4s\n",
      "[Parallel(n_jobs=-1)]: Done  60 tasks      | elapsed:    6.7s\n",
      "[Parallel(n_jobs=-1)]: Batch computation too slow (2.5369s.) Setting batch_size=1.\n",
      "[Parallel(n_jobs=-1)]: Done  61 tasks      | elapsed:    6.9s\n",
      "[Parallel(n_jobs=-1)]: Done  63 tasks      | elapsed:    7.2s\n",
      "[Parallel(n_jobs=-1)]: Done  65 tasks      | elapsed:    7.5s\n",
      "[Parallel(n_jobs=-1)]: Done  66 tasks      | elapsed:    7.6s\n",
      "[Parallel(n_jobs=-1)]: Done  68 tasks      | elapsed:    7.8s\n",
      "[Parallel(n_jobs=-1)]: Done  70 tasks      | elapsed:    7.9s\n",
      "[Parallel(n_jobs=-1)]: Done  72 tasks      | elapsed:    8.0s\n",
      "[Parallel(n_jobs=-1)]: Done  74 tasks      | elapsed:    8.2s\n",
      "[Parallel(n_jobs=-1)]: Done  76 tasks      | elapsed:    8.3s\n",
      "[Parallel(n_jobs=-1)]: Done  78 tasks      | elapsed:    9.5s\n",
      "[Parallel(n_jobs=-1)]: Done  80 tasks      | elapsed:    9.9s\n",
      "[Parallel(n_jobs=-1)]: Done  82 tasks      | elapsed:   10.7s\n",
      "[Parallel(n_jobs=-1)]: Done  84 tasks      | elapsed:   11.9s\n",
      "[Parallel(n_jobs=-1)]: Done  86 tasks      | elapsed:   12.3s\n",
      "[Parallel(n_jobs=-1)]: Done  88 tasks      | elapsed:   13.0s\n",
      "[Parallel(n_jobs=-1)]: Done  90 tasks      | elapsed:   13.2s\n",
      "[Parallel(n_jobs=-1)]: Done  92 tasks      | elapsed:   13.2s\n",
      "[Parallel(n_jobs=-1)]: Done  94 tasks      | elapsed:   14.2s\n",
      "[Parallel(n_jobs=-1)]: Done  96 tasks      | elapsed:   14.5s\n",
      "[Parallel(n_jobs=-1)]: Done  98 tasks      | elapsed:   14.5s\n",
      "[Parallel(n_jobs=-1)]: Done 100 tasks      | elapsed:   14.6s\n",
      "[Parallel(n_jobs=-1)]: Done 102 tasks      | elapsed:   14.6s\n",
      "[Parallel(n_jobs=-1)]: Done 104 tasks      | elapsed:   14.7s\n",
      "[Parallel(n_jobs=-1)]: Done 106 tasks      | elapsed:   14.8s\n",
      "[Parallel(n_jobs=-1)]: Done 108 tasks      | elapsed:   15.2s\n",
      "[Parallel(n_jobs=-1)]: Done 110 tasks      | elapsed:   15.8s\n",
      "[Parallel(n_jobs=-1)]: Done 112 tasks      | elapsed:   16.2s\n",
      "[Parallel(n_jobs=-1)]: Done 114 tasks      | elapsed:   16.3s\n",
      "[Parallel(n_jobs=-1)]: Done 115 tasks      | elapsed:   16.3s\n",
      "[Parallel(n_jobs=-1)]: Done 117 tasks      | elapsed:   16.4s\n",
      "[Parallel(n_jobs=-1)]: Done 118 tasks      | elapsed:   16.5s\n",
      "[Parallel(n_jobs=-1)]: Done 119 tasks      | elapsed:   16.5s\n",
      "[Parallel(n_jobs=-1)]: Done 120 tasks      | elapsed:   16.6s\n",
      "[Parallel(n_jobs=-1)]: Done 121 tasks      | elapsed:   16.6s\n",
      "[Parallel(n_jobs=-1)]: Done 122 tasks      | elapsed:   16.6s\n",
      "[Parallel(n_jobs=-1)]: Done 124 tasks      | elapsed:   16.7s\n",
      "[Parallel(n_jobs=-1)]: Done 125 tasks      | elapsed:   16.7s\n",
      "[Parallel(n_jobs=-1)]: Done 126 tasks      | elapsed:   16.8s\n",
      "[Parallel(n_jobs=-1)]: Done 127 tasks      | elapsed:   16.8s\n",
      "[Parallel(n_jobs=-1)]: Done 128 tasks      | elapsed:   16.9s\n",
      "[Parallel(n_jobs=-1)]: Done 129 tasks      | elapsed:   16.9s\n",
      "[Parallel(n_jobs=-1)]: Done 130 tasks      | elapsed:   16.9s\n",
      "[Parallel(n_jobs=-1)]: Done 131 tasks      | elapsed:   16.9s\n",
      "[Parallel(n_jobs=-1)]: Done 132 tasks      | elapsed:   17.0s\n",
      "[Parallel(n_jobs=-1)]: Done 133 tasks      | elapsed:   17.0s\n",
      "[Parallel(n_jobs=-1)]: Done 134 tasks      | elapsed:   18.1s\n",
      "[Parallel(n_jobs=-1)]: Done 135 tasks      | elapsed:   18.1s\n",
      "[Parallel(n_jobs=-1)]: Done 136 tasks      | elapsed:   18.2s\n",
      "[Parallel(n_jobs=-1)]: Done 137 tasks      | elapsed:   18.2s\n",
      "[Parallel(n_jobs=-1)]: Done 138 tasks      | elapsed:   19.3s\n",
      "[Parallel(n_jobs=-1)]: Done 139 tasks      | elapsed:   19.3s\n",
      "[Parallel(n_jobs=-1)]: Done 141 tasks      | elapsed:   19.3s\n",
      "[Parallel(n_jobs=-1)]: Done 142 tasks      | elapsed:   19.4s\n",
      "[Parallel(n_jobs=-1)]: Done 143 tasks      | elapsed:   19.4s\n",
      "[Parallel(n_jobs=-1)]: Done 144 tasks      | elapsed:   20.4s\n",
      "[Parallel(n_jobs=-1)]: Done 145 tasks      | elapsed:   20.5s\n",
      "[Parallel(n_jobs=-1)]: Done 146 tasks      | elapsed:   20.5s\n",
      "[Parallel(n_jobs=-1)]: Done 147 tasks      | elapsed:   20.5s\n",
      "[Parallel(n_jobs=-1)]: Done 148 tasks      | elapsed:   20.6s\n",
      "[Parallel(n_jobs=-1)]: Done 149 tasks      | elapsed:   21.5s\n",
      "[Parallel(n_jobs=-1)]: Done 150 tasks      | elapsed:   21.6s\n",
      "[Parallel(n_jobs=-1)]: Done 151 tasks      | elapsed:   24.9s\n",
      "[Parallel(n_jobs=-1)]: Done 152 tasks      | elapsed:   25.2s\n",
      "[Parallel(n_jobs=-1)]: Done 153 tasks      | elapsed:   25.6s\n",
      "[Parallel(n_jobs=-1)]: Done 154 tasks      | elapsed:   25.9s\n",
      "[Parallel(n_jobs=-1)]: Done 155 tasks      | elapsed:   26.0s\n",
      "[Parallel(n_jobs=-1)]: Done 156 tasks      | elapsed:   26.4s\n",
      "[Parallel(n_jobs=-1)]: Done 157 tasks      | elapsed:   26.5s\n",
      "[Parallel(n_jobs=-1)]: Done 158 tasks      | elapsed:   31.8s\n",
      "[Parallel(n_jobs=-1)]: Done 159 tasks      | elapsed:   31.9s\n",
      "[Parallel(n_jobs=-1)]: Done 160 tasks      | elapsed:   32.3s\n",
      "[Parallel(n_jobs=-1)]: Done 161 tasks      | elapsed:   32.8s\n",
      "[Parallel(n_jobs=-1)]: Done 162 tasks      | elapsed:   32.9s\n",
      "[Parallel(n_jobs=-1)]: Done 163 tasks      | elapsed:   33.0s\n",
      "[Parallel(n_jobs=-1)]: Done 164 tasks      | elapsed:   33.1s\n",
      "[Parallel(n_jobs=-1)]: Done 165 tasks      | elapsed:   33.2s\n",
      "[Parallel(n_jobs=-1)]: Done 166 tasks      | elapsed:   33.3s\n",
      "[Parallel(n_jobs=-1)]: Done 167 tasks      | elapsed:   33.4s\n",
      "[Parallel(n_jobs=-1)]: Done 168 tasks      | elapsed:   33.5s\n",
      "[Parallel(n_jobs=-1)]: Done 169 tasks      | elapsed:   33.6s\n",
      "[Parallel(n_jobs=-1)]: Done 170 tasks      | elapsed:   33.7s\n",
      "[Parallel(n_jobs=-1)]: Done 171 tasks      | elapsed:   33.8s\n",
      "[Parallel(n_jobs=-1)]: Done 172 tasks      | elapsed:   33.9s\n",
      "[Parallel(n_jobs=-1)]: Done 173 tasks      | elapsed:   34.0s\n"
     ]
    },
    {
     "name": "stdout",
     "output_type": "stream",
     "text": [
      "[Parallel(n_jobs=-1)]: Done 174 tasks      | elapsed:   34.1s\n",
      "[Parallel(n_jobs=-1)]: Done 175 tasks      | elapsed:   34.2s\n",
      "[Parallel(n_jobs=-1)]: Done 176 tasks      | elapsed:   34.3s\n",
      "[Parallel(n_jobs=-1)]: Done 177 tasks      | elapsed:   34.4s\n",
      "[Parallel(n_jobs=-1)]: Done 178 tasks      | elapsed:   36.1s\n",
      "[Parallel(n_jobs=-1)]: Done 179 tasks      | elapsed:   36.1s\n",
      "[Parallel(n_jobs=-1)]: Done 181 tasks      | elapsed:   36.2s\n",
      "[Parallel(n_jobs=-1)]: Done 183 tasks      | elapsed:   36.3s\n",
      "[Parallel(n_jobs=-1)]: Done 184 tasks      | elapsed:   36.4s\n",
      "[Parallel(n_jobs=-1)]: Done 185 tasks      | elapsed:   36.7s\n",
      "[Parallel(n_jobs=-1)]: Done 186 tasks      | elapsed:   37.1s\n",
      "[Parallel(n_jobs=-1)]: Done 187 tasks      | elapsed:   37.1s\n",
      "[Parallel(n_jobs=-1)]: Done 189 tasks      | elapsed:   37.2s\n",
      "[Parallel(n_jobs=-1)]: Done 190 tasks      | elapsed:   37.3s\n",
      "[Parallel(n_jobs=-1)]: Done 191 tasks      | elapsed:   37.4s\n",
      "[Parallel(n_jobs=-1)]: Done 193 tasks      | elapsed:   37.4s\n",
      "[Parallel(n_jobs=-1)]: Done 194 tasks      | elapsed:   37.4s\n",
      "[Parallel(n_jobs=-1)]: Done 195 tasks      | elapsed:   37.8s\n",
      "[Parallel(n_jobs=-1)]: Done 196 tasks      | elapsed:   37.8s\n",
      "[Parallel(n_jobs=-1)]: Done 197 tasks      | elapsed:   38.0s\n",
      "[Parallel(n_jobs=-1)]: Done 198 tasks      | elapsed:   38.0s\n",
      "[Parallel(n_jobs=-1)]: Done 199 tasks      | elapsed:   38.2s\n",
      "[Parallel(n_jobs=-1)]: Done 200 tasks      | elapsed:   38.4s\n",
      "[Parallel(n_jobs=-1)]: Done 201 tasks      | elapsed:   38.8s\n",
      "[Parallel(n_jobs=-1)]: Done 202 tasks      | elapsed:   38.8s\n",
      "[Parallel(n_jobs=-1)]: Done 203 tasks      | elapsed:   38.9s\n",
      "[Parallel(n_jobs=-1)]: Done 204 tasks      | elapsed:   39.0s\n",
      "[Parallel(n_jobs=-1)]: Done 205 tasks      | elapsed:   39.1s\n",
      "[Parallel(n_jobs=-1)]: Done 206 tasks      | elapsed:   39.1s\n",
      "[Parallel(n_jobs=-1)]: Done 207 tasks      | elapsed:   39.1s\n",
      "[Parallel(n_jobs=-1)]: Done 208 tasks      | elapsed:   42.3s\n",
      "[Parallel(n_jobs=-1)]: Done 209 tasks      | elapsed:   42.6s\n",
      "[Parallel(n_jobs=-1)]: Done 210 tasks      | elapsed:   43.1s\n",
      "[Parallel(n_jobs=-1)]: Done 211 tasks      | elapsed:   43.4s\n",
      "[Parallel(n_jobs=-1)]: Done 212 tasks      | elapsed:   43.6s\n",
      "[Parallel(n_jobs=-1)]: Done 213 tasks      | elapsed:   43.8s\n",
      "[Parallel(n_jobs=-1)]: Done 214 tasks      | elapsed:   44.0s\n",
      "[Parallel(n_jobs=-1)]: Done 215 tasks      | elapsed:   44.2s\n",
      "[Parallel(n_jobs=-1)]: Done 216 tasks      | elapsed:   44.4s\n",
      "[Parallel(n_jobs=-1)]: Done 217 tasks      | elapsed:   44.6s\n",
      "[Parallel(n_jobs=-1)]: Done 218 tasks      | elapsed:   44.8s\n",
      "[Parallel(n_jobs=-1)]: Done 219 tasks      | elapsed:   45.0s\n",
      "[Parallel(n_jobs=-1)]: Done 220 tasks      | elapsed:   45.2s\n",
      "[Parallel(n_jobs=-1)]: Done 221 tasks      | elapsed:   45.4s\n",
      "[Parallel(n_jobs=-1)]: Done 222 tasks      | elapsed:   45.6s\n",
      "[Parallel(n_jobs=-1)]: Done 223 tasks      | elapsed:   45.8s\n",
      "[Parallel(n_jobs=-1)]: Done 224 tasks      | elapsed:   45.9s\n",
      "[Parallel(n_jobs=-1)]: Done 225 tasks      | elapsed:   46.1s\n",
      "[Parallel(n_jobs=-1)]: Done 226 tasks      | elapsed:   47.8s\n",
      "[Parallel(n_jobs=-1)]: Done 227 tasks      | elapsed:   49.5s\n",
      "[Parallel(n_jobs=-1)]: Done 228 tasks      | elapsed:   51.2s\n",
      "[Parallel(n_jobs=-1)]: Done 229 tasks      | elapsed:   52.9s\n",
      "[Parallel(n_jobs=-1)]: Done 230 tasks      | elapsed:   54.3s\n",
      "[Parallel(n_jobs=-1)]: Done 231 tasks      | elapsed:   54.6s\n",
      "[Parallel(n_jobs=-1)]: Done 232 tasks      | elapsed:   54.6s\n",
      "[Parallel(n_jobs=-1)]: Done 233 tasks      | elapsed:   54.7s\n",
      "[Parallel(n_jobs=-1)]: Done 234 tasks      | elapsed:   54.7s\n",
      "[Parallel(n_jobs=-1)]: Done 235 tasks      | elapsed:   55.0s\n",
      "[Parallel(n_jobs=-1)]: Done 236 tasks      | elapsed:   55.1s\n",
      "[Parallel(n_jobs=-1)]: Done 237 tasks      | elapsed:   55.1s\n",
      "[Parallel(n_jobs=-1)]: Done 238 tasks      | elapsed:   55.3s\n",
      "[Parallel(n_jobs=-1)]: Done 239 tasks      | elapsed:   55.4s\n",
      "[Parallel(n_jobs=-1)]: Done 240 tasks      | elapsed:   55.8s\n",
      "[Parallel(n_jobs=-1)]: Done 241 tasks      | elapsed:   55.9s\n",
      "[Parallel(n_jobs=-1)]: Done 242 tasks      | elapsed:   56.0s\n",
      "[Parallel(n_jobs=-1)]: Done 243 tasks      | elapsed:   56.0s\n",
      "[Parallel(n_jobs=-1)]: Done 244 tasks      | elapsed:   56.2s\n",
      "[Parallel(n_jobs=-1)]: Done 245 tasks      | elapsed:   56.4s\n",
      "[Parallel(n_jobs=-1)]: Done 246 tasks      | elapsed:   56.4s\n",
      "[Parallel(n_jobs=-1)]: Done 247 tasks      | elapsed:   56.5s\n",
      "[Parallel(n_jobs=-1)]: Done 248 tasks      | elapsed:   56.6s\n",
      "[Parallel(n_jobs=-1)]: Done 249 tasks      | elapsed:   56.7s\n",
      "[Parallel(n_jobs=-1)]: Done 250 tasks      | elapsed:   56.7s\n",
      "[Parallel(n_jobs=-1)]: Done 251 tasks      | elapsed:   56.8s\n",
      "[Parallel(n_jobs=-1)]: Done 252 tasks      | elapsed:   56.9s\n",
      "[Parallel(n_jobs=-1)]: Done 253 tasks      | elapsed:   57.0s\n",
      "[Parallel(n_jobs=-1)]: Done 254 tasks      | elapsed:   58.1s\n",
      "[Parallel(n_jobs=-1)]: Done 255 tasks      | elapsed:   58.6s\n",
      "[Parallel(n_jobs=-1)]: Done 256 tasks      | elapsed:   58.9s\n",
      "[Parallel(n_jobs=-1)]: Done 257 tasks      | elapsed:   59.2s\n",
      "[Parallel(n_jobs=-1)]: Done 258 tasks      | elapsed:   59.4s\n",
      "[Parallel(n_jobs=-1)]: Done 259 tasks      | elapsed:   59.6s\n",
      "[Parallel(n_jobs=-1)]: Done 260 tasks      | elapsed:   59.9s\n",
      "[Parallel(n_jobs=-1)]: Done 261 tasks      | elapsed:  1.0min\n",
      "[Parallel(n_jobs=-1)]: Done 262 tasks      | elapsed:  1.0min\n",
      "[Parallel(n_jobs=-1)]: Done 263 tasks      | elapsed:  1.0min\n",
      "[Parallel(n_jobs=-1)]: Done 264 tasks      | elapsed:  1.0min\n",
      "[Parallel(n_jobs=-1)]: Done 265 tasks      | elapsed:  1.0min\n",
      "[Parallel(n_jobs=-1)]: Done 266 tasks      | elapsed:  1.0min\n",
      "[Parallel(n_jobs=-1)]: Done 267 tasks      | elapsed:  1.0min\n",
      "[Parallel(n_jobs=-1)]: Done 268 tasks      | elapsed:  1.0min\n",
      "[Parallel(n_jobs=-1)]: Done 269 tasks      | elapsed:  1.0min\n",
      "[Parallel(n_jobs=-1)]: Done 270 tasks      | elapsed:  1.0min\n",
      "[Parallel(n_jobs=-1)]: Done 271 tasks      | elapsed:  1.1min\n",
      "[Parallel(n_jobs=-1)]: Done 272 tasks      | elapsed:  1.1min\n",
      "[Parallel(n_jobs=-1)]: Done 273 tasks      | elapsed:  1.2min\n",
      "[Parallel(n_jobs=-1)]: Done 274 tasks      | elapsed:  1.2min\n",
      "[Parallel(n_jobs=-1)]: Done 275 tasks      | elapsed:  1.2min\n",
      "[Parallel(n_jobs=-1)]: Done 276 tasks      | elapsed:  1.2min\n",
      "[Parallel(n_jobs=-1)]: Done 277 tasks      | elapsed:  1.2min\n",
      "[Parallel(n_jobs=-1)]: Done 278 tasks      | elapsed:  1.2min\n",
      "[Parallel(n_jobs=-1)]: Done 279 tasks      | elapsed:  1.2min\n",
      "[Parallel(n_jobs=-1)]: Done 280 tasks      | elapsed:  1.2min\n",
      "[Parallel(n_jobs=-1)]: Done 281 tasks      | elapsed:  1.2min\n",
      "[Parallel(n_jobs=-1)]: Done 282 tasks      | elapsed:  1.2min\n",
      "[Parallel(n_jobs=-1)]: Done 283 tasks      | elapsed:  1.2min\n",
      "[Parallel(n_jobs=-1)]: Done 284 tasks      | elapsed:  1.2min\n",
      "[Parallel(n_jobs=-1)]: Done 285 tasks      | elapsed:  1.2min\n",
      "[Parallel(n_jobs=-1)]: Done 286 tasks      | elapsed:  1.2min\n",
      "[Parallel(n_jobs=-1)]: Done 287 tasks      | elapsed:  1.2min\n",
      "[Parallel(n_jobs=-1)]: Done 288 tasks      | elapsed:  1.2min\n",
      "[Parallel(n_jobs=-1)]: Done 289 tasks      | elapsed:  1.2min\n",
      "[Parallel(n_jobs=-1)]: Done 290 tasks      | elapsed:  1.2min\n",
      "[Parallel(n_jobs=-1)]: Done 291 tasks      | elapsed:  1.2min\n",
      "[Parallel(n_jobs=-1)]: Done 292 tasks      | elapsed:  1.2min\n",
      "[Parallel(n_jobs=-1)]: Done 293 tasks      | elapsed:  1.2min\n",
      "[Parallel(n_jobs=-1)]: Done 294 tasks      | elapsed:  1.2min\n",
      "[Parallel(n_jobs=-1)]: Done 295 tasks      | elapsed:  1.3min\n",
      "[Parallel(n_jobs=-1)]: Done 296 tasks      | elapsed:  1.3min\n",
      "[Parallel(n_jobs=-1)]: Done 297 tasks      | elapsed:  1.3min\n",
      "[Parallel(n_jobs=-1)]: Done 298 tasks      | elapsed:  1.3min\n",
      "[Parallel(n_jobs=-1)]: Done 299 tasks      | elapsed:  1.3min\n",
      "[Parallel(n_jobs=-1)]: Done 300 tasks      | elapsed:  1.3min\n",
      "[Parallel(n_jobs=-1)]: Done 301 tasks      | elapsed:  1.3min\n",
      "[Parallel(n_jobs=-1)]: Done 302 tasks      | elapsed:  1.3min\n",
      "[Parallel(n_jobs=-1)]: Done 303 tasks      | elapsed:  1.3min\n",
      "[Parallel(n_jobs=-1)]: Done 304 tasks      | elapsed:  1.3min\n",
      "[Parallel(n_jobs=-1)]: Done 305 tasks      | elapsed:  1.3min\n",
      "[Parallel(n_jobs=-1)]: Done 306 tasks      | elapsed:  1.3min\n",
      "[Parallel(n_jobs=-1)]: Done 307 tasks      | elapsed:  1.3min\n",
      "[Parallel(n_jobs=-1)]: Done 308 tasks      | elapsed:  1.3min\n",
      "[Parallel(n_jobs=-1)]: Done 309 tasks      | elapsed:  1.3min\n",
      "[Parallel(n_jobs=-1)]: Done 310 tasks      | elapsed:  1.3min\n"
     ]
    },
    {
     "name": "stdout",
     "output_type": "stream",
     "text": [
      "[Parallel(n_jobs=-1)]: Done 311 tasks      | elapsed:  1.3min\n",
      "[Parallel(n_jobs=-1)]: Done 312 tasks      | elapsed:  1.3min\n",
      "[Parallel(n_jobs=-1)]: Done 313 tasks      | elapsed:  1.3min\n",
      "[Parallel(n_jobs=-1)]: Done 314 tasks      | elapsed:  1.3min\n",
      "[Parallel(n_jobs=-1)]: Done 315 tasks      | elapsed:  1.3min\n",
      "[Parallel(n_jobs=-1)]: Done 316 tasks      | elapsed:  1.4min\n",
      "[Parallel(n_jobs=-1)]: Done 317 tasks      | elapsed:  1.4min\n",
      "[Parallel(n_jobs=-1)]: Done 318 tasks      | elapsed:  1.4min\n",
      "[Parallel(n_jobs=-1)]: Done 319 tasks      | elapsed:  1.5min\n",
      "[Parallel(n_jobs=-1)]: Done 320 tasks      | elapsed:  1.5min\n",
      "[Parallel(n_jobs=-1)]: Done 321 tasks      | elapsed:  1.5min\n",
      "[Parallel(n_jobs=-1)]: Done 322 tasks      | elapsed:  1.6min\n",
      "[Parallel(n_jobs=-1)]: Done 323 tasks      | elapsed:  1.6min\n",
      "[Parallel(n_jobs=-1)]: Done 324 tasks      | elapsed:  1.6min\n",
      "[Parallel(n_jobs=-1)]: Done 325 tasks      | elapsed:  1.6min\n",
      "[Parallel(n_jobs=-1)]: Done 326 tasks      | elapsed:  1.6min\n",
      "[Parallel(n_jobs=-1)]: Done 327 tasks      | elapsed:  1.6min\n",
      "[Parallel(n_jobs=-1)]: Done 328 tasks      | elapsed:  1.6min\n",
      "[Parallel(n_jobs=-1)]: Done 329 tasks      | elapsed:  1.6min\n",
      "[Parallel(n_jobs=-1)]: Done 330 tasks      | elapsed:  1.6min\n",
      "[Parallel(n_jobs=-1)]: Done 331 tasks      | elapsed:  1.6min\n",
      "[Parallel(n_jobs=-1)]: Done 332 tasks      | elapsed:  1.6min\n",
      "[Parallel(n_jobs=-1)]: Done 333 tasks      | elapsed:  1.6min\n",
      "[Parallel(n_jobs=-1)]: Done 334 tasks      | elapsed:  1.6min\n",
      "[Parallel(n_jobs=-1)]: Done 335 tasks      | elapsed:  1.6min\n",
      "[Parallel(n_jobs=-1)]: Done 336 tasks      | elapsed:  1.6min\n",
      "[Parallel(n_jobs=-1)]: Done 337 tasks      | elapsed:  1.6min\n",
      "[Parallel(n_jobs=-1)]: Done 338 tasks      | elapsed:  1.6min\n",
      "[Parallel(n_jobs=-1)]: Done 339 tasks      | elapsed:  1.6min\n",
      "[Parallel(n_jobs=-1)]: Done 340 tasks      | elapsed:  1.6min\n",
      "[Parallel(n_jobs=-1)]: Done 341 tasks      | elapsed:  1.6min\n",
      "[Parallel(n_jobs=-1)]: Done 342 tasks      | elapsed:  1.6min\n",
      "[Parallel(n_jobs=-1)]: Done 343 tasks      | elapsed:  1.6min\n",
      "[Parallel(n_jobs=-1)]: Done 344 tasks      | elapsed:  1.6min\n",
      "[Parallel(n_jobs=-1)]: Done 345 tasks      | elapsed:  1.7min\n",
      "[Parallel(n_jobs=-1)]: Done 346 tasks      | elapsed:  1.7min\n",
      "[Parallel(n_jobs=-1)]: Done 347 tasks      | elapsed:  1.7min\n",
      "[Parallel(n_jobs=-1)]: Done 348 tasks      | elapsed:  1.7min\n",
      "[Parallel(n_jobs=-1)]: Done 349 tasks      | elapsed:  1.7min\n",
      "[Parallel(n_jobs=-1)]: Done 350 tasks      | elapsed:  1.7min\n",
      "[Parallel(n_jobs=-1)]: Done 351 tasks      | elapsed:  1.7min\n",
      "[Parallel(n_jobs=-1)]: Done 352 tasks      | elapsed:  1.7min\n",
      "[Parallel(n_jobs=-1)]: Done 353 tasks      | elapsed:  1.7min\n",
      "[Parallel(n_jobs=-1)]: Done 354 tasks      | elapsed:  1.7min\n",
      "[Parallel(n_jobs=-1)]: Done 355 tasks      | elapsed:  1.7min\n",
      "[Parallel(n_jobs=-1)]: Done 356 tasks      | elapsed:  1.7min\n",
      "[Parallel(n_jobs=-1)]: Done 357 tasks      | elapsed:  1.7min\n",
      "[Parallel(n_jobs=-1)]: Done 358 tasks      | elapsed:  1.7min\n",
      "[Parallel(n_jobs=-1)]: Done 359 tasks      | elapsed:  1.7min\n",
      "[Parallel(n_jobs=-1)]: Done 360 tasks      | elapsed:  1.7min\n",
      "[Parallel(n_jobs=-1)]: Done 361 tasks      | elapsed:  1.7min\n",
      "[Parallel(n_jobs=-1)]: Done 362 tasks      | elapsed:  1.7min\n",
      "[Parallel(n_jobs=-1)]: Done 363 tasks      | elapsed:  1.7min\n",
      "[Parallel(n_jobs=-1)]: Done 364 tasks      | elapsed:  1.7min\n",
      "[Parallel(n_jobs=-1)]: Done 365 tasks      | elapsed:  1.7min\n",
      "[Parallel(n_jobs=-1)]: Done 366 tasks      | elapsed:  1.8min\n",
      "[Parallel(n_jobs=-1)]: Done 367 tasks      | elapsed:  1.8min\n",
      "[Parallel(n_jobs=-1)]: Done 368 tasks      | elapsed:  1.8min\n",
      "[Parallel(n_jobs=-1)]: Done 369 tasks      | elapsed:  1.8min\n",
      "[Parallel(n_jobs=-1)]: Done 370 tasks      | elapsed:  1.8min\n",
      "[Parallel(n_jobs=-1)]: Done 371 tasks      | elapsed:  1.8min\n",
      "[Parallel(n_jobs=-1)]: Done 372 tasks      | elapsed:  1.8min\n",
      "[Parallel(n_jobs=-1)]: Done 373 tasks      | elapsed:  1.8min\n",
      "[Parallel(n_jobs=-1)]: Done 374 tasks      | elapsed:  1.8min\n",
      "[Parallel(n_jobs=-1)]: Done 375 tasks      | elapsed:  1.9min\n",
      "[Parallel(n_jobs=-1)]: Done 376 tasks      | elapsed:  2.0min\n",
      "[Parallel(n_jobs=-1)]: Done 377 tasks      | elapsed:  2.0min\n",
      "[Parallel(n_jobs=-1)]: Done 378 tasks      | elapsed:  2.0min\n",
      "[Parallel(n_jobs=-1)]: Done 379 tasks      | elapsed:  2.0min\n",
      "[Parallel(n_jobs=-1)]: Done 380 tasks      | elapsed:  2.0min\n",
      "[Parallel(n_jobs=-1)]: Done 381 tasks      | elapsed:  2.0min\n",
      "[Parallel(n_jobs=-1)]: Done 382 tasks      | elapsed:  2.0min\n",
      "[Parallel(n_jobs=-1)]: Done 383 tasks      | elapsed:  2.0min\n",
      "[Parallel(n_jobs=-1)]: Done 384 tasks      | elapsed:  2.0min\n",
      "[Parallel(n_jobs=-1)]: Done 385 tasks      | elapsed:  2.0min\n",
      "[Parallel(n_jobs=-1)]: Done 386 tasks      | elapsed:  2.0min\n",
      "[Parallel(n_jobs=-1)]: Done 387 tasks      | elapsed:  2.0min\n",
      "[Parallel(n_jobs=-1)]: Done 388 tasks      | elapsed:  2.0min\n",
      "[Parallel(n_jobs=-1)]: Done 389 tasks      | elapsed:  2.0min\n",
      "[Parallel(n_jobs=-1)]: Done 390 tasks      | elapsed:  2.0min\n",
      "[Parallel(n_jobs=-1)]: Done 391 tasks      | elapsed:  2.0min\n",
      "[Parallel(n_jobs=-1)]: Done 392 tasks      | elapsed:  2.0min\n",
      "[Parallel(n_jobs=-1)]: Done 393 tasks      | elapsed:  2.0min\n",
      "[Parallel(n_jobs=-1)]: Done 394 tasks      | elapsed:  2.0min\n",
      "[Parallel(n_jobs=-1)]: Done 395 tasks      | elapsed:  2.0min\n",
      "[Parallel(n_jobs=-1)]: Done 396 tasks      | elapsed:  2.0min\n",
      "[Parallel(n_jobs=-1)]: Done 397 tasks      | elapsed:  2.0min\n",
      "[Parallel(n_jobs=-1)]: Done 398 tasks      | elapsed:  2.0min\n",
      "[Parallel(n_jobs=-1)]: Done 399 tasks      | elapsed:  2.0min\n",
      "[Parallel(n_jobs=-1)]: Done 400 tasks      | elapsed:  2.0min\n",
      "[Parallel(n_jobs=-1)]: Done 401 tasks      | elapsed:  2.0min\n",
      "[Parallel(n_jobs=-1)]: Done 402 tasks      | elapsed:  2.0min\n",
      "[Parallel(n_jobs=-1)]: Done 403 tasks      | elapsed:  2.0min\n",
      "[Parallel(n_jobs=-1)]: Done 404 tasks      | elapsed:  2.0min\n",
      "[Parallel(n_jobs=-1)]: Done 405 tasks      | elapsed:  2.0min\n",
      "[Parallel(n_jobs=-1)]: Done 406 tasks      | elapsed:  2.0min\n",
      "[Parallel(n_jobs=-1)]: Done 407 tasks      | elapsed:  2.0min\n",
      "[Parallel(n_jobs=-1)]: Done 408 tasks      | elapsed:  2.0min\n",
      "[Parallel(n_jobs=-1)]: Done 409 tasks      | elapsed:  2.1min\n",
      "[Parallel(n_jobs=-1)]: Done 410 tasks      | elapsed:  2.1min\n",
      "[Parallel(n_jobs=-1)]: Done 411 tasks      | elapsed:  2.1min\n",
      "[Parallel(n_jobs=-1)]: Done 412 tasks      | elapsed:  2.1min\n",
      "[Parallel(n_jobs=-1)]: Done 413 tasks      | elapsed:  2.1min\n",
      "[Parallel(n_jobs=-1)]: Done 414 tasks      | elapsed:  2.1min\n",
      "[Parallel(n_jobs=-1)]: Done 415 tasks      | elapsed:  2.1min\n",
      "[Parallel(n_jobs=-1)]: Done 416 tasks      | elapsed:  2.1min\n",
      "[Parallel(n_jobs=-1)]: Done 417 tasks      | elapsed:  2.1min\n",
      "[Parallel(n_jobs=-1)]: Done 418 tasks      | elapsed:  2.1min\n",
      "[Parallel(n_jobs=-1)]: Done 419 tasks      | elapsed:  2.1min\n",
      "[Parallel(n_jobs=-1)]: Done 420 tasks      | elapsed:  2.1min\n",
      "[Parallel(n_jobs=-1)]: Done 421 tasks      | elapsed:  2.1min\n",
      "[Parallel(n_jobs=-1)]: Done 422 tasks      | elapsed:  2.1min\n",
      "[Parallel(n_jobs=-1)]: Done 423 tasks      | elapsed:  2.1min\n",
      "[Parallel(n_jobs=-1)]: Done 424 tasks      | elapsed:  2.1min\n",
      "[Parallel(n_jobs=-1)]: Done 425 tasks      | elapsed:  2.1min\n",
      "[Parallel(n_jobs=-1)]: Done 426 tasks      | elapsed:  2.1min\n",
      "[Parallel(n_jobs=-1)]: Done 427 tasks      | elapsed:  2.1min\n",
      "[Parallel(n_jobs=-1)]: Done 428 tasks      | elapsed:  2.1min\n",
      "[Parallel(n_jobs=-1)]: Done 429 tasks      | elapsed:  2.1min\n",
      "[Parallel(n_jobs=-1)]: Done 430 tasks      | elapsed:  2.1min\n",
      "[Parallel(n_jobs=-1)]: Done 431 tasks      | elapsed:  2.1min\n",
      "[Parallel(n_jobs=-1)]: Done 432 tasks      | elapsed:  2.1min\n",
      "[Parallel(n_jobs=-1)]: Done 433 tasks      | elapsed:  2.1min\n",
      "[Parallel(n_jobs=-1)]: Done 434 tasks      | elapsed:  2.1min\n",
      "[Parallel(n_jobs=-1)]: Done 435 tasks      | elapsed:  2.1min\n",
      "[Parallel(n_jobs=-1)]: Done 436 tasks      | elapsed:  2.1min\n",
      "[Parallel(n_jobs=-1)]: Done 437 tasks      | elapsed:  2.1min\n",
      "[Parallel(n_jobs=-1)]: Done 438 tasks      | elapsed:  2.1min\n",
      "[Parallel(n_jobs=-1)]: Done 439 tasks      | elapsed:  2.1min\n",
      "[Parallel(n_jobs=-1)]: Done 440 tasks      | elapsed:  2.1min\n",
      "[Parallel(n_jobs=-1)]: Done 441 tasks      | elapsed:  2.1min\n",
      "[Parallel(n_jobs=-1)]: Done 442 tasks      | elapsed:  2.1min\n",
      "[Parallel(n_jobs=-1)]: Done 443 tasks      | elapsed:  2.1min\n"
     ]
    },
    {
     "name": "stdout",
     "output_type": "stream",
     "text": [
      "[Parallel(n_jobs=-1)]: Done 444 tasks      | elapsed:  2.1min\n",
      "[Parallel(n_jobs=-1)]: Done 445 tasks      | elapsed:  2.1min\n",
      "[Parallel(n_jobs=-1)]: Done 446 tasks      | elapsed:  2.2min\n",
      "[Parallel(n_jobs=-1)]: Done 447 tasks      | elapsed:  2.2min\n",
      "[Parallel(n_jobs=-1)]: Done 448 tasks      | elapsed:  2.2min\n",
      "[Parallel(n_jobs=-1)]: Done 449 tasks      | elapsed:  2.2min\n",
      "[Parallel(n_jobs=-1)]: Done 450 tasks      | elapsed:  2.2min\n",
      "[Parallel(n_jobs=-1)]: Done 451 tasks      | elapsed:  2.2min\n",
      "[Parallel(n_jobs=-1)]: Done 452 tasks      | elapsed:  2.2min\n",
      "[Parallel(n_jobs=-1)]: Done 453 tasks      | elapsed:  2.2min\n",
      "[Parallel(n_jobs=-1)]: Done 454 tasks      | elapsed:  2.2min\n",
      "[Parallel(n_jobs=-1)]: Done 455 tasks      | elapsed:  2.2min\n",
      "[Parallel(n_jobs=-1)]: Done 456 tasks      | elapsed:  2.2min\n",
      "[Parallel(n_jobs=-1)]: Done 457 tasks      | elapsed:  2.2min\n",
      "[Parallel(n_jobs=-1)]: Done 458 tasks      | elapsed:  2.2min\n",
      "[Parallel(n_jobs=-1)]: Done 459 tasks      | elapsed:  2.2min\n",
      "[Parallel(n_jobs=-1)]: Done 460 tasks      | elapsed:  2.2min\n",
      "[Parallel(n_jobs=-1)]: Done 461 tasks      | elapsed:  2.2min\n",
      "[Parallel(n_jobs=-1)]: Done 462 tasks      | elapsed:  2.2min\n",
      "[Parallel(n_jobs=-1)]: Done 463 tasks      | elapsed:  2.2min\n",
      "[Parallel(n_jobs=-1)]: Done 464 tasks      | elapsed:  2.2min\n",
      "[Parallel(n_jobs=-1)]: Done 465 tasks      | elapsed:  2.2min\n",
      "[Parallel(n_jobs=-1)]: Done 466 tasks      | elapsed:  2.2min\n",
      "[Parallel(n_jobs=-1)]: Done 467 tasks      | elapsed:  2.2min\n",
      "[Parallel(n_jobs=-1)]: Done 468 tasks      | elapsed:  2.2min\n",
      "[Parallel(n_jobs=-1)]: Done 469 tasks      | elapsed:  2.2min\n",
      "[Parallel(n_jobs=-1)]: Done 470 tasks      | elapsed:  2.2min\n",
      "[Parallel(n_jobs=-1)]: Done 471 tasks      | elapsed:  2.2min\n",
      "[Parallel(n_jobs=-1)]: Done 472 tasks      | elapsed:  2.2min\n",
      "[Parallel(n_jobs=-1)]: Done 473 tasks      | elapsed:  2.2min\n",
      "[Parallel(n_jobs=-1)]: Done 474 tasks      | elapsed:  2.2min\n",
      "[Parallel(n_jobs=-1)]: Done 475 tasks      | elapsed:  2.2min\n",
      "[Parallel(n_jobs=-1)]: Done 476 tasks      | elapsed:  2.2min\n",
      "[Parallel(n_jobs=-1)]: Done 477 tasks      | elapsed:  2.2min\n",
      "[Parallel(n_jobs=-1)]: Done 478 tasks      | elapsed:  2.2min\n",
      "[Parallel(n_jobs=-1)]: Done 479 tasks      | elapsed:  2.2min\n",
      "[Parallel(n_jobs=-1)]: Done 480 tasks      | elapsed:  2.2min\n",
      "[Parallel(n_jobs=-1)]: Done 481 tasks      | elapsed:  2.3min\n",
      "[Parallel(n_jobs=-1)]: Done 482 tasks      | elapsed:  2.3min\n",
      "[Parallel(n_jobs=-1)]: Done 483 tasks      | elapsed:  2.3min\n",
      "[Parallel(n_jobs=-1)]: Done 484 tasks      | elapsed:  2.3min\n",
      "[Parallel(n_jobs=-1)]: Done 485 tasks      | elapsed:  2.3min\n",
      "[Parallel(n_jobs=-1)]: Done 486 tasks      | elapsed:  2.3min\n",
      "[Parallel(n_jobs=-1)]: Done 487 tasks      | elapsed:  2.3min\n",
      "[Parallel(n_jobs=-1)]: Done 488 tasks      | elapsed:  2.3min\n",
      "[Parallel(n_jobs=-1)]: Done 489 tasks      | elapsed:  2.3min\n",
      "[Parallel(n_jobs=-1)]: Done 490 tasks      | elapsed:  2.3min\n",
      "[Parallel(n_jobs=-1)]: Done 491 tasks      | elapsed:  2.3min\n",
      "[Parallel(n_jobs=-1)]: Done 492 tasks      | elapsed:  2.3min\n",
      "[Parallel(n_jobs=-1)]: Done 493 tasks      | elapsed:  2.3min\n",
      "[Parallel(n_jobs=-1)]: Done 494 tasks      | elapsed:  2.3min\n",
      "[Parallel(n_jobs=-1)]: Done 495 tasks      | elapsed:  2.3min\n",
      "[Parallel(n_jobs=-1)]: Done 496 tasks      | elapsed:  2.3min\n",
      "[Parallel(n_jobs=-1)]: Done 497 tasks      | elapsed:  2.3min\n",
      "[Parallel(n_jobs=-1)]: Done 498 tasks      | elapsed:  2.3min\n",
      "[Parallel(n_jobs=-1)]: Done 499 tasks      | elapsed:  2.4min\n",
      "[Parallel(n_jobs=-1)]: Done 500 tasks      | elapsed:  2.4min\n",
      "[Parallel(n_jobs=-1)]: Done 501 tasks      | elapsed:  2.4min\n",
      "[Parallel(n_jobs=-1)]: Done 502 tasks      | elapsed:  2.4min\n",
      "[Parallel(n_jobs=-1)]: Done 503 tasks      | elapsed:  2.4min\n",
      "[Parallel(n_jobs=-1)]: Done 504 tasks      | elapsed:  2.4min\n",
      "[Parallel(n_jobs=-1)]: Done 505 tasks      | elapsed:  2.4min\n",
      "[Parallel(n_jobs=-1)]: Done 506 tasks      | elapsed:  2.4min\n",
      "[Parallel(n_jobs=-1)]: Done 507 tasks      | elapsed:  2.4min\n",
      "[Parallel(n_jobs=-1)]: Done 508 tasks      | elapsed:  2.4min\n",
      "[Parallel(n_jobs=-1)]: Done 509 tasks      | elapsed:  2.4min\n",
      "[Parallel(n_jobs=-1)]: Done 510 tasks      | elapsed:  2.4min\n",
      "[Parallel(n_jobs=-1)]: Done 511 tasks      | elapsed:  2.4min\n",
      "[Parallel(n_jobs=-1)]: Done 512 tasks      | elapsed:  2.4min\n",
      "[Parallel(n_jobs=-1)]: Done 513 tasks      | elapsed:  2.4min\n",
      "[Parallel(n_jobs=-1)]: Done 514 tasks      | elapsed:  2.4min\n",
      "[Parallel(n_jobs=-1)]: Done 515 tasks      | elapsed:  2.4min\n",
      "[Parallel(n_jobs=-1)]: Done 516 tasks      | elapsed:  2.4min\n",
      "[Parallel(n_jobs=-1)]: Done 517 tasks      | elapsed:  2.4min\n",
      "[Parallel(n_jobs=-1)]: Done 518 tasks      | elapsed:  2.4min\n",
      "[Parallel(n_jobs=-1)]: Done 519 tasks      | elapsed:  2.4min\n",
      "[Parallel(n_jobs=-1)]: Done 520 tasks      | elapsed:  2.4min\n",
      "[Parallel(n_jobs=-1)]: Done 521 tasks      | elapsed:  2.4min\n",
      "[Parallel(n_jobs=-1)]: Done 522 tasks      | elapsed:  2.4min\n",
      "[Parallel(n_jobs=-1)]: Done 523 tasks      | elapsed:  2.4min\n",
      "[Parallel(n_jobs=-1)]: Done 524 tasks      | elapsed:  2.4min\n",
      "[Parallel(n_jobs=-1)]: Done 525 tasks      | elapsed:  2.5min\n",
      "[Parallel(n_jobs=-1)]: Done 526 tasks      | elapsed:  2.5min\n",
      "[Parallel(n_jobs=-1)]: Done 527 tasks      | elapsed:  2.5min\n",
      "[Parallel(n_jobs=-1)]: Done 528 tasks      | elapsed:  2.5min\n",
      "[Parallel(n_jobs=-1)]: Done 529 tasks      | elapsed:  2.5min\n",
      "[Parallel(n_jobs=-1)]: Done 530 tasks      | elapsed:  2.5min\n",
      "[Parallel(n_jobs=-1)]: Done 531 tasks      | elapsed:  2.5min\n",
      "[Parallel(n_jobs=-1)]: Done 532 tasks      | elapsed:  2.5min\n",
      "[Parallel(n_jobs=-1)]: Done 533 tasks      | elapsed:  2.5min\n",
      "[Parallel(n_jobs=-1)]: Done 534 tasks      | elapsed:  2.5min\n",
      "[Parallel(n_jobs=-1)]: Done 535 tasks      | elapsed:  2.5min\n",
      "[Parallel(n_jobs=-1)]: Done 536 tasks      | elapsed:  2.5min\n",
      "[Parallel(n_jobs=-1)]: Done 537 tasks      | elapsed:  2.5min\n",
      "[Parallel(n_jobs=-1)]: Done 538 tasks      | elapsed:  2.5min\n",
      "[Parallel(n_jobs=-1)]: Done 539 tasks      | elapsed:  2.5min\n",
      "[Parallel(n_jobs=-1)]: Done 540 tasks      | elapsed:  2.5min\n",
      "[Parallel(n_jobs=-1)]: Done 541 tasks      | elapsed:  2.5min\n",
      "[Parallel(n_jobs=-1)]: Done 542 tasks      | elapsed:  2.6min\n",
      "[Parallel(n_jobs=-1)]: Done 543 tasks      | elapsed:  2.6min\n",
      "[Parallel(n_jobs=-1)]: Done 544 tasks      | elapsed:  2.6min\n",
      "[Parallel(n_jobs=-1)]: Done 545 tasks      | elapsed:  2.6min\n",
      "[Parallel(n_jobs=-1)]: Done 546 tasks      | elapsed:  2.6min\n",
      "[Parallel(n_jobs=-1)]: Done 547 tasks      | elapsed:  2.6min\n",
      "[Parallel(n_jobs=-1)]: Done 548 tasks      | elapsed:  2.6min\n",
      "[Parallel(n_jobs=-1)]: Done 549 tasks      | elapsed:  2.6min\n",
      "[Parallel(n_jobs=-1)]: Done 550 tasks      | elapsed:  2.6min\n",
      "[Parallel(n_jobs=-1)]: Done 551 tasks      | elapsed:  2.6min\n",
      "[Parallel(n_jobs=-1)]: Done 552 tasks      | elapsed:  2.6min\n",
      "[Parallel(n_jobs=-1)]: Done 553 tasks      | elapsed:  2.6min\n",
      "[Parallel(n_jobs=-1)]: Done 554 tasks      | elapsed:  2.6min\n",
      "[Parallel(n_jobs=-1)]: Done 555 tasks      | elapsed:  2.6min\n",
      "[Parallel(n_jobs=-1)]: Done 556 tasks      | elapsed:  2.6min\n",
      "[Parallel(n_jobs=-1)]: Done 557 tasks      | elapsed:  2.6min\n",
      "[Parallel(n_jobs=-1)]: Done 558 tasks      | elapsed:  2.6min\n",
      "[Parallel(n_jobs=-1)]: Done 559 tasks      | elapsed:  2.6min\n",
      "[Parallel(n_jobs=-1)]: Done 560 tasks      | elapsed:  2.6min\n",
      "[Parallel(n_jobs=-1)]: Done 561 tasks      | elapsed:  2.7min\n",
      "[Parallel(n_jobs=-1)]: Done 562 tasks      | elapsed:  2.7min\n",
      "[Parallel(n_jobs=-1)]: Done 563 tasks      | elapsed:  2.7min\n",
      "[Parallel(n_jobs=-1)]: Done 564 tasks      | elapsed:  2.7min\n",
      "[Parallel(n_jobs=-1)]: Done 565 tasks      | elapsed:  2.7min\n",
      "[Parallel(n_jobs=-1)]: Done 566 tasks      | elapsed:  2.7min\n",
      "[Parallel(n_jobs=-1)]: Done 567 tasks      | elapsed:  2.7min\n",
      "[Parallel(n_jobs=-1)]: Done 568 tasks      | elapsed:  2.7min\n",
      "[Parallel(n_jobs=-1)]: Done 569 tasks      | elapsed:  2.7min\n",
      "[Parallel(n_jobs=-1)]: Done 570 tasks      | elapsed:  2.7min\n",
      "[Parallel(n_jobs=-1)]: Done 571 tasks      | elapsed:  2.7min\n",
      "[Parallel(n_jobs=-1)]: Done 572 tasks      | elapsed:  2.7min\n",
      "[Parallel(n_jobs=-1)]: Done 573 tasks      | elapsed:  2.7min\n",
      "[Parallel(n_jobs=-1)]: Done 574 tasks      | elapsed:  2.7min\n",
      "[Parallel(n_jobs=-1)]: Done 575 tasks      | elapsed:  2.7min\n",
      "[Parallel(n_jobs=-1)]: Done 576 tasks      | elapsed:  2.7min\n"
     ]
    },
    {
     "name": "stdout",
     "output_type": "stream",
     "text": [
      "[Parallel(n_jobs=-1)]: Done 577 tasks      | elapsed:  2.7min\n",
      "[Parallel(n_jobs=-1)]: Done 578 tasks      | elapsed:  2.7min\n",
      "[Parallel(n_jobs=-1)]: Done 579 tasks      | elapsed:  2.7min\n",
      "[Parallel(n_jobs=-1)]: Done 580 tasks      | elapsed:  2.7min\n",
      "[Parallel(n_jobs=-1)]: Done 581 tasks      | elapsed:  2.7min\n",
      "[Parallel(n_jobs=-1)]: Done 582 tasks      | elapsed:  2.7min\n",
      "[Parallel(n_jobs=-1)]: Done 583 tasks      | elapsed:  2.7min\n",
      "[Parallel(n_jobs=-1)]: Done 584 tasks      | elapsed:  2.7min\n",
      "[Parallel(n_jobs=-1)]: Done 585 tasks      | elapsed:  2.7min\n",
      "[Parallel(n_jobs=-1)]: Done 586 tasks      | elapsed:  2.7min\n",
      "[Parallel(n_jobs=-1)]: Done 587 tasks      | elapsed:  2.8min\n",
      "[Parallel(n_jobs=-1)]: Done 588 tasks      | elapsed:  2.8min\n",
      "[Parallel(n_jobs=-1)]: Done 589 tasks      | elapsed:  2.8min\n",
      "[Parallel(n_jobs=-1)]: Done 590 tasks      | elapsed:  2.9min\n",
      "[Parallel(n_jobs=-1)]: Done 591 tasks      | elapsed:  2.9min\n",
      "[Parallel(n_jobs=-1)]: Done 592 tasks      | elapsed:  2.9min\n",
      "[Parallel(n_jobs=-1)]: Done 593 tasks      | elapsed:  2.9min\n",
      "[Parallel(n_jobs=-1)]: Done 594 tasks      | elapsed:  2.9min\n",
      "[Parallel(n_jobs=-1)]: Done 595 tasks      | elapsed:  2.9min\n",
      "[Parallel(n_jobs=-1)]: Done 596 tasks      | elapsed:  2.9min\n",
      "[Parallel(n_jobs=-1)]: Done 597 tasks      | elapsed:  2.9min\n",
      "[Parallel(n_jobs=-1)]: Done 598 tasks      | elapsed:  2.9min\n",
      "[Parallel(n_jobs=-1)]: Done 599 tasks      | elapsed:  2.9min\n",
      "[Parallel(n_jobs=-1)]: Done 600 tasks      | elapsed:  2.9min\n",
      "[Parallel(n_jobs=-1)]: Done 601 tasks      | elapsed:  2.9min\n",
      "[Parallel(n_jobs=-1)]: Done 602 tasks      | elapsed:  2.9min\n",
      "[Parallel(n_jobs=-1)]: Done 603 tasks      | elapsed:  2.9min\n",
      "[Parallel(n_jobs=-1)]: Done 604 tasks      | elapsed:  2.9min\n",
      "[Parallel(n_jobs=-1)]: Done 605 tasks      | elapsed:  2.9min\n",
      "[Parallel(n_jobs=-1)]: Done 606 tasks      | elapsed:  2.9min\n",
      "[Parallel(n_jobs=-1)]: Done 607 tasks      | elapsed:  2.9min\n",
      "[Parallel(n_jobs=-1)]: Done 608 tasks      | elapsed:  2.9min\n",
      "[Parallel(n_jobs=-1)]: Done 609 tasks      | elapsed:  2.9min\n",
      "[Parallel(n_jobs=-1)]: Done 610 tasks      | elapsed:  2.9min\n",
      "[Parallel(n_jobs=-1)]: Done 611 tasks      | elapsed:  2.9min\n",
      "[Parallel(n_jobs=-1)]: Done 612 tasks      | elapsed:  2.9min\n",
      "[Parallel(n_jobs=-1)]: Done 613 tasks      | elapsed:  2.9min\n",
      "[Parallel(n_jobs=-1)]: Done 614 tasks      | elapsed:  3.0min\n",
      "[Parallel(n_jobs=-1)]: Done 615 tasks      | elapsed:  3.0min\n",
      "[Parallel(n_jobs=-1)]: Done 616 tasks      | elapsed:  3.0min\n",
      "[Parallel(n_jobs=-1)]: Done 617 tasks      | elapsed:  3.0min\n",
      "[Parallel(n_jobs=-1)]: Done 618 tasks      | elapsed:  3.0min\n",
      "[Parallel(n_jobs=-1)]: Done 619 tasks      | elapsed:  3.0min\n",
      "[Parallel(n_jobs=-1)]: Done 620 tasks      | elapsed:  3.0min\n",
      "[Parallel(n_jobs=-1)]: Done 621 tasks      | elapsed:  3.0min\n",
      "[Parallel(n_jobs=-1)]: Done 622 tasks      | elapsed:  3.0min\n",
      "[Parallel(n_jobs=-1)]: Done 623 tasks      | elapsed:  3.0min\n",
      "[Parallel(n_jobs=-1)]: Done 624 tasks      | elapsed:  3.0min\n",
      "[Parallel(n_jobs=-1)]: Done 625 tasks      | elapsed:  3.0min\n",
      "[Parallel(n_jobs=-1)]: Done 626 tasks      | elapsed:  3.0min\n",
      "[Parallel(n_jobs=-1)]: Done 627 tasks      | elapsed:  3.0min\n",
      "[Parallel(n_jobs=-1)]: Done 628 tasks      | elapsed:  3.0min\n",
      "[Parallel(n_jobs=-1)]: Done 629 tasks      | elapsed:  3.0min\n",
      "[Parallel(n_jobs=-1)]: Done 630 tasks      | elapsed:  3.0min\n",
      "[Parallel(n_jobs=-1)]: Done 631 tasks      | elapsed:  3.1min\n",
      "[Parallel(n_jobs=-1)]: Done 632 tasks      | elapsed:  3.1min\n",
      "[Parallel(n_jobs=-1)]: Done 633 tasks      | elapsed:  3.1min\n",
      "[Parallel(n_jobs=-1)]: Done 634 tasks      | elapsed:  3.2min\n",
      "[Parallel(n_jobs=-1)]: Done 635 tasks      | elapsed:  3.2min\n",
      "[Parallel(n_jobs=-1)]: Done 636 tasks      | elapsed:  3.2min\n",
      "[Parallel(n_jobs=-1)]: Done 637 tasks      | elapsed:  3.2min\n",
      "[Parallel(n_jobs=-1)]: Done 638 tasks      | elapsed:  3.2min\n",
      "[Parallel(n_jobs=-1)]: Done 639 tasks      | elapsed:  3.2min\n",
      "[Parallel(n_jobs=-1)]: Done 640 tasks      | elapsed:  3.2min\n",
      "[Parallel(n_jobs=-1)]: Done 641 tasks      | elapsed:  3.2min\n",
      "[Parallel(n_jobs=-1)]: Done 642 tasks      | elapsed:  3.2min\n",
      "[Parallel(n_jobs=-1)]: Done 643 tasks      | elapsed:  3.2min\n",
      "[Parallel(n_jobs=-1)]: Done 644 tasks      | elapsed:  3.2min\n",
      "[Parallel(n_jobs=-1)]: Done 645 tasks      | elapsed:  3.2min\n",
      "[Parallel(n_jobs=-1)]: Done 646 tasks      | elapsed:  3.2min\n",
      "[Parallel(n_jobs=-1)]: Done 647 tasks      | elapsed:  3.2min\n",
      "[Parallel(n_jobs=-1)]: Done 648 tasks      | elapsed:  3.2min\n",
      "[Parallel(n_jobs=-1)]: Done 649 tasks      | elapsed:  3.2min\n",
      "[Parallel(n_jobs=-1)]: Done 650 tasks      | elapsed:  3.2min\n",
      "[Parallel(n_jobs=-1)]: Done 651 tasks      | elapsed:  3.2min\n",
      "[Parallel(n_jobs=-1)]: Done 652 tasks      | elapsed:  3.2min\n",
      "[Parallel(n_jobs=-1)]: Done 653 tasks      | elapsed:  3.2min\n",
      "[Parallel(n_jobs=-1)]: Done 654 tasks      | elapsed:  3.3min\n",
      "[Parallel(n_jobs=-1)]: Done 655 tasks      | elapsed:  3.3min\n",
      "[Parallel(n_jobs=-1)]: Done 656 tasks      | elapsed:  3.3min\n",
      "[Parallel(n_jobs=-1)]: Done 657 tasks      | elapsed:  3.3min\n",
      "[Parallel(n_jobs=-1)]: Done 658 tasks      | elapsed:  3.3min\n",
      "[Parallel(n_jobs=-1)]: Done 659 tasks      | elapsed:  3.3min\n",
      "[Parallel(n_jobs=-1)]: Done 660 tasks      | elapsed:  3.3min\n",
      "[Parallel(n_jobs=-1)]: Done 661 tasks      | elapsed:  3.3min\n",
      "[Parallel(n_jobs=-1)]: Done 662 tasks      | elapsed:  3.3min\n",
      "[Parallel(n_jobs=-1)]: Done 663 tasks      | elapsed:  3.3min\n",
      "[Parallel(n_jobs=-1)]: Done 664 tasks      | elapsed:  3.3min\n",
      "[Parallel(n_jobs=-1)]: Done 665 tasks      | elapsed:  3.3min\n",
      "[Parallel(n_jobs=-1)]: Done 666 tasks      | elapsed:  3.3min\n",
      "[Parallel(n_jobs=-1)]: Done 667 tasks      | elapsed:  3.3min\n",
      "[Parallel(n_jobs=-1)]: Done 668 tasks      | elapsed:  3.3min\n",
      "[Parallel(n_jobs=-1)]: Done 669 tasks      | elapsed:  3.3min\n",
      "[Parallel(n_jobs=-1)]: Done 670 tasks      | elapsed:  3.3min\n",
      "[Parallel(n_jobs=-1)]: Done 671 tasks      | elapsed:  3.3min\n",
      "[Parallel(n_jobs=-1)]: Done 672 tasks      | elapsed:  3.3min\n",
      "[Parallel(n_jobs=-1)]: Done 673 tasks      | elapsed:  3.3min\n",
      "[Parallel(n_jobs=-1)]: Done 674 tasks      | elapsed:  3.3min\n",
      "[Parallel(n_jobs=-1)]: Done 675 tasks      | elapsed:  3.3min\n",
      "[Parallel(n_jobs=-1)]: Done 676 tasks      | elapsed:  3.4min\n",
      "[Parallel(n_jobs=-1)]: Done 677 tasks      | elapsed:  3.4min\n",
      "[Parallel(n_jobs=-1)]: Done 678 tasks      | elapsed:  3.4min\n",
      "[Parallel(n_jobs=-1)]: Done 679 tasks      | elapsed:  3.5min\n",
      "[Parallel(n_jobs=-1)]: Done 680 tasks      | elapsed:  3.5min\n",
      "[Parallel(n_jobs=-1)]: Done 681 tasks      | elapsed:  3.5min\n",
      "[Parallel(n_jobs=-1)]: Done 682 tasks      | elapsed:  3.6min\n",
      "[Parallel(n_jobs=-1)]: Done 683 tasks      | elapsed:  3.6min\n",
      "[Parallel(n_jobs=-1)]: Done 684 tasks      | elapsed:  3.6min\n",
      "[Parallel(n_jobs=-1)]: Done 685 tasks      | elapsed:  3.6min\n",
      "[Parallel(n_jobs=-1)]: Done 686 tasks      | elapsed:  3.6min\n",
      "[Parallel(n_jobs=-1)]: Done 687 tasks      | elapsed:  3.6min\n",
      "[Parallel(n_jobs=-1)]: Done 688 tasks      | elapsed:  3.6min\n",
      "[Parallel(n_jobs=-1)]: Done 689 tasks      | elapsed:  3.6min\n",
      "[Parallel(n_jobs=-1)]: Done 690 tasks      | elapsed:  3.6min\n",
      "[Parallel(n_jobs=-1)]: Done 691 tasks      | elapsed:  3.6min\n",
      "[Parallel(n_jobs=-1)]: Done 692 tasks      | elapsed:  3.6min\n",
      "[Parallel(n_jobs=-1)]: Done 693 tasks      | elapsed:  3.6min\n",
      "[Parallel(n_jobs=-1)]: Done 694 tasks      | elapsed:  3.6min\n",
      "[Parallel(n_jobs=-1)]: Done 695 tasks      | elapsed:  3.6min\n",
      "[Parallel(n_jobs=-1)]: Done 696 tasks      | elapsed:  3.6min\n",
      "[Parallel(n_jobs=-1)]: Done 697 tasks      | elapsed:  3.6min\n",
      "[Parallel(n_jobs=-1)]: Done 698 tasks      | elapsed:  3.6min\n",
      "[Parallel(n_jobs=-1)]: Done 699 tasks      | elapsed:  3.6min\n",
      "[Parallel(n_jobs=-1)]: Done 700 tasks      | elapsed:  3.6min\n",
      "[Parallel(n_jobs=-1)]: Done 701 tasks      | elapsed:  3.6min\n",
      "[Parallel(n_jobs=-1)]: Done 702 tasks      | elapsed:  3.6min\n",
      "[Parallel(n_jobs=-1)]: Done 703 tasks      | elapsed:  3.6min\n",
      "[Parallel(n_jobs=-1)]: Done 704 tasks      | elapsed:  3.6min\n",
      "[Parallel(n_jobs=-1)]: Done 705 tasks      | elapsed:  3.7min\n",
      "[Parallel(n_jobs=-1)]: Done 706 tasks      | elapsed:  3.7min\n",
      "[Parallel(n_jobs=-1)]: Done 707 tasks      | elapsed:  3.7min\n",
      "[Parallel(n_jobs=-1)]: Done 708 tasks      | elapsed:  3.7min\n",
      "[Parallel(n_jobs=-1)]: Done 709 tasks      | elapsed:  3.7min\n"
     ]
    },
    {
     "name": "stdout",
     "output_type": "stream",
     "text": [
      "[Parallel(n_jobs=-1)]: Done 710 tasks      | elapsed:  3.7min\n",
      "[Parallel(n_jobs=-1)]: Done 711 tasks      | elapsed:  3.7min\n",
      "[Parallel(n_jobs=-1)]: Done 712 tasks      | elapsed:  3.7min\n",
      "[Parallel(n_jobs=-1)]: Done 713 tasks      | elapsed:  3.7min\n",
      "[Parallel(n_jobs=-1)]: Done 714 tasks      | elapsed:  3.7min\n",
      "[Parallel(n_jobs=-1)]: Done 715 tasks      | elapsed:  3.7min\n",
      "[Parallel(n_jobs=-1)]: Done 716 tasks      | elapsed:  3.7min\n",
      "[Parallel(n_jobs=-1)]: Done 717 tasks      | elapsed:  3.7min\n",
      "[Parallel(n_jobs=-1)]: Done 718 tasks      | elapsed:  3.7min\n",
      "[Parallel(n_jobs=-1)]: Done 719 tasks      | elapsed:  3.7min\n",
      "[Parallel(n_jobs=-1)]: Done 720 tasks      | elapsed:  3.7min\n",
      "[Parallel(n_jobs=-1)]: Done 721 tasks      | elapsed:  3.7min\n",
      "[Parallel(n_jobs=-1)]: Done 722 tasks      | elapsed:  3.7min\n",
      "[Parallel(n_jobs=-1)]: Done 723 tasks      | elapsed:  3.7min\n",
      "[Parallel(n_jobs=-1)]: Done 724 tasks      | elapsed:  3.7min\n",
      "[Parallel(n_jobs=-1)]: Done 725 tasks      | elapsed:  3.7min\n",
      "[Parallel(n_jobs=-1)]: Done 726 tasks      | elapsed:  3.8min\n",
      "[Parallel(n_jobs=-1)]: Done 727 tasks      | elapsed:  3.8min\n",
      "[Parallel(n_jobs=-1)]: Done 728 tasks      | elapsed:  3.8min\n",
      "[Parallel(n_jobs=-1)]: Done 729 tasks      | elapsed:  3.8min\n",
      "[Parallel(n_jobs=-1)]: Done 730 tasks      | elapsed:  3.8min\n",
      "[Parallel(n_jobs=-1)]: Done 731 tasks      | elapsed:  3.8min\n",
      "[Parallel(n_jobs=-1)]: Done 732 tasks      | elapsed:  3.8min\n",
      "[Parallel(n_jobs=-1)]: Done 733 tasks      | elapsed:  3.8min\n",
      "[Parallel(n_jobs=-1)]: Done 734 tasks      | elapsed:  3.9min\n",
      "[Parallel(n_jobs=-1)]: Done 735 tasks      | elapsed:  3.9min\n",
      "[Parallel(n_jobs=-1)]: Done 736 tasks      | elapsed:  4.0min\n",
      "[Parallel(n_jobs=-1)]: Done 737 tasks      | elapsed:  4.0min\n",
      "[Parallel(n_jobs=-1)]: Done 738 tasks      | elapsed:  4.0min\n",
      "[Parallel(n_jobs=-1)]: Done 739 tasks      | elapsed:  4.0min\n",
      "[Parallel(n_jobs=-1)]: Done 740 tasks      | elapsed:  4.0min\n",
      "[Parallel(n_jobs=-1)]: Done 741 tasks      | elapsed:  4.0min\n",
      "[Parallel(n_jobs=-1)]: Done 742 tasks      | elapsed:  4.0min\n",
      "[Parallel(n_jobs=-1)]: Done 743 tasks      | elapsed:  4.0min\n",
      "[Parallel(n_jobs=-1)]: Done 744 tasks      | elapsed:  4.0min\n",
      "[Parallel(n_jobs=-1)]: Done 745 tasks      | elapsed:  4.0min\n",
      "[Parallel(n_jobs=-1)]: Done 746 tasks      | elapsed:  4.0min\n",
      "[Parallel(n_jobs=-1)]: Done 747 tasks      | elapsed:  4.0min\n",
      "[Parallel(n_jobs=-1)]: Done 748 tasks      | elapsed:  4.0min\n",
      "[Parallel(n_jobs=-1)]: Done 749 tasks      | elapsed:  4.0min\n",
      "[Parallel(n_jobs=-1)]: Done 750 tasks      | elapsed:  4.0min\n",
      "[Parallel(n_jobs=-1)]: Done 751 tasks      | elapsed:  4.0min\n",
      "[Parallel(n_jobs=-1)]: Done 752 tasks      | elapsed:  4.0min\n",
      "[Parallel(n_jobs=-1)]: Done 753 tasks      | elapsed:  4.0min\n",
      "[Parallel(n_jobs=-1)]: Done 754 tasks      | elapsed:  4.0min\n",
      "[Parallel(n_jobs=-1)]: Done 755 tasks      | elapsed:  4.0min\n",
      "[Parallel(n_jobs=-1)]: Done 756 tasks      | elapsed:  4.0min\n",
      "[Parallel(n_jobs=-1)]: Done 757 tasks      | elapsed:  4.0min\n",
      "[Parallel(n_jobs=-1)]: Done 758 tasks      | elapsed:  4.0min\n",
      "[Parallel(n_jobs=-1)]: Done 759 tasks      | elapsed:  4.0min\n",
      "[Parallel(n_jobs=-1)]: Done 760 tasks      | elapsed:  4.0min\n",
      "[Parallel(n_jobs=-1)]: Done 761 tasks      | elapsed:  4.0min\n",
      "[Parallel(n_jobs=-1)]: Done 762 tasks      | elapsed:  4.0min\n",
      "[Parallel(n_jobs=-1)]: Done 763 tasks      | elapsed:  4.0min\n",
      "[Parallel(n_jobs=-1)]: Done 764 tasks      | elapsed:  4.0min\n",
      "[Parallel(n_jobs=-1)]: Done 765 tasks      | elapsed:  4.0min\n",
      "[Parallel(n_jobs=-1)]: Done 766 tasks      | elapsed:  4.0min\n",
      "[Parallel(n_jobs=-1)]: Done 767 tasks      | elapsed:  4.0min\n",
      "[Parallel(n_jobs=-1)]: Done 768 tasks      | elapsed:  4.0min\n",
      "[Parallel(n_jobs=-1)]: Done 769 tasks      | elapsed:  4.1min\n",
      "[Parallel(n_jobs=-1)]: Done 770 tasks      | elapsed:  4.1min\n",
      "[Parallel(n_jobs=-1)]: Done 771 tasks      | elapsed:  4.1min\n",
      "[Parallel(n_jobs=-1)]: Done 772 tasks      | elapsed:  4.1min\n",
      "[Parallel(n_jobs=-1)]: Done 773 tasks      | elapsed:  4.1min\n",
      "[Parallel(n_jobs=-1)]: Done 774 tasks      | elapsed:  4.1min\n",
      "[Parallel(n_jobs=-1)]: Done 775 tasks      | elapsed:  4.1min\n",
      "[Parallel(n_jobs=-1)]: Done 776 tasks      | elapsed:  4.1min\n",
      "[Parallel(n_jobs=-1)]: Done 777 tasks      | elapsed:  4.1min\n",
      "[Parallel(n_jobs=-1)]: Done 778 tasks      | elapsed:  4.1min\n",
      "[Parallel(n_jobs=-1)]: Done 779 tasks      | elapsed:  4.1min\n",
      "[Parallel(n_jobs=-1)]: Done 780 tasks      | elapsed:  4.1min\n",
      "[Parallel(n_jobs=-1)]: Done 781 tasks      | elapsed:  4.1min\n",
      "[Parallel(n_jobs=-1)]: Done 782 tasks      | elapsed:  4.1min\n",
      "[Parallel(n_jobs=-1)]: Done 783 tasks      | elapsed:  4.1min\n",
      "[Parallel(n_jobs=-1)]: Done 784 tasks      | elapsed:  4.1min\n",
      "[Parallel(n_jobs=-1)]: Done 785 tasks      | elapsed:  4.1min\n",
      "[Parallel(n_jobs=-1)]: Done 786 tasks      | elapsed:  4.1min\n",
      "[Parallel(n_jobs=-1)]: Done 787 tasks      | elapsed:  4.1min\n",
      "[Parallel(n_jobs=-1)]: Done 788 tasks      | elapsed:  4.1min\n",
      "[Parallel(n_jobs=-1)]: Done 789 tasks      | elapsed:  4.1min\n",
      "[Parallel(n_jobs=-1)]: Done 790 tasks      | elapsed:  4.1min\n",
      "[Parallel(n_jobs=-1)]: Done 791 tasks      | elapsed:  4.1min\n",
      "[Parallel(n_jobs=-1)]: Done 792 tasks      | elapsed:  4.1min\n",
      "[Parallel(n_jobs=-1)]: Done 793 tasks      | elapsed:  4.1min\n",
      "[Parallel(n_jobs=-1)]: Done 794 tasks      | elapsed:  4.1min\n",
      "[Parallel(n_jobs=-1)]: Done 795 tasks      | elapsed:  4.1min\n",
      "[Parallel(n_jobs=-1)]: Done 796 tasks      | elapsed:  4.1min\n",
      "[Parallel(n_jobs=-1)]: Done 797 tasks      | elapsed:  4.1min\n",
      "[Parallel(n_jobs=-1)]: Done 798 tasks      | elapsed:  4.1min\n",
      "[Parallel(n_jobs=-1)]: Done 799 tasks      | elapsed:  4.1min\n",
      "[Parallel(n_jobs=-1)]: Done 800 tasks      | elapsed:  4.1min\n",
      "[Parallel(n_jobs=-1)]: Done 801 tasks      | elapsed:  4.1min\n",
      "[Parallel(n_jobs=-1)]: Done 802 tasks      | elapsed:  4.2min\n",
      "[Parallel(n_jobs=-1)]: Done 803 tasks      | elapsed:  4.2min\n",
      "[Parallel(n_jobs=-1)]: Done 804 tasks      | elapsed:  4.2min\n",
      "[Parallel(n_jobs=-1)]: Done 805 tasks      | elapsed:  4.2min\n",
      "[Parallel(n_jobs=-1)]: Done 806 tasks      | elapsed:  4.2min\n",
      "[Parallel(n_jobs=-1)]: Done 807 tasks      | elapsed:  4.2min\n",
      "[Parallel(n_jobs=-1)]: Done 808 tasks      | elapsed:  4.2min\n",
      "[Parallel(n_jobs=-1)]: Done 809 tasks      | elapsed:  4.2min\n",
      "[Parallel(n_jobs=-1)]: Done 810 tasks      | elapsed:  4.2min\n",
      "[Parallel(n_jobs=-1)]: Done 811 tasks      | elapsed:  4.2min\n",
      "[Parallel(n_jobs=-1)]: Done 812 tasks      | elapsed:  4.2min\n",
      "[Parallel(n_jobs=-1)]: Done 813 tasks      | elapsed:  4.2min\n",
      "[Parallel(n_jobs=-1)]: Done 814 tasks      | elapsed:  4.2min\n",
      "[Parallel(n_jobs=-1)]: Done 815 tasks      | elapsed:  4.2min\n",
      "[Parallel(n_jobs=-1)]: Done 816 tasks      | elapsed:  4.2min\n",
      "[Parallel(n_jobs=-1)]: Done 817 tasks      | elapsed:  4.2min\n",
      "[Parallel(n_jobs=-1)]: Done 818 tasks      | elapsed:  4.2min\n",
      "[Parallel(n_jobs=-1)]: Done 819 tasks      | elapsed:  4.2min\n",
      "[Parallel(n_jobs=-1)]: Done 820 tasks      | elapsed:  4.2min\n",
      "[Parallel(n_jobs=-1)]: Done 821 tasks      | elapsed:  4.2min\n",
      "[Parallel(n_jobs=-1)]: Done 822 tasks      | elapsed:  4.2min\n",
      "[Parallel(n_jobs=-1)]: Done 823 tasks      | elapsed:  4.2min\n",
      "[Parallel(n_jobs=-1)]: Done 824 tasks      | elapsed:  4.2min\n",
      "[Parallel(n_jobs=-1)]: Done 825 tasks      | elapsed:  4.2min\n",
      "[Parallel(n_jobs=-1)]: Done 826 tasks      | elapsed:  4.2min\n",
      "[Parallel(n_jobs=-1)]: Done 827 tasks      | elapsed:  4.2min\n",
      "[Parallel(n_jobs=-1)]: Done 828 tasks      | elapsed:  4.2min\n",
      "[Parallel(n_jobs=-1)]: Done 829 tasks      | elapsed:  4.2min\n",
      "[Parallel(n_jobs=-1)]: Done 830 tasks      | elapsed:  4.2min\n",
      "[Parallel(n_jobs=-1)]: Done 831 tasks      | elapsed:  4.2min\n",
      "[Parallel(n_jobs=-1)]: Done 832 tasks      | elapsed:  4.2min\n",
      "[Parallel(n_jobs=-1)]: Done 833 tasks      | elapsed:  4.3min\n",
      "[Parallel(n_jobs=-1)]: Done 834 tasks      | elapsed:  4.3min\n",
      "[Parallel(n_jobs=-1)]: Done 835 tasks      | elapsed:  4.3min\n",
      "[Parallel(n_jobs=-1)]: Done 836 tasks      | elapsed:  4.3min\n",
      "[Parallel(n_jobs=-1)]: Done 837 tasks      | elapsed:  4.3min\n",
      "[Parallel(n_jobs=-1)]: Done 838 tasks      | elapsed:  4.3min\n",
      "[Parallel(n_jobs=-1)]: Done 839 tasks      | elapsed:  4.3min\n",
      "[Parallel(n_jobs=-1)]: Done 840 tasks      | elapsed:  4.3min\n",
      "[Parallel(n_jobs=-1)]: Done 841 tasks      | elapsed:  4.3min\n",
      "[Parallel(n_jobs=-1)]: Done 842 tasks      | elapsed:  4.3min\n"
     ]
    },
    {
     "name": "stdout",
     "output_type": "stream",
     "text": [
      "[Parallel(n_jobs=-1)]: Done 843 tasks      | elapsed:  4.3min\n",
      "[Parallel(n_jobs=-1)]: Done 844 tasks      | elapsed:  4.3min\n",
      "[Parallel(n_jobs=-1)]: Done 845 tasks      | elapsed:  4.3min\n",
      "[Parallel(n_jobs=-1)]: Done 846 tasks      | elapsed:  4.3min\n",
      "[Parallel(n_jobs=-1)]: Done 847 tasks      | elapsed:  4.3min\n",
      "[Parallel(n_jobs=-1)]: Done 848 tasks      | elapsed:  4.3min\n",
      "[Parallel(n_jobs=-1)]: Done 849 tasks      | elapsed:  4.3min\n",
      "[Parallel(n_jobs=-1)]: Done 850 tasks      | elapsed:  4.3min\n",
      "[Parallel(n_jobs=-1)]: Done 851 tasks      | elapsed:  4.3min\n",
      "[Parallel(n_jobs=-1)]: Done 852 tasks      | elapsed:  4.3min\n",
      "[Parallel(n_jobs=-1)]: Done 853 tasks      | elapsed:  4.3min\n",
      "[Parallel(n_jobs=-1)]: Done 854 tasks      | elapsed:  4.3min\n",
      "[Parallel(n_jobs=-1)]: Done 855 tasks      | elapsed:  4.3min\n",
      "[Parallel(n_jobs=-1)]: Done 856 tasks      | elapsed:  4.3min\n",
      "[Parallel(n_jobs=-1)]: Done 857 tasks      | elapsed:  4.3min\n",
      "[Parallel(n_jobs=-1)]: Done 858 tasks      | elapsed:  4.4min\n",
      "[Parallel(n_jobs=-1)]: Done 859 tasks      | elapsed:  4.4min\n",
      "[Parallel(n_jobs=-1)]: Done 860 tasks      | elapsed:  4.4min\n",
      "[Parallel(n_jobs=-1)]: Done 861 tasks      | elapsed:  4.4min\n",
      "[Parallel(n_jobs=-1)]: Done 862 tasks      | elapsed:  4.4min\n",
      "[Parallel(n_jobs=-1)]: Done 863 tasks      | elapsed:  4.4min\n",
      "[Parallel(n_jobs=-1)]: Done 864 tasks      | elapsed:  4.4min\n",
      "[Parallel(n_jobs=-1)]: Done 865 tasks      | elapsed:  4.4min\n",
      "[Parallel(n_jobs=-1)]: Done 866 tasks      | elapsed:  4.4min\n",
      "[Parallel(n_jobs=-1)]: Done 867 tasks      | elapsed:  4.4min\n",
      "[Parallel(n_jobs=-1)]: Done 868 tasks      | elapsed:  4.4min\n",
      "[Parallel(n_jobs=-1)]: Done 869 tasks      | elapsed:  4.4min\n",
      "[Parallel(n_jobs=-1)]: Done 870 tasks      | elapsed:  4.4min\n",
      "[Parallel(n_jobs=-1)]: Done 871 tasks      | elapsed:  4.4min\n",
      "[Parallel(n_jobs=-1)]: Done 872 tasks      | elapsed:  4.4min\n",
      "[Parallel(n_jobs=-1)]: Done 873 tasks      | elapsed:  4.4min\n",
      "[Parallel(n_jobs=-1)]: Done 874 tasks      | elapsed:  4.4min\n",
      "[Parallel(n_jobs=-1)]: Done 875 tasks      | elapsed:  4.4min\n",
      "[Parallel(n_jobs=-1)]: Done 876 tasks      | elapsed:  4.4min\n",
      "[Parallel(n_jobs=-1)]: Done 877 tasks      | elapsed:  4.4min\n",
      "[Parallel(n_jobs=-1)]: Done 878 tasks      | elapsed:  4.4min\n",
      "[Parallel(n_jobs=-1)]: Done 879 tasks      | elapsed:  4.4min\n",
      "[Parallel(n_jobs=-1)]: Done 880 tasks      | elapsed:  4.4min\n",
      "[Parallel(n_jobs=-1)]: Done 881 tasks      | elapsed:  4.4min\n",
      "[Parallel(n_jobs=-1)]: Done 882 tasks      | elapsed:  4.4min\n",
      "[Parallel(n_jobs=-1)]: Done 883 tasks      | elapsed:  4.4min\n",
      "[Parallel(n_jobs=-1)]: Done 884 tasks      | elapsed:  4.4min\n",
      "[Parallel(n_jobs=-1)]: Done 885 tasks      | elapsed:  4.4min\n",
      "[Parallel(n_jobs=-1)]: Done 886 tasks      | elapsed:  4.5min\n",
      "[Parallel(n_jobs=-1)]: Done 887 tasks      | elapsed:  4.5min\n",
      "[Parallel(n_jobs=-1)]: Done 888 tasks      | elapsed:  4.5min\n",
      "[Parallel(n_jobs=-1)]: Done 889 tasks      | elapsed:  4.5min\n",
      "[Parallel(n_jobs=-1)]: Done 890 tasks      | elapsed:  4.5min\n",
      "[Parallel(n_jobs=-1)]: Done 891 tasks      | elapsed:  4.5min\n",
      "[Parallel(n_jobs=-1)]: Done 892 tasks      | elapsed:  4.5min\n",
      "[Parallel(n_jobs=-1)]: Done 893 tasks      | elapsed:  4.5min\n",
      "[Parallel(n_jobs=-1)]: Done 894 tasks      | elapsed:  4.5min\n",
      "[Parallel(n_jobs=-1)]: Done 895 tasks      | elapsed:  4.5min\n",
      "[Parallel(n_jobs=-1)]: Done 896 tasks      | elapsed:  4.5min\n",
      "[Parallel(n_jobs=-1)]: Done 897 tasks      | elapsed:  4.5min\n",
      "[Parallel(n_jobs=-1)]: Done 898 tasks      | elapsed:  4.5min\n",
      "[Parallel(n_jobs=-1)]: Done 899 tasks      | elapsed:  4.5min\n",
      "[Parallel(n_jobs=-1)]: Done 900 tasks      | elapsed:  4.5min\n",
      "[Parallel(n_jobs=-1)]: Done 901 tasks      | elapsed:  4.5min\n",
      "[Parallel(n_jobs=-1)]: Done 902 tasks      | elapsed:  4.6min\n",
      "[Parallel(n_jobs=-1)]: Done 903 tasks      | elapsed:  4.6min\n",
      "[Parallel(n_jobs=-1)]: Done 904 tasks      | elapsed:  4.6min\n",
      "[Parallel(n_jobs=-1)]: Done 905 tasks      | elapsed:  4.6min\n",
      "[Parallel(n_jobs=-1)]: Done 906 tasks      | elapsed:  4.6min\n",
      "[Parallel(n_jobs=-1)]: Done 907 tasks      | elapsed:  4.6min\n",
      "[Parallel(n_jobs=-1)]: Done 908 tasks      | elapsed:  4.6min\n",
      "[Parallel(n_jobs=-1)]: Done 909 tasks      | elapsed:  4.6min\n",
      "[Parallel(n_jobs=-1)]: Done 910 tasks      | elapsed:  4.6min\n",
      "[Parallel(n_jobs=-1)]: Done 911 tasks      | elapsed:  4.6min\n",
      "[Parallel(n_jobs=-1)]: Done 912 tasks      | elapsed:  4.6min\n",
      "[Parallel(n_jobs=-1)]: Done 913 tasks      | elapsed:  4.6min\n",
      "[Parallel(n_jobs=-1)]: Done 914 tasks      | elapsed:  4.6min\n",
      "[Parallel(n_jobs=-1)]: Done 915 tasks      | elapsed:  4.6min\n",
      "[Parallel(n_jobs=-1)]: Done 916 tasks      | elapsed:  4.6min\n",
      "[Parallel(n_jobs=-1)]: Done 917 tasks      | elapsed:  4.6min\n",
      "[Parallel(n_jobs=-1)]: Done 918 tasks      | elapsed:  4.6min\n",
      "[Parallel(n_jobs=-1)]: Done 919 tasks      | elapsed:  4.6min\n",
      "[Parallel(n_jobs=-1)]: Done 920 tasks      | elapsed:  4.6min\n",
      "[Parallel(n_jobs=-1)]: Done 921 tasks      | elapsed:  4.6min\n",
      "[Parallel(n_jobs=-1)]: Done 922 tasks      | elapsed:  4.6min\n",
      "[Parallel(n_jobs=-1)]: Done 923 tasks      | elapsed:  4.6min\n",
      "[Parallel(n_jobs=-1)]: Done 924 tasks      | elapsed:  4.6min\n",
      "[Parallel(n_jobs=-1)]: Done 925 tasks      | elapsed:  4.6min\n",
      "[Parallel(n_jobs=-1)]: Done 926 tasks      | elapsed:  4.6min\n",
      "[Parallel(n_jobs=-1)]: Done 927 tasks      | elapsed:  4.7min\n",
      "[Parallel(n_jobs=-1)]: Done 928 tasks      | elapsed:  4.7min\n",
      "[Parallel(n_jobs=-1)]: Done 929 tasks      | elapsed:  4.7min\n",
      "[Parallel(n_jobs=-1)]: Done 930 tasks      | elapsed:  4.7min\n",
      "[Parallel(n_jobs=-1)]: Done 931 tasks      | elapsed:  4.7min\n",
      "[Parallel(n_jobs=-1)]: Done 932 tasks      | elapsed:  4.7min\n",
      "[Parallel(n_jobs=-1)]: Done 933 tasks      | elapsed:  4.7min\n",
      "[Parallel(n_jobs=-1)]: Done 934 tasks      | elapsed:  4.7min\n",
      "[Parallel(n_jobs=-1)]: Done 935 tasks      | elapsed:  4.7min\n",
      "[Parallel(n_jobs=-1)]: Done 936 tasks      | elapsed:  4.7min\n",
      "[Parallel(n_jobs=-1)]: Done 937 tasks      | elapsed:  4.7min\n",
      "[Parallel(n_jobs=-1)]: Done 938 tasks      | elapsed:  4.7min\n",
      "[Parallel(n_jobs=-1)]: Done 939 tasks      | elapsed:  4.7min\n",
      "[Parallel(n_jobs=-1)]: Done 940 tasks      | elapsed:  4.7min\n",
      "[Parallel(n_jobs=-1)]: Done 941 tasks      | elapsed:  4.7min\n",
      "[Parallel(n_jobs=-1)]: Done 942 tasks      | elapsed:  4.7min\n",
      "[Parallel(n_jobs=-1)]: Done 943 tasks      | elapsed:  4.7min\n",
      "[Parallel(n_jobs=-1)]: Done 944 tasks      | elapsed:  4.7min\n",
      "[Parallel(n_jobs=-1)]: Done 945 tasks      | elapsed:  4.7min\n",
      "[Parallel(n_jobs=-1)]: Done 946 tasks      | elapsed:  4.7min\n",
      "[Parallel(n_jobs=-1)]: Done 947 tasks      | elapsed:  4.8min\n",
      "[Parallel(n_jobs=-1)]: Done 948 tasks      | elapsed:  4.8min\n",
      "[Parallel(n_jobs=-1)]: Done 949 tasks      | elapsed:  4.8min\n",
      "[Parallel(n_jobs=-1)]: Done 950 tasks      | elapsed:  4.8min\n",
      "[Parallel(n_jobs=-1)]: Done 951 tasks      | elapsed:  4.9min\n",
      "[Parallel(n_jobs=-1)]: Done 952 tasks      | elapsed:  4.9min\n",
      "[Parallel(n_jobs=-1)]: Done 953 tasks      | elapsed:  4.9min\n",
      "[Parallel(n_jobs=-1)]: Done 954 tasks      | elapsed:  4.9min\n",
      "[Parallel(n_jobs=-1)]: Done 955 tasks      | elapsed:  4.9min\n",
      "[Parallel(n_jobs=-1)]: Done 956 tasks      | elapsed:  4.9min\n",
      "[Parallel(n_jobs=-1)]: Done 957 tasks      | elapsed:  4.9min\n",
      "[Parallel(n_jobs=-1)]: Done 958 tasks      | elapsed:  4.9min\n",
      "[Parallel(n_jobs=-1)]: Done 959 tasks      | elapsed:  4.9min\n",
      "[Parallel(n_jobs=-1)]: Done 960 tasks      | elapsed:  4.9min\n",
      "[Parallel(n_jobs=-1)]: Done 961 tasks      | elapsed:  4.9min\n",
      "[Parallel(n_jobs=-1)]: Done 962 tasks      | elapsed:  4.9min\n",
      "[Parallel(n_jobs=-1)]: Done 963 tasks      | elapsed:  4.9min\n",
      "[Parallel(n_jobs=-1)]: Done 964 tasks      | elapsed:  4.9min\n",
      "[Parallel(n_jobs=-1)]: Done 965 tasks      | elapsed:  4.9min\n",
      "[Parallel(n_jobs=-1)]: Done 966 tasks      | elapsed:  4.9min\n",
      "[Parallel(n_jobs=-1)]: Done 967 tasks      | elapsed:  4.9min\n",
      "[Parallel(n_jobs=-1)]: Done 968 tasks      | elapsed:  4.9min\n",
      "[Parallel(n_jobs=-1)]: Done 969 tasks      | elapsed:  4.9min\n",
      "[Parallel(n_jobs=-1)]: Done 970 tasks      | elapsed:  4.9min\n",
      "[Parallel(n_jobs=-1)]: Done 971 tasks      | elapsed:  4.9min\n",
      "[Parallel(n_jobs=-1)]: Done 972 tasks      | elapsed:  4.9min\n",
      "[Parallel(n_jobs=-1)]: Done 973 tasks      | elapsed:  4.9min\n",
      "[Parallel(n_jobs=-1)]: Done 974 tasks      | elapsed:  4.9min\n",
      "[Parallel(n_jobs=-1)]: Done 975 tasks      | elapsed:  4.9min\n"
     ]
    },
    {
     "name": "stdout",
     "output_type": "stream",
     "text": [
      "[Parallel(n_jobs=-1)]: Done 976 tasks      | elapsed:  4.9min\n",
      "[Parallel(n_jobs=-1)]: Done 977 tasks      | elapsed:  4.9min\n",
      "[Parallel(n_jobs=-1)]: Done 978 tasks      | elapsed:  4.9min\n",
      "[Parallel(n_jobs=-1)]: Done 979 tasks      | elapsed:  4.9min\n",
      "[Parallel(n_jobs=-1)]: Done 980 tasks      | elapsed:  4.9min\n",
      "[Parallel(n_jobs=-1)]: Done 981 tasks      | elapsed:  5.0min\n",
      "[Parallel(n_jobs=-1)]: Done 982 tasks      | elapsed:  5.0min\n",
      "[Parallel(n_jobs=-1)]: Done 983 tasks      | elapsed:  5.0min\n",
      "[Parallel(n_jobs=-1)]: Done 984 tasks      | elapsed:  5.0min\n",
      "[Parallel(n_jobs=-1)]: Done 985 tasks      | elapsed:  5.0min\n",
      "[Parallel(n_jobs=-1)]: Done 986 tasks      | elapsed:  5.0min\n",
      "[Parallel(n_jobs=-1)]: Done 987 tasks      | elapsed:  5.0min\n",
      "[Parallel(n_jobs=-1)]: Done 988 tasks      | elapsed:  5.0min\n",
      "[Parallel(n_jobs=-1)]: Done 989 tasks      | elapsed:  5.0min\n",
      "[Parallel(n_jobs=-1)]: Done 990 tasks      | elapsed:  5.0min\n",
      "[Parallel(n_jobs=-1)]: Done 991 tasks      | elapsed:  5.0min\n",
      "[Parallel(n_jobs=-1)]: Done 992 tasks      | elapsed:  5.1min\n",
      "[Parallel(n_jobs=-1)]: Done 993 tasks      | elapsed:  5.1min\n",
      "[Parallel(n_jobs=-1)]: Done 994 tasks      | elapsed:  5.1min\n",
      "[Parallel(n_jobs=-1)]: Done 995 tasks      | elapsed:  5.1min\n",
      "[Parallel(n_jobs=-1)]: Done 996 tasks      | elapsed:  5.2min\n",
      "[Parallel(n_jobs=-1)]: Done 997 tasks      | elapsed:  5.2min\n",
      "[Parallel(n_jobs=-1)]: Done 998 tasks      | elapsed:  5.2min\n",
      "[Parallel(n_jobs=-1)]: Done 999 tasks      | elapsed:  5.2min\n",
      "[Parallel(n_jobs=-1)]: Done 1000 tasks      | elapsed:  5.2min\n",
      "[Parallel(n_jobs=-1)]: Done 1001 tasks      | elapsed:  5.2min\n",
      "[Parallel(n_jobs=-1)]: Done 1002 tasks      | elapsed:  5.2min\n",
      "[Parallel(n_jobs=-1)]: Done 1003 tasks      | elapsed:  5.2min\n",
      "[Parallel(n_jobs=-1)]: Done 1004 tasks      | elapsed:  5.2min\n",
      "[Parallel(n_jobs=-1)]: Done 1005 tasks      | elapsed:  5.2min\n",
      "[Parallel(n_jobs=-1)]: Done 1006 tasks      | elapsed:  5.2min\n",
      "[Parallel(n_jobs=-1)]: Done 1007 tasks      | elapsed:  5.2min\n",
      "[Parallel(n_jobs=-1)]: Done 1008 tasks      | elapsed:  5.2min\n",
      "[Parallel(n_jobs=-1)]: Done 1009 tasks      | elapsed:  5.2min\n",
      "[Parallel(n_jobs=-1)]: Done 1010 tasks      | elapsed:  5.2min\n",
      "[Parallel(n_jobs=-1)]: Done 1011 tasks      | elapsed:  5.2min\n",
      "[Parallel(n_jobs=-1)]: Done 1012 tasks      | elapsed:  5.2min\n",
      "[Parallel(n_jobs=-1)]: Done 1013 tasks      | elapsed:  5.2min\n",
      "[Parallel(n_jobs=-1)]: Done 1014 tasks      | elapsed:  5.2min\n",
      "[Parallel(n_jobs=-1)]: Done 1015 tasks      | elapsed:  5.2min\n",
      "[Parallel(n_jobs=-1)]: Done 1016 tasks      | elapsed:  5.2min\n",
      "[Parallel(n_jobs=-1)]: Done 1017 tasks      | elapsed:  5.2min\n",
      "[Parallel(n_jobs=-1)]: Done 1018 tasks      | elapsed:  5.2min\n",
      "[Parallel(n_jobs=-1)]: Done 1019 tasks      | elapsed:  5.2min\n",
      "[Parallel(n_jobs=-1)]: Done 1020 tasks      | elapsed:  5.2min\n",
      "[Parallel(n_jobs=-1)]: Done 1021 tasks      | elapsed:  5.2min\n",
      "[Parallel(n_jobs=-1)]: Done 1022 tasks      | elapsed:  5.2min\n",
      "[Parallel(n_jobs=-1)]: Done 1023 tasks      | elapsed:  5.2min\n",
      "[Parallel(n_jobs=-1)]: Done 1024 tasks      | elapsed:  5.2min\n",
      "[Parallel(n_jobs=-1)]: Done 1025 tasks      | elapsed:  5.2min\n",
      "[Parallel(n_jobs=-1)]: Done 1026 tasks      | elapsed:  5.2min\n",
      "[Parallel(n_jobs=-1)]: Done 1027 tasks      | elapsed:  5.2min\n",
      "[Parallel(n_jobs=-1)]: Done 1028 tasks      | elapsed:  5.2min\n",
      "[Parallel(n_jobs=-1)]: Done 1029 tasks      | elapsed:  5.2min\n",
      "[Parallel(n_jobs=-1)]: Done 1030 tasks      | elapsed:  5.2min\n",
      "[Parallel(n_jobs=-1)]: Done 1031 tasks      | elapsed:  5.3min\n",
      "[Parallel(n_jobs=-1)]: Done 1032 tasks      | elapsed:  5.3min\n",
      "[Parallel(n_jobs=-1)]: Done 1033 tasks      | elapsed:  5.3min\n",
      "[Parallel(n_jobs=-1)]: Done 1034 tasks      | elapsed:  5.3min\n",
      "[Parallel(n_jobs=-1)]: Done 1035 tasks      | elapsed:  5.3min\n",
      "[Parallel(n_jobs=-1)]: Done 1036 tasks      | elapsed:  5.3min\n",
      "[Parallel(n_jobs=-1)]: Done 1037 tasks      | elapsed:  5.3min\n",
      "[Parallel(n_jobs=-1)]: Done 1038 tasks      | elapsed:  5.4min\n",
      "[Parallel(n_jobs=-1)]: Done 1039 tasks      | elapsed:  5.4min\n",
      "[Parallel(n_jobs=-1)]: Done 1040 tasks      | elapsed:  5.4min\n",
      "[Parallel(n_jobs=-1)]: Done 1041 tasks      | elapsed:  5.5min\n",
      "[Parallel(n_jobs=-1)]: Done 1042 tasks      | elapsed:  5.5min\n",
      "[Parallel(n_jobs=-1)]: Done 1043 tasks      | elapsed:  5.5min\n",
      "[Parallel(n_jobs=-1)]: Done 1044 tasks      | elapsed:  5.5min\n",
      "[Parallel(n_jobs=-1)]: Done 1045 tasks      | elapsed:  5.5min\n",
      "[Parallel(n_jobs=-1)]: Done 1046 tasks      | elapsed:  5.5min\n",
      "[Parallel(n_jobs=-1)]: Done 1047 tasks      | elapsed:  5.5min\n",
      "[Parallel(n_jobs=-1)]: Done 1048 tasks      | elapsed:  5.5min\n",
      "[Parallel(n_jobs=-1)]: Done 1049 tasks      | elapsed:  5.5min\n",
      "[Parallel(n_jobs=-1)]: Done 1050 tasks      | elapsed:  5.5min\n",
      "[Parallel(n_jobs=-1)]: Done 1051 tasks      | elapsed:  5.5min\n",
      "[Parallel(n_jobs=-1)]: Done 1052 tasks      | elapsed:  5.5min\n",
      "[Parallel(n_jobs=-1)]: Done 1053 tasks      | elapsed:  5.5min\n",
      "[Parallel(n_jobs=-1)]: Done 1054 tasks      | elapsed:  5.5min\n",
      "[Parallel(n_jobs=-1)]: Done 1055 tasks      | elapsed:  5.5min\n",
      "[Parallel(n_jobs=-1)]: Done 1056 tasks      | elapsed:  5.5min\n",
      "[Parallel(n_jobs=-1)]: Done 1057 tasks      | elapsed:  5.5min\n",
      "[Parallel(n_jobs=-1)]: Done 1058 tasks      | elapsed:  5.6min\n",
      "[Parallel(n_jobs=-1)]: Done 1059 tasks      | elapsed:  5.6min\n",
      "[Parallel(n_jobs=-1)]: Done 1060 tasks      | elapsed:  5.6min\n",
      "[Parallel(n_jobs=-1)]: Done 1061 tasks      | elapsed:  5.6min\n",
      "[Parallel(n_jobs=-1)]: Done 1062 tasks      | elapsed:  5.6min\n",
      "[Parallel(n_jobs=-1)]: Done 1063 tasks      | elapsed:  5.6min\n",
      "[Parallel(n_jobs=-1)]: Done 1064 tasks      | elapsed:  5.6min\n",
      "[Parallel(n_jobs=-1)]: Done 1065 tasks      | elapsed:  5.6min\n",
      "[Parallel(n_jobs=-1)]: Done 1066 tasks      | elapsed:  5.6min\n",
      "[Parallel(n_jobs=-1)]: Done 1067 tasks      | elapsed:  5.6min\n",
      "[Parallel(n_jobs=-1)]: Done 1068 tasks      | elapsed:  5.6min\n",
      "[Parallel(n_jobs=-1)]: Done 1069 tasks      | elapsed:  5.6min\n",
      "[Parallel(n_jobs=-1)]: Done 1070 tasks      | elapsed:  5.6min\n",
      "[Parallel(n_jobs=-1)]: Done 1071 tasks      | elapsed:  5.6min\n",
      "[Parallel(n_jobs=-1)]: Done 1072 tasks      | elapsed:  5.6min\n",
      "[Parallel(n_jobs=-1)]: Done 1073 tasks      | elapsed:  5.6min\n",
      "[Parallel(n_jobs=-1)]: Done 1074 tasks      | elapsed:  5.6min\n",
      "[Parallel(n_jobs=-1)]: Done 1075 tasks      | elapsed:  5.6min\n",
      "[Parallel(n_jobs=-1)]: Done 1076 tasks      | elapsed:  5.6min\n",
      "[Parallel(n_jobs=-1)]: Done 1077 tasks      | elapsed:  5.6min\n",
      "[Parallel(n_jobs=-1)]: Done 1078 tasks      | elapsed:  5.6min\n",
      "[Parallel(n_jobs=-1)]: Done 1079 tasks      | elapsed:  5.6min\n",
      "[Parallel(n_jobs=-1)]: Done 1080 tasks      | elapsed:  5.6min\n",
      "[Parallel(n_jobs=-1)]: Done 1081 tasks      | elapsed:  5.6min\n",
      "[Parallel(n_jobs=-1)]: Done 1082 tasks      | elapsed:  5.6min\n",
      "[Parallel(n_jobs=-1)]: Done 1083 tasks      | elapsed:  5.6min\n",
      "[Parallel(n_jobs=-1)]: Done 1084 tasks      | elapsed:  5.6min\n",
      "[Parallel(n_jobs=-1)]: Done 1085 tasks      | elapsed:  5.6min\n",
      "[Parallel(n_jobs=-1)]: Done 1086 tasks      | elapsed:  5.7min\n",
      "[Parallel(n_jobs=-1)]: Done 1087 tasks      | elapsed:  5.7min\n",
      "[Parallel(n_jobs=-1)]: Done 1088 tasks      | elapsed:  5.7min\n",
      "[Parallel(n_jobs=-1)]: Done 1089 tasks      | elapsed:  5.7min\n",
      "[Parallel(n_jobs=-1)]: Done 1090 tasks      | elapsed:  5.7min\n",
      "[Parallel(n_jobs=-1)]: Done 1091 tasks      | elapsed:  5.7min\n",
      "[Parallel(n_jobs=-1)]: Done 1092 tasks      | elapsed:  5.7min\n",
      "[Parallel(n_jobs=-1)]: Done 1093 tasks      | elapsed:  5.7min\n",
      "[Parallel(n_jobs=-1)]: Done 1094 tasks      | elapsed:  5.8min\n",
      "[Parallel(n_jobs=-1)]: Done 1095 tasks      | elapsed:  5.8min\n",
      "[Parallel(n_jobs=-1)]: Done 1096 tasks      | elapsed:  5.9min\n",
      "[Parallel(n_jobs=-1)]: Done 1097 tasks      | elapsed:  5.9min\n",
      "[Parallel(n_jobs=-1)]: Done 1098 tasks      | elapsed:  5.9min\n",
      "[Parallel(n_jobs=-1)]: Done 1099 tasks      | elapsed:  5.9min\n",
      "[Parallel(n_jobs=-1)]: Done 1100 tasks      | elapsed:  5.9min\n",
      "[Parallel(n_jobs=-1)]: Done 1101 tasks      | elapsed:  5.9min\n",
      "[Parallel(n_jobs=-1)]: Done 1102 tasks      | elapsed:  5.9min\n",
      "[Parallel(n_jobs=-1)]: Done 1103 tasks      | elapsed:  5.9min\n",
      "[Parallel(n_jobs=-1)]: Done 1104 tasks      | elapsed:  5.9min\n",
      "[Parallel(n_jobs=-1)]: Done 1105 tasks      | elapsed:  5.9min\n",
      "[Parallel(n_jobs=-1)]: Done 1106 tasks      | elapsed:  5.9min\n",
      "[Parallel(n_jobs=-1)]: Done 1107 tasks      | elapsed:  5.9min\n",
      "[Parallel(n_jobs=-1)]: Done 1108 tasks      | elapsed:  5.9min\n"
     ]
    },
    {
     "name": "stdout",
     "output_type": "stream",
     "text": [
      "[Parallel(n_jobs=-1)]: Done 1109 tasks      | elapsed:  5.9min\n",
      "[Parallel(n_jobs=-1)]: Done 1110 tasks      | elapsed:  5.9min\n",
      "[Parallel(n_jobs=-1)]: Done 1111 tasks      | elapsed:  5.9min\n",
      "[Parallel(n_jobs=-1)]: Done 1112 tasks      | elapsed:  5.9min\n",
      "[Parallel(n_jobs=-1)]: Done 1113 tasks      | elapsed:  5.9min\n",
      "[Parallel(n_jobs=-1)]: Done 1114 tasks      | elapsed:  5.9min\n",
      "[Parallel(n_jobs=-1)]: Done 1115 tasks      | elapsed:  5.9min\n",
      "[Parallel(n_jobs=-1)]: Done 1116 tasks      | elapsed:  5.9min\n",
      "[Parallel(n_jobs=-1)]: Done 1117 tasks      | elapsed:  5.9min\n",
      "[Parallel(n_jobs=-1)]: Done 1118 tasks      | elapsed:  5.9min\n",
      "[Parallel(n_jobs=-1)]: Done 1119 tasks      | elapsed:  5.9min\n",
      "[Parallel(n_jobs=-1)]: Done 1120 tasks      | elapsed:  5.9min\n",
      "[Parallel(n_jobs=-1)]: Done 1121 tasks      | elapsed:  5.9min\n",
      "[Parallel(n_jobs=-1)]: Done 1122 tasks      | elapsed:  5.9min\n",
      "[Parallel(n_jobs=-1)]: Done 1123 tasks      | elapsed:  5.9min\n",
      "[Parallel(n_jobs=-1)]: Done 1124 tasks      | elapsed:  5.9min\n",
      "[Parallel(n_jobs=-1)]: Done 1125 tasks      | elapsed:  5.9min\n",
      "[Parallel(n_jobs=-1)]: Done 1126 tasks      | elapsed:  5.9min\n",
      "[Parallel(n_jobs=-1)]: Done 1127 tasks      | elapsed:  5.9min\n",
      "[Parallel(n_jobs=-1)]: Done 1128 tasks      | elapsed:  5.9min\n",
      "[Parallel(n_jobs=-1)]: Done 1129 tasks      | elapsed:  5.9min\n",
      "[Parallel(n_jobs=-1)]: Done 1130 tasks      | elapsed:  5.9min\n",
      "[Parallel(n_jobs=-1)]: Done 1131 tasks      | elapsed:  6.0min\n",
      "[Parallel(n_jobs=-1)]: Done 1132 tasks      | elapsed:  6.0min\n",
      "[Parallel(n_jobs=-1)]: Done 1133 tasks      | elapsed:  6.0min\n",
      "[Parallel(n_jobs=-1)]: Done 1134 tasks      | elapsed:  6.0min\n",
      "[Parallel(n_jobs=-1)]: Done 1135 tasks      | elapsed:  6.0min\n",
      "[Parallel(n_jobs=-1)]: Done 1136 tasks      | elapsed:  6.0min\n",
      "[Parallel(n_jobs=-1)]: Done 1137 tasks      | elapsed:  6.0min\n",
      "[Parallel(n_jobs=-1)]: Done 1138 tasks      | elapsed:  6.0min\n",
      "[Parallel(n_jobs=-1)]: Done 1139 tasks      | elapsed:  6.0min\n",
      "[Parallel(n_jobs=-1)]: Done 1140 tasks      | elapsed:  6.0min\n",
      "[Parallel(n_jobs=-1)]: Done 1141 tasks      | elapsed:  6.0min\n",
      "[Parallel(n_jobs=-1)]: Done 1142 tasks      | elapsed:  6.0min\n",
      "[Parallel(n_jobs=-1)]: Done 1143 tasks      | elapsed:  6.0min\n",
      "[Parallel(n_jobs=-1)]: Done 1144 tasks      | elapsed:  6.0min\n",
      "[Parallel(n_jobs=-1)]: Done 1145 tasks      | elapsed:  6.0min\n",
      "[Parallel(n_jobs=-1)]: Done 1146 tasks      | elapsed:  6.0min\n",
      "[Parallel(n_jobs=-1)]: Done 1147 tasks      | elapsed:  6.0min\n",
      "[Parallel(n_jobs=-1)]: Done 1148 tasks      | elapsed:  6.0min\n",
      "[Parallel(n_jobs=-1)]: Done 1149 tasks      | elapsed:  6.0min\n",
      "[Parallel(n_jobs=-1)]: Done 1150 tasks      | elapsed:  6.0min\n",
      "[Parallel(n_jobs=-1)]: Done 1151 tasks      | elapsed:  6.0min\n",
      "[Parallel(n_jobs=-1)]: Done 1152 tasks      | elapsed:  6.0min\n",
      "[Parallel(n_jobs=-1)]: Done 1153 tasks      | elapsed:  6.0min\n",
      "[Parallel(n_jobs=-1)]: Done 1154 tasks      | elapsed:  6.0min\n",
      "[Parallel(n_jobs=-1)]: Done 1155 tasks      | elapsed:  6.0min\n",
      "[Parallel(n_jobs=-1)]: Done 1156 tasks      | elapsed:  6.0min\n",
      "[Parallel(n_jobs=-1)]: Done 1157 tasks      | elapsed:  6.0min\n",
      "[Parallel(n_jobs=-1)]: Done 1158 tasks      | elapsed:  6.0min\n",
      "[Parallel(n_jobs=-1)]: Done 1159 tasks      | elapsed:  6.0min\n",
      "[Parallel(n_jobs=-1)]: Done 1160 tasks      | elapsed:  6.0min\n",
      "[Parallel(n_jobs=-1)]: Done 1161 tasks      | elapsed:  6.0min\n",
      "[Parallel(n_jobs=-1)]: Done 1162 tasks      | elapsed:  6.0min\n",
      "[Parallel(n_jobs=-1)]: Done 1163 tasks      | elapsed:  6.0min\n",
      "[Parallel(n_jobs=-1)]: Done 1164 tasks      | elapsed:  6.0min\n",
      "[Parallel(n_jobs=-1)]: Done 1165 tasks      | elapsed:  6.0min\n",
      "[Parallel(n_jobs=-1)]: Done 1166 tasks      | elapsed:  6.0min\n",
      "[Parallel(n_jobs=-1)]: Done 1167 tasks      | elapsed:  6.0min\n",
      "[Parallel(n_jobs=-1)]: Done 1168 tasks      | elapsed:  6.0min\n",
      "[Parallel(n_jobs=-1)]: Done 1169 tasks      | elapsed:  6.0min\n",
      "[Parallel(n_jobs=-1)]: Done 1170 tasks      | elapsed:  6.0min\n",
      "[Parallel(n_jobs=-1)]: Done 1171 tasks      | elapsed:  6.1min\n",
      "[Parallel(n_jobs=-1)]: Done 1172 tasks      | elapsed:  6.1min\n",
      "[Parallel(n_jobs=-1)]: Done 1173 tasks      | elapsed:  6.1min\n",
      "[Parallel(n_jobs=-1)]: Done 1174 tasks      | elapsed:  6.1min\n",
      "[Parallel(n_jobs=-1)]: Done 1175 tasks      | elapsed:  6.1min\n",
      "[Parallel(n_jobs=-1)]: Done 1176 tasks      | elapsed:  6.1min\n",
      "[Parallel(n_jobs=-1)]: Done 1177 tasks      | elapsed:  6.1min\n",
      "[Parallel(n_jobs=-1)]: Done 1178 tasks      | elapsed:  6.1min\n",
      "[Parallel(n_jobs=-1)]: Done 1179 tasks      | elapsed:  6.1min\n",
      "[Parallel(n_jobs=-1)]: Done 1180 tasks      | elapsed:  6.1min\n",
      "[Parallel(n_jobs=-1)]: Done 1181 tasks      | elapsed:  6.1min\n",
      "[Parallel(n_jobs=-1)]: Done 1182 tasks      | elapsed:  6.1min\n",
      "[Parallel(n_jobs=-1)]: Done 1183 tasks      | elapsed:  6.1min\n",
      "[Parallel(n_jobs=-1)]: Done 1184 tasks      | elapsed:  6.1min\n",
      "[Parallel(n_jobs=-1)]: Done 1185 tasks      | elapsed:  6.1min\n",
      "[Parallel(n_jobs=-1)]: Done 1186 tasks      | elapsed:  6.1min\n",
      "[Parallel(n_jobs=-1)]: Done 1187 tasks      | elapsed:  6.1min\n",
      "[Parallel(n_jobs=-1)]: Done 1188 tasks      | elapsed:  6.1min\n",
      "[Parallel(n_jobs=-1)]: Done 1189 tasks      | elapsed:  6.1min\n",
      "[Parallel(n_jobs=-1)]: Done 1190 tasks      | elapsed:  6.1min\n",
      "[Parallel(n_jobs=-1)]: Done 1191 tasks      | elapsed:  6.1min\n",
      "[Parallel(n_jobs=-1)]: Done 1192 tasks      | elapsed:  6.1min\n",
      "[Parallel(n_jobs=-1)]: Done 1193 tasks      | elapsed:  6.1min\n",
      "[Parallel(n_jobs=-1)]: Done 1194 tasks      | elapsed:  6.1min\n",
      "[Parallel(n_jobs=-1)]: Done 1195 tasks      | elapsed:  6.1min\n",
      "[Parallel(n_jobs=-1)]: Done 1196 tasks      | elapsed:  6.1min\n",
      "[Parallel(n_jobs=-1)]: Done 1197 tasks      | elapsed:  6.1min\n",
      "[Parallel(n_jobs=-1)]: Done 1198 tasks      | elapsed:  6.1min\n",
      "[Parallel(n_jobs=-1)]: Done 1199 tasks      | elapsed:  6.1min\n",
      "[Parallel(n_jobs=-1)]: Done 1200 tasks      | elapsed:  6.1min\n",
      "[Parallel(n_jobs=-1)]: Done 1201 tasks      | elapsed:  6.1min\n",
      "[Parallel(n_jobs=-1)]: Done 1202 tasks      | elapsed:  6.1min\n",
      "[Parallel(n_jobs=-1)]: Done 1203 tasks      | elapsed:  6.1min\n",
      "[Parallel(n_jobs=-1)]: Done 1204 tasks      | elapsed:  6.1min\n",
      "[Parallel(n_jobs=-1)]: Done 1205 tasks      | elapsed:  6.1min\n",
      "[Parallel(n_jobs=-1)]: Done 1206 tasks      | elapsed:  6.2min\n",
      "[Parallel(n_jobs=-1)]: Done 1207 tasks      | elapsed:  6.2min\n",
      "[Parallel(n_jobs=-1)]: Done 1208 tasks      | elapsed:  6.2min\n",
      "[Parallel(n_jobs=-1)]: Done 1209 tasks      | elapsed:  6.2min\n",
      "[Parallel(n_jobs=-1)]: Done 1210 tasks      | elapsed:  6.2min\n",
      "[Parallel(n_jobs=-1)]: Done 1211 tasks      | elapsed:  6.2min\n",
      "[Parallel(n_jobs=-1)]: Done 1212 tasks      | elapsed:  6.2min\n",
      "[Parallel(n_jobs=-1)]: Done 1213 tasks      | elapsed:  6.2min\n",
      "[Parallel(n_jobs=-1)]: Done 1214 tasks      | elapsed:  6.2min\n",
      "[Parallel(n_jobs=-1)]: Done 1215 tasks      | elapsed:  6.2min\n",
      "[Parallel(n_jobs=-1)]: Done 1216 tasks      | elapsed:  6.2min\n",
      "[Parallel(n_jobs=-1)]: Done 1217 tasks      | elapsed:  6.2min\n",
      "[Parallel(n_jobs=-1)]: Done 1218 tasks      | elapsed:  6.2min\n",
      "[Parallel(n_jobs=-1)]: Done 1219 tasks      | elapsed:  6.3min\n",
      "[Parallel(n_jobs=-1)]: Done 1220 tasks      | elapsed:  6.3min\n",
      "[Parallel(n_jobs=-1)]: Done 1221 tasks      | elapsed:  6.3min\n",
      "[Parallel(n_jobs=-1)]: Done 1222 tasks      | elapsed:  6.3min\n",
      "[Parallel(n_jobs=-1)]: Done 1223 tasks      | elapsed:  6.3min\n",
      "[Parallel(n_jobs=-1)]: Done 1224 tasks      | elapsed:  6.3min\n",
      "[Parallel(n_jobs=-1)]: Done 1225 tasks      | elapsed:  6.3min\n",
      "[Parallel(n_jobs=-1)]: Done 1226 tasks      | elapsed:  6.3min\n",
      "[Parallel(n_jobs=-1)]: Done 1227 tasks      | elapsed:  6.3min\n",
      "[Parallel(n_jobs=-1)]: Done 1228 tasks      | elapsed:  6.3min\n",
      "[Parallel(n_jobs=-1)]: Done 1229 tasks      | elapsed:  6.3min\n",
      "[Parallel(n_jobs=-1)]: Done 1230 tasks      | elapsed:  6.3min\n",
      "[Parallel(n_jobs=-1)]: Done 1231 tasks      | elapsed:  6.3min\n",
      "[Parallel(n_jobs=-1)]: Done 1232 tasks      | elapsed:  6.3min\n",
      "[Parallel(n_jobs=-1)]: Done 1233 tasks      | elapsed:  6.3min\n",
      "[Parallel(n_jobs=-1)]: Done 1234 tasks      | elapsed:  6.3min\n",
      "[Parallel(n_jobs=-1)]: Done 1235 tasks      | elapsed:  6.3min\n",
      "[Parallel(n_jobs=-1)]: Done 1236 tasks      | elapsed:  6.3min\n",
      "[Parallel(n_jobs=-1)]: Done 1237 tasks      | elapsed:  6.3min\n",
      "[Parallel(n_jobs=-1)]: Done 1238 tasks      | elapsed:  6.3min\n",
      "[Parallel(n_jobs=-1)]: Done 1239 tasks      | elapsed:  6.3min\n",
      "[Parallel(n_jobs=-1)]: Done 1240 tasks      | elapsed:  6.3min\n",
      "[Parallel(n_jobs=-1)]: Done 1241 tasks      | elapsed:  6.3min\n"
     ]
    },
    {
     "name": "stdout",
     "output_type": "stream",
     "text": [
      "[Parallel(n_jobs=-1)]: Done 1242 tasks      | elapsed:  6.3min\n",
      "[Parallel(n_jobs=-1)]: Done 1243 tasks      | elapsed:  6.3min\n",
      "[Parallel(n_jobs=-1)]: Done 1244 tasks      | elapsed:  6.3min\n",
      "[Parallel(n_jobs=-1)]: Done 1245 tasks      | elapsed:  6.3min\n",
      "[Parallel(n_jobs=-1)]: Done 1246 tasks      | elapsed:  6.3min\n",
      "[Parallel(n_jobs=-1)]: Done 1247 tasks      | elapsed:  6.3min\n",
      "[Parallel(n_jobs=-1)]: Done 1248 tasks      | elapsed:  6.3min\n",
      "[Parallel(n_jobs=-1)]: Done 1249 tasks      | elapsed:  6.3min\n",
      "[Parallel(n_jobs=-1)]: Done 1250 tasks      | elapsed:  6.3min\n",
      "[Parallel(n_jobs=-1)]: Done 1251 tasks      | elapsed:  6.3min\n",
      "[Parallel(n_jobs=-1)]: Done 1252 tasks      | elapsed:  6.4min\n",
      "[Parallel(n_jobs=-1)]: Done 1253 tasks      | elapsed:  6.4min\n",
      "[Parallel(n_jobs=-1)]: Done 1254 tasks      | elapsed:  6.4min\n",
      "[Parallel(n_jobs=-1)]: Done 1255 tasks      | elapsed:  6.4min\n",
      "[Parallel(n_jobs=-1)]: Done 1256 tasks      | elapsed:  6.4min\n",
      "[Parallel(n_jobs=-1)]: Done 1257 tasks      | elapsed:  6.4min\n",
      "[Parallel(n_jobs=-1)]: Done 1258 tasks      | elapsed:  6.4min\n",
      "[Parallel(n_jobs=-1)]: Done 1259 tasks      | elapsed:  6.4min\n",
      "[Parallel(n_jobs=-1)]: Done 1260 tasks      | elapsed:  6.4min\n",
      "[Parallel(n_jobs=-1)]: Done 1261 tasks      | elapsed:  6.4min\n",
      "[Parallel(n_jobs=-1)]: Done 1262 tasks      | elapsed:  6.4min\n",
      "[Parallel(n_jobs=-1)]: Done 1263 tasks      | elapsed:  6.5min\n",
      "[Parallel(n_jobs=-1)]: Done 1264 tasks      | elapsed:  6.5min\n",
      "[Parallel(n_jobs=-1)]: Done 1265 tasks      | elapsed:  6.5min\n",
      "[Parallel(n_jobs=-1)]: Done 1266 tasks      | elapsed:  6.5min\n",
      "[Parallel(n_jobs=-1)]: Done 1267 tasks      | elapsed:  6.5min\n",
      "[Parallel(n_jobs=-1)]: Done 1268 tasks      | elapsed:  6.5min\n",
      "[Parallel(n_jobs=-1)]: Done 1269 tasks      | elapsed:  6.5min\n",
      "[Parallel(n_jobs=-1)]: Done 1270 tasks      | elapsed:  6.5min\n",
      "[Parallel(n_jobs=-1)]: Done 1271 tasks      | elapsed:  6.5min\n",
      "[Parallel(n_jobs=-1)]: Done 1272 tasks      | elapsed:  6.5min\n",
      "[Parallel(n_jobs=-1)]: Done 1273 tasks      | elapsed:  6.5min\n",
      "[Parallel(n_jobs=-1)]: Done 1274 tasks      | elapsed:  6.5min\n",
      "[Parallel(n_jobs=-1)]: Done 1275 tasks      | elapsed:  6.5min\n",
      "[Parallel(n_jobs=-1)]: Done 1276 tasks      | elapsed:  6.5min\n",
      "[Parallel(n_jobs=-1)]: Done 1277 tasks      | elapsed:  6.5min\n",
      "[Parallel(n_jobs=-1)]: Done 1278 tasks      | elapsed:  6.5min\n",
      "[Parallel(n_jobs=-1)]: Done 1279 tasks      | elapsed:  6.5min\n",
      "[Parallel(n_jobs=-1)]: Done 1280 tasks      | elapsed:  6.5min\n",
      "[Parallel(n_jobs=-1)]: Done 1281 tasks      | elapsed:  6.5min\n",
      "[Parallel(n_jobs=-1)]: Done 1282 tasks      | elapsed:  6.5min\n",
      "[Parallel(n_jobs=-1)]: Done 1283 tasks      | elapsed:  6.5min\n",
      "[Parallel(n_jobs=-1)]: Done 1284 tasks      | elapsed:  6.5min\n",
      "[Parallel(n_jobs=-1)]: Done 1285 tasks      | elapsed:  6.5min\n",
      "[Parallel(n_jobs=-1)]: Done 1286 tasks      | elapsed:  6.5min\n",
      "[Parallel(n_jobs=-1)]: Done 1287 tasks      | elapsed:  6.5min\n",
      "[Parallel(n_jobs=-1)]: Done 1288 tasks      | elapsed:  6.5min\n",
      "[Parallel(n_jobs=-1)]: Done 1289 tasks      | elapsed:  6.5min\n",
      "[Parallel(n_jobs=-1)]: Done 1290 tasks      | elapsed:  6.5min\n",
      "[Parallel(n_jobs=-1)]: Done 1291 tasks      | elapsed:  6.5min\n",
      "[Parallel(n_jobs=-1)]: Done 1292 tasks      | elapsed:  6.5min\n",
      "[Parallel(n_jobs=-1)]: Done 1293 tasks      | elapsed:  6.5min\n",
      "[Parallel(n_jobs=-1)]: Done 1294 tasks      | elapsed:  6.5min\n",
      "[Parallel(n_jobs=-1)]: Done 1295 tasks      | elapsed:  6.5min\n",
      "[Parallel(n_jobs=-1)]: Done 1296 tasks      | elapsed:  6.5min\n",
      "[Parallel(n_jobs=-1)]: Done 1297 tasks      | elapsed:  6.6min\n",
      "[Parallel(n_jobs=-1)]: Done 1298 tasks      | elapsed:  6.6min\n",
      "[Parallel(n_jobs=-1)]: Done 1299 tasks      | elapsed:  6.6min\n",
      "[Parallel(n_jobs=-1)]: Done 1300 tasks      | elapsed:  6.6min\n",
      "[Parallel(n_jobs=-1)]: Done 1301 tasks      | elapsed:  6.6min\n",
      "[Parallel(n_jobs=-1)]: Done 1302 tasks      | elapsed:  6.6min\n",
      "[Parallel(n_jobs=-1)]: Done 1303 tasks      | elapsed:  6.6min\n",
      "[Parallel(n_jobs=-1)]: Done 1304 tasks      | elapsed:  6.6min\n",
      "[Parallel(n_jobs=-1)]: Done 1305 tasks      | elapsed:  6.6min\n",
      "[Parallel(n_jobs=-1)]: Done 1306 tasks      | elapsed:  6.6min\n",
      "[Parallel(n_jobs=-1)]: Done 1307 tasks      | elapsed:  6.6min\n",
      "[Parallel(n_jobs=-1)]: Done 1308 tasks      | elapsed:  6.7min\n",
      "[Parallel(n_jobs=-1)]: Done 1309 tasks      | elapsed:  6.7min\n",
      "[Parallel(n_jobs=-1)]: Done 1310 tasks      | elapsed:  6.7min\n",
      "[Parallel(n_jobs=-1)]: Done 1311 tasks      | elapsed:  6.7min\n",
      "[Parallel(n_jobs=-1)]: Done 1312 tasks      | elapsed:  6.8min\n",
      "[Parallel(n_jobs=-1)]: Done 1313 tasks      | elapsed:  6.8min\n",
      "[Parallel(n_jobs=-1)]: Done 1314 tasks      | elapsed:  6.8min\n",
      "[Parallel(n_jobs=-1)]: Done 1315 tasks      | elapsed:  6.8min\n",
      "[Parallel(n_jobs=-1)]: Done 1316 tasks      | elapsed:  6.8min\n",
      "[Parallel(n_jobs=-1)]: Done 1317 tasks      | elapsed:  6.8min\n",
      "[Parallel(n_jobs=-1)]: Done 1318 tasks      | elapsed:  6.8min\n",
      "[Parallel(n_jobs=-1)]: Done 1319 tasks      | elapsed:  6.8min\n",
      "[Parallel(n_jobs=-1)]: Done 1320 tasks      | elapsed:  6.8min\n",
      "[Parallel(n_jobs=-1)]: Done 1321 tasks      | elapsed:  6.8min\n",
      "[Parallel(n_jobs=-1)]: Done 1322 tasks      | elapsed:  6.8min\n",
      "[Parallel(n_jobs=-1)]: Done 1323 tasks      | elapsed:  6.8min\n",
      "[Parallel(n_jobs=-1)]: Done 1324 tasks      | elapsed:  6.8min\n",
      "[Parallel(n_jobs=-1)]: Done 1325 tasks      | elapsed:  6.8min\n",
      "[Parallel(n_jobs=-1)]: Done 1326 tasks      | elapsed:  6.8min\n",
      "[Parallel(n_jobs=-1)]: Done 1327 tasks      | elapsed:  6.8min\n",
      "[Parallel(n_jobs=-1)]: Done 1328 tasks      | elapsed:  6.8min\n",
      "[Parallel(n_jobs=-1)]: Done 1329 tasks      | elapsed:  6.8min\n",
      "[Parallel(n_jobs=-1)]: Done 1330 tasks      | elapsed:  6.8min\n",
      "[Parallel(n_jobs=-1)]: Done 1331 tasks      | elapsed:  6.8min\n",
      "[Parallel(n_jobs=-1)]: Done 1332 tasks      | elapsed:  6.8min\n",
      "[Parallel(n_jobs=-1)]: Done 1333 tasks      | elapsed:  6.8min\n",
      "[Parallel(n_jobs=-1)]: Done 1334 tasks      | elapsed:  6.8min\n",
      "[Parallel(n_jobs=-1)]: Done 1335 tasks      | elapsed:  6.8min\n",
      "[Parallel(n_jobs=-1)]: Done 1336 tasks      | elapsed:  6.8min\n",
      "[Parallel(n_jobs=-1)]: Done 1337 tasks      | elapsed:  6.8min\n",
      "[Parallel(n_jobs=-1)]: Done 1338 tasks      | elapsed:  6.8min\n",
      "[Parallel(n_jobs=-1)]: Done 1339 tasks      | elapsed:  6.8min\n",
      "[Parallel(n_jobs=-1)]: Done 1340 tasks      | elapsed:  6.8min\n",
      "[Parallel(n_jobs=-1)]: Done 1341 tasks      | elapsed:  6.8min\n",
      "[Parallel(n_jobs=-1)]: Done 1342 tasks      | elapsed:  6.8min\n",
      "[Parallel(n_jobs=-1)]: Done 1343 tasks      | elapsed:  6.8min\n",
      "[Parallel(n_jobs=-1)]: Done 1344 tasks      | elapsed:  6.8min\n",
      "[Parallel(n_jobs=-1)]: Done 1345 tasks      | elapsed:  6.8min\n",
      "[Parallel(n_jobs=-1)]: Done 1346 tasks      | elapsed:  6.8min\n",
      "[Parallel(n_jobs=-1)]: Done 1347 tasks      | elapsed:  6.8min\n",
      "[Parallel(n_jobs=-1)]: Done 1348 tasks      | elapsed:  6.8min\n",
      "[Parallel(n_jobs=-1)]: Done 1349 tasks      | elapsed:  6.8min\n",
      "[Parallel(n_jobs=-1)]: Done 1350 tasks      | elapsed:  6.9min\n",
      "[Parallel(n_jobs=-1)]: Done 1351 tasks      | elapsed:  6.9min\n",
      "[Parallel(n_jobs=-1)]: Done 1352 tasks      | elapsed:  6.9min\n",
      "[Parallel(n_jobs=-1)]: Done 1353 tasks      | elapsed:  7.0min\n",
      "[Parallel(n_jobs=-1)]: Done 1354 tasks      | elapsed:  7.0min\n",
      "[Parallel(n_jobs=-1)]: Done 1355 tasks      | elapsed:  7.0min\n",
      "[Parallel(n_jobs=-1)]: Done 1356 tasks      | elapsed:  7.0min\n",
      "[Parallel(n_jobs=-1)]: Done 1357 tasks      | elapsed:  7.0min\n",
      "[Parallel(n_jobs=-1)]: Done 1358 tasks      | elapsed:  7.0min\n",
      "[Parallel(n_jobs=-1)]: Done 1359 tasks      | elapsed:  7.0min\n",
      "[Parallel(n_jobs=-1)]: Done 1360 tasks      | elapsed:  7.0min\n",
      "[Parallel(n_jobs=-1)]: Done 1361 tasks      | elapsed:  7.0min\n",
      "[Parallel(n_jobs=-1)]: Done 1362 tasks      | elapsed:  7.0min\n",
      "[Parallel(n_jobs=-1)]: Done 1363 tasks      | elapsed:  7.0min\n",
      "[Parallel(n_jobs=-1)]: Done 1364 tasks      | elapsed:  7.0min\n",
      "[Parallel(n_jobs=-1)]: Done 1365 tasks      | elapsed:  7.0min\n",
      "[Parallel(n_jobs=-1)]: Done 1366 tasks      | elapsed:  7.0min\n",
      "[Parallel(n_jobs=-1)]: Done 1367 tasks      | elapsed:  7.0min\n",
      "[Parallel(n_jobs=-1)]: Done 1368 tasks      | elapsed:  7.0min\n",
      "[Parallel(n_jobs=-1)]: Done 1369 tasks      | elapsed:  7.0min\n",
      "[Parallel(n_jobs=-1)]: Done 1370 tasks      | elapsed:  7.0min\n",
      "[Parallel(n_jobs=-1)]: Done 1371 tasks      | elapsed:  7.0min\n",
      "[Parallel(n_jobs=-1)]: Done 1372 tasks      | elapsed:  7.0min\n",
      "[Parallel(n_jobs=-1)]: Done 1373 tasks      | elapsed:  7.0min\n"
     ]
    },
    {
     "name": "stdout",
     "output_type": "stream",
     "text": [
      "[Parallel(n_jobs=-1)]: Done 1374 tasks      | elapsed:  7.0min\n",
      "[Parallel(n_jobs=-1)]: Done 1375 tasks      | elapsed:  7.0min\n",
      "[Parallel(n_jobs=-1)]: Done 1376 tasks      | elapsed:  7.0min\n",
      "[Parallel(n_jobs=-1)]: Done 1377 tasks      | elapsed:  7.0min\n",
      "[Parallel(n_jobs=-1)]: Done 1378 tasks      | elapsed:  7.1min\n",
      "[Parallel(n_jobs=-1)]: Done 1379 tasks      | elapsed:  7.1min\n",
      "[Parallel(n_jobs=-1)]: Done 1380 tasks      | elapsed:  7.1min\n",
      "[Parallel(n_jobs=-1)]: Done 1381 tasks      | elapsed:  7.1min\n",
      "[Parallel(n_jobs=-1)]: Done 1382 tasks      | elapsed:  7.1min\n",
      "[Parallel(n_jobs=-1)]: Done 1383 tasks      | elapsed:  7.1min\n",
      "[Parallel(n_jobs=-1)]: Done 1384 tasks      | elapsed:  7.1min\n",
      "[Parallel(n_jobs=-1)]: Done 1385 tasks      | elapsed:  7.1min\n",
      "[Parallel(n_jobs=-1)]: Done 1386 tasks      | elapsed:  7.1min\n",
      "[Parallel(n_jobs=-1)]: Done 1387 tasks      | elapsed:  7.1min\n",
      "[Parallel(n_jobs=-1)]: Done 1388 tasks      | elapsed:  7.1min\n",
      "[Parallel(n_jobs=-1)]: Done 1389 tasks      | elapsed:  7.1min\n",
      "[Parallel(n_jobs=-1)]: Done 1390 tasks      | elapsed:  7.1min\n",
      "[Parallel(n_jobs=-1)]: Done 1391 tasks      | elapsed:  7.1min\n",
      "[Parallel(n_jobs=-1)]: Done 1392 tasks      | elapsed:  7.1min\n",
      "[Parallel(n_jobs=-1)]: Done 1393 tasks      | elapsed:  7.1min\n",
      "[Parallel(n_jobs=-1)]: Done 1394 tasks      | elapsed:  7.1min\n",
      "[Parallel(n_jobs=-1)]: Done 1395 tasks      | elapsed:  7.1min\n",
      "[Parallel(n_jobs=-1)]: Done 1396 tasks      | elapsed:  7.2min\n",
      "[Parallel(n_jobs=-1)]: Done 1397 tasks      | elapsed:  7.2min\n",
      "[Parallel(n_jobs=-1)]: Done 1398 tasks      | elapsed:  7.2min\n",
      "[Parallel(n_jobs=-1)]: Done 1399 tasks      | elapsed:  7.3min\n",
      "[Parallel(n_jobs=-1)]: Done 1400 tasks      | elapsed:  7.3min\n",
      "[Parallel(n_jobs=-1)]: Done 1401 tasks      | elapsed:  7.3min\n",
      "[Parallel(n_jobs=-1)]: Done 1402 tasks      | elapsed:  7.3min\n",
      "[Parallel(n_jobs=-1)]: Done 1403 tasks      | elapsed:  7.3min\n",
      "[Parallel(n_jobs=-1)]: Done 1404 tasks      | elapsed:  7.3min\n",
      "[Parallel(n_jobs=-1)]: Done 1405 tasks      | elapsed:  7.3min\n",
      "[Parallel(n_jobs=-1)]: Done 1406 tasks      | elapsed:  7.3min\n",
      "[Parallel(n_jobs=-1)]: Done 1407 tasks      | elapsed:  7.3min\n",
      "[Parallel(n_jobs=-1)]: Done 1408 tasks      | elapsed:  7.3min\n",
      "[Parallel(n_jobs=-1)]: Done 1409 tasks      | elapsed:  7.3min\n",
      "[Parallel(n_jobs=-1)]: Done 1424 out of 1440 | elapsed:  7.4min remaining:    4.9s\n",
      "[Parallel(n_jobs=-1)]: Done 1440 out of 1440 | elapsed:  7.6min finished\n",
      "Training Accuracy: 75.47%\n",
      "Test Accuracy: 72.87%\n",
      "Cross Validated Score: 72.99%\n",
      "\n",
      "Optimal Parameters: {'learning_rate': 0.001, 'max_depth': 5, 'min_child_weight': 1, 'n_estimators': 1000, 'subsample': 0.5}\n"
     ]
    }
   ],
   "source": [
    "run = True\n",
    "\n",
    "if run == True:\n",
    "\n",
    "    model_xgb_hp = XGBClassifier()\n",
    "\n",
    "    xgb_grid_search = GridSearchCV(model_xgb_hp, param_grid, scoring='accuracy', cv=None, n_jobs=-1, verbose=100)\n",
    "    xgb_grid_search.fit(X_train, y_train)\n",
    "\n",
    "    model_accuracy(xgb_grid_search)\n",
    "    \n",
    "    xgb_best_parameters = xgb_grid_search.best_params_\n",
    "\n",
    "    print(f\"Cross Validated Score: {xgb_grid_search.best_score_ :.2%}\")\n",
    "    print(\"\")\n",
    "    print(f\"Optimal Parameters: {xgb_grid_search.best_params_}\")\n",
    "    \n",
    "else:\n",
    "    xgb_best_parameters = {\n",
    "    'learning_rate': 0.01,\n",
    "    'max_depth': 3,\n",
    "    'min_child_weight': 1,\n",
    "    'subsample': 0.5,\n",
    "    'n_estimators': 100\n",
    "    }\n",
    "\n",
    "    model_xgb_hp = XGBClassifier(**xgb_best_parameters)\n",
    "    model_xgb_hp.fit(X_train, y_train)\n",
    "    model_accuracy(model_xgb_hp, X_train=X_train_br, X_test=X_test_br)"
   ]
  },
  {
   "cell_type": "code",
   "execution_count": 31,
   "metadata": {},
   "outputs": [
    {
     "name": "stdout",
     "output_type": "stream",
     "text": [
      "Training Accuracy: 49.73%\n",
      "Test Accuracy: 48.99%\n"
     ]
    }
   ],
   "source": [
    "model_accuracy(xgb_grid_search)"
   ]
  },
  {
   "cell_type": "code",
   "execution_count": null,
   "metadata": {},
   "outputs": [],
   "source": [
    "model_xgb_hp = XGBClassifier(**xgb_best_parameters)\n",
    "model_xgb_hp.fit(X_train_br, y_train)\n",
    "model_accuracy(model_xgb_hp, X_train=X_train_br, X_test=X_test_br)"
   ]
  },
  {
   "cell_type": "code",
   "execution_count": null,
   "metadata": {},
   "outputs": [],
   "source": [
    "xgb_grid_search"
   ]
  },
  {
   "cell_type": "code",
   "execution_count": null,
   "metadata": {},
   "outputs": [],
   "source": [
    "model_xgb_hp = XGBClassifier(**xgb_best_parameters)\n",
    "model_xgb_hp.fit(X_train_br, y_train)\n",
    "model_accuracy(xgb_grid_search, X_train=X_train_br, X_test=X_test_br)"
   ]
  }
 ],
 "metadata": {
  "kernelspec": {
   "display_name": "learn-env",
   "language": "python",
   "name": "learn-env"
  },
  "language_info": {
   "codemirror_mode": {
    "name": "ipython",
    "version": 3
   },
   "file_extension": ".py",
   "mimetype": "text/x-python",
   "name": "python",
   "nbconvert_exporter": "python",
   "pygments_lexer": "ipython3",
   "version": "3.8.5"
  },
  "toc": {
   "base_numbering": 1,
   "nav_menu": {},
   "number_sections": false,
   "sideBar": true,
   "skip_h1_title": false,
   "title_cell": "Table of Contents",
   "title_sidebar": "Contents",
   "toc_cell": false,
   "toc_position": {
    "height": "47.6px",
    "left": "1163px",
    "top": "110.8px",
    "width": "212px"
   },
   "toc_section_display": true,
   "toc_window_display": true
  },
  "varInspector": {
   "cols": {
    "lenName": 16,
    "lenType": 16,
    "lenVar": 40
   },
   "kernels_config": {
    "python": {
     "delete_cmd_postfix": "",
     "delete_cmd_prefix": "del ",
     "library": "var_list.py",
     "varRefreshCmd": "print(var_dic_list())"
    },
    "r": {
     "delete_cmd_postfix": ") ",
     "delete_cmd_prefix": "rm(",
     "library": "var_list.r",
     "varRefreshCmd": "cat(var_dic_list()) "
    }
   },
   "types_to_exclude": [
    "module",
    "function",
    "builtin_function_or_method",
    "instance",
    "_Feature"
   ],
   "window_display": false
  }
 },
 "nbformat": 4,
 "nbformat_minor": 2
}
