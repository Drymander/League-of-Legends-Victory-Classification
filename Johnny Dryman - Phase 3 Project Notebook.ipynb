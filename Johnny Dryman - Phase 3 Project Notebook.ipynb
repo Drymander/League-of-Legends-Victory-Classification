{
 "cells": [
  {
   "cell_type": "markdown",
   "metadata": {},
   "source": [
    "# League of Legends Early Game Classification Analysis"
   ]
  },
  {
   "cell_type": "markdown",
   "metadata": {},
   "source": [
    "* Student name: Johnny Dryman\n",
    "* Student pace: full time\n",
    "* Scheduled project review date/time: 5/27/2021\n",
    "* Instructor name: James Irving"
   ]
  },
  {
   "cell_type": "markdown",
   "metadata": {},
   "source": [
    "## Business Problem\n",
    "\n",
    "League of Legends (LoL) is an intensely competitive game designed for 'core' gamers, or gamers who care deeply about winning the game.  Naturally, these players hate losing.  When I first started playing, I noticed that one of my teammates might \"rage quit\" a game within the first 10-20 minutes, leaving my teammates and I to an inevitable failure.  This made my experience suffer, and I could see my teammates lamenting in the chat as well.  Considering a single game of LoL can last for 45 minutes, the remaining 35 minutes was not an enjoyable experience.\n",
    "\n",
    "When I discovered the dataset for League of Legends matches with only the first 10 minutes of data, I was inspired to try and find out whether or not my angry teammates were justified in rage quitting.  Was too much of the 45 minute game decided within the first 10 minutes?  Can I use machine learning to predict the winner with only 10 minutes of data?  What factors in the early game were most likely to lead to a victory?\n",
    "\n",
    "The goal of this project is to take a look at how well a winner can be predicted based on early game information, and it also seeks to understand what specific factors can predict a victory."
   ]
  },
  {
   "cell_type": "markdown",
   "metadata": {},
   "source": [
    "# Data Import and Processing"
   ]
  },
  {
   "cell_type": "markdown",
   "metadata": {},
   "source": [
    "Importing packages for importing data and exploratory visual analysis."
   ]
  },
  {
   "cell_type": "code",
   "execution_count": 141,
   "metadata": {
    "ExecuteTime": {
     "end_time": "2021-05-26T20:48:24.232910Z",
     "start_time": "2021-05-26T20:48:24.219915Z"
    }
   },
   "outputs": [],
   "source": [
    "#Standard python libraries\n",
    "import pandas as pd\n",
    "import seaborn as sns\n",
    "import matplotlib.pyplot as plt\n",
    "import numpy as np\n",
    "import warnings\n",
    "warnings.filterwarnings(action='ignore') \n",
    "\n",
    "# Preprocessing tools\n",
    "from sklearn.model_selection import train_test_split,cross_val_predict,cross_validate\n",
    "from sklearn.preprocessing import MinMaxScaler,StandardScaler,OneHotEncoder\n",
    "scaler = StandardScaler()\n",
    "from sklearn import metrics\n",
    "\n",
    "# Models & Utilities\n",
    "from sklearn.dummy import DummyClassifier\n",
    "from sklearn.linear_model import LogisticRegression,LogisticRegressionCV\n",
    "from sklearn.ensemble import RandomForestClassifier\n",
    "from sklearn.model_selection import train_test_split\n",
    "from sklearn.linear_model import LogisticRegression\n",
    "from sklearn.metrics import classification_report\n",
    "from sklearn.model_selection import cross_val_score\n",
    "from xgboost import XGBClassifier\n",
    "from sklearn.model_selection import GridSearchCV\n",
    "from sklearn.metrics import plot_confusion_matrix\n",
    "\n",
    "import warnings\n",
    "warnings.filterwarnings(action='ignore') \n",
    "\n",
    "from sklearn.metrics import accuracy_score, confusion_matrix, classification_report, precision_score, recall_score, f1_score"
   ]
  },
  {
   "cell_type": "markdown",
   "metadata": {},
   "source": [
    "This data was found on Kaggle: https://www.kaggle.com/bobbyscience/league-of-legends-diamond-ranked-games-10-min"
   ]
  },
  {
   "cell_type": "code",
   "execution_count": 142,
   "metadata": {
    "ExecuteTime": {
     "end_time": "2021-05-26T20:48:24.328894Z",
     "start_time": "2021-05-26T20:48:24.236909Z"
    }
   },
   "outputs": [
    {
     "data": {
      "text/html": [
       "<div>\n",
       "<style scoped>\n",
       "    .dataframe tbody tr th:only-of-type {\n",
       "        vertical-align: middle;\n",
       "    }\n",
       "\n",
       "    .dataframe tbody tr th {\n",
       "        vertical-align: top;\n",
       "    }\n",
       "\n",
       "    .dataframe thead th {\n",
       "        text-align: right;\n",
       "    }\n",
       "</style>\n",
       "<table border=\"1\" class=\"dataframe\">\n",
       "  <thead>\n",
       "    <tr style=\"text-align: right;\">\n",
       "      <th></th>\n",
       "      <th>gameId</th>\n",
       "      <th>blueWins</th>\n",
       "      <th>blueWardsPlaced</th>\n",
       "      <th>blueWardsDestroyed</th>\n",
       "      <th>blueFirstBlood</th>\n",
       "      <th>blueKills</th>\n",
       "      <th>blueDeaths</th>\n",
       "      <th>blueAssists</th>\n",
       "      <th>blueEliteMonsters</th>\n",
       "      <th>blueDragons</th>\n",
       "      <th>...</th>\n",
       "      <th>redTowersDestroyed</th>\n",
       "      <th>redTotalGold</th>\n",
       "      <th>redAvgLevel</th>\n",
       "      <th>redTotalExperience</th>\n",
       "      <th>redTotalMinionsKilled</th>\n",
       "      <th>redTotalJungleMinionsKilled</th>\n",
       "      <th>redGoldDiff</th>\n",
       "      <th>redExperienceDiff</th>\n",
       "      <th>redCSPerMin</th>\n",
       "      <th>redGoldPerMin</th>\n",
       "    </tr>\n",
       "  </thead>\n",
       "  <tbody>\n",
       "    <tr>\n",
       "      <th>0</th>\n",
       "      <td>4519157822</td>\n",
       "      <td>0</td>\n",
       "      <td>28</td>\n",
       "      <td>2</td>\n",
       "      <td>1</td>\n",
       "      <td>9</td>\n",
       "      <td>6</td>\n",
       "      <td>11</td>\n",
       "      <td>0</td>\n",
       "      <td>0</td>\n",
       "      <td>...</td>\n",
       "      <td>0</td>\n",
       "      <td>16567</td>\n",
       "      <td>6.8</td>\n",
       "      <td>17047</td>\n",
       "      <td>197</td>\n",
       "      <td>55</td>\n",
       "      <td>-643</td>\n",
       "      <td>8</td>\n",
       "      <td>19.7</td>\n",
       "      <td>1656.7</td>\n",
       "    </tr>\n",
       "    <tr>\n",
       "      <th>1</th>\n",
       "      <td>4523371949</td>\n",
       "      <td>0</td>\n",
       "      <td>12</td>\n",
       "      <td>1</td>\n",
       "      <td>0</td>\n",
       "      <td>5</td>\n",
       "      <td>5</td>\n",
       "      <td>5</td>\n",
       "      <td>0</td>\n",
       "      <td>0</td>\n",
       "      <td>...</td>\n",
       "      <td>1</td>\n",
       "      <td>17620</td>\n",
       "      <td>6.8</td>\n",
       "      <td>17438</td>\n",
       "      <td>240</td>\n",
       "      <td>52</td>\n",
       "      <td>2908</td>\n",
       "      <td>1173</td>\n",
       "      <td>24.0</td>\n",
       "      <td>1762.0</td>\n",
       "    </tr>\n",
       "    <tr>\n",
       "      <th>2</th>\n",
       "      <td>4521474530</td>\n",
       "      <td>0</td>\n",
       "      <td>15</td>\n",
       "      <td>0</td>\n",
       "      <td>0</td>\n",
       "      <td>7</td>\n",
       "      <td>11</td>\n",
       "      <td>4</td>\n",
       "      <td>1</td>\n",
       "      <td>1</td>\n",
       "      <td>...</td>\n",
       "      <td>0</td>\n",
       "      <td>17285</td>\n",
       "      <td>6.8</td>\n",
       "      <td>17254</td>\n",
       "      <td>203</td>\n",
       "      <td>28</td>\n",
       "      <td>1172</td>\n",
       "      <td>1033</td>\n",
       "      <td>20.3</td>\n",
       "      <td>1728.5</td>\n",
       "    </tr>\n",
       "    <tr>\n",
       "      <th>3</th>\n",
       "      <td>4524384067</td>\n",
       "      <td>0</td>\n",
       "      <td>43</td>\n",
       "      <td>1</td>\n",
       "      <td>0</td>\n",
       "      <td>4</td>\n",
       "      <td>5</td>\n",
       "      <td>5</td>\n",
       "      <td>1</td>\n",
       "      <td>0</td>\n",
       "      <td>...</td>\n",
       "      <td>0</td>\n",
       "      <td>16478</td>\n",
       "      <td>7.0</td>\n",
       "      <td>17961</td>\n",
       "      <td>235</td>\n",
       "      <td>47</td>\n",
       "      <td>1321</td>\n",
       "      <td>7</td>\n",
       "      <td>23.5</td>\n",
       "      <td>1647.8</td>\n",
       "    </tr>\n",
       "    <tr>\n",
       "      <th>4</th>\n",
       "      <td>4436033771</td>\n",
       "      <td>0</td>\n",
       "      <td>75</td>\n",
       "      <td>4</td>\n",
       "      <td>0</td>\n",
       "      <td>6</td>\n",
       "      <td>6</td>\n",
       "      <td>6</td>\n",
       "      <td>0</td>\n",
       "      <td>0</td>\n",
       "      <td>...</td>\n",
       "      <td>0</td>\n",
       "      <td>17404</td>\n",
       "      <td>7.0</td>\n",
       "      <td>18313</td>\n",
       "      <td>225</td>\n",
       "      <td>67</td>\n",
       "      <td>1004</td>\n",
       "      <td>-230</td>\n",
       "      <td>22.5</td>\n",
       "      <td>1740.4</td>\n",
       "    </tr>\n",
       "  </tbody>\n",
       "</table>\n",
       "<p>5 rows × 40 columns</p>\n",
       "</div>"
      ],
      "text/plain": [
       "       gameId  blueWins  blueWardsPlaced  blueWardsDestroyed  blueFirstBlood  \\\n",
       "0  4519157822         0               28                   2               1   \n",
       "1  4523371949         0               12                   1               0   \n",
       "2  4521474530         0               15                   0               0   \n",
       "3  4524384067         0               43                   1               0   \n",
       "4  4436033771         0               75                   4               0   \n",
       "\n",
       "   blueKills  blueDeaths  blueAssists  blueEliteMonsters  blueDragons  ...  \\\n",
       "0          9           6           11                  0            0  ...   \n",
       "1          5           5            5                  0            0  ...   \n",
       "2          7          11            4                  1            1  ...   \n",
       "3          4           5            5                  1            0  ...   \n",
       "4          6           6            6                  0            0  ...   \n",
       "\n",
       "   redTowersDestroyed  redTotalGold  redAvgLevel  redTotalExperience  \\\n",
       "0                   0         16567          6.8               17047   \n",
       "1                   1         17620          6.8               17438   \n",
       "2                   0         17285          6.8               17254   \n",
       "3                   0         16478          7.0               17961   \n",
       "4                   0         17404          7.0               18313   \n",
       "\n",
       "   redTotalMinionsKilled  redTotalJungleMinionsKilled  redGoldDiff  \\\n",
       "0                    197                           55         -643   \n",
       "1                    240                           52         2908   \n",
       "2                    203                           28         1172   \n",
       "3                    235                           47         1321   \n",
       "4                    225                           67         1004   \n",
       "\n",
       "   redExperienceDiff  redCSPerMin  redGoldPerMin  \n",
       "0                  8         19.7         1656.7  \n",
       "1               1173         24.0         1762.0  \n",
       "2               1033         20.3         1728.5  \n",
       "3                  7         23.5         1647.8  \n",
       "4               -230         22.5         1740.4  \n",
       "\n",
       "[5 rows x 40 columns]"
      ]
     },
     "execution_count": 142,
     "metadata": {},
     "output_type": "execute_result"
    }
   ],
   "source": [
    "# Importing data\n",
    "df = pd.read_csv('data/high_diamond_ranked_10min.csv')\n",
    "\n",
    "df.head()"
   ]
  },
  {
   "cell_type": "code",
   "execution_count": 143,
   "metadata": {
    "ExecuteTime": {
     "end_time": "2021-05-26T20:48:24.360871Z",
     "start_time": "2021-05-26T20:48:24.331878Z"
    }
   },
   "outputs": [
    {
     "name": "stdout",
     "output_type": "stream",
     "text": [
      "<class 'pandas.core.frame.DataFrame'>\n",
      "RangeIndex: 9879 entries, 0 to 9878\n",
      "Data columns (total 40 columns):\n",
      " #   Column                        Non-Null Count  Dtype  \n",
      "---  ------                        --------------  -----  \n",
      " 0   gameId                        9879 non-null   int64  \n",
      " 1   blueWins                      9879 non-null   int64  \n",
      " 2   blueWardsPlaced               9879 non-null   int64  \n",
      " 3   blueWardsDestroyed            9879 non-null   int64  \n",
      " 4   blueFirstBlood                9879 non-null   int64  \n",
      " 5   blueKills                     9879 non-null   int64  \n",
      " 6   blueDeaths                    9879 non-null   int64  \n",
      " 7   blueAssists                   9879 non-null   int64  \n",
      " 8   blueEliteMonsters             9879 non-null   int64  \n",
      " 9   blueDragons                   9879 non-null   int64  \n",
      " 10  blueHeralds                   9879 non-null   int64  \n",
      " 11  blueTowersDestroyed           9879 non-null   int64  \n",
      " 12  blueTotalGold                 9879 non-null   int64  \n",
      " 13  blueAvgLevel                  9879 non-null   float64\n",
      " 14  blueTotalExperience           9879 non-null   int64  \n",
      " 15  blueTotalMinionsKilled        9879 non-null   int64  \n",
      " 16  blueTotalJungleMinionsKilled  9879 non-null   int64  \n",
      " 17  blueGoldDiff                  9879 non-null   int64  \n",
      " 18  blueExperienceDiff            9879 non-null   int64  \n",
      " 19  blueCSPerMin                  9879 non-null   float64\n",
      " 20  blueGoldPerMin                9879 non-null   float64\n",
      " 21  redWardsPlaced                9879 non-null   int64  \n",
      " 22  redWardsDestroyed             9879 non-null   int64  \n",
      " 23  redFirstBlood                 9879 non-null   int64  \n",
      " 24  redKills                      9879 non-null   int64  \n",
      " 25  redDeaths                     9879 non-null   int64  \n",
      " 26  redAssists                    9879 non-null   int64  \n",
      " 27  redEliteMonsters              9879 non-null   int64  \n",
      " 28  redDragons                    9879 non-null   int64  \n",
      " 29  redHeralds                    9879 non-null   int64  \n",
      " 30  redTowersDestroyed            9879 non-null   int64  \n",
      " 31  redTotalGold                  9879 non-null   int64  \n",
      " 32  redAvgLevel                   9879 non-null   float64\n",
      " 33  redTotalExperience            9879 non-null   int64  \n",
      " 34  redTotalMinionsKilled         9879 non-null   int64  \n",
      " 35  redTotalJungleMinionsKilled   9879 non-null   int64  \n",
      " 36  redGoldDiff                   9879 non-null   int64  \n",
      " 37  redExperienceDiff             9879 non-null   int64  \n",
      " 38  redCSPerMin                   9879 non-null   float64\n",
      " 39  redGoldPerMin                 9879 non-null   float64\n",
      "dtypes: float64(6), int64(34)\n",
      "memory usage: 3.0 MB\n",
      "None\n",
      "gameId                          0\n",
      "blueWins                        0\n",
      "blueWardsPlaced                 0\n",
      "blueWardsDestroyed              0\n",
      "blueFirstBlood                  0\n",
      "blueKills                       0\n",
      "blueDeaths                      0\n",
      "blueAssists                     0\n",
      "blueEliteMonsters               0\n",
      "blueDragons                     0\n",
      "blueHeralds                     0\n",
      "blueTowersDestroyed             0\n",
      "blueTotalGold                   0\n",
      "blueAvgLevel                    0\n",
      "blueTotalExperience             0\n",
      "blueTotalMinionsKilled          0\n",
      "blueTotalJungleMinionsKilled    0\n",
      "blueGoldDiff                    0\n",
      "blueExperienceDiff              0\n",
      "blueCSPerMin                    0\n",
      "blueGoldPerMin                  0\n",
      "redWardsPlaced                  0\n",
      "redWardsDestroyed               0\n",
      "redFirstBlood                   0\n",
      "redKills                        0\n",
      "redDeaths                       0\n",
      "redAssists                      0\n",
      "redEliteMonsters                0\n",
      "redDragons                      0\n",
      "redHeralds                      0\n",
      "redTowersDestroyed              0\n",
      "redTotalGold                    0\n",
      "redAvgLevel                     0\n",
      "redTotalExperience              0\n",
      "redTotalMinionsKilled           0\n",
      "redTotalJungleMinionsKilled     0\n",
      "redGoldDiff                     0\n",
      "redExperienceDiff               0\n",
      "redCSPerMin                     0\n",
      "redGoldPerMin                   0\n",
      "dtype: int64\n"
     ]
    }
   ],
   "source": [
    "# Taking a look at our columns\n",
    "print(df.info())\n",
    "\n",
    "# Checking for NA data\n",
    "print(df.isna().sum())"
   ]
  },
  {
   "cell_type": "markdown",
   "metadata": {
    "ExecuteTime": {
     "end_time": "2021-05-24T22:07:17.405034Z",
     "start_time": "2021-05-24T22:07:17.176106Z"
    },
    "scrolled": true
   },
   "source": [
    "Fortunately there are no null values in our dataset."
   ]
  },
  {
   "cell_type": "markdown",
   "metadata": {},
   "source": [
    "There are a few columns that can be removed entirely and a few that can be combined into categorical variables."
   ]
  },
  {
   "cell_type": "markdown",
   "metadata": {
    "ExecuteTime": {
     "end_time": "2021-05-18T20:25:07.767383Z",
     "start_time": "2021-05-18T20:25:07.757387Z"
    }
   },
   "source": [
    "### First Blood\n",
    "\n",
    "'First Blood' is awarded to the team who gets the first kill in the game.  Both blueFirstBlood and redFirstBlood are binary and inversely related.  If Blue wins First Blood, blueFirstBlood will be recorded as 1 and redFirstBlood will be recorded as 0.  \n",
    "\n",
    "We can merge these columns into one."
   ]
  },
  {
   "cell_type": "code",
   "execution_count": 144,
   "metadata": {
    "ExecuteTime": {
     "end_time": "2021-05-26T20:48:24.376881Z",
     "start_time": "2021-05-26T20:48:24.363868Z"
    }
   },
   "outputs": [
    {
     "data": {
      "text/plain": [
       "0       1\n",
       "1       0\n",
       "2       0\n",
       "3       0\n",
       "4       0\n",
       "       ..\n",
       "9874    1\n",
       "9875    0\n",
       "9876    0\n",
       "9877    1\n",
       "9878    1\n",
       "Name: blueFirstBlood, Length: 9879, dtype: int64"
      ]
     },
     "execution_count": 144,
     "metadata": {},
     "output_type": "execute_result"
    }
   ],
   "source": [
    "df['blueFirstBlood']"
   ]
  },
  {
   "cell_type": "code",
   "execution_count": 145,
   "metadata": {
    "ExecuteTime": {
     "end_time": "2021-05-26T20:48:24.408870Z",
     "start_time": "2021-05-26T20:48:24.378864Z"
    }
   },
   "outputs": [
    {
     "data": {
      "text/plain": [
       "0       Blue\n",
       "1        Red\n",
       "2        Red\n",
       "3        Red\n",
       "4        Red\n",
       "        ... \n",
       "9874    Blue\n",
       "9875     Red\n",
       "9876     Red\n",
       "9877    Blue\n",
       "9878    Blue\n",
       "Name: firstBlood, Length: 9879, dtype: object"
      ]
     },
     "execution_count": 145,
     "metadata": {},
     "output_type": "execute_result"
    }
   ],
   "source": [
    "firstBlood = []\n",
    "\n",
    "for item in df['blueFirstBlood']:\n",
    "    if item == 1:\n",
    "        firstBlood.append('Blue')\n",
    "    else:\n",
    "        firstBlood.append('Red')\n",
    "        \n",
    "df['firstBlood'] = firstBlood\n",
    "\n",
    "df['firstBlood']"
   ]
  },
  {
   "cell_type": "markdown",
   "metadata": {},
   "source": [
    "We can discard blueFirstBlood and redFirstBlood"
   ]
  },
  {
   "cell_type": "code",
   "execution_count": 146,
   "metadata": {
    "ExecuteTime": {
     "end_time": "2021-05-26T20:48:24.424851Z",
     "start_time": "2021-05-26T20:48:24.410855Z"
    }
   },
   "outputs": [],
   "source": [
    "df = df.drop(['blueFirstBlood','redFirstBlood'], axis=1)"
   ]
  },
  {
   "cell_type": "markdown",
   "metadata": {},
   "source": [
    "### Kills & Deaths\n",
    "\n",
    "blueKills is inversely related with redDeaths, and redKills is inversely related with blueDeaths since the Blue team can only kill Red players and vice versa.  blueDeaths and redDeaths can both be removed, leaving kills intact will preserve this information."
   ]
  },
  {
   "cell_type": "code",
   "execution_count": 147,
   "metadata": {
    "ExecuteTime": {
     "end_time": "2021-05-26T20:48:24.440844Z",
     "start_time": "2021-05-26T20:48:24.428862Z"
    }
   },
   "outputs": [],
   "source": [
    "df = df.drop(['blueDeaths','redDeaths'], axis=1)"
   ]
  },
  {
   "cell_type": "markdown",
   "metadata": {},
   "source": [
    "### Dragon & Herald\n",
    "\n",
    "While this wouldn't hold true for LoL data spanning the entire length of each game, we know that there is only one opportunity to kill both the Dragon and the Harold in the first 10 minutes of each match.  Unlike firstBlood where the action always occurs in the first 10 minutes (at least for the matches in our dataset), each dragon or herald can be killed only once or not at all.\n",
    "\n",
    "Therefore, dragon and herald can be categorized as 'Blue,' 'Red,' or 'None.'"
   ]
  },
  {
   "cell_type": "code",
   "execution_count": 148,
   "metadata": {
    "ExecuteTime": {
     "end_time": "2021-05-26T20:48:24.472833Z",
     "start_time": "2021-05-26T20:48:24.443843Z"
    }
   },
   "outputs": [],
   "source": [
    "dragon_list = []\n",
    "\n",
    "dragon_kill = df['blueDragons'] - df['redDragons']\n",
    "\n",
    "for item in dragon_kill:\n",
    "    if item == 1:\n",
    "        dragon_list.append('Blue')\n",
    "    elif item == -1:\n",
    "        dragon_list.append('Red')\n",
    "    else:\n",
    "        dragon_list.append('No Dragon')\n",
    "        \n",
    "df['dragon'] = dragon_list"
   ]
  },
  {
   "cell_type": "markdown",
   "metadata": {},
   "source": [
    "blueDragons and redDragons can be removed:"
   ]
  },
  {
   "cell_type": "code",
   "execution_count": 149,
   "metadata": {
    "ExecuteTime": {
     "end_time": "2021-05-26T20:48:24.488829Z",
     "start_time": "2021-05-26T20:48:24.475834Z"
    }
   },
   "outputs": [],
   "source": [
    "df = df.drop(['blueDragons','redDragons'], axis=1)"
   ]
  },
  {
   "cell_type": "markdown",
   "metadata": {},
   "source": [
    "We can reuse this code for the herald feature:"
   ]
  },
  {
   "cell_type": "code",
   "execution_count": 150,
   "metadata": {
    "ExecuteTime": {
     "end_time": "2021-05-26T20:48:24.520818Z",
     "start_time": "2021-05-26T20:48:24.491828Z"
    }
   },
   "outputs": [],
   "source": [
    "herald_list = []\n",
    "\n",
    "herald_kill = df['blueHeralds'] - df['redHeralds']\n",
    "\n",
    "for item in herald_kill:\n",
    "    if item == 1:\n",
    "        herald_list.append('Blue')\n",
    "    elif item == -1:\n",
    "        herald_list.append('Red')\n",
    "    else:\n",
    "        herald_list.append('No Herald')\n",
    "        \n",
    "df['herald'] = herald_list"
   ]
  },
  {
   "cell_type": "code",
   "execution_count": 151,
   "metadata": {
    "ExecuteTime": {
     "end_time": "2021-05-26T20:48:24.535813Z",
     "start_time": "2021-05-26T20:48:24.523817Z"
    }
   },
   "outputs": [],
   "source": [
    "df = df.drop(['blueHeralds','redHeralds'], axis=1)"
   ]
  },
  {
   "cell_type": "markdown",
   "metadata": {},
   "source": [
    "### Elite Monsters"
   ]
  },
  {
   "cell_type": "markdown",
   "metadata": {},
   "source": [
    "In the first 10 minutes of a match, Elite Monsters will receive +1 if a team kills the Dragon and another +1 if the same team kills the Herald.  It is redundant information from what we already have with the Dragon and Harold features.  "
   ]
  },
  {
   "cell_type": "code",
   "execution_count": 152,
   "metadata": {
    "ExecuteTime": {
     "end_time": "2021-05-26T20:48:24.551809Z",
     "start_time": "2021-05-26T20:48:24.538813Z"
    }
   },
   "outputs": [],
   "source": [
    "df = df.drop(['blueEliteMonsters','redEliteMonsters'], axis=1)"
   ]
  },
  {
   "cell_type": "markdown",
   "metadata": {},
   "source": [
    "### GoldDiff, ExperienceDiff, CSPerMin, and GoldPerMin\n",
    "\n",
    "Both blue and red teams have these four metrics.  While they are useful metrics for other types of analyses, they are essentially duplicative, since they are all calculated in a similar fashion from features already included in our data.  \n",
    "\n",
    "- GoldDiff represents the difference between blueTotalGold and redTotalGold\n",
    "- ExperienceDiff represents the difference between blueTotalExperience and redTotalExperience\n",
    "- blue and red CSPerMin represents the minute rate of blue and red TotalMinionsKilled.  For our 10 minute data, CSPerMin for each team will always be TotalMinionsKilled divided by 10\n",
    "- similarly, blue and red GoldPerMin represents blue and red TotalGold divided by 10\n",
    "\n",
    "These four features from both teams (totaling 8 features) can be removed without losing any information.\n"
   ]
  },
  {
   "cell_type": "code",
   "execution_count": 153,
   "metadata": {
    "ExecuteTime": {
     "end_time": "2021-05-26T20:48:24.567802Z",
     "start_time": "2021-05-26T20:48:24.553808Z"
    }
   },
   "outputs": [],
   "source": [
    "df = df.drop(['blueGoldDiff',\n",
    "            'blueExperienceDiff',\n",
    "            'blueCSPerMin',\n",
    "            'blueGoldPerMin',\n",
    "            'redGoldDiff',\n",
    "            'redExperienceDiff',\n",
    "            'redCSPerMin',\n",
    "            'redGoldPerMin'], axis=1)"
   ]
  },
  {
   "cell_type": "markdown",
   "metadata": {},
   "source": [
    "### gameId\n",
    "\n",
    "gameId represents a unique identifier for every LoL game, no two gameId's will ever be the same, so this column can be removed."
   ]
  },
  {
   "cell_type": "code",
   "execution_count": 154,
   "metadata": {
    "ExecuteTime": {
     "end_time": "2021-05-26T20:48:24.583798Z",
     "start_time": "2021-05-26T20:48:24.570803Z"
    }
   },
   "outputs": [],
   "source": [
    "df = df.drop(['gameId'], axis=1)"
   ]
  },
  {
   "cell_type": "markdown",
   "metadata": {},
   "source": [
    "### Merging Continuous Features"
   ]
  },
  {
   "cell_type": "markdown",
   "metadata": {
    "ExecuteTime": {
     "end_time": "2021-05-24T22:07:17.713935Z",
     "start_time": "2021-05-24T22:07:17.655952Z"
    }
   },
   "source": [
    "For this analysis, we will combine all blue and red continuous features into single features that will represent that +/- ratio of blue compared to red.  If a continuous value is positive, that means blue had that much more than red.  If a feature is negative, the absolute value of that negative number represents red's greater value.  "
   ]
  },
  {
   "cell_type": "code",
   "execution_count": 155,
   "metadata": {
    "ExecuteTime": {
     "end_time": "2021-05-26T20:48:24.631782Z",
     "start_time": "2021-05-26T20:48:24.586797Z"
    }
   },
   "outputs": [
    {
     "data": {
      "text/html": [
       "<div>\n",
       "<style scoped>\n",
       "    .dataframe tbody tr th:only-of-type {\n",
       "        vertical-align: middle;\n",
       "    }\n",
       "\n",
       "    .dataframe tbody tr th {\n",
       "        vertical-align: top;\n",
       "    }\n",
       "\n",
       "    .dataframe thead th {\n",
       "        text-align: right;\n",
       "    }\n",
       "</style>\n",
       "<table border=\"1\" class=\"dataframe\">\n",
       "  <thead>\n",
       "    <tr style=\"text-align: right;\">\n",
       "      <th></th>\n",
       "      <th>WardsPlaced</th>\n",
       "      <th>WardsDestroyed</th>\n",
       "      <th>Kills</th>\n",
       "      <th>Assists</th>\n",
       "      <th>TowersDestroyed</th>\n",
       "      <th>TotalGold</th>\n",
       "      <th>AvgLevel</th>\n",
       "      <th>TotalExperience</th>\n",
       "      <th>TotalMinionsKilled</th>\n",
       "      <th>TotalJungleMinionsKilled</th>\n",
       "      <th>firstBlood</th>\n",
       "      <th>dragon</th>\n",
       "      <th>herald</th>\n",
       "      <th>blueWins</th>\n",
       "    </tr>\n",
       "  </thead>\n",
       "  <tbody>\n",
       "    <tr>\n",
       "      <th>0</th>\n",
       "      <td>13</td>\n",
       "      <td>-4</td>\n",
       "      <td>3</td>\n",
       "      <td>3</td>\n",
       "      <td>0</td>\n",
       "      <td>643</td>\n",
       "      <td>-0.2</td>\n",
       "      <td>-8</td>\n",
       "      <td>-2</td>\n",
       "      <td>-19</td>\n",
       "      <td>Blue</td>\n",
       "      <td>No Dragon</td>\n",
       "      <td>No Herald</td>\n",
       "      <td>0</td>\n",
       "    </tr>\n",
       "    <tr>\n",
       "      <th>1</th>\n",
       "      <td>0</td>\n",
       "      <td>0</td>\n",
       "      <td>0</td>\n",
       "      <td>3</td>\n",
       "      <td>-1</td>\n",
       "      <td>-2908</td>\n",
       "      <td>-0.2</td>\n",
       "      <td>-1173</td>\n",
       "      <td>-66</td>\n",
       "      <td>-9</td>\n",
       "      <td>Red</td>\n",
       "      <td>Red</td>\n",
       "      <td>Red</td>\n",
       "      <td>0</td>\n",
       "    </tr>\n",
       "    <tr>\n",
       "      <th>2</th>\n",
       "      <td>0</td>\n",
       "      <td>-3</td>\n",
       "      <td>-4</td>\n",
       "      <td>-10</td>\n",
       "      <td>0</td>\n",
       "      <td>-1172</td>\n",
       "      <td>-0.4</td>\n",
       "      <td>-1033</td>\n",
       "      <td>-17</td>\n",
       "      <td>18</td>\n",
       "      <td>Red</td>\n",
       "      <td>Blue</td>\n",
       "      <td>No Herald</td>\n",
       "      <td>0</td>\n",
       "    </tr>\n",
       "    <tr>\n",
       "      <th>3</th>\n",
       "      <td>28</td>\n",
       "      <td>-1</td>\n",
       "      <td>-1</td>\n",
       "      <td>-5</td>\n",
       "      <td>0</td>\n",
       "      <td>-1321</td>\n",
       "      <td>0.0</td>\n",
       "      <td>-7</td>\n",
       "      <td>-34</td>\n",
       "      <td>8</td>\n",
       "      <td>Red</td>\n",
       "      <td>No Dragon</td>\n",
       "      <td>Blue</td>\n",
       "      <td>0</td>\n",
       "    </tr>\n",
       "    <tr>\n",
       "      <th>4</th>\n",
       "      <td>58</td>\n",
       "      <td>2</td>\n",
       "      <td>0</td>\n",
       "      <td>-1</td>\n",
       "      <td>0</td>\n",
       "      <td>-1004</td>\n",
       "      <td>0.0</td>\n",
       "      <td>230</td>\n",
       "      <td>-15</td>\n",
       "      <td>-10</td>\n",
       "      <td>Red</td>\n",
       "      <td>Red</td>\n",
       "      <td>No Herald</td>\n",
       "      <td>0</td>\n",
       "    </tr>\n",
       "  </tbody>\n",
       "</table>\n",
       "</div>"
      ],
      "text/plain": [
       "   WardsPlaced  WardsDestroyed  Kills  Assists  TowersDestroyed  TotalGold  \\\n",
       "0           13              -4      3        3                0        643   \n",
       "1            0               0      0        3               -1      -2908   \n",
       "2            0              -3     -4      -10                0      -1172   \n",
       "3           28              -1     -1       -5                0      -1321   \n",
       "4           58               2      0       -1                0      -1004   \n",
       "\n",
       "   AvgLevel  TotalExperience  TotalMinionsKilled  TotalJungleMinionsKilled  \\\n",
       "0      -0.2               -8                  -2                       -19   \n",
       "1      -0.2            -1173                 -66                        -9   \n",
       "2      -0.4            -1033                 -17                        18   \n",
       "3       0.0               -7                 -34                         8   \n",
       "4       0.0              230                 -15                       -10   \n",
       "\n",
       "  firstBlood     dragon     herald  blueWins  \n",
       "0       Blue  No Dragon  No Herald         0  \n",
       "1        Red        Red        Red         0  \n",
       "2        Red       Blue  No Herald         0  \n",
       "3        Red  No Dragon       Blue         0  \n",
       "4        Red        Red  No Herald         0  "
      ]
     },
     "execution_count": 155,
     "metadata": {},
     "output_type": "execute_result"
    }
   ],
   "source": [
    "# Saving copy of dataframe so far before merging continuous features\n",
    "df_blue_red = df.copy()\n",
    "\n",
    "# Instantiating empty dataframe\n",
    "diff_df = pd.DataFrame()\n",
    "\n",
    "# Building diff_df by calculating differences between blue and red stats\n",
    "diff_df['WardsPlaced'] = df['blueWardsPlaced'] - df['redWardsPlaced']\n",
    "diff_df['WardsDestroyed'] = df['blueWardsDestroyed'] - df['redWardsDestroyed']\n",
    "diff_df['Kills'] = df['blueKills'] - df['redKills']\n",
    "diff_df['Assists'] = df['blueAssists'] - df['redAssists']\n",
    "diff_df['TowersDestroyed'] = df['blueTowersDestroyed'] - df['redTowersDestroyed']\n",
    "diff_df['TotalGold'] = df['blueTotalGold'] - df['redTotalGold']\n",
    "diff_df['AvgLevel'] = df['blueAvgLevel'] - df['redAvgLevel']\n",
    "diff_df['TotalExperience'] = df['blueTotalExperience'] - df['redTotalExperience']\n",
    "diff_df['TotalMinionsKilled'] = df['blueTotalMinionsKilled'] - df['redTotalMinionsKilled']\n",
    "diff_df['TotalJungleMinionsKilled'] = df['blueTotalJungleMinionsKilled'] - df['redTotalJungleMinionsKilled']\n",
    "\n",
    "# Merging with categorical features\n",
    "diff_df = pd.concat([diff_df, df[['firstBlood', 'dragon', 'herald', 'blueWins']]], axis=1)\n",
    "\n",
    "df = diff_df\n",
    "\n",
    "df.head()"
   ]
  },
  {
   "cell_type": "markdown",
   "metadata": {},
   "source": [
    "# Exploratory Analysis"
   ]
  },
  {
   "cell_type": "markdown",
   "metadata": {},
   "source": [
    "## Visualizations"
   ]
  },
  {
   "cell_type": "code",
   "execution_count": 156,
   "metadata": {
    "ExecuteTime": {
     "end_time": "2021-05-26T20:48:25.075658Z",
     "start_time": "2021-05-26T20:48:24.633783Z"
    }
   },
   "outputs": [
    {
     "data": {
      "text/plain": [
       "<AxesSubplot:xlabel='blueWins', ylabel='Count'>"
      ]
     },
     "execution_count": 156,
     "metadata": {},
     "output_type": "execute_result"
    },
    {
     "data": {
      "image/png": "[encoded data removed]",
      "text/plain": [
       "<Figure size 432x288 with 1 Axes>"
      ]
     },
     "metadata": {
      "needs_background": "light"
     },
     "output_type": "display_data"
    }
   ],
   "source": [
    "sns.histplot(x='blueWins', data=df, hue='blueWins', palette='Set1', kde=True)"
   ]
  },
  {
   "cell_type": "markdown",
   "metadata": {
    "ExecuteTime": {
     "end_time": "2021-05-24T19:15:06.575924Z",
     "start_time": "2021-05-24T19:15:05.811471Z"
    }
   },
   "source": [
    "The win split seems pretty even, so it seems there is no overt advantage to being either blue or red."
   ]
  },
  {
   "cell_type": "code",
   "execution_count": 157,
   "metadata": {
    "ExecuteTime": {
     "end_time": "2021-05-26T20:48:25.945378Z",
     "start_time": "2021-05-26T20:48:25.078641Z"
    },
    "scrolled": true
   },
   "outputs": [
    {
     "data": {
      "text/plain": [
       "<AxesSubplot:xlabel='Kills', ylabel='Count'>"
      ]
     },
     "execution_count": 157,
     "metadata": {},
     "output_type": "execute_result"
    },
    {
     "data": {
      "image/png": "[encoded data removed]",
      "text/plain": [
       "<Figure size 432x288 with 1 Axes>"
      ]
     },
     "metadata": {
      "needs_background": "light"
     },
     "output_type": "display_data"
    }
   ],
   "source": [
    "sns.histplot(x='Kills', data=df, hue='blueWins', palette='Set1', kde=True)"
   ]
  },
  {
   "cell_type": "markdown",
   "metadata": {},
   "source": [
    "It seems clear that outperforming in kills has an influence on winning."
   ]
  },
  {
   "cell_type": "code",
   "execution_count": 158,
   "metadata": {
    "ExecuteTime": {
     "end_time": "2021-05-26T20:48:26.756278Z",
     "start_time": "2021-05-26T20:48:25.948362Z"
    }
   },
   "outputs": [
    {
     "data": {
      "text/plain": [
       "<AxesSubplot:xlabel='Assists', ylabel='Count'>"
      ]
     },
     "execution_count": 158,
     "metadata": {},
     "output_type": "execute_result"
    },
    {
     "data": {
      "image/png": "[encoded data removed]",
      "text/plain": [
       "<Figure size 432x288 with 1 Axes>"
      ]
     },
     "metadata": {
      "needs_background": "light"
     },
     "output_type": "display_data"
    }
   ],
   "source": [
    "sns.histplot(x='Assists', data=df, hue='blueWins', palette='Set1', kde=True)"
   ]
  },
  {
   "cell_type": "markdown",
   "metadata": {},
   "source": [
    "Assists still seem relevant and are also somewhat incidental to kills, but the disparity with assists is less clear."
   ]
  },
  {
   "cell_type": "code",
   "execution_count": 159,
   "metadata": {
    "ExecuteTime": {
     "end_time": "2021-05-26T20:48:27.027207Z",
     "start_time": "2021-05-26T20:48:26.763276Z"
    }
   },
   "outputs": [
    {
     "data": {
      "text/plain": [
       "<AxesSubplot:xlabel='dragon', ylabel='count'>"
      ]
     },
     "execution_count": 159,
     "metadata": {},
     "output_type": "execute_result"
    },
    {
     "data": {
      "image/png": "[encoded data removed]",
      "text/plain": [
       "<Figure size 432x288 with 1 Axes>"
      ]
     },
     "metadata": {
      "needs_background": "light"
     },
     "output_type": "display_data"
    }
   ],
   "source": [
    "sns.countplot(x='dragon', data=df, hue='blueWins', palette='Set1')\n"
   ]
  },
  {
   "cell_type": "markdown",
   "metadata": {},
   "source": [
    "Killing the dragon in the first 10 minutes seems to have a positive influence on winning.  While it might be telling of a win, there are plenty of instances where blue kills the dragon, but red kills the game.  \n",
    "\n",
    "It's interesting that in the event of no dragon being killed, the victory split for blue and red are nearly identical."
   ]
  },
  {
   "cell_type": "code",
   "execution_count": 160,
   "metadata": {
    "ExecuteTime": {
     "end_time": "2021-05-26T20:48:27.297106Z",
     "start_time": "2021-05-26T20:48:27.031192Z"
    }
   },
   "outputs": [
    {
     "data": {
      "text/plain": [
       "<AxesSubplot:xlabel='herald', ylabel='count'>"
      ]
     },
     "execution_count": 160,
     "metadata": {},
     "output_type": "execute_result"
    },
    {
     "data": {
      "image/png": "[encoded data removed]",
      "text/plain": [
       "<Figure size 432x288 with 1 Axes>"
      ]
     },
     "metadata": {
      "needs_background": "light"
     },
     "output_type": "display_data"
    }
   ],
   "source": [
    "sns.countplot(x='herald', data=df, hue='blueWins', palette='Set1')\n"
   ]
  },
  {
   "cell_type": "markdown",
   "metadata": {},
   "source": [
    "There's still an impact for killing the Herald, but it isnt' nearly as significant.  It's also not incredibly common within the first 10 minutes."
   ]
  },
  {
   "cell_type": "code",
   "execution_count": 161,
   "metadata": {
    "ExecuteTime": {
     "end_time": "2021-05-26T20:48:27.645159Z",
     "start_time": "2021-05-26T20:48:27.300105Z"
    }
   },
   "outputs": [
    {
     "data": {
      "text/plain": [
       "<AxesSubplot:xlabel='firstBlood', ylabel='count'>"
      ]
     },
     "execution_count": 161,
     "metadata": {},
     "output_type": "execute_result"
    },
    {
     "data": {
      "image/png": "[encoded data removed]",
      "text/plain": [
       "<Figure size 432x288 with 1 Axes>"
      ]
     },
     "metadata": {
      "needs_background": "light"
     },
     "output_type": "display_data"
    }
   ],
   "source": [
    "sns.countplot(x='firstBlood', data=df, hue='blueWins', palette='Set1')\n"
   ]
  },
  {
   "cell_type": "markdown",
   "metadata": {},
   "source": [
    "First blood is also a notable influencer on victory, but it isn't quite as strong as killing the dragon"
   ]
  },
  {
   "cell_type": "code",
   "execution_count": 162,
   "metadata": {
    "ExecuteTime": {
     "end_time": "2021-05-26T20:48:28.486926Z",
     "start_time": "2021-05-26T20:48:27.648158Z"
    }
   },
   "outputs": [
    {
     "data": {
      "text/plain": [
       "<AxesSubplot:xlabel='TotalGold', ylabel='Count'>"
      ]
     },
     "execution_count": 162,
     "metadata": {},
     "output_type": "execute_result"
    },
    {
     "data": {
      "image/png": "[encoded data removed]",
      "text/plain": [
       "<Figure size 432x288 with 1 Axes>"
      ]
     },
     "metadata": {
      "needs_background": "light"
     },
     "output_type": "display_data"
    }
   ],
   "source": [
    "sns.histplot(x='TotalGold', data=df, hue='blueWins', palette='Set1', kde=True)"
   ]
  },
  {
   "cell_type": "markdown",
   "metadata": {},
   "source": [
    "Gold is also an indicator of victory.  Based on just the graph, it doesn't appear to influnce victory more than kills or assists."
   ]
  },
  {
   "cell_type": "code",
   "execution_count": 163,
   "metadata": {
    "ExecuteTime": {
     "end_time": "2021-05-26T20:48:32.429663Z",
     "start_time": "2021-05-26T20:48:28.489926Z"
    },
    "scrolled": true
   },
   "outputs": [
    {
     "data": {
      "text/plain": [
       "<AxesSubplot:xlabel='WardsPlaced', ylabel='Count'>"
      ]
     },
     "execution_count": 163,
     "metadata": {},
     "output_type": "execute_result"
    },
    {
     "data": {
      "image/png": "[encoded data removed]",
      "text/plain": [
       "<Figure size 432x288 with 1 Axes>"
      ]
     },
     "metadata": {
      "needs_background": "light"
     },
     "output_type": "display_data"
    }
   ],
   "source": [
    "sns.histplot(x='WardsPlaced', data=df, hue='blueWins', palette='Set1', kde=True)"
   ]
  },
  {
   "cell_type": "markdown",
   "metadata": {},
   "source": [
    "The spread on Wards doesn't seem too telling of a victory.  There's also a significant amount of outliers."
   ]
  },
  {
   "cell_type": "markdown",
   "metadata": {},
   "source": [
    "## Multicollinearity"
   ]
  },
  {
   "cell_type": "code",
   "execution_count": 164,
   "metadata": {
    "ExecuteTime": {
     "end_time": "2021-05-26T20:48:33.385594Z",
     "start_time": "2021-05-26T20:48:32.432666Z"
    }
   },
   "outputs": [
    {
     "data": {
      "text/plain": [
       "(<Figure size 1080x720 with 2 Axes>, <AxesSubplot:>)"
      ]
     },
     "execution_count": 164,
     "metadata": {},
     "output_type": "execute_result"
    },
    {
     "data": {
      "image/png": "[encoded data removed]",
      "text/plain": [
       "<Figure size 1080x720 with 2 Axes>"
      ]
     },
     "metadata": {
      "needs_background": "light"
     },
     "output_type": "display_data"
    }
   ],
   "source": [
    "# Create function to output multicollinearity heatmap\n",
    "\n",
    "def heatmap(df_name, figsize=(15,10), cmap='Reds'):\n",
    "    corr = df_name.drop('blueWins',axis=1).corr()\n",
    "    mask = np.zeros_like(corr)\n",
    "    mask[np.triu_indices_from(mask)] = True\n",
    "    fig, ax = plt.subplots(figsize=figsize)\n",
    "    sns.heatmap(corr, annot=True, cmap=cmap, mask=mask)\n",
    "    return fig, ax\n",
    "\n",
    "heatmap(df)"
   ]
  },
  {
   "cell_type": "markdown",
   "metadata": {},
   "source": [
    "At first glance, it looks like Gold and Experience / AvgLevel are highly correlated with multiple features."
   ]
  },
  {
   "cell_type": "code",
   "execution_count": 165,
   "metadata": {
    "ExecuteTime": {
     "end_time": "2021-05-26T20:48:33.432581Z",
     "start_time": "2021-05-26T20:48:33.387593Z"
    }
   },
   "outputs": [
    {
     "data": {
      "text/html": [
       "<div>\n",
       "<style scoped>\n",
       "    .dataframe tbody tr th:only-of-type {\n",
       "        vertical-align: middle;\n",
       "    }\n",
       "\n",
       "    .dataframe tbody tr th {\n",
       "        vertical-align: top;\n",
       "    }\n",
       "\n",
       "    .dataframe thead th {\n",
       "        text-align: right;\n",
       "    }\n",
       "</style>\n",
       "<table border=\"1\" class=\"dataframe\">\n",
       "  <thead>\n",
       "    <tr style=\"text-align: right;\">\n",
       "      <th></th>\n",
       "      <th>level_0</th>\n",
       "      <th>level_1</th>\n",
       "      <th>0</th>\n",
       "    </tr>\n",
       "  </thead>\n",
       "  <tbody>\n",
       "    <tr>\n",
       "      <th>64</th>\n",
       "      <td>AvgLevel</td>\n",
       "      <td>TotalExperience</td>\n",
       "      <td>0.919161</td>\n",
       "    </tr>\n",
       "    <tr>\n",
       "      <th>23</th>\n",
       "      <td>Kills</td>\n",
       "      <td>TotalGold</td>\n",
       "      <td>0.917008</td>\n",
       "    </tr>\n",
       "    <tr>\n",
       "      <th>54</th>\n",
       "      <td>TotalGold</td>\n",
       "      <td>TotalExperience</td>\n",
       "      <td>0.894729</td>\n",
       "    </tr>\n",
       "    <tr>\n",
       "      <th>53</th>\n",
       "      <td>TotalGold</td>\n",
       "      <td>AvgLevel</td>\n",
       "      <td>0.833493</td>\n",
       "    </tr>\n",
       "    <tr>\n",
       "      <th>21</th>\n",
       "      <td>Kills</td>\n",
       "      <td>Assists</td>\n",
       "      <td>0.830751</td>\n",
       "    </tr>\n",
       "    <tr>\n",
       "      <th>25</th>\n",
       "      <td>Kills</td>\n",
       "      <td>TotalExperience</td>\n",
       "      <td>0.822845</td>\n",
       "    </tr>\n",
       "    <tr>\n",
       "      <th>24</th>\n",
       "      <td>Kills</td>\n",
       "      <td>AvgLevel</td>\n",
       "      <td>0.766222</td>\n",
       "    </tr>\n",
       "    <tr>\n",
       "      <th>33</th>\n",
       "      <td>Assists</td>\n",
       "      <td>TotalGold</td>\n",
       "      <td>0.759321</td>\n",
       "    </tr>\n",
       "    <tr>\n",
       "      <th>55</th>\n",
       "      <td>TotalGold</td>\n",
       "      <td>TotalMinionsKilled</td>\n",
       "      <td>0.638765</td>\n",
       "    </tr>\n",
       "    <tr>\n",
       "      <th>75</th>\n",
       "      <td>TotalExperience</td>\n",
       "      <td>TotalMinionsKilled</td>\n",
       "      <td>0.625556</td>\n",
       "    </tr>\n",
       "  </tbody>\n",
       "</table>\n",
       "</div>"
      ],
      "text/plain": [
       "            level_0             level_1         0\n",
       "64         AvgLevel     TotalExperience  0.919161\n",
       "23            Kills           TotalGold  0.917008\n",
       "54        TotalGold     TotalExperience  0.894729\n",
       "53        TotalGold            AvgLevel  0.833493\n",
       "21            Kills             Assists  0.830751\n",
       "25            Kills     TotalExperience  0.822845\n",
       "24            Kills            AvgLevel  0.766222\n",
       "33          Assists           TotalGold  0.759321\n",
       "55        TotalGold  TotalMinionsKilled  0.638765\n",
       "75  TotalExperience  TotalMinionsKilled  0.625556"
      ]
     },
     "execution_count": 165,
     "metadata": {},
     "output_type": "execute_result"
    }
   ],
   "source": [
    "# Create function to display correlations\n",
    "# https://pydatascience.org/2019/07/23/remove-duplicates-from-correlation-matrix-python/\n",
    "\n",
    "def corr_list(df):\n",
    "    dataCorr = df.drop('blueWins',axis=1).corr()\n",
    "\n",
    "    dataCorr = dataCorr[abs(dataCorr) >= 0.01].stack().reset_index()\n",
    "    dataCorr = dataCorr[dataCorr['level_0'].astype(str)!=dataCorr['level_1'].astype(str)]\n",
    "\n",
    "    # filtering out lower/upper triangular duplicates \n",
    "    dataCorr['ordered-cols'] = dataCorr.apply(lambda x: '-'.join(sorted([x['level_0'],x['level_1']])),axis=1)\n",
    "    dataCorr = dataCorr.drop_duplicates(['ordered-cols'])\n",
    "    dataCorr.drop(['ordered-cols'], axis=1, inplace=True)\n",
    "\n",
    "    return dataCorr.sort_values(by=[0], ascending=False).head(10) #Get 10 highest correlation of pairwaise attributes\n",
    "\n",
    "corr_list(df)\n"
   ]
  },
  {
   "cell_type": "markdown",
   "metadata": {},
   "source": [
    "Our multicollinearity analysis has presented a few variable relationships that need additional consideration.\n",
    "\n",
    "- avgLevel and TotalExperience are highly correlated, which is not surprising.  We will keep both for now, but we will also be removing these later in our logistic regression analysis.  \n",
    "- TotalGold appears consistently in our list.  This is also not surprising since kills and assists award gold.  We will experiment with removing TotalGold for feature analysis."
   ]
  },
  {
   "cell_type": "markdown",
   "metadata": {},
   "source": [
    "# MODEL"
   ]
  },
  {
   "cell_type": "markdown",
   "metadata": {},
   "source": [
    "## Train Test Split"
   ]
  },
  {
   "cell_type": "code",
   "execution_count": 166,
   "metadata": {
    "ExecuteTime": {
     "end_time": "2021-05-26T20:48:33.464571Z",
     "start_time": "2021-05-26T20:48:33.435579Z"
    }
   },
   "outputs": [
    {
     "name": "stdout",
     "output_type": "stream",
     "text": [
      "X_train shape: (6915, 13)\n",
      "X_test shape: (2964, 13)\n"
     ]
    }
   ],
   "source": [
    "# Isolate target and features\n",
    "\n",
    "y = df['blueWins']\n",
    "X = df.drop(columns=['blueWins'], axis=1)\n",
    "\n",
    "# Create train / test split\n",
    "\n",
    "X_train, X_test, y_train, y_test = train_test_split(X, y, test_size=0.3, random_state=8)\n",
    "\n",
    "# Confirm split\n",
    "\n",
    "print(\"X_train shape:\", X_train.shape)\n",
    "print(\"X_test shape:\", X_test.shape)"
   ]
  },
  {
   "cell_type": "markdown",
   "metadata": {},
   "source": [
    "### Categorical Columns"
   ]
  },
  {
   "cell_type": "code",
   "execution_count": 167,
   "metadata": {
    "ExecuteTime": {
     "end_time": "2021-05-26T20:48:33.480565Z",
     "start_time": "2021-05-26T20:48:33.466569Z"
    }
   },
   "outputs": [
    {
     "data": {
      "text/plain": [
       "(Index(['firstBlood', 'dragon', 'herald'], dtype='object'),\n",
       " Index(['WardsPlaced', 'WardsDestroyed', 'Kills', 'Assists', 'TowersDestroyed',\n",
       "        'TotalGold', 'AvgLevel', 'TotalExperience', 'TotalMinionsKilled',\n",
       "        'TotalJungleMinionsKilled'],\n",
       "       dtype='object'))"
      ]
     },
     "execution_count": 167,
     "metadata": {},
     "output_type": "execute_result"
    }
   ],
   "source": [
    "# Separate feautures into continuous and categorical\n",
    "\n",
    "categoricals = X.select_dtypes('O').columns\n",
    "numericals = X.select_dtypes('number').columns\n",
    "categoricals, numericals"
   ]
  },
  {
   "cell_type": "code",
   "execution_count": 168,
   "metadata": {
    "ExecuteTime": {
     "end_time": "2021-05-26T20:48:33.512381Z",
     "start_time": "2021-05-26T20:48:33.482563Z"
    }
   },
   "outputs": [
    {
     "data": {
      "text/plain": [
       "array([[1., 0., 0., ..., 0., 1., 0.],\n",
       "       [1., 0., 0., ..., 0., 1., 0.],\n",
       "       [0., 1., 0., ..., 1., 0., 0.],\n",
       "       ...,\n",
       "       [0., 1., 0., ..., 0., 1., 0.],\n",
       "       [0., 1., 1., ..., 0., 1., 0.],\n",
       "       [0., 1., 0., ..., 1., 0., 0.]])"
      ]
     },
     "execution_count": 168,
     "metadata": {},
     "output_type": "execute_result"
    }
   ],
   "source": [
    "# Encode categorical columns, only drop if binary\n",
    "\n",
    "encoder = OneHotEncoder(sparse=False,drop=None)\n",
    "train_categoricals = encoder.fit_transform(X_train[categoricals])\n",
    "test_categoricals = encoder.transform(X_test[categoricals])\n",
    "train_categoricals"
   ]
  },
  {
   "cell_type": "code",
   "execution_count": 169,
   "metadata": {
    "ExecuteTime": {
     "end_time": "2021-05-26T20:48:33.544312Z",
     "start_time": "2021-05-26T20:48:33.516321Z"
    }
   },
   "outputs": [
    {
     "data": {
      "text/html": [
       "<div>\n",
       "<style scoped>\n",
       "    .dataframe tbody tr th:only-of-type {\n",
       "        vertical-align: middle;\n",
       "    }\n",
       "\n",
       "    .dataframe tbody tr th {\n",
       "        vertical-align: top;\n",
       "    }\n",
       "\n",
       "    .dataframe thead th {\n",
       "        text-align: right;\n",
       "    }\n",
       "</style>\n",
       "<table border=\"1\" class=\"dataframe\">\n",
       "  <thead>\n",
       "    <tr style=\"text-align: right;\">\n",
       "      <th></th>\n",
       "      <th>firstBlood_Blue</th>\n",
       "      <th>firstBlood_Red</th>\n",
       "      <th>dragon_Blue</th>\n",
       "      <th>dragon_No Dragon</th>\n",
       "      <th>dragon_Red</th>\n",
       "      <th>herald_Blue</th>\n",
       "      <th>herald_No Herald</th>\n",
       "      <th>herald_Red</th>\n",
       "    </tr>\n",
       "  </thead>\n",
       "  <tbody>\n",
       "    <tr>\n",
       "      <th>0</th>\n",
       "      <td>1.0</td>\n",
       "      <td>0.0</td>\n",
       "      <td>0.0</td>\n",
       "      <td>1.0</td>\n",
       "      <td>0.0</td>\n",
       "      <td>0.0</td>\n",
       "      <td>1.0</td>\n",
       "      <td>0.0</td>\n",
       "    </tr>\n",
       "    <tr>\n",
       "      <th>1</th>\n",
       "      <td>1.0</td>\n",
       "      <td>0.0</td>\n",
       "      <td>0.0</td>\n",
       "      <td>0.0</td>\n",
       "      <td>1.0</td>\n",
       "      <td>0.0</td>\n",
       "      <td>1.0</td>\n",
       "      <td>0.0</td>\n",
       "    </tr>\n",
       "    <tr>\n",
       "      <th>2</th>\n",
       "      <td>0.0</td>\n",
       "      <td>1.0</td>\n",
       "      <td>0.0</td>\n",
       "      <td>0.0</td>\n",
       "      <td>1.0</td>\n",
       "      <td>1.0</td>\n",
       "      <td>0.0</td>\n",
       "      <td>0.0</td>\n",
       "    </tr>\n",
       "    <tr>\n",
       "      <th>3</th>\n",
       "      <td>1.0</td>\n",
       "      <td>0.0</td>\n",
       "      <td>0.0</td>\n",
       "      <td>0.0</td>\n",
       "      <td>1.0</td>\n",
       "      <td>0.0</td>\n",
       "      <td>0.0</td>\n",
       "      <td>1.0</td>\n",
       "    </tr>\n",
       "    <tr>\n",
       "      <th>4</th>\n",
       "      <td>0.0</td>\n",
       "      <td>1.0</td>\n",
       "      <td>1.0</td>\n",
       "      <td>0.0</td>\n",
       "      <td>0.0</td>\n",
       "      <td>0.0</td>\n",
       "      <td>1.0</td>\n",
       "      <td>0.0</td>\n",
       "    </tr>\n",
       "  </tbody>\n",
       "</table>\n",
       "</div>"
      ],
      "text/plain": [
       "   firstBlood_Blue  firstBlood_Red  dragon_Blue  dragon_No Dragon  dragon_Red  \\\n",
       "0              1.0             0.0          0.0               1.0         0.0   \n",
       "1              1.0             0.0          0.0               0.0         1.0   \n",
       "2              0.0             1.0          0.0               0.0         1.0   \n",
       "3              1.0             0.0          0.0               0.0         1.0   \n",
       "4              0.0             1.0          1.0               0.0         0.0   \n",
       "\n",
       "   herald_Blue  herald_No Herald  herald_Red  \n",
       "0          0.0               1.0         0.0  \n",
       "1          0.0               1.0         0.0  \n",
       "2          1.0               0.0         0.0  \n",
       "3          0.0               0.0         1.0  \n",
       "4          0.0               1.0         0.0  "
      ]
     },
     "execution_count": 169,
     "metadata": {},
     "output_type": "execute_result"
    }
   ],
   "source": [
    "# Convert train and test categoricals into dataframes for merge\n",
    "\n",
    "train_categoricals_df = pd.DataFrame(train_categoricals,\n",
    "                                     columns=encoder.get_feature_names(categoricals))\n",
    "\n",
    "test_categoricals_df =  pd.DataFrame(test_categoricals,\n",
    "                                     columns=encoder.get_feature_names(categoricals))\n",
    "\n",
    "train_categoricals_df.head()"
   ]
  },
  {
   "cell_type": "markdown",
   "metadata": {},
   "source": [
    "### Numerical Columns"
   ]
  },
  {
   "cell_type": "code",
   "execution_count": 170,
   "metadata": {
    "ExecuteTime": {
     "end_time": "2021-05-26T20:48:33.592298Z",
     "start_time": "2021-05-26T20:48:33.546312Z"
    }
   },
   "outputs": [
    {
     "data": {
      "text/html": [
       "<div>\n",
       "<style scoped>\n",
       "    .dataframe tbody tr th:only-of-type {\n",
       "        vertical-align: middle;\n",
       "    }\n",
       "\n",
       "    .dataframe tbody tr th {\n",
       "        vertical-align: top;\n",
       "    }\n",
       "\n",
       "    .dataframe thead th {\n",
       "        text-align: right;\n",
       "    }\n",
       "</style>\n",
       "<table border=\"1\" class=\"dataframe\">\n",
       "  <thead>\n",
       "    <tr style=\"text-align: right;\">\n",
       "      <th></th>\n",
       "      <th>WardsPlaced</th>\n",
       "      <th>WardsDestroyed</th>\n",
       "      <th>Kills</th>\n",
       "      <th>Assists</th>\n",
       "      <th>TowersDestroyed</th>\n",
       "      <th>TotalGold</th>\n",
       "      <th>AvgLevel</th>\n",
       "      <th>TotalExperience</th>\n",
       "      <th>TotalMinionsKilled</th>\n",
       "      <th>TotalJungleMinionsKilled</th>\n",
       "    </tr>\n",
       "  </thead>\n",
       "  <tbody>\n",
       "    <tr>\n",
       "      <th>0</th>\n",
       "      <td>-0.312890</td>\n",
       "      <td>1.373334</td>\n",
       "      <td>0.220704</td>\n",
       "      <td>-0.349942</td>\n",
       "      <td>-0.04164</td>\n",
       "      <td>-0.001092</td>\n",
       "      <td>-0.821423</td>\n",
       "      <td>-0.486820</td>\n",
       "      <td>-1.461816</td>\n",
       "      <td>1.449220</td>\n",
       "    </tr>\n",
       "    <tr>\n",
       "      <th>1</th>\n",
       "      <td>0.156072</td>\n",
       "      <td>-0.741644</td>\n",
       "      <td>0.220704</td>\n",
       "      <td>-0.003060</td>\n",
       "      <td>-0.04164</td>\n",
       "      <td>-0.440888</td>\n",
       "      <td>-0.821423</td>\n",
       "      <td>-0.545091</td>\n",
       "      <td>-0.784545</td>\n",
       "      <td>-1.143374</td>\n",
       "    </tr>\n",
       "    <tr>\n",
       "      <th>2</th>\n",
       "      <td>-0.000249</td>\n",
       "      <td>-0.389148</td>\n",
       "      <td>-0.733301</td>\n",
       "      <td>-0.349942</td>\n",
       "      <td>-0.04164</td>\n",
       "      <td>-0.276167</td>\n",
       "      <td>-0.405661</td>\n",
       "      <td>-0.490982</td>\n",
       "      <td>-0.816796</td>\n",
       "      <td>2.079851</td>\n",
       "    </tr>\n",
       "    <tr>\n",
       "      <th>3</th>\n",
       "      <td>0.156072</td>\n",
       "      <td>1.373334</td>\n",
       "      <td>2.128716</td>\n",
       "      <td>2.425111</td>\n",
       "      <td>-0.04164</td>\n",
       "      <td>2.063192</td>\n",
       "      <td>1.673149</td>\n",
       "      <td>1.640596</td>\n",
       "      <td>1.344019</td>\n",
       "      <td>-1.073304</td>\n",
       "    </tr>\n",
       "    <tr>\n",
       "      <th>4</th>\n",
       "      <td>-0.039329</td>\n",
       "      <td>-0.036651</td>\n",
       "      <td>0.697707</td>\n",
       "      <td>0.343822</td>\n",
       "      <td>-0.04164</td>\n",
       "      <td>0.381093</td>\n",
       "      <td>0.010101</td>\n",
       "      <td>0.397652</td>\n",
       "      <td>0.795753</td>\n",
       "      <td>-1.143374</td>\n",
       "    </tr>\n",
       "  </tbody>\n",
       "</table>\n",
       "</div>"
      ],
      "text/plain": [
       "   WardsPlaced  WardsDestroyed     Kills   Assists  TowersDestroyed  \\\n",
       "0    -0.312890        1.373334  0.220704 -0.349942         -0.04164   \n",
       "1     0.156072       -0.741644  0.220704 -0.003060         -0.04164   \n",
       "2    -0.000249       -0.389148 -0.733301 -0.349942         -0.04164   \n",
       "3     0.156072        1.373334  2.128716  2.425111         -0.04164   \n",
       "4    -0.039329       -0.036651  0.697707  0.343822         -0.04164   \n",
       "\n",
       "   TotalGold  AvgLevel  TotalExperience  TotalMinionsKilled  \\\n",
       "0  -0.001092 -0.821423        -0.486820           -1.461816   \n",
       "1  -0.440888 -0.821423        -0.545091           -0.784545   \n",
       "2  -0.276167 -0.405661        -0.490982           -0.816796   \n",
       "3   2.063192  1.673149         1.640596            1.344019   \n",
       "4   0.381093  0.010101         0.397652            0.795753   \n",
       "\n",
       "   TotalJungleMinionsKilled  \n",
       "0                  1.449220  \n",
       "1                 -1.143374  \n",
       "2                  2.079851  \n",
       "3                 -1.073304  \n",
       "4                 -1.143374  "
      ]
     },
     "execution_count": 170,
     "metadata": {},
     "output_type": "execute_result"
    }
   ],
   "source": [
    "# Scale continuous features and combine into dataframe for merge\n",
    "\n",
    "scaler = scaler = StandardScaler()\n",
    "\n",
    "train_numericals_df = pd.DataFrame(scaler.fit_transform(X_train[numericals]),\n",
    "                              columns=numericals)\n",
    "\n",
    "test_numericals_df = pd.DataFrame(scaler.transform(X_test[numericals]),\n",
    "                              columns=numericals)\n",
    "\n",
    "train_numericals_df.head()"
   ]
  },
  {
   "cell_type": "code",
   "execution_count": 171,
   "metadata": {
    "ExecuteTime": {
     "end_time": "2021-05-26T20:48:33.608292Z",
     "start_time": "2021-05-26T20:48:33.594297Z"
    }
   },
   "outputs": [
    {
     "name": "stdout",
     "output_type": "stream",
     "text": [
      "(6915, 18)\n",
      "(2964, 18)\n"
     ]
    }
   ],
   "source": [
    "# Recombine transformed categorical and continuous features, print shape\n",
    "\n",
    "X_train = pd.concat([train_numericals_df, train_categoricals_df], axis=1)\n",
    "X_test = pd.concat([test_numericals_df, test_categoricals_df], axis=1)\n",
    "\n",
    "print(X_train.shape)\n",
    "print(X_test.shape)"
   ]
  },
  {
   "cell_type": "markdown",
   "metadata": {},
   "source": [
    "## Logistic Regression"
   ]
  },
  {
   "cell_type": "code",
   "execution_count": 172,
   "metadata": {
    "ExecuteTime": {
     "end_time": "2021-05-26T20:48:33.672271Z",
     "start_time": "2021-05-26T20:48:33.610292Z"
    }
   },
   "outputs": [
    {
     "data": {
      "text/plain": [
       "LogisticRegression()"
      ]
     },
     "execution_count": 172,
     "metadata": {},
     "output_type": "execute_result"
    }
   ],
   "source": [
    "# Initiate and train model\n",
    "\n",
    "model_log = LogisticRegression()\n",
    "\n",
    "model_log.fit(X_train, y_train)"
   ]
  },
  {
   "cell_type": "code",
   "execution_count": 173,
   "metadata": {
    "ExecuteTime": {
     "end_time": "2021-05-26T20:48:33.688267Z",
     "start_time": "2021-05-26T20:48:33.674272Z"
    }
   },
   "outputs": [
    {
     "name": "stdout",
     "output_type": "stream",
     "text": [
      "1    0.500217\n",
      "0    0.499783\n",
      "Name: blueWins, dtype: float64\n",
      "0    0.503711\n",
      "1    0.496289\n",
      "Name: blueWins, dtype: float64\n"
     ]
    }
   ],
   "source": [
    "# Test for class imbalance\n",
    "\n",
    "print(y_train.value_counts(1))\n",
    "print(y_test.value_counts(1))"
   ]
  },
  {
   "cell_type": "markdown",
   "metadata": {},
   "source": [
    "### Accuracy"
   ]
  },
  {
   "cell_type": "code",
   "execution_count": 174,
   "metadata": {
    "ExecuteTime": {
     "end_time": "2021-05-26T20:48:33.720257Z",
     "start_time": "2021-05-26T20:48:33.690267Z"
    }
   },
   "outputs": [
    {
     "name": "stdout",
     "output_type": "stream",
     "text": [
      "Training Accuracy: 74.03%\n",
      "Test Accuracy: 71.69%\n"
     ]
    }
   ],
   "source": [
    "# Create function for efficient accuracy checks\n",
    "\n",
    "def model_accuracy(model, X_train=X_train, y_train=y_train, X_test=X_test, y_test=y_test):\n",
    "    print(f'Training Accuracy: {model.score(X_train,y_train):.2%}')\n",
    "    print(f'Test Accuracy: {model.score(X_test,y_test):.2%}')\n",
    "\n",
    "model_accuracy(model_log)"
   ]
  },
  {
   "cell_type": "markdown",
   "metadata": {},
   "source": [
    "### Cross Validation Check"
   ]
  },
  {
   "cell_type": "code",
   "execution_count": 175,
   "metadata": {
    "ExecuteTime": {
     "end_time": "2021-05-26T20:48:34.196103Z",
     "start_time": "2021-05-26T20:48:33.722256Z"
    }
   },
   "outputs": [
    {
     "name": "stdout",
     "output_type": "stream",
     "text": [
      "Logistic Regression Cross Validation Scores:\n",
      "\n",
      "[0.72976879 0.73265896 0.75867052 0.73410405 0.73988439 0.74384949\n",
      " 0.72503618 0.75253256 0.72648336 0.73950796]\n",
      "\n",
      "Cross validation mean: \t73.82%\n"
     ]
    }
   ],
   "source": [
    "# Create cross validation function \n",
    "\n",
    "def cross_val_check(model_string_name, model, X_train=X_train, y_train=y_train, X_test=X_test, y_test=y_test):\n",
    "    scores = cross_val_score(model, X_train, y_train, cv=10) # model, train, target, cross validation\n",
    "    print(f'{model_string_name} Cross Validation Scores:\\n')\n",
    "    print(scores)\n",
    "    print(f'\\nCross validation mean: \\t{scores.mean():.2%}')\n",
    "    \n",
    "cross_val_check('Logistic Regression', model_log)"
   ]
  },
  {
   "cell_type": "markdown",
   "metadata": {},
   "source": [
    "With the highest score at 75.8% and the lowest at 72.5%, we shouldn't be overly concerned with these varying performances calculated with cross validation."
   ]
  },
  {
   "cell_type": "markdown",
   "metadata": {},
   "source": [
    "### Confusion Matrix & Classification Report"
   ]
  },
  {
   "cell_type": "markdown",
   "metadata": {},
   "source": [
    "To save ourself some coding, we'll create a function to report various model metrics."
   ]
  },
  {
   "cell_type": "code",
   "execution_count": 176,
   "metadata": {
    "ExecuteTime": {
     "end_time": "2021-05-26T20:48:34.212098Z",
     "start_time": "2021-05-26T20:48:34.199104Z"
    },
    "scrolled": true
   },
   "outputs": [],
   "source": [
    "def evaluate_model(model, X_train=X_train, X_test=X_test, y_train=y_train, \n",
    "                   y_test=y_test, cmap='Blues', normalize='true',\n",
    "                   classes=None,figsize=(10,4)):\n",
    "    \n",
    "    # Print model accuracy\n",
    "    \n",
    "    print(f'Training Accuracy: {model.score(X_train,y_train):.2%}')\n",
    "    print(f'Test Accuracy: {model.score(X_test,y_test):.2%}')\n",
    "    print('')\n",
    "    \n",
    "    # Print classification report\n",
    "    \n",
    "    y_test_predict = model.predict(X_test)\n",
    "    print(metrics.classification_report(y_test, y_test_predict,\n",
    "                                        target_names=classes))\n",
    "    \n",
    "    # Plot confusion matrix\n",
    "    \n",
    "    fig,ax = plt.subplots(ncols=2,figsize=figsize)\n",
    "    metrics.plot_confusion_matrix(model, X_test,y_test,cmap=cmap, \n",
    "                                  normalize=normalize,display_labels=classes,\n",
    "                                  ax=ax[0])\n",
    "    \n",
    "    #Plot ROC curves\n",
    "    \n",
    "    with sns.axes_style(\"darkgrid\"):\n",
    "        curve = metrics.plot_roc_curve(model,X_train,y_train,ax=ax[1])\n",
    "        curve2 = metrics.plot_roc_curve(model,X_test,y_test,ax=ax[1])\n",
    "        curve.ax_.grid()\n",
    "        curve.ax_.plot([0,1],[0,1],ls=':')\n",
    "        fig.tight_layout()\n",
    "        plt.show()"
   ]
  },
  {
   "cell_type": "code",
   "execution_count": 177,
   "metadata": {
    "ExecuteTime": {
     "end_time": "2021-05-26T20:48:34.800911Z",
     "start_time": "2021-05-26T20:48:34.215099Z"
    }
   },
   "outputs": [
    {
     "name": "stdout",
     "output_type": "stream",
     "text": [
      "Training Accuracy: 74.03%\n",
      "Test Accuracy: 71.69%\n",
      "\n",
      "              precision    recall  f1-score   support\n",
      "\n",
      "           0       0.72      0.71      0.72      1493\n",
      "           1       0.71      0.72      0.72      1471\n",
      "\n",
      "    accuracy                           0.72      2964\n",
      "   macro avg       0.72      0.72      0.72      2964\n",
      "weighted avg       0.72      0.72      0.72      2964\n",
      "\n"
     ]
    },
    {
     "data": {
      "image/png": "[encoded data removed]",
      "text/plain": [
       "<Figure size 720x288 with 3 Axes>"
      ]
     },
     "metadata": {
      "needs_background": "light"
     },
     "output_type": "display_data"
    }
   ],
   "source": [
    "evaluate_model(model_log)"
   ]
  },
  {
   "cell_type": "markdown",
   "metadata": {},
   "source": [
    "### Dummy Check"
   ]
  },
  {
   "cell_type": "markdown",
   "metadata": {},
   "source": [
    "It's also important to do a dummy check just to be scientifically certain that we're not arriving at our metrics by chance."
   ]
  },
  {
   "cell_type": "code",
   "execution_count": 178,
   "metadata": {
    "ExecuteTime": {
     "end_time": "2021-05-26T20:48:35.359568Z",
     "start_time": "2021-05-26T20:48:34.802911Z"
    },
    "scrolled": true
   },
   "outputs": [
    {
     "name": "stdout",
     "output_type": "stream",
     "text": [
      "Training Accuracy: 49.83%\n",
      "Test Accuracy: 51.99%\n",
      "\n",
      "              precision    recall  f1-score   support\n",
      "\n",
      "           0       0.50      0.49      0.50      1493\n",
      "           1       0.49      0.51      0.50      1471\n",
      "\n",
      "    accuracy                           0.50      2964\n",
      "   macro avg       0.50      0.50      0.50      2964\n",
      "weighted avg       0.50      0.50      0.50      2964\n",
      "\n"
     ]
    },
    {
     "data": {
      "image/png": "[encoded data removed]",
      "text/plain": [
       "<Figure size 720x288 with 3 Axes>"
      ]
     },
     "metadata": {
      "needs_background": "light"
     },
     "output_type": "display_data"
    }
   ],
   "source": [
    "# Create dummy classifier and fit to train / test\n",
    "\n",
    "dummy = DummyClassifier(strategy='stratified')#,constant=0)\n",
    "preds = dummy.fit(X_train,y_train).predict(X_test)\n",
    "\n",
    "evaluate_model(dummy, cmap='Reds')"
   ]
  },
  {
   "cell_type": "markdown",
   "metadata": {},
   "source": [
    "Based on the dummy, any model we create that performs better than 50% and has a greater AUC than 0.50 would be useful for analysis."
   ]
  },
  {
   "cell_type": "markdown",
   "metadata": {},
   "source": [
    "### Hypertuning Logistic Regression"
   ]
  },
  {
   "cell_type": "code",
   "execution_count": 179,
   "metadata": {
    "ExecuteTime": {
     "end_time": "2021-05-26T20:48:47.236573Z",
     "start_time": "2021-05-26T20:48:35.362556Z"
    }
   },
   "outputs": [
    {
     "data": {
      "text/plain": [
       "{'C': 0.1, 'penalty': 'l1', 'solver': 'liblinear'}"
      ]
     },
     "execution_count": 179,
     "metadata": {},
     "output_type": "execute_result"
    }
   ],
   "source": [
    "# Initiate new model and perform grid search\n",
    "\n",
    "model_log_hp = LogisticRegression()\n",
    "\n",
    "params = {'C':[0.001,0.01,0.1,1,10,100,1000],\n",
    "        'penalty':['l1','l2','elastic_net'],\n",
    "        'solver':[\"liblinear\", \"newton-cg\", \"lbfgs\", \"sag\",\"saga\"]\n",
    "         }\n",
    "\n",
    "log_grid_search = GridSearchCV(model_log_hp,params,scoring='accuracy')\n",
    "\n",
    "# Fit grid search to training data and display best parameters\n",
    "\n",
    "log_grid_search.fit(X_train, y_train)\n",
    "\n",
    "log_grid_search.best_params_"
   ]
  },
  {
   "cell_type": "code",
   "execution_count": 180,
   "metadata": {
    "ExecuteTime": {
     "end_time": "2021-05-26T20:48:47.828110Z",
     "start_time": "2021-05-26T20:48:47.238574Z"
    }
   },
   "outputs": [
    {
     "name": "stdout",
     "output_type": "stream",
     "text": [
      "Training Accuracy: 74.09%\n",
      "Test Accuracy: 71.83%\n",
      "\n",
      "              precision    recall  f1-score   support\n",
      "\n",
      "           0       0.72      0.71      0.72      1493\n",
      "           1       0.71      0.72      0.72      1471\n",
      "\n",
      "    accuracy                           0.72      2964\n",
      "   macro avg       0.72      0.72      0.72      2964\n",
      "weighted avg       0.72      0.72      0.72      2964\n",
      "\n"
     ]
    },
    {
     "data": {
      "image/png": "[encoded data removed]",
      "text/plain": [
       "<Figure size 720x288 with 3 Axes>"
      ]
     },
     "metadata": {
      "needs_background": "light"
     },
     "output_type": "display_data"
    }
   ],
   "source": [
    "evaluate_model(log_grid_search.best_estimator_)"
   ]
  },
  {
   "cell_type": "code",
   "execution_count": 181,
   "metadata": {
    "ExecuteTime": {
     "end_time": "2021-05-26T20:48:47.860098Z",
     "start_time": "2021-05-26T20:48:47.831108Z"
    }
   },
   "outputs": [
    {
     "name": "stdout",
     "output_type": "stream",
     "text": [
      "Base Model:\n",
      "Training Accuracy: 74.03%\n",
      "Test Accuracy: 71.69%\n",
      "\n",
      "Grid Search Model:\n",
      "Training Accuracy: 74.09%\n",
      "Test Accuracy: 71.83%\n",
      "\n",
      "Our grid search model outperformed our base model by 0.13%\n"
     ]
    }
   ],
   "source": [
    "# Compare performance between base model and grid search model\n",
    "\n",
    "def compare_models(base_model, grid_search_model):\n",
    "    \n",
    "    base_score = base_model.score(X_test, y_test)\n",
    "    grid_score = grid_search_model.score(X_test, y_test)\n",
    "    \n",
    "    print(\"Base Model:\")\n",
    "    model_accuracy(model_log)\n",
    "    print('')\n",
    "    print(\"Grid Search Model:\")\n",
    "    model_accuracy(log_grid_search)\n",
    "    print('')\n",
    "    \n",
    "    if base_score < grid_score:    \n",
    "        print(f'Our grid search model outperformed our base model by {(grid_score - base_score):.2%}')\n",
    "    else:\n",
    "        print(f'Our base model outperformed our grid search model by {(grid_score - base_score):.2%}')\n",
    "    \n",
    "\n",
    "compare_models(model_log, log_grid_search.best_estimator_)"
   ]
  },
  {
   "cell_type": "markdown",
   "metadata": {
    "ExecuteTime": {
     "end_time": "2021-05-26T19:21:06.212917Z",
     "start_time": "2021-05-26T19:21:06.197923Z"
    }
   },
   "source": [
    "The performance improvement is only marginal, but an improvement nonetheless.  "
   ]
  },
  {
   "cell_type": "markdown",
   "metadata": {
    "ExecuteTime": {
     "end_time": "2021-05-20T17:57:17.162369Z",
     "start_time": "2021-05-20T17:57:17.102408Z"
    }
   },
   "source": [
    "### Coefficients"
   ]
  },
  {
   "cell_type": "markdown",
   "metadata": {},
   "source": [
    "Alright!  We can finally dive into the coefficients of our logistic regression model to understand what it believes is most important to predicting the outcome of a match with only 10 minutes worth of data.\n",
    "\n",
    "Importantly, it can only predict the outcome of a match with 71.83% accuracy.  By comparison, our dummy model was correct 49.49% of the time.  Roughly speaking, this model is ~22% more predictive than flipping a coin.\n",
    "\n",
    "For analysis, we'll use our basic linear regression model so that we can efficiently recalculate our coefficients as we remove features."
   ]
  },
  {
   "cell_type": "code",
   "execution_count": 212,
   "metadata": {
    "ExecuteTime": {
     "end_time": "2021-05-26T21:33:21.933384Z",
     "start_time": "2021-05-26T21:33:21.923384Z"
    }
   },
   "outputs": [],
   "source": [
    "# Create coefficient graph function\n",
    "\n",
    "def plot_coefficients(X_train, X_test, y_train=y_train, y_test=y_test):    \n",
    "    model = LogisticRegression(random_state=8)\n",
    "    model.fit(X_train, y_train)\n",
    "    coeffs = pd.Series(model.coef_.flatten(), index=X_train.columns).sort_values(ascending=True)\n",
    "    model_accuracy(model, X_train=X_train, y_train=y_train, X_test=X_test, y_test=y_test)\n",
    "    ax = coeffs.plot(kind='barh', figsize=(8,6))"
   ]
  },
  {
   "cell_type": "markdown",
   "metadata": {},
   "source": [
    "Let's first take a look at feature importances using all of our features."
   ]
  },
  {
   "cell_type": "code",
   "execution_count": 213,
   "metadata": {
    "ExecuteTime": {
     "end_time": "2021-05-26T21:33:27.730717Z",
     "start_time": "2021-05-26T21:33:27.194890Z"
    },
    "scrolled": false
   },
   "outputs": [
    {
     "name": "stdout",
     "output_type": "stream",
     "text": [
      "Training Accuracy: 74.03%\n",
      "Test Accuracy: 71.69%\n"
     ]
    },
    {
     "data": {
      "image/png": "[encoded data removed]",
      "text/plain": [
       "<Figure size 576x432 with 1 Axes>"
      ]
     },
     "metadata": {
      "needs_background": "light"
     },
     "output_type": "display_data"
    }
   ],
   "source": [
    "plot_coefficients(X_train, X_test)"
   ]
  },
  {
   "cell_type": "markdown",
   "metadata": {
    "ExecuteTime": {
     "end_time": "2021-05-24T15:53:06.925509Z",
     "start_time": "2021-05-24T15:53:06.912511Z"
    }
   },
   "source": [
    "TotalGold is clearly the most predictive feature for victory.  \n",
    "\n",
    "Earlier, we noticed TotalGold has very high multicollinearity with multiple features.  This isn't surprising, since gold is a resource won from actions taken in the game.  Killing opponents, elite monsters, and creeps all award gold.  \n",
    "\n",
    "However, it should be pointed out that this model seems to believe that TotalGold will lead to a victory even when Blue is behind in a lot of other key features, like kills, assists, towers, and minions.\n",
    "\n",
    "This is a bit of a head scratcher.  It's difficult to fathom a situation where blue has more gold than red while also having less kills, assists, and total minions killed.  Perhaps this is a result of our multicollinearity tied to gold and experience.  Let's remove these one by one to see how our coefficients change.\n",
    "\n",
    "We'll start by dropping TotalGold:"
   ]
  },
  {
   "cell_type": "code",
   "execution_count": 184,
   "metadata": {
    "ExecuteTime": {
     "end_time": "2021-05-26T20:48:48.682918Z",
     "start_time": "2021-05-26T20:48:48.304605Z"
    }
   },
   "outputs": [
    {
     "name": "stdout",
     "output_type": "stream",
     "text": [
      "Training Accuracy: 73.25%\n",
      "Test Accuracy: 71.29%\n"
     ]
    },
    {
     "data": {
      "image/png": "[encoded data removed]",
      "text/plain": [
       "<Figure size 576x432 with 1 Axes>"
      ]
     },
     "metadata": {
      "needs_background": "light"
     },
     "output_type": "display_data"
    }
   ],
   "source": [
    "X_train_coeff = X_train.drop(['TotalGold'],axis=1)\n",
    "X_test_coeff = X_test.drop(['TotalGold'],axis=1)\n",
    "\n",
    "plot_coefficients(X_train_coeff, X_test_coeff)"
   ]
  },
  {
   "cell_type": "markdown",
   "metadata": {},
   "source": [
    "These coefficients are a bit more in line with our expectations.  Key in-game performance metrics like kills, dragon, towers, and minions now reflect our general understanding about the game.\n",
    "\n",
    "TotalExperience is still very high and also correlative with many of our action based metrics.  Let's remove it and see what happens."
   ]
  },
  {
   "cell_type": "code",
   "execution_count": 185,
   "metadata": {
    "ExecuteTime": {
     "end_time": "2021-05-26T20:48:49.049816Z",
     "start_time": "2021-05-26T20:48:48.684916Z"
    }
   },
   "outputs": [
    {
     "name": "stdout",
     "output_type": "stream",
     "text": [
      "Training Accuracy: 73.03%\n",
      "Test Accuracy: 70.72%\n"
     ]
    },
    {
     "data": {
      "image/png": "[encoded data removed]",
      "text/plain": [
       "<Figure size 576x432 with 1 Axes>"
      ]
     },
     "metadata": {
      "needs_background": "light"
     },
     "output_type": "display_data"
    }
   ],
   "source": [
    "X_train_coeff = X_train.drop(['TotalGold', 'TotalExperience'],axis=1)\n",
    "X_test_coeff = X_test.drop(['TotalGold', 'TotalExperience'],axis=1)\n",
    "\n",
    "plot_coefficients(X_train_coeff, X_test_coeff)"
   ]
  },
  {
   "cell_type": "markdown",
   "metadata": {},
   "source": [
    "The picture is becoming more clear, but AvgLevel was also highly correlative with other features, and it is also a direct reflection of TotalExperience and therefore highly reflective of other action based metrics.  Let's remove it."
   ]
  },
  {
   "cell_type": "code",
   "execution_count": 186,
   "metadata": {
    "ExecuteTime": {
     "end_time": "2021-05-26T20:48:49.417695Z",
     "start_time": "2021-05-26T20:48:49.051797Z"
    }
   },
   "outputs": [
    {
     "name": "stdout",
     "output_type": "stream",
     "text": [
      "Training Accuracy: 73.04%\n",
      "Test Accuracy: 70.48%\n"
     ]
    },
    {
     "data": {
      "image/png": "[encoded data removed]",
      "text/plain": [
       "<Figure size 576x432 with 1 Axes>"
      ]
     },
     "metadata": {
      "needs_background": "light"
     },
     "output_type": "display_data"
    }
   ],
   "source": [
    "X_train_coeff = X_train.drop(['TotalGold', 'TotalExperience', 'AvgLevel'],axis=1)\n",
    "X_test_coeff = X_test.drop(['TotalGold', 'TotalExperience', 'AvgLevel'],axis=1)\n",
    "\n",
    "plot_coefficients(X_train_coeff, X_test_coeff)"
   ]
  },
  {
   "cell_type": "markdown",
   "metadata": {},
   "source": [
    "Finally, we have a visual of coefficients exclusively related to in-game actions.  It is likely that our original model gravitated towards gold because it is a much more precise metric, and it is also a reflection of this action-specific model still values.\n",
    "\n",
    "Interestingly, the performance for this model 70.48% accurate, which is only 1.21% less accurate than our base model.  \n",
    "\n",
    "A few observations:\n",
    "\n",
    "- Outperforming in kills is by far the most important metric in determining a win\n",
    "- This model values TotalMinionsKilled, dragon_Blue, and TotalJungleMinionsKilled pretty evenly, and they're all significant features\n",
    "- Herald and towers make a difference, but not as much as dragon and minions (presumably because they contribute more to gold)\n",
    "- Wards and assists have little impact\n",
    "- firstBlood for red is slightly predictive of a loss for blue\n",
    "\n",
    "The graphs above are very useful for visualizing importance, but to quantify, we'll need to convert our coefficients to odds:"
   ]
  },
  {
   "cell_type": "code",
   "execution_count": 210,
   "metadata": {
    "ExecuteTime": {
     "end_time": "2021-05-26T21:29:48.895567Z",
     "start_time": "2021-05-26T21:29:48.395766Z"
    }
   },
   "outputs": [
    {
     "data": {
      "text/plain": [
       "array([-0.00091044])"
      ]
     },
     "execution_count": 210,
     "metadata": {},
     "output_type": "execute_result"
    },
    {
     "data": {
      "image/png": "[encoded data removed]",
      "text/plain": [
       "<Figure size 576x432 with 1 Axes>"
      ]
     },
     "metadata": {
      "needs_background": "light"
     },
     "output_type": "display_data"
    }
   ],
   "source": [
    "# Initiate model\n",
    "\n",
    "model = LogisticRegression(random_state=8)\n",
    "\n",
    "model.fit(X_train_coeff, y_train)\n",
    "\n",
    "# Return list of coefficients\n",
    "\n",
    "coeffs = pd.Series(model.coef_.flatten(), index=X_train_coeff.columns).sort_values(ascending=True)\n",
    "\n",
    "# Convert to odds\n",
    "\n",
    "odds = np.exp(coeffs)\n",
    "\n",
    "# Plot bar chart\n",
    "\n",
    "ax = odds.plot(kind='barh', figsize=(8,6))\n",
    "\n",
    "# Add odds values to bar chart\n",
    "\n",
    "for index, value in enumerate(odds):\n",
    "    plt.text(value, index,\n",
    "             str('%.2f' % value))\n",
    "\n",
    "# Create vertical line at x = 1\n",
    "    \n",
    "ax.axvline(1)\n",
    "\n",
    "model.intercept_"
   ]
  },
  {
   "cell_type": "markdown",
   "metadata": {
    "ExecuteTime": {
     "end_time": "2021-05-26T21:04:57.320268Z",
     "start_time": "2021-05-26T21:04:57.309274Z"
    }
   },
   "source": [
    "For every 1 standard deviation increase in Kills, the odds that blue will win is 2.82 times greater than the odds that they lost.  "
   ]
  },
  {
   "cell_type": "code",
   "execution_count": 215,
   "metadata": {
    "ExecuteTime": {
     "end_time": "2021-05-26T22:02:53.017794Z",
     "start_time": "2021-05-26T22:02:53.004785Z"
    }
   },
   "outputs": [
    {
     "data": {
      "text/plain": [
       "30.94"
      ]
     },
     "execution_count": 215,
     "metadata": {},
     "output_type": "execute_result"
    }
   ],
   "source": [
    "df['TotalMinionsKilled'].std().round(2)"
   ]
  },
  {
   "cell_type": "code",
   "execution_count": 214,
   "metadata": {
    "ExecuteTime": {
     "end_time": "2021-05-26T21:34:08.391184Z",
     "start_time": "2021-05-26T21:34:08.378189Z"
    }
   },
   "outputs": [
    {
     "data": {
      "text/plain": [
       "dragon_Red                 -0.233211\n",
       "herald_Red                 -0.138605\n",
       "dragon_No Dragon           -0.067508\n",
       "firstBlood_Red             -0.037305\n",
       "WardsDestroyed              0.005775\n",
       "herald_No Herald            0.016984\n",
       "WardsPlaced                 0.026642\n",
       "Assists                     0.030392\n",
       "firstBlood_Blue             0.036392\n",
       "TowersDestroyed             0.115933\n",
       "herald_Blue                 0.120707\n",
       "TotalJungleMinionsKilled    0.291548\n",
       "dragon_Blue                 0.299806\n",
       "TotalMinionsKilled          0.335836\n",
       "Kills                       1.037019\n",
       "dtype: float64"
      ]
     },
     "execution_count": 214,
     "metadata": {},
     "output_type": "execute_result"
    }
   ],
   "source": [
    "coeffs"
   ]
  },
  {
   "cell_type": "markdown",
   "metadata": {},
   "source": [
    "## Random Forest"
   ]
  },
  {
   "cell_type": "code",
   "execution_count": null,
   "metadata": {
    "ExecuteTime": {
     "end_time": "2021-05-24T22:18:45.139017Z",
     "start_time": "2021-05-24T22:18:43.670478Z"
    }
   },
   "outputs": [],
   "source": [
    "# Initiate a random forest model\n",
    "model_rf = RandomForestClassifier(random_state=8)\n",
    "model_rf.fit(X_train, y_train)\n",
    "\n",
    "# Check accuracy\n",
    "model_accuracy(model_rf)"
   ]
  },
  {
   "cell_type": "code",
   "execution_count": null,
   "metadata": {
    "ExecuteTime": {
     "end_time": "2021-05-24T22:08:11.767147Z",
     "start_time": "2021-05-24T22:08:11.755150Z"
    }
   },
   "outputs": [],
   "source": [
    "# # Training accuracy score\n",
    "# model_rf.score(X_train, y_train)"
   ]
  },
  {
   "cell_type": "code",
   "execution_count": null,
   "metadata": {
    "ExecuteTime": {
     "end_time": "2021-05-24T22:08:17.932301Z",
     "start_time": "2021-05-24T22:08:11.771143Z"
    }
   },
   "outputs": [],
   "source": [
    "cross_val_check('Random Forest', model_rf)"
   ]
  },
  {
   "cell_type": "code",
   "execution_count": null,
   "metadata": {
    "ExecuteTime": {
     "end_time": "2021-05-24T22:08:18.679047Z",
     "start_time": "2021-05-24T22:08:17.934286Z"
    }
   },
   "outputs": [],
   "source": [
    "evaluate_classification(model_log, X_test, y_test)"
   ]
  },
  {
   "cell_type": "markdown",
   "metadata": {},
   "source": [
    "RF tends to shift away from our categoricals."
   ]
  },
  {
   "cell_type": "code",
   "execution_count": null,
   "metadata": {},
   "outputs": [],
   "source": []
  },
  {
   "cell_type": "code",
   "execution_count": null,
   "metadata": {},
   "outputs": [],
   "source": []
  },
  {
   "cell_type": "markdown",
   "metadata": {},
   "source": [
    "### RF Hyperparameter"
   ]
  },
  {
   "cell_type": "code",
   "execution_count": null,
   "metadata": {
    "ExecuteTime": {
     "end_time": "2021-05-24T22:09:06.367810Z",
     "start_time": "2021-05-24T22:08:21.805045Z"
    }
   },
   "outputs": [],
   "source": [
    "run = False\n",
    "\n",
    "# Initiate new random forest model\n",
    "model_rf_hp = RandomForestClassifier()\n",
    "\n",
    "# Define grid search parameters\n",
    "\n",
    "if run == True:\n",
    "    rf_param_grid = {\n",
    "        'n_estimators': [10, 30, 100],\n",
    "        'criterion': ['gini', 'entropy'],\n",
    "        'max_depth': [None, 2, 6, 10],\n",
    "        'min_samples_split': [5, 10],\n",
    "        'min_samples_leaf': [3, 6]}\n",
    "else:\n",
    "    rf_param_grid = {\n",
    "        'n_estimators': [30],\n",
    "        'criterion': ['entropy'],\n",
    "        'max_depth': [6],\n",
    "        'min_samples_split': [5],\n",
    "        'min_samples_leaf': [6]}\n",
    "\n",
    "# Run grid search and fit to train data\n",
    "rf_grid_search = GridSearchCV(model_rf_hp, rf_param_grid, cv=2)\n",
    "rf_grid_search.fit(X_train, y_train)\n",
    "\n",
    "# Print metrics\n",
    "print(\"---Random Forest Base Model---\")\n",
    "model_accuracy(model_rf)\n",
    "print(\"\")\n",
    "print(\"---Grid Search Model---\")\n",
    "model_accuracy(rf_grid_search)\n",
    "print(\"\")\n",
    "print(f\"Cross Validated Score: {rf_grid_search.best_score_ :.2%}\")\n",
    "print(\"\")\n",
    "print(f\"Optimal Parameters: {rf_grid_search.best_params_}\")"
   ]
  },
  {
   "cell_type": "code",
   "execution_count": null,
   "metadata": {
    "ExecuteTime": {
     "end_time": "2021-05-24T22:09:06.740638Z",
     "start_time": "2021-05-24T22:09:06.369756Z"
    }
   },
   "outputs": [],
   "source": [
    "# Print metrics\n",
    "\n",
    "print(\"---Random Forest Base Model---\")\n",
    "model_accuracy(model_rf)\n",
    "print(\"\")\n",
    "print(\"---Grid Search Model---\")\n",
    "model_accuracy(rf_grid_search)\n",
    "print(\"\")\n",
    "print(f\"Cross Validated Score: {rf_grid_search.best_score_ :.2%}\")\n",
    "print(\"\")\n",
    "print(f\"Optimal Parameters: {rf_grid_search.best_params_}\")"
   ]
  },
  {
   "cell_type": "code",
   "execution_count": null,
   "metadata": {},
   "outputs": [],
   "source": [
    "rf_grid_search.best_params_"
   ]
  },
  {
   "cell_type": "code",
   "execution_count": null,
   "metadata": {},
   "outputs": [],
   "source": [
    "model = RandomForestClassifier(**rf_grid_search.best_params_)\n",
    "\n",
    "model.fit(X_train, y_train)\n",
    "\n",
    "model_accuracy(model)"
   ]
  },
  {
   "cell_type": "code",
   "execution_count": null,
   "metadata": {
    "ExecuteTime": {
     "end_time": "2021-05-24T22:09:07.455422Z",
     "start_time": "2021-05-24T22:09:06.743638Z"
    }
   },
   "outputs": [],
   "source": [
    "evaluate_classification(rf_grid_search, X_test, y_test)"
   ]
  },
  {
   "cell_type": "markdown",
   "metadata": {},
   "source": [
    "### Feature Importances"
   ]
  },
  {
   "cell_type": "code",
   "execution_count": null,
   "metadata": {
    "ExecuteTime": {
     "end_time": "2021-05-24T22:18:09.226816Z",
     "start_time": "2021-05-24T22:18:07.323938Z"
    }
   },
   "outputs": [],
   "source": [
    "def feature_graph(model, X_train, X_test, y_train=y_train, y_test=y_test):    \n",
    "    model = model\n",
    "    model.fit(X_train, y_train)\n",
    "    feature_importance = pd.Series(model.feature_importances_, index=X_train.columns).sort_values(ascending=True)\n",
    "    model_accuracy(model, X_train=X_train, y_train=y_train, X_test=X_test, y_test=y_test)\n",
    "    ax = feature_importance.plot(kind='barh', figsize=(8,6))\n",
    "\n",
    "rf_model = RandomForestClassifier(**rf_grid_search.best_params_)\n",
    "    \n",
    "feature_graph(rf_model, X_train, X_test)\n"
   ]
  },
  {
   "cell_type": "code",
   "execution_count": null,
   "metadata": {
    "ExecuteTime": {
     "end_time": "2021-05-24T22:08:21.787054Z",
     "start_time": "2021-05-24T22:08:20.469476Z"
    },
    "scrolled": false
   },
   "outputs": [],
   "source": [
    "X_train_coeff = X_train.drop(['TotalGold', 'TotalExperience', 'AvgLevel'],axis=1)\n",
    "X_test_coeff = X_test.drop(['TotalGold', 'TotalExperience', 'AvgLevel'],axis=1)\n",
    "\n",
    "feature_graph(rf_model, X_train_coeff, X_test_coeff)"
   ]
  },
  {
   "cell_type": "markdown",
   "metadata": {},
   "source": [
    "## XGBoost"
   ]
  },
  {
   "cell_type": "code",
   "execution_count": null,
   "metadata": {
    "ExecuteTime": {
     "end_time": "2021-05-24T22:09:08.075209Z",
     "start_time": "2021-05-24T22:09:07.458407Z"
    }
   },
   "outputs": [],
   "source": [
    "# Initiate and train XGB model\n",
    "model_xgb = XGBClassifier()\n",
    "model_xgb.fit(X_train_br, y_train)\n",
    "\n",
    "model_accuracy(model_xgb)"
   ]
  },
  {
   "cell_type": "code",
   "execution_count": null,
   "metadata": {
    "ExecuteTime": {
     "end_time": "2021-05-24T22:09:12.710722Z",
     "start_time": "2021-05-24T22:09:08.078208Z"
    }
   },
   "outputs": [],
   "source": [
    "cross_val_check('XGBoost', model_xgb)"
   ]
  },
  {
   "cell_type": "code",
   "execution_count": null,
   "metadata": {
    "ExecuteTime": {
     "end_time": "2021-05-24T22:09:12.725718Z",
     "start_time": "2021-05-24T22:09:12.713724Z"
    }
   },
   "outputs": [],
   "source": [
    "param_grid = {\n",
    "    'learning_rate': [0.0001, 0.001, 0.01, 0.1],\n",
    "    'max_depth': [3, 5, 7, 9],\n",
    "    'min_child_weight': [1, 2],\n",
    "    'subsample': [0.5, 0.7, 1],\n",
    "    'n_estimators': [10, 100, 1000]}\n"
   ]
  },
  {
   "cell_type": "code",
   "execution_count": null,
   "metadata": {
    "ExecuteTime": {
     "end_time": "2021-05-24T22:09:38.849341Z",
     "start_time": "2021-05-24T22:09:12.728717Z"
    }
   },
   "outputs": [],
   "source": [
    "run = False\n",
    "\n",
    "if run == True:\n",
    "\n",
    "    model_xgb_hp = XGBClassifier()\n",
    "\n",
    "    xgb_grid_search = GridSearchCV(model_xgb_hp, param_grid, scoring='accuracy', cv=None, n_jobs=-1, verbose=100)\n",
    "    xgb_grid_search.fit(X_train, y_train)\n",
    "\n",
    "    model_accuracy(xgb_grid_search)\n",
    "    \n",
    "    xgb_best_parameters = xgb_grid_search.best_params_\n",
    "\n",
    "    print(f\"Cross Validated Score: {xgb_grid_search.best_score_ :.2%}\")\n",
    "    print(\"\")\n",
    "    print(f\"Optimal Parameters: {xgb_grid_search.best_params_}\")\n",
    "    \n",
    "else:\n",
    "    xgb_best_parameters = {\n",
    "    'learning_rate': 0.01,\n",
    "    'max_depth': 3,\n",
    "    'min_child_weight': 1,\n",
    "    'subsample': 0.5,\n",
    "    'n_estimators': 100\n",
    "    }\n",
    "\n",
    "    model_xgb_hp = XGBClassifier(**xgb_best_parameters)\n",
    "    model_xgb_hp.fit(X_train, y_train)\n",
    "    model_accuracy(model_xgb_hp)"
   ]
  },
  {
   "cell_type": "code",
   "execution_count": null,
   "metadata": {
    "ExecuteTime": {
     "end_time": "2021-05-24T22:09:45.003374Z",
     "start_time": "2021-05-24T22:09:44.186633Z"
    }
   },
   "outputs": [],
   "source": [
    "evaluate_classification(model_xgb_hp, X_test, y_test)"
   ]
  },
  {
   "cell_type": "code",
   "execution_count": null,
   "metadata": {
    "ExecuteTime": {
     "end_time": "2021-05-24T22:09:52.045953Z",
     "start_time": "2021-05-24T22:09:45.861951Z"
    }
   },
   "outputs": [],
   "source": [
    "feature_graph(model_xgb_hp, X_train, X_test)"
   ]
  },
  {
   "cell_type": "code",
   "execution_count": null,
   "metadata": {
    "ExecuteTime": {
     "end_time": "2021-05-24T22:09:57.743997Z",
     "start_time": "2021-05-24T22:09:52.048951Z"
    }
   },
   "outputs": [],
   "source": [
    "X_train_feat_xgb = X_train.drop(['TotalGold', 'TotalExperience', 'AvgLevel'],axis=1)\n",
    "X_test_feat_xgb = X_test.drop(['TotalGold', 'TotalExperience', 'AvgLevel'],axis=1)\n",
    "\n",
    "feature_graph(model_xgb_hp, X_train_feat_xgb, X_test_feat_xgb)"
   ]
  },
  {
   "cell_type": "code",
   "execution_count": null,
   "metadata": {},
   "outputs": [],
   "source": []
  },
  {
   "cell_type": "code",
   "execution_count": null,
   "metadata": {},
   "outputs": [],
   "source": []
  },
  {
   "cell_type": "code",
   "execution_count": null,
   "metadata": {},
   "outputs": [],
   "source": []
  },
  {
   "cell_type": "code",
   "execution_count": null,
   "metadata": {},
   "outputs": [],
   "source": []
  },
  {
   "cell_type": "code",
   "execution_count": null,
   "metadata": {},
   "outputs": [],
   "source": []
  },
  {
   "cell_type": "markdown",
   "metadata": {},
   "source": [
    "# iNTERPRET"
   ]
  },
  {
   "cell_type": "markdown",
   "metadata": {},
   "source": [
    "Evaluate how well your work solves the stated business problem.\n",
    "\n",
    "***\n",
    "Questions to consider:\n",
    "* How do you interpret the results?\n",
    "* How well does your model fit your data? How much better is this than your baseline model?\n",
    "* How confident are you that your results would generalize beyond the data you have?\n",
    "* How confident are you that this model would benefit the business if put into use?\n",
    "***"
   ]
  },
  {
   "cell_type": "code",
   "execution_count": null,
   "metadata": {},
   "outputs": [],
   "source": []
  },
  {
   "cell_type": "markdown",
   "metadata": {},
   "source": [
    "# CONCLUSIONS & RECOMMENDATIONS"
   ]
  },
  {
   "cell_type": "markdown",
   "metadata": {},
   "source": [
    "Provide your conclusions about the work you've done, including any limitations or next steps.\n",
    "\n",
    "***\n",
    "Questions to consider:\n",
    "* What would you recommend the business do as a result of this work?\n",
    "* What are some reasons why your analysis might not fully solve the business problem?\n",
    "* What else could you do in the future to improve this project?\n",
    "***"
   ]
  },
  {
   "cell_type": "code",
   "execution_count": null,
   "metadata": {
    "ExecuteTime": {
     "end_time": "2021-05-24T22:07:17.032151Z",
     "start_time": "2021-05-24T22:07:17.020156Z"
    }
   },
   "outputs": [],
   "source": [
    "\n",
    "# Create function used to find Precision, Recall, Accuracy, and F1 Scores.\n",
    "def print_metrics(labels, preds):\n",
    "    print(\"Precision Score: {}\".format(precision_score(labels, preds)))\n",
    "    print(\"Recall Score: {}\".format(recall_score(labels, preds)))\n",
    "    print(\"Accuracy Score: {}\".format(accuracy_score(labels, preds)))\n",
    "    print(\"F1 Score: {}\".format(f1_score(labels, preds)))\n",
    "    \n",
    "\n",
    "            \n",
    "    print(\"Best Value for k: {}\".format(best_k))\n",
    "    print(\"F1-Score: {}\".format(best_score))\n",
    "\n",
    "# Create a function that visualizes the confusion matrix for the model.    \n",
    "def plot_cm(model, normalize='true'):\n",
    "    fig, ax = plt.subplots(figsize=(8, 8))\n",
    "    plt.grid(False)\n",
    "    plot_confusion_matrix(model, X_test, y_test, cmap='Blues', ax=ax, normalize=normalize)\n"
   ]
  },
  {
   "cell_type": "code",
   "execution_count": null,
   "metadata": {},
   "outputs": [],
   "source": [
    "def tt_split_df(df):\n",
    "    \n",
    "    y = df['blueWins']\n",
    "    X = df.drop(columns=['blueWins'], axis=1)\n",
    "    \n",
    "    X_train, X_test, y_train, y_test = train_test_split(X, y, test_size=0.3)\n",
    "    \n",
    "    X_train_tf = X_train.copy()\n",
    "    X_test_tf = X_test.copy()\n",
    "    \n",
    "    categoricals = X.select_dtypes('O').columns\n",
    "    numericals = X.select_dtypes('number').columns\n",
    "    \n",
    "    encoder = OneHotEncoder(sparse=False,drop='if_binary')\n",
    "    train_categoricals = encoder.fit_transform(X_train_tf[categoricals])\n",
    "    test_categoricals = encoder.transform(X_test_tf[categoricals])\n",
    "    \n",
    "    train_categoricals_df = pd.DataFrame(train_categoricals,\n",
    "                                     columns=encoder.get_feature_names(categoricals))\n",
    "\n",
    "    test_categoricals_df =  pd.DataFrame(test_categoricals,\n",
    "                                     columns=encoder.get_feature_names(categoricals))\n",
    "    train_numericals_df = pd.DataFrame(scaler.fit_transform(X_train_tf[numericals]),\n",
    "                              columns=numericals)\n",
    "\n",
    "    test_numericals_df = pd.DataFrame(scaler.transform(X_test_tf[numericals]),\n",
    "                              columns=numericals)\n",
    "    \n",
    "    X_train_tf = pd.concat([train_numericals_df, train_categoricals_df], axis=1)\n",
    "    X_test_tf = pd.concat([test_numericals_df, test_categoricals_df], axis=1)\n",
    "    \n",
    "    return X_train_tf, X_test_tf, y_train, y_test\n",
    "\n",
    "# tt_split_df(diff_df)\n",
    "\n",
    "X_train, X_test, y_train, y_test = tt_split_df(df)"
   ]
  },
  {
   "cell_type": "code",
   "execution_count": null,
   "metadata": {
    "ExecuteTime": {
     "end_time": "2021-05-24T22:07:22.857284Z",
     "start_time": "2021-05-24T22:07:22.797305Z"
    }
   },
   "outputs": [],
   "source": [
    "# Initiate and train model\n",
    "def model_accuracy(model, X_train=X_train, y_train=y_train, X_test=X_test, y_test=y_test):\n",
    "    print(f'Training Accuracy: {model.score(X_train,y_train):.2%}')\n",
    "    print(f'Test Accuracy: {model.score(X_test,y_test):.2%}')\n",
    "\n",
    "# model_accuracy(model_log)\n",
    "\n",
    "\n",
    "model_log = LogisticRegression()\n",
    "\n",
    "model_log.fit(X_train, y_train)\n",
    "\n",
    "model_accuracy(model_log, X_train=X_train, X_test=X_test)"
   ]
  },
  {
   "cell_type": "code",
   "execution_count": null,
   "metadata": {},
   "outputs": [],
   "source": [
    "X_train_br"
   ]
  },
  {
   "cell_type": "code",
   "execution_count": null,
   "metadata": {},
   "outputs": [],
   "source": [
    "X_train_br, X_test_br, y_train, y_test = tt_split_df(df_blue_red)\n",
    "\n",
    "mod = LogisticRegression()\n",
    "\n",
    "mod.fit(X_train_br, y_train)\n",
    "\n",
    "model_accuracy(mod, X_train=X_train_br, X_test=X_test_br)\n",
    "# model_accuracy(mod)"
   ]
  },
  {
   "cell_type": "code",
   "execution_count": null,
   "metadata": {
    "ExecuteTime": {
     "end_time": "2021-05-24T22:09:12.725718Z",
     "start_time": "2021-05-24T22:09:12.713724Z"
    }
   },
   "outputs": [],
   "source": [
    "param_grid = {\n",
    "    'learning_rate': [0.0001, 0.001, 0.01, 0.1],\n",
    "    'max_depth': [3, 5, 7, 9],\n",
    "    'min_child_weight': [1, 2],\n",
    "    'subsample': [0.5, 0.7, 1],\n",
    "    'n_estimators': [10, 100, 1000]}\n"
   ]
  },
  {
   "cell_type": "code",
   "execution_count": null,
   "metadata": {
    "ExecuteTime": {
     "end_time": "2021-05-24T22:09:38.849341Z",
     "start_time": "2021-05-24T22:09:12.728717Z"
    }
   },
   "outputs": [],
   "source": [
    "run = True\n",
    "\n",
    "if run == True:\n",
    "\n",
    "    model_xgb_hp = XGBClassifier()\n",
    "\n",
    "    xgb_grid_search = GridSearchCV(model_xgb_hp, param_grid, scoring='accuracy', cv=None, n_jobs=-1, verbose=100)\n",
    "    xgb_grid_search.fit(X_train, y_train)\n",
    "\n",
    "    model_accuracy(xgb_grid_search)\n",
    "    \n",
    "    xgb_best_parameters = xgb_grid_search.best_params_\n",
    "\n",
    "    print(f\"Cross Validated Score: {xgb_grid_search.best_score_ :.2%}\")\n",
    "    print(\"\")\n",
    "    print(f\"Optimal Parameters: {xgb_grid_search.best_params_}\")\n",
    "    \n",
    "else:\n",
    "    xgb_best_parameters = {\n",
    "    'learning_rate': 0.01,\n",
    "    'max_depth': 3,\n",
    "    'min_child_weight': 1,\n",
    "    'subsample': 0.5,\n",
    "    'n_estimators': 100\n",
    "    }\n",
    "\n",
    "    model_xgb_hp = XGBClassifier(**xgb_best_parameters)\n",
    "    model_xgb_hp.fit(X_train, y_train)\n",
    "    model_accuracy(model_xgb_hp, X_train=X_train_br, X_test=X_test_br)"
   ]
  },
  {
   "cell_type": "code",
   "execution_count": null,
   "metadata": {},
   "outputs": [],
   "source": [
    "model_accuracy(xgb_grid_search)"
   ]
  },
  {
   "cell_type": "code",
   "execution_count": null,
   "metadata": {},
   "outputs": [],
   "source": [
    "model_xgb_hp = XGBClassifier(**xgb_best_parameters)\n",
    "model_xgb_hp.fit(X_train_br, y_train)\n",
    "model_accuracy(model_xgb_hp, X_train=X_train_br, X_test=X_test_br)"
   ]
  },
  {
   "cell_type": "code",
   "execution_count": null,
   "metadata": {},
   "outputs": [],
   "source": [
    "xgb_grid_search"
   ]
  },
  {
   "cell_type": "code",
   "execution_count": null,
   "metadata": {},
   "outputs": [],
   "source": [
    "model_xgb_hp = XGBClassifier(**xgb_best_parameters)\n",
    "model_xgb_hp.fit(X_train_br, y_train)\n",
    "model_accuracy(xgb_grid_search, X_train=X_train_br, X_test=X_test_br)"
   ]
  }
 ],
 "metadata": {
  "kernelspec": {
   "display_name": "learn-env",
   "language": "python",
   "name": "learn-env"
  },
  "language_info": {
   "codemirror_mode": {
    "name": "ipython",
    "version": 3
   },
   "file_extension": ".py",
   "mimetype": "text/x-python",
   "name": "python",
   "nbconvert_exporter": "python",
   "pygments_lexer": "ipython3",
   "version": "3.8.5"
  },
  "toc": {
   "base_numbering": 1,
   "nav_menu": {},
   "number_sections": false,
   "sideBar": true,
   "skip_h1_title": false,
   "title_cell": "Table of Contents",
   "title_sidebar": "Contents",
   "toc_cell": false,
   "toc_position": {
    "height": "47.6px",
    "left": "1163px",
    "top": "110.8px",
    "width": "212px"
   },
   "toc_section_display": true,
   "toc_window_display": true
  },
  "varInspector": {
   "cols": {
    "lenName": 16,
    "lenType": 16,
    "lenVar": 40
   },
   "kernels_config": {
    "python": {
     "delete_cmd_postfix": "",
     "delete_cmd_prefix": "del ",
     "library": "var_list.py",
     "varRefreshCmd": "print(var_dic_list())"
    },
    "r": {
     "delete_cmd_postfix": ") ",
     "delete_cmd_prefix": "rm(",
     "library": "var_list.r",
     "varRefreshCmd": "cat(var_dic_list()) "
    }
   },
   "types_to_exclude": [
    "module",
    "function",
    "builtin_function_or_method",
    "instance",
    "_Feature"
   ],
   "window_display": false
  }
 },
 "nbformat": 4,
 "nbformat_minor": 2
}
