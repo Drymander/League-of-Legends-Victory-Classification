{
 "cells": [
  {
   "cell_type": "markdown",
   "metadata": {},
   "source": [
    "# Final Project Submission"
   ]
  },
  {
   "cell_type": "markdown",
   "metadata": {},
   "source": [
    "Please fill out:\n",
    "* Student name: \n",
    "* Student pace: self paced / part time / full time:\n",
    "* Scheduled project review date/time: \n",
    "* Instructor name: \n",
    "* Blog post URL:\n",
    "* Video of 5-min Non-Technical Presentation:"
   ]
  },
  {
   "cell_type": "markdown",
   "metadata": {},
   "source": [
    "## TABLE OF CONTENTS "
   ]
  },
  {
   "cell_type": "markdown",
   "metadata": {},
   "source": [
    "*Click to jump to matching Markdown Header.*<br><br>\n",
    " \n",
    "- **[Introduction](#INTRODUCTION)<br>**\n",
    "- **[OBTAIN](#OBTAIN)**<br>\n",
    "- **[SCRUB](#SCRUB)**<br>\n",
    "- **[EXPLORE](#EXPLORE)**<br>\n",
    "- **[MODEL](#MODEL)**<br>\n",
    "- **[iNTERPRET](#iNTERPRET)**<br>\n",
    "- **[Conclusions/Recommendations](#CONCLUSIONS-&-RECOMMENDATIONS)<br>**\n",
    "___"
   ]
  },
  {
   "cell_type": "markdown",
   "metadata": {},
   "source": [
    "# INTRODUCTION"
   ]
  },
  {
   "cell_type": "markdown",
   "metadata": {},
   "source": [
    "> Explain the point of your project and what question you are trying to answer with your modeling.\n",
    "\n",
    "## Business Problem\n",
    "\n",
    "Summary of the business problem you are trying to solve, and the data questions that you plan to answer to solve them.\n",
    "\n",
    "***\n",
    "Questions to consider:\n",
    "* What are the business's pain points related to this project?\n",
    "* How did you pick the data analysis question(s) that you did?\n",
    "* Why are these questions important from a business perspective?\n",
    "***\n",
    "\n"
   ]
  },
  {
   "cell_type": "markdown",
   "metadata": {},
   "source": [
    "# OBTAIN"
   ]
  },
  {
   "cell_type": "markdown",
   "metadata": {},
   "source": [
    "## Data Understanding\n",
    "\n",
    "Describe the data being used for this project.\n",
    "***\n",
    "Questions to consider:\n",
    "* Where did the data come from, and how do they relate to the data analysis questions?\n",
    "* What do the data represent? Who is in the sample and what variables are included?\n",
    "* What is the target variable?\n",
    "* What are the properties of the variables you intend to use?\n",
    "***\n"
   ]
  },
  {
   "cell_type": "markdown",
   "metadata": {},
   "source": [
    "Importing packages for importing data and exploratory visual analysis."
   ]
  },
  {
   "cell_type": "code",
   "execution_count": 1,
   "metadata": {
    "ExecuteTime": {
     "end_time": "2021-05-26T18:36:01.874222Z",
     "start_time": "2021-05-26T18:35:58.995863Z"
    }
   },
   "outputs": [],
   "source": [
    "import pandas as pd\n",
    "import seaborn as sns\n",
    "# sns.set_theme(color_codes=True)\n",
    "import matplotlib.pyplot as plt\n",
    "import numpy as np\n",
    "\n",
    "## Preprocessing tools\n",
    "from sklearn.model_selection import train_test_split,cross_val_predict,cross_validate\n",
    "from sklearn.preprocessing import MinMaxScaler,StandardScaler,OneHotEncoder\n",
    "scaler = StandardScaler()\n",
    "from sklearn.impute import SimpleImputer\n",
    "from sklearn.pipeline import Pipeline\n",
    "from sklearn.compose import ColumnTransformer\n",
    "from imblearn.over_sampling import SMOTE,SMOTENC\n",
    "from sklearn import metrics\n",
    "\n",
    "## Models & Utils\n",
    "from sklearn.dummy import DummyClassifier\n",
    "from sklearn.linear_model import LogisticRegression,LogisticRegressionCV\n",
    "from sklearn.ensemble import RandomForestClassifier\n",
    "from sklearn.svm import SVC\n",
    "\n",
    "from time import time\n",
    "\n",
    "import pandas as pd\n",
    "import numpy as np\n",
    "import matplotlib.pyplot as plt\n",
    "import seaborn as sns\n",
    "from sklearn.preprocessing import StandardScaler\n",
    "from sklearn.model_selection import train_test_split\n",
    "from sklearn.linear_model import LogisticRegression\n",
    "from sklearn.metrics import classification_report\n",
    "from sklearn.model_selection import cross_val_score\n",
    "from xgboost import XGBClassifier\n",
    "import warnings\n",
    "warnings.filterwarnings(action='ignore') \n",
    "from sklearn.neighbors import KNeighborsClassifier\n",
    "from sklearn.tree import DecisionTreeClassifier\n",
    "from sklearn.svm import SVC\n",
    "from sklearn.ensemble import RandomForestClassifier,AdaBoostClassifier,BaggingClassifier,ExtraTreesClassifier\n",
    "from sklearn.decomposition import PCA\n",
    "from sklearn.model_selection import GridSearchCV\n",
    "\n",
    "from sklearn.metrics import plot_confusion_matrix\n",
    "\n",
    "from sklearn.metrics import accuracy_score, confusion_matrix, classification_report, precision_score, recall_score, f1_score"
   ]
  },
  {
   "cell_type": "code",
   "execution_count": 2,
   "metadata": {
    "ExecuteTime": {
     "end_time": "2021-05-26T18:36:01.890219Z",
     "start_time": "2021-05-26T18:36:01.876224Z"
    }
   },
   "outputs": [],
   "source": [
    "\n",
    "# Create function used to find Precision, Recall, Accuracy, and F1 Scores.\n",
    "def print_metrics(labels, preds):\n",
    "    print(\"Precision Score: {}\".format(precision_score(labels, preds)))\n",
    "    print(\"Recall Score: {}\".format(recall_score(labels, preds)))\n",
    "    print(\"Accuracy Score: {}\".format(accuracy_score(labels, preds)))\n",
    "    print(\"F1 Score: {}\".format(f1_score(labels, preds)))\n",
    "    \n",
    "\n",
    "            \n",
    "    print(\"Best Value for k: {}\".format(best_k))\n",
    "    print(\"F1-Score: {}\".format(best_score))\n",
    "\n",
    "# Create a function that visualizes the confusion matrix for the model.    \n",
    "def plot_cm(model, normalize='true'):\n",
    "    fig, ax = plt.subplots(figsize=(8, 8))\n",
    "    plt.grid(False)\n",
    "    plot_confusion_matrix(model, X_test, y_test, cmap='Blues', ax=ax, normalize=normalize)\n"
   ]
  },
  {
   "cell_type": "code",
   "execution_count": 3,
   "metadata": {
    "ExecuteTime": {
     "end_time": "2021-05-26T18:36:01.986186Z",
     "start_time": "2021-05-26T18:36:01.893217Z"
    }
   },
   "outputs": [
    {
     "data": {
      "text/plain": [
       "Index(['gameId', 'blueWins', 'blueWardsPlaced', 'blueWardsDestroyed',\n",
       "       'blueFirstBlood', 'blueKills', 'blueDeaths', 'blueAssists',\n",
       "       'blueEliteMonsters', 'blueDragons', 'blueHeralds',\n",
       "       'blueTowersDestroyed', 'blueTotalGold', 'blueAvgLevel',\n",
       "       'blueTotalExperience', 'blueTotalMinionsKilled',\n",
       "       'blueTotalJungleMinionsKilled', 'blueGoldDiff', 'blueExperienceDiff',\n",
       "       'blueCSPerMin', 'blueGoldPerMin', 'redWardsPlaced', 'redWardsDestroyed',\n",
       "       'redFirstBlood', 'redKills', 'redDeaths', 'redAssists',\n",
       "       'redEliteMonsters', 'redDragons', 'redHeralds', 'redTowersDestroyed',\n",
       "       'redTotalGold', 'redAvgLevel', 'redTotalExperience',\n",
       "       'redTotalMinionsKilled', 'redTotalJungleMinionsKilled', 'redGoldDiff',\n",
       "       'redExperienceDiff', 'redCSPerMin', 'redGoldPerMin'],\n",
       "      dtype='object')"
      ]
     },
     "execution_count": 3,
     "metadata": {},
     "output_type": "execute_result"
    }
   ],
   "source": [
    "df = pd.read_csv('data/high_diamond_ranked_10min.csv')\n",
    "\n",
    "df.columns"
   ]
  },
  {
   "cell_type": "code",
   "execution_count": 4,
   "metadata": {
    "ExecuteTime": {
     "end_time": "2021-05-26T18:36:02.050167Z",
     "start_time": "2021-05-26T18:36:01.989187Z"
    }
   },
   "outputs": [
    {
     "data": {
      "text/html": [
       "<div>\n",
       "<style scoped>\n",
       "    .dataframe tbody tr th:only-of-type {\n",
       "        vertical-align: middle;\n",
       "    }\n",
       "\n",
       "    .dataframe tbody tr th {\n",
       "        vertical-align: top;\n",
       "    }\n",
       "\n",
       "    .dataframe thead th {\n",
       "        text-align: right;\n",
       "    }\n",
       "</style>\n",
       "<table border=\"1\" class=\"dataframe\">\n",
       "  <thead>\n",
       "    <tr style=\"text-align: right;\">\n",
       "      <th></th>\n",
       "      <th>gameId</th>\n",
       "      <th>blueWins</th>\n",
       "      <th>blueWardsPlaced</th>\n",
       "      <th>blueWardsDestroyed</th>\n",
       "      <th>blueFirstBlood</th>\n",
       "      <th>blueKills</th>\n",
       "      <th>blueDeaths</th>\n",
       "      <th>blueAssists</th>\n",
       "      <th>blueEliteMonsters</th>\n",
       "      <th>blueDragons</th>\n",
       "      <th>...</th>\n",
       "      <th>redTowersDestroyed</th>\n",
       "      <th>redTotalGold</th>\n",
       "      <th>redAvgLevel</th>\n",
       "      <th>redTotalExperience</th>\n",
       "      <th>redTotalMinionsKilled</th>\n",
       "      <th>redTotalJungleMinionsKilled</th>\n",
       "      <th>redGoldDiff</th>\n",
       "      <th>redExperienceDiff</th>\n",
       "      <th>redCSPerMin</th>\n",
       "      <th>redGoldPerMin</th>\n",
       "    </tr>\n",
       "  </thead>\n",
       "  <tbody>\n",
       "    <tr>\n",
       "      <th>0</th>\n",
       "      <td>4519157822</td>\n",
       "      <td>0</td>\n",
       "      <td>28</td>\n",
       "      <td>2</td>\n",
       "      <td>1</td>\n",
       "      <td>9</td>\n",
       "      <td>6</td>\n",
       "      <td>11</td>\n",
       "      <td>0</td>\n",
       "      <td>0</td>\n",
       "      <td>...</td>\n",
       "      <td>0</td>\n",
       "      <td>16567</td>\n",
       "      <td>6.8</td>\n",
       "      <td>17047</td>\n",
       "      <td>197</td>\n",
       "      <td>55</td>\n",
       "      <td>-643</td>\n",
       "      <td>8</td>\n",
       "      <td>19.7</td>\n",
       "      <td>1656.7</td>\n",
       "    </tr>\n",
       "    <tr>\n",
       "      <th>1</th>\n",
       "      <td>4523371949</td>\n",
       "      <td>0</td>\n",
       "      <td>12</td>\n",
       "      <td>1</td>\n",
       "      <td>0</td>\n",
       "      <td>5</td>\n",
       "      <td>5</td>\n",
       "      <td>5</td>\n",
       "      <td>0</td>\n",
       "      <td>0</td>\n",
       "      <td>...</td>\n",
       "      <td>1</td>\n",
       "      <td>17620</td>\n",
       "      <td>6.8</td>\n",
       "      <td>17438</td>\n",
       "      <td>240</td>\n",
       "      <td>52</td>\n",
       "      <td>2908</td>\n",
       "      <td>1173</td>\n",
       "      <td>24.0</td>\n",
       "      <td>1762.0</td>\n",
       "    </tr>\n",
       "    <tr>\n",
       "      <th>2</th>\n",
       "      <td>4521474530</td>\n",
       "      <td>0</td>\n",
       "      <td>15</td>\n",
       "      <td>0</td>\n",
       "      <td>0</td>\n",
       "      <td>7</td>\n",
       "      <td>11</td>\n",
       "      <td>4</td>\n",
       "      <td>1</td>\n",
       "      <td>1</td>\n",
       "      <td>...</td>\n",
       "      <td>0</td>\n",
       "      <td>17285</td>\n",
       "      <td>6.8</td>\n",
       "      <td>17254</td>\n",
       "      <td>203</td>\n",
       "      <td>28</td>\n",
       "      <td>1172</td>\n",
       "      <td>1033</td>\n",
       "      <td>20.3</td>\n",
       "      <td>1728.5</td>\n",
       "    </tr>\n",
       "    <tr>\n",
       "      <th>3</th>\n",
       "      <td>4524384067</td>\n",
       "      <td>0</td>\n",
       "      <td>43</td>\n",
       "      <td>1</td>\n",
       "      <td>0</td>\n",
       "      <td>4</td>\n",
       "      <td>5</td>\n",
       "      <td>5</td>\n",
       "      <td>1</td>\n",
       "      <td>0</td>\n",
       "      <td>...</td>\n",
       "      <td>0</td>\n",
       "      <td>16478</td>\n",
       "      <td>7.0</td>\n",
       "      <td>17961</td>\n",
       "      <td>235</td>\n",
       "      <td>47</td>\n",
       "      <td>1321</td>\n",
       "      <td>7</td>\n",
       "      <td>23.5</td>\n",
       "      <td>1647.8</td>\n",
       "    </tr>\n",
       "    <tr>\n",
       "      <th>4</th>\n",
       "      <td>4436033771</td>\n",
       "      <td>0</td>\n",
       "      <td>75</td>\n",
       "      <td>4</td>\n",
       "      <td>0</td>\n",
       "      <td>6</td>\n",
       "      <td>6</td>\n",
       "      <td>6</td>\n",
       "      <td>0</td>\n",
       "      <td>0</td>\n",
       "      <td>...</td>\n",
       "      <td>0</td>\n",
       "      <td>17404</td>\n",
       "      <td>7.0</td>\n",
       "      <td>18313</td>\n",
       "      <td>225</td>\n",
       "      <td>67</td>\n",
       "      <td>1004</td>\n",
       "      <td>-230</td>\n",
       "      <td>22.5</td>\n",
       "      <td>1740.4</td>\n",
       "    </tr>\n",
       "  </tbody>\n",
       "</table>\n",
       "<p>5 rows × 40 columns</p>\n",
       "</div>"
      ],
      "text/plain": [
       "       gameId  blueWins  blueWardsPlaced  blueWardsDestroyed  blueFirstBlood  \\\n",
       "0  4519157822         0               28                   2               1   \n",
       "1  4523371949         0               12                   1               0   \n",
       "2  4521474530         0               15                   0               0   \n",
       "3  4524384067         0               43                   1               0   \n",
       "4  4436033771         0               75                   4               0   \n",
       "\n",
       "   blueKills  blueDeaths  blueAssists  blueEliteMonsters  blueDragons  ...  \\\n",
       "0          9           6           11                  0            0  ...   \n",
       "1          5           5            5                  0            0  ...   \n",
       "2          7          11            4                  1            1  ...   \n",
       "3          4           5            5                  1            0  ...   \n",
       "4          6           6            6                  0            0  ...   \n",
       "\n",
       "   redTowersDestroyed  redTotalGold  redAvgLevel  redTotalExperience  \\\n",
       "0                   0         16567          6.8               17047   \n",
       "1                   1         17620          6.8               17438   \n",
       "2                   0         17285          6.8               17254   \n",
       "3                   0         16478          7.0               17961   \n",
       "4                   0         17404          7.0               18313   \n",
       "\n",
       "   redTotalMinionsKilled  redTotalJungleMinionsKilled  redGoldDiff  \\\n",
       "0                    197                           55         -643   \n",
       "1                    240                           52         2908   \n",
       "2                    203                           28         1172   \n",
       "3                    235                           47         1321   \n",
       "4                    225                           67         1004   \n",
       "\n",
       "   redExperienceDiff  redCSPerMin  redGoldPerMin  \n",
       "0                  8         19.7         1656.7  \n",
       "1               1173         24.0         1762.0  \n",
       "2               1033         20.3         1728.5  \n",
       "3                  7         23.5         1647.8  \n",
       "4               -230         22.5         1740.4  \n",
       "\n",
       "[5 rows x 40 columns]"
      ]
     },
     "execution_count": 4,
     "metadata": {},
     "output_type": "execute_result"
    }
   ],
   "source": [
    "df.head()"
   ]
  },
  {
   "cell_type": "code",
   "execution_count": 5,
   "metadata": {
    "ExecuteTime": {
     "end_time": "2021-05-26T18:36:02.082173Z",
     "start_time": "2021-05-26T18:36:02.053166Z"
    }
   },
   "outputs": [
    {
     "name": "stdout",
     "output_type": "stream",
     "text": [
      "<class 'pandas.core.frame.DataFrame'>\n",
      "RangeIndex: 9879 entries, 0 to 9878\n",
      "Data columns (total 40 columns):\n",
      " #   Column                        Non-Null Count  Dtype  \n",
      "---  ------                        --------------  -----  \n",
      " 0   gameId                        9879 non-null   int64  \n",
      " 1   blueWins                      9879 non-null   int64  \n",
      " 2   blueWardsPlaced               9879 non-null   int64  \n",
      " 3   blueWardsDestroyed            9879 non-null   int64  \n",
      " 4   blueFirstBlood                9879 non-null   int64  \n",
      " 5   blueKills                     9879 non-null   int64  \n",
      " 6   blueDeaths                    9879 non-null   int64  \n",
      " 7   blueAssists                   9879 non-null   int64  \n",
      " 8   blueEliteMonsters             9879 non-null   int64  \n",
      " 9   blueDragons                   9879 non-null   int64  \n",
      " 10  blueHeralds                   9879 non-null   int64  \n",
      " 11  blueTowersDestroyed           9879 non-null   int64  \n",
      " 12  blueTotalGold                 9879 non-null   int64  \n",
      " 13  blueAvgLevel                  9879 non-null   float64\n",
      " 14  blueTotalExperience           9879 non-null   int64  \n",
      " 15  blueTotalMinionsKilled        9879 non-null   int64  \n",
      " 16  blueTotalJungleMinionsKilled  9879 non-null   int64  \n",
      " 17  blueGoldDiff                  9879 non-null   int64  \n",
      " 18  blueExperienceDiff            9879 non-null   int64  \n",
      " 19  blueCSPerMin                  9879 non-null   float64\n",
      " 20  blueGoldPerMin                9879 non-null   float64\n",
      " 21  redWardsPlaced                9879 non-null   int64  \n",
      " 22  redWardsDestroyed             9879 non-null   int64  \n",
      " 23  redFirstBlood                 9879 non-null   int64  \n",
      " 24  redKills                      9879 non-null   int64  \n",
      " 25  redDeaths                     9879 non-null   int64  \n",
      " 26  redAssists                    9879 non-null   int64  \n",
      " 27  redEliteMonsters              9879 non-null   int64  \n",
      " 28  redDragons                    9879 non-null   int64  \n",
      " 29  redHeralds                    9879 non-null   int64  \n",
      " 30  redTowersDestroyed            9879 non-null   int64  \n",
      " 31  redTotalGold                  9879 non-null   int64  \n",
      " 32  redAvgLevel                   9879 non-null   float64\n",
      " 33  redTotalExperience            9879 non-null   int64  \n",
      " 34  redTotalMinionsKilled         9879 non-null   int64  \n",
      " 35  redTotalJungleMinionsKilled   9879 non-null   int64  \n",
      " 36  redGoldDiff                   9879 non-null   int64  \n",
      " 37  redExperienceDiff             9879 non-null   int64  \n",
      " 38  redCSPerMin                   9879 non-null   float64\n",
      " 39  redGoldPerMin                 9879 non-null   float64\n",
      "dtypes: float64(6), int64(34)\n",
      "memory usage: 3.0 MB\n"
     ]
    }
   ],
   "source": [
    "df.info()"
   ]
  },
  {
   "cell_type": "code",
   "execution_count": 6,
   "metadata": {
    "ExecuteTime": {
     "end_time": "2021-05-26T18:36:02.306084Z",
     "start_time": "2021-05-26T18:36:02.086156Z"
    },
    "scrolled": true
   },
   "outputs": [
    {
     "data": {
      "text/html": [
       "<div>\n",
       "<style scoped>\n",
       "    .dataframe tbody tr th:only-of-type {\n",
       "        vertical-align: middle;\n",
       "    }\n",
       "\n",
       "    .dataframe tbody tr th {\n",
       "        vertical-align: top;\n",
       "    }\n",
       "\n",
       "    .dataframe thead th {\n",
       "        text-align: right;\n",
       "    }\n",
       "</style>\n",
       "<table border=\"1\" class=\"dataframe\">\n",
       "  <thead>\n",
       "    <tr style=\"text-align: right;\">\n",
       "      <th></th>\n",
       "      <th>gameId</th>\n",
       "      <th>blueWins</th>\n",
       "      <th>blueWardsPlaced</th>\n",
       "      <th>blueWardsDestroyed</th>\n",
       "      <th>blueFirstBlood</th>\n",
       "      <th>blueKills</th>\n",
       "      <th>blueDeaths</th>\n",
       "      <th>blueAssists</th>\n",
       "      <th>blueEliteMonsters</th>\n",
       "      <th>blueDragons</th>\n",
       "      <th>...</th>\n",
       "      <th>redTowersDestroyed</th>\n",
       "      <th>redTotalGold</th>\n",
       "      <th>redAvgLevel</th>\n",
       "      <th>redTotalExperience</th>\n",
       "      <th>redTotalMinionsKilled</th>\n",
       "      <th>redTotalJungleMinionsKilled</th>\n",
       "      <th>redGoldDiff</th>\n",
       "      <th>redExperienceDiff</th>\n",
       "      <th>redCSPerMin</th>\n",
       "      <th>redGoldPerMin</th>\n",
       "    </tr>\n",
       "  </thead>\n",
       "  <tbody>\n",
       "    <tr>\n",
       "      <th>count</th>\n",
       "      <td>9.879000e+03</td>\n",
       "      <td>9879.000000</td>\n",
       "      <td>9879.000000</td>\n",
       "      <td>9879.000000</td>\n",
       "      <td>9879.000000</td>\n",
       "      <td>9879.000000</td>\n",
       "      <td>9879.000000</td>\n",
       "      <td>9879.000000</td>\n",
       "      <td>9879.000000</td>\n",
       "      <td>9879.000000</td>\n",
       "      <td>...</td>\n",
       "      <td>9879.000000</td>\n",
       "      <td>9879.000000</td>\n",
       "      <td>9879.000000</td>\n",
       "      <td>9879.000000</td>\n",
       "      <td>9879.000000</td>\n",
       "      <td>9879.000000</td>\n",
       "      <td>9879.000000</td>\n",
       "      <td>9879.000000</td>\n",
       "      <td>9879.000000</td>\n",
       "      <td>9879.000000</td>\n",
       "    </tr>\n",
       "    <tr>\n",
       "      <th>mean</th>\n",
       "      <td>4.500084e+09</td>\n",
       "      <td>0.499038</td>\n",
       "      <td>22.288288</td>\n",
       "      <td>2.824881</td>\n",
       "      <td>0.504808</td>\n",
       "      <td>6.183925</td>\n",
       "      <td>6.137666</td>\n",
       "      <td>6.645106</td>\n",
       "      <td>0.549954</td>\n",
       "      <td>0.361980</td>\n",
       "      <td>...</td>\n",
       "      <td>0.043021</td>\n",
       "      <td>16489.041401</td>\n",
       "      <td>6.925316</td>\n",
       "      <td>17961.730438</td>\n",
       "      <td>217.349226</td>\n",
       "      <td>51.313088</td>\n",
       "      <td>-14.414111</td>\n",
       "      <td>33.620306</td>\n",
       "      <td>21.734923</td>\n",
       "      <td>1648.904140</td>\n",
       "    </tr>\n",
       "    <tr>\n",
       "      <th>std</th>\n",
       "      <td>2.757328e+07</td>\n",
       "      <td>0.500024</td>\n",
       "      <td>18.019177</td>\n",
       "      <td>2.174998</td>\n",
       "      <td>0.500002</td>\n",
       "      <td>3.011028</td>\n",
       "      <td>2.933818</td>\n",
       "      <td>4.064520</td>\n",
       "      <td>0.625527</td>\n",
       "      <td>0.480597</td>\n",
       "      <td>...</td>\n",
       "      <td>0.216900</td>\n",
       "      <td>1490.888406</td>\n",
       "      <td>0.305311</td>\n",
       "      <td>1198.583912</td>\n",
       "      <td>21.911668</td>\n",
       "      <td>10.027885</td>\n",
       "      <td>2453.349179</td>\n",
       "      <td>1920.370438</td>\n",
       "      <td>2.191167</td>\n",
       "      <td>149.088841</td>\n",
       "    </tr>\n",
       "    <tr>\n",
       "      <th>min</th>\n",
       "      <td>4.295358e+09</td>\n",
       "      <td>0.000000</td>\n",
       "      <td>5.000000</td>\n",
       "      <td>0.000000</td>\n",
       "      <td>0.000000</td>\n",
       "      <td>0.000000</td>\n",
       "      <td>0.000000</td>\n",
       "      <td>0.000000</td>\n",
       "      <td>0.000000</td>\n",
       "      <td>0.000000</td>\n",
       "      <td>...</td>\n",
       "      <td>0.000000</td>\n",
       "      <td>11212.000000</td>\n",
       "      <td>4.800000</td>\n",
       "      <td>10465.000000</td>\n",
       "      <td>107.000000</td>\n",
       "      <td>4.000000</td>\n",
       "      <td>-11467.000000</td>\n",
       "      <td>-8348.000000</td>\n",
       "      <td>10.700000</td>\n",
       "      <td>1121.200000</td>\n",
       "    </tr>\n",
       "    <tr>\n",
       "      <th>25%</th>\n",
       "      <td>4.483301e+09</td>\n",
       "      <td>0.000000</td>\n",
       "      <td>14.000000</td>\n",
       "      <td>1.000000</td>\n",
       "      <td>0.000000</td>\n",
       "      <td>4.000000</td>\n",
       "      <td>4.000000</td>\n",
       "      <td>4.000000</td>\n",
       "      <td>0.000000</td>\n",
       "      <td>0.000000</td>\n",
       "      <td>...</td>\n",
       "      <td>0.000000</td>\n",
       "      <td>15427.500000</td>\n",
       "      <td>6.800000</td>\n",
       "      <td>17209.500000</td>\n",
       "      <td>203.000000</td>\n",
       "      <td>44.000000</td>\n",
       "      <td>-1596.000000</td>\n",
       "      <td>-1212.000000</td>\n",
       "      <td>20.300000</td>\n",
       "      <td>1542.750000</td>\n",
       "    </tr>\n",
       "    <tr>\n",
       "      <th>50%</th>\n",
       "      <td>4.510920e+09</td>\n",
       "      <td>0.000000</td>\n",
       "      <td>16.000000</td>\n",
       "      <td>3.000000</td>\n",
       "      <td>1.000000</td>\n",
       "      <td>6.000000</td>\n",
       "      <td>6.000000</td>\n",
       "      <td>6.000000</td>\n",
       "      <td>0.000000</td>\n",
       "      <td>0.000000</td>\n",
       "      <td>...</td>\n",
       "      <td>0.000000</td>\n",
       "      <td>16378.000000</td>\n",
       "      <td>7.000000</td>\n",
       "      <td>17974.000000</td>\n",
       "      <td>218.000000</td>\n",
       "      <td>51.000000</td>\n",
       "      <td>-14.000000</td>\n",
       "      <td>28.000000</td>\n",
       "      <td>21.800000</td>\n",
       "      <td>1637.800000</td>\n",
       "    </tr>\n",
       "    <tr>\n",
       "      <th>75%</th>\n",
       "      <td>4.521733e+09</td>\n",
       "      <td>1.000000</td>\n",
       "      <td>20.000000</td>\n",
       "      <td>4.000000</td>\n",
       "      <td>1.000000</td>\n",
       "      <td>8.000000</td>\n",
       "      <td>8.000000</td>\n",
       "      <td>9.000000</td>\n",
       "      <td>1.000000</td>\n",
       "      <td>1.000000</td>\n",
       "      <td>...</td>\n",
       "      <td>0.000000</td>\n",
       "      <td>17418.500000</td>\n",
       "      <td>7.200000</td>\n",
       "      <td>18764.500000</td>\n",
       "      <td>233.000000</td>\n",
       "      <td>57.000000</td>\n",
       "      <td>1585.500000</td>\n",
       "      <td>1290.500000</td>\n",
       "      <td>23.300000</td>\n",
       "      <td>1741.850000</td>\n",
       "    </tr>\n",
       "    <tr>\n",
       "      <th>max</th>\n",
       "      <td>4.527991e+09</td>\n",
       "      <td>1.000000</td>\n",
       "      <td>250.000000</td>\n",
       "      <td>27.000000</td>\n",
       "      <td>1.000000</td>\n",
       "      <td>22.000000</td>\n",
       "      <td>22.000000</td>\n",
       "      <td>29.000000</td>\n",
       "      <td>2.000000</td>\n",
       "      <td>1.000000</td>\n",
       "      <td>...</td>\n",
       "      <td>2.000000</td>\n",
       "      <td>22732.000000</td>\n",
       "      <td>8.200000</td>\n",
       "      <td>22269.000000</td>\n",
       "      <td>289.000000</td>\n",
       "      <td>92.000000</td>\n",
       "      <td>10830.000000</td>\n",
       "      <td>9333.000000</td>\n",
       "      <td>28.900000</td>\n",
       "      <td>2273.200000</td>\n",
       "    </tr>\n",
       "  </tbody>\n",
       "</table>\n",
       "<p>8 rows × 40 columns</p>\n",
       "</div>"
      ],
      "text/plain": [
       "             gameId     blueWins  blueWardsPlaced  blueWardsDestroyed  \\\n",
       "count  9.879000e+03  9879.000000      9879.000000         9879.000000   \n",
       "mean   4.500084e+09     0.499038        22.288288            2.824881   \n",
       "std    2.757328e+07     0.500024        18.019177            2.174998   \n",
       "min    4.295358e+09     0.000000         5.000000            0.000000   \n",
       "25%    4.483301e+09     0.000000        14.000000            1.000000   \n",
       "50%    4.510920e+09     0.000000        16.000000            3.000000   \n",
       "75%    4.521733e+09     1.000000        20.000000            4.000000   \n",
       "max    4.527991e+09     1.000000       250.000000           27.000000   \n",
       "\n",
       "       blueFirstBlood    blueKills   blueDeaths  blueAssists  \\\n",
       "count     9879.000000  9879.000000  9879.000000  9879.000000   \n",
       "mean         0.504808     6.183925     6.137666     6.645106   \n",
       "std          0.500002     3.011028     2.933818     4.064520   \n",
       "min          0.000000     0.000000     0.000000     0.000000   \n",
       "25%          0.000000     4.000000     4.000000     4.000000   \n",
       "50%          1.000000     6.000000     6.000000     6.000000   \n",
       "75%          1.000000     8.000000     8.000000     9.000000   \n",
       "max          1.000000    22.000000    22.000000    29.000000   \n",
       "\n",
       "       blueEliteMonsters  blueDragons  ...  redTowersDestroyed  redTotalGold  \\\n",
       "count        9879.000000  9879.000000  ...         9879.000000   9879.000000   \n",
       "mean            0.549954     0.361980  ...            0.043021  16489.041401   \n",
       "std             0.625527     0.480597  ...            0.216900   1490.888406   \n",
       "min             0.000000     0.000000  ...            0.000000  11212.000000   \n",
       "25%             0.000000     0.000000  ...            0.000000  15427.500000   \n",
       "50%             0.000000     0.000000  ...            0.000000  16378.000000   \n",
       "75%             1.000000     1.000000  ...            0.000000  17418.500000   \n",
       "max             2.000000     1.000000  ...            2.000000  22732.000000   \n",
       "\n",
       "       redAvgLevel  redTotalExperience  redTotalMinionsKilled  \\\n",
       "count  9879.000000         9879.000000            9879.000000   \n",
       "mean      6.925316        17961.730438             217.349226   \n",
       "std       0.305311         1198.583912              21.911668   \n",
       "min       4.800000        10465.000000             107.000000   \n",
       "25%       6.800000        17209.500000             203.000000   \n",
       "50%       7.000000        17974.000000             218.000000   \n",
       "75%       7.200000        18764.500000             233.000000   \n",
       "max       8.200000        22269.000000             289.000000   \n",
       "\n",
       "       redTotalJungleMinionsKilled   redGoldDiff  redExperienceDiff  \\\n",
       "count                  9879.000000   9879.000000        9879.000000   \n",
       "mean                     51.313088    -14.414111          33.620306   \n",
       "std                      10.027885   2453.349179        1920.370438   \n",
       "min                       4.000000 -11467.000000       -8348.000000   \n",
       "25%                      44.000000  -1596.000000       -1212.000000   \n",
       "50%                      51.000000    -14.000000          28.000000   \n",
       "75%                      57.000000   1585.500000        1290.500000   \n",
       "max                      92.000000  10830.000000        9333.000000   \n",
       "\n",
       "       redCSPerMin  redGoldPerMin  \n",
       "count  9879.000000    9879.000000  \n",
       "mean     21.734923    1648.904140  \n",
       "std       2.191167     149.088841  \n",
       "min      10.700000    1121.200000  \n",
       "25%      20.300000    1542.750000  \n",
       "50%      21.800000    1637.800000  \n",
       "75%      23.300000    1741.850000  \n",
       "max      28.900000    2273.200000  \n",
       "\n",
       "[8 rows x 40 columns]"
      ]
     },
     "execution_count": 6,
     "metadata": {},
     "output_type": "execute_result"
    }
   ],
   "source": [
    "df.describe()"
   ]
  },
  {
   "cell_type": "markdown",
   "metadata": {},
   "source": [
    "# SCRUB"
   ]
  },
  {
   "cell_type": "markdown",
   "metadata": {},
   "source": [
    "## Data Preparation\n",
    "\n",
    "Describe and justify the process for preparing the data for analysis.\n",
    "\n",
    "***\n",
    "Questions to consider:\n",
    "* Were there variables you dropped or created?\n",
    "* How did you address missing values or outliers?\n",
    "* Why are these choices appropriate given the data and the business problem?\n",
    "***"
   ]
  },
  {
   "cell_type": "markdown",
   "metadata": {},
   "source": [
    "After initial data understanding, we are confident that the data we're using is sound.  No NA or missing values were discovered.\n",
    "\n",
    "Let's take a look at the columns:"
   ]
  },
  {
   "cell_type": "code",
   "execution_count": 7,
   "metadata": {
    "ExecuteTime": {
     "end_time": "2021-05-26T18:36:02.322079Z",
     "start_time": "2021-05-26T18:36:02.308084Z"
    }
   },
   "outputs": [
    {
     "data": {
      "text/plain": [
       "Index(['gameId', 'blueWins', 'blueWardsPlaced', 'blueWardsDestroyed',\n",
       "       'blueFirstBlood', 'blueKills', 'blueDeaths', 'blueAssists',\n",
       "       'blueEliteMonsters', 'blueDragons', 'blueHeralds',\n",
       "       'blueTowersDestroyed', 'blueTotalGold', 'blueAvgLevel',\n",
       "       'blueTotalExperience', 'blueTotalMinionsKilled',\n",
       "       'blueTotalJungleMinionsKilled', 'blueGoldDiff', 'blueExperienceDiff',\n",
       "       'blueCSPerMin', 'blueGoldPerMin', 'redWardsPlaced', 'redWardsDestroyed',\n",
       "       'redFirstBlood', 'redKills', 'redDeaths', 'redAssists',\n",
       "       'redEliteMonsters', 'redDragons', 'redHeralds', 'redTowersDestroyed',\n",
       "       'redTotalGold', 'redAvgLevel', 'redTotalExperience',\n",
       "       'redTotalMinionsKilled', 'redTotalJungleMinionsKilled', 'redGoldDiff',\n",
       "       'redExperienceDiff', 'redCSPerMin', 'redGoldPerMin'],\n",
       "      dtype='object')"
      ]
     },
     "execution_count": 7,
     "metadata": {},
     "output_type": "execute_result"
    }
   ],
   "source": [
    "df.columns"
   ]
  },
  {
   "cell_type": "markdown",
   "metadata": {},
   "source": [
    "There are a few columns that can be removed entirely and a few that can be combined into categorical variables."
   ]
  },
  {
   "cell_type": "markdown",
   "metadata": {
    "ExecuteTime": {
     "end_time": "2021-05-18T20:25:07.767383Z",
     "start_time": "2021-05-18T20:25:07.757387Z"
    }
   },
   "source": [
    "### First Blood\n",
    "\n",
    "'First Blood' is awarded to the team who gets the first kill in the game.  Both blueFirstBlood and redFirstBlood are binary and inversely related.  If Blue wins First Blood, blueFirstBlood will be recorded as 1 and redFirstBlood will be recorded as 0.  \n",
    "\n",
    "We can merge these columns into one."
   ]
  },
  {
   "cell_type": "code",
   "execution_count": 8,
   "metadata": {
    "ExecuteTime": {
     "end_time": "2021-05-26T18:36:02.338082Z",
     "start_time": "2021-05-26T18:36:02.326078Z"
    }
   },
   "outputs": [
    {
     "data": {
      "text/plain": [
       "0       1\n",
       "1       0\n",
       "2       0\n",
       "3       0\n",
       "4       0\n",
       "       ..\n",
       "9874    1\n",
       "9875    0\n",
       "9876    0\n",
       "9877    1\n",
       "9878    1\n",
       "Name: blueFirstBlood, Length: 9879, dtype: int64"
      ]
     },
     "execution_count": 8,
     "metadata": {},
     "output_type": "execute_result"
    }
   ],
   "source": [
    "df['blueFirstBlood']"
   ]
  },
  {
   "cell_type": "code",
   "execution_count": 9,
   "metadata": {
    "ExecuteTime": {
     "end_time": "2021-05-26T18:36:02.370063Z",
     "start_time": "2021-05-26T18:36:02.342076Z"
    }
   },
   "outputs": [
    {
     "data": {
      "text/plain": [
       "0       Blue\n",
       "1        Red\n",
       "2        Red\n",
       "3        Red\n",
       "4        Red\n",
       "        ... \n",
       "9874    Blue\n",
       "9875     Red\n",
       "9876     Red\n",
       "9877    Blue\n",
       "9878    Blue\n",
       "Name: firstBlood, Length: 9879, dtype: object"
      ]
     },
     "execution_count": 9,
     "metadata": {},
     "output_type": "execute_result"
    }
   ],
   "source": [
    "firstBlood = []\n",
    "\n",
    "for item in df['blueFirstBlood']:\n",
    "    if item == 1:\n",
    "        firstBlood.append('Blue')\n",
    "    else:\n",
    "        firstBlood.append('Red')\n",
    "        \n",
    "df['firstBlood'] = firstBlood\n",
    "\n",
    "df['firstBlood']"
   ]
  },
  {
   "cell_type": "markdown",
   "metadata": {},
   "source": [
    "We can discard blueFirstBlood and redFirstBlood"
   ]
  },
  {
   "cell_type": "code",
   "execution_count": 10,
   "metadata": {
    "ExecuteTime": {
     "end_time": "2021-05-26T18:36:02.386058Z",
     "start_time": "2021-05-26T18:36:02.373065Z"
    }
   },
   "outputs": [],
   "source": [
    "del df['blueFirstBlood']\n",
    "del df['redFirstBlood']"
   ]
  },
  {
   "cell_type": "markdown",
   "metadata": {},
   "source": [
    "### Kills & Deaths\n",
    "\n",
    "blueKills is inversely related with redDeaths, and redKills is inversely related with blueDeaths since the Blue team can only kill Red players and vice versa.  blueDeaths and redDeaths can both be removed, leaving kills intact will preserve this information."
   ]
  },
  {
   "cell_type": "code",
   "execution_count": 11,
   "metadata": {
    "ExecuteTime": {
     "end_time": "2021-05-26T18:36:02.402055Z",
     "start_time": "2021-05-26T18:36:02.388059Z"
    }
   },
   "outputs": [],
   "source": [
    "del df['blueDeaths']\n",
    "del df['redDeaths']"
   ]
  },
  {
   "cell_type": "markdown",
   "metadata": {},
   "source": [
    "### Dragon & Herald\n",
    "\n",
    "While this wouldn't hold true for LoL data spanning the entire length of each game, we know that there is only one opportunity to kill both the Dragon and the Harold in the first 10 minutes of each match.  Unlike firstBlood where the action always occurs in the first 10 minutes (at least for the matches in our dataset), each dragon or herald can be killed only once or not at all.\n",
    "\n",
    "Therefore, dragon and herald can be categorized as 'Blue,' 'Red,' or 'None.'"
   ]
  },
  {
   "cell_type": "code",
   "execution_count": 12,
   "metadata": {
    "ExecuteTime": {
     "end_time": "2021-05-26T18:36:02.434044Z",
     "start_time": "2021-05-26T18:36:02.404055Z"
    }
   },
   "outputs": [],
   "source": [
    "dragon_list = []\n",
    "\n",
    "dragon_kill = df['blueDragons'] - df['redDragons']\n",
    "\n",
    "for item in dragon_kill:\n",
    "    if item == 1:\n",
    "        dragon_list.append('Blue')\n",
    "    elif item == -1:\n",
    "        dragon_list.append('Red')\n",
    "    else:\n",
    "        dragon_list.append('No Dragon')\n",
    "        \n",
    "df['dragon'] = dragon_list"
   ]
  },
  {
   "cell_type": "markdown",
   "metadata": {},
   "source": [
    "blueDragons and redDragons can be removed:"
   ]
  },
  {
   "cell_type": "code",
   "execution_count": 13,
   "metadata": {
    "ExecuteTime": {
     "end_time": "2021-05-26T18:36:02.449039Z",
     "start_time": "2021-05-26T18:36:02.437043Z"
    }
   },
   "outputs": [],
   "source": [
    "del df['blueDragons']\n",
    "del df['redDragons']"
   ]
  },
  {
   "cell_type": "markdown",
   "metadata": {},
   "source": [
    "We can reuse this code for the herald feature:"
   ]
  },
  {
   "cell_type": "code",
   "execution_count": 14,
   "metadata": {
    "ExecuteTime": {
     "end_time": "2021-05-26T18:36:02.481028Z",
     "start_time": "2021-05-26T18:36:02.452038Z"
    }
   },
   "outputs": [],
   "source": [
    "herald_list = []\n",
    "\n",
    "herald_kill = df['blueHeralds'] - df['redHeralds']\n",
    "\n",
    "for item in herald_kill:\n",
    "    if item == 1:\n",
    "        herald_list.append('Blue')\n",
    "    elif item == -1:\n",
    "        herald_list.append('Red')\n",
    "    else:\n",
    "        herald_list.append('No Herald')\n",
    "        \n",
    "df['herald'] = herald_list"
   ]
  },
  {
   "cell_type": "code",
   "execution_count": 15,
   "metadata": {
    "ExecuteTime": {
     "end_time": "2021-05-26T18:36:02.497023Z",
     "start_time": "2021-05-26T18:36:02.483029Z"
    }
   },
   "outputs": [],
   "source": [
    "del df['blueHeralds']\n",
    "del df['redHeralds']"
   ]
  },
  {
   "cell_type": "markdown",
   "metadata": {},
   "source": [
    "### Elite Monsters"
   ]
  },
  {
   "cell_type": "code",
   "execution_count": 16,
   "metadata": {
    "ExecuteTime": {
     "end_time": "2021-05-26T18:36:02.513017Z",
     "start_time": "2021-05-26T18:36:02.499023Z"
    }
   },
   "outputs": [],
   "source": [
    "del df['blueEliteMonsters']\n",
    "del df['redEliteMonsters']"
   ]
  },
  {
   "cell_type": "markdown",
   "metadata": {},
   "source": [
    "### GoldDiff, ExperienceDiff, CSPerMin, and GoldPerMin\n",
    "\n",
    "Both blue and red teams have these four metrics.  While they are useful metrics for other types of analyses, they are essentially duplicative, since they are all calculated in a similar fashion from features already included in our data.  \n",
    "\n",
    "- GoldDiff represents the difference between blueTotalGold and redTotalGold\n",
    "- ExperienceDiff represents the difference between blueTotalExperience and redTotalExperience\n",
    "- blue and red CSPerMin represents the minute rate of blue and red TotalMinionsKilled.  For our 10 minute data, CSPerMin for each team will always be TotalMinionsKilled divided by 10\n",
    "- similarly, blue and red GoldPerMin represents blue and red TotalGold divided by 10\n",
    "\n",
    "These four features from both teams (totaling 8 features) can be removed without losing any information.\n"
   ]
  },
  {
   "cell_type": "code",
   "execution_count": 17,
   "metadata": {
    "ExecuteTime": {
     "end_time": "2021-05-26T18:36:02.545007Z",
     "start_time": "2021-05-26T18:36:02.515018Z"
    }
   },
   "outputs": [],
   "source": [
    "del df['blueGoldDiff']\n",
    "del df['blueExperienceDiff']\n",
    "del df['blueCSPerMin']\n",
    "del df['blueGoldPerMin']\n",
    "del df['redGoldDiff']\n",
    "del df['redExperienceDiff']\n",
    "del df['redCSPerMin']\n",
    "del df['redGoldPerMin']"
   ]
  },
  {
   "cell_type": "markdown",
   "metadata": {},
   "source": [
    "### gameId\n",
    "\n",
    "gameId represents a unique identifier for every LoL game, no two gameId's will ever be the same, so this column can be removed."
   ]
  },
  {
   "cell_type": "code",
   "execution_count": 18,
   "metadata": {
    "ExecuteTime": {
     "end_time": "2021-05-26T18:36:02.561004Z",
     "start_time": "2021-05-26T18:36:02.548007Z"
    }
   },
   "outputs": [],
   "source": [
    "del df['gameId']"
   ]
  },
  {
   "cell_type": "markdown",
   "metadata": {},
   "source": [
    "### Reviewing cleaned data"
   ]
  },
  {
   "cell_type": "code",
   "execution_count": 19,
   "metadata": {
    "ExecuteTime": {
     "end_time": "2021-05-26T18:36:02.575998Z",
     "start_time": "2021-05-26T18:36:02.566011Z"
    }
   },
   "outputs": [
    {
     "name": "stdout",
     "output_type": "stream",
     "text": [
      "Index(['blueWins', 'blueWardsPlaced', 'blueWardsDestroyed', 'blueKills',\n",
      "       'blueAssists', 'blueTowersDestroyed', 'blueTotalGold', 'blueAvgLevel',\n",
      "       'blueTotalExperience', 'blueTotalMinionsKilled',\n",
      "       'blueTotalJungleMinionsKilled', 'redWardsPlaced', 'redWardsDestroyed',\n",
      "       'redKills', 'redAssists', 'redTowersDestroyed', 'redTotalGold',\n",
      "       'redAvgLevel', 'redTotalExperience', 'redTotalMinionsKilled',\n",
      "       'redTotalJungleMinionsKilled', 'firstBlood', 'dragon', 'herald'],\n",
      "      dtype='object')\n",
      "(9879, 24)\n"
     ]
    }
   ],
   "source": [
    "print(df.columns)\n",
    "\n",
    "print(df.shape)"
   ]
  },
  {
   "cell_type": "markdown",
   "metadata": {},
   "source": [
    "We were able to remove 14 columns through this process without losing any information."
   ]
  },
  {
   "cell_type": "markdown",
   "metadata": {},
   "source": [
    "### Alternative Dataset - Differences"
   ]
  },
  {
   "cell_type": "code",
   "execution_count": 20,
   "metadata": {
    "ExecuteTime": {
     "end_time": "2021-05-26T18:36:02.638978Z",
     "start_time": "2021-05-26T18:36:02.578999Z"
    }
   },
   "outputs": [
    {
     "data": {
      "text/html": [
       "<div>\n",
       "<style scoped>\n",
       "    .dataframe tbody tr th:only-of-type {\n",
       "        vertical-align: middle;\n",
       "    }\n",
       "\n",
       "    .dataframe tbody tr th {\n",
       "        vertical-align: top;\n",
       "    }\n",
       "\n",
       "    .dataframe thead th {\n",
       "        text-align: right;\n",
       "    }\n",
       "</style>\n",
       "<table border=\"1\" class=\"dataframe\">\n",
       "  <thead>\n",
       "    <tr style=\"text-align: right;\">\n",
       "      <th></th>\n",
       "      <th>blueWins</th>\n",
       "      <th>blueWardsPlaced</th>\n",
       "      <th>blueWardsDestroyed</th>\n",
       "      <th>blueKills</th>\n",
       "      <th>blueAssists</th>\n",
       "      <th>blueTowersDestroyed</th>\n",
       "      <th>blueTotalGold</th>\n",
       "      <th>blueAvgLevel</th>\n",
       "      <th>blueTotalExperience</th>\n",
       "      <th>blueTotalMinionsKilled</th>\n",
       "      <th>...</th>\n",
       "      <th>redAssists</th>\n",
       "      <th>redTowersDestroyed</th>\n",
       "      <th>redTotalGold</th>\n",
       "      <th>redAvgLevel</th>\n",
       "      <th>redTotalExperience</th>\n",
       "      <th>redTotalMinionsKilled</th>\n",
       "      <th>redTotalJungleMinionsKilled</th>\n",
       "      <th>firstBlood</th>\n",
       "      <th>dragon</th>\n",
       "      <th>herald</th>\n",
       "    </tr>\n",
       "  </thead>\n",
       "  <tbody>\n",
       "    <tr>\n",
       "      <th>0</th>\n",
       "      <td>0</td>\n",
       "      <td>28</td>\n",
       "      <td>2</td>\n",
       "      <td>9</td>\n",
       "      <td>11</td>\n",
       "      <td>0</td>\n",
       "      <td>17210</td>\n",
       "      <td>6.6</td>\n",
       "      <td>17039</td>\n",
       "      <td>195</td>\n",
       "      <td>...</td>\n",
       "      <td>8</td>\n",
       "      <td>0</td>\n",
       "      <td>16567</td>\n",
       "      <td>6.8</td>\n",
       "      <td>17047</td>\n",
       "      <td>197</td>\n",
       "      <td>55</td>\n",
       "      <td>Blue</td>\n",
       "      <td>No Dragon</td>\n",
       "      <td>No Herald</td>\n",
       "    </tr>\n",
       "    <tr>\n",
       "      <th>1</th>\n",
       "      <td>0</td>\n",
       "      <td>12</td>\n",
       "      <td>1</td>\n",
       "      <td>5</td>\n",
       "      <td>5</td>\n",
       "      <td>0</td>\n",
       "      <td>14712</td>\n",
       "      <td>6.6</td>\n",
       "      <td>16265</td>\n",
       "      <td>174</td>\n",
       "      <td>...</td>\n",
       "      <td>2</td>\n",
       "      <td>1</td>\n",
       "      <td>17620</td>\n",
       "      <td>6.8</td>\n",
       "      <td>17438</td>\n",
       "      <td>240</td>\n",
       "      <td>52</td>\n",
       "      <td>Red</td>\n",
       "      <td>Red</td>\n",
       "      <td>Red</td>\n",
       "    </tr>\n",
       "    <tr>\n",
       "      <th>2</th>\n",
       "      <td>0</td>\n",
       "      <td>15</td>\n",
       "      <td>0</td>\n",
       "      <td>7</td>\n",
       "      <td>4</td>\n",
       "      <td>0</td>\n",
       "      <td>16113</td>\n",
       "      <td>6.4</td>\n",
       "      <td>16221</td>\n",
       "      <td>186</td>\n",
       "      <td>...</td>\n",
       "      <td>14</td>\n",
       "      <td>0</td>\n",
       "      <td>17285</td>\n",
       "      <td>6.8</td>\n",
       "      <td>17254</td>\n",
       "      <td>203</td>\n",
       "      <td>28</td>\n",
       "      <td>Red</td>\n",
       "      <td>Blue</td>\n",
       "      <td>No Herald</td>\n",
       "    </tr>\n",
       "    <tr>\n",
       "      <th>3</th>\n",
       "      <td>0</td>\n",
       "      <td>43</td>\n",
       "      <td>1</td>\n",
       "      <td>4</td>\n",
       "      <td>5</td>\n",
       "      <td>0</td>\n",
       "      <td>15157</td>\n",
       "      <td>7.0</td>\n",
       "      <td>17954</td>\n",
       "      <td>201</td>\n",
       "      <td>...</td>\n",
       "      <td>10</td>\n",
       "      <td>0</td>\n",
       "      <td>16478</td>\n",
       "      <td>7.0</td>\n",
       "      <td>17961</td>\n",
       "      <td>235</td>\n",
       "      <td>47</td>\n",
       "      <td>Red</td>\n",
       "      <td>No Dragon</td>\n",
       "      <td>Blue</td>\n",
       "    </tr>\n",
       "    <tr>\n",
       "      <th>4</th>\n",
       "      <td>0</td>\n",
       "      <td>75</td>\n",
       "      <td>4</td>\n",
       "      <td>6</td>\n",
       "      <td>6</td>\n",
       "      <td>0</td>\n",
       "      <td>16400</td>\n",
       "      <td>7.0</td>\n",
       "      <td>18543</td>\n",
       "      <td>210</td>\n",
       "      <td>...</td>\n",
       "      <td>7</td>\n",
       "      <td>0</td>\n",
       "      <td>17404</td>\n",
       "      <td>7.0</td>\n",
       "      <td>18313</td>\n",
       "      <td>225</td>\n",
       "      <td>67</td>\n",
       "      <td>Red</td>\n",
       "      <td>Red</td>\n",
       "      <td>No Herald</td>\n",
       "    </tr>\n",
       "    <tr>\n",
       "      <th>...</th>\n",
       "      <td>...</td>\n",
       "      <td>...</td>\n",
       "      <td>...</td>\n",
       "      <td>...</td>\n",
       "      <td>...</td>\n",
       "      <td>...</td>\n",
       "      <td>...</td>\n",
       "      <td>...</td>\n",
       "      <td>...</td>\n",
       "      <td>...</td>\n",
       "      <td>...</td>\n",
       "      <td>...</td>\n",
       "      <td>...</td>\n",
       "      <td>...</td>\n",
       "      <td>...</td>\n",
       "      <td>...</td>\n",
       "      <td>...</td>\n",
       "      <td>...</td>\n",
       "      <td>...</td>\n",
       "      <td>...</td>\n",
       "      <td>...</td>\n",
       "    </tr>\n",
       "    <tr>\n",
       "      <th>9874</th>\n",
       "      <td>1</td>\n",
       "      <td>17</td>\n",
       "      <td>2</td>\n",
       "      <td>7</td>\n",
       "      <td>5</td>\n",
       "      <td>0</td>\n",
       "      <td>17765</td>\n",
       "      <td>7.2</td>\n",
       "      <td>18967</td>\n",
       "      <td>211</td>\n",
       "      <td>...</td>\n",
       "      <td>7</td>\n",
       "      <td>0</td>\n",
       "      <td>15246</td>\n",
       "      <td>6.8</td>\n",
       "      <td>16498</td>\n",
       "      <td>229</td>\n",
       "      <td>34</td>\n",
       "      <td>Blue</td>\n",
       "      <td>Blue</td>\n",
       "      <td>No Herald</td>\n",
       "    </tr>\n",
       "    <tr>\n",
       "      <th>9875</th>\n",
       "      <td>1</td>\n",
       "      <td>54</td>\n",
       "      <td>0</td>\n",
       "      <td>6</td>\n",
       "      <td>8</td>\n",
       "      <td>0</td>\n",
       "      <td>16238</td>\n",
       "      <td>7.2</td>\n",
       "      <td>19255</td>\n",
       "      <td>233</td>\n",
       "      <td>...</td>\n",
       "      <td>3</td>\n",
       "      <td>0</td>\n",
       "      <td>15456</td>\n",
       "      <td>7.0</td>\n",
       "      <td>18367</td>\n",
       "      <td>206</td>\n",
       "      <td>56</td>\n",
       "      <td>Red</td>\n",
       "      <td>Blue</td>\n",
       "      <td>No Herald</td>\n",
       "    </tr>\n",
       "    <tr>\n",
       "      <th>9876</th>\n",
       "      <td>0</td>\n",
       "      <td>23</td>\n",
       "      <td>1</td>\n",
       "      <td>6</td>\n",
       "      <td>5</td>\n",
       "      <td>0</td>\n",
       "      <td>15903</td>\n",
       "      <td>7.0</td>\n",
       "      <td>18032</td>\n",
       "      <td>210</td>\n",
       "      <td>...</td>\n",
       "      <td>11</td>\n",
       "      <td>0</td>\n",
       "      <td>18319</td>\n",
       "      <td>7.4</td>\n",
       "      <td>19909</td>\n",
       "      <td>261</td>\n",
       "      <td>60</td>\n",
       "      <td>Red</td>\n",
       "      <td>Red</td>\n",
       "      <td>No Herald</td>\n",
       "    </tr>\n",
       "    <tr>\n",
       "      <th>9877</th>\n",
       "      <td>0</td>\n",
       "      <td>14</td>\n",
       "      <td>4</td>\n",
       "      <td>2</td>\n",
       "      <td>3</td>\n",
       "      <td>0</td>\n",
       "      <td>14459</td>\n",
       "      <td>6.6</td>\n",
       "      <td>17229</td>\n",
       "      <td>224</td>\n",
       "      <td>...</td>\n",
       "      <td>1</td>\n",
       "      <td>0</td>\n",
       "      <td>15298</td>\n",
       "      <td>7.2</td>\n",
       "      <td>18314</td>\n",
       "      <td>247</td>\n",
       "      <td>40</td>\n",
       "      <td>Blue</td>\n",
       "      <td>Blue</td>\n",
       "      <td>No Herald</td>\n",
       "    </tr>\n",
       "    <tr>\n",
       "      <th>9878</th>\n",
       "      <td>1</td>\n",
       "      <td>18</td>\n",
       "      <td>0</td>\n",
       "      <td>6</td>\n",
       "      <td>5</td>\n",
       "      <td>0</td>\n",
       "      <td>16266</td>\n",
       "      <td>7.0</td>\n",
       "      <td>17321</td>\n",
       "      <td>207</td>\n",
       "      <td>...</td>\n",
       "      <td>4</td>\n",
       "      <td>0</td>\n",
       "      <td>15339</td>\n",
       "      <td>6.8</td>\n",
       "      <td>17379</td>\n",
       "      <td>201</td>\n",
       "      <td>46</td>\n",
       "      <td>Blue</td>\n",
       "      <td>Red</td>\n",
       "      <td>No Herald</td>\n",
       "    </tr>\n",
       "  </tbody>\n",
       "</table>\n",
       "<p>9879 rows × 24 columns</p>\n",
       "</div>"
      ],
      "text/plain": [
       "      blueWins  blueWardsPlaced  blueWardsDestroyed  blueKills  blueAssists  \\\n",
       "0            0               28                   2          9           11   \n",
       "1            0               12                   1          5            5   \n",
       "2            0               15                   0          7            4   \n",
       "3            0               43                   1          4            5   \n",
       "4            0               75                   4          6            6   \n",
       "...        ...              ...                 ...        ...          ...   \n",
       "9874         1               17                   2          7            5   \n",
       "9875         1               54                   0          6            8   \n",
       "9876         0               23                   1          6            5   \n",
       "9877         0               14                   4          2            3   \n",
       "9878         1               18                   0          6            5   \n",
       "\n",
       "      blueTowersDestroyed  blueTotalGold  blueAvgLevel  blueTotalExperience  \\\n",
       "0                       0          17210           6.6                17039   \n",
       "1                       0          14712           6.6                16265   \n",
       "2                       0          16113           6.4                16221   \n",
       "3                       0          15157           7.0                17954   \n",
       "4                       0          16400           7.0                18543   \n",
       "...                   ...            ...           ...                  ...   \n",
       "9874                    0          17765           7.2                18967   \n",
       "9875                    0          16238           7.2                19255   \n",
       "9876                    0          15903           7.0                18032   \n",
       "9877                    0          14459           6.6                17229   \n",
       "9878                    0          16266           7.0                17321   \n",
       "\n",
       "      blueTotalMinionsKilled  ...  redAssists  redTowersDestroyed  \\\n",
       "0                        195  ...           8                   0   \n",
       "1                        174  ...           2                   1   \n",
       "2                        186  ...          14                   0   \n",
       "3                        201  ...          10                   0   \n",
       "4                        210  ...           7                   0   \n",
       "...                      ...  ...         ...                 ...   \n",
       "9874                     211  ...           7                   0   \n",
       "9875                     233  ...           3                   0   \n",
       "9876                     210  ...          11                   0   \n",
       "9877                     224  ...           1                   0   \n",
       "9878                     207  ...           4                   0   \n",
       "\n",
       "      redTotalGold  redAvgLevel  redTotalExperience  redTotalMinionsKilled  \\\n",
       "0            16567          6.8               17047                    197   \n",
       "1            17620          6.8               17438                    240   \n",
       "2            17285          6.8               17254                    203   \n",
       "3            16478          7.0               17961                    235   \n",
       "4            17404          7.0               18313                    225   \n",
       "...            ...          ...                 ...                    ...   \n",
       "9874         15246          6.8               16498                    229   \n",
       "9875         15456          7.0               18367                    206   \n",
       "9876         18319          7.4               19909                    261   \n",
       "9877         15298          7.2               18314                    247   \n",
       "9878         15339          6.8               17379                    201   \n",
       "\n",
       "      redTotalJungleMinionsKilled  firstBlood     dragon     herald  \n",
       "0                              55        Blue  No Dragon  No Herald  \n",
       "1                              52         Red        Red        Red  \n",
       "2                              28         Red       Blue  No Herald  \n",
       "3                              47         Red  No Dragon       Blue  \n",
       "4                              67         Red        Red  No Herald  \n",
       "...                           ...         ...        ...        ...  \n",
       "9874                           34        Blue       Blue  No Herald  \n",
       "9875                           56         Red       Blue  No Herald  \n",
       "9876                           60         Red        Red  No Herald  \n",
       "9877                           40        Blue       Blue  No Herald  \n",
       "9878                           46        Blue        Red  No Herald  \n",
       "\n",
       "[9879 rows x 24 columns]"
      ]
     },
     "execution_count": 20,
     "metadata": {},
     "output_type": "execute_result"
    }
   ],
   "source": [
    "df"
   ]
  },
  {
   "cell_type": "code",
   "execution_count": 21,
   "metadata": {
    "ExecuteTime": {
     "end_time": "2021-05-26T18:36:02.702959Z",
     "start_time": "2021-05-26T18:36:02.641978Z"
    }
   },
   "outputs": [
    {
     "data": {
      "text/html": [
       "<div>\n",
       "<style scoped>\n",
       "    .dataframe tbody tr th:only-of-type {\n",
       "        vertical-align: middle;\n",
       "    }\n",
       "\n",
       "    .dataframe tbody tr th {\n",
       "        vertical-align: top;\n",
       "    }\n",
       "\n",
       "    .dataframe thead th {\n",
       "        text-align: right;\n",
       "    }\n",
       "</style>\n",
       "<table border=\"1\" class=\"dataframe\">\n",
       "  <thead>\n",
       "    <tr style=\"text-align: right;\">\n",
       "      <th></th>\n",
       "      <th>WardsPlaced</th>\n",
       "      <th>WardsDestroyed</th>\n",
       "      <th>Kills</th>\n",
       "      <th>Assists</th>\n",
       "      <th>TowersDestroyed</th>\n",
       "      <th>TotalGold</th>\n",
       "      <th>AvgLevel</th>\n",
       "      <th>TotalExperience</th>\n",
       "      <th>TotalMinionsKilled</th>\n",
       "      <th>TotalJungleMinionsKilled</th>\n",
       "      <th>firstBlood</th>\n",
       "      <th>dragon</th>\n",
       "      <th>herald</th>\n",
       "      <th>blueWins</th>\n",
       "    </tr>\n",
       "  </thead>\n",
       "  <tbody>\n",
       "    <tr>\n",
       "      <th>0</th>\n",
       "      <td>13</td>\n",
       "      <td>-4</td>\n",
       "      <td>3</td>\n",
       "      <td>3</td>\n",
       "      <td>0</td>\n",
       "      <td>643</td>\n",
       "      <td>-0.2</td>\n",
       "      <td>-8</td>\n",
       "      <td>-2</td>\n",
       "      <td>-19</td>\n",
       "      <td>Blue</td>\n",
       "      <td>No Dragon</td>\n",
       "      <td>No Herald</td>\n",
       "      <td>0</td>\n",
       "    </tr>\n",
       "    <tr>\n",
       "      <th>1</th>\n",
       "      <td>0</td>\n",
       "      <td>0</td>\n",
       "      <td>0</td>\n",
       "      <td>3</td>\n",
       "      <td>-1</td>\n",
       "      <td>-2908</td>\n",
       "      <td>-0.2</td>\n",
       "      <td>-1173</td>\n",
       "      <td>-66</td>\n",
       "      <td>-9</td>\n",
       "      <td>Red</td>\n",
       "      <td>Red</td>\n",
       "      <td>Red</td>\n",
       "      <td>0</td>\n",
       "    </tr>\n",
       "    <tr>\n",
       "      <th>2</th>\n",
       "      <td>0</td>\n",
       "      <td>-3</td>\n",
       "      <td>-4</td>\n",
       "      <td>-10</td>\n",
       "      <td>0</td>\n",
       "      <td>-1172</td>\n",
       "      <td>-0.4</td>\n",
       "      <td>-1033</td>\n",
       "      <td>-17</td>\n",
       "      <td>18</td>\n",
       "      <td>Red</td>\n",
       "      <td>Blue</td>\n",
       "      <td>No Herald</td>\n",
       "      <td>0</td>\n",
       "    </tr>\n",
       "    <tr>\n",
       "      <th>3</th>\n",
       "      <td>28</td>\n",
       "      <td>-1</td>\n",
       "      <td>-1</td>\n",
       "      <td>-5</td>\n",
       "      <td>0</td>\n",
       "      <td>-1321</td>\n",
       "      <td>0.0</td>\n",
       "      <td>-7</td>\n",
       "      <td>-34</td>\n",
       "      <td>8</td>\n",
       "      <td>Red</td>\n",
       "      <td>No Dragon</td>\n",
       "      <td>Blue</td>\n",
       "      <td>0</td>\n",
       "    </tr>\n",
       "    <tr>\n",
       "      <th>4</th>\n",
       "      <td>58</td>\n",
       "      <td>2</td>\n",
       "      <td>0</td>\n",
       "      <td>-1</td>\n",
       "      <td>0</td>\n",
       "      <td>-1004</td>\n",
       "      <td>0.0</td>\n",
       "      <td>230</td>\n",
       "      <td>-15</td>\n",
       "      <td>-10</td>\n",
       "      <td>Red</td>\n",
       "      <td>Red</td>\n",
       "      <td>No Herald</td>\n",
       "      <td>0</td>\n",
       "    </tr>\n",
       "  </tbody>\n",
       "</table>\n",
       "</div>"
      ],
      "text/plain": [
       "   WardsPlaced  WardsDestroyed  Kills  Assists  TowersDestroyed  TotalGold  \\\n",
       "0           13              -4      3        3                0        643   \n",
       "1            0               0      0        3               -1      -2908   \n",
       "2            0              -3     -4      -10                0      -1172   \n",
       "3           28              -1     -1       -5                0      -1321   \n",
       "4           58               2      0       -1                0      -1004   \n",
       "\n",
       "   AvgLevel  TotalExperience  TotalMinionsKilled  TotalJungleMinionsKilled  \\\n",
       "0      -0.2               -8                  -2                       -19   \n",
       "1      -0.2            -1173                 -66                        -9   \n",
       "2      -0.4            -1033                 -17                        18   \n",
       "3       0.0               -7                 -34                         8   \n",
       "4       0.0              230                 -15                       -10   \n",
       "\n",
       "  firstBlood     dragon     herald  blueWins  \n",
       "0       Blue  No Dragon  No Herald         0  \n",
       "1        Red        Red        Red         0  \n",
       "2        Red       Blue  No Herald         0  \n",
       "3        Red  No Dragon       Blue         0  \n",
       "4        Red        Red  No Herald         0  "
      ]
     },
     "execution_count": 21,
     "metadata": {},
     "output_type": "execute_result"
    }
   ],
   "source": [
    "diff_df = pd.DataFrame()\n",
    "\n",
    "diff_df['WardsPlaced'] = df['blueWardsPlaced'] - df['redWardsPlaced']\n",
    "diff_df['WardsDestroyed'] = df['blueWardsDestroyed'] - df['redWardsDestroyed']\n",
    "diff_df['Kills'] = df['blueKills'] - df['redKills']\n",
    "diff_df['Assists'] = df['blueAssists'] - df['redAssists']\n",
    "diff_df['TowersDestroyed'] = df['blueTowersDestroyed'] - df['redTowersDestroyed']\n",
    "diff_df['TotalGold'] = df['blueTotalGold'] - df['redTotalGold']\n",
    "diff_df['AvgLevel'] = df['blueAvgLevel'] - df['redAvgLevel']\n",
    "diff_df['TotalExperience'] = df['blueTotalExperience'] - df['redTotalExperience']\n",
    "diff_df['TotalMinionsKilled'] = df['blueTotalMinionsKilled'] - df['redTotalMinionsKilled']\n",
    "diff_df['TotalJungleMinionsKilled'] = df['blueTotalJungleMinionsKilled'] - df['redTotalJungleMinionsKilled']\n",
    "\n",
    "diff_df = pd.concat([diff_df, df[['firstBlood', 'dragon', 'herald', 'blueWins']]], axis=1)\n",
    "\n",
    "diff_df.head()"
   ]
  },
  {
   "cell_type": "code",
   "execution_count": 22,
   "metadata": {
    "ExecuteTime": {
     "end_time": "2021-05-26T18:36:02.718954Z",
     "start_time": "2021-05-26T18:36:02.704957Z"
    }
   },
   "outputs": [],
   "source": [
    "df = diff_df.copy()"
   ]
  },
  {
   "cell_type": "code",
   "execution_count": null,
   "metadata": {},
   "outputs": [],
   "source": []
  },
  {
   "cell_type": "code",
   "execution_count": null,
   "metadata": {},
   "outputs": [],
   "source": []
  },
  {
   "cell_type": "markdown",
   "metadata": {},
   "source": [
    "# EXPLORE"
   ]
  },
  {
   "cell_type": "code",
   "execution_count": 23,
   "metadata": {
    "ExecuteTime": {
     "end_time": "2021-05-26T18:36:02.734948Z",
     "start_time": "2021-05-26T18:36:02.724952Z"
    }
   },
   "outputs": [],
   "source": [
    "run = False\n",
    "\n",
    "if run == True:\n",
    "    g=sns.PairGrid(data=df,hue='blueWins',palette='Set1')\n",
    "    g.map_diag(plt.hist)\n",
    "    g.map_offdiag(plt.scatter)\n",
    "    g.add_legend();"
   ]
  },
  {
   "cell_type": "code",
   "execution_count": null,
   "metadata": {},
   "outputs": [],
   "source": []
  },
  {
   "cell_type": "code",
   "execution_count": null,
   "metadata": {},
   "outputs": [],
   "source": []
  },
  {
   "cell_type": "code",
   "execution_count": null,
   "metadata": {},
   "outputs": [],
   "source": []
  },
  {
   "cell_type": "code",
   "execution_count": null,
   "metadata": {},
   "outputs": [],
   "source": []
  },
  {
   "cell_type": "code",
   "execution_count": 24,
   "metadata": {
    "ExecuteTime": {
     "end_time": "2021-05-26T18:36:03.181805Z",
     "start_time": "2021-05-26T18:36:02.737947Z"
    }
   },
   "outputs": [
    {
     "data": {
      "text/plain": [
       "<AxesSubplot:xlabel='blueWins', ylabel='Count'>"
      ]
     },
     "execution_count": 24,
     "metadata": {},
     "output_type": "execute_result"
    },
    {
     "data": {
      "image/png": "[encoded data removed]",
      "text/plain": [
       "<Figure size 432x288 with 1 Axes>"
      ]
     },
     "metadata": {
      "needs_background": "light"
     },
     "output_type": "display_data"
    }
   ],
   "source": [
    "sns.histplot(x='blueWins', data=df, hue='blueWins', palette='Set1', kde=True)"
   ]
  },
  {
   "cell_type": "code",
   "execution_count": null,
   "metadata": {
    "ExecuteTime": {
     "end_time": "2021-05-24T19:15:06.575924Z",
     "start_time": "2021-05-24T19:15:05.811471Z"
    }
   },
   "outputs": [],
   "source": []
  },
  {
   "cell_type": "code",
   "execution_count": 25,
   "metadata": {
    "ExecuteTime": {
     "end_time": "2021-05-26T18:36:03.948558Z",
     "start_time": "2021-05-26T18:36:03.184803Z"
    },
    "scrolled": true
   },
   "outputs": [
    {
     "data": {
      "text/plain": [
       "<AxesSubplot:xlabel='Kills', ylabel='Count'>"
      ]
     },
     "execution_count": 25,
     "metadata": {},
     "output_type": "execute_result"
    },
    {
     "data": {
      "image/png": "[encoded data removed]",
      "text/plain": [
       "<Figure size 432x288 with 1 Axes>"
      ]
     },
     "metadata": {
      "needs_background": "light"
     },
     "output_type": "display_data"
    }
   ],
   "source": [
    "sns.histplot(x='Kills', data=df, hue='blueWins', palette='Set1', kde=True)"
   ]
  },
  {
   "cell_type": "code",
   "execution_count": 26,
   "metadata": {
    "ExecuteTime": {
     "end_time": "2021-05-26T18:36:04.779336Z",
     "start_time": "2021-05-26T18:36:03.950559Z"
    }
   },
   "outputs": [
    {
     "data": {
      "text/plain": [
       "<AxesSubplot:xlabel='Assists', ylabel='Count'>"
      ]
     },
     "execution_count": 26,
     "metadata": {},
     "output_type": "execute_result"
    },
    {
     "data": {
      "image/png": "[encoded data removed]",
      "text/plain": [
       "<Figure size 432x288 with 1 Axes>"
      ]
     },
     "metadata": {
      "needs_background": "light"
     },
     "output_type": "display_data"
    }
   ],
   "source": [
    "sns.histplot(x='Assists', data=df, hue='blueWins', palette='Set1', kde=True)"
   ]
  },
  {
   "cell_type": "code",
   "execution_count": 27,
   "metadata": {
    "ExecuteTime": {
     "end_time": "2021-05-26T18:36:05.051207Z",
     "start_time": "2021-05-26T18:36:04.782291Z"
    }
   },
   "outputs": [
    {
     "data": {
      "text/plain": [
       "<AxesSubplot:xlabel='dragon', ylabel='count'>"
      ]
     },
     "execution_count": 27,
     "metadata": {},
     "output_type": "execute_result"
    },
    {
     "data": {
      "image/png": "[encoded data removed]",
      "text/plain": [
       "<Figure size 432x288 with 1 Axes>"
      ]
     },
     "metadata": {
      "needs_background": "light"
     },
     "output_type": "display_data"
    }
   ],
   "source": [
    "sns.countplot(x='dragon', data=df, hue='blueWins', palette='Set1')\n"
   ]
  },
  {
   "cell_type": "code",
   "execution_count": 28,
   "metadata": {
    "ExecuteTime": {
     "end_time": "2021-05-26T18:36:05.336129Z",
     "start_time": "2021-05-26T18:36:05.054204Z"
    }
   },
   "outputs": [
    {
     "data": {
      "text/plain": [
       "<AxesSubplot:xlabel='herald', ylabel='count'>"
      ]
     },
     "execution_count": 28,
     "metadata": {},
     "output_type": "execute_result"
    },
    {
     "data": {
      "image/png": "[encoded data removed]",
      "text/plain": [
       "<Figure size 432x288 with 1 Axes>"
      ]
     },
     "metadata": {
      "needs_background": "light"
     },
     "output_type": "display_data"
    }
   ],
   "source": [
    "sns.countplot(x='herald', data=df, hue='blueWins', palette='Set1')\n"
   ]
  },
  {
   "cell_type": "code",
   "execution_count": 29,
   "metadata": {
    "ExecuteTime": {
     "end_time": "2021-05-26T18:36:05.592064Z",
     "start_time": "2021-05-26T18:36:05.338113Z"
    }
   },
   "outputs": [
    {
     "data": {
      "text/plain": [
       "<AxesSubplot:xlabel='firstBlood', ylabel='count'>"
      ]
     },
     "execution_count": 29,
     "metadata": {},
     "output_type": "execute_result"
    },
    {
     "data": {
      "image/png": "[encoded data removed]",
      "text/plain": [
       "<Figure size 432x288 with 1 Axes>"
      ]
     },
     "metadata": {
      "needs_background": "light"
     },
     "output_type": "display_data"
    }
   ],
   "source": [
    "sns.countplot(x='firstBlood', data=df, hue='blueWins', palette='Set1')\n"
   ]
  },
  {
   "cell_type": "code",
   "execution_count": 30,
   "metadata": {
    "ExecuteTime": {
     "end_time": "2021-05-26T18:36:06.326795Z",
     "start_time": "2021-05-26T18:36:05.595031Z"
    }
   },
   "outputs": [
    {
     "data": {
      "text/plain": [
       "<AxesSubplot:xlabel='TotalGold', ylabel='Count'>"
      ]
     },
     "execution_count": 30,
     "metadata": {},
     "output_type": "execute_result"
    },
    {
     "data": {
      "image/png": "[encoded data removed]",
      "text/plain": [
       "<Figure size 432x288 with 1 Axes>"
      ]
     },
     "metadata": {
      "needs_background": "light"
     },
     "output_type": "display_data"
    }
   ],
   "source": [
    "sns.histplot(x='TotalGold', data=df, hue='blueWins', palette='Set1', kde=True)"
   ]
  },
  {
   "cell_type": "code",
   "execution_count": null,
   "metadata": {},
   "outputs": [],
   "source": []
  },
  {
   "cell_type": "code",
   "execution_count": null,
   "metadata": {},
   "outputs": [],
   "source": []
  },
  {
   "cell_type": "code",
   "execution_count": null,
   "metadata": {},
   "outputs": [],
   "source": []
  },
  {
   "cell_type": "code",
   "execution_count": null,
   "metadata": {},
   "outputs": [],
   "source": []
  },
  {
   "cell_type": "code",
   "execution_count": null,
   "metadata": {},
   "outputs": [],
   "source": []
  },
  {
   "cell_type": "code",
   "execution_count": null,
   "metadata": {},
   "outputs": [],
   "source": []
  },
  {
   "cell_type": "code",
   "execution_count": 31,
   "metadata": {
    "ExecuteTime": {
     "end_time": "2021-05-26T18:36:07.253498Z",
     "start_time": "2021-05-26T18:36:06.329796Z"
    }
   },
   "outputs": [
    {
     "data": {
      "text/plain": [
       "(<Figure size 1080x720 with 2 Axes>, <AxesSubplot:>)"
      ]
     },
     "execution_count": 31,
     "metadata": {},
     "output_type": "execute_result"
    },
    {
     "data": {
      "image/png": "[encoded data removed]",
      "text/plain": [
       "<Figure size 1080x720 with 2 Axes>"
      ]
     },
     "metadata": {
      "needs_background": "light"
     },
     "output_type": "display_data"
    }
   ],
   "source": [
    "def heatmap(df_name, figsize=(15,10), cmap='Reds'):\n",
    "    corr = df_name.drop('blueWins',axis=1).corr()\n",
    "    mask = np.zeros_like(corr)\n",
    "    mask[np.triu_indices_from(mask)] = True\n",
    "    fig, ax = plt.subplots(figsize=figsize)\n",
    "    sns.heatmap(corr, annot=True, cmap=cmap, mask=mask)\n",
    "    return fig, ax\n",
    "\n",
    "heatmap(df)"
   ]
  },
  {
   "cell_type": "code",
   "execution_count": 32,
   "metadata": {
    "ExecuteTime": {
     "end_time": "2021-05-26T18:36:07.269507Z",
     "start_time": "2021-05-26T18:36:07.255498Z"
    }
   },
   "outputs": [],
   "source": [
    "# pd.set_option('display.max_rows', df.shape[0]+1)\n",
    "\n",
    "# corr = df.drop('blueWins',axis=1).corr().abs()\n",
    "\n",
    "# sort = corr.unstack()\n",
    "# sort_order = sort.sort_values(kind=\"quicksort\")\n",
    "\n",
    "# corr_df = sort_order.to_frame()\n",
    "\n",
    "# corr_features_df = corr_df[(corr_df[0] > 0.6) & (corr_df[0] < 1) ]\n",
    "\n",
    "# corr_features_df.sort_values(by=0, ascending=False)"
   ]
  },
  {
   "cell_type": "code",
   "execution_count": 33,
   "metadata": {
    "ExecuteTime": {
     "end_time": "2021-05-26T18:36:07.317478Z",
     "start_time": "2021-05-26T18:36:07.271492Z"
    }
   },
   "outputs": [
    {
     "data": {
      "text/html": [
       "<div>\n",
       "<style scoped>\n",
       "    .dataframe tbody tr th:only-of-type {\n",
       "        vertical-align: middle;\n",
       "    }\n",
       "\n",
       "    .dataframe tbody tr th {\n",
       "        vertical-align: top;\n",
       "    }\n",
       "\n",
       "    .dataframe thead th {\n",
       "        text-align: right;\n",
       "    }\n",
       "</style>\n",
       "<table border=\"1\" class=\"dataframe\">\n",
       "  <thead>\n",
       "    <tr style=\"text-align: right;\">\n",
       "      <th></th>\n",
       "      <th>level_0</th>\n",
       "      <th>level_1</th>\n",
       "      <th>0</th>\n",
       "    </tr>\n",
       "  </thead>\n",
       "  <tbody>\n",
       "    <tr>\n",
       "      <th>64</th>\n",
       "      <td>AvgLevel</td>\n",
       "      <td>TotalExperience</td>\n",
       "      <td>0.919161</td>\n",
       "    </tr>\n",
       "    <tr>\n",
       "      <th>23</th>\n",
       "      <td>Kills</td>\n",
       "      <td>TotalGold</td>\n",
       "      <td>0.917008</td>\n",
       "    </tr>\n",
       "    <tr>\n",
       "      <th>54</th>\n",
       "      <td>TotalGold</td>\n",
       "      <td>TotalExperience</td>\n",
       "      <td>0.894729</td>\n",
       "    </tr>\n",
       "    <tr>\n",
       "      <th>53</th>\n",
       "      <td>TotalGold</td>\n",
       "      <td>AvgLevel</td>\n",
       "      <td>0.833493</td>\n",
       "    </tr>\n",
       "    <tr>\n",
       "      <th>21</th>\n",
       "      <td>Kills</td>\n",
       "      <td>Assists</td>\n",
       "      <td>0.830751</td>\n",
       "    </tr>\n",
       "    <tr>\n",
       "      <th>25</th>\n",
       "      <td>Kills</td>\n",
       "      <td>TotalExperience</td>\n",
       "      <td>0.822845</td>\n",
       "    </tr>\n",
       "    <tr>\n",
       "      <th>24</th>\n",
       "      <td>Kills</td>\n",
       "      <td>AvgLevel</td>\n",
       "      <td>0.766222</td>\n",
       "    </tr>\n",
       "    <tr>\n",
       "      <th>33</th>\n",
       "      <td>Assists</td>\n",
       "      <td>TotalGold</td>\n",
       "      <td>0.759321</td>\n",
       "    </tr>\n",
       "    <tr>\n",
       "      <th>55</th>\n",
       "      <td>TotalGold</td>\n",
       "      <td>TotalMinionsKilled</td>\n",
       "      <td>0.638765</td>\n",
       "    </tr>\n",
       "    <tr>\n",
       "      <th>75</th>\n",
       "      <td>TotalExperience</td>\n",
       "      <td>TotalMinionsKilled</td>\n",
       "      <td>0.625556</td>\n",
       "    </tr>\n",
       "  </tbody>\n",
       "</table>\n",
       "</div>"
      ],
      "text/plain": [
       "            level_0             level_1         0\n",
       "64         AvgLevel     TotalExperience  0.919161\n",
       "23            Kills           TotalGold  0.917008\n",
       "54        TotalGold     TotalExperience  0.894729\n",
       "53        TotalGold            AvgLevel  0.833493\n",
       "21            Kills             Assists  0.830751\n",
       "25            Kills     TotalExperience  0.822845\n",
       "24            Kills            AvgLevel  0.766222\n",
       "33          Assists           TotalGold  0.759321\n",
       "55        TotalGold  TotalMinionsKilled  0.638765\n",
       "75  TotalExperience  TotalMinionsKilled  0.625556"
      ]
     },
     "execution_count": 33,
     "metadata": {},
     "output_type": "execute_result"
    }
   ],
   "source": [
    "# https://pydatascience.org/2019/07/23/remove-duplicates-from-correlation-matrix-python/\n",
    "def corr_list(df):\n",
    "    dataCorr = df.drop('blueWins',axis=1).corr()\n",
    "\n",
    "    dataCorr = dataCorr[abs(dataCorr) >= 0.01].stack().reset_index()\n",
    "    dataCorr = dataCorr[dataCorr['level_0'].astype(str)!=dataCorr['level_1'].astype(str)]\n",
    "\n",
    "    # filtering out lower/upper triangular duplicates \n",
    "    dataCorr['ordered-cols'] = dataCorr.apply(lambda x: '-'.join(sorted([x['level_0'],x['level_1']])),axis=1)\n",
    "    dataCorr = dataCorr.drop_duplicates(['ordered-cols'])\n",
    "    dataCorr.drop(['ordered-cols'], axis=1, inplace=True)\n",
    "\n",
    "    return dataCorr.sort_values(by=[0], ascending=False).head(10) #Get 10 highest correlation of pairwaise attributes\n",
    "\n",
    "corr_list(df)\n"
   ]
  },
  {
   "cell_type": "markdown",
   "metadata": {},
   "source": [
    "Our multicollinearity analysis has presented a few variable relationships that need additional consideration.\n",
    "\n",
    "- avgLevel and TotalExperience are highly correlated, which is not surprising.  For now, we will stick with TotalExperience since it's a bit more precise than AvgLevel.  \n",
    "- TotalGold appears consistently in our list.  This is also not surprising since kills and assists award gold.  We will experiment with removing TotalGold for feature analysis."
   ]
  },
  {
   "cell_type": "code",
   "execution_count": 34,
   "metadata": {
    "ExecuteTime": {
     "end_time": "2021-05-26T18:36:07.365477Z",
     "start_time": "2021-05-26T18:36:07.320478Z"
    }
   },
   "outputs": [
    {
     "data": {
      "text/html": [
       "<div>\n",
       "<style scoped>\n",
       "    .dataframe tbody tr th:only-of-type {\n",
       "        vertical-align: middle;\n",
       "    }\n",
       "\n",
       "    .dataframe tbody tr th {\n",
       "        vertical-align: top;\n",
       "    }\n",
       "\n",
       "    .dataframe thead th {\n",
       "        text-align: right;\n",
       "    }\n",
       "</style>\n",
       "<table border=\"1\" class=\"dataframe\">\n",
       "  <thead>\n",
       "    <tr style=\"text-align: right;\">\n",
       "      <th></th>\n",
       "      <th>level_0</th>\n",
       "      <th>level_1</th>\n",
       "      <th>0</th>\n",
       "    </tr>\n",
       "  </thead>\n",
       "  <tbody>\n",
       "    <tr>\n",
       "      <th>64</th>\n",
       "      <td>AvgLevel</td>\n",
       "      <td>TotalExperience</td>\n",
       "      <td>0.919161</td>\n",
       "    </tr>\n",
       "    <tr>\n",
       "      <th>23</th>\n",
       "      <td>Kills</td>\n",
       "      <td>TotalGold</td>\n",
       "      <td>0.917008</td>\n",
       "    </tr>\n",
       "    <tr>\n",
       "      <th>54</th>\n",
       "      <td>TotalGold</td>\n",
       "      <td>TotalExperience</td>\n",
       "      <td>0.894729</td>\n",
       "    </tr>\n",
       "    <tr>\n",
       "      <th>53</th>\n",
       "      <td>TotalGold</td>\n",
       "      <td>AvgLevel</td>\n",
       "      <td>0.833493</td>\n",
       "    </tr>\n",
       "    <tr>\n",
       "      <th>21</th>\n",
       "      <td>Kills</td>\n",
       "      <td>Assists</td>\n",
       "      <td>0.830751</td>\n",
       "    </tr>\n",
       "    <tr>\n",
       "      <th>25</th>\n",
       "      <td>Kills</td>\n",
       "      <td>TotalExperience</td>\n",
       "      <td>0.822845</td>\n",
       "    </tr>\n",
       "    <tr>\n",
       "      <th>24</th>\n",
       "      <td>Kills</td>\n",
       "      <td>AvgLevel</td>\n",
       "      <td>0.766222</td>\n",
       "    </tr>\n",
       "    <tr>\n",
       "      <th>33</th>\n",
       "      <td>Assists</td>\n",
       "      <td>TotalGold</td>\n",
       "      <td>0.759321</td>\n",
       "    </tr>\n",
       "    <tr>\n",
       "      <th>55</th>\n",
       "      <td>TotalGold</td>\n",
       "      <td>TotalMinionsKilled</td>\n",
       "      <td>0.638765</td>\n",
       "    </tr>\n",
       "    <tr>\n",
       "      <th>75</th>\n",
       "      <td>TotalExperience</td>\n",
       "      <td>TotalMinionsKilled</td>\n",
       "      <td>0.625556</td>\n",
       "    </tr>\n",
       "  </tbody>\n",
       "</table>\n",
       "</div>"
      ],
      "text/plain": [
       "            level_0             level_1         0\n",
       "64         AvgLevel     TotalExperience  0.919161\n",
       "23            Kills           TotalGold  0.917008\n",
       "54        TotalGold     TotalExperience  0.894729\n",
       "53        TotalGold            AvgLevel  0.833493\n",
       "21            Kills             Assists  0.830751\n",
       "25            Kills     TotalExperience  0.822845\n",
       "24            Kills            AvgLevel  0.766222\n",
       "33          Assists           TotalGold  0.759321\n",
       "55        TotalGold  TotalMinionsKilled  0.638765\n",
       "75  TotalExperience  TotalMinionsKilled  0.625556"
      ]
     },
     "execution_count": 34,
     "metadata": {},
     "output_type": "execute_result"
    }
   ],
   "source": [
    "corr_list(diff_df)"
   ]
  },
  {
   "cell_type": "code",
   "execution_count": null,
   "metadata": {},
   "outputs": [],
   "source": []
  },
  {
   "cell_type": "code",
   "execution_count": null,
   "metadata": {},
   "outputs": [],
   "source": []
  },
  {
   "cell_type": "code",
   "execution_count": null,
   "metadata": {},
   "outputs": [],
   "source": []
  },
  {
   "cell_type": "markdown",
   "metadata": {},
   "source": [
    "# MODEL"
   ]
  },
  {
   "cell_type": "markdown",
   "metadata": {},
   "source": [
    "## Train Test Split"
   ]
  },
  {
   "cell_type": "code",
   "execution_count": 35,
   "metadata": {
    "ExecuteTime": {
     "end_time": "2021-05-26T18:36:07.397454Z",
     "start_time": "2021-05-26T18:36:07.369462Z"
    }
   },
   "outputs": [
    {
     "name": "stdout",
     "output_type": "stream",
     "text": [
      "X_train shape: (6915, 13)\n",
      "X_test shape: (2964, 13)\n"
     ]
    }
   ],
   "source": [
    "# Isolate target and features\n",
    "\n",
    "y = df['blueWins']\n",
    "X = df.drop(columns=['blueWins'], axis=1)\n",
    "\n",
    "# Create train / test split\n",
    "\n",
    "X_train, X_test, y_train, y_test = train_test_split(X, y, test_size=0.3, random_state=8)\n",
    "\n",
    "# Confirm split\n",
    "\n",
    "print(\"X_train shape:\", X_train.shape)\n",
    "print(\"X_test shape:\", X_test.shape)"
   ]
  },
  {
   "cell_type": "markdown",
   "metadata": {},
   "source": [
    "### Categorical Columns"
   ]
  },
  {
   "cell_type": "code",
   "execution_count": 36,
   "metadata": {
    "ExecuteTime": {
     "end_time": "2021-05-26T18:36:07.413463Z",
     "start_time": "2021-05-26T18:36:07.399451Z"
    }
   },
   "outputs": [
    {
     "data": {
      "text/plain": [
       "(Index(['firstBlood', 'dragon', 'herald'], dtype='object'),\n",
       " Index(['WardsPlaced', 'WardsDestroyed', 'Kills', 'Assists', 'TowersDestroyed',\n",
       "        'TotalGold', 'AvgLevel', 'TotalExperience', 'TotalMinionsKilled',\n",
       "        'TotalJungleMinionsKilled'],\n",
       "       dtype='object'))"
      ]
     },
     "execution_count": 36,
     "metadata": {},
     "output_type": "execute_result"
    }
   ],
   "source": [
    "# Separate feautures into continuous and categorical\n",
    "\n",
    "categoricals = X.select_dtypes('O').columns\n",
    "numericals = X.select_dtypes('number').columns\n",
    "categoricals, numericals"
   ]
  },
  {
   "cell_type": "code",
   "execution_count": 37,
   "metadata": {
    "ExecuteTime": {
     "end_time": "2021-05-26T18:36:07.461433Z",
     "start_time": "2021-05-26T18:36:07.415446Z"
    }
   },
   "outputs": [
    {
     "data": {
      "text/plain": [
       "array([[0., 0., 1., ..., 0., 1., 0.],\n",
       "       [0., 0., 0., ..., 0., 1., 0.],\n",
       "       [1., 0., 0., ..., 1., 0., 0.],\n",
       "       ...,\n",
       "       [1., 0., 0., ..., 0., 1., 0.],\n",
       "       [1., 1., 0., ..., 0., 1., 0.],\n",
       "       [1., 0., 0., ..., 1., 0., 0.]])"
      ]
     },
     "execution_count": 37,
     "metadata": {},
     "output_type": "execute_result"
    }
   ],
   "source": [
    "# Encode categorical columns, only drop if binary\n",
    "\n",
    "encoder = OneHotEncoder(sparse=False,drop='if_binary')\n",
    "train_categoricals = encoder.fit_transform(X_train[categoricals])\n",
    "test_categoricals = encoder.transform(X_test[categoricals])\n",
    "train_categoricals"
   ]
  },
  {
   "cell_type": "code",
   "execution_count": 38,
   "metadata": {
    "ExecuteTime": {
     "end_time": "2021-05-26T18:36:07.492425Z",
     "start_time": "2021-05-26T18:36:07.463431Z"
    }
   },
   "outputs": [
    {
     "data": {
      "text/html": [
       "<div>\n",
       "<style scoped>\n",
       "    .dataframe tbody tr th:only-of-type {\n",
       "        vertical-align: middle;\n",
       "    }\n",
       "\n",
       "    .dataframe tbody tr th {\n",
       "        vertical-align: top;\n",
       "    }\n",
       "\n",
       "    .dataframe thead th {\n",
       "        text-align: right;\n",
       "    }\n",
       "</style>\n",
       "<table border=\"1\" class=\"dataframe\">\n",
       "  <thead>\n",
       "    <tr style=\"text-align: right;\">\n",
       "      <th></th>\n",
       "      <th>firstBlood_Red</th>\n",
       "      <th>dragon_Blue</th>\n",
       "      <th>dragon_No Dragon</th>\n",
       "      <th>dragon_Red</th>\n",
       "      <th>herald_Blue</th>\n",
       "      <th>herald_No Herald</th>\n",
       "      <th>herald_Red</th>\n",
       "    </tr>\n",
       "  </thead>\n",
       "  <tbody>\n",
       "    <tr>\n",
       "      <th>0</th>\n",
       "      <td>0.0</td>\n",
       "      <td>0.0</td>\n",
       "      <td>1.0</td>\n",
       "      <td>0.0</td>\n",
       "      <td>0.0</td>\n",
       "      <td>1.0</td>\n",
       "      <td>0.0</td>\n",
       "    </tr>\n",
       "    <tr>\n",
       "      <th>1</th>\n",
       "      <td>0.0</td>\n",
       "      <td>0.0</td>\n",
       "      <td>0.0</td>\n",
       "      <td>1.0</td>\n",
       "      <td>0.0</td>\n",
       "      <td>1.0</td>\n",
       "      <td>0.0</td>\n",
       "    </tr>\n",
       "    <tr>\n",
       "      <th>2</th>\n",
       "      <td>1.0</td>\n",
       "      <td>0.0</td>\n",
       "      <td>0.0</td>\n",
       "      <td>1.0</td>\n",
       "      <td>1.0</td>\n",
       "      <td>0.0</td>\n",
       "      <td>0.0</td>\n",
       "    </tr>\n",
       "    <tr>\n",
       "      <th>3</th>\n",
       "      <td>0.0</td>\n",
       "      <td>0.0</td>\n",
       "      <td>0.0</td>\n",
       "      <td>1.0</td>\n",
       "      <td>0.0</td>\n",
       "      <td>0.0</td>\n",
       "      <td>1.0</td>\n",
       "    </tr>\n",
       "    <tr>\n",
       "      <th>4</th>\n",
       "      <td>1.0</td>\n",
       "      <td>1.0</td>\n",
       "      <td>0.0</td>\n",
       "      <td>0.0</td>\n",
       "      <td>0.0</td>\n",
       "      <td>1.0</td>\n",
       "      <td>0.0</td>\n",
       "    </tr>\n",
       "  </tbody>\n",
       "</table>\n",
       "</div>"
      ],
      "text/plain": [
       "   firstBlood_Red  dragon_Blue  dragon_No Dragon  dragon_Red  herald_Blue  \\\n",
       "0             0.0          0.0               1.0         0.0          0.0   \n",
       "1             0.0          0.0               0.0         1.0          0.0   \n",
       "2             1.0          0.0               0.0         1.0          1.0   \n",
       "3             0.0          0.0               0.0         1.0          0.0   \n",
       "4             1.0          1.0               0.0         0.0          0.0   \n",
       "\n",
       "   herald_No Herald  herald_Red  \n",
       "0               1.0         0.0  \n",
       "1               1.0         0.0  \n",
       "2               0.0         0.0  \n",
       "3               0.0         1.0  \n",
       "4               1.0         0.0  "
      ]
     },
     "execution_count": 38,
     "metadata": {},
     "output_type": "execute_result"
    }
   ],
   "source": [
    "# Convert train and test categoricals into dataframes for merge\n",
    "\n",
    "train_categoricals_df = pd.DataFrame(train_categoricals,\n",
    "                                     columns=encoder.get_feature_names(categoricals))\n",
    "\n",
    "test_categoricals_df =  pd.DataFrame(test_categoricals,\n",
    "                                     columns=encoder.get_feature_names(categoricals))\n",
    "\n",
    "train_categoricals_df.head()"
   ]
  },
  {
   "cell_type": "markdown",
   "metadata": {},
   "source": [
    "### Numerical Columns"
   ]
  },
  {
   "cell_type": "code",
   "execution_count": 39,
   "metadata": {
    "ExecuteTime": {
     "end_time": "2021-05-26T18:36:07.540411Z",
     "start_time": "2021-05-26T18:36:07.495421Z"
    }
   },
   "outputs": [
    {
     "data": {
      "text/html": [
       "<div>\n",
       "<style scoped>\n",
       "    .dataframe tbody tr th:only-of-type {\n",
       "        vertical-align: middle;\n",
       "    }\n",
       "\n",
       "    .dataframe tbody tr th {\n",
       "        vertical-align: top;\n",
       "    }\n",
       "\n",
       "    .dataframe thead th {\n",
       "        text-align: right;\n",
       "    }\n",
       "</style>\n",
       "<table border=\"1\" class=\"dataframe\">\n",
       "  <thead>\n",
       "    <tr style=\"text-align: right;\">\n",
       "      <th></th>\n",
       "      <th>WardsPlaced</th>\n",
       "      <th>WardsDestroyed</th>\n",
       "      <th>Kills</th>\n",
       "      <th>Assists</th>\n",
       "      <th>TowersDestroyed</th>\n",
       "      <th>TotalGold</th>\n",
       "      <th>AvgLevel</th>\n",
       "      <th>TotalExperience</th>\n",
       "      <th>TotalMinionsKilled</th>\n",
       "      <th>TotalJungleMinionsKilled</th>\n",
       "    </tr>\n",
       "  </thead>\n",
       "  <tbody>\n",
       "    <tr>\n",
       "      <th>0</th>\n",
       "      <td>-0.312890</td>\n",
       "      <td>1.373334</td>\n",
       "      <td>0.220704</td>\n",
       "      <td>-0.349942</td>\n",
       "      <td>-0.04164</td>\n",
       "      <td>-0.001092</td>\n",
       "      <td>-0.821423</td>\n",
       "      <td>-0.486820</td>\n",
       "      <td>-1.461816</td>\n",
       "      <td>1.449220</td>\n",
       "    </tr>\n",
       "    <tr>\n",
       "      <th>1</th>\n",
       "      <td>0.156072</td>\n",
       "      <td>-0.741644</td>\n",
       "      <td>0.220704</td>\n",
       "      <td>-0.003060</td>\n",
       "      <td>-0.04164</td>\n",
       "      <td>-0.440888</td>\n",
       "      <td>-0.821423</td>\n",
       "      <td>-0.545091</td>\n",
       "      <td>-0.784545</td>\n",
       "      <td>-1.143374</td>\n",
       "    </tr>\n",
       "    <tr>\n",
       "      <th>2</th>\n",
       "      <td>-0.000249</td>\n",
       "      <td>-0.389148</td>\n",
       "      <td>-0.733301</td>\n",
       "      <td>-0.349942</td>\n",
       "      <td>-0.04164</td>\n",
       "      <td>-0.276167</td>\n",
       "      <td>-0.405661</td>\n",
       "      <td>-0.490982</td>\n",
       "      <td>-0.816796</td>\n",
       "      <td>2.079851</td>\n",
       "    </tr>\n",
       "    <tr>\n",
       "      <th>3</th>\n",
       "      <td>0.156072</td>\n",
       "      <td>1.373334</td>\n",
       "      <td>2.128716</td>\n",
       "      <td>2.425111</td>\n",
       "      <td>-0.04164</td>\n",
       "      <td>2.063192</td>\n",
       "      <td>1.673149</td>\n",
       "      <td>1.640596</td>\n",
       "      <td>1.344019</td>\n",
       "      <td>-1.073304</td>\n",
       "    </tr>\n",
       "    <tr>\n",
       "      <th>4</th>\n",
       "      <td>-0.039329</td>\n",
       "      <td>-0.036651</td>\n",
       "      <td>0.697707</td>\n",
       "      <td>0.343822</td>\n",
       "      <td>-0.04164</td>\n",
       "      <td>0.381093</td>\n",
       "      <td>0.010101</td>\n",
       "      <td>0.397652</td>\n",
       "      <td>0.795753</td>\n",
       "      <td>-1.143374</td>\n",
       "    </tr>\n",
       "  </tbody>\n",
       "</table>\n",
       "</div>"
      ],
      "text/plain": [
       "   WardsPlaced  WardsDestroyed     Kills   Assists  TowersDestroyed  \\\n",
       "0    -0.312890        1.373334  0.220704 -0.349942         -0.04164   \n",
       "1     0.156072       -0.741644  0.220704 -0.003060         -0.04164   \n",
       "2    -0.000249       -0.389148 -0.733301 -0.349942         -0.04164   \n",
       "3     0.156072        1.373334  2.128716  2.425111         -0.04164   \n",
       "4    -0.039329       -0.036651  0.697707  0.343822         -0.04164   \n",
       "\n",
       "   TotalGold  AvgLevel  TotalExperience  TotalMinionsKilled  \\\n",
       "0  -0.001092 -0.821423        -0.486820           -1.461816   \n",
       "1  -0.440888 -0.821423        -0.545091           -0.784545   \n",
       "2  -0.276167 -0.405661        -0.490982           -0.816796   \n",
       "3   2.063192  1.673149         1.640596            1.344019   \n",
       "4   0.381093  0.010101         0.397652            0.795753   \n",
       "\n",
       "   TotalJungleMinionsKilled  \n",
       "0                  1.449220  \n",
       "1                 -1.143374  \n",
       "2                  2.079851  \n",
       "3                 -1.073304  \n",
       "4                 -1.143374  "
      ]
     },
     "execution_count": 39,
     "metadata": {},
     "output_type": "execute_result"
    }
   ],
   "source": [
    "# Scale continuous features and combine into dataframe for merge\n",
    "\n",
    "scaler = scaler = StandardScaler()\n",
    "\n",
    "train_numericals_df = pd.DataFrame(scaler.fit_transform(X_train[numericals]),\n",
    "                              columns=numericals)\n",
    "\n",
    "test_numericals_df = pd.DataFrame(scaler.transform(X_test[numericals]),\n",
    "                              columns=numericals)\n",
    "\n",
    "train_numericals_df.head()"
   ]
  },
  {
   "cell_type": "code",
   "execution_count": 40,
   "metadata": {
    "ExecuteTime": {
     "end_time": "2021-05-26T18:36:07.556401Z",
     "start_time": "2021-05-26T18:36:07.543406Z"
    }
   },
   "outputs": [
    {
     "name": "stdout",
     "output_type": "stream",
     "text": [
      "(6915, 17)\n",
      "(2964, 17)\n"
     ]
    }
   ],
   "source": [
    "# Recombine transformed categorical and continuous features, print shape\n",
    "\n",
    "X_train = pd.concat([train_numericals_df, train_categoricals_df], axis=1)\n",
    "X_test = pd.concat([test_numericals_df, test_categoricals_df], axis=1)\n",
    "\n",
    "print(X_train.shape)\n",
    "print(X_test.shape)"
   ]
  },
  {
   "cell_type": "markdown",
   "metadata": {},
   "source": [
    "## Logistic Regression"
   ]
  },
  {
   "cell_type": "code",
   "execution_count": 41,
   "metadata": {
    "ExecuteTime": {
     "end_time": "2021-05-26T18:36:07.619380Z",
     "start_time": "2021-05-26T18:36:07.559400Z"
    }
   },
   "outputs": [
    {
     "data": {
      "text/plain": [
       "LogisticRegression()"
      ]
     },
     "execution_count": 41,
     "metadata": {},
     "output_type": "execute_result"
    }
   ],
   "source": [
    "# Initiate and train model\n",
    "\n",
    "model_log = LogisticRegression()\n",
    "\n",
    "model_log.fit(X_train, y_train)"
   ]
  },
  {
   "cell_type": "code",
   "execution_count": 42,
   "metadata": {
    "ExecuteTime": {
     "end_time": "2021-05-26T18:36:07.635375Z",
     "start_time": "2021-05-26T18:36:07.621381Z"
    }
   },
   "outputs": [
    {
     "data": {
      "text/plain": [
       "1    0.500217\n",
       "0    0.499783\n",
       "Name: blueWins, dtype: float64"
      ]
     },
     "execution_count": 42,
     "metadata": {},
     "output_type": "execute_result"
    }
   ],
   "source": [
    "y_train.value_counts(1)"
   ]
  },
  {
   "cell_type": "code",
   "execution_count": 43,
   "metadata": {
    "ExecuteTime": {
     "end_time": "2021-05-26T18:36:07.651370Z",
     "start_time": "2021-05-26T18:36:07.637376Z"
    }
   },
   "outputs": [
    {
     "data": {
      "text/plain": [
       "0    0.503711\n",
       "1    0.496289\n",
       "Name: blueWins, dtype: float64"
      ]
     },
     "execution_count": 43,
     "metadata": {},
     "output_type": "execute_result"
    }
   ],
   "source": [
    "y_test.value_counts(1)"
   ]
  },
  {
   "cell_type": "code",
   "execution_count": 44,
   "metadata": {
    "ExecuteTime": {
     "end_time": "2021-05-26T18:36:07.667365Z",
     "start_time": "2021-05-26T18:36:07.653371Z"
    }
   },
   "outputs": [],
   "source": [
    "## Get Predictions for training and test data to check metrics functions\n",
    "y_hat_train = model_log.predict(X_train)\n",
    "y_hat_test = model_log.predict(X_test)"
   ]
  },
  {
   "cell_type": "markdown",
   "metadata": {},
   "source": [
    "### Accuracy"
   ]
  },
  {
   "cell_type": "code",
   "execution_count": 45,
   "metadata": {
    "ExecuteTime": {
     "end_time": "2021-05-26T18:36:07.699355Z",
     "start_time": "2021-05-26T18:36:07.670365Z"
    }
   },
   "outputs": [
    {
     "name": "stdout",
     "output_type": "stream",
     "text": [
      "Training Accuracy: 74.04%\n",
      "Test Accuracy: 71.69%\n"
     ]
    }
   ],
   "source": [
    "def model_accuracy(model, X_train=X_train, y_train=y_train, X_test=X_test, y_test=y_test):\n",
    "    print(f'Training Accuracy: {model.score(X_train,y_train):.2%}')\n",
    "    print(f'Test Accuracy: {model.score(X_test,y_test):.2%}')\n",
    "\n",
    "model_accuracy(model_log)"
   ]
  },
  {
   "cell_type": "markdown",
   "metadata": {},
   "source": [
    "### Cross Validation Check"
   ]
  },
  {
   "cell_type": "code",
   "execution_count": 46,
   "metadata": {
    "ExecuteTime": {
     "end_time": "2021-05-26T18:36:08.145212Z",
     "start_time": "2021-05-26T18:36:07.702355Z"
    }
   },
   "outputs": [
    {
     "name": "stdout",
     "output_type": "stream",
     "text": [
      "Logistic Regression Cross Validation Scores:\n",
      "\n",
      "[0.72976879 0.73265896 0.75867052 0.73410405 0.73988439 0.74384949\n",
      " 0.72503618 0.75253256 0.72648336 0.73950796]\n",
      "\n",
      "Cross validation mean: \t73.82%\n"
     ]
    }
   ],
   "source": [
    "# Create function for cross validation\n",
    "\n",
    "def cross_val_check(model_string_name, model, X_train=X_train, y_train=y_train,\n",
    "                    X_test=X_test, y_test=y_test):\n",
    "    scores = cross_val_score(model, X_train, y_train, cv=10)\n",
    "    print(f'{model_string_name} Cross Validation Scores:\\n')\n",
    "    print(scores)\n",
    "    print(f'\\nCross validation mean: \\t{scores.mean():.2%}')\n",
    "    \n",
    "cross_val_check('Logistic Regression', model_log)"
   ]
  },
  {
   "cell_type": "markdown",
   "metadata": {},
   "source": [
    "### Confusion Matrix & Classification Report"
   ]
  },
  {
   "cell_type": "code",
   "execution_count": 47,
   "metadata": {
    "ExecuteTime": {
     "end_time": "2021-05-26T18:36:08.416125Z",
     "start_time": "2021-05-26T18:36:08.147212Z"
    }
   },
   "outputs": [
    {
     "data": {
      "image/png": "[encoded data removed]",
      "text/plain": [
       "<Figure size 288x288 with 1 Axes>"
      ]
     },
     "metadata": {
      "needs_background": "light"
     },
     "output_type": "display_data"
    }
   ],
   "source": [
    "# # https://vitalflux.com/accuracy-precision-recall-f1-score-python-example/\n",
    "\n",
    "y_pred = model_log.predict(X_test)\n",
    "#\n",
    "# Calculate the confusion matrix\n",
    "#\n",
    "conf_matrix = confusion_matrix(y_true=y_test, y_pred=y_pred)\n",
    "#\n",
    "# Print the confusion matrix using Matplotlib\n",
    "#\n",
    "fig, ax = plt.subplots(figsize=(4, 4))\n",
    "ax.matshow(conf_matrix, cmap=plt.cm.Oranges, alpha=0.3)\n",
    "for i in range(conf_matrix.shape[0]):\n",
    "    for j in range(conf_matrix.shape[1]):\n",
    "        ax.text(x=j, y=i,s=conf_matrix[i, j], va='center', ha='center', size='xx-large')\n",
    " \n",
    "plt.xlabel('Predictions', fontsize=18)\n",
    "plt.ylabel('Actuals', fontsize=18)\n",
    "plt.title('Confusion Matrix', fontsize=18)\n",
    "plt.show()"
   ]
  },
  {
   "cell_type": "code",
   "execution_count": 59,
   "metadata": {
    "ExecuteTime": {
     "end_time": "2021-05-26T18:43:49.609933Z",
     "start_time": "2021-05-26T18:43:49.037102Z"
    }
   },
   "outputs": [
    {
     "name": "stdout",
     "output_type": "stream",
     "text": [
      "Training Accuracy: 74.04%\n",
      "Test Accuracy: 71.69%\n",
      "\n",
      "              precision    recall  f1-score   support\n",
      "\n",
      "           0       0.72      0.71      0.72      1493\n",
      "           1       0.71      0.72      0.72      1471\n",
      "\n",
      "    accuracy                           0.72      2964\n",
      "   macro avg       0.72      0.72      0.72      2964\n",
      "weighted avg       0.72      0.72      0.72      2964\n",
      "\n"
     ]
    },
    {
     "data": {
      "image/png": "[encoded data removed]",
      "text/plain": [
       "<Figure size 720x288 with 3 Axes>"
      ]
     },
     "metadata": {
      "needs_background": "light"
     },
     "output_type": "display_data"
    }
   ],
   "source": [
    "def evaluate_model(model, X_train=X_train, X_test=X_test, y_train=y_train, \n",
    "                   y_test=y_test, cmap='Blues', normalize='true',\n",
    "                   classes=None,figsize=(10,4)):\n",
    "    \n",
    "    # Print model accuracy\n",
    "    print(f'Training Accuracy: {model.score(X_train,y_train):.2%}')\n",
    "    print(f'Test Accuracy: {model.score(X_test,y_test):.2%}')\n",
    "    print('')\n",
    "    \n",
    "    # Print classification report\n",
    "    y_test_predict = model.predict(X_test)\n",
    "    print(metrics.classification_report(y_test, y_test_predict,\n",
    "                                        target_names=classes))\n",
    "    \n",
    "    # Plot confusion matrix\n",
    "    fig,ax = plt.subplots(ncols=2,figsize=figsize)\n",
    "    metrics.plot_confusion_matrix(model, X_test,y_test,cmap=cmap, \n",
    "                                  normalize=normalize,display_labels=classes,\n",
    "                                  ax=ax[0])\n",
    "    \n",
    "    #Plot ROC curves\n",
    "    with sns.axes_style(\"darkgrid\"):\n",
    "        curve = metrics.plot_roc_curve(model,X_train,y_train,ax=ax[1])\n",
    "        curve2 = metrics.plot_roc_curve(model,X_test,y_test,ax=ax[1])\n",
    "        curve.ax_.grid()\n",
    "        curve.ax_.plot([0,1],[0,1],ls=':')\n",
    "        fig.tight_layout()\n",
    "        plt.show()\n",
    "               \n",
    "evaluate_model(model_log)"
   ]
  },
  {
   "cell_type": "markdown",
   "metadata": {},
   "source": [
    "### Dummy Check"
   ]
  },
  {
   "cell_type": "code",
   "execution_count": null,
   "metadata": {
    "ExecuteTime": {
     "end_time": "2021-05-24T22:07:24.944616Z",
     "start_time": "2021-05-24T22:07:24.308819Z"
    },
    "scrolled": true
   },
   "outputs": [],
   "source": [
    "from sklearn.dummy import DummyClassifier\n",
    "\n",
    "dummy = DummyClassifier(strategy='stratified')#,constant=0)\n",
    "\n",
    "preds = dummy.fit(X_train,y_train).predict(X_test)\n",
    "\n",
    "## How did we do?\n",
    "print(dummy.score(X_test,y_test))\n",
    "\n",
    "evaluate_classification(dummy,X_test, y_test, cmap='Reds')#,label='Dummy');"
   ]
  },
  {
   "cell_type": "markdown",
   "metadata": {},
   "source": [
    "### Hypertuning Logistic Regression"
   ]
  },
  {
   "cell_type": "code",
   "execution_count": null,
   "metadata": {},
   "outputs": [],
   "source": [
    "# Initiate new model and perform grid search\n",
    "\n",
    "model_log_hp = LogisticRegression()\n",
    "\n",
    "params = {'C':[0.001,0.01,0.1,1,10,100,1000],\n",
    "        'penalty':['l1','l2','elastic_net'],\n",
    "        'solver':[\"liblinear\", \"newton-cg\", \"lbfgs\", \"sag\",\"saga\"]\n",
    "         }\n",
    "\n",
    "log_grid_search = GridSearchCV(model_log_hp,params,scoring='accuracy')\n",
    "\n",
    "log_grid_search.fit(X_train, y_train)\n",
    "\n",
    "log_grid_search.best_params_\n",
    "\n",
    "model_log_hp = LogisticRegression(**log_grid_search.best_params_)\n",
    "model_log_hp.fit(X_train, y_train)\n",
    "model_accuracy(model_log_hp)"
   ]
  },
  {
   "cell_type": "code",
   "execution_count": null,
   "metadata": {
    "ExecuteTime": {
     "end_time": "2021-05-24T22:07:24.960611Z",
     "start_time": "2021-05-24T22:07:24.947614Z"
    }
   },
   "outputs": [],
   "source": [
    "# Initiate new model and perform grid search\n",
    "\n",
    "model_log_hp = LogisticRegression()\n",
    "\n",
    "params = {'C':[0.001,0.01,0.1,1,10,100,1000],\n",
    "        'penalty':['l1','l2','elastic_net'],\n",
    "        'solver':[\"liblinear\", \"newton-cg\", \"lbfgs\", \"sag\",\"saga\"]\n",
    "         }\n",
    "\n",
    "log_grid_search = GridSearchCV(model_log_hp,params,scoring='accuracy')"
   ]
  },
  {
   "cell_type": "code",
   "execution_count": null,
   "metadata": {
    "ExecuteTime": {
     "end_time": "2021-05-24T22:07:36.685518Z",
     "start_time": "2021-05-24T22:07:24.962610Z"
    }
   },
   "outputs": [],
   "source": [
    "# Fit grid search to training data and display best parameters\n",
    "\n",
    "log_grid_search.fit(X_train, y_train)\n",
    "\n",
    "log_grid_search.best_params_"
   ]
  },
  {
   "cell_type": "code",
   "execution_count": null,
   "metadata": {
    "ExecuteTime": {
     "end_time": "2021-05-24T22:07:36.716507Z",
     "start_time": "2021-05-24T22:07:36.688518Z"
    }
   },
   "outputs": [],
   "source": [
    "# Compare performance between base model and grid search model\n",
    "\n",
    "print(\"Base Model:\")\n",
    "model_accuracy(model_log)\n",
    "print(\"\\n\")\n",
    "print(\"Grid Search Model:\")\n",
    "model_accuracy(log_grid_search)"
   ]
  },
  {
   "cell_type": "code",
   "execution_count": null,
   "metadata": {
    "ExecuteTime": {
     "end_time": "2021-05-24T22:07:37.336311Z",
     "start_time": "2021-05-24T22:07:36.718507Z"
    }
   },
   "outputs": [],
   "source": [
    "# Evaluate best model found with grid search\n",
    "\n",
    "evaluate_classification(log_grid_search.best_estimator_,X_test,y_test)"
   ]
  },
  {
   "cell_type": "markdown",
   "metadata": {
    "ExecuteTime": {
     "end_time": "2021-05-20T17:57:17.162369Z",
     "start_time": "2021-05-20T17:57:17.102408Z"
    }
   },
   "source": [
    "### Coefficients"
   ]
  },
  {
   "cell_type": "code",
   "execution_count": null,
   "metadata": {
    "ExecuteTime": {
     "end_time": "2021-05-24T22:07:37.817154Z",
     "start_time": "2021-05-24T22:07:37.340308Z"
    },
    "scrolled": true
   },
   "outputs": [],
   "source": [
    "# Create coefficient graph function\n",
    "\n",
    "def coef_graph(X_train, X_test, y_train=y_train, y_test=y_test):    \n",
    "    model = LogisticRegression()\n",
    "    model.fit(X_train, y_train)\n",
    "    coeffs = pd.Series(model.coef_.flatten(), index=X_train.columns).sort_values(ascending=True)\n",
    "    model_accuracy(model, X_train=X_train, y_train=y_train, X_test=X_test, y_test=y_test)\n",
    "    ax = coeffs.plot(kind='barh', figsize=(8,6))\n",
    "    \n",
    "coef_graph(X_train, X_test)"
   ]
  },
  {
   "cell_type": "code",
   "execution_count": null,
   "metadata": {
    "ExecuteTime": {
     "end_time": "2021-05-24T15:53:06.925509Z",
     "start_time": "2021-05-24T15:53:06.912511Z"
    }
   },
   "outputs": [],
   "source": []
  },
  {
   "cell_type": "code",
   "execution_count": null,
   "metadata": {
    "ExecuteTime": {
     "end_time": "2021-05-24T22:07:38.329991Z",
     "start_time": "2021-05-24T22:07:37.819154Z"
    }
   },
   "outputs": [],
   "source": [
    "X_train_coeff = X_train.drop(['TotalGold'],axis=1)\n",
    "X_test_coeff = X_test.drop(['TotalGold'],axis=1)\n",
    "\n",
    "coef_graph(X_train_coeff, X_test_coeff)"
   ]
  },
  {
   "cell_type": "code",
   "execution_count": null,
   "metadata": {
    "ExecuteTime": {
     "end_time": "2021-05-24T22:07:38.689876Z",
     "start_time": "2021-05-24T22:07:38.331991Z"
    }
   },
   "outputs": [],
   "source": [
    "X_train_coeff = X_train.drop(['TotalGold', 'TotalExperience'],axis=1)\n",
    "X_test_coeff = X_test.drop(['TotalGold', 'TotalExperience'],axis=1)\n",
    "\n",
    "coef_graph(X_train_coeff, X_test_coeff)"
   ]
  },
  {
   "cell_type": "code",
   "execution_count": null,
   "metadata": {
    "ExecuteTime": {
     "end_time": "2021-05-24T22:07:39.060756Z",
     "start_time": "2021-05-24T22:07:38.692876Z"
    }
   },
   "outputs": [],
   "source": [
    "X_train_coeff = X_train.drop(['TotalGold', 'TotalExperience', 'AvgLevel'],axis=1)\n",
    "X_test_coeff = X_test.drop(['TotalGold', 'TotalExperience', 'AvgLevel'],axis=1)\n",
    "\n",
    "coef_graph(X_train_coeff, X_test_coeff)"
   ]
  },
  {
   "cell_type": "code",
   "execution_count": null,
   "metadata": {
    "ExecuteTime": {
     "end_time": "2021-05-24T22:14:27.608264Z",
     "start_time": "2021-05-24T22:14:27.259377Z"
    }
   },
   "outputs": [],
   "source": [
    "X_train_coeff_nokills = X_train.drop(['TotalGold', 'TotalExperience', 'AvgLevel', 'Kills'],axis=1)\n",
    "X_test_coeff_nokills = X_test.drop(['TotalGold', 'TotalExperience', 'AvgLevel', 'Kills'],axis=1)\n",
    "\n",
    "coef_graph(X_train_coeff_nokills, X_test_coeff_nokills)"
   ]
  },
  {
   "cell_type": "code",
   "execution_count": null,
   "metadata": {
    "ExecuteTime": {
     "end_time": "2021-05-24T22:14:36.219312Z",
     "start_time": "2021-05-24T22:14:35.861445Z"
    }
   },
   "outputs": [],
   "source": [
    "model = LogisticRegression()\n",
    "\n",
    "model.fit(X_train_coeff, y_train)\n",
    "\n",
    "coef = pd.Series(model.coef_.flatten(), index=X_train_coeff.columns).sort_values(ascending=True)\n",
    "\n",
    "odds = np.exp(coef)\n",
    "ax = odds.plot(kind='barh', figsize=(8,6))\n",
    "ax.axvline(1)\n"
   ]
  },
  {
   "cell_type": "markdown",
   "metadata": {},
   "source": [
    "For every 1 sd increase in Kills, the odds that blue wins is are 3.0 x as large as the odds that they lost"
   ]
  },
  {
   "cell_type": "markdown",
   "metadata": {},
   "source": [
    "## Random Forest"
   ]
  },
  {
   "cell_type": "code",
   "execution_count": null,
   "metadata": {
    "ExecuteTime": {
     "end_time": "2021-05-24T22:18:45.139017Z",
     "start_time": "2021-05-24T22:18:43.670478Z"
    }
   },
   "outputs": [],
   "source": [
    "# Initiate a random forest model\n",
    "model_rf = RandomForestClassifier(random_state=8)\n",
    "model_rf.fit(X_train, y_train)\n",
    "\n",
    "# Check accuracy\n",
    "model_accuracy(model_rf)"
   ]
  },
  {
   "cell_type": "code",
   "execution_count": null,
   "metadata": {
    "ExecuteTime": {
     "end_time": "2021-05-24T22:08:11.767147Z",
     "start_time": "2021-05-24T22:08:11.755150Z"
    }
   },
   "outputs": [],
   "source": [
    "# # Training accuracy score\n",
    "# model_rf.score(X_train, y_train)"
   ]
  },
  {
   "cell_type": "code",
   "execution_count": null,
   "metadata": {
    "ExecuteTime": {
     "end_time": "2021-05-24T22:08:17.932301Z",
     "start_time": "2021-05-24T22:08:11.771143Z"
    }
   },
   "outputs": [],
   "source": [
    "cross_val_check('Random Forest', model_rf)"
   ]
  },
  {
   "cell_type": "code",
   "execution_count": null,
   "metadata": {
    "ExecuteTime": {
     "end_time": "2021-05-24T22:08:18.679047Z",
     "start_time": "2021-05-24T22:08:17.934286Z"
    }
   },
   "outputs": [],
   "source": [
    "evaluate_classification(model_log, X_test, y_test)"
   ]
  },
  {
   "cell_type": "markdown",
   "metadata": {},
   "source": [
    "RF tends to shift away from our categoricals."
   ]
  },
  {
   "cell_type": "code",
   "execution_count": null,
   "metadata": {},
   "outputs": [],
   "source": []
  },
  {
   "cell_type": "code",
   "execution_count": null,
   "metadata": {},
   "outputs": [],
   "source": []
  },
  {
   "cell_type": "markdown",
   "metadata": {},
   "source": [
    "### RF Hyperparameter"
   ]
  },
  {
   "cell_type": "code",
   "execution_count": null,
   "metadata": {
    "ExecuteTime": {
     "end_time": "2021-05-24T22:09:06.367810Z",
     "start_time": "2021-05-24T22:08:21.805045Z"
    }
   },
   "outputs": [],
   "source": [
    "run = False\n",
    "\n",
    "# Initiate new random forest model\n",
    "model_rf_hp = RandomForestClassifier()\n",
    "\n",
    "# Define grid search parameters\n",
    "\n",
    "if run == True:\n",
    "    rf_param_grid = {\n",
    "        'n_estimators': [10, 30, 100],\n",
    "        'criterion': ['gini', 'entropy'],\n",
    "        'max_depth': [None, 2, 6, 10],\n",
    "        'min_samples_split': [5, 10],\n",
    "        'min_samples_leaf': [3, 6]}\n",
    "else:\n",
    "    rf_param_grid = {\n",
    "        'n_estimators': [30],\n",
    "        'criterion': ['entropy'],\n",
    "        'max_depth': [6],\n",
    "        'min_samples_split': [5],\n",
    "        'min_samples_leaf': [6]}\n",
    "\n",
    "# Run grid search and fit to train data\n",
    "rf_grid_search = GridSearchCV(model_rf_hp, rf_param_grid, cv=2)\n",
    "rf_grid_search.fit(X_train, y_train)\n",
    "\n",
    "# Print metrics\n",
    "print(\"---Random Forest Base Model---\")\n",
    "model_accuracy(model_rf)\n",
    "print(\"\")\n",
    "print(\"---Grid Search Model---\")\n",
    "model_accuracy(rf_grid_search)\n",
    "print(\"\")\n",
    "print(f\"Cross Validated Score: {rf_grid_search.best_score_ :.2%}\")\n",
    "print(\"\")\n",
    "print(f\"Optimal Parameters: {rf_grid_search.best_params_}\")"
   ]
  },
  {
   "cell_type": "code",
   "execution_count": null,
   "metadata": {
    "ExecuteTime": {
     "end_time": "2021-05-24T22:09:06.740638Z",
     "start_time": "2021-05-24T22:09:06.369756Z"
    }
   },
   "outputs": [],
   "source": [
    "# Print metrics\n",
    "\n",
    "print(\"---Random Forest Base Model---\")\n",
    "model_accuracy(model_rf)\n",
    "print(\"\")\n",
    "print(\"---Grid Search Model---\")\n",
    "model_accuracy(rf_grid_search)\n",
    "print(\"\")\n",
    "print(f\"Cross Validated Score: {rf_grid_search.best_score_ :.2%}\")\n",
    "print(\"\")\n",
    "print(f\"Optimal Parameters: {rf_grid_search.best_params_}\")"
   ]
  },
  {
   "cell_type": "code",
   "execution_count": null,
   "metadata": {},
   "outputs": [],
   "source": [
    "rf_grid_search.best_params_"
   ]
  },
  {
   "cell_type": "code",
   "execution_count": null,
   "metadata": {},
   "outputs": [],
   "source": [
    "model = RandomForestClassifier(**rf_grid_search.best_params_)\n",
    "\n",
    "model.fit(X_train, y_train)\n",
    "\n",
    "model_accuracy(model)"
   ]
  },
  {
   "cell_type": "code",
   "execution_count": null,
   "metadata": {
    "ExecuteTime": {
     "end_time": "2021-05-24T22:09:07.455422Z",
     "start_time": "2021-05-24T22:09:06.743638Z"
    }
   },
   "outputs": [],
   "source": [
    "evaluate_classification(rf_grid_search, X_test, y_test)"
   ]
  },
  {
   "cell_type": "markdown",
   "metadata": {},
   "source": [
    "### Feature Importances"
   ]
  },
  {
   "cell_type": "code",
   "execution_count": null,
   "metadata": {
    "ExecuteTime": {
     "end_time": "2021-05-24T22:18:09.226816Z",
     "start_time": "2021-05-24T22:18:07.323938Z"
    }
   },
   "outputs": [],
   "source": [
    "def feature_graph(model, X_train, X_test, y_train=y_train, y_test=y_test):    \n",
    "    model = model\n",
    "    model.fit(X_train, y_train)\n",
    "    feature_importance = pd.Series(model.feature_importances_, index=X_train.columns).sort_values(ascending=True)\n",
    "    model_accuracy(model, X_train=X_train, y_train=y_train, X_test=X_test, y_test=y_test)\n",
    "    ax = feature_importance.plot(kind='barh', figsize=(8,6))\n",
    "\n",
    "rf_model = RandomForestClassifier(**rf_grid_search.best_params_)\n",
    "    \n",
    "feature_graph(rf_model, X_train, X_test)\n"
   ]
  },
  {
   "cell_type": "code",
   "execution_count": null,
   "metadata": {
    "ExecuteTime": {
     "end_time": "2021-05-24T22:08:21.787054Z",
     "start_time": "2021-05-24T22:08:20.469476Z"
    },
    "scrolled": false
   },
   "outputs": [],
   "source": [
    "X_train_coeff = X_train.drop(['TotalGold', 'TotalExperience', 'AvgLevel'],axis=1)\n",
    "X_test_coeff = X_test.drop(['TotalGold', 'TotalExperience', 'AvgLevel'],axis=1)\n",
    "\n",
    "feature_graph(rf_model, X_train_coeff, X_test_coeff)"
   ]
  },
  {
   "cell_type": "markdown",
   "metadata": {},
   "source": [
    "## XGBoost"
   ]
  },
  {
   "cell_type": "code",
   "execution_count": null,
   "metadata": {
    "ExecuteTime": {
     "end_time": "2021-05-24T22:09:08.075209Z",
     "start_time": "2021-05-24T22:09:07.458407Z"
    }
   },
   "outputs": [],
   "source": [
    "# Initiate and train XGB model\n",
    "model_xgb = XGBClassifier()\n",
    "model_xgb.fit(X_train, y_train)\n",
    "\n",
    "model_accuracy(model_xgb)"
   ]
  },
  {
   "cell_type": "code",
   "execution_count": null,
   "metadata": {
    "ExecuteTime": {
     "end_time": "2021-05-24T22:09:12.710722Z",
     "start_time": "2021-05-24T22:09:08.078208Z"
    }
   },
   "outputs": [],
   "source": [
    "cross_val_check('XGBoost', model_xgb)"
   ]
  },
  {
   "cell_type": "code",
   "execution_count": null,
   "metadata": {
    "ExecuteTime": {
     "end_time": "2021-05-24T22:09:12.725718Z",
     "start_time": "2021-05-24T22:09:12.713724Z"
    }
   },
   "outputs": [],
   "source": [
    "param_grid = {\n",
    "    'learning_rate': [0.0001, 0.001, 0.01, 0.1],\n",
    "    'max_depth': [3, 5, 7, 9],\n",
    "    'min_child_weight': [1, 2],\n",
    "    'subsample': [0.5, 0.7, 1],\n",
    "    'n_estimators': [10, 100, 1000]}\n"
   ]
  },
  {
   "cell_type": "code",
   "execution_count": null,
   "metadata": {
    "ExecuteTime": {
     "end_time": "2021-05-24T22:09:38.849341Z",
     "start_time": "2021-05-24T22:09:12.728717Z"
    }
   },
   "outputs": [],
   "source": [
    "run = False\n",
    "\n",
    "if run == True:\n",
    "\n",
    "    model_xgb_hp = XGBClassifier()\n",
    "\n",
    "    xgb_grid_search = GridSearchCV(model_xgb_hp, param_grid, scoring='accuracy', cv=None, n_jobs=-1, verbose=100)\n",
    "    xgb_grid_search.fit(X_train, y_train)\n",
    "\n",
    "    model_accuracy(xgb_grid_search)\n",
    "    \n",
    "    xgb_best_parameters = xgb_grid_search.best_params_\n",
    "\n",
    "    print(f\"Cross Validated Score: {xgb_grid_search.best_score_ :.2%}\")\n",
    "    print(\"\")\n",
    "    print(f\"Optimal Parameters: {xgb_grid_search.best_params_}\")\n",
    "    \n",
    "else:\n",
    "    xgb_best_parameters = {\n",
    "    'learning_rate': 0.01,\n",
    "    'max_depth': 3,\n",
    "    'min_child_weight': 1,\n",
    "    'subsample': 0.5,\n",
    "    'n_estimators': 100\n",
    "    }\n",
    "\n",
    "    model_xgb_hp = XGBClassifier(**xgb_best_parameters)\n",
    "    model_xgb_hp.fit(X_train, y_train)\n",
    "    model_accuracy(model_xgb_hp)"
   ]
  },
  {
   "cell_type": "code",
   "execution_count": null,
   "metadata": {
    "ExecuteTime": {
     "end_time": "2021-05-24T22:09:45.003374Z",
     "start_time": "2021-05-24T22:09:44.186633Z"
    }
   },
   "outputs": [],
   "source": [
    "evaluate_classification(model_xgb_hp, X_test, y_test)"
   ]
  },
  {
   "cell_type": "code",
   "execution_count": null,
   "metadata": {
    "ExecuteTime": {
     "end_time": "2021-05-24T22:09:52.045953Z",
     "start_time": "2021-05-24T22:09:45.861951Z"
    }
   },
   "outputs": [],
   "source": [
    "feature_graph(model_xgb_hp, X_train, X_test)"
   ]
  },
  {
   "cell_type": "code",
   "execution_count": null,
   "metadata": {
    "ExecuteTime": {
     "end_time": "2021-05-24T22:09:57.743997Z",
     "start_time": "2021-05-24T22:09:52.048951Z"
    }
   },
   "outputs": [],
   "source": [
    "X_train_feat_xgb = X_train.drop(['TotalGold', 'TotalExperience', 'AvgLevel'],axis=1)\n",
    "X_test_feat_xgb = X_test.drop(['TotalGold', 'TotalExperience', 'AvgLevel'],axis=1)\n",
    "\n",
    "feature_graph(model_xgb_hp, X_train_feat_xgb, X_test_feat_xgb)"
   ]
  },
  {
   "cell_type": "code",
   "execution_count": null,
   "metadata": {},
   "outputs": [],
   "source": [
    "X_train"
   ]
  },
  {
   "cell_type": "code",
   "execution_count": null,
   "metadata": {},
   "outputs": [],
   "source": []
  },
  {
   "cell_type": "code",
   "execution_count": null,
   "metadata": {},
   "outputs": [],
   "source": []
  },
  {
   "cell_type": "code",
   "execution_count": null,
   "metadata": {},
   "outputs": [],
   "source": []
  },
  {
   "cell_type": "code",
   "execution_count": null,
   "metadata": {},
   "outputs": [],
   "source": []
  },
  {
   "cell_type": "code",
   "execution_count": null,
   "metadata": {},
   "outputs": [],
   "source": []
  },
  {
   "cell_type": "code",
   "execution_count": null,
   "metadata": {},
   "outputs": [],
   "source": []
  },
  {
   "cell_type": "code",
   "execution_count": null,
   "metadata": {},
   "outputs": [],
   "source": []
  },
  {
   "cell_type": "code",
   "execution_count": null,
   "metadata": {},
   "outputs": [],
   "source": []
  },
  {
   "cell_type": "markdown",
   "metadata": {},
   "source": [
    "# iNTERPRET"
   ]
  },
  {
   "cell_type": "markdown",
   "metadata": {},
   "source": [
    "Evaluate how well your work solves the stated business problem.\n",
    "\n",
    "***\n",
    "Questions to consider:\n",
    "* How do you interpret the results?\n",
    "* How well does your model fit your data? How much better is this than your baseline model?\n",
    "* How confident are you that your results would generalize beyond the data you have?\n",
    "* How confident are you that this model would benefit the business if put into use?\n",
    "***"
   ]
  },
  {
   "cell_type": "code",
   "execution_count": null,
   "metadata": {},
   "outputs": [],
   "source": []
  },
  {
   "cell_type": "markdown",
   "metadata": {},
   "source": [
    "# CONCLUSIONS & RECOMMENDATIONS"
   ]
  },
  {
   "cell_type": "markdown",
   "metadata": {},
   "source": [
    "Provide your conclusions about the work you've done, including any limitations or next steps.\n",
    "\n",
    "***\n",
    "Questions to consider:\n",
    "* What would you recommend the business do as a result of this work?\n",
    "* What are some reasons why your analysis might not fully solve the business problem?\n",
    "* What else could you do in the future to improve this project?\n",
    "***"
   ]
  },
  {
   "cell_type": "markdown",
   "metadata": {},
   "source": [
    "# SCRATCH"
   ]
  },
  {
   "cell_type": "code",
   "execution_count": null,
   "metadata": {},
   "outputs": [],
   "source": []
  },
  {
   "cell_type": "markdown",
   "metadata": {},
   "source": [
    "## Grid Search Logistic Regression"
   ]
  },
  {
   "cell_type": "code",
   "execution_count": null,
   "metadata": {
    "ExecuteTime": {
     "end_time": "2021-05-21T18:37:48.861083Z",
     "start_time": "2021-05-21T18:37:32.659Z"
    }
   },
   "outputs": [],
   "source": [
    "def print_metrics(labels, preds):\n",
    "    print(\"Precision Score: {}\".format(precision_score(labels, preds)))\n",
    "    print(\"Recall Score: {}\".format(recall_score(labels, preds)))\n",
    "    print(\"Accuracy Score: {}\".format(accuracy_score(labels, preds)))\n",
    "    print(\"F1 Score: {}\".format(f1_score(labels, preds)))"
   ]
  },
  {
   "cell_type": "code",
   "execution_count": null,
   "metadata": {
    "ExecuteTime": {
     "end_time": "2021-05-21T18:37:48.863082Z",
     "start_time": "2021-05-21T18:37:32.667Z"
    }
   },
   "outputs": [],
   "source": [
    "from sklearn.metrics import accuracy_score, confusion_matrix, classification_report, precision_score, recall_score, f1_score\n",
    "\n",
    "model = LogisticRegression()\n",
    "\n",
    "log_param_grid = {\n",
    "    'solver': ['newton-cg', 'lbfgs', 'liblinear'],\n",
    "    'penalty': ['l2'],\n",
    "    'C': [100, 10, 1.0, 0.1, 0.01, 1e12],\n",
    "    'class_weight': [None, 'balanced'],\n",
    "    'max_iter': [10000],\n",
    "    'fit_intercept': [False] }\n",
    "\n",
    "# define grid search\n",
    "grid_log = GridSearchCV(model, log_param_grid, scoring='accuracy', cv=5, n_jobs=-1)\n",
    "grid_log.fit(X_train_tf, y_train)\n",
    "\n",
    "best_parameters = grid_log.best_params_\n",
    "\n",
    "print('Grid Search found the following optimal parameters: ')\n",
    "for param_name in sorted(best_parameters.keys()):\n",
    "    print('%s: %r' % (param_name, best_parameters[param_name]))\n",
    "\n",
    "training_preds_log = grid_log.predict(X_train_tf)\n",
    "test_preds_log = grid_log.predict(X_test_tf)\n",
    "training_accuracy_log = accuracy_score(y_train, training_preds_log)\n",
    "test_accuracy_log = accuracy_score(y_test, test_preds_log)\n",
    "\n",
    "print('')\n",
    "print('Training Accuracy: {:.4}%'.format(training_accuracy_log * 100))\n",
    "print('Testing Accuracy: {:.4}%'.format(test_accuracy_log * 100))"
   ]
  },
  {
   "cell_type": "code",
   "execution_count": null,
   "metadata": {
    "ExecuteTime": {
     "end_time": "2021-05-21T18:37:48.865082Z",
     "start_time": "2021-05-21T18:37:32.675Z"
    }
   },
   "outputs": [],
   "source": [
    "# print_metrics(y_test, test_preds_log)"
   ]
  },
  {
   "cell_type": "code",
   "execution_count": null,
   "metadata": {
    "ExecuteTime": {
     "end_time": "2021-05-21T18:37:48.867080Z",
     "start_time": "2021-05-21T18:37:32.681Z"
    }
   },
   "outputs": [],
   "source": [
    "# test_preds_log"
   ]
  },
  {
   "cell_type": "code",
   "execution_count": null,
   "metadata": {
    "ExecuteTime": {
     "end_time": "2021-05-21T18:37:48.868081Z",
     "start_time": "2021-05-21T18:37:32.688Z"
    }
   },
   "outputs": [],
   "source": [
    "# import warnings\n",
    "# warnings.filterwarnings('ignore')\n",
    "\n",
    "# from sklearn.model_selection import GridSearchCV, RandomizedSearchCV"
   ]
  },
  {
   "cell_type": "code",
   "execution_count": null,
   "metadata": {
    "ExecuteTime": {
     "end_time": "2021-05-21T18:37:48.870080Z",
     "start_time": "2021-05-21T18:37:32.694Z"
    }
   },
   "outputs": [],
   "source": [
    "\n",
    "# ## make gridseach\n",
    "# log_reg = LogisticRegression()\n",
    "# params = {'C':[0.001, 0.01, 0.1, 1, 10, 100,1e6,1e12],\n",
    "#         'penalty':['l1','l2','elastic_net'],\n",
    "#         'solver':[\"liblinear\", \"newton-cg\", \"lbfgs\", \"sag\",\"saga\"],}\n",
    "# gridsearch = GridSearchCV(log_reg,params,)\n",
    "# gridsearch"
   ]
  },
  {
   "cell_type": "code",
   "execution_count": null,
   "metadata": {
    "ExecuteTime": {
     "end_time": "2021-05-21T18:37:48.872080Z",
     "start_time": "2021-05-21T18:37:32.702Z"
    }
   },
   "outputs": [],
   "source": [
    "# ## fit grid and show best_params\n",
    "# gridsearch.fit(X_train_tf, y_train)\n",
    "# gridsearch.best_params_"
   ]
  },
  {
   "cell_type": "code",
   "execution_count": null,
   "metadata": {
    "ExecuteTime": {
     "end_time": "2021-05-21T18:37:48.874079Z",
     "start_time": "2021-05-21T18:37:32.710Z"
    }
   },
   "outputs": [],
   "source": [
    "# ## get best_esinmtaor_\n",
    "# gridsearch.best_estimator_"
   ]
  },
  {
   "cell_type": "code",
   "execution_count": null,
   "metadata": {},
   "outputs": [],
   "source": []
  },
  {
   "cell_type": "code",
   "execution_count": null,
   "metadata": {},
   "outputs": [],
   "source": [
    "from sklearn.metrics import roc_curve, auc\n",
    "\n",
    "# Calculate the probability scores of each point in the training set\n",
    "y_train_score = model_log.decision_function(X_train)\n",
    "\n",
    "# Calculate the fpr, tpr, and thresholds for the training set\n",
    "train_fpr, train_tpr, thresholds = roc_curve(y_train, y_train_score)\n",
    "\n",
    "# Calculate the probability scores of each point in the test set\n",
    "y_score = model_log.decision_function(X_test)\n",
    "\n",
    "# Calculate the fpr, tpr, and thresholds for the test set\n",
    "fpr, tpr, thresholds = roc_curve(y_test, y_score)"
   ]
  },
  {
   "cell_type": "markdown",
   "metadata": {},
   "source": [
    "TO DO\n",
    "\n",
    "get a better understanding of above\n",
    "change graph below, add AUC to legend and show which line is which\n",
    "make axes less numbers"
   ]
  },
  {
   "cell_type": "code",
   "execution_count": null,
   "metadata": {
    "ExecuteTime": {
     "end_time": "2021-05-21T18:37:42.862820Z",
     "start_time": "2021-05-21T18:37:41.993948Z"
    }
   },
   "outputs": [],
   "source": [
    "# Seaborn's beautiful styling\n",
    "# sns.set_style('darkgrid', {'axes.facecolor': '0.9'})\n",
    "\n",
    "# ROC curve for training set\n",
    "plt.figure(figsize=(8, 6))\n",
    "lw = 2\n",
    "plt.plot(train_fpr, train_tpr, color='darkorange',\n",
    "         lw=lw, label='ROC curve')\n",
    "plt.plot(fpr, tpr, color='darkorange',\n",
    "         lw=lw, label='ROC curve')\n",
    "plt.plot([0, 1], [0, 1], color='navy', lw=lw, linestyle='--')\n",
    "plt.xlim([0.0, 1.0])\n",
    "plt.ylim([0.0, 1.05])\n",
    "plt.yticks([i/20.0 for i in range(21)])\n",
    "plt.xticks([i/20.0 for i in range(21)])\n",
    "plt.xlabel('False Positive Rate')\n",
    "plt.ylabel('True Positive Rate')\n",
    "plt.title('Receiver operating characteristic (ROC) Curve for Training Set')\n",
    "plt.legend(loc='lower right')\n",
    "print('AUC: {}'.format(auc(train_fpr, train_tpr)))\n",
    "plt.show()"
   ]
  },
  {
   "cell_type": "code",
   "execution_count": null,
   "metadata": {
    "ExecuteTime": {
     "end_time": "2021-05-21T18:37:43.677635Z",
     "start_time": "2021-05-21T18:37:42.866805Z"
    },
    "scrolled": true
   },
   "outputs": [],
   "source": [
    "# ROC curve for test set\n",
    "plt.figure(figsize=(10, 8))\n",
    "lw = 2\n",
    "plt.plot(fpr, tpr, color='darkorange',\n",
    "         lw=lw, label='ROC curve')\n",
    "plt.plot([0, 1], [0, 1], color='navy', lw=lw, linestyle='--')\n",
    "plt.xlim([0.0, 1.0])\n",
    "plt.ylim([0.0, 1.05])\n",
    "plt.yticks([i/20.0 for i in range(21)])\n",
    "plt.xticks([i/20.0 for i in range(21)])\n",
    "plt.xlabel('False Positive Rate')\n",
    "plt.ylabel('True Positive Rate')\n",
    "plt.title('Receiver operating characteristic (ROC) Curve for Test Set')\n",
    "plt.legend(loc='lower right')\n",
    "print('Test AUC: {}'.format(auc(fpr, tpr)))\n",
    "print('')\n",
    "plt.show()"
   ]
  },
  {
   "cell_type": "markdown",
   "metadata": {},
   "source": [
    "### 100 times"
   ]
  },
  {
   "cell_type": "code",
   "execution_count": null,
   "metadata": {},
   "outputs": [],
   "source": []
  },
  {
   "cell_type": "code",
   "execution_count": null,
   "metadata": {},
   "outputs": [],
   "source": [
    "run = False\n",
    "\n",
    "iterations = 1000\n",
    "\n",
    "coef_1000 = (pd.Series(model_log.coef_.flatten(), index=X_train_coeff.columns).sort_values(ascending=True)) * 0\n",
    "\n",
    "while iterations != 0 and run == True:\n",
    "    X_train_tf, X_test_tf, y_train, y_test = tt_split_df(nogold_noexp_no_avglvl_df)\n",
    "    model_log = LogisticRegression()\n",
    "    model_log.fit(X_train_tf, y_train)\n",
    "    coef_lr = pd.Series(model_log.coef_.flatten(), index=X_train_tf.columns).sort_values(ascending=True)\n",
    "    coef_1000 += coef_lr\n",
    "    iterations = iterations - 1\n",
    "\n",
    "if run == False: \n",
    "    coef_1000 = pd.Series([-0.22775933, -0.10250555, -0.07621391, -0.03145217,  0.00834943,\n",
    "        0.01678342,  0.02172336,  0.03152094,  0.09352357,  0.11534489,\n",
    "        0.27156569,  0.28040027,  0.33411204,  1.01165377])\n",
    "    coef_1000.index = ['dragon_Red', 'herald_Red', 'firstBlood_Red', 'dragon_No Dragon',\n",
    "       'herald_No Herald', 'WardsPlaced', 'WardsDestroyed', 'Assists',\n",
    "       'TowersDestroyed', 'herald_Blue', 'TotalJungleMinionsKilled',\n",
    "       'dragon_Blue', 'TotalMinionsKilled', 'Kills']"
   ]
  },
  {
   "cell_type": "code",
   "execution_count": null,
   "metadata": {},
   "outputs": [],
   "source": [
    "coef_1000"
   ]
  },
  {
   "cell_type": "code",
   "execution_count": null,
   "metadata": {},
   "outputs": [],
   "source": [
    "coef_1000 = coef_1000.sort_values(ascending=True)\n",
    "\n",
    "ax = coef_1000.plot(kind='barh', figsize=(8,6))"
   ]
  },
  {
   "cell_type": "code",
   "execution_count": null,
   "metadata": {
    "ExecuteTime": {
     "end_time": "2021-05-21T19:09:35.275831Z",
     "start_time": "2021-05-21T19:09:34.726538Z"
    }
   },
   "outputs": [],
   "source": [
    "odds = np.exp(coef_1000)\n",
    "ax = odds.plot(kind='barh', figsize=(8,6))\n",
    "ax.axvline(1)\n",
    "# np.exp(coef_lr)"
   ]
  },
  {
   "cell_type": "markdown",
   "metadata": {},
   "source": [
    "For every 1 sd increase in Kills, the odds that blue wins is are 3.0 x as large as the odds that they lost"
   ]
  },
  {
   "cell_type": "code",
   "execution_count": null,
   "metadata": {
    "ExecuteTime": {
     "end_time": "2021-05-21T19:09:38.191978Z",
     "start_time": "2021-05-21T19:09:37.691470Z"
    },
    "scrolled": false
   },
   "outputs": [],
   "source": [
    "prob = odds/(1+odds)\n",
    "prob\n",
    "\n",
    "ax = prob.plot(kind='barh', figsize=(8,6))"
   ]
  },
  {
   "cell_type": "code",
   "execution_count": null,
   "metadata": {},
   "outputs": [],
   "source": []
  },
  {
   "cell_type": "code",
   "execution_count": null,
   "metadata": {
    "ExecuteTime": {
     "end_time": "2021-05-24T15:09:02.242090Z",
     "start_time": "2021-05-24T15:09:02.168114Z"
    }
   },
   "outputs": [],
   "source": [
    "def tt_split_df(df):\n",
    "    \n",
    "    y = df['blueWins']\n",
    "    X = df.drop(columns=['blueWins'], axis=1)\n",
    "    \n",
    "    X_train, X_test, y_train, y_test = train_test_split(X, y, test_size=0.3)\n",
    "    \n",
    "    X_train_tf = X_train.copy()\n",
    "    X_test_tf = X_test.copy()\n",
    "    \n",
    "    categoricals = X.select_dtypes('O').columns\n",
    "    numericals = X.select_dtypes('number').columns\n",
    "    \n",
    "    encoder = OneHotEncoder(sparse=False,drop='if_binary')\n",
    "    train_categoricals = encoder.fit_transform(X_train_tf[categoricals])\n",
    "    test_categoricals = encoder.transform(X_test_tf[categoricals])\n",
    "    \n",
    "    train_categoricals_df = pd.DataFrame(train_categoricals,\n",
    "                                     columns=encoder.get_feature_names(categoricals))\n",
    "\n",
    "    test_categoricals_df =  pd.DataFrame(test_categoricals,\n",
    "                                     columns=encoder.get_feature_names(categoricals))\n",
    "    train_numericals_df = pd.DataFrame(scaler.fit_transform(X_train_tf[numericals]),\n",
    "                              columns=numericals)\n",
    "\n",
    "    test_numericals_df = pd.DataFrame(scaler.transform(X_test_tf[numericals]),\n",
    "                              columns=numericals)\n",
    "    \n",
    "    X_train_tf = pd.concat([train_numericals_df, train_categoricals_df], axis=1)\n",
    "    X_test_tf = pd.concat([test_numericals_df, test_categoricals_df], axis=1)\n",
    "    \n",
    "    return X_train_tf, X_test_tf, y_train, y_test\n",
    "\n",
    "# tt_split_df(diff_df)\n",
    "\n",
    "X_train_coeff, X_test_coeff, y_train_coeff, y_test_coeff = tt_split_df(df)"
   ]
  },
  {
   "cell_type": "code",
   "execution_count": null,
   "metadata": {
    "ExecuteTime": {
     "end_time": "2021-05-24T15:09:02.257088Z",
     "start_time": "2021-05-24T15:09:02.245090Z"
    }
   },
   "outputs": [],
   "source": [
    "# X_train, X_test, y_train, y_test "
   ]
  },
  {
   "cell_type": "code",
   "execution_count": null,
   "metadata": {
    "ExecuteTime": {
     "end_time": "2021-05-20T18:33:36.492276Z",
     "start_time": "2021-05-20T18:33:36.483279Z"
    }
   },
   "outputs": [],
   "source": []
  },
  {
   "cell_type": "code",
   "execution_count": null,
   "metadata": {
    "ExecuteTime": {
     "end_time": "2021-05-24T15:09:02.660956Z",
     "start_time": "2021-05-24T15:09:02.260086Z"
    },
    "scrolled": true
   },
   "outputs": [],
   "source": [
    "# diff_nogold_df = diff_df.drop(['TotalGold'],axis=1)\n",
    "\n",
    "# X_train_tf, X_test_tf, y_train, y_test = tt_split_df(diff_df)\n",
    "\n",
    "\n",
    "coef_lr = pd.Series(model_log.coef_.flatten(), index=X_train_coeff.columns).sort_values(ascending=True)\n",
    "\n",
    "ax = coef_lr.plot(kind='barh', figsize=(8,6))"
   ]
  },
  {
   "cell_type": "code",
   "execution_count": null,
   "metadata": {},
   "outputs": [],
   "source": []
  },
  {
   "cell_type": "code",
   "execution_count": null,
   "metadata": {
    "ExecuteTime": {
     "end_time": "2021-05-24T15:09:02.722936Z",
     "start_time": "2021-05-24T15:09:02.662955Z"
    }
   },
   "outputs": [],
   "source": [
    "nogold_df = df.drop(['TotalGold'],axis=1)\n",
    "\n",
    "X_train_coeff, X_test_coeff, y_train_coeff, y_test_coeff = tt_split_df(nogold_df)"
   ]
  },
  {
   "cell_type": "code",
   "execution_count": null,
   "metadata": {
    "ExecuteTime": {
     "end_time": "2021-05-24T15:09:03.080822Z",
     "start_time": "2021-05-24T15:09:02.724936Z"
    }
   },
   "outputs": [],
   "source": [
    "model_log = LogisticRegression()\n",
    "\n",
    "model_log.fit(X_train_coeff, y_train_coeff)\n",
    "\n",
    "coef_lr = pd.Series(model_log.coef_.flatten(), index=X_train_coeff.columns).sort_values(ascending=True)\n",
    "\n",
    "ax = coef_lr.plot(kind='barh', figsize=(8,6))"
   ]
  },
  {
   "cell_type": "code",
   "execution_count": null,
   "metadata": {
    "ExecuteTime": {
     "end_time": "2021-05-24T15:09:03.142803Z",
     "start_time": "2021-05-24T15:09:03.083821Z"
    }
   },
   "outputs": [],
   "source": [
    "nogold_noexp_df = df.drop(['TotalGold', 'TotalExperience'],axis=1)\n",
    "\n",
    "X_train_coeff, X_test_coeff, y_train_coeff, y_test_coeff = tt_split_df(nogold_noexp_df)"
   ]
  },
  {
   "cell_type": "code",
   "execution_count": null,
   "metadata": {
    "ExecuteTime": {
     "end_time": "2021-05-24T15:09:03.484692Z",
     "start_time": "2021-05-24T15:09:03.144802Z"
    }
   },
   "outputs": [],
   "source": [
    "model_log = LogisticRegression()\n",
    "\n",
    "model_log.fit(X_train_coeff, y_train_coeff)\n",
    "\n",
    "coef_lr = pd.Series(model_log.coef_.flatten(), index=X_train_coeff.columns).sort_values(ascending=True)\n",
    "\n",
    "ax = coef_lr.plot(kind='barh', figsize=(8,6))"
   ]
  },
  {
   "cell_type": "code",
   "execution_count": null,
   "metadata": {
    "ExecuteTime": {
     "end_time": "2021-05-24T15:09:03.545675Z",
     "start_time": "2021-05-24T15:09:03.486692Z"
    }
   },
   "outputs": [],
   "source": [
    "nogold_noexp_no_avglvl_df = df.drop(['TotalGold', 'TotalExperience', 'AvgLevel'],axis=1)\n",
    "\n",
    "X_train_coeff, X_test_coeff, y_train_coeff, y_test_coeff = tt_split_df(nogold_noexp_no_avglvl_df)"
   ]
  },
  {
   "cell_type": "code",
   "execution_count": null,
   "metadata": {},
   "outputs": [],
   "source": []
  },
  {
   "cell_type": "code",
   "execution_count": null,
   "metadata": {
    "ExecuteTime": {
     "end_time": "2021-05-24T15:09:03.885838Z",
     "start_time": "2021-05-24T15:09:03.554669Z"
    }
   },
   "outputs": [],
   "source": [
    "\n",
    "model_log = LogisticRegression()\n",
    "\n",
    "model_log.fit(X_train_coeff, y_train_coeff)\n",
    "\n",
    "coef_lr = pd.Series(model_log.coef_.flatten(), index=X_train_coeff.columns).sort_values(ascending=True)\n",
    "\n",
    "ax = coef_lr.plot(kind='barh', figsize=(8,6))"
   ]
  },
  {
   "cell_type": "markdown",
   "metadata": {},
   "source": [
    "### 100 times"
   ]
  },
  {
   "cell_type": "code",
   "execution_count": null,
   "metadata": {},
   "outputs": [],
   "source": []
  },
  {
   "cell_type": "code",
   "execution_count": null,
   "metadata": {
    "ExecuteTime": {
     "end_time": "2021-05-24T15:09:03.901832Z",
     "start_time": "2021-05-24T15:09:03.888837Z"
    }
   },
   "outputs": [],
   "source": [
    "run = False\n",
    "\n",
    "iterations = 1000\n",
    "\n",
    "coef_1000 = (pd.Series(model_log.coef_.flatten(), index=X_train_coeff.columns).sort_values(ascending=True)) * 0\n",
    "\n",
    "while iterations != 0 and run == True:\n",
    "    X_train_tf, X_test_tf, y_train, y_test = tt_split_df(nogold_noexp_no_avglvl_df)\n",
    "    model_log = LogisticRegression()\n",
    "    model_log.fit(X_train_tf, y_train)\n",
    "    coef_lr = pd.Series(model_log.coef_.flatten(), index=X_train_tf.columns).sort_values(ascending=True)\n",
    "    coef_1000 += coef_lr\n",
    "    iterations = iterations - 1\n",
    "\n",
    "if run == False: \n",
    "    coef_1000 = pd.Series([-0.22775933, -0.10250555, -0.07621391, -0.03145217,  0.00834943,\n",
    "        0.01678342,  0.02172336,  0.03152094,  0.09352357,  0.11534489,\n",
    "        0.27156569,  0.28040027,  0.33411204,  1.01165377])\n",
    "    coef_1000.index = ['dragon_Red', 'herald_Red', 'firstBlood_Red', 'dragon_No Dragon',\n",
    "       'herald_No Herald', 'WardsPlaced', 'WardsDestroyed', 'Assists',\n",
    "       'TowersDestroyed', 'herald_Blue', 'TotalJungleMinionsKilled',\n",
    "       'dragon_Blue', 'TotalMinionsKilled', 'Kills']"
   ]
  },
  {
   "cell_type": "code",
   "execution_count": null,
   "metadata": {
    "ExecuteTime": {
     "end_time": "2021-05-24T15:09:03.917844Z",
     "start_time": "2021-05-24T15:09:03.904831Z"
    }
   },
   "outputs": [],
   "source": [
    "coef_1000"
   ]
  },
  {
   "cell_type": "code",
   "execution_count": null,
   "metadata": {
    "ExecuteTime": {
     "end_time": "2021-05-24T15:09:04.275727Z",
     "start_time": "2021-05-24T15:09:03.919826Z"
    }
   },
   "outputs": [],
   "source": [
    "coef_1000 = coef_1000.sort_values(ascending=True)\n",
    "\n",
    "ax = coef_1000.plot(kind='barh', figsize=(8,6))"
   ]
  },
  {
   "cell_type": "code",
   "execution_count": null,
   "metadata": {
    "ExecuteTime": {
     "end_time": "2021-05-24T15:09:04.616603Z",
     "start_time": "2021-05-24T15:09:04.278712Z"
    }
   },
   "outputs": [],
   "source": [
    "\n",
    "\n",
    "odds = np.exp(coef_1000)\n",
    "ax = odds.plot(kind='barh', figsize=(8,6))\n",
    "ax.axvline(1)\n",
    "# np.exp(coef_lr)"
   ]
  },
  {
   "cell_type": "markdown",
   "metadata": {},
   "source": [
    "For every 1 sd increase in Kills, the odds that blue wins is are 3.0 x as large as the odds that they lost"
   ]
  },
  {
   "cell_type": "code",
   "execution_count": null,
   "metadata": {
    "ExecuteTime": {
     "end_time": "2021-05-24T15:09:04.958494Z",
     "start_time": "2021-05-24T15:09:04.619604Z"
    },
    "scrolled": true
   },
   "outputs": [],
   "source": [
    "prob = odds/(1+odds)\n",
    "prob\n",
    "\n",
    "ax = prob.plot(kind='barh', figsize=(8,6))"
   ]
  },
  {
   "cell_type": "code",
   "execution_count": null,
   "metadata": {},
   "outputs": [],
   "source": []
  },
  {
   "cell_type": "code",
   "execution_count": null,
   "metadata": {
    "ExecuteTime": {
     "end_time": "2021-05-24T19:03:30.254426Z",
     "start_time": "2021-05-24T19:03:30.205442Z"
    }
   },
   "outputs": [],
   "source": [
    "def tt_split_df(df):\n",
    "    \n",
    "    y = df['blueWins']\n",
    "    X = df.drop(columns=['blueWins'], axis=1)\n",
    "    \n",
    "    X_train, X_test, y_train, y_test = train_test_split(X, y, test_size=0.3)\n",
    "    \n",
    "    X_train_tf = X_train.copy()\n",
    "    X_test_tf = X_test.copy()\n",
    "    \n",
    "    categoricals = X.select_dtypes('O').columns\n",
    "    numericals = X.select_dtypes('number').columns\n",
    "    \n",
    "    encoder = OneHotEncoder(sparse=False,drop='if_binary')\n",
    "    train_categoricals = encoder.fit_transform(X_train_tf[categoricals])\n",
    "    test_categoricals = encoder.transform(X_test_tf[categoricals])\n",
    "    \n",
    "    train_categoricals_df = pd.DataFrame(train_categoricals,\n",
    "                                     columns=encoder.get_feature_names(categoricals))\n",
    "\n",
    "    test_categoricals_df =  pd.DataFrame(test_categoricals,\n",
    "                                     columns=encoder.get_feature_names(categoricals))\n",
    "    train_numericals_df = pd.DataFrame(scaler.fit_transform(X_train_tf[numericals]),\n",
    "                              columns=numericals)\n",
    "\n",
    "    test_numericals_df = pd.DataFrame(scaler.transform(X_test_tf[numericals]),\n",
    "                              columns=numericals)\n",
    "    \n",
    "    X_train_tf = pd.concat([train_numericals_df, train_categoricals_df], axis=1)\n",
    "    X_test_tf = pd.concat([test_numericals_df, test_categoricals_df], axis=1)\n",
    "    \n",
    "    return X_train_tf, X_test_tf, y_train, y_test\n",
    "\n",
    "# tt_split_df(diff_df)\n",
    "\n",
    "X_train_coeff, X_test_coeff, y_train_coeff, y_test_coeff = tt_split_df(df.drop(['TotalGold', 'TotalExperience', 'AvgLevel'],axis=1))"
   ]
  },
  {
   "cell_type": "code",
   "execution_count": null,
   "metadata": {
    "ExecuteTime": {
     "end_time": "2021-05-24T19:05:49.080037Z",
     "start_time": "2021-05-24T19:05:49.028055Z"
    }
   },
   "outputs": [],
   "source": [
    "model = LogisticRegression()\n",
    "\n",
    "model.fit(X_train_coeff, y_train_coeff)\n",
    "\n",
    "training_preds = model.predict(X_train_coeff)\n",
    "test_preds = model.predict(X_test_coeff)\n",
    "\n",
    "# Accuracy of training and test sets\n",
    "training_accuracy = accuracy_score(y_train_coeff, training_preds)\n",
    "test_accuracy = accuracy_score(y_test_coeff, test_preds)\n",
    "\n",
    "print('Training Accuracy: {:.4}%'.format(training_accuracy * 100))\n",
    "print('Testing Accuracy: {:.4}%'.format(test_accuracy * 100))"
   ]
  },
  {
   "cell_type": "code",
   "execution_count": null,
   "metadata": {
    "ExecuteTime": {
     "end_time": "2021-05-24T19:06:48.843909Z",
     "start_time": "2021-05-24T19:06:48.495007Z"
    },
    "scrolled": true
   },
   "outputs": [],
   "source": [
    "coef_graph(X_train_coeff, y=y_train_coeff)"
   ]
  },
  {
   "cell_type": "code",
   "execution_count": null,
   "metadata": {},
   "outputs": [],
   "source": []
  },
  {
   "cell_type": "code",
   "execution_count": 48,
   "metadata": {
    "ExecuteTime": {
     "end_time": "2021-05-26T18:36:08.432120Z",
     "start_time": "2021-05-26T18:36:08.420125Z"
    },
    "scrolled": true
   },
   "outputs": [],
   "source": [
    "## Modified version of our simple eval function from Topic 25 Part 2 Study Group\n",
    "# - Added X_train and y_train for if we want scores for both train and test\n",
    "def evaluate_classification(model, X_test_tf,y_test,cmap='Blues',\n",
    "                            normalize='true',classes=None,figsize=(10,4),\n",
    "                            X_train = None, y_train = None,):\n",
    "\n",
    "    y_hat_test = model.predict(X_test_tf)\n",
    "    print(metrics.classification_report(y_test, y_hat_test,target_names=classes))\n",
    "    \n",
    "    fig,ax = plt.subplots(ncols=2,figsize=figsize)\n",
    "    metrics.plot_confusion_matrix(model, X_test_tf,y_test,cmap=cmap, \n",
    "                                  normalize=normalize,display_labels=classes,\n",
    "                                 ax=ax[0])\n",
    "    \n",
    "    curve = metrics.plot_roc_curve(model,X_test_tf,y_test,ax=ax[1])\n",
    "    curve.ax_.grid()\n",
    "    curve.ax_.plot([0,1],[0,1],ls=':')\n",
    "    fig.tight_layout()\n",
    "    plt.show()\n",
    "    \n",
    "    ## Add comparing Scores if X_train and y_train provided.\n",
    "    if (X_train is not None) & (y_train is not None):\n",
    "        print(f\"Training Score = {model.score(X_train,y_train):.2f}\")\n",
    "        print(f\"Test Score = {model.score(X_test_tf,y_test):.2f}\")\n",
    "        \n",
    "        \n",
    "        \n",
    "def evaluate_grid(grid,X_test,y_test,X_train=None,y_train=None):\n",
    "    print('The best parameters were:')\n",
    "    print(\"\\t\",grid.best_params_)\n",
    "    \n",
    "    model = grid.best_estimator_    \n",
    "\n",
    "    print('\\n[i] Classification Report')\n",
    "    evaluate_classification(model, X_test,y_test,X_train=X_train,y_train=y_train)"
   ]
  },
  {
   "cell_type": "markdown",
   "metadata": {},
   "source": [
    "# Plot coefficients function"
   ]
  },
  {
   "cell_type": "code",
   "execution_count": null,
   "metadata": {},
   "outputs": [],
   "source": [
    "def plot_coefficients(X_train, X_test, y_train=y_train, y_test=y_test):    \n",
    "    \n",
    "    model = LogisticRegression()\n",
    "    \n",
    "    params = {'C':[0.001,0.01,0.1,1,10,100,1000],\n",
    "        'penalty':['l1','l2','elastic_net'],\n",
    "        'solver':[\"liblinear\", \"newton-cg\", \"lbfgs\", \"sag\",\"saga\"]\n",
    "         }\n",
    "    \n",
    "    model_grid = GridSearchCV(model,params,scoring='accuracy')\n",
    "    model_grid.fit(X_train, y_train)\n",
    "    model = LogisticRegression(**model_grid.best_params_)\n",
    "    model.fit(X_train, y_train)\n",
    "\n",
    "    coeffs = pd.Series(model.coef_.flatten(), index=X_train.columns).sort_values(ascending=True)\n",
    "    model_accuracy(model, X_train=X_train, y_train=y_train, X_test=X_test, y_test=y_test)\n",
    "    ax = coeffs.plot(kind='barh', figsize=(8,6))"
   ]
  },
  {
   "cell_type": "code",
   "execution_count": null,
   "metadata": {},
   "outputs": [],
   "source": [
    "X_train_coeff_nokills = X_train.drop(['TotalGold', 'TotalExperience', 'AvgLevel', 'Kills'],axis=1)\n",
    "X_test_coeff_nokills = X_test.drop(['TotalGold', 'TotalExperience', 'AvgLevel', 'Kills'],axis=1)\n",
    "\n",
    "plot_coefficients(X_train_coeff_nokills, X_test_coeff_nokills)"
   ]
  }
 ],
 "metadata": {
  "kernelspec": {
   "display_name": "learn-env",
   "language": "python",
   "name": "learn-env"
  },
  "language_info": {
   "codemirror_mode": {
    "name": "ipython",
    "version": 3
   },
   "file_extension": ".py",
   "mimetype": "text/x-python",
   "name": "python",
   "nbconvert_exporter": "python",
   "pygments_lexer": "ipython3",
   "version": "3.8.5"
  },
  "toc": {
   "base_numbering": 1,
   "nav_menu": {},
   "number_sections": false,
   "sideBar": true,
   "skip_h1_title": false,
   "title_cell": "Table of Contents",
   "title_sidebar": "Contents",
   "toc_cell": false,
   "toc_position": {
    "height": "47.6px",
    "left": "1163px",
    "top": "110.8px",
    "width": "212px"
   },
   "toc_section_display": true,
   "toc_window_display": true
  },
  "varInspector": {
   "cols": {
    "lenName": 16,
    "lenType": 16,
    "lenVar": 40
   },
   "kernels_config": {
    "python": {
     "delete_cmd_postfix": "",
     "delete_cmd_prefix": "del ",
     "library": "var_list.py",
     "varRefreshCmd": "print(var_dic_list())"
    },
    "r": {
     "delete_cmd_postfix": ") ",
     "delete_cmd_prefix": "rm(",
     "library": "var_list.r",
     "varRefreshCmd": "cat(var_dic_list()) "
    }
   },
   "types_to_exclude": [
    "module",
    "function",
    "builtin_function_or_method",
    "instance",
    "_Feature"
   ],
   "window_display": false
  }
 },
 "nbformat": 4,
 "nbformat_minor": 2
}
